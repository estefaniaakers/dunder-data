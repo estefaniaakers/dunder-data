{
 "cells": [
  {
   "cell_type": "markdown",
   "metadata": {},
   "source": [
    "# 5. Create Your Own Data Analysis\n",
    "\n",
    "In this notebook, you will create your own data analysis by asking and answering your own questions about either a dataset that we have used thus far or a dataset of your choice. It is an important skill to be able to explore data completely on your own without a specific direction.\n",
    "\n",
    "### Steps\n",
    "* Choose one of the datasets in the data folder such as:\n",
    "    * bikes\n",
    "    * movie\n",
    "    * college\n",
    "    * employee\n",
    "    * flights\n",
    "    * mental_health\n",
    "    * nyc_deaths\n",
    "* Alternatively, choose any dataset you like. Some useful resources are:\n",
    "    * [Kaggle datasets][1]\n",
    "    * [data.world][2]\n",
    "    * Most large US cities, [NYC][3], [Denver][4], [US Gov't][5]\n",
    "* Read in a dataset, output the first few rows and examine the columns\n",
    "* Think of an interesting question that you would like answered\n",
    "* Edit the markdown below by writing your questions so that they have the same style as those in the rest of the notebooks\n",
    "* Answer your question directly below it\n",
    "* Continue asking and answering questions\n",
    "* Feel free to explore as many datasets as you wish\n",
    "* Use your own dataset if you have one - If you have a dataset that is easy to read into Pandas and would like to explore it, please do so.\n",
    "* It may help to begin with easier questions and gradually ask more difficult ones\n",
    "\n",
    "### Explore the limitations of your current knowledge\n",
    "I want to encourage you to ask questions for which you may not know the answer. We have not quite covered all the possible tools in Pandas so you will not be able to answer everything.\n",
    "\n",
    "[1]: https://www.kaggle.com/datasets\n",
    "[2]: https://data.world/\n",
    "[3]: https://opendata.cityofnewyork.us/\n",
    "[4]: https://www.denvergov.org/opendata\n",
    "[5]: https://www.data.gov/"
   ]
  },
  {
   "cell_type": "markdown",
   "metadata": {},
   "source": [
    "__________________________"
   ]
  },
  {
   "cell_type": "markdown",
   "metadata": {},
   "source": [
    "# Begin Asking and Answering Questions"
   ]
  },
  {
   "cell_type": "markdown",
   "metadata": {},
   "source": [
    "## Problem 1\n",
    "<span  style=\"color:green; font-size:16px\">Double-click this cell and replace this sentence with a question of your own</span>"
   ]
  },
  {
   "cell_type": "code",
   "execution_count": null,
   "metadata": {},
   "outputs": [],
   "source": []
  }
 ],
 "metadata": {
  "kernelspec": {
   "display_name": "Python 3",
   "language": "python",
   "name": "python3"
  },
  "language_info": {
   "codemirror_mode": {
    "name": "ipython",
    "version": 3
   },
   "file_extension": ".py",
   "mimetype": "text/x-python",
   "name": "python",
   "nbconvert_exporter": "python",
   "pygments_lexer": "ipython3",
   "version": "3.6.4"
  },
  "varInspector": {
   "cols": {
    "lenName": 16,
    "lenType": 16,
    "lenVar": 40
   },
   "kernels_config": {
    "python": {
     "delete_cmd_postfix": "",
     "delete_cmd_prefix": "del ",
     "library": "var_list.py",
     "varRefreshCmd": "print(var_dic_list())"
    },
    "r": {
     "delete_cmd_postfix": ") ",
     "delete_cmd_prefix": "rm(",
     "library": "var_list.r",
     "varRefreshCmd": "cat(var_dic_list()) "
    }
   },
   "types_to_exclude": [
    "module",
    "function",
    "builtin_function_or_method",
    "instance",
    "_Feature"
   ],
   "window_display": false
  }
 },
 "nbformat": 4,
 "nbformat_minor": 2
}
