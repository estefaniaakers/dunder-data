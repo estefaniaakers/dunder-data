{
 "cells": [
  {
   "cell_type": "markdown",
   "metadata": {},
   "source": [
    "# 01. Split-Apply-Combine Aggregation Basics\n",
    "\n",
    "### Objectives\n",
    "\n",
    "+ Define split, apply, combine and why it is useful for data analysis\n",
    "+ Know the definition of an aggregation\n",
    "+ Group by a single column\n",
    "+ Aggregate a single column\n",
    "+ Apply a single function\n",
    "+ Use this syntax: **`df.groupby('<grouping column>').agg({'<aggregating column>':'<aggregating function>'})`**\n",
    "+ For every group by aggregation, identify **grouping column**, **aggregating column**, and the **aggregating function**\n",
    "+ Remove the grouping column from the index with **`as_index=False`** or with **`reset_index`** method\n",
    "+ Know that the `groupby` method returns a **GroupBy** object\n",
    "\n",
    "### Prepare for this lesson\n",
    "+ Read intro to Hadley Wickham's paper on [split-apply-combine](http://vita.had.co.nz/papers/plyr.pdf) and skim the rest as it is heavy on R.\n",
    "+ Read the pandas [split apply combine documentation](http://pandas.pydata.org/pandas-docs/stable/groupby.html) stopping at 'transformation'.\n",
    "\n",
    "### Introduction\n",
    "In previous notebooks, when we called a method, such as **`sum`**, on our DataFrames, the action was performed to every single value in it. In this notebook, we will perform actions to distinct groupings within our data and not to the whole. Split-Apply-Combine is simply a recently popular term to describe this. You can also simply refer to it as **grouping** data.\n",
    "\n",
    "#### Examples of questions we can answer\n",
    "The split-apply-combine strategy can be used to answer questions such as:\n",
    "* What is the maximum salary for every department at a company\n",
    "* What is the average temperature and precipitation for every month for different cities\n",
    "* Find the top 5 best selling shirts at each store\n",
    "\n",
    "#### Definitions\n",
    "* **Split** - The data is split into distinct and independent groups based on each member meeting a certain criteria\n",
    "* **Apply** - Apply a function to each group independently\n",
    "* **Combine** - Combine the results of the function applied to each group back together to form a single dataset again\n",
    "\n",
    "![](images/split-apply-combine.png)"
   ]
  },
  {
   "cell_type": "code",
   "execution_count": null,
   "metadata": {},
   "outputs": [],
   "source": [
    "import pandas as pd\n",
    "import numpy as np\n",
    "pd.options.display.max_columns = None"
   ]
  },
  {
   "cell_type": "markdown",
   "metadata": {},
   "source": [
    "## NYC Leading Causes of Death Data\n",
    "To get started with split-apply-combine, we will use a small dataset containing the leading causes of death in NYC from 2007-2014. [This dataset][1] may be found at the [NYC Open Data][2] site.\n",
    "\n",
    "[1]: https://data.cityofnewyork.us/Health/New-York-City-Leading-Causes-of-Death/jb7j-dtam\n",
    "[2]: https://opendata.cityofnewyork.us/"
   ]
  },
  {
   "cell_type": "code",
   "execution_count": null,
   "metadata": {},
   "outputs": [],
   "source": [
    "nyc = pd.read_csv('../data/nyc_deaths.csv')\n",
    "nyc.head()"
   ]
  },
  {
   "cell_type": "markdown",
   "metadata": {},
   "source": [
    "## Grouping with the **`groupby`** method\n",
    "All of the tasks involving split-apply-combine involve the **`groupby`** method. It is responsible for splitting the data into independent groups, applying the desired function or functions to each group and combining the results back together.\n",
    "\n",
    "### Aggregation\n",
    "By far, the most common type of function to apply to each group is an aggregation function. As we have previously learned, to aggregate means to take all the values in the group and summarize them with a single value. Aggregations always return a single number for each group. Taking the sum, average, mean, min, max, standard deviation, count, etc.. are all examples of an aggregation. [See here for more.](https://en.wikipedia.org/wiki/Aggregate_function)\n",
    "\n",
    "\n",
    "## Synatx for using the `groupby` method\n",
    "The **`groupby`** method is not as straightforward to use as other Pandas. It will take more effort to learn how it works. And unfortunately, there are several different valid types of syntax that do the same the thing.\n",
    "\n",
    "### Must use method chaining with `groupby`\n",
    "Nearly all of the calls to the **`groupby`** must have another method chained to them to return a result.\n",
    "\n",
    "### Performing an Aggregation with `agg`\n",
    "To perform an aggregation, you must chain the **`agg`** method your call to **`groupby`**. The basic syntax will take the following form:\n",
    "\n",
    "**```\n",
    "df.groupby('<grouping column>').agg({'<aggregating column>':'<aggregating function>'})\n",
    "```**\n",
    "\n",
    "Let's see an example of this by finding the total number of deaths per year."
   ]
  },
  {
   "cell_type": "code",
   "execution_count": null,
   "metadata": {},
   "outputs": [],
   "source": [
    "nyc.groupby('Year').agg({'Deaths':'sum'})"
   ]
  },
  {
   "cell_type": "markdown",
   "metadata": {},
   "source": [
    "## Explanation\n",
    "Every **`groupby`** aggregation has three separate pieces:\n",
    "* **grouping column** - Every distinct value in this column forms its own group\n",
    "* **aggregating column** - This is column we apply a function to such that it aggregates (returns a single value). This column is usually numeric.\n",
    "* **aggregating function** - This is the function that is applied to the aggregating column.\n",
    "\n",
    "## Always identify each piece\n",
    "When facing a problem where you will be grouping and aggregating, it is important to identify each of the pieces. This will help you insert them in the right place of the syntax above. In the above example, we have:\n",
    "\n",
    "* **grouping column** - **`Year`**\n",
    "* **aggregating column** - **`Deaths`**\n",
    "* **aggregating function** - **`sum`**\n",
    "\n",
    "### Use string names for aggregation functions\n",
    "Pandas understands many string aggregation functions. Below are most of the available string names you can use. \n",
    "+ **`sum`**\n",
    "+ **`min`**\n",
    "+ **`max`**\n",
    "+ **`mean`**\n",
    "+ **`median`**\n",
    "+ **`std`**\n",
    "+ **`var`**\n",
    "+ **`count`** - count of non-missing values\n",
    "+ **`size`** - count of all elements\n",
    "+ **`first`** - first value in group\n",
    "+ **`last`** - last value in group\n",
    "+ **`idxmax`** - index of maximum value in group\n",
    "+ **`idxmin`** - index of minimum value in group\n",
    "+ **`any`** - checks for at least one True value - returns boolean\n",
    "+ **`all`** - checks for at least one False value - returns boolean\n",
    "+ **`nunique`** - number of unique values in group\n",
    "+ **`sem`** - standard error of the mean\n",
    "\n",
    "Later on we will see where these names came from."
   ]
  },
  {
   "cell_type": "code",
   "execution_count": null,
   "metadata": {},
   "outputs": [],
   "source": [
    "nyc.groupby('Year', as_index=False).agg({'Deaths':'sum'})"
   ]
  },
  {
   "cell_type": "markdown",
   "metadata": {},
   "source": [
    "## Find the maximum deaths for each leading cause\n",
    "Identify each component of the aggregation:\n",
    "\n",
    "* **grouping column** - **`Leading Cause`**\n",
    "* **aggregating column** - **`Deaths`**\n",
    "* **aggregating function** - **`max`**\n",
    "\n",
    "Then place each component in the proper place for the syntax:"
   ]
  },
  {
   "cell_type": "code",
   "execution_count": null,
   "metadata": {},
   "outputs": [],
   "source": [
    "nyc.groupby('Leading Cause').agg({'Deaths':'max'})"
   ]
  },
  {
   "cell_type": "markdown",
   "metadata": {},
   "source": [
    "## Deeper explanation on method chaining with `groupby`\n",
    "The `groupby` syntax is a bit strange in that it requires method chaining to deliver results. Let's examine the results of making a call just to the **`groupby`** method."
   ]
  },
  {
   "cell_type": "code",
   "execution_count": null,
   "metadata": {},
   "outputs": [],
   "source": [
    "nyc.groupby('Year')"
   ]
  },
  {
   "cell_type": "markdown",
   "metadata": {},
   "source": [
    "### What is that?\n",
    "Calling **`groupby`** by itself does not do much. You are simply alerting pandas that you would like to create distinct groups with a particular column. It has formally returned a **`DataFrameGroupBy`** object. Just like all Pandas objects, you can see a list of all its [attributes and methods in the API][1]\n",
    "\n",
    "### Assign the `groupby` object to a  variable\n",
    "Let's assign the result of the call to **`groupby`** as a variable and verify its type.\n",
    "\n",
    "[1]: http://pandas.pydata.org/pandas-docs/stable/api.html#groupby"
   ]
  },
  {
   "cell_type": "code",
   "execution_count": null,
   "metadata": {},
   "outputs": [],
   "source": [
    "g = nyc.groupby('Year')"
   ]
  },
  {
   "cell_type": "code",
   "execution_count": null,
   "metadata": {},
   "outputs": [],
   "source": [
    "type(g)"
   ]
  },
  {
   "cell_type": "markdown",
   "metadata": {},
   "source": [
    "## `GroupBy` objects\n",
    "The documentation refers to the object returned from a call to the **`groupby`** method as a **GroupBy** object. Technically there are two specific objects - **`DataFrameGroupBy`** (as we saw above) and **`SeriesGroupBy`**. It's not necessary to think much about these objects. Just be aware that a call to **`groupby`** returns some other object that is not a DataFrame or a Series. It is a **GroupBy** object with its own attributes and methods."
   ]
  },
  {
   "cell_type": "markdown",
   "metadata": {},
   "source": [
    "## The `groups` attribute\n",
    "The **`groups`** attribute of the GroupBy object. This is an interesting attribute - it is a dictionary that contains each individual group value as the key with its corresponding index labels of that group."
   ]
  },
  {
   "cell_type": "code",
   "execution_count": null,
   "metadata": {},
   "outputs": [],
   "source": [
    "g.groups"
   ]
  },
  {
   "cell_type": "markdown",
   "metadata": {},
   "source": [
    "## Calling the `agg` method from the GroupBy object\n",
    "We can call the **`agg`** method from this assigned variable (the GroupBy object) to get the same result as above."
   ]
  },
  {
   "cell_type": "code",
   "execution_count": null,
   "metadata": {},
   "outputs": [],
   "source": [
    "g.agg({'Deaths':'sum'})"
   ]
  },
  {
   "cell_type": "markdown",
   "metadata": {},
   "source": [
    "## Understanding the index\n",
    "If you were paying close attention, you would notice that the grouping column gets placed in the index. In our above example, the **`Year`** is the now the index. It is not a column."
   ]
  },
  {
   "cell_type": "code",
   "execution_count": null,
   "metadata": {},
   "outputs": [],
   "source": [
    "year_deaths = nyc.groupby('Year').agg({'Deaths':'sum'})\n",
    "year_deaths"
   ]
  },
  {
   "cell_type": "markdown",
   "metadata": {},
   "source": [
    "### Why does the word 'Year' still appear the index\n",
    "This is a common source of confusion. After the grouping, **`Year`** is now labeling the index. It is technically the **`name`** of the index. Let's extract the index to explicitly see this.\n",
    "\n",
    "Notice **`name='Year'`** at the end."
   ]
  },
  {
   "cell_type": "code",
   "execution_count": null,
   "metadata": {},
   "outputs": [],
   "source": [
    "year_deaths.index"
   ]
  },
  {
   "cell_type": "code",
   "execution_count": null,
   "metadata": {},
   "outputs": [],
   "source": [
    "year_deaths.index.name"
   ]
  },
  {
   "cell_type": "markdown",
   "metadata": {},
   "source": [
    "### Set parameter `as_index` to False\n",
    "The **`groupby`** method contains a boolean parameter **`as_index`** that can be set to False to avoid having the grouping column placed in the index."
   ]
  },
  {
   "cell_type": "code",
   "execution_count": null,
   "metadata": {},
   "outputs": [],
   "source": [
    "nyc.groupby('Year', as_index=False).agg({'Deaths':'sum'})"
   ]
  },
  {
   "cell_type": "markdown",
   "metadata": {},
   "source": [
    "### `reset_index` method always works\n",
    "All DataFrames come equipped with a **`reset_index`** method which makes the index into a column of data. You can chain it after the call to **`agg`**."
   ]
  },
  {
   "cell_type": "code",
   "execution_count": null,
   "metadata": {},
   "outputs": [],
   "source": [
    "nyc.groupby('Year').agg({'Deaths':'sum'}).reset_index()"
   ]
  },
  {
   "cell_type": "markdown",
   "metadata": {},
   "source": [
    "# Exercises"
   ]
  },
  {
   "cell_type": "markdown",
   "metadata": {},
   "source": [
    "### Problem 1\n",
    "<span  style=\"color:green; font-size:16px\">What year had the most deaths?</span>"
   ]
  },
  {
   "cell_type": "code",
   "execution_count": null,
   "metadata": {},
   "outputs": [],
   "source": [
    "# your code here"
   ]
  },
  {
   "cell_type": "markdown",
   "metadata": {},
   "source": [
    "### Problem 2\n",
    "<span  style=\"color:green; font-size:16px\">Find the total number of deaths by race and sort by most to least.</span>"
   ]
  },
  {
   "cell_type": "code",
   "execution_count": null,
   "metadata": {},
   "outputs": [],
   "source": [
    "# your code here"
   ]
  },
  {
   "cell_type": "markdown",
   "metadata": {},
   "source": [
    "### Use the employee dataset for the remaining problems"
   ]
  },
  {
   "cell_type": "code",
   "execution_count": null,
   "metadata": {},
   "outputs": [],
   "source": [
    "emp = pd.read_csv('../data/employee.csv')\n",
    "emp.head()"
   ]
  },
  {
   "cell_type": "markdown",
   "metadata": {},
   "source": [
    "### Problem 3\n",
    "<span  style=\"color:green; font-size:16px\">Find the maximum salary for each gender.</span>"
   ]
  },
  {
   "cell_type": "code",
   "execution_count": null,
   "metadata": {},
   "outputs": [],
   "source": [
    "# your code here"
   ]
  },
  {
   "cell_type": "markdown",
   "metadata": {},
   "source": [
    "### Problem 4\n",
    "<span  style=\"color:green; font-size:16px\">Find the median salary for each department.</span>"
   ]
  },
  {
   "cell_type": "code",
   "execution_count": null,
   "metadata": {},
   "outputs": [],
   "source": [
    "# your code here"
   ]
  },
  {
   "cell_type": "markdown",
   "metadata": {},
   "source": [
    "### Problem 5\n",
    "<span  style=\"color:green; font-size:16px\">Find the average salary for each race. Return a DataFrame with the race as a column.</span>"
   ]
  },
  {
   "cell_type": "code",
   "execution_count": null,
   "metadata": {},
   "outputs": [],
   "source": [
    "# your code here"
   ]
  }
 ],
 "metadata": {
  "anaconda-cloud": {},
  "kernelspec": {
   "display_name": "Python 3",
   "language": "python",
   "name": "python3"
  },
  "language_info": {
   "codemirror_mode": {
    "name": "ipython",
    "version": 3
   },
   "file_extension": ".py",
   "mimetype": "text/x-python",
   "name": "python",
   "nbconvert_exporter": "python",
   "pygments_lexer": "ipython3",
   "version": "3.6.4"
  }
 },
 "nbformat": 4,
 "nbformat_minor": 1
}
