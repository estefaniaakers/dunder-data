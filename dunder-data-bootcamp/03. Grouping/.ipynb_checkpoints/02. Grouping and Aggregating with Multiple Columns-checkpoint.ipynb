{
 "cells": [
  {
   "cell_type": "markdown",
   "metadata": {},
   "source": [
    "# 2. Grouping and Aggregating with Multiple Columns\n",
    "\n",
    "### Objectives\n",
    "\n",
    "+ Use multiple grouping columns\n",
    "+ Aggregate multiple columns\n",
    "+ Use multiple aggregating functions\n",
    "+ Know different syntax for performing an aggregation\n",
    "\n",
    "### Overview\n",
    "In this notebook we will learn how to form groups using more than 1 column. We will also aggregate more than one column as well as learn how to apply multiple aggregation functions to each group."
   ]
  },
  {
   "cell_type": "markdown",
   "metadata": {},
   "source": [
    "## Adding Years of Experience to City of Houston Data\n",
    "Before we get started with grouping and aggregating multiple columns, let's read in the City of Houston employee dataset and append a column for the years of experience."
   ]
  },
  {
   "cell_type": "code",
   "execution_count": null,
   "metadata": {},
   "outputs": [],
   "source": [
    "import pandas as pd\n",
    "emp = pd.read_csv('../data/employee.csv', parse_dates=['hire_date', 'job_date'])\n",
    "emp.head()"
   ]
  },
  {
   "cell_type": "markdown",
   "metadata": {},
   "source": [
    "### Calculate years of experience from hire date\n",
    "The data was pulled on December 1, 2016. Let's use the **`dt`** accessor with the **`year`** attribute to get the year that each employee was hired. We can subtract this year from 2016 to approximate the years of experience and assign it as a new column."
   ]
  },
  {
   "cell_type": "code",
   "execution_count": null,
   "metadata": {},
   "outputs": [],
   "source": [
    "emp['experience'] = 2016 - emp['hire_date'].dt.year"
   ]
  },
  {
   "cell_type": "markdown",
   "metadata": {},
   "source": [
    "### Take a peak at distribution of experience\n",
    "Use the **`value_counts`** to get a quick understanding of how experience is distributed."
   ]
  },
  {
   "cell_type": "code",
   "execution_count": null,
   "metadata": {},
   "outputs": [],
   "source": [
    "emp['experience'].value_counts(normalize=True).head(10)"
   ]
  },
  {
   "cell_type": "code",
   "execution_count": null,
   "metadata": {},
   "outputs": [],
   "source": [
    "emp.head()"
   ]
  },
  {
   "cell_type": "markdown",
   "metadata": {},
   "source": [
    "## Review grouping and aggregating with a single column\n",
    "In the previous notebook, we had a single grouping column, aggregating column, and aggregating function. The following syntax was used as a guide:\n",
    "\n",
    "**```\n",
    "df.groupby('<grouping column>').agg({'<aggregating column>':'<aggregating function>'})\n",
    "```**\n",
    "\n",
    "Let's see this again by calculating the average years of experience for each gender."
   ]
  },
  {
   "cell_type": "code",
   "execution_count": null,
   "metadata": {},
   "outputs": [],
   "source": [
    "emp.groupby('gender').agg({'experience': 'mean'})"
   ]
  },
  {
   "cell_type": "markdown",
   "metadata": {},
   "source": [
    "# Grouping with Multiple Columns\n",
    "To create groups based on distinct values from multiple columns, we will need to pass a list of these columns to the **`groupby`** method. Let's find the average years of experience for every unique combination of race and gender."
   ]
  },
  {
   "cell_type": "code",
   "execution_count": null,
   "metadata": {},
   "outputs": [],
   "source": [
    "emp.groupby(['race', 'gender']).agg({'experience': 'mean'})"
   ]
  },
  {
   "cell_type": "markdown",
   "metadata": {},
   "source": [
    "### What happened to our index?\n",
    "Both race and gender are not columns and have been pushed into the index. This is called a **multi-level index** and technically a **`MultiIndex`** object. **`Race`** and **`Gender`** are considered **levels** of the index. They are NOT columns. You'll notice that duplicated values do not repeat in an index when they immediately follow one another.\n",
    "\n",
    "### The MultiIndex is confusing and not necessary for beginners\n",
    "In my opinion, this multi-level index only adds to confusion. By default, all grouping columns will be added to the index. From this point on, we will chain the **`reset_index`** method to keep these values as columns."
   ]
  },
  {
   "cell_type": "code",
   "execution_count": null,
   "metadata": {},
   "outputs": [],
   "source": [
    "emp.groupby(['race', 'gender']).agg({'experience': 'mean'}).reset_index()"
   ]
  },
  {
   "cell_type": "markdown",
   "metadata": {},
   "source": [
    "### Isn't it easier to read with a MultiIndex?\n",
    "The MultiIndex can make the results easier to read, but it makes further data analysis more difficult as you need to become familiar with special syntax just for the MultiIndex. This added complexity for beginners is not worth any benefit."
   ]
  },
  {
   "cell_type": "markdown",
   "metadata": {},
   "source": [
    "# Aggregating Multiple Columns\n",
    "To aggregate multiple columns, add the column name to the dictionary paired with its aggregation function. The aggregation functions can be different. The following finds the average salary and max years of experience for each gender."
   ]
  },
  {
   "cell_type": "code",
   "execution_count": null,
   "metadata": {},
   "outputs": [],
   "source": [
    "emp.groupby('gender').agg({'salary': 'mean', 'experience': 'max'}).reset_index()"
   ]
  },
  {
   "cell_type": "markdown",
   "metadata": {},
   "source": [
    "# Grouping and Aggregating with Multiple Columns\n",
    "We can combine the last two approaches to group with multiple columns along with aggregating multiple columns.\n",
    "\n",
    "The following finds the mean salary and max experience for every unique combination of race and gender. It might make things more readable by placing the each aggregating column on a separate line."
   ]
  },
  {
   "cell_type": "code",
   "execution_count": null,
   "metadata": {},
   "outputs": [],
   "source": [
    "emp.groupby(['race', 'gender']).agg({'salary': 'mean', \n",
    "                                     'experience': 'max'}).reset_index()"
   ]
  },
  {
   "cell_type": "markdown",
   "metadata": {},
   "source": [
    "# Multiple Aggregation Functions\n",
    "Let's say we want to find the min, max, mean, and median salary for each race. We do this by using a list of aggregating functions as the key in our **`agg`** dictionary."
   ]
  },
  {
   "cell_type": "code",
   "execution_count": null,
   "metadata": {},
   "outputs": [],
   "source": [
    "emp.groupby('race').agg({'salary': ['min', 'max', 'mean', 'median']})"
   ]
  },
  {
   "cell_type": "markdown",
   "metadata": {},
   "source": [
    "## What's up with those column names???\n",
    "The column names probably look pretty bizarre to you. Although it doesn't take much effort to decipher what each column means, the column names are not particularly friendly to work with.\n",
    "\n",
    "Pandas created a **multi-level column index** with two levels. These are difficult to work with. There isn't a standard way to deal with them like we did with the multi-level index from above.\n",
    "\n",
    "## Renaming all the columns\n",
    "I recommend renaming all the columns after the aggregation. This is quite simple, but tedious. Simply assign the DataFrame's **`columns`** attribute to a list of desired column names. The list must be the same length as the original."
   ]
  },
  {
   "cell_type": "code",
   "execution_count": null,
   "metadata": {},
   "outputs": [],
   "source": [
    "race_salary = emp.groupby('race').agg({'salary': ['min', 'max', 'mean', 'median']}).reset_index()\n",
    "race_salary.columns = ['race', 'min salary', 'max salary', 'mean salary', 'median salary']\n",
    "race_salary"
   ]
  },
  {
   "cell_type": "markdown",
   "metadata": {},
   "source": [
    "If you are not planning on using the returned DataFrame then you don't need to bother renaming the columns, but having a single level index is going to be much easier to work with than a MultiIndex when you are first beginning your Pandas journey. \n",
    "\n",
    "## No added functionality of a MultiIndex\n",
    "I actually don't think the MultiIndex offers much benefit. All data analysis is possible without it. There are some cool tricks you can do with it, but overall it will not prevent you from achieving any kind of analysis if you do not use it."
   ]
  },
  {
   "cell_type": "markdown",
   "metadata": {},
   "source": [
    "# Multiple Grouping Columns, Aggregating Columns, and Aggregating Functions\n",
    "You can make complex aggregations by having multiple grouping columns, aggregating columns, and aggregating functions."
   ]
  },
  {
   "cell_type": "code",
   "execution_count": null,
   "metadata": {},
   "outputs": [],
   "source": [
    "rg_sal_exp = emp.groupby(['race', 'gender']) \\\n",
    "                .agg({'salary': ['min', 'max', 'mean', 'median'],\n",
    "                      'experience': ['max', 'std']}).reset_index()\n",
    "rg_sal_exp"
   ]
  },
  {
   "cell_type": "markdown",
   "metadata": {},
   "source": [
    "Again, I suggest renaming the columns for easier data manipulation."
   ]
  },
  {
   "cell_type": "code",
   "execution_count": null,
   "metadata": {},
   "outputs": [],
   "source": [
    "rg_sal_exp.columns = ['race', 'gender', 'min salary', 'max salary', 'mean salary',\n",
    "                      'median salary', 'max exp', 'std exp']\n",
    "rg_sal_exp"
   ]
  },
  {
   "cell_type": "markdown",
   "metadata": {},
   "source": [
    "# Getting the size of each group\n",
    "Let's say we just want to know the number of rows in each group. The correct aggregation function is **`size`** and not **`count`** (this returns the number of non-missing values)."
   ]
  },
  {
   "cell_type": "code",
   "execution_count": null,
   "metadata": {},
   "outputs": [],
   "source": [
    "emp.groupby(['race', 'gender']).agg({'salary': 'size'}).reset_index()"
   ]
  },
  {
   "cell_type": "markdown",
   "metadata": {},
   "source": [
    "### The aggregating column doesn't matter\n",
    "The same result will be returned regardless of what aggregating column we use since the size only depends on the number of rows and not on the actual values in the column. Using the department column does not change the output."
   ]
  },
  {
   "cell_type": "code",
   "execution_count": null,
   "metadata": {},
   "outputs": [],
   "source": [
    "emp.groupby(['race', 'gender']).agg({'dept': 'size'}).reset_index()"
   ]
  },
  {
   "cell_type": "markdown",
   "metadata": {},
   "source": [
    "## Alternative Syntax for size\n",
    "You can call the **`size`** method directly after grouping. This will return the same data as a Series."
   ]
  },
  {
   "cell_type": "code",
   "execution_count": null,
   "metadata": {},
   "outputs": [],
   "source": [
    "emp.groupby(['race', 'gender']).size().reset_index()"
   ]
  },
  {
   "cell_type": "markdown",
   "metadata": {},
   "source": [
    "## Rename the column when using `reset_index`\n",
    "When calling `reset_index` on a Series, like we did above, the new column name for the Series values will be the `name` attribute of the Series. If it doesn't exist (like in the example above) then you can supply the column name with the `name` parameter with `reset_index`."
   ]
  },
  {
   "cell_type": "code",
   "execution_count": null,
   "metadata": {},
   "outputs": [],
   "source": [
    "emp.groupby(['race', 'gender']).size().reset_index(name='size')"
   ]
  },
  {
   "cell_type": "markdown",
   "metadata": {},
   "source": [
    "# Exercises"
   ]
  },
  {
   "cell_type": "markdown",
   "metadata": {},
   "source": [
    "### Problem 1\n",
    "<span  style=\"color:green; font-size:16px\">For each department and gender find the number of unique position titles, the total number of employees and the average salary. Make sure there is no multi-index for the index or columns.</span>"
   ]
  },
  {
   "cell_type": "code",
   "execution_count": null,
   "metadata": {},
   "outputs": [],
   "source": []
  },
  {
   "cell_type": "markdown",
   "metadata": {},
   "source": [
    "### Problem 2\n",
    "<span  style=\"color:green; font-size:16px\">For each department, race and gender find the maximum years of experience and salary.</span>"
   ]
  },
  {
   "cell_type": "code",
   "execution_count": null,
   "metadata": {},
   "outputs": [],
   "source": []
  },
  {
   "cell_type": "markdown",
   "metadata": {},
   "source": [
    "## Use the college dataset for the rest of the problems"
   ]
  },
  {
   "cell_type": "code",
   "execution_count": null,
   "metadata": {},
   "outputs": [],
   "source": [
    "college = pd.read_csv('../data/college.csv')\n",
    "college.head()"
   ]
  },
  {
   "cell_type": "markdown",
   "metadata": {},
   "source": [
    "### Problem 3\n",
    "<span  style=\"color:green; font-size:16px\">Which city name appears the most frequently. Do this in two different ways. Do it once with and once without the `groupby` method?</span>"
   ]
  },
  {
   "cell_type": "code",
   "execution_count": null,
   "metadata": {},
   "outputs": [],
   "source": []
  },
  {
   "cell_type": "markdown",
   "metadata": {},
   "source": [
    "### Problem 4\n",
    "<span  style=\"color:green; font-size:16px\">Does the city **`Houston`** only appear in the state of **`Texas`**?</span>"
   ]
  },
  {
   "cell_type": "code",
   "execution_count": null,
   "metadata": {},
   "outputs": [],
   "source": []
  },
  {
   "cell_type": "markdown",
   "metadata": {},
   "source": [
    "### Problem 5\n",
    "<span  style=\"color:green; font-size:16px\">Find the maximum undergraduate population for each state?</span>"
   ]
  },
  {
   "cell_type": "code",
   "execution_count": null,
   "metadata": {},
   "outputs": [],
   "source": []
  },
  {
   "cell_type": "markdown",
   "metadata": {},
   "source": [
    "### Problem 6\n",
    "<span  style=\"color:green; font-size:16px\">Among colleges that have the largest undergrad population for each state, what is the difference between the most and least populous college?</span>"
   ]
  },
  {
   "cell_type": "code",
   "execution_count": null,
   "metadata": {},
   "outputs": [],
   "source": []
  },
  {
   "cell_type": "markdown",
   "metadata": {},
   "source": [
    "### Problem 7: Advanced\n",
    "<span  style=\"color:green; font-size:16px\">Find the name and population of the largest college per state.</span>"
   ]
  },
  {
   "cell_type": "code",
   "execution_count": null,
   "metadata": {},
   "outputs": [],
   "source": []
  },
  {
   "cell_type": "markdown",
   "metadata": {},
   "source": [
    "### Problem 8\n",
    "<span  style=\"color:green; font-size:16px\">Do distance only schools tend to have more or less student population than non-distance-only schools?</span>"
   ]
  },
  {
   "cell_type": "code",
   "execution_count": null,
   "metadata": {},
   "outputs": [],
   "source": []
  },
  {
   "cell_type": "markdown",
   "metadata": {},
   "source": [
    "### Problem 9\n",
    "<span  style=\"color:green; font-size:16px\">Do distance only schools tend to be more or less religously affiliated than non-distance-only schools?</span>"
   ]
  },
  {
   "cell_type": "code",
   "execution_count": null,
   "metadata": {},
   "outputs": [],
   "source": []
  },
  {
   "cell_type": "markdown",
   "metadata": {},
   "source": [
    "### Problem 10\n",
    "<span  style=\"color:green; font-size:16px\">What state has the lowest percentage of currently operating schools of those that have religious affiliation?</span>"
   ]
  },
  {
   "cell_type": "code",
   "execution_count": null,
   "metadata": {},
   "outputs": [],
   "source": []
  },
  {
   "cell_type": "markdown",
   "metadata": {},
   "source": [
    "### Problem 11\n",
    "<span  style=\"color:green; font-size:16px\">Trim the **`college`** DataFrame to only the 'race' columns - those beginning with **`ugds_`**. Create a new column called **`ugds_other`** that is the sum of any race column that averages under 4% for the entire dataset.</span>"
   ]
  },
  {
   "cell_type": "code",
   "execution_count": null,
   "metadata": {},
   "outputs": [],
   "source": []
  },
  {
   "cell_type": "markdown",
   "metadata": {},
   "source": [
    "### Problem 12\n",
    "<span  style=\"color:green; font-size:16px\">Which top 5 historically black colleges that have the highest white percentage?</span>"
   ]
  },
  {
   "cell_type": "code",
   "execution_count": null,
   "metadata": {},
   "outputs": [],
   "source": []
  }
 ],
 "metadata": {
  "kernelspec": {
   "display_name": "Python 3",
   "language": "python",
   "name": "python3"
  },
  "language_info": {
   "codemirror_mode": {
    "name": "ipython",
    "version": 3
   },
   "file_extension": ".py",
   "mimetype": "text/x-python",
   "name": "python",
   "nbconvert_exporter": "python",
   "pygments_lexer": "ipython3",
   "version": "3.6.4"
  },
  "varInspector": {
   "cols": {
    "lenName": 16,
    "lenType": 16,
    "lenVar": 40
   },
   "kernels_config": {
    "python": {
     "delete_cmd_postfix": "",
     "delete_cmd_prefix": "del ",
     "library": "var_list.py",
     "varRefreshCmd": "print(var_dic_list())"
    },
    "r": {
     "delete_cmd_postfix": ") ",
     "delete_cmd_prefix": "rm(",
     "library": "var_list.r",
     "varRefreshCmd": "cat(var_dic_list()) "
    }
   },
   "types_to_exclude": [
    "module",
    "function",
    "builtin_function_or_method",
    "instance",
    "_Feature"
   ],
   "window_display": false
  }
 },
 "nbformat": 4,
 "nbformat_minor": 2
}
