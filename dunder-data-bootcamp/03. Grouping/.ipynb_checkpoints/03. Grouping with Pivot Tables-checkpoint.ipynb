{
 "cells": [
  {
   "cell_type": "markdown",
   "metadata": {},
   "source": [
    "# 3. Grouping with Pivot Tables\n",
    "\n",
    "### Summary\n",
    "\n",
    "* Pivot tables perform the same operation as a groupby, but display the data in wide rather than long format\n",
    "* Pivot tables can make comparisons between groups easier\n",
    "\n",
    "## Pivot Table Definition\n",
    "Take a look at the following diagram of a pivot table from Microsoft Excel. A pivot table aggregates data, usually between the intersection of two columns of your data. In the pivot table below, the two dimensions are the `Region` and the `Qtr`. All pivot tables must aggregate some other column of data. Here, it is the revenue and it is summed.\n",
    "\n",
    "There are 4 unique regions and 4 unique quarters. The pivot table shows the sum of revenue for each possible combination. Having the data in this structure, can make it easier to read.\n",
    "\n",
    "![][1]\n",
    "\n",
    "[1]: images/pt.png\n",
    "\n",
    "## Creating a simple pivot table in pandas - four components\n",
    "There are four components to a basic pivot table in pandas.\n",
    "* Two grouping columns\n",
    "* One aggregating column\n",
    "* One aggregating function\n",
    "\n",
    "In the example above, the two grouping columns are `Region` and `Qtr`. The aggregating column is `Revenue` and the aggregating function is `sum`.\n",
    "\n",
    "# First pivot table - find the average salary by race and gender\n",
    "After reading in the data, let's identify the components of this pivot table.\n",
    "* Grouping columns - race and gender\n",
    "* Aggregating column - salary\n",
    "* Aggregating function - mean"
   ]
  },
  {
   "cell_type": "code",
   "execution_count": null,
   "metadata": {},
   "outputs": [],
   "source": [
    "import pandas as pd\n",
    "emp = pd.read_csv('../data/employee.csv')\n",
    "emp.head()"
   ]
  },
  {
   "cell_type": "markdown",
   "metadata": {},
   "source": [
    "## Mapping the components of the pivot table to the parameters of the `pivot_table` method\n",
    "The `pivot_table` method creates pivot tables for us in pandas. To use a pivot table, we set the `index`, `columns`, `values`, and `aggfunc` parameters. Each parameter will take on the following component of the pivot table.\n",
    "\n",
    "* `index` - grouping column\n",
    "* `columns` - grouping column\n",
    "* `values` - aggregating column\n",
    "* `aggfunc` - aggregating function (defaulted to the mean)"
   ]
  },
  {
   "cell_type": "code",
   "execution_count": null,
   "metadata": {},
   "outputs": [],
   "source": [
    "emp.pivot_table(index='race', columns='gender', values='salary', aggfunc='mean')"
   ]
  },
  {
   "cell_type": "markdown",
   "metadata": {},
   "source": [
    "## Trick to reduce noise in dataframe - use `astype('int')`\n",
    "The above dataframe has lots of excess decimal values that are completely useless in this result. Changing the data type of the columns to be integer instead of float will eliminate the noisy decimals. We do this by using the `astype` method, which takes a string of the new data type you would like to enforce on you data."
   ]
  },
  {
   "cell_type": "code",
   "execution_count": null,
   "metadata": {},
   "outputs": [],
   "source": [
    "# much cleaner\n",
    "emp.pivot_table(index='race', columns='gender', \n",
    "                values='salary', aggfunc='mean').astype('int')"
   ]
  },
  {
   "cell_type": "code",
   "execution_count": null,
   "metadata": {},
   "outputs": [],
   "source": [
    "# you can also round to the nearest thousand\n",
    "emp.pivot_table(index='race', columns='gender', \n",
    "                values='salary', aggfunc='mean').round(-3).astype('int')"
   ]
  },
  {
   "cell_type": "markdown",
   "metadata": {},
   "source": [
    "### Easily compare female vs male salary\n",
    "It is now trivial to compare female and male salaries for every race.\n",
    "\n",
    "## Comparison to a group by\n",
    "Since we already know the grouping columns, aggregating columns, and the aggregating functions, we should have no problem using a groupby."
   ]
  },
  {
   "cell_type": "code",
   "execution_count": null,
   "metadata": {},
   "outputs": [],
   "source": [
    "emp.groupby(['race', 'gender']).agg({'salary': 'mean'}).astype('int')"
   ]
  },
  {
   "cell_type": "markdown",
   "metadata": {},
   "source": [
    "## Data is more difficult to make comparisons\n",
    "This groupby has produced the exact same data as the pivot table but in a different shape. Having all of our data in a vertical column makes it difficult to make comparisons.\n",
    "\n",
    "## Wide vs long data\n",
    "Pivot tables produce **wide** data meaning that it will often result in data that is easier to read and make decisions with. The `groupby` method returns **long** data that takes a bit more effort in making a comparison.\n",
    "\n",
    "## All aggregation strings are available for `pivot_table`\n",
    "All the aggregation strings ('min', 'max', 'mean', etc...) are available to a `pivot_table` just as they were with `groupby`.\n",
    "\n",
    "## The default aggregation is `mean`\n",
    "By default, `pivot_table` takes the `mean` of each group."
   ]
  },
  {
   "cell_type": "markdown",
   "metadata": {},
   "source": [
    "## Using a different aggregating function\n",
    "Use any valid aggregation string. Here we find the max salary."
   ]
  },
  {
   "cell_type": "code",
   "execution_count": null,
   "metadata": {},
   "outputs": [],
   "source": [
    "emp.pivot_table(index='race', columns='gender', values='salary', aggfunc='max').astype('int')"
   ]
  },
  {
   "cell_type": "markdown",
   "metadata": {},
   "source": [
    "## Where is the 'pivoting'?\n",
    "In Excel, you can pivot the table easily by dragging columns into different boxes. With pandas, you'll have to change the parameter values. Let's pivot the table by putting gender along the index and race along the columns."
   ]
  },
  {
   "cell_type": "code",
   "execution_count": null,
   "metadata": {},
   "outputs": [],
   "source": [
    "emp.pivot_table(index='gender', columns='race', values='salary', aggfunc='max').astype('int')"
   ]
  },
  {
   "cell_type": "markdown",
   "metadata": {},
   "source": [
    "# The unique values of each grouping column for the labels\n",
    "Notice that the labels for each of the index and columns of a pivot table come from the unique values of the grouping columns. The intersection of each label is where the aggregated data appears."
   ]
  },
  {
   "cell_type": "markdown",
   "metadata": {},
   "source": [
    "# Styling pivot tables to find important data\n",
    "You can style your DataFrame by changing the text color, background color, font, and several other items through the `style` property. It works similarly to `str` and `dt` accessors in that it gives you access to style-only methods through the dot notation. [Visit the documentation][1] for descriptions on all the methods.\n",
    "\n",
    "[1]: http://pandas.pydata.org/pandas-docs/stable/style.html"
   ]
  },
  {
   "cell_type": "code",
   "execution_count": null,
   "metadata": {},
   "outputs": [],
   "source": [
    "dept_race_mean = emp.pivot_table(index='dept', columns='race', \n",
    "                                 values='salary', aggfunc='mean').round(-3)\n",
    "dept_race_mean"
   ]
  },
  {
   "cell_type": "markdown",
   "metadata": {},
   "source": [
    "### Using `highlight_max`\n",
    "By default, `highlight_max` will highlight the maximum value of each column. This is just like how most other pandas methods works - by going down each column."
   ]
  },
  {
   "cell_type": "code",
   "execution_count": null,
   "metadata": {},
   "outputs": [],
   "source": [
    "dept_race_mean.style.highlight_max()"
   ]
  },
  {
   "cell_type": "markdown",
   "metadata": {},
   "source": [
    "## Change direction with `axis`\n",
    "You can highlight the max of each rows by changing the `axis` parameter."
   ]
  },
  {
   "cell_type": "code",
   "execution_count": null,
   "metadata": {},
   "outputs": [],
   "source": [
    "dept_race_mean.style.highlight_max(axis='columns')"
   ]
  },
  {
   "cell_type": "markdown",
   "metadata": {},
   "source": [
    "### Background color gradients\n",
    "Use `background_gradient` to color the background based on the value of the cell. You can change the colors by choosing a [Matplotlib colormap][1].\n",
    "\n",
    "[1]: https://matplotlib.org/tutorials/colors/colormaps.html"
   ]
  },
  {
   "cell_type": "code",
   "execution_count": null,
   "metadata": {},
   "outputs": [],
   "source": [
    "dept_race_mean.style.background_gradient(cmap='YlOrRd')"
   ]
  },
  {
   "cell_type": "markdown",
   "metadata": {},
   "source": [
    "# Exercises\n",
    "\n",
    "Use the flights dataset for the following problems."
   ]
  },
  {
   "cell_type": "code",
   "execution_count": null,
   "metadata": {},
   "outputs": [],
   "source": [
    "pd.options.display.max_columns = 50\n",
    "flights = pd.read_csv('../data/flights.csv')\n",
    "flights.head()"
   ]
  },
  {
   "cell_type": "markdown",
   "metadata": {},
   "source": [
    "### Problem 1\n",
    "<span  style=\"color:green; font-size:16px\">What is the average departure delay for each day of the week for each airline? Highlight the worst day of the week for each airline.</span>"
   ]
  },
  {
   "cell_type": "code",
   "execution_count": null,
   "metadata": {},
   "outputs": [],
   "source": []
  },
  {
   "cell_type": "markdown",
   "metadata": {},
   "source": [
    "### Problem 2\n",
    "<span  style=\"color:green; font-size:16px\">Find the airline and origin airport that has the most canceled flights. Highlight the maximum value of the table. Read the docs to see how it's done.</span>"
   ]
  },
  {
   "cell_type": "code",
   "execution_count": null,
   "metadata": {},
   "outputs": [],
   "source": []
  },
  {
   "cell_type": "markdown",
   "metadata": {},
   "source": [
    "### Problem 3\n",
    "<span  style=\"color:green; font-size:16px\">Find the total distance flown for each airline for each month. Can you use the style `format` method to put commas in the numbers so that they are easier to read?</span>"
   ]
  },
  {
   "cell_type": "code",
   "execution_count": null,
   "metadata": {},
   "outputs": [],
   "source": []
  },
  {
   "cell_type": "markdown",
   "metadata": {},
   "source": [
    "### Problem 4\n",
    "<span  style=\"color:green; font-size:16px\">Use the employee dataset for this problem. You can create pivot tables with multiple columns in the index or the columns by using a list. Create a pivot table with the department as the index and the race and gender as the columns. Calculate the median salary for these cross sections.</span>"
   ]
  },
  {
   "cell_type": "code",
   "execution_count": null,
   "metadata": {},
   "outputs": [],
   "source": []
  }
 ],
 "metadata": {
  "kernelspec": {
   "display_name": "Python 3",
   "language": "python",
   "name": "python3"
  },
  "language_info": {
   "codemirror_mode": {
    "name": "ipython",
    "version": 3
   },
   "file_extension": ".py",
   "mimetype": "text/x-python",
   "name": "python",
   "nbconvert_exporter": "python",
   "pygments_lexer": "ipython3",
   "version": "3.6.4"
  },
  "varInspector": {
   "cols": {
    "lenName": 16,
    "lenType": 16,
    "lenVar": 40
   },
   "kernels_config": {
    "python": {
     "delete_cmd_postfix": "",
     "delete_cmd_prefix": "del ",
     "library": "var_list.py",
     "varRefreshCmd": "print(var_dic_list())"
    },
    "r": {
     "delete_cmd_postfix": ") ",
     "delete_cmd_prefix": "rm(",
     "library": "var_list.r",
     "varRefreshCmd": "cat(var_dic_list()) "
    }
   },
   "types_to_exclude": [
    "module",
    "function",
    "builtin_function_or_method",
    "instance",
    "_Feature"
   ],
   "window_display": false
  }
 },
 "nbformat": 4,
 "nbformat_minor": 2
}
