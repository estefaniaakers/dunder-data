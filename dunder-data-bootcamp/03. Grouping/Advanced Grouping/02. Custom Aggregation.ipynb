{
 "cells": [
  {
   "cell_type": "markdown",
   "metadata": {},
   "source": [
    "# 2. Custom Aggregation\n",
    "\n",
    "### Objectives\n",
    "\n",
    "+ Write your own custom aggregation functions\n",
    "+ Know what object is passed to the custom aggregation function\n",
    "\n",
    "# Introduction\n",
    "Pandas GroupBy objects come with many built-in aggregate functions. These are all available as strings within the **`agg`** method. There are, of course, many other possible aggregations that are not directly available. It is possible to define your own customized aggregate function. These customized functions must return a single value.\n",
    "\n",
    "## Writing your own custom aggregation function\n",
    "Let's suppose you would like to know the difference between the max and min value of a column for each group. Pandas does not have an aggregate function built to do this. You will have to define this one yourself. \n",
    "\n",
    "Each customized aggregate function is defined as you would a regular Python function with the **`def`** keyword. Each function is **implicitly** passed the aggregating column. This aggregating column is passed as a **`Series`**. This means that all Series methods will work on the passed argument.\n",
    "\n",
    "The **`min_max`** function below takes one argument, **`s`**, which is a Series object. It returns the difference between the max and min values of that Series."
   ]
  },
  {
   "cell_type": "code",
   "execution_count": null,
   "metadata": {},
   "outputs": [],
   "source": [
    "import pandas as pd\n",
    "import numpy as np\n",
    "\n",
    "college = pd.read_csv('../../data/college.csv')\n",
    "\n",
    "def min_max(s):\n",
    "    return s.max() - s.min()"
   ]
  },
  {
   "cell_type": "markdown",
   "metadata": {},
   "source": [
    "## Using your customized aggregation function\n",
    "Customized aggregation functions are used similarly to the built-in aggregation functions. When using them within the **`agg`** method, use the actual function object and not the string name. \n",
    "\n",
    "The following finds the difference between the maximum and minimum student populations for school with and without religious affiliation. "
   ]
  },
  {
   "cell_type": "code",
   "execution_count": null,
   "metadata": {},
   "outputs": [],
   "source": [
    "college.groupby('relaffil').agg({'ugds': min_max})"
   ]
  },
  {
   "cell_type": "markdown",
   "metadata": {},
   "source": [
    "### Implicit passing of aggregation Series\n",
    "The above **`agg`** method passed the **`ugds`** column as a Series to our customized aggregation function, **`min_max`**, for each group. The parameter **`s`** takes on this Series. We say this is implicit, because we don't actually see the function executed.\n",
    "\n",
    "An **explicit** call to **`min_max`** would look like this:"
   ]
  },
  {
   "cell_type": "code",
   "execution_count": null,
   "metadata": {},
   "outputs": [],
   "source": [
    "min_max(college['ugds'])"
   ]
  },
  {
   "cell_type": "markdown",
   "metadata": {},
   "source": [
    "###  Custom aggregation function must return a single value\n",
    "If your custom aggregation function does not return a single value, an exception will be raised. Let's create a custom aggregation that adds 5 to each value. This will return a Series the same size as group and not a single number."
   ]
  },
  {
   "cell_type": "code",
   "execution_count": null,
   "metadata": {},
   "outputs": [],
   "source": [
    "def add5(s):\n",
    "    return s + 5"
   ]
  },
  {
   "cell_type": "markdown",
   "metadata": {},
   "source": [
    "Attempting this produces an error:"
   ]
  },
  {
   "cell_type": "code",
   "execution_count": null,
   "metadata": {},
   "outputs": [],
   "source": [
    "college.groupby('relaffil').agg({'ugds': add5})"
   ]
  },
  {
   "cell_type": "markdown",
   "metadata": {},
   "source": [
    "## Combine custom aggregation function with built-ins\n",
    "The custom aggregation function can be used in conjunction with any number of other built-in aggregation functions that we have previously seen. You will have to rename the columns to remove the MutliIndex as usual."
   ]
  },
  {
   "cell_type": "code",
   "execution_count": null,
   "metadata": {},
   "outputs": [],
   "source": [
    "college.groupby(['stabbr', 'relaffil']) \\\n",
    "       .agg({'ugds': ['size', 'min', 'max', min_max]}).head(12)"
   ]
  },
  {
   "cell_type": "markdown",
   "metadata": {},
   "source": [
    "## Finding the percentage of all undergraduates represented in the top 5 most populous colleges\n",
    "A slightly more involved example would be to find the percentage of undergraduates that attend the top 5 most populous colleges for each state.\n",
    "\n",
    "To accomplish this, our custom function sorts the values within each group from greatest to least. We then select the first 5 values with **`.iloc`** and sum them. We divide this sum by the total."
   ]
  },
  {
   "cell_type": "code",
   "execution_count": null,
   "metadata": {},
   "outputs": [],
   "source": [
    "def top5_perc(s):\n",
    "    s = s.sort_values(ascending=False)\n",
    "    top5_total = s.iloc[:5].sum()\n",
    "    total = s.sum()\n",
    "    return top5_total / total"
   ]
  },
  {
   "cell_type": "code",
   "execution_count": null,
   "metadata": {},
   "outputs": [],
   "source": [
    "college.groupby('stabbr').agg({'ugds': top5_perc}).head(10)"
   ]
  },
  {
   "cell_type": "markdown",
   "metadata": {},
   "source": [
    "## Optimizing a Custom Aggregation function\n",
    "Defining your own custom aggregation function is tricky and can be a cause for large performance hits. Pandas optimizes its own built-in functions but can't ensure that your custom function is executed optimally. "
   ]
  },
  {
   "cell_type": "markdown",
   "metadata": {},
   "source": [
    "## Run operations that are independent of the group outside of the custom function\n",
    "In general, it is best to minimize the amount of code inside the custom function. The only commands that should go inside the custom function are those that depend on the grouping.\n",
    "\n",
    "In the above example, there is no need to sort the values inside the group. We can instead sort the entire DataFrame before the grouping. Pandas preserves the order of the values in each group, so you can be sure that the top 5 values are the same for both methods.\n",
    "\n",
    "We redefine the custom aggregation function below:"
   ]
  },
  {
   "cell_type": "code",
   "execution_count": null,
   "metadata": {},
   "outputs": [],
   "source": [
    "def top5_perc_simple(s):\n",
    "    top5_total = s.iloc[:5].sum()\n",
    "    total = s.sum()\n",
    "    return top5_total / total"
   ]
  },
  {
   "cell_type": "markdown",
   "metadata": {},
   "source": [
    "We then sort the entire DataFrame first before grouping."
   ]
  },
  {
   "cell_type": "code",
   "execution_count": null,
   "metadata": {},
   "outputs": [],
   "source": [
    "college.sort_values('ugds', ascending=False) \\\n",
    "       .groupby('stabbr').agg({'ugds': top5_perc_simple}).head(10)"
   ]
  },
  {
   "cell_type": "markdown",
   "metadata": {},
   "source": [
    "### Comparing performance\n",
    "The less operations that occur within the custom GroupBy function, the better performance will be.\n",
    "\n",
    "About a 50% performance improvement is seen."
   ]
  },
  {
   "cell_type": "code",
   "execution_count": null,
   "metadata": {},
   "outputs": [],
   "source": [
    "%timeit -n 5 college.groupby('stabbr').agg({'ugds': top5_perc}).head(10)"
   ]
  },
  {
   "cell_type": "code",
   "execution_count": null,
   "metadata": {},
   "outputs": [],
   "source": [
    "%%timeit -n 5 \n",
    "college.sort_values('ugds', ascending=False) \\\n",
    "       .groupby('stabbr').agg({'ugds': top5_perc_simple}).head(10)"
   ]
  },
  {
   "cell_type": "markdown",
   "metadata": {},
   "source": [
    "# Pandas Power User Optimization\n",
    "Performance is always better when custom functions are avoided. This is because Pandas only optimizes for a few select functions - the ones that we can use as strings such as `sum`, `max`, `min`, etc...\n",
    "\n",
    "We do the same calculation again below only using builtin Pandas GroupBy function."
   ]
  },
  {
   "cell_type": "markdown",
   "metadata": {},
   "source": [
    "### Get top 5 rows with `head` GroupBy method\n",
    "You can get the first 5 rows of **each** group by calling the `head` method directly after grouping"
   ]
  },
  {
   "cell_type": "code",
   "execution_count": null,
   "metadata": {},
   "outputs": [],
   "source": [
    "college_top5 = college.sort_values('ugds', ascending=False) \\\n",
    "                      .groupby('stabbr').head()"
   ]
  },
  {
   "cell_type": "code",
   "execution_count": null,
   "metadata": {},
   "outputs": [],
   "source": [
    "college_top5.head()"
   ]
  },
  {
   "cell_type": "markdown",
   "metadata": {},
   "source": [
    "We can verify this by counting the number of states in the resulting DataFrame. They should all be 5 or at most 5."
   ]
  },
  {
   "cell_type": "code",
   "execution_count": null,
   "metadata": {},
   "outputs": [],
   "source": [
    "college_top5['stabbr'].value_counts().head(10)"
   ]
  },
  {
   "cell_type": "markdown",
   "metadata": {},
   "source": [
    "### Sum the school populations from this DataFrame\n",
    "We can now total the populations for each state by using another call to **`groupby`**."
   ]
  },
  {
   "cell_type": "code",
   "execution_count": null,
   "metadata": {},
   "outputs": [],
   "source": [
    "top5_total = college_top5.groupby('stabbr').agg({'ugds': 'sum'})\n",
    "top5_total.head()"
   ]
  },
  {
   "cell_type": "markdown",
   "metadata": {},
   "source": [
    "#### Faster to use alternative groupby syntax\n",
    "We can use an alternative groupby syntax to get another performance improvement."
   ]
  },
  {
   "cell_type": "code",
   "execution_count": null,
   "metadata": {},
   "outputs": [],
   "source": [
    "top5_total = college_top5.groupby('stabbr')['ugds'].sum()\n",
    "top5_total.head()"
   ]
  },
  {
   "cell_type": "markdown",
   "metadata": {},
   "source": [
    "Check performance for the two operations here:"
   ]
  },
  {
   "cell_type": "code",
   "execution_count": null,
   "metadata": {},
   "outputs": [],
   "source": [
    "%timeit -n 5 college_top5.groupby('stabbr').agg({'ugds': 'sum'})"
   ]
  },
  {
   "cell_type": "code",
   "execution_count": null,
   "metadata": {},
   "outputs": [],
   "source": [
    "%timeit -n 5 college_top5.groupby('stabbr')['ugds'].sum()"
   ]
  },
  {
   "cell_type": "markdown",
   "metadata": {},
   "source": [
    "### Sum all the school for each state\n",
    "Use the original DataFrame to find the total of all the states with yet another call to **`groupby`**."
   ]
  },
  {
   "cell_type": "code",
   "execution_count": null,
   "metadata": {},
   "outputs": [],
   "source": [
    "total = college.groupby('stabbr')['ugds'].sum()\n",
    "total.head()"
   ]
  },
  {
   "cell_type": "markdown",
   "metadata": {},
   "source": [
    "### Divide the last two Series\n",
    "We get our desired result by dividing the top 5 total by the grand total. This is the same result as the other two methods."
   ]
  },
  {
   "cell_type": "code",
   "execution_count": null,
   "metadata": {},
   "outputs": [],
   "source": [
    "(top5_total / total).head()"
   ]
  },
  {
   "cell_type": "markdown",
   "metadata": {},
   "source": [
    "## New Performance Test\n",
    "Let's run all these new commands together in a single cell and test performance. We were able to reduce the time to complete the task by 80% from the original custom aggregation. There is actually another optimization here. We assign the result of our first `groupby` to the variable `grouped` as we use this result twice."
   ]
  },
  {
   "cell_type": "code",
   "execution_count": null,
   "metadata": {},
   "outputs": [],
   "source": [
    "%%timeit -n 5\n",
    "\n",
    "college_sorted = college.sort_values('ugds', ascending=False)\n",
    "grouped = college_sorted.groupby('stabbr')\n",
    "\n",
    "college_top5 = grouped.head()\n",
    "top5_total = college_top5.groupby('stabbr')['ugds'].sum()\n",
    "\n",
    "total = grouped['ugds'].sum()\n",
    "top5_total / total"
   ]
  },
  {
   "cell_type": "markdown",
   "metadata": {},
   "source": [
    "# Complexity vs Performance\n",
    "This is usually a topic of debate when deciding on which Pandas methods to use. I typically like to avoid custom aggregation functions at all cost as they can drastically reduce performance for larger datasets.\n",
    "\n",
    "Readability (low complexity) is very valuable when sharing your code or looking back at it at a later date. The custom aggregation may provide slightly more readability, but if so it isn't by much so I would recommend using the faster solution here."
   ]
  },
  {
   "cell_type": "markdown",
   "metadata": {},
   "source": [
    "# Exercises\n",
    "Solutions are below.\n",
    "\n",
    "Use the flights data for these problems."
   ]
  },
  {
   "cell_type": "code",
   "execution_count": null,
   "metadata": {},
   "outputs": [],
   "source": [
    "import pandas as pd\n",
    "pd.options.display.max_columns = 40\n",
    "flights = pd.read_csv('../../data/flights.csv')\n",
    "flights.head()"
   ]
  },
  {
   "cell_type": "markdown",
   "metadata": {},
   "source": [
    "## Problem 1\n",
    "<span  style=\"color:green; font-size:16px\">What are the 3 least common airlines?</span>"
   ]
  },
  {
   "cell_type": "code",
   "execution_count": null,
   "metadata": {},
   "outputs": [],
   "source": []
  },
  {
   "cell_type": "markdown",
   "metadata": {},
   "source": [
    "## Problem 2\n",
    "<span  style=\"color:green; font-size:16px\">For each airline, find out what percentage of its flights leave on the 4th day of the week. Use a custom aggregation function.</span>"
   ]
  },
  {
   "cell_type": "code",
   "execution_count": null,
   "metadata": {},
   "outputs": [],
   "source": []
  },
  {
   "cell_type": "markdown",
   "metadata": {},
   "source": [
    "## Problem 3\n",
    "<span  style=\"color:green; font-size:16px\">Redo problem 2 without using a custom aggregation problem. What is the performance difference?</span>"
   ]
  },
  {
   "cell_type": "code",
   "execution_count": null,
   "metadata": {},
   "outputs": [],
   "source": []
  },
  {
   "cell_type": "markdown",
   "metadata": {},
   "source": [
    "## Problem 4\n",
    "<span  style=\"color:green; font-size:16px\">The range of undergrad populations per state was calculated using the `min_max` custom function from the top of this notebook. Use this same function to calculate the range of distance for each airline. Then calculate this range again without a custom function.</span>"
   ]
  },
  {
   "cell_type": "code",
   "execution_count": null,
   "metadata": {},
   "outputs": [],
   "source": []
  },
  {
   "cell_type": "markdown",
   "metadata": {},
   "source": [
    "## Problem 5\n",
    "<span  style=\"color:green; font-size:16px\">For each airline, return the first and last row of each group. Use one of the direct [GroupBy methods][1]</span>\n",
    "\n",
    "[1]: http://pandas.pydata.org/pandas-docs/stable/api.html#groupby"
   ]
  },
  {
   "cell_type": "code",
   "execution_count": null,
   "metadata": {},
   "outputs": [],
   "source": []
  }
 ],
 "metadata": {
  "anaconda-cloud": {},
  "kernelspec": {
   "display_name": "Python 3",
   "language": "python",
   "name": "python3"
  },
  "language_info": {
   "codemirror_mode": {
    "name": "ipython",
    "version": 3
   },
   "file_extension": ".py",
   "mimetype": "text/x-python",
   "name": "python",
   "nbconvert_exporter": "python",
   "pygments_lexer": "ipython3",
   "version": "3.6.6"
  },
  "varInspector": {
   "cols": {
    "lenName": 16,
    "lenType": 16,
    "lenVar": 40
   },
   "kernels_config": {
    "python": {
     "delete_cmd_postfix": "",
     "delete_cmd_prefix": "del ",
     "library": "var_list.py",
     "varRefreshCmd": "print(var_dic_list())"
    },
    "r": {
     "delete_cmd_postfix": ") ",
     "delete_cmd_prefix": "rm(",
     "library": "var_list.r",
     "varRefreshCmd": "cat(var_dic_list()) "
    }
   },
   "types_to_exclude": [
    "module",
    "function",
    "builtin_function_or_method",
    "instance",
    "_Feature"
   ],
   "window_display": false
  }
 },
 "nbformat": 4,
 "nbformat_minor": 1
}
