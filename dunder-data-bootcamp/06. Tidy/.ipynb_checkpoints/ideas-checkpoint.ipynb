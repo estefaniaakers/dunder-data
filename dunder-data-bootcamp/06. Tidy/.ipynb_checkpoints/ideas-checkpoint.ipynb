{
 "cells": [
  {
   "cell_type": "markdown",
   "metadata": {},
   "source": [
    "1. make actors and facebook into multiple tables"
   ]
  },
  {
   "cell_type": "markdown",
   "metadata": {},
   "source": [
    "ideas\n",
    "1. use categorical type\n",
    "1. different levels of ingestion, source systems, manual input, ETL,\n",
    "1. database world has been doing this all along. Re-branded into 'Tidy  Data' for data scientists.\n",
    "1. Common question on stackoverflow involves tidying data\n",
    "1. 80% of time cleaning the data and 20% of the time complaining about cleaning the data\n",
    "1. raw data to tidy data\n",
    "1. data in statistics books is clean - its tidy data (numbers)\n",
    "1. more than one variable in a cell - example: Houston, TX\n",
    "1. web scrape dirty data\n",
    "1. lots of excel pivot tables. deceiving - looks nice and clean\n",
    "1. reversal of grouping\n",
    "1. data dictionary (metadata)\n",
    "1. types of messy data: json data from scraping, binary data, excel tables with lots of empty spaces, twitter api\n",
    "1. get rawest form of data\n",
    "1. raw data video(https://www.youtube.com/watch?v=whDilsFoLVY)\n",
    "1. hadley https://vimeo.com/33727555\n",
    "1. hadley paper: http://vita.had.co.nz/papers/tidy-data.pdf\n",
    "1. each variable should be in one column\n",
    "1. Style - table names and variable names. agree on them\n",
    "1. Each variable should have its own column\n",
    "1. Each record (observation) should be in its own row\n",
    "1. Codd's third normal form\n",
    "1. Have unique id linking tables together\n",
    "1. pivoted tables that have aggregated values can't be undone\n",
    "1. wide vs long data\n",
    "1. order variables by type. fixed variables come first\n",
    "1. split into multiple tables with a key identifying each row (make into a relational database)\n",
    "\n",
    "1. Makes data analysis easy\n",
    "1. Data that easy to develop machine learning models and to visualize\n",
    "1. Doesn't tell you that data is correct, but structure is solid\n",
    "\n",
    "Common causes\n",
    "1. table is pivoted: column names are values and not variable names\n",
    "1. multiple variable stored in one column\n",
    "1. variables are stored in both rows and columns\n",
    "1. multiple types of variables stored in same table\n",
    "1. one experimental unit stored across multiple tables\n",
    "\n",
    "what to do after tidy?\n",
    "1. add more features\n",
    "1. filter data\n",
    "1. visualize\n",
    "1. machine learning\n",
    "\n",
    "For machine learning\n",
    "1. no missing values\n",
    "1. dummy values\n",
    "\n",
    "1. Filling missing values"
   ]
  }
 ],
 "metadata": {
  "kernelspec": {
   "display_name": "Python 3",
   "language": "python",
   "name": "python3"
  },
  "language_info": {
   "codemirror_mode": {
    "name": "ipython",
    "version": 3
   },
   "file_extension": ".py",
   "mimetype": "text/x-python",
   "name": "python",
   "nbconvert_exporter": "python",
   "pygments_lexer": "ipython3",
   "version": "3.6.1"
  }
 },
 "nbformat": 4,
 "nbformat_minor": 2
}
