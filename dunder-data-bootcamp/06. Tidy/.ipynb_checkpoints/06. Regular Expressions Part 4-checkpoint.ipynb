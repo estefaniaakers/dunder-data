{
 "cells": [
  {
   "cell_type": "markdown",
   "metadata": {},
   "source": [
    "# 6. Regular Expressions Part 4\n",
    "\n",
    "### Objectives\n",
    "* Functionality of special characters - ` \\ ( )`\n",
    "* Change operator precedence with parentheses\n",
    "* Extract data from strings with capture groups"
   ]
  },
  {
   "cell_type": "code",
   "execution_count": null,
   "metadata": {},
   "outputs": [],
   "source": [
    "import pandas as pd\n",
    "movie = pd.read_csv('../data/movie.csv')\n",
    "title = movie['title']"
   ]
  },
  {
   "cell_type": "markdown",
   "metadata": {},
   "source": [
    "## Special Characters lose their meaning within the brackets\n",
    "Special characters lose their special meaning within the brackets. For instance, **`[.]`** matches the literal dot and **`[()*$]`** matches any string with the literal parentheses, asterisk, or dollar sign.\n",
    "\n",
    "Let's match movies with an asterisk in them:"
   ]
  },
  {
   "cell_type": "code",
   "execution_count": null,
   "metadata": {},
   "outputs": [],
   "source": [
    "pattern = '[*]'\n",
    "filt = title.str.contains(pattern)\n",
    "title[filt]"
   ]
  },
  {
   "cell_type": "markdown",
   "metadata": {},
   "source": [
    "Match movies with either an asterisk or dollar sign."
   ]
  },
  {
   "cell_type": "code",
   "execution_count": null,
   "metadata": {},
   "outputs": [],
   "source": [
    "pattern = '[*$]'\n",
    "filt = title.str.contains(pattern)\n",
    "title[filt]"
   ]
  },
  {
   "cell_type": "markdown",
   "metadata": {},
   "source": [
    "### Excluding character classes with the caret\n",
    "It is possible to exclude character classes by putting a caret as the first character inside the brackets. For instance, **`Z[^aeiou]`** matches strings that begin have 'Z' followed by a non-vowel."
   ]
  },
  {
   "cell_type": "code",
   "execution_count": null,
   "metadata": {},
   "outputs": [],
   "source": [
    "pattern = 'Z[^aeiou]'\n",
    "filt = title.str.contains(pattern)\n",
    "title[filt]"
   ]
  },
  {
   "cell_type": "markdown",
   "metadata": {},
   "source": [
    "The following finds all movies that have an uppercase 'T' followed by a non-lowercase letter."
   ]
  },
  {
   "cell_type": "code",
   "execution_count": null,
   "metadata": {},
   "outputs": [],
   "source": [
    "pattern = 'T[^a-z]'\n",
    "filt = title.str.contains(pattern)\n",
    "title[filt]"
   ]
  },
  {
   "cell_type": "markdown",
   "metadata": {},
   "source": [
    "## The backslash `\\` metacharacter\n",
    "The backslash metacharacter is used in conjunction with the very **next** character to change its meaning.\n",
    "\n",
    "* `\\d` - all digits, equivalent to `[0-9]`\n",
    "* `\\D` - any non-digit.\n",
    "* `\\s` - any amount of whitespace including normal spaces and tabs\n",
    "* `\\S` - any non-whitespace\n",
    "* `\\w` - any 'word' character, which is any upper or lowercase letter, digit or underscore. Equivalent to `[A-Za-z0-9_]`\n",
    "* `\\W` - any non-word character\n",
    "* `\\b` - [word boundary][1]\n",
    "* `\\B` - non-word boundary\n",
    "\n",
    "For instance, **`^\\W`** matches all strings that begin with a non-word character.\n",
    "\n",
    "### Prefix the string with `r` to make it a raw string\n",
    "\n",
    "The backslash is a special character in normal Python strings. **`\\n`** represents a newline character, **`\\t`** represents a tab. To be sure your regex is exactly what you see, its best to use **raw** Python strings. Prepend the string with an r **outside** of the quotation marks to make it a raw string. Python will treat the backslash as a literal backslash without any special meaning.\n",
    "\n",
    "[1]: https://www.regular-expressions.info/wordboundaries.html"
   ]
  },
  {
   "cell_type": "code",
   "execution_count": null,
   "metadata": {},
   "outputs": [],
   "source": [
    "pattern = r'^\\W+'\n",
    "filt = title.str.contains(pattern)\n",
    "title[filt]"
   ]
  },
  {
   "cell_type": "markdown",
   "metadata": {},
   "source": [
    "### Backslash escapes special characters\n",
    "As we just saw, the special characters lose their special ability within the brackets. Preceding a special character by a backslash has the same effect. For instance **`\\*`** represents a literal asterisk and is the same as **`[*]`**"
   ]
  },
  {
   "cell_type": "code",
   "execution_count": null,
   "metadata": {},
   "outputs": [],
   "source": [
    "pattern = r'\\*'\n",
    "filt = title.str.contains(pattern)\n",
    "title[filt]"
   ]
  },
  {
   "cell_type": "markdown",
   "metadata": {},
   "source": [
    "## The parentheses metacharacters `( )`\n",
    "The parentheses metacharacters are used to **group** together parts of the regular expression. For instance, let's say we want to find all movies that begin with the word 'In' or 'My'. You might think about using **`'^In|My'`**:"
   ]
  },
  {
   "cell_type": "code",
   "execution_count": null,
   "metadata": {},
   "outputs": [],
   "source": [
    "pattern = '^In|My'\n",
    "filt = title.str.contains(pattern)\n",
    "title[filt].head()"
   ]
  },
  {
   "cell_type": "markdown",
   "metadata": {},
   "source": [
    "### The meaning of `^In|My`\n",
    "There are a couple things wrong with this regex. As seen above, we returned movies that begin with 'In', such as 'Indiana' or 'Inside' instead of the just the word 'In'.\n",
    "\n",
    "Second, the movie, 'Journey 2: The Mysterious Island' has 'My' within the name and not at the beginning. This mistake is happening because of **operator precedence** within the regex. \n",
    "\n",
    "`^In|My` matches movies that begin with the letters 'In' **OR** have 'My' anywhere inside it. The caret is only anchoring 'In'.\n",
    "\n",
    "## Using parentheses to change operator precedence\n",
    "We can use parentheses to change the operator precedence just how we do in mathematical expressions. Let's modify our expression to `'^(In|My)'`. Ignore the warning for now. We will take care of it below."
   ]
  },
  {
   "cell_type": "code",
   "execution_count": null,
   "metadata": {},
   "outputs": [],
   "source": [
    "pattern = '^(In|My)'\n",
    "filt = title.str.contains(pattern)\n",
    "title[filt].head(15)"
   ]
  },
  {
   "cell_type": "markdown",
   "metadata": {},
   "source": [
    "### Getting closer\n",
    "We grouped `In|My` together so the movie must begin with them. We'd like to make sure that In and My are not part of a larger word. To do that we can use the word boundary, `\\b`, which ensures that the word is ended.\n",
    "* `'^(In|My)\\b'`\n"
   ]
  },
  {
   "cell_type": "code",
   "execution_count": null,
   "metadata": {},
   "outputs": [],
   "source": [
    "pattern = r'^(In|My)\\b'\n",
    "filt = title.str.contains(pattern)\n",
    "title[filt].head(15)"
   ]
  },
  {
   "cell_type": "markdown",
   "metadata": {},
   "source": [
    "### Why are we getting `UserWarning: This pattern has match groups`?\n",
    "Besides operator precedence, parentheses have an alternative function and that is to extract specific text from a string. In regex terminology, we call this a **capturing group**. This warning is alerting us that we have used the syntax for a capture group but are not using a method to do extraction. It tells us to use the `extract` method if in fact we were interested in extracting this group.\n",
    "\n",
    "### Specifying a non-capturing group\n",
    "Our regular expression is valid the way it is. We can signal that this is a **non-capturing group** by placing **`?:`** as the first two characters inside of the parentheses. This will eliminate the warning."
   ]
  },
  {
   "cell_type": "code",
   "execution_count": null,
   "metadata": {},
   "outputs": [],
   "source": [
    "pattern = r'^(?:In|My)\\s'\n",
    "filt = title.str.contains(pattern)\n",
    "title[filt].head()"
   ]
  },
  {
   "cell_type": "markdown",
   "metadata": {},
   "source": [
    "## Using capture groups with the `extract` string method\n",
    "We can use the exact same pattern with the **`extract`** string method to extract the group."
   ]
  },
  {
   "cell_type": "code",
   "execution_count": null,
   "metadata": {},
   "outputs": [],
   "source": [
    "pattern = r'^(In|My)\\s'\n",
    "title.str.extract(pattern).head()"
   ]
  },
  {
   "cell_type": "markdown",
   "metadata": {},
   "source": [
    "### Why are all the values missing?\n",
    "Only a small fraction of the movie titles begin with 'In' or 'My'. Let's drop the missing values and see the extracted text:"
   ]
  },
  {
   "cell_type": "code",
   "execution_count": null,
   "metadata": {},
   "outputs": [],
   "source": [
    "pattern = '^(In|My)\\s'\n",
    "title.str.extract(pattern).dropna().head()"
   ]
  },
  {
   "cell_type": "markdown",
   "metadata": {},
   "source": [
    "### Extracting the fourth word of movie titles that begin with 'In' or 'My'\n",
    "Let's try something a bit more complex and extract the fourth word of all movies that begin with the words 'In' or 'My'. For instance, the movie, 'In the Heart of the Sea' meets our criteria. The word 'of' would be extracted from it.\n",
    "\n",
    "To accomplish this, we need to match movies that begin with 'In' or 'My' and then match two words, before capturing the fourth word.\n",
    "\n",
    "We already saw that `^(?:In|My)` completes the first part of this task. We can then add on `(?:\\s\\S+){2}` which is a non-capturing group that matches a space followed by one or more non-space characters. We use `{2}` to match two of these in a row. We then need to match one more space and then capture the next word. We do this with `\\s(\\S+)`.\n",
    "\n",
    "Remember, only the matched text in the parentheses is extracted. The parentheses that begin with `?:` are also not extracted."
   ]
  },
  {
   "cell_type": "code",
   "execution_count": null,
   "metadata": {},
   "outputs": [],
   "source": [
    "pattern = r'^(?:In|My)(?:\\s\\S+){2}\\s(\\S+)'\n",
    "title.str.extract(pattern).dropna().head()"
   ]
  },
  {
   "cell_type": "markdown",
   "metadata": {},
   "source": [
    "### `extract` must have capture groups\n",
    "The regex used with the **`extract`** string method must have capture groups. If not, an error will be raised.\n",
    "\n",
    "\n",
    "### Multiple capture groups for `extract`\n",
    "You can capture more than one group with **`extract`**. Take a look at the following regex which captures the first word after a movie that begins with 'The' and the first word after 'of'."
   ]
  },
  {
   "cell_type": "code",
   "execution_count": null,
   "metadata": {},
   "outputs": [],
   "source": [
    "pattern = r'^The (\\S+) .*of (\\S+)'\n",
    "title.str.extract(pattern).dropna().head()"
   ]
  },
  {
   "cell_type": "markdown",
   "metadata": {},
   "source": [
    "## Many other string methods take regexes\n",
    "You can use regular expressions in several other Series string methods such as **`count`**, **`replace`** and **`split`**. For instance, the following counts the times consecutive lowercase vowels appear for each string. We then find the maximum number of times this happens within the movie titles."
   ]
  },
  {
   "cell_type": "code",
   "execution_count": null,
   "metadata": {},
   "outputs": [],
   "source": [
    "pattern = r'[aeiou]{2}'\n",
    "title.str.count(pattern).max()"
   ]
  },
  {
   "cell_type": "markdown",
   "metadata": {},
   "source": [
    "# Other Flavors of Regex\n",
    "Regular expressions are not quite standardized for every single programming language, so you will need to ensure you are implementing the right 'flavor' for each language."
   ]
  },
  {
   "cell_type": "markdown",
   "metadata": {},
   "source": [
    "# More to Regex\n",
    "There is a lot more to regular expressions that was no covered in this notebook. \n",
    "\n",
    "* [Official Python Documentation][1]\n",
    "* [Thorough Online Tutorial][2]\n",
    "* [Practice with explanations][3] - make sure to choose Python\n",
    "\n",
    "[1]: https://docs.python.org/3/howto/regex.html\n",
    "[2]: https://www.regular-expressions.info/\n",
    "[3]: https://regex101.com/"
   ]
  },
  {
   "cell_type": "markdown",
   "metadata": {},
   "source": [
    "# Regex Summary\n",
    "* Literal characters represent themselves\n",
    "* Special or metacharacters represent something entirely different\n",
    "* Primarily usage of regex is to either match a particular string or extract a substring\n",
    "* Many Pandas string methods accept regular expressions but you will primarily be using **`contains`** and **`extract`**\n",
    "* Use raw Python strings when writing regex. Raw strings have 'r' prepended to them.\n",
    "\n",
    "### Metacharacter Summary\n",
    "`. ^ $ * + ? { } [ ] \\ | ( )`\n",
    "* `.` - Matches any character\n",
    "* `^` - Anchors next characters to beginning\n",
    "* `$` - Anchors previous characters to end\n",
    "* `*` - Matches 0 or more occurrences of previous character\n",
    "* `+` - Matches 1 or more occurrences of previous character\n",
    "* `?` - Matches 0 or 1 occurrences of previous character\n",
    "* `{m}`, `{m,}`, `{m,n}` Matches m, m or more, between m and n repeats of previous character\n",
    "* `[]` - A character set to match one out of many characters. `[aeiou]` matches a single vowel\n",
    "* `[a-z]`, `[A-Z]`, `[0-9]` - Character sets for lowercase, uppercase, and digits\n",
    "* `[^abc]` - Use caret at beginning of bracket to match anything but these characters\n",
    "* `\\` - backslash changes meaning of next character\n",
    "* `\\s` - whitespace\n",
    "* `\\S` - non-whitespace\n",
    "* `\\w` - lower/uppercase, digits, and underscore\n",
    "* `\\W` - everything but `\\w`\n",
    "* `\\d` - digits\n",
    "* `\\D` - non-digits\n",
    "* `\\.` - Escapes all special characters such as literal dot here. \n",
    "* `|` - Or clause. Matches when either left or right set of characters match. `cat|dog` matches either 'cat' or 'dog'\n",
    "* `()` - Groups together parts of regex like mathematical parentheses to achieve different operator precedence\n",
    "* `()` - Also represents capture groups for extracting text. Use `(?:)` to signal non-capturing group."
   ]
  },
  {
   "cell_type": "markdown",
   "metadata": {},
   "source": [
    "# Exercises"
   ]
  },
  {
   "cell_type": "markdown",
   "metadata": {},
   "source": [
    "### Problem 1\n",
    "<span  style=\"color:green; font-size:16px\">For all movies that begin with 'The' and are followed by the next word that begins with a digit, extract just the digits part of this word.</span>"
   ]
  },
  {
   "cell_type": "code",
   "execution_count": null,
   "metadata": {},
   "outputs": [],
   "source": []
  },
  {
   "cell_type": "markdown",
   "metadata": {},
   "source": [
    "### Problem 2\n",
    "<span  style=\"color:green; font-size:16px\">Find all movies that have two separate numbers in them. An example would be, '7 days and 7 nights'.</span>"
   ]
  },
  {
   "cell_type": "code",
   "execution_count": null,
   "metadata": {},
   "outputs": [],
   "source": []
  },
  {
   "cell_type": "markdown",
   "metadata": {},
   "source": [
    "### Problem 3\n",
    "<span  style=\"color:green; font-size:16px\">Find all the movies that have 6 or more non-vowel and non-space characters in a row.</span>"
   ]
  },
  {
   "cell_type": "code",
   "execution_count": null,
   "metadata": {},
   "outputs": [],
   "source": []
  },
  {
   "cell_type": "markdown",
   "metadata": {},
   "source": [
    "### Problem 4\n",
    "<span  style=\"color:green; font-size:16px\">Extract the very next character after 't' or 'T' for each movie.</span>"
   ]
  },
  {
   "cell_type": "code",
   "execution_count": null,
   "metadata": {},
   "outputs": [],
   "source": []
  },
  {
   "cell_type": "markdown",
   "metadata": {},
   "source": [
    "### Problem 5\n",
    "<span  style=\"color:green; font-size:16px\">What is the most common character after 't' or 'T'?</span>"
   ]
  },
  {
   "cell_type": "code",
   "execution_count": null,
   "metadata": {},
   "outputs": [],
   "source": []
  },
  {
   "cell_type": "markdown",
   "metadata": {},
   "source": [
    "### Problem 6\n",
    "<span style=\"color:green; font-size:16px\">Extract all the words that begin with 'T' or 't' and end in 'e' then find their frequency. Research the word boundaray special character.</span>"
   ]
  },
  {
   "cell_type": "code",
   "execution_count": null,
   "metadata": {},
   "outputs": [],
   "source": []
  }
 ],
 "metadata": {
  "kernelspec": {
   "display_name": "Python 3",
   "language": "python",
   "name": "python3"
  },
  "language_info": {
   "codemirror_mode": {
    "name": "ipython",
    "version": 3
   },
   "file_extension": ".py",
   "mimetype": "text/x-python",
   "name": "python",
   "nbconvert_exporter": "python",
   "pygments_lexer": "ipython3",
   "version": "3.6.7"
  }
 },
 "nbformat": 4,
 "nbformat_minor": 2
}
