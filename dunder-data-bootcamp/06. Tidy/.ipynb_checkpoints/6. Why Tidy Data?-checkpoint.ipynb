{
 "cells": [
  {
   "cell_type": "markdown",
   "metadata": {},
   "source": [
    "# Why Tidy Data\n",
    "\n",
    "### Objectives\n",
    "After this lesson you should be able to...\n",
    "+ Know why Tidy data works and where it works best\n",
    "\n",
    "### Prepare for this lesson by...\n",
    "+ Read Hadley Wickham's paper on [tidy data](http://vita.had.co.nz/papers/tidy-data.pdf)\n",
    "+ Watch Hadley Wickham's talk on [tidy data](https://vimeo.com/33727555)\n",
    "+ Watch Jeff Leek's video on [tidy data](https://www.youtube.com/watch?v=whDilsFoLVY)\n",
    "+ Read the [reshaping pandas documentation page](http://pandas.pydata.org/pandas-docs/stable/reshaping.html)\n",
    "+ Read the entire page [working with text data](http://pandas.pydata.org/pandas-docs/stable/text.html)\n",
    "\n",
    "### Introduction\n",
    "In this next notebook we will see why tidy data is useful. Tidy data is supposed to make our lives easier by making aggregation, sorting, filtering, visualizing and applying machine learning easier.\n",
    "\n",
    "To test this idea, we will perform many different data analyses on both the tidy and original datasets to see how they differ. To make the analysis easier, the original dataset has its percentage columns converted to numeric."
   ]
  },
  {
   "cell_type": "code",
   "execution_count": 1,
   "metadata": {
    "collapsed": true
   },
   "outputs": [],
   "source": [
    "import pandas as pd\n",
    "import numpy as np"
   ]
  },
  {
   "cell_type": "code",
   "execution_count": 2,
   "metadata": {},
   "outputs": [
    {
     "data": {
      "text/html": [
       "<div>\n",
       "<style>\n",
       "    .dataframe thead tr:only-child th {\n",
       "        text-align: right;\n",
       "    }\n",
       "\n",
       "    .dataframe thead th {\n",
       "        text-align: left;\n",
       "    }\n",
       "\n",
       "    .dataframe tbody tr th {\n",
       "        vertical-align: top;\n",
       "    }\n",
       "</style>\n",
       "<table border=\"1\" class=\"dataframe\">\n",
       "  <thead>\n",
       "    <tr style=\"text-align: right;\">\n",
       "      <th></th>\n",
       "      <th>Race/ethnicity</th>\n",
       "      <th>Year</th>\n",
       "      <th>Rate of birth to women ages 18-19</th>\n",
       "      <th>Distribution of male children born to women ages 18-19</th>\n",
       "      <th>Distribution of female children born to women ages 18-19</th>\n",
       "      <th>Rate of birth to women ages 20-24</th>\n",
       "      <th>Distribution of male children born to women ages 20-24</th>\n",
       "      <th>Distribution of female children born to women ages 20-24</th>\n",
       "    </tr>\n",
       "  </thead>\n",
       "  <tbody>\n",
       "    <tr>\n",
       "      <th>0</th>\n",
       "      <td>White, non-Hispanic</td>\n",
       "      <td>2000</td>\n",
       "      <td>57.5</td>\n",
       "      <td>51.5</td>\n",
       "      <td>48.5</td>\n",
       "      <td>91.2</td>\n",
       "      <td>51.2</td>\n",
       "      <td>48.8</td>\n",
       "    </tr>\n",
       "    <tr>\n",
       "      <th>1</th>\n",
       "      <td>White, non-Hispanic</td>\n",
       "      <td>2001</td>\n",
       "      <td>54.7</td>\n",
       "      <td>51.3</td>\n",
       "      <td>48.7</td>\n",
       "      <td>87.0</td>\n",
       "      <td>51.2</td>\n",
       "      <td>48.8</td>\n",
       "    </tr>\n",
       "    <tr>\n",
       "      <th>2</th>\n",
       "      <td>White, non-Hispanic</td>\n",
       "      <td>2002</td>\n",
       "      <td>52.0</td>\n",
       "      <td>51.1</td>\n",
       "      <td>48.9</td>\n",
       "      <td>84.7</td>\n",
       "      <td>51.4</td>\n",
       "      <td>48.6</td>\n",
       "    </tr>\n",
       "    <tr>\n",
       "      <th>3</th>\n",
       "      <td>White, non-Hispanic</td>\n",
       "      <td>2003</td>\n",
       "      <td>50.0</td>\n",
       "      <td>51.4</td>\n",
       "      <td>48.6</td>\n",
       "      <td>84.1</td>\n",
       "      <td>51.3</td>\n",
       "      <td>48.7</td>\n",
       "    </tr>\n",
       "    <tr>\n",
       "      <th>4</th>\n",
       "      <td>White, non-Hispanic</td>\n",
       "      <td>2004</td>\n",
       "      <td>48.6</td>\n",
       "      <td>51.2</td>\n",
       "      <td>48.8</td>\n",
       "      <td>83.0</td>\n",
       "      <td>51.2</td>\n",
       "      <td>48.8</td>\n",
       "    </tr>\n",
       "  </tbody>\n",
       "</table>\n",
       "</div>"
      ],
      "text/plain": [
       "       Race/ethnicity   Year  Rate of birth to women ages 18-19  \\\n",
       "0  White, non-Hispanic  2000                               57.5   \n",
       "1  White, non-Hispanic  2001                               54.7   \n",
       "2  White, non-Hispanic  2002                               52.0   \n",
       "3  White, non-Hispanic  2003                               50.0   \n",
       "4  White, non-Hispanic  2004                               48.6   \n",
       "\n",
       "   Distribution of male children born to women ages 18-19  \\\n",
       "0                                               51.5        \n",
       "1                                               51.3        \n",
       "2                                               51.1        \n",
       "3                                               51.4        \n",
       "4                                               51.2        \n",
       "\n",
       "   Distribution of female children born to women ages 18-19  \\\n",
       "0                                               48.5          \n",
       "1                                               48.7          \n",
       "2                                               48.9          \n",
       "3                                               48.6          \n",
       "4                                               48.8          \n",
       "\n",
       "   Rate of birth to women ages 20-24  \\\n",
       "0                               91.2   \n",
       "1                               87.0   \n",
       "2                               84.7   \n",
       "3                               84.1   \n",
       "4                               83.0   \n",
       "\n",
       "   Distribution of male children born to women ages 20-24  \\\n",
       "0                                               51.2        \n",
       "1                                               51.2        \n",
       "2                                               51.4        \n",
       "3                                               51.3        \n",
       "4                                               51.2        \n",
       "\n",
       "   Distribution of female children born to women ages 20-24  \n",
       "0                                               48.8         \n",
       "1                                               48.8         \n",
       "2                                               48.6         \n",
       "3                                               48.7         \n",
       "4                                               48.8         "
      ]
     },
     "execution_count": 2,
     "metadata": {},
     "output_type": "execute_result"
    }
   ],
   "source": [
    "# reprint out original\n",
    "df_original = pd.read_csv('data/my_brothers_keeper.csv')\n",
    "\n",
    "# convert percentage columns to numeric\n",
    "df_original.iloc[:, [3,4,6,7]] = df_original.iloc[:, [3,4,6,7]].apply(lambda x: x.str.replace('%', '').astype(float))\n",
    "\n",
    "# new variable for tidy data\n",
    "df_tidy = pd.read_csv('data/mbk_tidy.csv')\n",
    "\n",
    "df_original.head()"
   ]
  },
  {
   "cell_type": "code",
   "execution_count": 3,
   "metadata": {},
   "outputs": [
    {
     "data": {
      "text/html": [
       "<div>\n",
       "<style>\n",
       "    .dataframe thead tr:only-child th {\n",
       "        text-align: right;\n",
       "    }\n",
       "\n",
       "    .dataframe thead th {\n",
       "        text-align: left;\n",
       "    }\n",
       "\n",
       "    .dataframe tbody tr th {\n",
       "        vertical-align: top;\n",
       "    }\n",
       "</style>\n",
       "<table border=\"1\" class=\"dataframe\">\n",
       "  <thead>\n",
       "    <tr style=\"text-align: right;\">\n",
       "      <th></th>\n",
       "      <th>Race/ethnicity</th>\n",
       "      <th>Year</th>\n",
       "      <th>Age Group</th>\n",
       "      <th>Gender Percentage</th>\n",
       "      <th>Gender</th>\n",
       "      <th>Birth Rate</th>\n",
       "    </tr>\n",
       "  </thead>\n",
       "  <tbody>\n",
       "    <tr>\n",
       "      <th>0</th>\n",
       "      <td>White, non-Hispanic</td>\n",
       "      <td>2000</td>\n",
       "      <td>18-19</td>\n",
       "      <td>51.5</td>\n",
       "      <td>male</td>\n",
       "      <td>29.6125</td>\n",
       "    </tr>\n",
       "    <tr>\n",
       "      <th>1</th>\n",
       "      <td>White, non-Hispanic</td>\n",
       "      <td>2000</td>\n",
       "      <td>18-19</td>\n",
       "      <td>48.5</td>\n",
       "      <td>female</td>\n",
       "      <td>27.8875</td>\n",
       "    </tr>\n",
       "    <tr>\n",
       "      <th>2</th>\n",
       "      <td>White, non-Hispanic</td>\n",
       "      <td>2000</td>\n",
       "      <td>20-24</td>\n",
       "      <td>51.2</td>\n",
       "      <td>male</td>\n",
       "      <td>46.6944</td>\n",
       "    </tr>\n",
       "    <tr>\n",
       "      <th>3</th>\n",
       "      <td>White, non-Hispanic</td>\n",
       "      <td>2000</td>\n",
       "      <td>20-24</td>\n",
       "      <td>48.8</td>\n",
       "      <td>female</td>\n",
       "      <td>44.5056</td>\n",
       "    </tr>\n",
       "    <tr>\n",
       "      <th>4</th>\n",
       "      <td>White, non-Hispanic</td>\n",
       "      <td>2001</td>\n",
       "      <td>18-19</td>\n",
       "      <td>51.3</td>\n",
       "      <td>male</td>\n",
       "      <td>28.0611</td>\n",
       "    </tr>\n",
       "  </tbody>\n",
       "</table>\n",
       "</div>"
      ],
      "text/plain": [
       "        Race/ethnicity  Year Age Group  Gender Percentage  Gender  Birth Rate\n",
       "0  White, non-Hispanic  2000     18-19               51.5    male     29.6125\n",
       "1  White, non-Hispanic  2000     18-19               48.5  female     27.8875\n",
       "2  White, non-Hispanic  2000     20-24               51.2    male     46.6944\n",
       "3  White, non-Hispanic  2000     20-24               48.8  female     44.5056\n",
       "4  White, non-Hispanic  2001     18-19               51.3    male     28.0611"
      ]
     },
     "execution_count": 3,
     "metadata": {},
     "output_type": "execute_result"
    }
   ],
   "source": [
    "df_tidy.head()"
   ]
  },
  {
   "cell_type": "markdown",
   "metadata": {},
   "source": [
    "### Comparison #1\n",
    "For our first comparison between tidy and messy data we will filter for the race **`Black, non-Hispainc`**."
   ]
  },
  {
   "cell_type": "code",
   "execution_count": 4,
   "metadata": {},
   "outputs": [
    {
     "data": {
      "text/html": [
       "<div>\n",
       "<style>\n",
       "    .dataframe thead tr:only-child th {\n",
       "        text-align: right;\n",
       "    }\n",
       "\n",
       "    .dataframe thead th {\n",
       "        text-align: left;\n",
       "    }\n",
       "\n",
       "    .dataframe tbody tr th {\n",
       "        vertical-align: top;\n",
       "    }\n",
       "</style>\n",
       "<table border=\"1\" class=\"dataframe\">\n",
       "  <thead>\n",
       "    <tr style=\"text-align: right;\">\n",
       "      <th></th>\n",
       "      <th>Race/ethnicity</th>\n",
       "      <th>Year</th>\n",
       "      <th>Rate of birth to women ages 18-19</th>\n",
       "      <th>Distribution of male children born to women ages 18-19</th>\n",
       "      <th>Distribution of female children born to women ages 18-19</th>\n",
       "      <th>Rate of birth to women ages 20-24</th>\n",
       "      <th>Distribution of male children born to women ages 20-24</th>\n",
       "      <th>Distribution of female children born to women ages 20-24</th>\n",
       "    </tr>\n",
       "  </thead>\n",
       "  <tbody>\n",
       "    <tr>\n",
       "      <th>13</th>\n",
       "      <td>Black, non-Hispanic</td>\n",
       "      <td>2000</td>\n",
       "      <td>121.9</td>\n",
       "      <td>51.0</td>\n",
       "      <td>49.0</td>\n",
       "      <td>145.4</td>\n",
       "      <td>50.7</td>\n",
       "      <td>49.3</td>\n",
       "    </tr>\n",
       "    <tr>\n",
       "      <th>14</th>\n",
       "      <td>Black, non-Hispanic</td>\n",
       "      <td>2001</td>\n",
       "      <td>115.9</td>\n",
       "      <td>50.8</td>\n",
       "      <td>49.2</td>\n",
       "      <td>137.3</td>\n",
       "      <td>50.7</td>\n",
       "      <td>49.3</td>\n",
       "    </tr>\n",
       "    <tr>\n",
       "      <th>15</th>\n",
       "      <td>Black, non-Hispanic</td>\n",
       "      <td>2002</td>\n",
       "      <td>109.5</td>\n",
       "      <td>51.1</td>\n",
       "      <td>48.9</td>\n",
       "      <td>131.4</td>\n",
       "      <td>50.9</td>\n",
       "      <td>49.1</td>\n",
       "    </tr>\n",
       "    <tr>\n",
       "      <th>16</th>\n",
       "      <td>Black, non-Hispanic</td>\n",
       "      <td>2003</td>\n",
       "      <td>103.4</td>\n",
       "      <td>51.4</td>\n",
       "      <td>48.6</td>\n",
       "      <td>128.8</td>\n",
       "      <td>50.8</td>\n",
       "      <td>49.2</td>\n",
       "    </tr>\n",
       "    <tr>\n",
       "      <th>17</th>\n",
       "      <td>Black, non-Hispanic</td>\n",
       "      <td>2004</td>\n",
       "      <td>101.6</td>\n",
       "      <td>51.2</td>\n",
       "      <td>48.8</td>\n",
       "      <td>127.9</td>\n",
       "      <td>51.0</td>\n",
       "      <td>49.0</td>\n",
       "    </tr>\n",
       "  </tbody>\n",
       "</table>\n",
       "</div>"
      ],
      "text/plain": [
       "        Race/ethnicity   Year  Rate of birth to women ages 18-19  \\\n",
       "13  Black, non-Hispanic  2000                              121.9   \n",
       "14  Black, non-Hispanic  2001                              115.9   \n",
       "15  Black, non-Hispanic  2002                              109.5   \n",
       "16  Black, non-Hispanic  2003                              103.4   \n",
       "17  Black, non-Hispanic  2004                              101.6   \n",
       "\n",
       "    Distribution of male children born to women ages 18-19  \\\n",
       "13                                               51.0        \n",
       "14                                               50.8        \n",
       "15                                               51.1        \n",
       "16                                               51.4        \n",
       "17                                               51.2        \n",
       "\n",
       "    Distribution of female children born to women ages 18-19  \\\n",
       "13                                               49.0          \n",
       "14                                               49.2          \n",
       "15                                               48.9          \n",
       "16                                               48.6          \n",
       "17                                               48.8          \n",
       "\n",
       "    Rate of birth to women ages 20-24  \\\n",
       "13                              145.4   \n",
       "14                              137.3   \n",
       "15                              131.4   \n",
       "16                              128.8   \n",
       "17                              127.9   \n",
       "\n",
       "    Distribution of male children born to women ages 20-24  \\\n",
       "13                                               50.7        \n",
       "14                                               50.7        \n",
       "15                                               50.9        \n",
       "16                                               50.8        \n",
       "17                                               51.0        \n",
       "\n",
       "    Distribution of female children born to women ages 20-24  \n",
       "13                                               49.3         \n",
       "14                                               49.3         \n",
       "15                                               49.1         \n",
       "16                                               49.2         \n",
       "17                                               49.0         "
      ]
     },
     "execution_count": 4,
     "metadata": {},
     "output_type": "execute_result"
    }
   ],
   "source": [
    "# original\n",
    "df_original[df_original['Race/ethnicity '] == 'Black, non-Hispanic'].head()"
   ]
  },
  {
   "cell_type": "code",
   "execution_count": 5,
   "metadata": {},
   "outputs": [
    {
     "data": {
      "text/html": [
       "<div>\n",
       "<style>\n",
       "    .dataframe thead tr:only-child th {\n",
       "        text-align: right;\n",
       "    }\n",
       "\n",
       "    .dataframe thead th {\n",
       "        text-align: left;\n",
       "    }\n",
       "\n",
       "    .dataframe tbody tr th {\n",
       "        vertical-align: top;\n",
       "    }\n",
       "</style>\n",
       "<table border=\"1\" class=\"dataframe\">\n",
       "  <thead>\n",
       "    <tr style=\"text-align: right;\">\n",
       "      <th></th>\n",
       "      <th>Race/ethnicity</th>\n",
       "      <th>Year</th>\n",
       "      <th>Age Group</th>\n",
       "      <th>Gender Percentage</th>\n",
       "      <th>Gender</th>\n",
       "      <th>Birth Rate</th>\n",
       "    </tr>\n",
       "  </thead>\n",
       "  <tbody>\n",
       "    <tr>\n",
       "      <th>52</th>\n",
       "      <td>Black, non-Hispanic</td>\n",
       "      <td>2000</td>\n",
       "      <td>18-19</td>\n",
       "      <td>51.0</td>\n",
       "      <td>male</td>\n",
       "      <td>62.1690</td>\n",
       "    </tr>\n",
       "    <tr>\n",
       "      <th>53</th>\n",
       "      <td>Black, non-Hispanic</td>\n",
       "      <td>2000</td>\n",
       "      <td>18-19</td>\n",
       "      <td>49.0</td>\n",
       "      <td>female</td>\n",
       "      <td>59.7310</td>\n",
       "    </tr>\n",
       "    <tr>\n",
       "      <th>54</th>\n",
       "      <td>Black, non-Hispanic</td>\n",
       "      <td>2000</td>\n",
       "      <td>20-24</td>\n",
       "      <td>50.7</td>\n",
       "      <td>male</td>\n",
       "      <td>73.7178</td>\n",
       "    </tr>\n",
       "    <tr>\n",
       "      <th>55</th>\n",
       "      <td>Black, non-Hispanic</td>\n",
       "      <td>2000</td>\n",
       "      <td>20-24</td>\n",
       "      <td>49.3</td>\n",
       "      <td>female</td>\n",
       "      <td>71.6822</td>\n",
       "    </tr>\n",
       "    <tr>\n",
       "      <th>56</th>\n",
       "      <td>Black, non-Hispanic</td>\n",
       "      <td>2001</td>\n",
       "      <td>18-19</td>\n",
       "      <td>50.8</td>\n",
       "      <td>male</td>\n",
       "      <td>58.8772</td>\n",
       "    </tr>\n",
       "  </tbody>\n",
       "</table>\n",
       "</div>"
      ],
      "text/plain": [
       "         Race/ethnicity  Year Age Group  Gender Percentage  Gender  Birth Rate\n",
       "52  Black, non-Hispanic  2000     18-19               51.0    male     62.1690\n",
       "53  Black, non-Hispanic  2000     18-19               49.0  female     59.7310\n",
       "54  Black, non-Hispanic  2000     20-24               50.7    male     73.7178\n",
       "55  Black, non-Hispanic  2000     20-24               49.3  female     71.6822\n",
       "56  Black, non-Hispanic  2001     18-19               50.8    male     58.8772"
      ]
     },
     "execution_count": 5,
     "metadata": {},
     "output_type": "execute_result"
    }
   ],
   "source": [
    "# tidy\n",
    "df_tidy[df_tidy['Race/ethnicity'] == 'Black, non-Hispanic'].head()"
   ]
  },
  {
   "cell_type": "markdown",
   "metadata": {},
   "source": [
    "### Comments for comparison #1\n",
    "Since the messy dataset had the race in a single column, the code is identical. The messy dataset might actually be preferable for readability."
   ]
  },
  {
   "cell_type": "markdown",
   "metadata": {},
   "source": [
    "### Comparison #2\n",
    "Filter for black males."
   ]
  },
  {
   "cell_type": "code",
   "execution_count": 6,
   "metadata": {},
   "outputs": [
    {
     "data": {
      "text/html": [
       "<div>\n",
       "<style>\n",
       "    .dataframe thead tr:only-child th {\n",
       "        text-align: right;\n",
       "    }\n",
       "\n",
       "    .dataframe thead th {\n",
       "        text-align: left;\n",
       "    }\n",
       "\n",
       "    .dataframe tbody tr th {\n",
       "        vertical-align: top;\n",
       "    }\n",
       "</style>\n",
       "<table border=\"1\" class=\"dataframe\">\n",
       "  <thead>\n",
       "    <tr style=\"text-align: right;\">\n",
       "      <th></th>\n",
       "      <th>Distribution of male children born to women ages 18-19</th>\n",
       "      <th>Distribution of male children born to women ages 20-24</th>\n",
       "    </tr>\n",
       "  </thead>\n",
       "  <tbody>\n",
       "    <tr>\n",
       "      <th>13</th>\n",
       "      <td>51.0</td>\n",
       "      <td>50.7</td>\n",
       "    </tr>\n",
       "    <tr>\n",
       "      <th>14</th>\n",
       "      <td>50.8</td>\n",
       "      <td>50.7</td>\n",
       "    </tr>\n",
       "    <tr>\n",
       "      <th>15</th>\n",
       "      <td>51.1</td>\n",
       "      <td>50.9</td>\n",
       "    </tr>\n",
       "    <tr>\n",
       "      <th>16</th>\n",
       "      <td>51.4</td>\n",
       "      <td>50.8</td>\n",
       "    </tr>\n",
       "    <tr>\n",
       "      <th>17</th>\n",
       "      <td>51.2</td>\n",
       "      <td>51.0</td>\n",
       "    </tr>\n",
       "  </tbody>\n",
       "</table>\n",
       "</div>"
      ],
      "text/plain": [
       "    Distribution of male children born to women ages 18-19  \\\n",
       "13                                               51.0        \n",
       "14                                               50.8        \n",
       "15                                               51.1        \n",
       "16                                               51.4        \n",
       "17                                               51.2        \n",
       "\n",
       "    Distribution of male children born to women ages 20-24  \n",
       "13                                               50.7       \n",
       "14                                               50.7       \n",
       "15                                               50.9       \n",
       "16                                               50.8       \n",
       "17                                               51.0       "
      ]
     },
     "execution_count": 6,
     "metadata": {},
     "output_type": "execute_result"
    }
   ],
   "source": [
    "# original\n",
    "male_columns = df_original.columns.str.contains('of male')\n",
    "df_original.loc[df_original['Race/ethnicity ']== 'Black, non-Hispanic', male_columns].head()"
   ]
  },
  {
   "cell_type": "code",
   "execution_count": 7,
   "metadata": {},
   "outputs": [
    {
     "data": {
      "text/html": [
       "<div>\n",
       "<style>\n",
       "    .dataframe thead tr:only-child th {\n",
       "        text-align: right;\n",
       "    }\n",
       "\n",
       "    .dataframe thead th {\n",
       "        text-align: left;\n",
       "    }\n",
       "\n",
       "    .dataframe tbody tr th {\n",
       "        vertical-align: top;\n",
       "    }\n",
       "</style>\n",
       "<table border=\"1\" class=\"dataframe\">\n",
       "  <thead>\n",
       "    <tr style=\"text-align: right;\">\n",
       "      <th></th>\n",
       "      <th>Race/ethnicity</th>\n",
       "      <th>Year</th>\n",
       "      <th>Age Group</th>\n",
       "      <th>Gender Percentage</th>\n",
       "      <th>Gender</th>\n",
       "      <th>Birth Rate</th>\n",
       "    </tr>\n",
       "  </thead>\n",
       "  <tbody>\n",
       "    <tr>\n",
       "      <th>52</th>\n",
       "      <td>Black, non-Hispanic</td>\n",
       "      <td>2000</td>\n",
       "      <td>18-19</td>\n",
       "      <td>51.0</td>\n",
       "      <td>male</td>\n",
       "      <td>62.1690</td>\n",
       "    </tr>\n",
       "    <tr>\n",
       "      <th>54</th>\n",
       "      <td>Black, non-Hispanic</td>\n",
       "      <td>2000</td>\n",
       "      <td>20-24</td>\n",
       "      <td>50.7</td>\n",
       "      <td>male</td>\n",
       "      <td>73.7178</td>\n",
       "    </tr>\n",
       "    <tr>\n",
       "      <th>56</th>\n",
       "      <td>Black, non-Hispanic</td>\n",
       "      <td>2001</td>\n",
       "      <td>18-19</td>\n",
       "      <td>50.8</td>\n",
       "      <td>male</td>\n",
       "      <td>58.8772</td>\n",
       "    </tr>\n",
       "    <tr>\n",
       "      <th>58</th>\n",
       "      <td>Black, non-Hispanic</td>\n",
       "      <td>2001</td>\n",
       "      <td>20-24</td>\n",
       "      <td>50.7</td>\n",
       "      <td>male</td>\n",
       "      <td>69.6111</td>\n",
       "    </tr>\n",
       "    <tr>\n",
       "      <th>60</th>\n",
       "      <td>Black, non-Hispanic</td>\n",
       "      <td>2002</td>\n",
       "      <td>18-19</td>\n",
       "      <td>51.1</td>\n",
       "      <td>male</td>\n",
       "      <td>55.9545</td>\n",
       "    </tr>\n",
       "  </tbody>\n",
       "</table>\n",
       "</div>"
      ],
      "text/plain": [
       "         Race/ethnicity  Year Age Group  Gender Percentage Gender  Birth Rate\n",
       "52  Black, non-Hispanic  2000     18-19               51.0   male     62.1690\n",
       "54  Black, non-Hispanic  2000     20-24               50.7   male     73.7178\n",
       "56  Black, non-Hispanic  2001     18-19               50.8   male     58.8772\n",
       "58  Black, non-Hispanic  2001     20-24               50.7   male     69.6111\n",
       "60  Black, non-Hispanic  2002     18-19               51.1   male     55.9545"
      ]
     },
     "execution_count": 7,
     "metadata": {},
     "output_type": "execute_result"
    }
   ],
   "source": [
    "# tidy\n",
    "criteria = (df_tidy['Race/ethnicity'] == 'Black, non-Hispanic') & (df_tidy['Gender'] == 'male')\n",
    "df_tidy[criteria].head()"
   ]
  },
  {
   "cell_type": "markdown",
   "metadata": {},
   "source": [
    "### Comments for comparison #2\n",
    "This filter is a huge win for tidy data. The filtering is much more straightforward and the entire dataset is returned instead of just two columns. The birth rate is also returned specifically for males."
   ]
  },
  {
   "cell_type": "markdown",
   "metadata": {},
   "source": [
    "### Comparison #3\n",
    "Find the average percentage women for all races for each age group."
   ]
  },
  {
   "cell_type": "code",
   "execution_count": 8,
   "metadata": {},
   "outputs": [
    {
     "data": {
      "text/plain": [
       "Distribution of female children born to women ages 18-19    48.849231\n",
       "Distribution of female children born to women ages 20-24    48.936923\n",
       "dtype: float64"
      ]
     },
     "execution_count": 8,
     "metadata": {},
     "output_type": "execute_result"
    }
   ],
   "source": [
    "# original\n",
    "\n",
    "cols = ['Distribution of female children born to women ages 18-19',\n",
    "       'Distribution of female children born to women ages 20-24']\n",
    "df_original[cols].mean()"
   ]
  },
  {
   "cell_type": "code",
   "execution_count": 9,
   "metadata": {},
   "outputs": [
    {
     "data": {
      "text/plain": [
       "Age Group\n",
       "18-19    48.849231\n",
       "20-24    48.936923\n",
       "Name: Gender Percentage, dtype: float64"
      ]
     },
     "execution_count": 9,
     "metadata": {},
     "output_type": "execute_result"
    }
   ],
   "source": [
    "# tidy\n",
    "df_tidy[df_tidy['Gender'] == 'female'].groupby(['Age Group'])['Gender Percentage'].mean()"
   ]
  },
  {
   "cell_type": "markdown",
   "metadata": {},
   "source": [
    "### Comments for comparison #3\n",
    "Since the messy data has both female and male observations in the same line, no groupby is needed. They are both fairly straightforward."
   ]
  },
  {
   "cell_type": "markdown",
   "metadata": {},
   "source": [
    "### Comparison #4\n",
    "Which gender has the highest average birth rate for each age group."
   ]
  },
  {
   "cell_type": "code",
   "execution_count": 10,
   "metadata": {
    "collapsed": true
   },
   "outputs": [],
   "source": [
    "# original\n",
    "age_18_19_female = (df_original['Rate of birth to women ages 18-19'] / 100 * \n",
    "                 df_original['Distribution of female children born to women ages 18-19']).mean()\n",
    "\n",
    "age_20_24_female = (df_original['Rate of birth to women ages 20-24'] / 100 * \n",
    "                     df_original['Distribution of female children born to women ages 20-24']).mean()\n",
    "\n",
    "age_18_19_male = (df_original['Rate of birth to women ages 18-19'] / 100 * \n",
    "                 df_original['Distribution of male children born to women ages 18-19']).mean()\n",
    "\n",
    "age_20_24_male = (df_original['Rate of birth to women ages 20-24'] / 100 * \n",
    "                     df_original['Distribution of male children born to women ages 20-24']).mean()"
   ]
  },
  {
   "cell_type": "code",
   "execution_count": 11,
   "metadata": {},
   "outputs": [
    {
     "data": {
      "text/plain": [
       "(35.76079384615386, 50.16482769230768, 37.371306153846156, 52.24748000000001)"
      ]
     },
     "execution_count": 11,
     "metadata": {},
     "output_type": "execute_result"
    }
   ],
   "source": [
    "age_18_19_female, age_20_24_female, age_18_19_male, age_20_24_male"
   ]
  },
  {
   "cell_type": "code",
   "execution_count": 12,
   "metadata": {},
   "outputs": [
    {
     "data": {
      "text/plain": [
       "Gender  Age Group\n",
       "female  18-19        35.760794\n",
       "        20-24        50.164828\n",
       "male    18-19        37.371306\n",
       "        20-24        52.247480\n",
       "Name: Birth Rate, dtype: float64"
      ]
     },
     "execution_count": 12,
     "metadata": {},
     "output_type": "execute_result"
    }
   ],
   "source": [
    "# tidy\n",
    "df_tidy.groupby(['Gender', 'Age Group'])['Birth Rate'].mean()"
   ]
  },
  {
   "cell_type": "markdown",
   "metadata": {},
   "source": [
    "### Comments for comparison #4\n",
    "Tidy is a huge winner as the birth rate for each gender had been precalculated and the annoying long column names can be avoided."
   ]
  },
  {
   "cell_type": "markdown",
   "metadata": {},
   "source": [
    "### Comparison #5\n",
    "Which year, age group combination has the highest total number of births?"
   ]
  },
  {
   "cell_type": "code",
   "execution_count": 13,
   "metadata": {},
   "outputs": [
    {
     "data": {
      "text/plain": [
       "Year                                   \n",
       "2000  Rate of birth to women ages 20-24    115.08\n",
       "2001  Rate of birth to women ages 20-24    110.92\n",
       "2006  Rate of birth to women ages 20-24    109.36\n",
       "2007  Rate of birth to women ages 20-24    108.64\n",
       "2002  Rate of birth to women ages 20-24    108.26\n",
       "dtype: float64"
      ]
     },
     "execution_count": 13,
     "metadata": {},
     "output_type": "execute_result"
    }
   ],
   "source": [
    "cols = ['Rate of birth to women ages 18-19', 'Rate of birth to women ages 20-24']\n",
    "df_original.groupby('Year')[cols].mean().stack().sort_values(ascending=False).head()"
   ]
  },
  {
   "cell_type": "code",
   "execution_count": 14,
   "metadata": {},
   "outputs": [
    {
     "data": {
      "text/html": [
       "<div>\n",
       "<style>\n",
       "    .dataframe thead tr:only-child th {\n",
       "        text-align: right;\n",
       "    }\n",
       "\n",
       "    .dataframe thead th {\n",
       "        text-align: left;\n",
       "    }\n",
       "\n",
       "    .dataframe tbody tr th {\n",
       "        vertical-align: top;\n",
       "    }\n",
       "</style>\n",
       "<table border=\"1\" class=\"dataframe\">\n",
       "  <thead>\n",
       "    <tr style=\"text-align: right;\">\n",
       "      <th></th>\n",
       "      <th></th>\n",
       "      <th>Birth Rate</th>\n",
       "    </tr>\n",
       "    <tr>\n",
       "      <th>Year</th>\n",
       "      <th>Age Group</th>\n",
       "      <th></th>\n",
       "    </tr>\n",
       "  </thead>\n",
       "  <tbody>\n",
       "    <tr>\n",
       "      <th>2000</th>\n",
       "      <th>20-24</th>\n",
       "      <td>115.08</td>\n",
       "    </tr>\n",
       "    <tr>\n",
       "      <th>2001</th>\n",
       "      <th>20-24</th>\n",
       "      <td>110.92</td>\n",
       "    </tr>\n",
       "    <tr>\n",
       "      <th>2006</th>\n",
       "      <th>20-24</th>\n",
       "      <td>109.36</td>\n",
       "    </tr>\n",
       "    <tr>\n",
       "      <th>2007</th>\n",
       "      <th>20-24</th>\n",
       "      <td>108.64</td>\n",
       "    </tr>\n",
       "    <tr>\n",
       "      <th>2002</th>\n",
       "      <th>20-24</th>\n",
       "      <td>108.26</td>\n",
       "    </tr>\n",
       "  </tbody>\n",
       "</table>\n",
       "</div>"
      ],
      "text/plain": [
       "                Birth Rate\n",
       "Year Age Group            \n",
       "2000 20-24          115.08\n",
       "2001 20-24          110.92\n",
       "2006 20-24          109.36\n",
       "2007 20-24          108.64\n",
       "2002 20-24          108.26"
      ]
     },
     "execution_count": 14,
     "metadata": {},
     "output_type": "execute_result"
    }
   ],
   "source": [
    "df_tidy.groupby(['Race/ethnicity', 'Year', 'Age Group']).agg({'Birth Rate':'sum'})\\\n",
    "       .groupby(['Year', 'Age Group']).mean()\\\n",
    "       .sort_values('Birth Rate', ascending=False).head()"
   ]
  },
  {
   "cell_type": "markdown",
   "metadata": {},
   "source": [
    "### Comments for comparison #5\n",
    "Since the original data aggregates by all births (and is not broken out by gender) only one groupby is needed. The tidy dataset is a bit tricky to get this question right. It requires summing the birth rate of each gender per group and then finding the mean per year, age group.\n",
    "\n",
    "### Visualization Advantage\n",
    "Huge advantages for tidy data come from plotting use the seaborn library, which expects tidy data.\n",
    "\n",
    "The examples below only show tidy. The first plot shows the percentage of each gender per year by age group."
   ]
  },
  {
   "cell_type": "code",
   "execution_count": 15,
   "metadata": {
    "collapsed": true
   },
   "outputs": [],
   "source": [
    "import matplotlib.pyplot as plt\n",
    "import seaborn as sns\n",
    "%matplotlib inline"
   ]
  },
  {
   "cell_type": "code",
   "execution_count": 16,
   "metadata": {},
   "outputs": [
    {
     "data": {
      "text/plain": [
       "<seaborn.axisgrid.FacetGrid at 0x11037a780>"
      ]
     },
     "execution_count": 16,
     "metadata": {},
     "output_type": "execute_result"
    },
    {
     "data": {
      "image/png": "[encoded data removed]",
      "text/plain": [
       "<matplotlib.figure.Figure at 0x1103fcac8>"
      ]
     },
     "metadata": {},
     "output_type": "display_data"
    }
   ],
   "source": [
    "sns.factorplot(x='Year', \n",
    "               y='Gender Percentage', \n",
    "               hue='Gender', \n",
    "               col='Age Group',\n",
    "               data=df_tidy, \n",
    "               kind='box', \n",
    "               size=6)"
   ]
  },
  {
   "cell_type": "code",
   "execution_count": 17,
   "metadata": {},
   "outputs": [
    {
     "data": {
      "text/plain": [
       "<seaborn.axisgrid.FacetGrid at 0x1105134e0>"
      ]
     },
     "execution_count": 17,
     "metadata": {},
     "output_type": "execute_result"
    },
    {
     "data": {
      "image/png": "[encoded data removed]",
      "text/plain": [
       "<matplotlib.figure.Figure at 0x110d22198>"
      ]
     },
     "metadata": {},
     "output_type": "display_data"
    }
   ],
   "source": [
    "sns.factorplot(x='Year', \n",
    "               y='Birth Rate', \n",
    "               hue='Race/ethnicity', \n",
    "               row = 'Gender', \n",
    "               col='Age Group', \n",
    "               data=df_tidy, ci=0, size=6)"
   ]
  },
  {
   "cell_type": "markdown",
   "metadata": {},
   "source": [
    "## Separating into multiple tables (data normalization)\n",
    "**`df_tidy`** is a much tidier dataset than the original, but the race, year, age group and gender columns repeat. Repeated values may be moved out into their own table and replaced with a **`key`** that uniquely identifies them. The database world calls this separation **data normalization**\n",
    "\n",
    "From [wikipedia](https://en.wikipedia.org/wiki/Database_normalization):\n",
    "> Database Normalization, or simply normalization, is the process of organizing the columns (attributes) and tables (relations) of a relational database to reduce data redundancy and improve data integrity. Normalization is also the process of simplifying the design of a database so that it achieves the optimum structure. It reduces and eliminates redundant data. In normalization, data integrity is assured. It was first proposed by Dr. Edgar F. Codd, as an integral part of a relational model.\n",
    "\n",
    "There is much, much more to data normalization. The following example is just a brief overview."
   ]
  },
  {
   "cell_type": "markdown",
   "metadata": {},
   "source": [
    "### Separate out repeated columns\n",
    "We will create a separate DataFrame for the columns with repeated values. To do this we will select those columns from **`df_tidy`** and drop the duplicates."
   ]
  },
  {
   "cell_type": "code",
   "execution_count": 18,
   "metadata": {
    "collapsed": true
   },
   "outputs": [],
   "source": [
    "df_race = df_tidy['Race/ethnicity'].drop_duplicates()\\\n",
    "                       .reset_index(drop=True)\\\n",
    "                       .rename_axis('race_key')\\\n",
    "                       .reset_index()\\\n",
    "                       .astype({'race_key':np.int8})\n",
    "            \n",
    "df_year = df_tidy['Year'].drop_duplicates()\\\n",
    "                       .reset_index(drop=True)\\\n",
    "                       .rename_axis('year_key')\\\n",
    "                       .reset_index()\\\n",
    "                       .astype({'year_key':np.int8})\n",
    "            \n",
    "df_age = df_tidy['Age Group'].drop_duplicates()\\\n",
    "                       .reset_index(drop=True)\\\n",
    "                       .rename_axis('age_key')\\\n",
    "                       .reset_index()\\\n",
    "                       .astype({'age_key':np.int8})\n",
    "\n",
    "df_gender = df_tidy['Gender'].drop_duplicates()\\\n",
    "                       .reset_index(drop=True)\\\n",
    "                       .rename_axis('gender_key')\\\n",
    "                       .reset_index()\\\n",
    "                       .astype({'gender_key':np.int8})"
   ]
  },
  {
   "cell_type": "code",
   "execution_count": 19,
   "metadata": {},
   "outputs": [
    {
     "data": {
      "text/html": [
       "<div>\n",
       "<style>\n",
       "    .dataframe thead tr:only-child th {\n",
       "        text-align: right;\n",
       "    }\n",
       "\n",
       "    .dataframe thead th {\n",
       "        text-align: left;\n",
       "    }\n",
       "\n",
       "    .dataframe tbody tr th {\n",
       "        vertical-align: top;\n",
       "    }\n",
       "</style>\n",
       "<table border=\"1\" class=\"dataframe\">\n",
       "  <thead>\n",
       "    <tr style=\"text-align: right;\">\n",
       "      <th></th>\n",
       "      <th>year_key</th>\n",
       "      <th>Year</th>\n",
       "    </tr>\n",
       "  </thead>\n",
       "  <tbody>\n",
       "    <tr>\n",
       "      <th>0</th>\n",
       "      <td>0</td>\n",
       "      <td>2000</td>\n",
       "    </tr>\n",
       "    <tr>\n",
       "      <th>1</th>\n",
       "      <td>1</td>\n",
       "      <td>2001</td>\n",
       "    </tr>\n",
       "    <tr>\n",
       "      <th>2</th>\n",
       "      <td>2</td>\n",
       "      <td>2002</td>\n",
       "    </tr>\n",
       "    <tr>\n",
       "      <th>3</th>\n",
       "      <td>3</td>\n",
       "      <td>2003</td>\n",
       "    </tr>\n",
       "    <tr>\n",
       "      <th>4</th>\n",
       "      <td>4</td>\n",
       "      <td>2004</td>\n",
       "    </tr>\n",
       "    <tr>\n",
       "      <th>5</th>\n",
       "      <td>5</td>\n",
       "      <td>2005</td>\n",
       "    </tr>\n",
       "    <tr>\n",
       "      <th>6</th>\n",
       "      <td>6</td>\n",
       "      <td>2006</td>\n",
       "    </tr>\n",
       "    <tr>\n",
       "      <th>7</th>\n",
       "      <td>7</td>\n",
       "      <td>2007</td>\n",
       "    </tr>\n",
       "    <tr>\n",
       "      <th>8</th>\n",
       "      <td>8</td>\n",
       "      <td>2008</td>\n",
       "    </tr>\n",
       "    <tr>\n",
       "      <th>9</th>\n",
       "      <td>9</td>\n",
       "      <td>2009</td>\n",
       "    </tr>\n",
       "    <tr>\n",
       "      <th>10</th>\n",
       "      <td>10</td>\n",
       "      <td>2010</td>\n",
       "    </tr>\n",
       "    <tr>\n",
       "      <th>11</th>\n",
       "      <td>11</td>\n",
       "      <td>2011</td>\n",
       "    </tr>\n",
       "    <tr>\n",
       "      <th>12</th>\n",
       "      <td>12</td>\n",
       "      <td>2012</td>\n",
       "    </tr>\n",
       "  </tbody>\n",
       "</table>\n",
       "</div>"
      ],
      "text/plain": [
       "    year_key  Year\n",
       "0          0  2000\n",
       "1          1  2001\n",
       "2          2  2002\n",
       "3          3  2003\n",
       "4          4  2004\n",
       "5          5  2005\n",
       "6          6  2006\n",
       "7          7  2007\n",
       "8          8  2008\n",
       "9          9  2009\n",
       "10        10  2010\n",
       "11        11  2011\n",
       "12        12  2012"
      ]
     },
     "execution_count": 19,
     "metadata": {},
     "output_type": "execute_result"
    }
   ],
   "source": [
    "df_year"
   ]
  },
  {
   "cell_type": "code",
   "execution_count": 20,
   "metadata": {},
   "outputs": [
    {
     "data": {
      "text/html": [
       "<div>\n",
       "<style>\n",
       "    .dataframe thead tr:only-child th {\n",
       "        text-align: right;\n",
       "    }\n",
       "\n",
       "    .dataframe thead th {\n",
       "        text-align: left;\n",
       "    }\n",
       "\n",
       "    .dataframe tbody tr th {\n",
       "        vertical-align: top;\n",
       "    }\n",
       "</style>\n",
       "<table border=\"1\" class=\"dataframe\">\n",
       "  <thead>\n",
       "    <tr style=\"text-align: right;\">\n",
       "      <th></th>\n",
       "      <th>race_key</th>\n",
       "      <th>Race/ethnicity</th>\n",
       "    </tr>\n",
       "  </thead>\n",
       "  <tbody>\n",
       "    <tr>\n",
       "      <th>0</th>\n",
       "      <td>0</td>\n",
       "      <td>White, non-Hispanic</td>\n",
       "    </tr>\n",
       "    <tr>\n",
       "      <th>1</th>\n",
       "      <td>1</td>\n",
       "      <td>Black, non-Hispanic</td>\n",
       "    </tr>\n",
       "    <tr>\n",
       "      <th>2</th>\n",
       "      <td>2</td>\n",
       "      <td>Hispanic</td>\n",
       "    </tr>\n",
       "    <tr>\n",
       "      <th>3</th>\n",
       "      <td>3</td>\n",
       "      <td>American Indian/Alaska Native</td>\n",
       "    </tr>\n",
       "    <tr>\n",
       "      <th>4</th>\n",
       "      <td>4</td>\n",
       "      <td>Asian and Pacific Islander</td>\n",
       "    </tr>\n",
       "  </tbody>\n",
       "</table>\n",
       "</div>"
      ],
      "text/plain": [
       "   race_key                 Race/ethnicity\n",
       "0         0            White, non-Hispanic\n",
       "1         1            Black, non-Hispanic\n",
       "2         2                       Hispanic\n",
       "3         3  American Indian/Alaska Native\n",
       "4         4     Asian and Pacific Islander"
      ]
     },
     "execution_count": 20,
     "metadata": {},
     "output_type": "execute_result"
    }
   ],
   "source": [
    "df_race"
   ]
  },
  {
   "cell_type": "code",
   "execution_count": 21,
   "metadata": {},
   "outputs": [
    {
     "data": {
      "text/html": [
       "<div>\n",
       "<style>\n",
       "    .dataframe thead tr:only-child th {\n",
       "        text-align: right;\n",
       "    }\n",
       "\n",
       "    .dataframe thead th {\n",
       "        text-align: left;\n",
       "    }\n",
       "\n",
       "    .dataframe tbody tr th {\n",
       "        vertical-align: top;\n",
       "    }\n",
       "</style>\n",
       "<table border=\"1\" class=\"dataframe\">\n",
       "  <thead>\n",
       "    <tr style=\"text-align: right;\">\n",
       "      <th></th>\n",
       "      <th>age_key</th>\n",
       "      <th>Age Group</th>\n",
       "    </tr>\n",
       "  </thead>\n",
       "  <tbody>\n",
       "    <tr>\n",
       "      <th>0</th>\n",
       "      <td>0</td>\n",
       "      <td>18-19</td>\n",
       "    </tr>\n",
       "    <tr>\n",
       "      <th>1</th>\n",
       "      <td>1</td>\n",
       "      <td>20-24</td>\n",
       "    </tr>\n",
       "  </tbody>\n",
       "</table>\n",
       "</div>"
      ],
      "text/plain": [
       "   age_key Age Group\n",
       "0        0     18-19\n",
       "1        1     20-24"
      ]
     },
     "execution_count": 21,
     "metadata": {},
     "output_type": "execute_result"
    }
   ],
   "source": [
    "df_age"
   ]
  },
  {
   "cell_type": "code",
   "execution_count": 22,
   "metadata": {},
   "outputs": [
    {
     "data": {
      "text/html": [
       "<div>\n",
       "<style>\n",
       "    .dataframe thead tr:only-child th {\n",
       "        text-align: right;\n",
       "    }\n",
       "\n",
       "    .dataframe thead th {\n",
       "        text-align: left;\n",
       "    }\n",
       "\n",
       "    .dataframe tbody tr th {\n",
       "        vertical-align: top;\n",
       "    }\n",
       "</style>\n",
       "<table border=\"1\" class=\"dataframe\">\n",
       "  <thead>\n",
       "    <tr style=\"text-align: right;\">\n",
       "      <th></th>\n",
       "      <th>gender_key</th>\n",
       "      <th>Gender</th>\n",
       "    </tr>\n",
       "  </thead>\n",
       "  <tbody>\n",
       "    <tr>\n",
       "      <th>0</th>\n",
       "      <td>0</td>\n",
       "      <td>male</td>\n",
       "    </tr>\n",
       "    <tr>\n",
       "      <th>1</th>\n",
       "      <td>1</td>\n",
       "      <td>female</td>\n",
       "    </tr>\n",
       "  </tbody>\n",
       "</table>\n",
       "</div>"
      ],
      "text/plain": [
       "   gender_key  Gender\n",
       "0           0    male\n",
       "1           1  female"
      ]
     },
     "execution_count": 22,
     "metadata": {},
     "output_type": "execute_result"
    }
   ],
   "source": [
    "df_gender"
   ]
  },
  {
   "cell_type": "code",
   "execution_count": 23,
   "metadata": {
    "collapsed": true
   },
   "outputs": [],
   "source": [
    "df_tidy_2 = df_tidy.merge(df_race) \\\n",
    "                 .merge(df_year) \\\n",
    "                 .merge(df_age) \\\n",
    "                 .merge(df_gender) \\\n",
    "                 .drop(['Race/ethnicity', 'Year','Age Group', 'Gender'], axis='columns')\\\n",
    "                 .reset_index(drop=True)"
   ]
  },
  {
   "cell_type": "code",
   "execution_count": 24,
   "metadata": {},
   "outputs": [
    {
     "data": {
      "text/html": [
       "<div>\n",
       "<style>\n",
       "    .dataframe thead tr:only-child th {\n",
       "        text-align: right;\n",
       "    }\n",
       "\n",
       "    .dataframe thead th {\n",
       "        text-align: left;\n",
       "    }\n",
       "\n",
       "    .dataframe tbody tr th {\n",
       "        vertical-align: top;\n",
       "    }\n",
       "</style>\n",
       "<table border=\"1\" class=\"dataframe\">\n",
       "  <thead>\n",
       "    <tr style=\"text-align: right;\">\n",
       "      <th></th>\n",
       "      <th>Gender Percentage</th>\n",
       "      <th>Birth Rate</th>\n",
       "      <th>race_key</th>\n",
       "      <th>year_key</th>\n",
       "      <th>age_key</th>\n",
       "      <th>gender_key</th>\n",
       "    </tr>\n",
       "  </thead>\n",
       "  <tbody>\n",
       "    <tr>\n",
       "      <th>0</th>\n",
       "      <td>51.5</td>\n",
       "      <td>29.6125</td>\n",
       "      <td>0</td>\n",
       "      <td>0</td>\n",
       "      <td>0</td>\n",
       "      <td>0</td>\n",
       "    </tr>\n",
       "    <tr>\n",
       "      <th>1</th>\n",
       "      <td>51.0</td>\n",
       "      <td>62.1690</td>\n",
       "      <td>1</td>\n",
       "      <td>0</td>\n",
       "      <td>0</td>\n",
       "      <td>0</td>\n",
       "    </tr>\n",
       "    <tr>\n",
       "      <th>2</th>\n",
       "      <td>51.2</td>\n",
       "      <td>67.8912</td>\n",
       "      <td>2</td>\n",
       "      <td>0</td>\n",
       "      <td>0</td>\n",
       "      <td>0</td>\n",
       "    </tr>\n",
       "    <tr>\n",
       "      <th>3</th>\n",
       "      <td>50.0</td>\n",
       "      <td>48.5500</td>\n",
       "      <td>3</td>\n",
       "      <td>0</td>\n",
       "      <td>0</td>\n",
       "      <td>0</td>\n",
       "    </tr>\n",
       "    <tr>\n",
       "      <th>4</th>\n",
       "      <td>51.1</td>\n",
       "      <td>16.6586</td>\n",
       "      <td>4</td>\n",
       "      <td>0</td>\n",
       "      <td>0</td>\n",
       "      <td>0</td>\n",
       "    </tr>\n",
       "  </tbody>\n",
       "</table>\n",
       "</div>"
      ],
      "text/plain": [
       "   Gender Percentage  Birth Rate  race_key  year_key  age_key  gender_key\n",
       "0               51.5     29.6125         0         0        0           0\n",
       "1               51.0     62.1690         1         0        0           0\n",
       "2               51.2     67.8912         2         0        0           0\n",
       "3               50.0     48.5500         3         0        0           0\n",
       "4               51.1     16.6586         4         0        0           0"
      ]
     },
     "execution_count": 24,
     "metadata": {},
     "output_type": "execute_result"
    }
   ],
   "source": [
    "df_tidy_2.head()"
   ]
  },
  {
   "cell_type": "markdown",
   "metadata": {},
   "source": [
    "### See the memory saved\n",
    "Use the **`memory_usage`** method to find the memory difference."
   ]
  },
  {
   "cell_type": "code",
   "execution_count": 25,
   "metadata": {},
   "outputs": [
    {
     "data": {
      "text/plain": [
       "5798"
      ]
     },
     "execution_count": 25,
     "metadata": {},
     "output_type": "execute_result"
    }
   ],
   "source": [
    "df_tidy_2.memory_usage().sum() + \\\n",
    "df_year.memory_usage().sum() + \\\n",
    "df_race.memory_usage().sum() + \\\n",
    "df_gender.memory_usage().sum() + \\\n",
    "df_age.memory_usage().sum()"
   ]
  },
  {
   "cell_type": "code",
   "execution_count": 26,
   "metadata": {},
   "outputs": [
    {
     "data": {
      "text/plain": [
       "12560"
      ]
     },
     "execution_count": 26,
     "metadata": {},
     "output_type": "execute_result"
    }
   ],
   "source": [
    "df_tidy.memory_usage().sum()"
   ]
  },
  {
   "cell_type": "markdown",
   "metadata": {
    "collapsed": true
   },
   "source": [
    "# Your Turn"
   ]
  },
  {
   "cell_type": "markdown",
   "metadata": {
    "collapsed": true
   },
   "source": [
    "### Problem 1\n",
    "<span  style=\"color:green; font-size:16px\">Tidy the dataset `Impaired_Driving_Death_Rate.csv`. Make a plot using seaborn comparing male to female drivers in 2012/2014.</span>"
   ]
  },
  {
   "cell_type": "code",
   "execution_count": 27,
   "metadata": {
    "collapsed": true
   },
   "outputs": [],
   "source": [
    "# your code here"
   ]
  },
  {
   "cell_type": "markdown",
   "metadata": {},
   "source": [
    "### Problem 2\n",
    "<span  style=\"color:green; font-size:16px\">This problem will guide you through cleaning the messy excel spreadsheet, `genetic_engineered.xlsx`. If you want a bigger challenge, try to tidy the data on your own without looking at the steps below.</span>\n",
    "\n",
    "1. It's a good idea to open the excel file first to examine the data by hand before reading in the file blind into pandas.\n",
    "1. We can see that this data contains 4 different varieties of genetically engineered corn and the percentage of total corn grown by state. The data appears in a 2 by 2 block of similarly labeled cells.\n",
    "1. We will begin by reading in the 'top block' followed by the 'bottom block'\n",
    "1. Use **`read_excel`** with the **`header`** and **`skip_footer`** parameters to read in the top block and put the corn variety and year in the columns index. This will create a MultiIndex with two levels. Assign this to **`df_top`**\n",
    "1. Do the same thing for the bottom block. Assign this to **`df_bottom`**\n",
    "1. If you did this correctly, you both your DataFrames will be the same shape, have the states in the index and the corn variety and year as a MultiIndex in the columns.\n",
    "1. You might have the first row nearly all missing values. Drop the first row from both DataFrames and assign the result back to itself.\n",
    "1. Label the **`name`** of the column index levels **`Variety`** and **`Year`**\n",
    "1. Label the **`name`** of the row index level **`State`**\n",
    "1. **`stack`** each level of both DataFrames and turn all the index levels into columns. Name the column of data **`Percent`**. Assign the new DataFrames to **`df_top_stacked`** and **`df_bottom_stacked`**\n",
    "1. Use the **`concat`** pandas function to combine these DataFrames and assign it to **`df_final`**\n",
    "1. Make sure numeric columns are indeed numeric"
   ]
  },
  {
   "cell_type": "code",
   "execution_count": 28,
   "metadata": {
    "collapsed": true
   },
   "outputs": [],
   "source": [
    "# your code here"
   ]
  }
 ],
 "metadata": {
  "kernelspec": {
   "display_name": "Python 3",
   "language": "python",
   "name": "python3"
  },
  "language_info": {
   "codemirror_mode": {
    "name": "ipython",
    "version": 3
   },
   "file_extension": ".py",
   "mimetype": "text/x-python",
   "name": "python",
   "nbconvert_exporter": "python",
   "pygments_lexer": "ipython3",
   "version": "3.6.1"
  }
 },
 "nbformat": 4,
 "nbformat_minor": 2
}
