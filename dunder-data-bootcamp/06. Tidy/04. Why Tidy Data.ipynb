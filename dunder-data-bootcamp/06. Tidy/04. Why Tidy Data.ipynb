{
 "cells": [
  {
   "cell_type": "markdown",
   "metadata": {},
   "source": [
    "# 4. Why Tidy Data\n",
    "\n",
    "### Summary\n",
    "\n",
    "+ Know why Tidy data works and where it works best\n",
    "\n",
    "### Resources\n",
    "+ Reading the Seaborn tutorial on [categorical data](http://seaborn.pydata.org/tutorial/categorical.html)\n",
    "\n",
    "### Introduction\n",
    "In this notebook we will see why tidy data is useful. Tidy data is supposed to make our lives easier by making aggregation, sorting, filtering, visualizing and applying machine learning easier.\n",
    "\n",
    "To test this idea, we will perform many different data analyses on both the tidy and original datasets to see how they differ. We will use the tidied My Brother's Keeper data from the case study.\n",
    "\n",
    "### Read in original data"
   ]
  },
  {
   "cell_type": "code",
   "execution_count": null,
   "metadata": {},
   "outputs": [],
   "source": [
    "import pandas as pd\n",
    "import numpy as np"
   ]
  },
  {
   "cell_type": "code",
   "execution_count": null,
   "metadata": {},
   "outputs": [],
   "source": [
    "df_original = pd.read_csv('../data/tidy/my_brothers_keeper.csv')\n",
    "df_original.head()"
   ]
  },
  {
   "cell_type": "markdown",
   "metadata": {},
   "source": [
    "### Trick to removing all percentages with `replace` method\n",
    "The **`replace`** method normally replaces a specific value with another. If you set the **`regex`** parameter to True, you can be very precise with what you replace. Here, we simply replace all the percentage signs with an empty string."
   ]
  },
  {
   "cell_type": "code",
   "execution_count": null,
   "metadata": {},
   "outputs": [],
   "source": [
    "df_original = df_original.replace('%', '', regex=True)\n",
    "df_original.head()"
   ]
  },
  {
   "cell_type": "markdown",
   "metadata": {},
   "source": [
    "### Check our data types"
   ]
  },
  {
   "cell_type": "code",
   "execution_count": null,
   "metadata": {},
   "outputs": [],
   "source": [
    "df_original.dtypes"
   ]
  },
  {
   "cell_type": "markdown",
   "metadata": {},
   "source": [
    "### Convert each column to numeric\n",
    "Unfortunately, the **`pd.to_numeric`** function only works on Series and not on entire DataFrames. The **`astype`** method can convert all columns to numeric but only if all of them are capable of being converted. Here, the race column will cause it to fail.\n",
    "\n",
    "### Apply `pd.to_numeric` to each column\n",
    "The **`apply`** method can apply a function to each column (as a Series) independently. We simply pass the function name as the first argument to the **`apply`**. You can pass additional parameters to that function (**`pd.to_numeric`** in our case) by naming them as usual."
   ]
  },
  {
   "cell_type": "code",
   "execution_count": null,
   "metadata": {},
   "outputs": [],
   "source": [
    "df_original = df_original.apply(pd.to_numeric, errors='ignore')\n",
    "df_original.dtypes"
   ]
  },
  {
   "cell_type": "markdown",
   "metadata": {},
   "source": [
    "### `apply` is just a for loop\n",
    "The **`apply`** is just a replacement for a **`for`** loop. It simply applies the passed function to each column. It does the exact same thing as the following for loop."
   ]
  },
  {
   "cell_type": "code",
   "execution_count": null,
   "metadata": {},
   "outputs": [],
   "source": [
    "for col in df_original.columns:\n",
    "    df_original[col] = pd.to_numeric(df_original[col], errors='ignore')"
   ]
  },
  {
   "cell_type": "markdown",
   "metadata": {},
   "source": [
    "# Back to our Comparison with Tidy Data\n",
    "Let's read in our tidy dataset."
   ]
  },
  {
   "cell_type": "code",
   "execution_count": null,
   "metadata": {},
   "outputs": [],
   "source": [
    "df_tidy = pd.read_csv('../data/tidy/mbk_tidy.csv')\n",
    "df_tidy.head()"
   ]
  },
  {
   "cell_type": "markdown",
   "metadata": {},
   "source": [
    "## Comparison #1\n",
    "For our first comparison between tidy and messy data we will filter for the race **`Black`**."
   ]
  },
  {
   "cell_type": "code",
   "execution_count": null,
   "metadata": {},
   "outputs": [],
   "source": [
    "# original\n",
    "filt = df_original['Race'] == 'Black'\n",
    "df_original[filt].head()"
   ]
  },
  {
   "cell_type": "code",
   "execution_count": null,
   "metadata": {},
   "outputs": [],
   "source": [
    "# tidy\n",
    "filt = df_tidy['Race'] == 'Black'\n",
    "df_tidy[filt].head()"
   ]
  },
  {
   "cell_type": "markdown",
   "metadata": {},
   "source": [
    "### Comments for comparison #1\n",
    "Since the messy dataset had the race in a single column, the code is identical. The messy dataset might actually be preferable for readability."
   ]
  },
  {
   "cell_type": "markdown",
   "metadata": {},
   "source": [
    "## Comparison #2\n",
    "Filter for black males."
   ]
  },
  {
   "cell_type": "code",
   "execution_count": null,
   "metadata": {},
   "outputs": [],
   "source": [
    "# original\n",
    "male_columns = df_original.columns.str.contains('of male')\n",
    "filt = df_original['Race'] == 'Black'\n",
    "\n",
    "df_original.loc[filt, male_columns].head()"
   ]
  },
  {
   "cell_type": "code",
   "execution_count": null,
   "metadata": {},
   "outputs": [],
   "source": [
    "# tidy\n",
    "filt = (df_tidy['Race'] == 'Black') & (df_tidy['Gender'] == 'male')\n",
    "df_tidy[filt].head()"
   ]
  },
  {
   "cell_type": "markdown",
   "metadata": {},
   "source": [
    "### Comments for comparison #2\n",
    "This filter is a huge win for tidy data. The filtering is much more straightforward and the entire dataset is returned instead of just two columns. The birth rate is also returned specifically for males."
   ]
  },
  {
   "cell_type": "markdown",
   "metadata": {},
   "source": [
    "## Comparison #3\n",
    "Find the average percentage women for all races for each age group."
   ]
  },
  {
   "cell_type": "code",
   "execution_count": null,
   "metadata": {},
   "outputs": [],
   "source": [
    "# original\n",
    "cols = ['Distribution of female children born to women ages 18-19',\n",
    "       'Distribution of female children born to women ages 20-24']\n",
    "df_original[cols].mean()"
   ]
  },
  {
   "cell_type": "code",
   "execution_count": null,
   "metadata": {},
   "outputs": [],
   "source": [
    "# tidy\n",
    "filt = df_tidy['Gender'] == 'female'\n",
    "df_tidy[filt].groupby('Age Group').agg({'Gender Percent': 'mean'})"
   ]
  },
  {
   "cell_type": "markdown",
   "metadata": {},
   "source": [
    "### Comments for comparison #3\n",
    "Since the messy data has both female and male observations in the same line, no groupby is needed. They are both fairly straightforward."
   ]
  },
  {
   "cell_type": "markdown",
   "metadata": {},
   "source": [
    "## Comparison #4\n",
    "Which gender has the highest average birth rate for each age group."
   ]
  },
  {
   "cell_type": "code",
   "execution_count": null,
   "metadata": {},
   "outputs": [],
   "source": [
    "# original\n",
    "age_18_19_female = (df_original['Rate of birth to women ages 18-19'] / 100 * \n",
    "                 df_original['Distribution of female children born to women ages 18-19']).mean()\n",
    "\n",
    "age_20_24_female = (df_original['Rate of birth to women ages 20-24'] / 100 * \n",
    "                     df_original['Distribution of female children born to women ages 20-24']).mean()\n",
    "\n",
    "age_18_19_male = (df_original['Rate of birth to women ages 18-19'] / 100 * \n",
    "                 df_original['Distribution of male children born to women ages 18-19']).mean()\n",
    "\n",
    "age_20_24_male = (df_original['Rate of birth to women ages 20-24'] / 100 * \n",
    "                     df_original['Distribution of male children born to women ages 20-24']).mean()"
   ]
  },
  {
   "cell_type": "code",
   "execution_count": null,
   "metadata": {},
   "outputs": [],
   "source": [
    "age_18_19_female, age_20_24_female, age_18_19_male, age_20_24_male"
   ]
  },
  {
   "cell_type": "code",
   "execution_count": null,
   "metadata": {},
   "outputs": [],
   "source": [
    "# tidy\n",
    "df_tidy.groupby(['Gender', 'Age Group'])['Birth Rate'].mean()"
   ]
  },
  {
   "cell_type": "markdown",
   "metadata": {},
   "source": [
    "### Comments for comparison #4\n",
    "Tidy is a huge winner as the birth rate for each gender had been pre-calculated and the annoying long column names can be avoided.\n",
    "\n",
    "Can also use a pivot table."
   ]
  },
  {
   "cell_type": "code",
   "execution_count": null,
   "metadata": {},
   "outputs": [],
   "source": [
    "df_tidy.pivot_table(index='Age Group', columns='Gender', values='Birth Rate')"
   ]
  },
  {
   "cell_type": "markdown",
   "metadata": {},
   "source": [
    "## Comparison #5\n",
    "Which year, age group, race combination has the highest rate of births?"
   ]
  },
  {
   "cell_type": "markdown",
   "metadata": {},
   "source": [
    "Original:"
   ]
  },
  {
   "cell_type": "code",
   "execution_count": null,
   "metadata": {},
   "outputs": [],
   "source": [
    "df_original.sort_values('Rate of birth to women ages 18-19', ascending=False).head(1)"
   ]
  },
  {
   "cell_type": "code",
   "execution_count": null,
   "metadata": {},
   "outputs": [],
   "source": [
    "df_original.sort_values('Rate of birth to women ages 20-24', ascending=False).head(1)"
   ]
  },
  {
   "cell_type": "markdown",
   "metadata": {},
   "source": [
    "Tidy:"
   ]
  },
  {
   "cell_type": "code",
   "execution_count": null,
   "metadata": {},
   "outputs": [],
   "source": [
    "df_tidy.groupby(['Race', 'Year', 'Age Group'], as_index=False).agg({'Birth Rate':'sum'}) \\\n",
    "       .sort_values('Birth Rate', ascending=False).head()"
   ]
  },
  {
   "cell_type": "markdown",
   "metadata": {},
   "source": [
    "### Comments for comparison #5\n",
    "The original data aggregates by all births, and is not broken down by gender. We need to sort by both birth rate columns to determine which age group is the highest.\n",
    "\n",
    "For tidy data, we need to group together race and year so that we can sum up the birth rates for both genders. We can then perform one sort to get our answer.\n",
    "\n",
    "## Visualization Advantage\n",
    "Huge advantages for tidy data come from plotting use the Seaborn library, which expects tidy data.\n",
    "\n",
    "The examples below only show tidy. The first plot shows the percentage of each gender per year by age group."
   ]
  },
  {
   "cell_type": "code",
   "execution_count": null,
   "metadata": {},
   "outputs": [],
   "source": [
    "import matplotlib.pyplot as plt\n",
    "import seaborn as sns\n",
    "%matplotlib inline"
   ]
  },
  {
   "cell_type": "code",
   "execution_count": null,
   "metadata": {},
   "outputs": [],
   "source": [
    "sns.catplot(x='Year', \n",
    "            y='Gender Percent', \n",
    "            hue='Gender', \n",
    "            col='Age Group',\n",
    "            data=df_tidy, \n",
    "            kind='box', \n",
    "            height=6)"
   ]
  },
  {
   "cell_type": "code",
   "execution_count": null,
   "metadata": {},
   "outputs": [],
   "source": [
    "sns.catplot(x='Year', \n",
    "            y='Birth Rate', \n",
    "            hue='Race', \n",
    "            row = 'Gender', \n",
    "            col='Age Group', \n",
    "            kind='point',\n",
    "            data=df_tidy, \n",
    "            ci=0, \n",
    "            height=6)"
   ]
  },
  {
   "cell_type": "markdown",
   "metadata": {},
   "source": [
    "# Exercises"
   ]
  },
  {
   "cell_type": "markdown",
   "metadata": {
    "collapsed": true
   },
   "source": [
    "### Problem 1\n",
    "<span  style=\"color:green; font-size:16px\">Tidy the dataset **`tidy/Impaired_Driving_Death_Rate.csv`**. Make a plot using seaborn comparing male to female drivers in 2012/2014.</span>"
   ]
  },
  {
   "cell_type": "code",
   "execution_count": null,
   "metadata": {},
   "outputs": [],
   "source": []
  },
  {
   "cell_type": "markdown",
   "metadata": {},
   "source": [
    "### Problem 3\n",
    "<span  style=\"color:green; font-size:16px\">Use the **`pd.read_excel`** function to read the **`tidy/genetic_engineered.xlsx`** and tidy it (very difficult).</span>"
   ]
  },
  {
   "cell_type": "code",
   "execution_count": null,
   "metadata": {},
   "outputs": [],
   "source": []
  }
 ],
 "metadata": {
  "kernelspec": {
   "display_name": "Python 3",
   "language": "python",
   "name": "python3"
  },
  "language_info": {
   "codemirror_mode": {
    "name": "ipython",
    "version": 3
   },
   "file_extension": ".py",
   "mimetype": "text/x-python",
   "name": "python",
   "nbconvert_exporter": "python",
   "pygments_lexer": "ipython3",
   "version": "3.6.7"
  }
 },
 "nbformat": 4,
 "nbformat_minor": 2
}
