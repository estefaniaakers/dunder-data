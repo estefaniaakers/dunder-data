{
 "cells": [
  {
   "cell_type": "markdown",
   "metadata": {},
   "source": [
    "# 5. Outliers\n",
    "\n",
    "### Introduction\n",
    "\n",
    "There is no formal statistical definition of an outlier but generally speaking, we think of outliers as being an abnormal observation distant from other points. There has been lots of research [dedicated to outlier detection](https://en.wikipedia.org/wiki/Outlier#Detection) but for our purposes we will concentrate on allowing our natural human ability to notice slight imperfections from a standard. \n",
    "\n",
    "Box plots are great tools for visually detecting outliers. Seaborn (and most other plotting tools) defaults to labeling outliers as any observation more than 1.5 times the IQR beyond either the first or third quartiles.\n",
    "\n",
    "First, let's recreate our data again."
   ]
  },
  {
   "cell_type": "code",
   "execution_count": null,
   "metadata": {},
   "outputs": [],
   "source": [
    "%matplotlib inline\n",
    "import pandas as pd\n",
    "import numpy as np\n",
    "import seaborn as sns\n",
    "import matplotlib.pyplot as plt\n",
    "\n",
    "diamonds = pd.read_csv('../data/diamonds.csv')\n",
    "\n",
    "new_order = ['cut', 'color', 'clarity','carat', 'price', 'x', 'y','z','depth', 'table']\n",
    "diamonds = diamonds[new_order]\n",
    "\n",
    "order = ['Fair', 'Good', 'Very Good', 'Premium', 'Ideal']\n",
    "diamonds['cut'] = pd.Categorical(diamonds['cut'], ordered=True, categories=order)\n",
    "\n",
    "order = ['J', 'I', 'H', 'G', 'F', 'E', 'D']\n",
    "diamonds['color'] = pd.Categorical(diamonds['color'], ordered=True, categories=order)\n",
    "\n",
    "order = ['I1', 'SI2', 'SI1', 'VS2', 'VS1', 'VVS2', 'VVS1', 'IF']\n",
    "diamonds['clarity'] = pd.Categorical(diamonds['clarity'], ordered=True, categories=order)"
   ]
  },
  {
   "cell_type": "markdown",
   "metadata": {},
   "source": [
    "### Plot box plots for each column simultaneously\n",
    "Pandas is better at making plots for each column in your dataset independently. We will use it to make boxplots on the numeric data. By default, only the numeric columns will be plotted, so we don't have to drop them before plotting. By setting `subplots` to `True`, each column will be plotted on its own Axes. Control the number of rows and columns of the grid with `layout`."
   ]
  },
  {
   "cell_type": "code",
   "execution_count": null,
   "metadata": {},
   "outputs": [],
   "source": [
    "diamonds.plot(kind='box', subplots=True, figsize=(18, 10), layout=(2, 4));"
   ]
  },
  {
   "cell_type": "markdown",
   "metadata": {},
   "source": [
    "### Handling outliers\n",
    "During EDA, we are not necessarily interested in taking an action on the outlier. Instead we can label it, investigate it further and then make a decision on it.\n",
    "\n",
    "### Labeling the outliers\n",
    "A simple procedure can be done to label outliers. Use the comparison operators to create a boolean Series for each variable. For instance, any depth less than 45 or greater 75 will be labeled as an outlier."
   ]
  },
  {
   "cell_type": "code",
   "execution_count": null,
   "metadata": {},
   "outputs": [],
   "source": [
    "x_out = diamonds['x'] < 3\n",
    "y_out = (diamonds['y'] > 30) | (diamonds['y'] > 20)\n",
    "carat_out = diamonds['carat'] > 4\n",
    "depth_out = (diamonds['depth'] < 45) | (diamonds['depth'] > 75)\n",
    "table_out = (diamonds['table'] < 40) | (diamonds['table'] > 90)"
   ]
  },
  {
   "cell_type": "markdown",
   "metadata": {},
   "source": [
    "### Put outliers in their own DataFrame\n",
    "Let's make an entirely new DataFrame to hold the outliers. We pass the DataFrame constructor a dictionary mapping the column name to the outlier Series."
   ]
  },
  {
   "cell_type": "code",
   "execution_count": null,
   "metadata": {},
   "outputs": [],
   "source": [
    "d = {'x': x_out, \n",
    "     'y': y_out, \n",
    "     'carat': carat_out, \n",
    "     'depth': depth_out, \n",
    "     'table_out':table_out}\n",
    "\n",
    "outliers = pd.DataFrame(d)\n",
    "outliers.head()"
   ]
  },
  {
   "cell_type": "markdown",
   "metadata": {},
   "source": [
    "### Use the outlier DataFrame to select rows with outliers\n",
    "Let's select all the rows that have an outlier in the x column. Each column is just a boolean Series, so you can just pass it to the selection operator to make the selection."
   ]
  },
  {
   "cell_type": "code",
   "execution_count": null,
   "metadata": {},
   "outputs": [],
   "source": [
    "diamonds[outliers['x']]"
   ]
  },
  {
   "cell_type": "markdown",
   "metadata": {},
   "source": [
    "### Operations on the outliers DataFrame\n",
    "We can find the total number of outliers in each column."
   ]
  },
  {
   "cell_type": "code",
   "execution_count": null,
   "metadata": {},
   "outputs": [],
   "source": [
    "outliers.sum()"
   ]
  },
  {
   "cell_type": "markdown",
   "metadata": {},
   "source": [
    "### Get all rows with an outlier\n",
    "Use the `any` DataFrame method to determine if there are any True values in each row. This returns a boolean Series which can be used to select all rows in the original DataFrame that have an outlier."
   ]
  },
  {
   "cell_type": "code",
   "execution_count": null,
   "metadata": {},
   "outputs": [],
   "source": [
    "any_outlier = outliers.any(axis=1)\n",
    "any_outlier.head()"
   ]
  },
  {
   "cell_type": "code",
   "execution_count": null,
   "metadata": {},
   "outputs": [],
   "source": [
    "diamonds[any_outlier]"
   ]
  },
  {
   "cell_type": "markdown",
   "metadata": {},
   "source": [
    "### Comments on outliers\n",
    "* There are several rows with x,y,z all equal to 0. These variables must be positive, so they can't possibly be correct. \n",
    "* The two y values over 30mm can't possibly be right as one of them would be wider than the largest diamond ever found and the price is much too low."
   ]
  },
  {
   "cell_type": "markdown",
   "metadata": {},
   "source": [
    "### Calculated Depth\n",
    "The data dictionary tells us that the **`depth`** is equal to **`z / mean(x,y)`**. Let's calculate the depth using this formula and compare to the depth from the data."
   ]
  },
  {
   "cell_type": "code",
   "execution_count": null,
   "metadata": {},
   "outputs": [],
   "source": [
    "diamonds['calculated_depth'] = diamonds['z'] / ((diamonds['x'] + diamonds['y']) / 2) * 100"
   ]
  },
  {
   "cell_type": "code",
   "execution_count": null,
   "metadata": {},
   "outputs": [],
   "source": [
    "diamonds.head()"
   ]
  },
  {
   "cell_type": "code",
   "execution_count": null,
   "metadata": {},
   "outputs": [],
   "source": [
    "diamonds['depth_diff'] = (diamonds['depth'] - diamonds['calculated_depth']).abs()"
   ]
  },
  {
   "cell_type": "code",
   "execution_count": null,
   "metadata": {},
   "outputs": [],
   "source": [
    "diamonds.sort_values('depth_diff', ascending=False).head(25)"
   ]
  },
  {
   "cell_type": "code",
   "execution_count": null,
   "metadata": {},
   "outputs": [],
   "source": [
    "(diamonds['depth_diff'] < 5).mean(), (diamonds['depth_diff'] > 5).sum()"
   ]
  },
  {
   "cell_type": "markdown",
   "metadata": {},
   "source": [
    "### depth vs calculated depth\n",
    "If this was a pristine dataset, then the calculated depth would equal the depth for each observation. About .1% (or 40) of the observations have an absolute depth difference less than 1. What does this mean for the other .2% of the data? There must be a measurement/input error in x, y or z. The table above sorts by largest absolute depth difference. A **`z`** of 0 is responsible for much of the large depth differences.\n",
    "\n",
    "More investigation into these wrong calculated depth observations might need to happen."
   ]
  },
  {
   "cell_type": "markdown",
   "metadata": {},
   "source": [
    "## Only coverage of outliers in a single dimension\n",
    "It is possible for outliers to exist as a result of a combination of variables, but this discussion is limited to just outliers in a single dimension."
   ]
  },
  {
   "cell_type": "markdown",
   "metadata": {},
   "source": [
    "# Exercise\n",
    "Complete these steps on your dataset"
   ]
  }
 ],
 "metadata": {
  "kernelspec": {
   "display_name": "Python 3",
   "language": "python",
   "name": "python3"
  },
  "language_info": {
   "codemirror_mode": {
    "name": "ipython",
    "version": 3
   },
   "file_extension": ".py",
   "mimetype": "text/x-python",
   "name": "python",
   "nbconvert_exporter": "python",
   "pygments_lexer": "ipython3",
   "version": "3.6.7"
  }
 },
 "nbformat": 4,
 "nbformat_minor": 2
}
