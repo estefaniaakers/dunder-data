{
 "cells": [
  {
   "cell_type": "markdown",
   "metadata": {},
   "source": [
    "# 06. Duplicates\n",
    "\n",
    "### Introduction\n",
    "It is possible that your dataset has duplicated rows where every single value of one row is equal to every single value of another row. This may not necessarily be bad data, but it is likely something you will want to investigate further."
   ]
  },
  {
   "cell_type": "code",
   "execution_count": null,
   "metadata": {},
   "outputs": [],
   "source": [
    "%matplotlib inline\n",
    "import pandas as pd\n",
    "import numpy as np\n",
    "import seaborn as sns\n",
    "import matplotlib.pyplot as plt\n",
    "\n",
    "diamonds = pd.read_csv('../data/diamonds.csv')\n",
    "\n",
    "new_order = ['cut', 'color', 'clarity','carat', 'price', 'x', 'y','z','depth', 'table']\n",
    "diamonds = diamonds[new_order]\n",
    "\n",
    "order = ['Fair', 'Good', 'Very Good', 'Premium', 'Ideal']\n",
    "diamonds['cut'] = pd.Categorical(diamonds['cut'], ordered=True, categories=order)\n",
    "\n",
    "order = ['J', 'I', 'H', 'G', 'F', 'E', 'D']\n",
    "diamonds['color'] = pd.Categorical(diamonds['color'], ordered=True, categories=order)\n",
    "\n",
    "order = ['I1', 'SI2', 'SI1', 'VS2', 'VS1', 'VVS2', 'VVS1', 'IF']\n",
    "diamonds['clarity'] = pd.Categorical(diamonds['clarity'], ordered=True, categories=order)\n",
    "\n",
    "x_out = diamonds['x'] < 3\n",
    "y_out = (diamonds['y'] > 30) | (diamonds['y'] > 20)\n",
    "carat_out = diamonds['carat'] > 4\n",
    "depth_out = (diamonds['depth'] < 45) | (diamonds['depth'] > 75)\n",
    "table_out = (diamonds['table'] < 40) | (diamonds['table'] > 90)\n",
    "\n",
    "d = {'x': x_out, \n",
    "     'y': y_out, \n",
    "     'carat': carat_out, \n",
    "     'depth': depth_out, \n",
    "     'table_out':table_out}\n",
    "\n",
    "outliers = pd.DataFrame(d)"
   ]
  },
  {
   "cell_type": "markdown",
   "metadata": {},
   "source": [
    "### Duplicated rows\n",
    "The `duplicated` method returns a boolean Series informing us which rows are duplicates. By default, it returns False for the first duplicate occurrence. By setting `keep` to False, it returns True for every duplicate including the first."
   ]
  },
  {
   "cell_type": "code",
   "execution_count": null,
   "metadata": {},
   "outputs": [],
   "source": [
    "filt = diamonds.duplicated(keep=False)\n",
    "filt.head()"
   ]
  },
  {
   "cell_type": "code",
   "execution_count": null,
   "metadata": {},
   "outputs": [],
   "source": [
    "dupes = diamonds[filt]\n",
    "dupes.head(10)"
   ]
  },
  {
   "cell_type": "code",
   "execution_count": null,
   "metadata": {},
   "outputs": [],
   "source": [
    "dupes.shape"
   ]
  },
  {
   "cell_type": "markdown",
   "metadata": {},
   "source": [
    "### Must investigate these further"
   ]
  },
  {
   "cell_type": "markdown",
   "metadata": {},
   "source": [
    "We have 289 duplicated rows. We must investigate these further to see if they are valid or need to be dropped."
   ]
  },
  {
   "cell_type": "markdown",
   "metadata": {},
   "source": [
    "## Finding duplicate columns\n",
    "There are a couple different methods for finding duplicate columns. First, we can call the `corr` method, which takes the correlation between every pair of numeric columns. If a correlation is exactly 1, then the two columns move together perfectly. It does not necessarily mean that the values are exactly the same. For instance, you could have one column that is exactly twice another. Their correlation would be 1, but their values would not be the same.\n",
    "\n",
    "### Duplicate columns are problematic for machine learning\n",
    "When two columns are exactly the same, then only one is needed to transmit the information during a machine learning algorithm, and in fact, having both variables in your dataset can cause problems during training. It is advised to remove duplicate columns."
   ]
  },
  {
   "cell_type": "code",
   "execution_count": null,
   "metadata": {},
   "outputs": [],
   "source": [
    "diamonds.corr()"
   ]
  },
  {
   "cell_type": "markdown",
   "metadata": {},
   "source": [
    "### Transposing the dataset\n",
    "The `duplicated` method only works columnwise and it has no `axis` parameter to change the direction of the operation. Instead, you can transpose the dataset and then call the `duplicated` method. Warning, this can be very slow."
   ]
  },
  {
   "cell_type": "code",
   "execution_count": null,
   "metadata": {},
   "outputs": [],
   "source": [
    "diamonds.T.duplicated()"
   ]
  },
  {
   "cell_type": "markdown",
   "metadata": {},
   "source": [
    "### Using `crosstab` to find duplicate columns\n",
    "This might be easier to see with a simple dataset of two columns. If we look at the frequency of occurrence between values in two columns and find a unique mapping of one value to another, then we have a duplicated column. The following DataFrame shows this exact scenario."
   ]
  },
  {
   "cell_type": "code",
   "execution_count": null,
   "metadata": {},
   "outputs": [],
   "source": [
    "df = pd.DataFrame({'col_1':['w', 'z', 'x', 'w', 'z', 'x', 'x', 'y', 'x'], \n",
    "              'col_2':['c', 'b', 'd', 'c', 'b', 'd', 'd', 'a', 'd']})\n",
    "df"
   ]
  },
  {
   "cell_type": "markdown",
   "metadata": {},
   "source": [
    "Notice how each row and column have only one non-zero value. For instance, 'w' is mapped to 'c'."
   ]
  },
  {
   "cell_type": "code",
   "execution_count": null,
   "metadata": {},
   "outputs": [],
   "source": [
    "pd.crosstab(index=df['col_1'], columns=df['col_2'])"
   ]
  },
  {
   "cell_type": "markdown",
   "metadata": {},
   "source": [
    "We can use this logic on our dataset. Since there is no one to one mapping below, none of the categorical columns have been duplicated."
   ]
  },
  {
   "cell_type": "code",
   "execution_count": null,
   "metadata": {},
   "outputs": [],
   "source": [
    "pd.crosstab(index=diamonds['cut'], columns=diamonds['color'])"
   ]
  },
  {
   "cell_type": "markdown",
   "metadata": {},
   "source": [
    "# Exercise\n",
    "Replicate on your dataset"
   ]
  }
 ],
 "metadata": {
  "kernelspec": {
   "display_name": "Python 3",
   "language": "python",
   "name": "python3"
  },
  "language_info": {
   "codemirror_mode": {
    "name": "ipython",
    "version": 3
   },
   "file_extension": ".py",
   "mimetype": "text/x-python",
   "name": "python",
   "nbconvert_exporter": "python",
   "pygments_lexer": "ipython3",
   "version": "3.6.7"
  }
 },
 "nbformat": 4,
 "nbformat_minor": 2
}
