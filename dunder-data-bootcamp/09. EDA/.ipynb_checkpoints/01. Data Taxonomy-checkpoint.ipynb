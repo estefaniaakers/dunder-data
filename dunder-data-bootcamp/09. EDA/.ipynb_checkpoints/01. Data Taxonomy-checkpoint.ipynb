{
 "cells": [
  {
   "cell_type": "markdown",
   "metadata": {},
   "source": [
    "# 1. Data Taxonomy\n",
    "\n",
    "### Objectives\n",
    "\n",
    "* Be aware of the different types of data that you will encounter\n",
    "* Know the difference between a formal data type in a Pandas DataFrame or NumPy array vs the generic term used to classify that type of data\n",
    "* Pandas uses numbers or characters for all of its data types\n",
    "* Know the difference between a categorical and a continuous variable\n",
    "* Know the difference between an ordinal and nominal categorical variable\n",
    "\n",
    "\n",
    "## Data Types vs Data Taxonomy\n",
    "Thus far we have seen the formal Pandas data types that are shown when running the `dtypes` attribute from a DataFrame. These data types are the most fundamental property of each column in the DataFrame and tell us exactly what type each value is within the columns. The only caveat here is the 'object' data type which can hold any Python object, but typically contains strings. Let's take a look at all the formal Pandas data types again. We have yet to talk much about the **category** data type but will do so shortly.\n",
    "\n",
    "* boolean\n",
    "* integer\n",
    "* float\n",
    "* object\n",
    "* datetime\n",
    "* timedelta\n",
    "* period\n",
    "* category\n",
    "\n",
    "The formal Pandas data types do not give us insights into what kind of data each column represents. For instance, a column of integers can represent something as simple as whether a college is religiously affiliated with either 0 or 1. It can also represent something more varied such as an employees salary or even something more arbitrary like a zip code. Just knowing that a column's data type is an integer doesn't give us clues to how to further process it. It only informs us that every other value in the column is also an integer. And specifically with Pandas, no missing values would be present either.\n",
    "\n",
    "This is where the term **data taxonomy** makes its way into this discussion. When I use the term data taxonomy, I am referring to the general category that we could label each column of data regardless of its underlying Pandas data type. For instance, I could label a 0/1 integer column, such as the religiously affiliated college dataset column, as a \"binary categorical\". Binary meaning there are only two possible values, and categorical meaning that each observation is in precisely one discrete category. \n",
    "\n",
    "There are many such distinctions and labels that can be created to form a data taxonomy. Surprisingly, there is no standard taxonomy that is common to all data analysis.\n",
    "\n",
    "### Historical Data Taxonomies\n",
    "To get a broader picture of the history of data taxonomy, consider reading the Wikipedia page on [Level of Measurement][1]. There have been different proposals over time, but nothing that has caught on universally.\n",
    "\n",
    "### Common and Simple Taxonomy\n",
    "Many machine learning tutorials will make use of a simple taxonomy to categorize each type of column.  Data is split into two types - **categorical** and **continuous**. \n",
    "\n",
    "Categorical being defined as data that is limited to discrete categories such as zip code, state, or ranking of your knowledge of Python programming. Usually, there is a known number of discrete categories, but that isn't strictly necessary. \n",
    "\n",
    "Continuous data, on the other hand, consists of a range of real-valued numbers. This data is not restricted to be a certain value. Height of a table, price of a television, square footage of a house can all be considered continuous.\n",
    "\n",
    "#### Ordinal vs Nominal Categorical Variable\n",
    "Categorical variables can be further subdivided into **ordinal** and **nominal**. Ordinal variables have a natural ordering such as the ranking of your Python programming skills or your assessment of a restaurant (Bad, Average, Good). Nominal categorical variables have no natural ordering such as state names or zip codes.\n",
    "\n",
    "### Categorical variables can be numeric or strings\n",
    "Categorical variables can be either numeric (Python skill level) or strings (state names). It is often the case that numeric variables are continuous but this is certainly not always true. You must be aware of when numeric variables are actually categorical.\n",
    "\n",
    "Continuous variables, on the other hand, are always going to be numeric.\n",
    "\n",
    "## The simple and common taxonomy\n",
    "We can map this simple taxonomy with the following list.\n",
    "* Continuous\n",
    "* Categorical\n",
    "    * Ordinal\n",
    "    * Nominal\n",
    "\n",
    "## A slightly different look at the data taxonomy\n",
    "I like to first make a distinction between numeric, text, and date data. This is what your brain immediately recognizes when it sees data. Each column will be one of these three forms (assuming booleans are considered numeric). After initially recognizing the column as one of these three forms, we can then observe it as either continuous, ordinal or nominal.\n",
    "\n",
    "* Numeric\n",
    "    * Represents any kind of number\n",
    "    * Can be continuous, ordinal, or nominal\n",
    "    * Continuous variable may be binned to make categorical\n",
    "    * Boolean columns are categorical\n",
    "* Text\n",
    "    * Represents a sequence of characters (strings)\n",
    "    * Can only be ordinal or nominal\n",
    "    * If data has high cardinality, further processing might need to be done\n",
    "* Date\n",
    "    * Represents date, time, datetime, time period, or amount of time\n",
    "    * Each type can be continuous, ordinal, or nominal\n",
    "    \n",
    "### Numeric, text and date are flexible\n",
    "Notice that there is no one-to-one mapping from these terms to their generic data type. Only text data cannot be continuous, otherwise all data can be any interpreted as any of the generic data types based on the context of the problem.\n",
    "\n",
    "### Examples of different types\n",
    "\n",
    "* Numeric\n",
    "    * Weight of a person - continuous\n",
    "    * Percent scored correct on a test - continuous\n",
    "    * Temperature - continuous\n",
    "    * Ages binned to 18-24, 25-39, 40-55, 55+ - ordinal\n",
    "    * Stages of cancer (1, 2, 3, 4) - ordinal\n",
    "    * Zip codes - nominal\n",
    "* Text\n",
    "    * State names - nominal\n",
    "    * Survey ratings - ordinal\n",
    "    * Movie review - needs more processing to be useful\n",
    "* Date\n",
    "    * Employee hire date - ordinal\n",
    "    * Day of week - nominal\n",
    "    * Stock market data - continuous\n",
    "    * Amount of time to finish a race - continuous\n",
    "\n",
    "\n",
    "[1]: https://en.wikipedia.org/wiki/Level_of_measurement"
   ]
  },
  {
   "cell_type": "markdown",
   "metadata": {},
   "source": [
    "# Pandas Category - a new data type\n",
    "Pandas has an entire other data type specifically for categorical data called **category** (or just categorical). There are several ways to create this data type from existing columns. Columns of type category a specific set of discrete values that are possible.\n",
    "\n",
    "### Convert a string column to categorical\n",
    "The most common situation when you will create categorical data comes when you have a column of strings (technically 'objects') with a relatively low number of unique values. Let's read in the employee dataset and find the number of unique values for each column."
   ]
  },
  {
   "cell_type": "code",
   "execution_count": null,
   "metadata": {},
   "outputs": [],
   "source": [
    "import pandas as pd\n",
    "emp = pd.read_csv('../data/employee.csv', parse_dates=['hire_date'])\n",
    "emp.head()"
   ]
  },
  {
   "cell_type": "code",
   "execution_count": null,
   "metadata": {},
   "outputs": [],
   "source": [
    "emp.dtypes"
   ]
  },
  {
   "cell_type": "code",
   "execution_count": null,
   "metadata": {},
   "outputs": [],
   "source": [
    "emp.nunique()"
   ]
  },
  {
   "cell_type": "markdown",
   "metadata": {},
   "source": [
    "## Convert to categorical with `pd.Categorical`\n",
    "The `pd.Categorical` constructor can be used to convert a column of one data type to another. Pass it the Series you desire to be categorical and it will be converted."
   ]
  },
  {
   "cell_type": "code",
   "execution_count": null,
   "metadata": {},
   "outputs": [],
   "source": [
    "race_cat = pd.Categorical(emp['race'])\n",
    "race_cat"
   ]
  },
  {
   "cell_type": "markdown",
   "metadata": {},
   "source": [
    "### Categorical Objects\n",
    "Notice this does not return a Series, but instead a Categorical object. It has mostly different methods than a Series."
   ]
  },
  {
   "cell_type": "code",
   "execution_count": null,
   "metadata": {},
   "outputs": [],
   "source": [
    "type(race_cat)"
   ]
  },
  {
   "cell_type": "markdown",
   "metadata": {},
   "source": [
    "### Useful attributes and methods\n",
    "Let's look at some useful attributes and methods with this new object. First, let's get the unique categories."
   ]
  },
  {
   "cell_type": "code",
   "execution_count": null,
   "metadata": {},
   "outputs": [],
   "source": [
    "race_cat.categories"
   ]
  },
  {
   "cell_type": "markdown",
   "metadata": {},
   "source": [
    "Get a summary of the raw and relative frequencies."
   ]
  },
  {
   "cell_type": "code",
   "execution_count": null,
   "metadata": {},
   "outputs": [],
   "source": [
    "race_cat.describe()"
   ]
  },
  {
   "cell_type": "markdown",
   "metadata": {},
   "source": [
    "Just as a Series, `value_counts` returns the counts."
   ]
  },
  {
   "cell_type": "code",
   "execution_count": null,
   "metadata": {},
   "outputs": [],
   "source": [
    "race_cat.value_counts()"
   ]
  },
  {
   "cell_type": "markdown",
   "metadata": {},
   "source": [
    "Creating a boolean array is possible with the comparison operators"
   ]
  },
  {
   "cell_type": "code",
   "execution_count": null,
   "metadata": {},
   "outputs": [],
   "source": [
    "race_cat == 'Asian'"
   ]
  },
  {
   "cell_type": "markdown",
   "metadata": {},
   "source": [
    "# Mapping Strings to Integers\n",
    "Pandas stores categorical variables differently in memory than it does strings. With strings, it saves each value in the column in a different memory location. For the employee dataset, there are approximately 1600 rows and therefore 1600 strings are stored in memory for each string column.\n",
    "\n",
    "For categorical data, Pandas only stores each string in memory once and then uses an integer to reference each one thereafter. You can see the underlying integer in the `codes` attribute. The codes align with the values of the category. With the race column, only those 5 unique strings are stored in memory one time.\n",
    "\n",
    "Below, that the first 4 codes are 4, 4, 1, 0, 4. By looking at the categories, we can determine which code maps to which category. 0 is mapped to Asian, 1 to Black and so forth. Taking a look at the actual values, we can verify that the codes indeed are mapped like that."
   ]
  },
  {
   "cell_type": "code",
   "execution_count": null,
   "metadata": {},
   "outputs": [],
   "source": [
    "race_cat.codes[:5]"
   ]
  },
  {
   "cell_type": "code",
   "execution_count": null,
   "metadata": {},
   "outputs": [],
   "source": [
    "race_cat.categories"
   ]
  },
  {
   "cell_type": "code",
   "execution_count": null,
   "metadata": {},
   "outputs": [],
   "source": [
    "race_cat[:5]"
   ]
  },
  {
   "cell_type": "markdown",
   "metadata": {},
   "source": [
    "# Huge memory saving with categorical data\n",
    "Because the strings are only stored in memory once, there can be huge memory savings by converting strings to categorical. From above, you can see that the `codes` attribute returned an 8-bit (1 byte) integer array. We can return the amount of memory used in bytes with the `memory_usage` method. By setting the `deep` parameter equal to True, we ensure we get the actual memory used for the strings."
   ]
  },
  {
   "cell_type": "code",
   "execution_count": null,
   "metadata": {},
   "outputs": [],
   "source": [
    "mem_new = race_cat.memory_usage(deep=True)\n",
    "mem_new"
   ]
  },
  {
   "cell_type": "code",
   "execution_count": null,
   "metadata": {},
   "outputs": [],
   "source": [
    "mem_old = emp['race'].memory_usage(deep=True)\n",
    "mem_old"
   ]
  },
  {
   "cell_type": "markdown",
   "metadata": {},
   "source": [
    "### Calculate memory savings\n",
    "We decreased our memory by a massive 98.4% by converting to categorical."
   ]
  },
  {
   "cell_type": "code",
   "execution_count": null,
   "metadata": {},
   "outputs": [],
   "source": [
    "(mem_old - mem_new) / mem_old"
   ]
  },
  {
   "cell_type": "markdown",
   "metadata": {},
   "source": [
    "# Overwrite old column\n",
    "Typically, we don't save this converted value to its own variable, but overwrite the old column. Let's do that now. The visual output of the DataFrame remains unchanged."
   ]
  },
  {
   "cell_type": "code",
   "execution_count": null,
   "metadata": {},
   "outputs": [],
   "source": [
    "emp['race'] = pd.Categorical(emp['race'])\n",
    "emp.head(3)"
   ]
  },
  {
   "cell_type": "markdown",
   "metadata": {},
   "source": [
    "The `dtypes` attribute now shows us that we formally have changed data types."
   ]
  },
  {
   "cell_type": "code",
   "execution_count": null,
   "metadata": {},
   "outputs": [],
   "source": [
    "emp.dtypes"
   ]
  },
  {
   "cell_type": "markdown",
   "metadata": {},
   "source": [
    "# The `cat` accessor\n",
    "Just like the `str` and `dt` accessors for string and datetime columns, categorical columns have their own accessor, `cat`. This accessor is only available to Series of type category."
   ]
  },
  {
   "cell_type": "code",
   "execution_count": null,
   "metadata": {},
   "outputs": [],
   "source": [
    "race_series = emp['race']\n",
    "race_series.head()"
   ]
  },
  {
   "cell_type": "markdown",
   "metadata": {},
   "source": [
    "Most of the methods have to do with mutating the categories in some fashion by either renaming, adding, deleting, or reordering them. You must use the methods if you want to mutate the Series. Attempting to overwrite a single value will result in an error as seen below. Pandas needs to be aware of the category first."
   ]
  },
  {
   "cell_type": "code",
   "execution_count": null,
   "metadata": {},
   "outputs": [],
   "source": [
    "race_series.iloc[2] = 'Martian'"
   ]
  },
  {
   "cell_type": "markdown",
   "metadata": {},
   "source": [
    "To update the possible categories, use the `add_categories` method from the `cat` accessor. Then, you can assign a new value within your Series."
   ]
  },
  {
   "cell_type": "code",
   "execution_count": null,
   "metadata": {},
   "outputs": [],
   "source": [
    "race_series = race_series.cat.add_categories('Martian')\n",
    "race_series.iloc[2] = 'Martian'\n",
    "race_series.head()"
   ]
  },
  {
   "cell_type": "markdown",
   "metadata": {},
   "source": [
    "## Ordering categories\n",
    "The race column is a nominal categorical variable. It is possible to add ordering to categorical variables. Let's see how this is done with the diamonds dataset."
   ]
  },
  {
   "cell_type": "code",
   "execution_count": null,
   "metadata": {},
   "outputs": [],
   "source": [
    "diamonds = pd.read_csv('../data/diamonds.csv')\n",
    "diamonds.head()"
   ]
  },
  {
   "cell_type": "markdown",
   "metadata": {},
   "source": [
    "### Use the data dictionary to help us order"
   ]
  },
  {
   "cell_type": "code",
   "execution_count": null,
   "metadata": {},
   "outputs": [],
   "source": [
    "# increase column width because of long strings\n",
    "pd.options.display.max_colwidth = 100\n",
    "pd.read_csv('../data/diamonds_dictionary.csv')"
   ]
  },
  {
   "cell_type": "markdown",
   "metadata": {},
   "source": [
    "### Order the cut category\n",
    "Pass the `categories` parameter a list with the categories in their desired order and change the boolean parameter `ordered` to True."
   ]
  },
  {
   "cell_type": "code",
   "execution_count": null,
   "metadata": {},
   "outputs": [],
   "source": [
    "order = ['Fair', 'Good', 'Very Good', 'Premium', 'Ideal']\n",
    "cut = pd.Categorical(diamonds['cut'], categories=order, ordered=True)\n",
    "cut"
   ]
  },
  {
   "cell_type": "markdown",
   "metadata": {},
   "source": [
    "Notice the less-than signs in the output indicating the order. You can also determine whether it is ordinal with the `ordered` attribute."
   ]
  },
  {
   "cell_type": "code",
   "execution_count": null,
   "metadata": {},
   "outputs": [],
   "source": [
    "cut.ordered"
   ]
  },
  {
   "cell_type": "markdown",
   "metadata": {},
   "source": [
    "### New sorting result\n",
    "Ordered categorical variables are sorted by their order and not alphabetically."
   ]
  },
  {
   "cell_type": "code",
   "execution_count": null,
   "metadata": {},
   "outputs": [],
   "source": [
    "cut.sort_values()"
   ]
  },
  {
   "cell_type": "markdown",
   "metadata": {},
   "source": [
    "# Binning numeric variables so that they are categorical\n",
    "Binning numeric variables is a fairly common task to create a categorical variable. For instance, it's often useful to bin people by age instead of treating each exact age as its own value. Pandas automates this process with the `pd.cut` function. Pass it the Series you would like convert and the number of bins as an integer.\n",
    "\n",
    "The following creates 5 bins of equal width. Notice that the data type is now an **ordered** category.  The start and end interval of each bin is also given."
   ]
  },
  {
   "cell_type": "code",
   "execution_count": null,
   "metadata": {},
   "outputs": [],
   "source": [
    "carat_bin = pd.cut(diamonds['carat'], 5)\n",
    "carat_bin.head()"
   ]
  },
  {
   "cell_type": "markdown",
   "metadata": {},
   "source": [
    "The `pd.cut` function returns a Series, so it has all the same methods as any other Series."
   ]
  },
  {
   "cell_type": "code",
   "execution_count": null,
   "metadata": {},
   "outputs": [],
   "source": [
    "carat_bin.sort_values().head()"
   ]
  },
  {
   "cell_type": "markdown",
   "metadata": {},
   "source": [
    "Since it is type category, the `cat` accessor works here as well."
   ]
  },
  {
   "cell_type": "code",
   "execution_count": null,
   "metadata": {},
   "outputs": [],
   "source": [
    "carat_bin.cat.categories"
   ]
  },
  {
   "cell_type": "markdown",
   "metadata": {},
   "source": [
    "### Supply the intervals for the bins\n",
    "Instead of an integer, you can supply the intervals for the bins as a list. To help you determine the intervals, you may want to output the min and max of the variable you are binning. "
   ]
  },
  {
   "cell_type": "code",
   "execution_count": null,
   "metadata": {},
   "outputs": [],
   "source": [
    "diamonds['carat'].min()"
   ]
  },
  {
   "cell_type": "code",
   "execution_count": null,
   "metadata": {},
   "outputs": [],
   "source": [
    "diamonds['carat'].max()"
   ]
  },
  {
   "cell_type": "code",
   "execution_count": null,
   "metadata": {},
   "outputs": [],
   "source": [
    "intervals = [0, 2, 4, 6]\n",
    "carat_bin2 = pd.cut(diamonds['carat'], intervals)\n",
    "carat_bin2.head()"
   ]
  },
  {
   "cell_type": "markdown",
   "metadata": {},
   "source": [
    "## Comparison to a histogram\n",
    "Binning numeric variables is exactly what a histogram does. Let's manually count the frequency of each bin and then verify that a histogram does the same thing."
   ]
  },
  {
   "cell_type": "code",
   "execution_count": null,
   "metadata": {},
   "outputs": [],
   "source": [
    "carat_bin.value_counts()"
   ]
  },
  {
   "cell_type": "code",
   "execution_count": null,
   "metadata": {},
   "outputs": [],
   "source": [
    "carat = diamonds['carat']\n",
    "carat.plot(kind='hist', bins=5)"
   ]
  },
  {
   "cell_type": "markdown",
   "metadata": {},
   "source": [
    "## Bin by quantile with `pd.qcut`\n",
    "Pandas provides the `pd.qcut` function to bin numeric data based on their quantile. For instance, we can divide our data into 5 quantiles like this."
   ]
  },
  {
   "cell_type": "code",
   "execution_count": null,
   "metadata": {},
   "outputs": [],
   "source": [
    "carat_quant_bin = pd.qcut(carat, 5)\n",
    "carat_quant_bin.head()"
   ]
  },
  {
   "cell_type": "markdown",
   "metadata": {},
   "source": [
    "A quantile cut like this will attempt to create the intervals such that each one contains the same amount of observations. Let's verify this:"
   ]
  },
  {
   "cell_type": "code",
   "execution_count": null,
   "metadata": {},
   "outputs": [],
   "source": [
    "carat_quant_bin.value_counts().sort_index()"
   ]
  },
  {
   "cell_type": "markdown",
   "metadata": {},
   "source": [
    "Alternatively, you may provide `pd.qcut` a list of quantiles (numbers between 0 and 1) to return more specific intervals."
   ]
  },
  {
   "cell_type": "code",
   "execution_count": null,
   "metadata": {},
   "outputs": [],
   "source": [
    "carat_quant_bin2 = pd.qcut(carat, [0, .1, .4, .6, 1])\n",
    "carat_quant_bin2.head()"
   ]
  },
  {
   "cell_type": "code",
   "execution_count": null,
   "metadata": {},
   "outputs": [],
   "source": [
    "carat_quant_bin2.value_counts().sort_index()"
   ]
  },
  {
   "cell_type": "markdown",
   "metadata": {},
   "source": [
    "# Exercises"
   ]
  },
  {
   "cell_type": "markdown",
   "metadata": {},
   "source": [
    "# Extra\n",
    "\n",
    "## Converting to category with `astype`\n",
    "The `astype` DataFrame and Series method can also be used to convert a column to categorical. We can pass it the string 'category' to make the conversion. Here we convert the gender column into a categorical."
   ]
  },
  {
   "cell_type": "code",
   "execution_count": null,
   "metadata": {},
   "outputs": [],
   "source": [
    "emp['gender'].astype('category').head()"
   ]
  },
  {
   "cell_type": "markdown",
   "metadata": {},
   "source": [
    "## Creating ordered categoricals with `astype`\n",
    " Unfortunately its API is fairly cumbersome and it requires us to dig deep into the Pandas library to use the `CategoricalDtype` constructor. We pass it the categories as a list and set the `ordered` parameter to True. Here we replicate the conversion of the cut diamonds column to an ordered categorical using `astype`. We then pass the result of the `CategoricalDtype` to the `astype` method."
   ]
  },
  {
   "cell_type": "code",
   "execution_count": null,
   "metadata": {},
   "outputs": [],
   "source": [
    "from pandas.api.types import CategoricalDtype"
   ]
  },
  {
   "cell_type": "code",
   "execution_count": null,
   "metadata": {},
   "outputs": [],
   "source": [
    "order = ['Fair', 'Good', 'Very Good', 'Premium', 'Ideal']\n",
    "cat = CategoricalDtype(categories=order, ordered=True)\n",
    "diamonds['cut'].astype(cat).head()"
   ]
  }
 ],
 "metadata": {
  "kernelspec": {
   "display_name": "Python 3",
   "language": "python",
   "name": "python3"
  },
  "language_info": {
   "codemirror_mode": {
    "name": "ipython",
    "version": 3
   },
   "file_extension": ".py",
   "mimetype": "text/x-python",
   "name": "python",
   "nbconvert_exporter": "python",
   "pygments_lexer": "ipython3",
   "version": "3.6.7"
  }
 },
 "nbformat": 4,
 "nbformat_minor": 2
}
