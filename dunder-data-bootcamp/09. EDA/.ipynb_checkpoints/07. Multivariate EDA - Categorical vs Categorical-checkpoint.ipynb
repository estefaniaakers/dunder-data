{
 "cells": [
  {
   "cell_type": "markdown",
   "metadata": {},
   "source": [
    "# 7. Multivariate EDA - Categorical vs Categorical\n",
    "All of the previous EDA focused on analyzing single columns of data independent of the others. Of course it is possible to extend a data analyses to multiple columns.\n",
    "\n",
    "We have three possible bivariate combinations of variables\n",
    "\n",
    "* categorical vs categorical\n",
    "* categorical vs continuous\n",
    "* continuous vs continuous\n",
    "\n",
    "| Univariate             | Graphical                               | Non-Graphical                     | \n",
    "|-------------|-----------------------------------------|-----------------------------------|\n",
    "| Categorical | Bar char of frequencies (count/percent) | `value_counts` (count/percent) |\n",
    "| Continuous  | Histogram/KDE, box/violin  | central tendency -mean/median/mode, variance, std, skew, IQR  |\n",
    "\n",
    "| Multivariate            | Graphical                               | Non-Graphical                     | \n",
    "|-------------|-----------------------------------------|-----------------------------------|\n",
    "| Categorical vs Categorical | heat map, mosaic plot | Cross tabulation (count/percent) |\n",
    "| Continuous vs Continuous  | all pairwise scatterplots, kde, heatmaps |  all pairwise correlation/regression   |\n",
    "| Categorical vs Continuous  | All seaborn \"categorical\" plots | Summary statistics for each group |"
   ]
  },
  {
   "cell_type": "code",
   "execution_count": null,
   "metadata": {},
   "outputs": [],
   "source": [
    "%matplotlib inline\n",
    "import pandas as pd\n",
    "import numpy as np\n",
    "import seaborn as sns\n",
    "import matplotlib.pyplot as plt\n",
    "\n",
    "diamonds = pd.read_csv('../data/diamonds.csv')\n",
    "\n",
    "new_order = ['cut', 'color', 'clarity','carat', 'price', 'x', 'y','z','depth', 'table']\n",
    "diamonds = diamonds[new_order]\n",
    "\n",
    "order = ['Fair', 'Good', 'Very Good', 'Premium', 'Ideal']\n",
    "diamonds['cut'] = pd.Categorical(diamonds['cut'], ordered=True, categories=order)\n",
    "\n",
    "order = ['J', 'I', 'H', 'G', 'F', 'E', 'D']\n",
    "diamonds['color'] = pd.Categorical(diamonds['color'], ordered=True, categories=order)\n",
    "\n",
    "order = ['I1', 'SI2', 'SI1', 'VS2', 'VS1', 'VVS2', 'VVS1', 'IF']\n",
    "diamonds['clarity'] = pd.Categorical(diamonds['clarity'], ordered=True, categories=order)"
   ]
  },
  {
   "cell_type": "markdown",
   "metadata": {},
   "source": [
    "## Non-Graphical Categorical vs Categorical\n",
    "Let's create a cross-tabulation table of combinations of different categorical variables."
   ]
  },
  {
   "cell_type": "code",
   "execution_count": null,
   "metadata": {},
   "outputs": [],
   "source": [
    "col_clar_ct = diamonds.pivot_table(index='clarity', columns='color', aggfunc='size')\n",
    "col_clar_ct"
   ]
  },
  {
   "cell_type": "code",
   "execution_count": null,
   "metadata": {},
   "outputs": [],
   "source": [
    "cut_color_ct = diamonds.pivot_table(index='cut', columns='color', aggfunc='size')\n",
    "cut_color_ct"
   ]
  },
  {
   "cell_type": "markdown",
   "metadata": {},
   "source": [
    "## Graphical Categorical vs Categorical\n",
    "We can plot a bar plot."
   ]
  },
  {
   "cell_type": "code",
   "execution_count": null,
   "metadata": {},
   "outputs": [],
   "source": [
    "col_clar_ct.plot(kind='bar', figsize=(12, 4))"
   ]
  },
  {
   "cell_type": "markdown",
   "metadata": {},
   "source": [
    "We can do this in one line with seaborn."
   ]
  },
  {
   "cell_type": "code",
   "execution_count": null,
   "metadata": {},
   "outputs": [],
   "source": [
    "ax = sns.countplot(x='clarity', hue='color', data=diamonds)\n",
    "ax.figure.set_size_inches(12, 4)"
   ]
  },
  {
   "cell_type": "markdown",
   "metadata": {},
   "source": [
    "### Make heatmaps\n",
    "A heatmap uses the values of table to color each cell."
   ]
  },
  {
   "cell_type": "code",
   "execution_count": null,
   "metadata": {},
   "outputs": [],
   "source": [
    "# bulk of the data is in the middle\n",
    "sns.heatmap(col_clar_ct)"
   ]
  },
  {
   "cell_type": "code",
   "execution_count": null,
   "metadata": {},
   "outputs": [],
   "source": [
    "sns.heatmap(cut_color_ct)"
   ]
  },
  {
   "cell_type": "markdown",
   "metadata": {},
   "source": [
    "# Exercise\n",
    "Replicate on your dataset"
   ]
  }
 ],
 "metadata": {
  "kernelspec": {
   "display_name": "Python 3",
   "language": "python",
   "name": "python3"
  },
  "language_info": {
   "codemirror_mode": {
    "name": "ipython",
    "version": 3
   },
   "file_extension": ".py",
   "mimetype": "text/x-python",
   "name": "python",
   "nbconvert_exporter": "python",
   "pygments_lexer": "ipython3",
   "version": "3.6.7"
  }
 },
 "nbformat": 4,
 "nbformat_minor": 2
}
