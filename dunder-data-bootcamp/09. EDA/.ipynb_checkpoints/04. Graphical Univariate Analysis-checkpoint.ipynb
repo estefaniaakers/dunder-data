{
 "cells": [
  {
   "cell_type": "markdown",
   "metadata": {},
   "source": [
    "# 4. Graphical Univariate Analysis\n",
    "\n",
    "### Introduction\n",
    "In this notebook, we will explore individual columns of our data graphically. The table corresponding to the available tools for analysis based on the type of data is reprinted below:\n",
    "\n",
    "\n",
    "\n",
    "\n",
    "| Univariate             | Graphical                               | Non-Graphical                     | \n",
    "|-------------|-----------------------------------------|-----------------------------------|\n",
    "| Categorical | Bar char of frequencies (count/percent) | `value_counts` (count/percent) |\n",
    "| Continuous  | Histogram/KDE, box/violin  | central tendency -mean/median/mode, variance, std, skew, IQR  |\n",
    "\n",
    "| Multivariate            | Graphical                               | Non-Graphical                     | \n",
    "|-------------|-----------------------------------------|-----------------------------------|\n",
    "| Categorical vs Categorical | heat map, mosaic plot | Cross tabulation (count/percent) |\n",
    "| Continuous vs Continuous  | all pairwise scatterplots, kde, heatmaps |  all pairwise correlation/regression   |\n",
    "| Categorical vs Continuous  | All seaborn \"categorical\" plots | Summary statistics for each group |"
   ]
  },
  {
   "cell_type": "markdown",
   "metadata": {},
   "source": [
    "Previous analysis is computed again in the following cell."
   ]
  },
  {
   "cell_type": "code",
   "execution_count": null,
   "metadata": {},
   "outputs": [],
   "source": [
    "%matplotlib inline\n",
    "import pandas as pd\n",
    "import numpy as np\n",
    "import seaborn as sns\n",
    "import matplotlib.pyplot as plt\n",
    "\n",
    "pd.options.display.max_colwidth = 120\n",
    "\n",
    "diamonds = pd.read_csv('../data/diamonds.csv')\n",
    "\n",
    "new_order = ['cut', 'color', 'clarity','carat', 'price', 'x', 'y','z','depth', 'table']\n",
    "diamonds = diamonds[new_order]\n",
    "\n",
    "order = ['Fair', 'Good', 'Very Good', 'Premium', 'Ideal']\n",
    "diamonds['cut'] = pd.Categorical(diamonds['cut'], ordered=True, categories=order)\n",
    "\n",
    "order = ['J', 'I', 'H', 'G', 'F', 'E', 'D']\n",
    "diamonds['color'] = pd.Categorical(diamonds['color'], ordered=True, categories=order)\n",
    "\n",
    "order = ['I1', 'SI2', 'SI1', 'VS2', 'VS1', 'VVS2', 'VVS1', 'IF']\n",
    "diamonds['clarity'] = pd.Categorical(diamonds['clarity'], ordered=True, categories=order)"
   ]
  },
  {
   "cell_type": "markdown",
   "metadata": {},
   "source": [
    "## Graphical univariate analysis on categorical variables\n",
    "A bar plot of the frequencies is one of the few you can do."
   ]
  },
  {
   "cell_type": "code",
   "execution_count": null,
   "metadata": {},
   "outputs": [],
   "source": [
    "diamonds['color'].value_counts().sort_index().plot(kind='bar')"
   ]
  },
  {
   "cell_type": "markdown",
   "metadata": {},
   "source": [
    "### Seaborn sorts axis automatically\n",
    "Conveniently, seaborn sorts the categorical variable axis."
   ]
  },
  {
   "cell_type": "code",
   "execution_count": null,
   "metadata": {},
   "outputs": [],
   "source": [
    "sns.countplot(x='color', data=diamonds)"
   ]
  },
  {
   "cell_type": "code",
   "execution_count": null,
   "metadata": {},
   "outputs": [],
   "source": [
    "sns.countplot(x='cut', data=diamonds)"
   ]
  },
  {
   "cell_type": "code",
   "execution_count": null,
   "metadata": {},
   "outputs": [],
   "source": [
    "sns.countplot(x='clarity', data=diamonds)"
   ]
  },
  {
   "cell_type": "markdown",
   "metadata": {},
   "source": [
    "## Pie charts\n",
    "Lots of data visualization experts say to [avoid pie charts](https://www.quora.com/How-and-why-are-pie-charts-considered-evil-by-data-visualization-experts), but they are possible with Pandas."
   ]
  },
  {
   "cell_type": "code",
   "execution_count": null,
   "metadata": {},
   "outputs": [],
   "source": [
    "diamonds['color'].value_counts().plot(kind='pie')"
   ]
  },
  {
   "cell_type": "markdown",
   "metadata": {},
   "source": [
    "## Graphical univariate analysis on continuous variables\n",
    "There are many more possibilities for graphical analysis with continuous variables. The plots typically give information about the distribution of the data. Let's plot the distribution of the carat column with a kde plot. Notice that there appear to be sharp increases in distribution around whole or half numbers. This might indicate that people prefer value diamonds that cross some threshold. \n",
    "\n",
    "For instance, its possible that a diamond that is 1 carat is more preferable than one that is .99 carats, even though the size would not be readily distinguishable with the naked eye."
   ]
  },
  {
   "cell_type": "code",
   "execution_count": null,
   "metadata": {},
   "outputs": [],
   "source": [
    "diamonds['carat'].plot(kind='kde', figsize=(10, 5), xlim=(0, 3))"
   ]
  },
  {
   "cell_type": "markdown",
   "metadata": {},
   "source": [
    "Histograms are also good choices to get an idea of the distribution. By default, it shows the raw count of each bin. We can clearly see spikes at carat sizes of 1, 1.5 and 2."
   ]
  },
  {
   "cell_type": "code",
   "execution_count": null,
   "metadata": {},
   "outputs": [],
   "source": [
    "diamonds['carat'].plot(kind='hist', figsize=(10, 5), xlim=(0, 3), bins=100)"
   ]
  },
  {
   "cell_type": "markdown",
   "metadata": {},
   "source": [
    "Seaborn's `displot` plots a histogram and KDE on the same plot."
   ]
  },
  {
   "cell_type": "code",
   "execution_count": null,
   "metadata": {},
   "outputs": [],
   "source": [
    "ax = sns.distplot(diamonds['carat'])\n",
    "ax.figure.set_size_inches(12, 6)"
   ]
  },
  {
   "cell_type": "markdown",
   "metadata": {},
   "source": [
    "Find the distribution of the price."
   ]
  },
  {
   "cell_type": "code",
   "execution_count": null,
   "metadata": {},
   "outputs": [],
   "source": [
    "ax = sns.distplot(diamonds['price'])\n",
    "ax.figure.set_size_inches(12, 6)"
   ]
  },
  {
   "cell_type": "markdown",
   "metadata": {},
   "source": [
    "We can also plot just the cumulative distribution."
   ]
  },
  {
   "cell_type": "code",
   "execution_count": null,
   "metadata": {},
   "outputs": [],
   "source": [
    "sns.distplot(diamonds['carat'], kde_kws={'cumulative': True}, hist=False)"
   ]
  },
  {
   "cell_type": "markdown",
   "metadata": {},
   "source": [
    "### Box plots\n",
    "Box plots are nice tools to discover outliers. The line in the middle of the box is the median of the distribution, and the sides of the box represent the first and third quartiles, meaning the width of the box is 75% of the distribution and also known as the inner quartile range. The bars outside of the box are the **whiskers** and are usually defined to be 1.5 x the interquartile range. All data that falls outside the whiskers are plotted individually."
   ]
  },
  {
   "cell_type": "code",
   "execution_count": null,
   "metadata": {},
   "outputs": [],
   "source": [
    "sns.boxplot('carat', data=diamonds)"
   ]
  },
  {
   "cell_type": "code",
   "execution_count": null,
   "metadata": {
    "scrolled": true
   },
   "outputs": [],
   "source": [
    "sns.boxplot('price', data=diamonds)"
   ]
  },
  {
   "cell_type": "markdown",
   "metadata": {},
   "source": [
    "# Exercise\n",
    "Complete these steps on your dataset"
   ]
  }
 ],
 "metadata": {
  "kernelspec": {
   "display_name": "Python 3",
   "language": "python",
   "name": "python3"
  },
  "language_info": {
   "codemirror_mode": {
    "name": "ipython",
    "version": 3
   },
   "file_extension": ".py",
   "mimetype": "text/x-python",
   "name": "python",
   "nbconvert_exporter": "python",
   "pygments_lexer": "ipython3",
   "version": "3.6.7"
  }
 },
 "nbformat": 4,
 "nbformat_minor": 2
}
