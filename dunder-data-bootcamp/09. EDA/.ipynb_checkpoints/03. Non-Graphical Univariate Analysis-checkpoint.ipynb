{
 "cells": [
  {
   "cell_type": "markdown",
   "metadata": {},
   "source": [
    "# 3. Non-Graphical Univariate Analysis\n",
    "\n",
    "### Univariate vs Multivariate Analyses\n",
    "Univariate analysis is done on one variable at a time. Multivariate is analysis done on 2 or more variables. Typically, we start with univariate analysis as it is simpler and allows us to understand each column independently from the others.\n",
    "\n",
    "### Graphical vs Non-graphical\n",
    "Each exploratory analysis will result in either **graphical** or **non-graphical** output. The two main types of columns are categorical and continuous, which are analyzed different. Categorical data is typically counted, or has values that are used to form groups. Continuous data is often aggregated or used in some other numerical calculation.\n",
    "\n",
    "The following table may you become aware of all the combinations of analysis during an EDA and what procedure to use for the specific variable combination.\n",
    "\n",
    "| Univariate             | Graphical                               | Non-Graphical                     | \n",
    "|-------------|-----------------------------------------|-----------------------------------|\n",
    "| Categorical | Bar char of frequencies (count/percent) | `value_counts` (count/percent) |\n",
    "| Continuous  | Histogram/KDE, box/violin  | central tendency -mean/median/mode, variance, std, skew, IQR  |\n",
    "\n",
    "| Multivariate            | Graphical                               | Non-Graphical                     | \n",
    "|-------------|-----------------------------------------|-----------------------------------|\n",
    "| Categorical vs Categorical | heat map, mosaic plot | Cross tabulation (count/percent) |\n",
    "| Continuous vs Continuous  | all pairwise scatterplots, kde, heatmaps |  all pairwise correlation/regression   |\n",
    "| Categorical vs Continuous  | All seaborn \"categorical\" plots | Summary statistics for each group |"
   ]
  },
  {
   "cell_type": "markdown",
   "metadata": {},
   "source": [
    "## Begin with Univariate Analysis\n",
    "After you have tidied the data and began the data dictionary, a reasonable place to start is with univariate analysis. \n",
    "\n",
    "#### Recreate the data dictionary\n",
    "Let's recreate the data dictionary that we began earlier."
   ]
  },
  {
   "cell_type": "code",
   "execution_count": null,
   "metadata": {},
   "outputs": [],
   "source": [
    "%matplotlib inline\n",
    "import pandas as pd\n",
    "import numpy as np\n",
    "import seaborn as sns\n",
    "import matplotlib.pyplot as plt\n",
    "\n",
    "pd.options.display.max_colwidth = 120\n",
    "\n",
    "diamonds = pd.read_csv('../data/diamonds.csv')\n",
    "diamonds_dictionary = pd.read_csv('../data/diamonds_dictionary.csv', index_col='Column Name')\n",
    "diamonds_dictionary['Data Type'] = diamonds.dtypes\n",
    "diamonds_dictionary['Num Unique'] = diamonds.nunique()\n",
    "c, o, n = 'continuous', 'ordinal', 'nominal'\n",
    "d = {'carat':    c, \n",
    "     'clarity':  o, \n",
    "     'color':    o, \n",
    "     'cut':      o, \n",
    "     'depth':    c, \n",
    "     'price':    c, \n",
    "     'table':    c, \n",
    "     'x':        c, \n",
    "     'y':        c, \n",
    "     'z':        c}\n",
    "\n",
    "type_label = pd.Series(d)\n",
    "diamonds_dictionary['Data Type Info'] = type_label\n",
    "\n",
    "new_order = ['cut', 'color', 'clarity','carat', 'price', 'x', 'y','z','depth', 'table']\n",
    "diamonds = diamonds[new_order]\n",
    "diamonds_dictionary['Missing Values'] = diamonds.isna().sum()\n",
    "diamonds.head()"
   ]
  },
  {
   "cell_type": "code",
   "execution_count": null,
   "metadata": {},
   "outputs": [],
   "source": [
    "diamonds_dictionary"
   ]
  },
  {
   "cell_type": "markdown",
   "metadata": {},
   "source": [
    "## Interview each column\n",
    "Univariate analysis is an analysis done on one variable. For smaller datasets, I like to manually examine each variable. This way, I can learn the distribution, discover potential outliers, missing values and simplify matters by concentrating on only variable at a time.\n",
    "\n",
    "## Non-graphical univariate analysis on continuous columns\n",
    "Continuous columns are always numeric, which leads to many available aggregation choices such as min, median, mean, max, standard deviation. All of these values are given with the `describe` method. By default, it works only on numeric columns. You may also pass it specific percentiles of the distribution you would like to see."
   ]
  },
  {
   "cell_type": "code",
   "execution_count": null,
   "metadata": {},
   "outputs": [],
   "source": [
    "diamonds.describe(percentiles=[.01, .1, .3, .5, .7, .9, .99]).round(1)"
   ]
  },
  {
   "cell_type": "markdown",
   "metadata": {},
   "source": [
    "## Non-graphical univariate analysis on the categorical variables\n",
    "The frequency of occurrence of each value by raw count and percentage is usually the first (and many times only exploratory step taken) when doing univariate categorical analysis. The **`value_counts`** Series method will be useful here."
   ]
  },
  {
   "cell_type": "code",
   "execution_count": null,
   "metadata": {},
   "outputs": [],
   "source": [
    "diamonds['cut'].value_counts()"
   ]
  },
  {
   "cell_type": "code",
   "execution_count": null,
   "metadata": {},
   "outputs": [],
   "source": [
    "diamonds['color'].value_counts()"
   ]
  },
  {
   "cell_type": "code",
   "execution_count": null,
   "metadata": {},
   "outputs": [],
   "source": [
    "diamonds['clarity'].value_counts()"
   ]
  },
  {
   "cell_type": "code",
   "execution_count": null,
   "metadata": {},
   "outputs": [],
   "source": [
    "# use normalize=True to get percentage\n",
    "diamonds['cut'].value_counts(normalize=True).round(2)"
   ]
  },
  {
   "cell_type": "markdown",
   "metadata": {},
   "source": [
    "### Changing `object` to `category`\n",
    "Let's change actual categorical values to the Pandas `category` data type. Changing the column to type **`category`** does several things. \n",
    "* It saves memory by encoding each category as a numerical value. \n",
    "* Sorting is possible by the category order (if given). \n",
    "* The **`.cat`** accessor makes many more methods available.\n",
    "\n",
    "### Use `pd.Categorical`\n",
    "\n",
    "Ordinal variables can be given their ordering through the **`categories`** parameter with **`ordered`** set equal to **`True`**."
   ]
  },
  {
   "cell_type": "code",
   "execution_count": null,
   "metadata": {},
   "outputs": [],
   "source": [
    "order = ['Fair', 'Good', 'Very Good', 'Premium', 'Ideal']\n",
    "diamonds['cut'] = pd.Categorical(diamonds['cut'], ordered=True, categories=order)"
   ]
  },
  {
   "cell_type": "code",
   "execution_count": null,
   "metadata": {},
   "outputs": [],
   "source": [
    "# notice that the data type is now category and the categories are ordered\n",
    "diamonds['cut'].head()"
   ]
  },
  {
   "cell_type": "markdown",
   "metadata": {},
   "source": [
    "### Convert color and clarity to category"
   ]
  },
  {
   "cell_type": "code",
   "execution_count": null,
   "metadata": {},
   "outputs": [],
   "source": [
    "order = ['J', 'I', 'H', 'G', 'F', 'E', 'D']\n",
    "diamonds['color'] = pd.Categorical(diamonds['color'], ordered=True, categories=order)\n",
    "\n",
    "order = ['I1', 'SI2', 'SI1', 'VS2', 'VS1', 'VVS2', 'VVS1', 'IF']\n",
    "diamonds['clarity'] = pd.Categorical(diamonds['clarity'], ordered=True, categories=order)"
   ]
  },
  {
   "cell_type": "markdown",
   "metadata": {},
   "source": [
    "### Verify data types\n",
    "Let's verify that we have converted these three columns to type category."
   ]
  },
  {
   "cell_type": "code",
   "execution_count": null,
   "metadata": {},
   "outputs": [],
   "source": [
    "diamonds.dtypes"
   ]
  },
  {
   "cell_type": "markdown",
   "metadata": {},
   "source": [
    "###  Nominal categorical variables\n",
    "There is no need to specify the `ordered` or `categories` parameters for nominal variables."
   ]
  },
  {
   "cell_type": "markdown",
   "metadata": {},
   "source": [
    "### Sort based on the category order\n",
    "The **`value_counts`** method works the same as before the conversion by showing the frequencies in descending order."
   ]
  },
  {
   "cell_type": "code",
   "execution_count": null,
   "metadata": {},
   "outputs": [],
   "source": [
    "diamonds['color'].value_counts()"
   ]
  },
  {
   "cell_type": "markdown",
   "metadata": {},
   "source": [
    "Chaining the **`sort_index`** method sorts by the given categorical order and not the alphabetical order."
   ]
  },
  {
   "cell_type": "code",
   "execution_count": null,
   "metadata": {},
   "outputs": [],
   "source": [
    "diamonds['color'].value_counts().sort_index()"
   ]
  },
  {
   "cell_type": "code",
   "execution_count": null,
   "metadata": {},
   "outputs": [],
   "source": [
    "# percentages\n",
    "diamonds['color'].value_counts(normalize=True).round(2).sort_index()"
   ]
  },
  {
   "cell_type": "markdown",
   "metadata": {},
   "source": [
    "# Exercise\n",
    "Complete these steps on your dataset"
   ]
  }
 ],
 "metadata": {
  "kernelspec": {
   "display_name": "Python 3",
   "language": "python",
   "name": "python3"
  },
  "language_info": {
   "codemirror_mode": {
    "name": "ipython",
    "version": 3
   },
   "file_extension": ".py",
   "mimetype": "text/x-python",
   "name": "python",
   "nbconvert_exporter": "python",
   "pygments_lexer": "ipython3",
   "version": "3.6.7"
  }
 },
 "nbformat": 4,
 "nbformat_minor": 2
}
