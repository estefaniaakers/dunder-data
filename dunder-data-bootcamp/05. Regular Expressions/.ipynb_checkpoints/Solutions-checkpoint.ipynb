{
 "cells": [
  {
   "cell_type": "markdown",
   "metadata": {},
   "source": [
    "# Solutions\n",
    "\n",
    "1. [Intro to Regular Expressions](#1.-Intro-to-Regular-Expressions)\n",
    "1. [Quantifiers](#2.-Quantifiers)\n",
    "1. [Or Conditions](#3.-Or-Conditions)\n",
    "1. [Character Sets and Grouping](#4.-Character-Sets-and-Grouping)\n"
   ]
  },
  {
   "cell_type": "code",
   "execution_count": 1,
   "metadata": {},
   "outputs": [],
   "source": [
    "import pandas as pd\n",
    "import numpy as np"
   ]
  },
  {
   "cell_type": "markdown",
   "metadata": {},
   "source": [
    "# 1. Intro to Regular Expressions"
   ]
  },
  {
   "cell_type": "code",
   "execution_count": 2,
   "metadata": {},
   "outputs": [],
   "source": [
    "movie = pd.read_csv('../data/movie.csv')\n",
    "title = movie['title']"
   ]
  },
  {
   "cell_type": "markdown",
   "metadata": {},
   "source": [
    "### Problem 1\n",
    "<span  style=\"color:green; font-size:16px\">Find all movies that have 2 consecutive z's in them.</span>"
   ]
  },
  {
   "cell_type": "code",
   "execution_count": 3,
   "metadata": {},
   "outputs": [
    {
     "data": {
      "text/plain": [
       "416                All That Jazz\n",
       "907         The Dukes of Hazzard\n",
       "1041                   Bedazzled\n",
       "2234                   Paparazzi\n",
       "2524                    Hot Fuzz\n",
       "2593    The Lizzie McGuire Movie\n",
       "3215       Into the Grizzly Maze\n",
       "3535                Mystic Pizza\n",
       "4399              Blue Like Jazz\n",
       "Name: title, dtype: object"
      ]
     },
     "execution_count": 3,
     "metadata": {},
     "output_type": "execute_result"
    }
   ],
   "source": [
    "filt = title.str.contains('zz')\n",
    "title[filt]"
   ]
  },
  {
   "cell_type": "markdown",
   "metadata": {},
   "source": [
    "### Problem 2\n",
    "<span  style=\"color:green; font-size:16px\">Find all movies that begin with 9.</span>"
   ]
  },
  {
   "cell_type": "code",
   "execution_count": 4,
   "metadata": {},
   "outputs": [
    {
     "data": {
      "text/plain": [
       "1651                       9\n",
       "2416                9½ Weeks\n",
       "3705    90 Minutes in Heaven\n",
       "Name: title, dtype: object"
      ]
     },
     "execution_count": 4,
     "metadata": {},
     "output_type": "execute_result"
    }
   ],
   "source": [
    "filt = title.str.contains('^9')\n",
    "title[filt]"
   ]
  },
  {
   "cell_type": "markdown",
   "metadata": {},
   "source": [
    "### Problem 3\n",
    "<span  style=\"color:green; font-size:16px\">Find all movies that have a `b` as their third character.</span>"
   ]
  },
  {
   "cell_type": "code",
   "execution_count": 5,
   "metadata": {},
   "outputs": [
    {
     "data": {
      "text/plain": [
       "22                Robin Hood\n",
       "228                  RoboCop\n",
       "286           Public Enemies\n",
       "448                   Robots\n",
       "494    Babe: Pig in the City\n",
       "Name: title, dtype: object"
      ]
     },
     "execution_count": 5,
     "metadata": {},
     "output_type": "execute_result"
    }
   ],
   "source": [
    "filt = title.str.contains('^..b')\n",
    "title[filt].head()"
   ]
  },
  {
   "cell_type": "markdown",
   "metadata": {},
   "source": [
    "### Problem 4\n",
    "<span  style=\"color:green; font-size:16px\">Find all movies with a fourth-to-last character of `M` and a last character of `e`.</span>"
   ]
  },
  {
   "cell_type": "code",
   "execution_count": 6,
   "metadata": {},
   "outputs": [
    {
     "data": {
      "text/plain": [
       "704     The Green Mile\n",
       "1167            8 Mile\n",
       "1616         Like Mike\n",
       "2122    Moonlight Mile\n",
       "2486      How She Move\n",
       "Name: title, dtype: object"
      ]
     },
     "execution_count": 6,
     "metadata": {},
     "output_type": "execute_result"
    }
   ],
   "source": [
    "filt = title.str.contains('M..e$')\n",
    "title[filt].head()"
   ]
  },
  {
   "cell_type": "markdown",
   "metadata": {},
   "source": [
    "### Problem 5\n",
    "<span  style=\"color:green; font-size:16px\">Could you use a regular expression to find a movie that was exactly 6 characters in length?</span>"
   ]
  },
  {
   "cell_type": "code",
   "execution_count": 7,
   "metadata": {},
   "outputs": [
    {
     "data": {
      "text/plain": [
       "0      Avatar\n",
       "41     Cars 2\n",
       "58     WALL·E\n",
       "125    Frozen\n",
       "168    Sahara\n",
       "292    Eraser\n",
       "298    Eragon\n",
       "368    Pixels\n",
       "426    Jumper\n",
       "428    Zodiac\n",
       "Name: title, dtype: object"
      ]
     },
     "execution_count": 7,
     "metadata": {},
     "output_type": "execute_result"
    }
   ],
   "source": [
    "filt = title.str.contains('^......$')\n",
    "title[filt].head(10)"
   ]
  },
  {
   "cell_type": "markdown",
   "metadata": {},
   "source": [
    "### Problem 6\n",
    "<span  style=\"color:green; font-size:16px\">What is a more natural way to complete problem 5 without a regex?</span>"
   ]
  },
  {
   "cell_type": "code",
   "execution_count": 8,
   "metadata": {},
   "outputs": [
    {
     "data": {
      "text/plain": [
       "0      Avatar\n",
       "41     Cars 2\n",
       "58     WALL·E\n",
       "125    Frozen\n",
       "168    Sahara\n",
       "292    Eraser\n",
       "298    Eragon\n",
       "368    Pixels\n",
       "426    Jumper\n",
       "428    Zodiac\n",
       "Name: title, dtype: object"
      ]
     },
     "execution_count": 8,
     "metadata": {},
     "output_type": "execute_result"
    }
   ],
   "source": [
    "filt = title.str.len() == 6\n",
    "title[filt].head(10)"
   ]
  },
  {
   "cell_type": "markdown",
   "metadata": {},
   "source": [
    "# 2. Quantifiers"
   ]
  },
  {
   "cell_type": "markdown",
   "metadata": {},
   "source": [
    "Read in the movie dataset first."
   ]
  },
  {
   "cell_type": "code",
   "execution_count": 9,
   "metadata": {},
   "outputs": [],
   "source": [
    "movie = pd.read_csv('../data/movie.csv')\n",
    "title = movie['title']"
   ]
  },
  {
   "cell_type": "markdown",
   "metadata": {},
   "source": [
    "### Problem 1\n",
    "<span  style=\"color:green; font-size:16px\">Find all movies that have a 'z' as their 15th character.</span>"
   ]
  },
  {
   "cell_type": "code",
   "execution_count": 10,
   "metadata": {},
   "outputs": [
    {
     "data": {
      "text/plain": [
       "2484      American Dreamz\n",
       "2625    Ramona and Beezus\n",
       "Name: title, dtype: object"
      ]
     },
     "execution_count": 10,
     "metadata": {},
     "output_type": "execute_result"
    }
   ],
   "source": [
    "pattern = '^.{14}z'\n",
    "filt = title.str.contains(pattern)\n",
    "title[filt]"
   ]
  },
  {
   "cell_type": "markdown",
   "metadata": {},
   "source": [
    "### Problem 2\n",
    "<span  style=\"color:green; font-size:16px\">Find all movies that have the word 'Friend' or 'Friends' in them.</span>"
   ]
  },
  {
   "cell_type": "code",
   "execution_count": 11,
   "metadata": {},
   "outputs": [
    {
     "data": {
      "text/plain": [
       "1055                     My Best Friend's Wedding\n",
       "1413                        Friends with Benefits\n",
       "1775        How to Lose Friends & Alienate People\n",
       "2216                        My Best Friend's Girl\n",
       "3116    Seeking a Friend for the End of the World\n",
       "3495                           Friends with Money\n",
       "4184                          We Are Your Friends\n",
       "4279                        Dysfunctional Friends\n",
       "4670                               Mutual Friends\n",
       "Name: title, dtype: object"
      ]
     },
     "execution_count": 11,
     "metadata": {},
     "output_type": "execute_result"
    }
   ],
   "source": [
    "pattern = 'Friends?'\n",
    "filt = title.str.contains(pattern)\n",
    "title[filt]"
   ]
  },
  {
   "cell_type": "markdown",
   "metadata": {},
   "source": [
    "### Problem 3\n",
    "<span  style=\"color:green; font-size:16px\">Find all movies that have between 40 and 43 characters in them. Can you verify the results with another `str` accessor method?</span>"
   ]
  },
  {
   "cell_type": "code",
   "execution_count": 12,
   "metadata": {},
   "outputs": [
    {
     "data": {
      "text/plain": [
       "1        Pirates of the Caribbean: At World's End\n",
       "4      Star Wars: Episode VII - The Force Awakens\n",
       "13     Pirates of the Caribbean: Dead Man's Chest\n",
       "16       The Chronicles of Narnia: Prince Caspian\n",
       "18    Pirates of the Caribbean: On Stranger Tides\n",
       "Name: title, dtype: object"
      ]
     },
     "execution_count": 12,
     "metadata": {},
     "output_type": "execute_result"
    }
   ],
   "source": [
    "pattern = '^.{40,43}$'\n",
    "filt = title.str.contains(pattern)\n",
    "m40_43 = title[filt]\n",
    "m40_43.head()"
   ]
  },
  {
   "cell_type": "code",
   "execution_count": 13,
   "metadata": {},
   "outputs": [
    {
     "data": {
      "text/plain": [
       "1     40\n",
       "4     42\n",
       "13    42\n",
       "16    40\n",
       "18    43\n",
       "Name: title, dtype: int64"
      ]
     },
     "execution_count": 13,
     "metadata": {},
     "output_type": "execute_result"
    }
   ],
   "source": [
    "m40_43.str.len().head()"
   ]
  },
  {
   "cell_type": "code",
   "execution_count": 14,
   "metadata": {},
   "outputs": [
    {
     "data": {
      "text/plain": [
       "40    15\n",
       "41    12\n",
       "43     9\n",
       "42     9\n",
       "Name: title, dtype: int64"
      ]
     },
     "execution_count": 14,
     "metadata": {},
     "output_type": "execute_result"
    }
   ],
   "source": [
    "m40_43.str.len().value_counts()"
   ]
  },
  {
   "cell_type": "markdown",
   "metadata": {},
   "source": [
    "### Problem 4\n",
    "<span  style=\"color:green; font-size:16px\">Find all movies that begin with 'The' and end in 'Movie'</span>"
   ]
  },
  {
   "cell_type": "code",
   "execution_count": 15,
   "metadata": {},
   "outputs": [
    {
     "data": {
      "text/plain": [
       "319                                     The Peanuts Movie\n",
       "561                                 The Angry Birds Movie\n",
       "569                                    The Simpsons Movie\n",
       "580              The SpongeBob Movie: Sponge Out of Water\n",
       "759                                        The Lego Movie\n",
       "1586                      The SpongeBob SquarePants Movie\n",
       "1592                            Hannah Montana: The Movie\n",
       "1593                          Rugrats in Paris: The Movie\n",
       "1734                                    The Rugrats Movie\n",
       "1895                           The Wild Thornberrys Movie\n",
       "2162                                     The Tigger Movie\n",
       "2593                             The Lizzie McGuire Movie\n",
       "2645    The Pirates Who Don't Do Anything: A VeggieTal...\n",
       "3068                             Twilight Zone: The Movie\n",
       "3099                                Hey Arnold! The Movie\n",
       "3253                           Glee: The 3D Concert Movie\n",
       "3296                                     The Muppet Movie\n",
       "3630                                   Jackass: The Movie\n",
       "3686                                   Digimon: The Movie\n",
       "3982                                 Pokémon 3: The Movie\n",
       "4193      The Book of Mormon Movie, Volume 1: The Journey\n",
       "4271                         The Greatest Movie Ever Sold\n",
       "4359                                    Batman: The Movie\n",
       "4515                                   Steppin: The Movie\n",
       "4597                             The Kentucky Fried Movie\n",
       "4840                                Indie Game: The Movie\n",
       "Name: title, dtype: object"
      ]
     },
     "execution_count": 15,
     "metadata": {},
     "output_type": "execute_result"
    }
   ],
   "source": [
    "pattern = 'The.*Movie'\n",
    "filt = title.str.contains(pattern)\n",
    "title[filt]"
   ]
  },
  {
   "cell_type": "markdown",
   "metadata": {},
   "source": [
    "### Problem 5\n",
    "<span  style=\"color:green; font-size:16px\">Create your own Series and make a regular expression that uses the `+` metacharacter. Is this character necessary?</span>"
   ]
  },
  {
   "cell_type": "code",
   "execution_count": null,
   "metadata": {},
   "outputs": [],
   "source": []
  },
  {
   "cell_type": "markdown",
   "metadata": {},
   "source": [
    "# 3. Or Conditions"
   ]
  },
  {
   "cell_type": "code",
   "execution_count": 16,
   "metadata": {},
   "outputs": [
    {
     "data": {
      "text/plain": [
       "0                                        Avatar\n",
       "1      Pirates of the Caribbean: At World's End\n",
       "2                                       Spectre\n",
       "3                         The Dark Knight Rises\n",
       "4    Star Wars: Episode VII - The Force Awakens\n",
       "Name: title, dtype: object"
      ]
     },
     "execution_count": 16,
     "metadata": {},
     "output_type": "execute_result"
    }
   ],
   "source": [
    "import pandas as pd\n",
    "title = pd.read_csv('../data/movie.csv')['title']\n",
    "title.head()"
   ]
  },
  {
   "cell_type": "markdown",
   "metadata": {},
   "source": [
    "### Problem 1\n",
    "<span  style=\"color:green; font-size:16px\">Find all movies that begin with 'The' followed by the next word that begins with digits.</span>"
   ]
  },
  {
   "cell_type": "code",
   "execution_count": 17,
   "metadata": {},
   "outputs": [
    {
     "data": {
      "text/plain": [
       "212                                      The 13th Warrior\n",
       "429                                           The 6th Day\n",
       "1354                                         The 5th Wave\n",
       "1817                               The 40-Year-Old Virgin\n",
       "1958                                               The 33\n",
       "3567                                      The 5th Quarter\n",
       "4373    The 41-Year-Old Virgin Who Knocked Up Sarah Ma...\n",
       "Name: title, dtype: object"
      ]
     },
     "execution_count": 17,
     "metadata": {},
     "output_type": "execute_result"
    }
   ],
   "source": [
    "pattern = '^The [0-9]'\n",
    "filt = title.str.contains(pattern)\n",
    "title[filt]"
   ]
  },
  {
   "cell_type": "markdown",
   "metadata": {},
   "source": [
    "### Problem 2\n",
    "<span  style=\"color:green; font-size:16px\">Find all movies that have three consecutive capital letters in them.</span>"
   ]
  },
  {
   "cell_type": "code",
   "execution_count": 18,
   "metadata": {},
   "outputs": [
    {
     "data": {
      "text/plain": [
       "4      Star Wars: Episode VII - The Force Awakens\n",
       "40                                   TRON: Legacy\n",
       "58                                         WALL·E\n",
       "140                       Mission: Impossible III\n",
       "177                                       The BFG\n",
       "Name: title, dtype: object"
      ]
     },
     "execution_count": 18,
     "metadata": {},
     "output_type": "execute_result"
    }
   ],
   "source": [
    "pattern = '[A-Z]{3}'\n",
    "filt = title.str.contains(pattern)\n",
    "title[filt].head()"
   ]
  },
  {
   "cell_type": "markdown",
   "metadata": {},
   "source": [
    "### Problem 3\n",
    "<span  style=\"color:green; font-size:16px\">Find all movies that have begin and end with a capital letter.</span>"
   ]
  },
  {
   "cell_type": "code",
   "execution_count": 19,
   "metadata": {},
   "outputs": [
    {
     "data": {
      "text/plain": [
       "46                 World War Z\n",
       "58                      WALL·E\n",
       "140    Mission: Impossible III\n",
       "151            Men in Black II\n",
       "177                    The BFG\n",
       "Name: title, dtype: object"
      ]
     },
     "execution_count": 19,
     "metadata": {},
     "output_type": "execute_result"
    }
   ],
   "source": [
    "pattern = '^[A-Z].*[A-Z]$'\n",
    "filt = title.str.contains(pattern)\n",
    "title[filt].head()"
   ]
  },
  {
   "cell_type": "markdown",
   "metadata": {},
   "source": [
    "### Problem 4\n",
    "<span  style=\"color:green; font-size:16px\">Find all the movies that have a digit followed by a comma followed by a digit.</span>"
   ]
  },
  {
   "cell_type": "code",
   "execution_count": 20,
   "metadata": {},
   "outputs": [
    {
     "data": {
      "text/plain": [
       "276                                10,000 B.C.\n",
       "3266    Ultramarines: A Warhammer 40,000 Movie\n",
       "3641              20,000 Leagues Under the Sea\n",
       "4775             The Beast from 20,000 Fathoms\n",
       "Name: title, dtype: object"
      ]
     },
     "execution_count": 20,
     "metadata": {},
     "output_type": "execute_result"
    }
   ],
   "source": [
    "pattern = r'[0-9],[0-9]'\n",
    "filt = title.str.contains(pattern)\n",
    "title[filt].head()"
   ]
  },
  {
   "cell_type": "markdown",
   "metadata": {},
   "source": [
    "### Problem 5\n",
    "<span  style=\"color:green; font-size:16px\">Find all the movies that have either an ampersand or a question mark in them.</span>"
   ]
  },
  {
   "cell_type": "code",
   "execution_count": 21,
   "metadata": {},
   "outputs": [
    {
     "data": {
      "text/plain": [
       "129          Angels & Demons\n",
       "145    Mr. Peabody & Sherman\n",
       "214           Batman & Robin\n",
       "252         Mr. & Mrs. Smith\n",
       "278           Town & Country\n",
       "Name: title, dtype: object"
      ]
     },
     "execution_count": 21,
     "metadata": {},
     "output_type": "execute_result"
    }
   ],
   "source": [
    "pattern = '[&?]'\n",
    "filt = title.str.contains(pattern)\n",
    "title[filt].head()"
   ]
  },
  {
   "cell_type": "markdown",
   "metadata": {},
   "source": [
    "### Problem 6\n",
    "<span  style=\"color:green; font-size:16px\">Which movie has the most ampersands, question marks, and periods in it?</span>"
   ]
  },
  {
   "cell_type": "code",
   "execution_count": 22,
   "metadata": {},
   "outputs": [
    {
     "data": {
      "text/plain": [
       "0    0\n",
       "1    0\n",
       "2    0\n",
       "3    0\n",
       "4    0\n",
       "Name: title, dtype: int64"
      ]
     },
     "execution_count": 22,
     "metadata": {},
     "output_type": "execute_result"
    }
   ],
   "source": [
    "pattern = '[&.?]'\n",
    "count = title.str.count(pattern)\n",
    "count.head()"
   ]
  },
  {
   "cell_type": "code",
   "execution_count": 23,
   "metadata": {},
   "outputs": [
    {
     "data": {
      "text/plain": [
       "542    The Man from U.N.C.L.E.\n",
       "Name: title, dtype: object"
      ]
     },
     "execution_count": 23,
     "metadata": {},
     "output_type": "execute_result"
    }
   ],
   "source": [
    "filt = count == count.max()\n",
    "title[filt]"
   ]
  },
  {
   "cell_type": "code",
   "execution_count": 24,
   "metadata": {},
   "outputs": [
    {
     "data": {
      "text/plain": [
       "5"
      ]
     },
     "execution_count": 24,
     "metadata": {},
     "output_type": "execute_result"
    }
   ],
   "source": [
    "count.max()"
   ]
  },
  {
   "cell_type": "markdown",
   "metadata": {},
   "source": [
    "# 4. Character Sets and Grouping"
   ]
  },
  {
   "cell_type": "markdown",
   "metadata": {},
   "source": [
    "### Problem 1\n",
    "<span  style=\"color:green; font-size:16px\">For all movies that begin with 'The' and are followed by the next word that begins with a digit, extract just the digits part of this word.</span>"
   ]
  },
  {
   "cell_type": "code",
   "execution_count": 25,
   "metadata": {},
   "outputs": [
    {
     "data": {
      "text/html": [
       "<div>\n",
       "<style scoped>\n",
       "    .dataframe tbody tr th:only-of-type {\n",
       "        vertical-align: middle;\n",
       "    }\n",
       "\n",
       "    .dataframe tbody tr th {\n",
       "        vertical-align: top;\n",
       "    }\n",
       "\n",
       "    .dataframe thead th {\n",
       "        text-align: right;\n",
       "    }\n",
       "</style>\n",
       "<table border=\"1\" class=\"dataframe\">\n",
       "  <thead>\n",
       "    <tr style=\"text-align: right;\">\n",
       "      <th></th>\n",
       "      <th>0</th>\n",
       "    </tr>\n",
       "  </thead>\n",
       "  <tbody>\n",
       "    <tr>\n",
       "      <th>212</th>\n",
       "      <td>13</td>\n",
       "    </tr>\n",
       "    <tr>\n",
       "      <th>429</th>\n",
       "      <td>6</td>\n",
       "    </tr>\n",
       "    <tr>\n",
       "      <th>1354</th>\n",
       "      <td>5</td>\n",
       "    </tr>\n",
       "    <tr>\n",
       "      <th>1817</th>\n",
       "      <td>40</td>\n",
       "    </tr>\n",
       "    <tr>\n",
       "      <th>1958</th>\n",
       "      <td>33</td>\n",
       "    </tr>\n",
       "    <tr>\n",
       "      <th>3567</th>\n",
       "      <td>5</td>\n",
       "    </tr>\n",
       "    <tr>\n",
       "      <th>4373</th>\n",
       "      <td>41</td>\n",
       "    </tr>\n",
       "  </tbody>\n",
       "</table>\n",
       "</div>"
      ],
      "text/plain": [
       "       0\n",
       "212   13\n",
       "429    6\n",
       "1354   5\n",
       "1817  40\n",
       "1958  33\n",
       "3567   5\n",
       "4373  41"
      ]
     },
     "execution_count": 25,
     "metadata": {},
     "output_type": "execute_result"
    }
   ],
   "source": [
    "pattern = r'^The (\\d+)'\n",
    "title.str.extract(pattern).dropna()"
   ]
  },
  {
   "cell_type": "markdown",
   "metadata": {},
   "source": [
    "### Problem 2\n",
    "<span  style=\"color:green; font-size:16px\">Find all movies that have two separate numbers in them. An example would be, '7 days and 7 nights'.</span>"
   ]
  },
  {
   "cell_type": "code",
   "execution_count": 26,
   "metadata": {},
   "outputs": [
    {
     "data": {
      "text/plain": [
       "276                                10,000 B.C.\n",
       "289                 The Taking of Pelham 1 2 3\n",
       "509                           2 Fast 2 Furious\n",
       "1043                              3:10 to Yuma\n",
       "1610                            13 Going on 30\n",
       "1617        Naked Gun 33 1/3: The Final Insult\n",
       "2466                     40 Days and 40 Nights\n",
       "2646                                     U2 3D\n",
       "3266    Ultramarines: A Warhammer 40,000 Movie\n",
       "3308                                     50/50\n",
       "3516                           Fahrenheit 9/11\n",
       "3576                                     11:14\n",
       "3641              20,000 Leagues Under the Sea\n",
       "3934                                      2:13\n",
       "4210                   24 7: Twenty Four Seven\n",
       "4376                    Friday the 13th Part 2\n",
       "4532              4 Months, 3 Weeks and 2 Days\n",
       "4775             The Beast from 20,000 Fathoms\n",
       "Name: title, dtype: object"
      ]
     },
     "execution_count": 26,
     "metadata": {},
     "output_type": "execute_result"
    }
   ],
   "source": [
    "pattern = r'\\d+\\D+\\d+'\n",
    "filt = title.str.contains(pattern)\n",
    "title[filt]"
   ]
  },
  {
   "cell_type": "markdown",
   "metadata": {},
   "source": [
    "### Problem 3\n",
    "<span  style=\"color:green; font-size:16px\">Find all the movies that have 6 or more non-vowel and non-space characters in a row.</span>"
   ]
  },
  {
   "cell_type": "code",
   "execution_count": 27,
   "metadata": {},
   "outputs": [
    {
     "data": {
      "text/plain": [
       "276                                10,000 B.C.\n",
       "542                    The Man from U.N.C.L.E.\n",
       "1935                          Punch-Drunk Love\n",
       "2392                                  Catch-22\n",
       "2480                         Brooklyn's Finest\n",
       "2507                   When Harry Met Sally...\n",
       "2912        Tales from the Crypt: Demon Knight\n",
       "3266    Ultramarines: A Warhammer 40,000 Movie\n",
       "3641              20,000 Leagues Under the Sea\n",
       "4775             The Beast from 20,000 Fathoms\n",
       "Name: title, dtype: object"
      ]
     },
     "execution_count": 27,
     "metadata": {},
     "output_type": "execute_result"
    }
   ],
   "source": [
    "pattern = r'[^aeiouAEIOU ]{6,}'\n",
    "filt = title.str.contains(pattern)\n",
    "title[filt]"
   ]
  },
  {
   "cell_type": "markdown",
   "metadata": {},
   "source": [
    "### Problem 4\n",
    "<span  style=\"color:green; font-size:16px\">Extract the very next character after 't' or 'T' for each movie.</span>"
   ]
  },
  {
   "cell_type": "code",
   "execution_count": 28,
   "metadata": {},
   "outputs": [
    {
     "data": {
      "text/html": [
       "<div>\n",
       "<style scoped>\n",
       "    .dataframe tbody tr th:only-of-type {\n",
       "        vertical-align: middle;\n",
       "    }\n",
       "\n",
       "    .dataframe tbody tr th {\n",
       "        vertical-align: top;\n",
       "    }\n",
       "\n",
       "    .dataframe thead th {\n",
       "        text-align: right;\n",
       "    }\n",
       "</style>\n",
       "<table border=\"1\" class=\"dataframe\">\n",
       "  <thead>\n",
       "    <tr style=\"text-align: right;\">\n",
       "      <th></th>\n",
       "      <th>0</th>\n",
       "    </tr>\n",
       "  </thead>\n",
       "  <tbody>\n",
       "    <tr>\n",
       "      <th>0</th>\n",
       "      <td>a</td>\n",
       "    </tr>\n",
       "    <tr>\n",
       "      <th>1</th>\n",
       "      <td>e</td>\n",
       "    </tr>\n",
       "    <tr>\n",
       "      <th>2</th>\n",
       "      <td>r</td>\n",
       "    </tr>\n",
       "    <tr>\n",
       "      <th>3</th>\n",
       "      <td>h</td>\n",
       "    </tr>\n",
       "    <tr>\n",
       "      <th>4</th>\n",
       "      <td>a</td>\n",
       "    </tr>\n",
       "  </tbody>\n",
       "</table>\n",
       "</div>"
      ],
      "text/plain": [
       "   0\n",
       "0  a\n",
       "1  e\n",
       "2  r\n",
       "3  h\n",
       "4  a"
      ]
     },
     "execution_count": 28,
     "metadata": {},
     "output_type": "execute_result"
    }
   ],
   "source": [
    "pattern = r'[Tt](.)'\n",
    "title.str.extract(pattern).head()"
   ]
  },
  {
   "cell_type": "markdown",
   "metadata": {},
   "source": [
    "### Problem 5\n",
    "<span  style=\"color:green; font-size:16px\">What is the most common character after 't' or 'T'?</span>"
   ]
  },
  {
   "cell_type": "code",
   "execution_count": 29,
   "metadata": {},
   "outputs": [
    {
     "data": {
      "text/html": [
       "<div>\n",
       "<style scoped>\n",
       "    .dataframe tbody tr th:only-of-type {\n",
       "        vertical-align: middle;\n",
       "    }\n",
       "\n",
       "    .dataframe tbody tr th {\n",
       "        vertical-align: top;\n",
       "    }\n",
       "\n",
       "    .dataframe thead th {\n",
       "        text-align: right;\n",
       "    }\n",
       "</style>\n",
       "<table border=\"1\" class=\"dataframe\">\n",
       "  <thead>\n",
       "    <tr style=\"text-align: right;\">\n",
       "      <th></th>\n",
       "      <th>0</th>\n",
       "    </tr>\n",
       "  </thead>\n",
       "  <tbody>\n",
       "    <tr>\n",
       "      <th>0</th>\n",
       "      <td>a</td>\n",
       "    </tr>\n",
       "    <tr>\n",
       "      <th>1</th>\n",
       "      <td>e</td>\n",
       "    </tr>\n",
       "    <tr>\n",
       "      <th>2</th>\n",
       "      <td>r</td>\n",
       "    </tr>\n",
       "    <tr>\n",
       "      <th>3</th>\n",
       "      <td>h</td>\n",
       "    </tr>\n",
       "    <tr>\n",
       "      <th>4</th>\n",
       "      <td>a</td>\n",
       "    </tr>\n",
       "  </tbody>\n",
       "</table>\n",
       "</div>"
      ],
      "text/plain": [
       "   0\n",
       "0  a\n",
       "1  e\n",
       "2  r\n",
       "3  h\n",
       "4  a"
      ]
     },
     "execution_count": 29,
     "metadata": {},
     "output_type": "execute_result"
    }
   ],
   "source": [
    "pattern = r'[Tt](.)'\n",
    "letters = title.str.extract(pattern)\n",
    "letters.head()"
   ]
  },
  {
   "cell_type": "markdown",
   "metadata": {},
   "source": [
    "This is a DataFrame. The column name is the integer 0. Let's select it as a Series."
   ]
  },
  {
   "cell_type": "code",
   "execution_count": 30,
   "metadata": {},
   "outputs": [
    {
     "data": {
      "text/plain": [
       "0    a\n",
       "1    e\n",
       "2    r\n",
       "3    h\n",
       "4    a\n",
       "Name: 0, dtype: object"
      ]
     },
     "execution_count": 30,
     "metadata": {},
     "output_type": "execute_result"
    }
   ],
   "source": [
    "letter_series = letters[0]\n",
    "letter_series.head()"
   ]
  },
  {
   "cell_type": "code",
   "execution_count": 31,
   "metadata": {},
   "outputs": [
    {
     "data": {
      "text/plain": [
       "h    1431\n",
       "      311\n",
       "e     266\n",
       "o     183\n",
       "i     169\n",
       "Name: 0, dtype: int64"
      ]
     },
     "execution_count": 31,
     "metadata": {},
     "output_type": "execute_result"
    }
   ],
   "source": [
    "letter_series.value_counts().head()"
   ]
  },
  {
   "cell_type": "markdown",
   "metadata": {},
   "source": [
    "Minor detail here - there is an `expand` parameter than you can set to `False` to return a Series."
   ]
  },
  {
   "cell_type": "code",
   "execution_count": 32,
   "metadata": {},
   "outputs": [
    {
     "data": {
      "text/plain": [
       "0    a\n",
       "1    e\n",
       "2    r\n",
       "3    h\n",
       "4    a\n",
       "Name: title, dtype: object"
      ]
     },
     "execution_count": 32,
     "metadata": {},
     "output_type": "execute_result"
    }
   ],
   "source": [
    "pattern = r'[Tt](.)'\n",
    "letters = title.str.extract(pattern, expand=False)\n",
    "letters.head()"
   ]
  },
  {
   "cell_type": "code",
   "execution_count": 33,
   "metadata": {},
   "outputs": [
    {
     "data": {
      "text/plain": [
       "h    1431\n",
       "      311\n",
       "e     266\n",
       "o     183\n",
       "i     169\n",
       "Name: title, dtype: int64"
      ]
     },
     "execution_count": 33,
     "metadata": {},
     "output_type": "execute_result"
    }
   ],
   "source": [
    "letters.value_counts().head()"
   ]
  },
  {
   "cell_type": "markdown",
   "metadata": {},
   "source": [
    "The above only extracts the character after first appearance of the letter 't'. Use the `extractall` string method to get the first characters after each 't'."
   ]
  },
  {
   "cell_type": "code",
   "execution_count": 34,
   "metadata": {},
   "outputs": [
    {
     "data": {
      "text/html": [
       "<div>\n",
       "<style scoped>\n",
       "    .dataframe tbody tr th:only-of-type {\n",
       "        vertical-align: middle;\n",
       "    }\n",
       "\n",
       "    .dataframe tbody tr th {\n",
       "        vertical-align: top;\n",
       "    }\n",
       "\n",
       "    .dataframe thead th {\n",
       "        text-align: right;\n",
       "    }\n",
       "</style>\n",
       "<table border=\"1\" class=\"dataframe\">\n",
       "  <thead>\n",
       "    <tr style=\"text-align: right;\">\n",
       "      <th></th>\n",
       "      <th></th>\n",
       "      <th>0</th>\n",
       "    </tr>\n",
       "    <tr>\n",
       "      <th></th>\n",
       "      <th>match</th>\n",
       "      <th></th>\n",
       "    </tr>\n",
       "  </thead>\n",
       "  <tbody>\n",
       "    <tr>\n",
       "      <th>0</th>\n",
       "      <th>0</th>\n",
       "      <td>a</td>\n",
       "    </tr>\n",
       "    <tr>\n",
       "      <th rowspan=\"3\" valign=\"top\">1</th>\n",
       "      <th>0</th>\n",
       "      <td>e</td>\n",
       "    </tr>\n",
       "    <tr>\n",
       "      <th>1</th>\n",
       "      <td>h</td>\n",
       "    </tr>\n",
       "    <tr>\n",
       "      <th>2</th>\n",
       "      <td></td>\n",
       "    </tr>\n",
       "    <tr>\n",
       "      <th>2</th>\n",
       "      <th>0</th>\n",
       "      <td>r</td>\n",
       "    </tr>\n",
       "  </tbody>\n",
       "</table>\n",
       "</div>"
      ],
      "text/plain": [
       "         0\n",
       "  match   \n",
       "0 0      a\n",
       "1 0      e\n",
       "  1      h\n",
       "  2       \n",
       "2 0      r"
      ]
     },
     "execution_count": 34,
     "metadata": {},
     "output_type": "execute_result"
    }
   ],
   "source": [
    "pattern = r'[Tt](.)'\n",
    "letters = title.str.extractall(pattern)\n",
    "letters.head()"
   ]
  },
  {
   "cell_type": "code",
   "execution_count": 35,
   "metadata": {},
   "outputs": [
    {
     "data": {
      "text/plain": [
       "h    1942\n",
       "      620\n",
       "e     480\n",
       "o     354\n",
       "i     343\n",
       "Name: 0, dtype: int64"
      ]
     },
     "execution_count": 35,
     "metadata": {},
     "output_type": "execute_result"
    }
   ],
   "source": [
    "letters[0].value_counts().head()"
   ]
  },
  {
   "cell_type": "markdown",
   "metadata": {},
   "source": [
    "### Problem 6\n",
    "<span style=\"color:green; font-size:16px\">Extract all the words that begin with 'T' or 't' and end in 'e' then find their frequency. Research the word boundaray special character.</span>"
   ]
  },
  {
   "cell_type": "code",
   "execution_count": 36,
   "metadata": {},
   "outputs": [
    {
     "data": {
      "text/plain": [
       "the              1555\n",
       "time               26\n",
       "tale               12\n",
       "true               10\n",
       "three               8\n",
       "teenage             7\n",
       "there               6\n",
       "take                6\n",
       "trouble             4\n",
       "trade               4\n",
       "treasure            2\n",
       "terrace             2\n",
       "twice               2\n",
       "torque              1\n",
       "torture             1\n",
       "tombstone           1\n",
       "thunderdome         1\n",
       "tide                1\n",
       "turtle              1\n",
       "triple              1\n",
       "trapeze             1\n",
       "tae                 1\n",
       "tree                1\n",
       "tadpole             1\n",
       "terrible            1\n",
       "tease               1\n",
       "trance              1\n",
       "throttle            1\n",
       "thr3e               1\n",
       "transcendence       1\n",
       "twelve              1\n",
       "timeline            1\n",
       "turbulence          1\n",
       "tootsie             1\n",
       "triangle            1\n",
       "tape                1\n",
       "temple              1\n",
       "Name: 0, dtype: int64"
      ]
     },
     "execution_count": 36,
     "metadata": {},
     "output_type": "execute_result"
    }
   ],
   "source": [
    "pattern = r'\\b([tT]\\w*e)\\b'\n",
    "letters = title.str.extractall(pattern)\n",
    "letters[0].str.lower().value_counts()"
   ]
  }
 ],
 "metadata": {
  "kernelspec": {
   "display_name": "Python 3",
   "language": "python",
   "name": "python3"
  },
  "language_info": {
   "codemirror_mode": {
    "name": "ipython",
    "version": 3
   },
   "file_extension": ".py",
   "mimetype": "text/x-python",
   "name": "python",
   "nbconvert_exporter": "python",
   "pygments_lexer": "ipython3",
   "version": "3.6.7"
  }
 },
 "nbformat": 4,
 "nbformat_minor": 2
}
