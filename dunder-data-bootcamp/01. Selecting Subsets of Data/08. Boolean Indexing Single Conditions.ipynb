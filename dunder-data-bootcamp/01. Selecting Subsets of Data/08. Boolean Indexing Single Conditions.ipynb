{
 "cells": [
  {
   "cell_type": "markdown",
   "metadata": {},
   "source": [
    "# 8. Boolean Indexing Single Conditions\n",
    "\n",
    "### Objectives\n",
    "\n",
    "+ Boolean Indexing or Boolean Selection is the selection of a subset of a Series/DataFrame based on the **values** themselves and not the row/column labels or integer location\n",
    "+ Boolean means **`True`** or **`False`**\n",
    "+ Each row of the DataFrame will be kept or discarded based on the boolean value aligned with it\n",
    "+ Boolean selection has a two-step process\n",
    "    + First, create a **filter** - a sequence of True/False values the same length as the DataFrame/Series\n",
    "    + Second, pass this filter to one of the indexers **`[ ]`** or **`.loc`**\n",
    "+ Boolean selection does not work with **`.iloc`**\n",
    "+ The indexing operators are overloaded — change functionality depending on what is passed to them\n",
    "+ The filter is commonly created by comparing a column of data (a Series) against some scalar value\n",
    "\n",
    "\n",
    "# Boolean Indexing\n",
    "Boolean indexing, also referred to as **Boolean Selection**, is the process of selecting subsets of rows from DataFrames (or Series) based on the actual data values and NOT by their labels or integer locations.\n",
    "\n",
    "# Examples of Boolean Indexing\n",
    "\n",
    "Let's see some examples of actual questions (in plain English) that boolean indexing can help us answer from the bikes dataset.\n",
    "\n",
    "+ Find all male riders\n",
    "+ Find all rides with duration longer than 2 hours\n",
    "+ Find all rides that took place between March and June of 2015.\n",
    "+ Find all the rides with a duration longer than 2 hours by females with temperature higher than 90 degrees\n",
    "\n",
    "The term **query** is used to refer to these sorts of questions.\n",
    "\n",
    "### All queries have a logical condition\n",
    "Each of the above queries have a strict logical condition that must be checked one row at a time.\n",
    "\n",
    "### Keep or discard an entire row of data\n",
    "If you were to manually answer the above queries, you would need to scan each row and determine whether the row as a whole meets the condition. If so, then it is kept, otherwise it is discarded.\n",
    "\n",
    "### Each row will have a True or False value associated with it\n",
    "When you perform boolean indexing, each row of the DataFrame (or value of a Series) will have a True or False value associated with it depending on whether or not it meets the condition. True/False values are known as boolean. The documentation refers to the entire procedure as boolean indexing.\n",
    "\n",
    "Since we are using the booleans to select data, it is sometimes referred to as **boolean selection**. We are using booleans to select subsets of data.\n",
    "\n",
    "### Beginning with a small DataFrame\n",
    "We will perform our first boolean indexing on a dataset of 5 rows. Let's assign the head of the bikes dataset to its own variable. The `bikes_head` DataFrame has five rows in it."
   ]
  },
  {
   "cell_type": "code",
   "execution_count": null,
   "metadata": {},
   "outputs": [],
   "source": [
    "import pandas as pd\n",
    "bikes = pd.read_csv('../data/bikes.csv')\n",
    "bikes_head = bikes.head()\n",
    "bikes_head"
   ]
  },
  {
   "cell_type": "markdown",
   "metadata": {},
   "source": [
    "### A manual filtering of the data\n",
    "Let's find all the rides with a trip duration greater than 900. We will do this manually by inspecting the data. \n",
    "\n",
    "\n",
    "### Create a list of booleans\n",
    "By inspecting the data, we see that the 1st and 3rd rows have a trip duration greater than 900. A list of 5 boolean values is created, one for each row. The first 1st and 3rd values are `True`. The others are `False`."
   ]
  },
  {
   "cell_type": "code",
   "execution_count": null,
   "metadata": {},
   "outputs": [],
   "source": [
    "filt = [True, False, True, False, False]"
   ]
  },
  {
   "cell_type": "markdown",
   "metadata": {},
   "source": [
    "## Variable name `filt`\n",
    "All of the tutorials will use the variable name `filt` to contain the sequence of booleans. `filt` simply stands for filter. Being consistent with variables makes your code easier to understand."
   ]
  },
  {
   "cell_type": "markdown",
   "metadata": {},
   "source": [
    "### Pass this list into the just the brackets\n",
    "The above list has `True` in both the 1st and 3rd position. These will be the rows that are kept during boolean indexing. To formally do boolean indexing, we place the list inside the brackets."
   ]
  },
  {
   "cell_type": "code",
   "execution_count": null,
   "metadata": {},
   "outputs": [],
   "source": [
    "bikes_head[filt]"
   ]
  },
  {
   "cell_type": "markdown",
   "metadata": {},
   "source": [
    "## Wait a second… Isn’t `[ ]` just for column selection?\n",
    "\n",
    "The primary purpose of *just the brackets* for a DataFrame is to select one or more columns by using either a string or a list of strings. Now, all of a sudden, this example is showing that entire rows are selected with boolean values. This is what makes Pandas, unfortunately, a confusing library to use.\n",
    "\n",
    "## Operator Overloading\n",
    "*Just the brackets* is **overloaded**. This means, that depending on the inputs, Pandas will do something completely different. Here are the rules for the different objects you pass to the brackets.\n",
    "\n",
    "* **string** — return a column as a Series\n",
    "* **list of strings** — return all those columns as a DataFrame\n",
    "* **slice** — select rows (can do both label and integer location — confusing!) I never do this as it is ambiguous\n",
    "* **sequence of booleans** — select all rows where True\n",
    "\n",
    "In summary, primarily just the indexing operator selects columns, but if you pass it a sequence of booleans it will select all rows that are True.\n",
    "\n",
    "## Using booleans in a Series and not a list\n",
    "Instead of using a list to contain our booleans, we can store them in a Series. This produces the same output. Below, we use the Series constructor to create a Series object."
   ]
  },
  {
   "cell_type": "code",
   "execution_count": null,
   "metadata": {},
   "outputs": [],
   "source": [
    "filt = pd.Series([True, False, True, False, False])\n",
    "filt"
   ]
  },
  {
   "cell_type": "markdown",
   "metadata": {},
   "source": [
    "### Use the boolean Series to do the boolean selection\n",
    "Placing the Series directly in the brackets will again select only the rows which have True values in the Series."
   ]
  },
  {
   "cell_type": "code",
   "execution_count": null,
   "metadata": {},
   "outputs": [],
   "source": [
    "bikes_head[filt]"
   ]
  },
  {
   "cell_type": "markdown",
   "metadata": {},
   "source": [
    "# Practical Boolean Selection\n",
    "We will almost never create boolean lists/Series manually like we did above but instead use the actual data to create them.\n",
    "\n",
    "## Creating Boolean Series from Column Data\n",
    "By far the most common way to create a boolean Series will be from the values of one particular column. We will test a condition using one of the six comparison operators:\n",
    "\n",
    "* `<`\n",
    "* `<=`\n",
    "* `>`\n",
    "* `>=`\n",
    "* `==`\n",
    "* `!=`\n"
   ]
  },
  {
   "cell_type": "markdown",
   "metadata": {},
   "source": [
    "## Create a Boolean Series\n",
    "Let's create a boolean Series by determining which rows have a trip duration of over 1000 seconds."
   ]
  },
  {
   "cell_type": "code",
   "execution_count": null,
   "metadata": {},
   "outputs": [],
   "source": [
    "filt = bikes['tripduration'] > 1000\n",
    "filt.head(10)"
   ]
  },
  {
   "cell_type": "markdown",
   "metadata": {},
   "source": [
    "### Manually verify correctness\n",
    "Let's output the head of the trip duration Series to manually verfiy that indeed integer locations 2 and 8 are the ones greater than 1000."
   ]
  },
  {
   "cell_type": "code",
   "execution_count": null,
   "metadata": {},
   "outputs": [],
   "source": [
    "bikes['tripduration'].head(10)"
   ]
  },
  {
   "cell_type": "markdown",
   "metadata": {},
   "source": [
    "## Complete our boolean indexing\n",
    "We created our boolean Series, **`filt`** using the greater than comparison operator on the **`tripduration`** column. We can now pass this result into the brackets to filter the entire DataFrame. Verify that all **`tripduration`** values are greater than 1000. "
   ]
  },
  {
   "cell_type": "code",
   "execution_count": null,
   "metadata": {},
   "outputs": [],
   "source": [
    "bikes[filt].head()"
   ]
  },
  {
   "cell_type": "markdown",
   "metadata": {},
   "source": [
    "### How many rows have a trip duration greater than 1000?\n",
    "To answer this question, let's assign the result of the boolean selection to a varible and then retrieve the **`shape`** of the DataFrame."
   ]
  },
  {
   "cell_type": "code",
   "execution_count": null,
   "metadata": {},
   "outputs": [],
   "source": [
    "bikes.shape"
   ]
  },
  {
   "cell_type": "code",
   "execution_count": null,
   "metadata": {},
   "outputs": [],
   "source": [
    "bikes_duration_1000 = bikes[filt]\n",
    "bikes_duration_1000.shape"
   ]
  },
  {
   "cell_type": "markdown",
   "metadata": {},
   "source": [
    "About 20% of the rides are longer than 1000 seconds."
   ]
  },
  {
   "cell_type": "markdown",
   "metadata": {},
   "source": [
    "# Boolean selection in one line\n",
    "Often, you will see boolean selection happen in a single line of code instead of the multiple lines we used above. Put the expression for the filter directly inside the brackets."
   ]
  },
  {
   "cell_type": "code",
   "execution_count": null,
   "metadata": {},
   "outputs": [],
   "source": [
    "bikes[bikes['tripduration'] > 1000].head()"
   ]
  },
  {
   "cell_type": "markdown",
   "metadata": {},
   "source": [
    "## I recommend using a separate variable for the filter"
   ]
  },
  {
   "cell_type": "markdown",
   "metadata": {},
   "source": [
    "## Single condition expression\n",
    "Our first example tested a single condition (whether the trip duration was 1,000 or more). Let's test a different single condition and look for all the rides that happened when the weather was cloudy.\n",
    "\n",
    "We use the `==` operator to test for equality and again pass this variable to the brackets which completes our selection."
   ]
  },
  {
   "cell_type": "code",
   "execution_count": null,
   "metadata": {},
   "outputs": [],
   "source": [
    "filt = bikes['events'] == 'cloudy'\n",
    "bikes[filt].head()"
   ]
  },
  {
   "cell_type": "markdown",
   "metadata": {},
   "source": [
    "# Exercises"
   ]
  },
  {
   "cell_type": "markdown",
   "metadata": {},
   "source": [
    "### Problem 1\n",
    "<span  style=\"color:green; font-size:16px\">Read in the movie dataset and set the index to be the title. Select all movies that have Tom Hanks as `actor1`. How many of these movies has he starred in?</span>"
   ]
  },
  {
   "cell_type": "code",
   "execution_count": null,
   "metadata": {},
   "outputs": [],
   "source": []
  },
  {
   "cell_type": "markdown",
   "metadata": {},
   "source": [
    "### Problem 2\n",
    "<span  style=\"color:green; font-size:16px\">Select movies with and IMDB score greater than 9.</span>"
   ]
  },
  {
   "cell_type": "code",
   "execution_count": null,
   "metadata": {},
   "outputs": [],
   "source": []
  },
  {
   "cell_type": "markdown",
   "metadata": {},
   "source": [
    "# Do some boolean selection on your own"
   ]
  },
  {
   "cell_type": "code",
   "execution_count": null,
   "metadata": {},
   "outputs": [],
   "source": []
  }
 ],
 "metadata": {
  "kernelspec": {
   "display_name": "Python 3",
   "language": "python",
   "name": "python3"
  },
  "language_info": {
   "codemirror_mode": {
    "name": "ipython",
    "version": 3
   },
   "file_extension": ".py",
   "mimetype": "text/x-python",
   "name": "python",
   "nbconvert_exporter": "python",
   "pygments_lexer": "ipython3",
   "version": "3.6.4"
  },
  "varInspector": {
   "cols": {
    "lenName": 16,
    "lenType": 16,
    "lenVar": 40
   },
   "kernels_config": {
    "python": {
     "delete_cmd_postfix": "",
     "delete_cmd_prefix": "del ",
     "library": "var_list.py",
     "varRefreshCmd": "print(var_dic_list())"
    },
    "r": {
     "delete_cmd_postfix": ") ",
     "delete_cmd_prefix": "rm(",
     "library": "var_list.r",
     "varRefreshCmd": "cat(var_dic_list()) "
    }
   },
   "types_to_exclude": [
    "module",
    "function",
    "builtin_function_or_method",
    "instance",
    "_Feature"
   ],
   "window_display": false
  }
 },
 "nbformat": 4,
 "nbformat_minor": 2
}
