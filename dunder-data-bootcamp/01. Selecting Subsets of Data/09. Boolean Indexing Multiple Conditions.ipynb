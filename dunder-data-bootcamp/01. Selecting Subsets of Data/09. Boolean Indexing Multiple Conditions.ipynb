{
 "cells": [
  {
   "cell_type": "markdown",
   "metadata": {},
   "source": [
    "# 9. Boolean Indexing Multiple Conditions\n",
    "\n",
    "### Objectives\n",
    "\n",
    "+ Create complex filters with the and (**`&`**), or (**`|`**), and not (**`~`**) logical operators\n",
    "+ Wrap each filter with parentheses when more than one occur at the same line\n",
    "+ For readability, assign each filter to its own variable\n",
    "+ Use the **`isin`** method to test for multiple equalities in the same column"
   ]
  },
  {
   "cell_type": "markdown",
   "metadata": {},
   "source": [
    "## Multiple condition expression\n",
    "So far, our boolean selections have involved a single condition. You can have as many conditions as you would like. To do so, you will need to combine your boolean expressions using the three logical operators and, or, and not.\n",
    "\n",
    "## Use `&`, `|` , `~`\n",
    "Although Python uses the keywords `and`, `or`, and `not`, these will not work when with Pandas. \n",
    "\n",
    "You must use the following operators:\n",
    "\n",
    "* **`&`** for and\n",
    "* **`|`** for or\n",
    "* **`~`** for not\n",
    "\n",
    "## Our first multiple condition expression\n",
    "Let's find all the rides longer than 1,000 seconds when it was cloudy. We assign each condition to separate variables and then combine them with the and operator."
   ]
  },
  {
   "cell_type": "code",
   "execution_count": null,
   "metadata": {},
   "outputs": [],
   "source": [
    "import pandas as pd\n",
    "bikes = pd.read_csv('../data/bikes.csv')"
   ]
  },
  {
   "cell_type": "code",
   "execution_count": null,
   "metadata": {},
   "outputs": [],
   "source": [
    "filt1 = bikes['tripduration'] > 1000\n",
    "filt2 = bikes['events'] == 'cloudy'\n",
    "filt = filt1 & filt2\n",
    "\n",
    "bikes[filt].head(3)"
   ]
  },
  {
   "cell_type": "markdown",
   "metadata": {},
   "source": [
    "## Multiple conditions in one line\n",
    "It is possible to combine the entire expression into a single line. Many pandas users like doing this, others hate it. Regardless, it is a good idea to know how to do so as you will definitely encounter it.\n",
    "\n",
    "## Use parentheses to separate conditions\n",
    "You must encapsulate each condition in a set of parentheses in order to make this work.\n",
    "\n",
    "Each condition will be separated like this:\n",
    "\n",
    "```\n",
    "\n",
    "(bikes['tripduration'] > 1000) & (bikes['events'] == 'cloudy')\n",
    "\n",
    "```\n",
    "\n",
    "## Same results\n",
    "We can then drop this expression inside of just the indexing operator to get the same results:"
   ]
  },
  {
   "cell_type": "code",
   "execution_count": null,
   "metadata": {},
   "outputs": [],
   "source": [
    "bikes[(bikes['tripduration'] > 1000) & (bikes['events'] == 'cloudy')].head(3)"
   ]
  },
  {
   "cell_type": "markdown",
   "metadata": {},
   "source": [
    "## Again, I prefer assigning each condition to its own variable"
   ]
  },
  {
   "cell_type": "markdown",
   "metadata": {},
   "source": [
    "## Using an `or` condition\n",
    "Let's find all the rides that were done by females **or** had trip durations longer than 1,000 seconds.\n",
    "\n",
    "For the or condition, we use the pipe character **`|`**"
   ]
  },
  {
   "cell_type": "code",
   "execution_count": null,
   "metadata": {},
   "outputs": [],
   "source": [
    "filt1 = bikes['tripduration'] > 1000\n",
    "filt2 = bikes['gender'] == 'Female'\n",
    "filt = filt1 | filt2\n",
    "\n",
    "bikes[filt].head(3)"
   ]
  },
  {
   "cell_type": "markdown",
   "metadata": {},
   "source": [
    "## Reversing a condition with the not operator\n",
    "The tilde character, **`~`**, represents the not operator and reverses a condition.  For instance, if we wanted all the rides with trip duration less than or equal to 1000, we could do it like this:"
   ]
  },
  {
   "cell_type": "code",
   "execution_count": null,
   "metadata": {},
   "outputs": [],
   "source": [
    "filt = bikes['tripduration'] > 1000\n",
    "bikes[~filt].head(3)"
   ]
  },
  {
   "cell_type": "markdown",
   "metadata": {},
   "source": [
    "Of course, reversing single conditions is pretty pointless as we can simply use the less than or equal to operator instead like this:"
   ]
  },
  {
   "cell_type": "code",
   "execution_count": null,
   "metadata": {},
   "outputs": [],
   "source": [
    "filt = bikes['tripduration'] <= 1000\n",
    "bikes[filt].head(3)"
   ]
  },
  {
   "cell_type": "markdown",
   "metadata": {},
   "source": [
    "### Reverse a more complex condition\n",
    "Typically, we will save the not operator for reversing more complex conditions. Let's reverse the condition for selecting rides by females or those with duration over 1,000 seconds. Logically, this should return only male riders with duration 1,000 or less."
   ]
  },
  {
   "cell_type": "code",
   "execution_count": null,
   "metadata": {},
   "outputs": [],
   "source": [
    "filt1 = bikes['tripduration'] > 1000\n",
    "filt2 = bikes['gender'] == 'Female'\n",
    "filt = filt1 | filt2\n",
    "\n",
    "bikes[~filt].head(3)"
   ]
  },
  {
   "cell_type": "markdown",
   "metadata": {},
   "source": [
    "## Even more complex conditions\n",
    "It is possible to build extremely complex conditions to select rows of your DataFrame that meet a very specific condition. For instance, we can select males riders with trip duration between 1,000 and 2,000 seconds along with female riders with trip duration betwee 5,000 and 10,000 seconds.\n",
    "\n",
    "With multiple conditions, its probably best to break out the logic into multiple steps:"
   ]
  },
  {
   "cell_type": "code",
   "execution_count": null,
   "metadata": {},
   "outputs": [],
   "source": [
    "filt1 = (bikes['gender'] == 'Male') & (bikes['tripduration'] >= 1000) & (bikes['tripduration'] <= 2000)\n",
    "filt2 = (bikes['gender'] == 'Female') & (bikes['tripduration'] >= 5000) & (bikes['tripduration'] <= 10000)\n",
    "filt = filt1 | filt2\n",
    "\n",
    "bikes[filt].head(10)"
   ]
  },
  {
   "cell_type": "markdown",
   "metadata": {},
   "source": [
    "## Lots of equality conditions in a single column - use `isin`\n",
    "Occasionally, we will want to test equality in a single column with multiple values. This is most common in string columns. For instance, let’s say we wanted to find all the rides where the events were either rain, snow, tstorms or sleet.\n",
    "\n",
    "One way to do this would be with four or conditions."
   ]
  },
  {
   "cell_type": "code",
   "execution_count": null,
   "metadata": {},
   "outputs": [],
   "source": [
    "filt = ((bikes['events'] == 'rain') | \n",
    "        (bikes['events'] == 'snow') | \n",
    "        (bikes['events'] == 'tstorms') | \n",
    "        (bikes['events'] == 'sleet'))\n",
    "\n",
    "bikes[filt].head(3)"
   ]
  },
  {
   "cell_type": "markdown",
   "metadata": {},
   "source": [
    "Instead, use the **`isin`** method and pass it a list of all the acceptable values:"
   ]
  },
  {
   "cell_type": "code",
   "execution_count": null,
   "metadata": {},
   "outputs": [],
   "source": [
    "filt = bikes['events'].isin(['rain', 'snow', 'tstorms', 'sleet'])\n",
    "bikes[filt].head(3)"
   ]
  },
  {
   "cell_type": "markdown",
   "metadata": {},
   "source": [
    "## Combining isin with other filters\n",
    "You can use the resulting boolean Series from the isin method in the same way you would from the logical operators. For instance, If we wanted to find all the rides that had the same events and had a duration greater than 10,000 we would do the following:"
   ]
  },
  {
   "cell_type": "code",
   "execution_count": null,
   "metadata": {},
   "outputs": [],
   "source": [
    "filt1 = bikes['events'].isin(['rain', 'snow', 'tstorms', 'sleet'])\n",
    "filt2 = bikes['tripduration'] > 2000\n",
    "filt = filt1 & filt2\n",
    "\n",
    "bikes[filt].head()"
   ]
  },
  {
   "cell_type": "markdown",
   "metadata": {},
   "source": [
    "# Exercises"
   ]
  },
  {
   "cell_type": "markdown",
   "metadata": {},
   "source": [
    "### Problem 1\n",
    "<span  style=\"color:green; font-size:16px\">Select all movies from the 1970s.</span>"
   ]
  },
  {
   "cell_type": "code",
   "execution_count": null,
   "metadata": {},
   "outputs": [],
   "source": []
  },
  {
   "cell_type": "markdown",
   "metadata": {},
   "source": [
    "### Problem 2\n",
    "<span  style=\"color:green; font-size:16px\">Select all movies from the 1970s that had IMDB scores greater than 8</span>"
   ]
  },
  {
   "cell_type": "code",
   "execution_count": null,
   "metadata": {},
   "outputs": [],
   "source": []
  },
  {
   "cell_type": "markdown",
   "metadata": {},
   "source": [
    "### Problem 3\n",
    "<span  style=\"color:green; font-size:16px\">Select movies that were rated either R, PG-13, or PG.</span>"
   ]
  },
  {
   "cell_type": "code",
   "execution_count": null,
   "metadata": {},
   "outputs": [],
   "source": []
  },
  {
   "cell_type": "markdown",
   "metadata": {},
   "source": [
    "### Problem 4\n",
    "<span  style=\"color:green; font-size:16px\">Select movies that are either rated PG-13 or were made after 2010.</span>"
   ]
  },
  {
   "cell_type": "code",
   "execution_count": null,
   "metadata": {},
   "outputs": [],
   "source": []
  },
  {
   "cell_type": "markdown",
   "metadata": {},
   "source": [
    "### Problem 5\n",
    "<span  style=\"color:green; font-size:16px\">Find all the movies that have at least one of the three actors with more than 10,000 Facebook likes.</span>"
   ]
  },
  {
   "cell_type": "code",
   "execution_count": null,
   "metadata": {},
   "outputs": [],
   "source": []
  },
  {
   "cell_type": "markdown",
   "metadata": {},
   "source": [
    "### Problem 6\n",
    "<span  style=\"color:green; font-size:16px\">Reverse the condition from problem 4. In words, what have you selected.</span>"
   ]
  },
  {
   "cell_type": "code",
   "execution_count": null,
   "metadata": {},
   "outputs": [],
   "source": []
  }
 ],
 "metadata": {
  "kernelspec": {
   "display_name": "Python 3",
   "language": "python",
   "name": "python3"
  },
  "language_info": {
   "codemirror_mode": {
    "name": "ipython",
    "version": 3
   },
   "file_extension": ".py",
   "mimetype": "text/x-python",
   "name": "python",
   "nbconvert_exporter": "python",
   "pygments_lexer": "ipython3",
   "version": "3.6.4"
  },
  "varInspector": {
   "cols": {
    "lenName": 16,
    "lenType": 16,
    "lenVar": 40
   },
   "kernels_config": {
    "python": {
     "delete_cmd_postfix": "",
     "delete_cmd_prefix": "del ",
     "library": "var_list.py",
     "varRefreshCmd": "print(var_dic_list())"
    },
    "r": {
     "delete_cmd_postfix": ") ",
     "delete_cmd_prefix": "rm(",
     "library": "var_list.r",
     "varRefreshCmd": "cat(var_dic_list()) "
    }
   },
   "types_to_exclude": [
    "module",
    "function",
    "builtin_function_or_method",
    "instance",
    "_Feature"
   ],
   "window_display": false
  }
 },
 "nbformat": 4,
 "nbformat_minor": 2
}
