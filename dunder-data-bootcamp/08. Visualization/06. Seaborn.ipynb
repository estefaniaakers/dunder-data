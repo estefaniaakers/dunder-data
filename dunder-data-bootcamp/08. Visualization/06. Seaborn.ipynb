{
 "cells": [
  {
   "cell_type": "markdown",
   "metadata": {},
   "source": [
    "# 6. Seaborn\n",
    "\n",
    "### Objectives\n",
    "* Seaborn makes beautiful plots with concise syntax\n",
    "* Seaborn (mostly) requires tidy data\n",
    "* Seaborn integrates directly with DataFrames\n",
    "* Must use matplotlib for customized plots\n",
    "* Sometimes Pandas is the correct choice for plots\n",
    "* Seaborn has two broad types of plots: axes (simple) and grid (complex and composed of multiple axes plot)\n",
    "* Know the difference between categorical and regression variables and plots\n",
    "* Know how to add dimensionality with **hue, col, row** seaborn plotting parameters\n",
    "\n",
    "### Resource\n",
    "* Visit the [seaborn home page](http://seaborn.pydata.org/index.htm) and read the introduction\n",
    "* Keep the [Seaborn API page](http://seaborn.pydata.org/api.html) open throughout the notebook\n",
    "* Read the [pandas visualization docs](http://pandas.pydata.org/pandas-docs/stable/visualization.html)\n",
    "\n",
    "### Objectives\n",
    "\n",
    "This notebook will dive into the Seaborn visualization library in Python. This notebook assumes no previous visualization knowledge.\n",
    "\n",
    "Seaborn has a high-level, easy-to-use interface for creating powerful and beautiful visualizations. Seaborn does not actually perform any of the visualizations but instead, calls the primary Python visualization library, matplotlib, to do all the heavy lifting. Sometimes, Seaborn is referred to as a **wrapper** for matplotlib, a library which is more difficult to use but provides more fine-grained control.\n",
    "\n",
    "The Seaborn documentation is excellent and you will be well-served to read all of it. The library is fairly minimal and only exposes a relatively few amount of functions.\n",
    "\n",
    "## Seaborn and Tidy data\n",
    "Seaborn plotting functions work best with tidy data. Tidy data makes plotting with seaborn easy.\n",
    "\n",
    "## Seaborn integration with Pandas\n",
    "Nearly all Seaborn plotting functions contain a **`data`** parameter that accepts a pandas DataFrame. This allows you to use the **strings** of the column names for the function arguments.\n",
    "\n",
    "## The four common Seaborn plotting function parameters - `x`, `y`, `hue`, and `data`\n",
    "The Seaborn API is easy to use and most of the plotting functions look very similar. They syntax will look like this:\n",
    "\n",
    "```sns.plotting_func(x='col1', y='col2', hue='col3', data=df)```\n",
    "\n",
    "You will always pass your DataFrame to the `data` parameter. For univariate plots, you can use exactly one of `x` or `y`. The `hue` parameter adds an extra level of dimensionality by splitting and coloring the data by a third variable. \n",
    "\n",
    "## Getting started with Axes plots for Univariate visualization\n",
    "Let's begin by making plots with a single dimension of data.\n",
    "\n",
    "[1]: http://seaborn.pydata.org/api.html"
   ]
  },
  {
   "cell_type": "code",
   "execution_count": null,
   "metadata": {},
   "outputs": [],
   "source": [
    "import seaborn as sns\n",
    "import numpy as np\n",
    "import pandas as pd\n",
    "import matplotlib.pyplot as plt\n",
    "%matplotlib inline"
   ]
  },
  {
   "cell_type": "code",
   "execution_count": null,
   "metadata": {},
   "outputs": [],
   "source": [
    "emp = pd.read_csv('../data/employee.csv', parse_dates=['hire_date'])\n",
    "emp['experience'] = 2016 - emp['hire_date'].dt.year\n",
    "emp['experience_level'] = pd.cut(emp['experience'], \n",
    "                                 bins=[0, 5, 15, 100], \n",
    "                                 labels=['Novice', 'Experienced', 'Veteran'])\n",
    "emp.head()"
   ]
  },
  {
   "cell_type": "markdown",
   "metadata": {},
   "source": [
    "## Univariate numeric plots\n",
    "A few of the plots work with just a single dimension of data. Pass the DataFrame to the **`data`** parameter. Let's create a boxplot. Most Seaborn methods have both an **`x`** and **`y`** parameter. For some plots you only need to specify one of them."
   ]
  },
  {
   "cell_type": "code",
   "execution_count": null,
   "metadata": {},
   "outputs": [],
   "source": [
    "sns.boxplot(x='salary', data=emp)"
   ]
  },
  {
   "cell_type": "markdown",
   "metadata": {},
   "source": [
    "Make the boxplot vertical by passing using **`y`**."
   ]
  },
  {
   "cell_type": "code",
   "execution_count": null,
   "metadata": {},
   "outputs": [],
   "source": [
    "sns.boxplot(y='salary', data=emp)"
   ]
  },
  {
   "cell_type": "markdown",
   "metadata": {},
   "source": [
    "### Violin plot\n",
    "Violin plots help you visualize a distribution and work with just single dimensions of data."
   ]
  },
  {
   "cell_type": "code",
   "execution_count": null,
   "metadata": {},
   "outputs": [],
   "source": [
    "sns.violinplot('experience', data=emp)"
   ]
  },
  {
   "cell_type": "markdown",
   "metadata": {},
   "source": [
    "### Counting values with `countplot`\n",
    "Columns with strings are usually visualized by their frequency counts of their unique values. Seaborn's `countplot` will do this for us."
   ]
  },
  {
   "cell_type": "code",
   "execution_count": null,
   "metadata": {},
   "outputs": [],
   "source": [
    "sns.countplot('race', data=emp)"
   ]
  },
  {
   "cell_type": "markdown",
   "metadata": {},
   "source": [
    "#### Comparison to Pandas"
   ]
  },
  {
   "cell_type": "code",
   "execution_count": null,
   "metadata": {},
   "outputs": [],
   "source": [
    "emp['race'].value_counts().plot(kind='bar')"
   ]
  },
  {
   "cell_type": "markdown",
   "metadata": {},
   "source": [
    "Seaborn plots return the underlying Axes object. We can assign this returned object to a variable and use it to modify our plots. This is rather unfortunate that we have to dip into matplotlib to do this. It would be much nicer if Seaborn had this functionality built in."
   ]
  },
  {
   "cell_type": "code",
   "execution_count": null,
   "metadata": {},
   "outputs": [],
   "source": [
    "ax = sns.countplot('race', data=emp)\n",
    "ax.tick_params(rotation=90)"
   ]
  },
  {
   "cell_type": "markdown",
   "metadata": {},
   "source": [
    "### KDE and Histogram\n",
    "The **`distplot`** function plots both the KDE and the histogram together. There is no **`data`** parameter here, so you must pass in the Series directly."
   ]
  },
  {
   "cell_type": "code",
   "execution_count": null,
   "metadata": {},
   "outputs": [],
   "source": [
    "sns.distplot(emp['experience'])"
   ]
  },
  {
   "cell_type": "markdown",
   "metadata": {},
   "source": [
    "# Multivariate plotting\n",
    "The above plots involved only a single variable. We will add another dimension to our data by using both `x` and `y` parameters.\n",
    "\n",
    "### Mixing a categorical feature\n",
    "The following plots use one categorical column and one numeric column. Seaborn **aggregates** the data for us. Let's find the average salary by gender using many different plots."
   ]
  },
  {
   "cell_type": "code",
   "execution_count": null,
   "metadata": {},
   "outputs": [],
   "source": [
    "sns.boxplot(x='salary', y='gender', data=emp)"
   ]
  },
  {
   "cell_type": "code",
   "execution_count": null,
   "metadata": {},
   "outputs": [],
   "source": [
    "sns.boxplot(x='gender', y='salary', data=emp)"
   ]
  },
  {
   "cell_type": "code",
   "execution_count": null,
   "metadata": {},
   "outputs": [],
   "source": [
    "sns.violinplot(x='gender', y='salary', data=emp)"
   ]
  },
  {
   "cell_type": "markdown",
   "metadata": {},
   "source": [
    "By default, the bar plot takes the average"
   ]
  },
  {
   "cell_type": "code",
   "execution_count": null,
   "metadata": {},
   "outputs": [],
   "source": [
    "sns.barplot(x='gender', y='salary', data=emp)"
   ]
  },
  {
   "cell_type": "markdown",
   "metadata": {},
   "source": [
    "Can change aggregation but Seaborn does not accept strings. Must use NumPy."
   ]
  },
  {
   "cell_type": "code",
   "execution_count": null,
   "metadata": {},
   "outputs": [],
   "source": [
    "sns.__version__"
   ]
  },
  {
   "cell_type": "code",
   "execution_count": null,
   "metadata": {},
   "outputs": [],
   "source": [
    "sns.barplot(x='gender', y='salary', data=emp, estimator=np.max)"
   ]
  },
  {
   "cell_type": "markdown",
   "metadata": {},
   "source": [
    "## Multivariate numeric\n",
    "We now turn to plotting two numeric variables. Scatter and line plots are the most common."
   ]
  },
  {
   "cell_type": "markdown",
   "metadata": {},
   "source": [
    "The **`regplot`** function creates a scatterplot but and draws the regression line through the points."
   ]
  },
  {
   "cell_type": "code",
   "execution_count": null,
   "metadata": {},
   "outputs": [],
   "source": [
    "sns.regplot(x='experience', y='salary', data=emp)"
   ]
  },
  {
   "cell_type": "markdown",
   "metadata": {},
   "source": [
    "# Add another dimension with `hue`\n",
    "The `hue` parameter is found in most seaborn methods and allows you to slice the data by one more dimension. The **`hue`** parameter does not create a new Axes, rather, it slices the data in the current Axes. Notice here, how it divides each gender into each of the races."
   ]
  },
  {
   "cell_type": "code",
   "execution_count": null,
   "metadata": {},
   "outputs": [],
   "source": [
    "sns.boxplot(x='salary', y='gender', hue='race', data=emp)"
   ]
  },
  {
   "cell_type": "code",
   "execution_count": null,
   "metadata": {},
   "outputs": [],
   "source": [
    "sns.barplot(x='gender', y='salary', hue='race', data=emp)"
   ]
  },
  {
   "cell_type": "code",
   "execution_count": null,
   "metadata": {},
   "outputs": [],
   "source": [
    "ax = sns.barplot(x='race', y='salary', hue='gender', data=emp)"
   ]
  },
  {
   "cell_type": "markdown",
   "metadata": {},
   "source": [
    "# Create a Grid to add even more dimensionality\n",
    "There are only a few Grid plots in Seaborn. The main Grid plots are `catplot`, and `lmplot`. Both these functions simply make one of the plots we've already created into a grid by using the parameters `row` and `col`.\n",
    "\n",
    "## Recreating the above plots with `catplot`\n",
    "Besides `row` and `col`, the `catplot` function has the `kind` parameter which controls the kind of plot. Let's re-create the box plot from above with `catplot`. The syntax is the exactly the same except for the added `kind` parameter."
   ]
  },
  {
   "cell_type": "code",
   "execution_count": null,
   "metadata": {},
   "outputs": [],
   "source": [
    "sns.catplot(x='salary', data=emp, kind='box')"
   ]
  },
  {
   "cell_type": "markdown",
   "metadata": {},
   "source": [
    "### Recreate the bar plot from above"
   ]
  },
  {
   "cell_type": "code",
   "execution_count": null,
   "metadata": {},
   "outputs": [],
   "source": [
    "sns.catplot(x='gender', y='salary', hue='race', data=emp, kind='bar')"
   ]
  },
  {
   "cell_type": "markdown",
   "metadata": {},
   "source": [
    "### By default, the `catplot` does a `stripplot`\n",
    "Strip plots are another way of showing the distribution of a variable. I don't use them much, but they happen to be the default kind for `catplot`."
   ]
  },
  {
   "cell_type": "code",
   "execution_count": null,
   "metadata": {},
   "outputs": [],
   "source": [
    "sns.stripplot(x='race', y='salary', data=emp)"
   ]
  },
  {
   "cell_type": "markdown",
   "metadata": {},
   "source": [
    "Notice how the below plot is the same as the above."
   ]
  },
  {
   "cell_type": "code",
   "execution_count": null,
   "metadata": {},
   "outputs": [],
   "source": [
    "sns.catplot(x='race', y='salary', data=emp)"
   ]
  },
  {
   "cell_type": "markdown",
   "metadata": {},
   "source": [
    "## Use `col` or `row` to create the Grid\n",
    "The real power of `catplot` is the ability to create grids with the `row` and `col` parameters. This allows us to split the data into separate plots. For instance, let's calculate the average salary by race and gender but split into separate plots by experience level."
   ]
  },
  {
   "cell_type": "code",
   "execution_count": null,
   "metadata": {},
   "outputs": [],
   "source": [
    "sns.catplot(x='race', y='salary', hue='gender', data=emp, kind='bar', col='experience_level')"
   ]
  },
  {
   "cell_type": "markdown",
   "metadata": {},
   "source": [
    "## Use both `row` and `col` for maximum level of slicing\n",
    "You can use the **`row`** variable as well to further slice the data. The following calculates bar plots for each combination of department, experience level, race, and gender."
   ]
  },
  {
   "cell_type": "code",
   "execution_count": null,
   "metadata": {
    "scrolled": false
   },
   "outputs": [],
   "source": [
    "sns.catplot(x='race', y='salary', hue='gender', \n",
    "            data=emp, kind='bar', col='experience_level', row='dept', sharey=False)"
   ]
  },
  {
   "cell_type": "markdown",
   "metadata": {},
   "source": [
    "## Matrix plots\n",
    "Let's open up the Mini Web App Finding Similar Members with the Meetup API notebook."
   ]
  },
  {
   "cell_type": "markdown",
   "metadata": {},
   "source": [
    "# Exercises"
   ]
  },
  {
   "cell_type": "markdown",
   "metadata": {},
   "source": [
    "### Problem 1\n",
    "<span  style=\"color:green; font-size:16px\">Using Seaborn, plot the number of schools per state.</span>"
   ]
  },
  {
   "cell_type": "code",
   "execution_count": null,
   "metadata": {},
   "outputs": [],
   "source": []
  },
  {
   "cell_type": "markdown",
   "metadata": {},
   "source": [
    "### Problem 2\n",
    "<span  style=\"color:green; font-size:16px\">Use pandas to create the same plot from problem 1, but make it an ordered horizontal bar chart.</span>"
   ]
  },
  {
   "cell_type": "code",
   "execution_count": null,
   "metadata": {},
   "outputs": [],
   "source": []
  },
  {
   "cell_type": "markdown",
   "metadata": {},
   "source": [
    "### Problem 3\n",
    "<span  style=\"color:green; font-size:16px\">Make a boxplot per state of SAT Math.</span>"
   ]
  },
  {
   "cell_type": "code",
   "execution_count": null,
   "metadata": {},
   "outputs": [],
   "source": []
  },
  {
   "cell_type": "markdown",
   "metadata": {},
   "source": [
    "### Problem 4\n",
    "<span  style=\"color:green; font-size:16px\">Draw the relationship between SAT Math and Verbal scores with a regression line.</span>"
   ]
  },
  {
   "cell_type": "code",
   "execution_count": null,
   "metadata": {},
   "outputs": [],
   "source": []
  },
  {
   "cell_type": "markdown",
   "metadata": {},
   "source": [
    "# Ask questions that you can answer with Seaborn\n",
    "Use the insurance dataset:"
   ]
  },
  {
   "cell_type": "code",
   "execution_count": null,
   "metadata": {},
   "outputs": [],
   "source": []
  }
 ],
 "metadata": {
  "kernelspec": {
   "display_name": "Python 3",
   "language": "python",
   "name": "python3"
  },
  "language_info": {
   "codemirror_mode": {
    "name": "ipython",
    "version": 3
   },
   "file_extension": ".py",
   "mimetype": "text/x-python",
   "name": "python",
   "nbconvert_exporter": "python",
   "pygments_lexer": "ipython3",
   "version": "3.6.7"
  },
  "varInspector": {
   "cols": {
    "lenName": 16,
    "lenType": 16,
    "lenVar": 40
   },
   "kernels_config": {
    "python": {
     "delete_cmd_postfix": "",
     "delete_cmd_prefix": "del ",
     "library": "var_list.py",
     "varRefreshCmd": "print(var_dic_list())"
    },
    "r": {
     "delete_cmd_postfix": ") ",
     "delete_cmd_prefix": "rm(",
     "library": "var_list.r",
     "varRefreshCmd": "cat(var_dic_list()) "
    }
   },
   "types_to_exclude": [
    "module",
    "function",
    "builtin_function_or_method",
    "instance",
    "_Feature"
   ],
   "window_display": false
  }
 },
 "nbformat": 4,
 "nbformat_minor": 2
}
