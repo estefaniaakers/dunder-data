{
 "cells": [
  {
   "cell_type": "markdown",
   "metadata": {},
   "source": [
    "# 7. Dexplot\n",
    "\n",
    "Dexplot is a package that I created to further simplify Seaborn. You may be thinking that Seaborn is simple enough, but there is quite a bit of replication and several things that can be improved. For instance, there are about 5 different functions that create scatterplots (`relplot`, `scatterplot`, `lmplot`, `regplot` and `jointplot`). There are only minor differences between these plots, so a single scatter plot function could suffice.\n",
    "\n",
    "A few more things that could be improved in Seaborn:\n",
    "* There is no easy way to create relative frequency plots\n",
    "* No way to control the size of the figure and several other matplotlib properties without actually using matplotlib itself\n",
    "* No way to use a strings for functions when grouping\n",
    "\n",
    "\n",
    "## The goal of Dexplot is simplicity\n",
    "\n",
    "There are currently only three functions available in Dexplot - `aggplot`, `jointplot`, and `heatmap`. The `aggplot` function is similar to `catplot` in Seaborn. I named it `aggplot` because it is used to aggregate data (which is what `catplot` does). Instead of `x` and `y`, `aggplot` uses `agg` and `groupby`.\n",
    "\n",
    "The variable being aggregated gets passed to `agg` and the variable doing the grouping gets passed to `groupby`. It is no different than calling a `groupby` method on a DataFrame\n",
    "\n",
    "## Install with `pip`\n",
    "\n",
    "You will need to install by running the `pip install dexplot` or perhaps `pip3 install dexplot`."
   ]
  },
  {
   "cell_type": "code",
   "execution_count": null,
   "metadata": {},
   "outputs": [],
   "source": [
    "import dexplot as dxp\n",
    "import pandas as pd\n",
    "%matplotlib inline"
   ]
  },
  {
   "cell_type": "code",
   "execution_count": null,
   "metadata": {},
   "outputs": [],
   "source": [
    "emp = pd.read_csv('../data/employee.csv')\n",
    "emp.head()"
   ]
  },
  {
   "cell_type": "markdown",
   "metadata": {},
   "source": [
    "## Bar plots\n",
    "Bar plots are the default plot type for `aggplot`. Also by default, the mean is taken."
   ]
  },
  {
   "cell_type": "code",
   "execution_count": null,
   "metadata": {},
   "outputs": [],
   "source": [
    "dxp.aggplot(agg='salary', groupby='race', data=emp)"
   ]
  },
  {
   "cell_type": "markdown",
   "metadata": {},
   "source": [
    "### `hue` works the same way\n",
    "Notice how you can change the figure size without resorting to matplotlib."
   ]
  },
  {
   "cell_type": "code",
   "execution_count": null,
   "metadata": {},
   "outputs": [],
   "source": [
    "dxp.aggplot(agg='salary', groupby='race', data=emp, hue='gender', figsize=(12, 4))"
   ]
  },
  {
   "cell_type": "markdown",
   "metadata": {},
   "source": [
    "### Stacked bar plots\n",
    "Stacked bar plots can be misleading, but they are available in Dexplot."
   ]
  },
  {
   "cell_type": "code",
   "execution_count": null,
   "metadata": {},
   "outputs": [],
   "source": [
    "dxp.aggplot(agg='salary', groupby='race', data=emp, hue='gender', stacked=True)"
   ]
  },
  {
   "cell_type": "markdown",
   "metadata": {},
   "source": [
    "### Choose the aggregation function with a string"
   ]
  },
  {
   "cell_type": "code",
   "execution_count": null,
   "metadata": {},
   "outputs": [],
   "source": [
    "dxp.aggplot(agg='salary', groupby='race', data=emp, hue='gender', aggfunc='max')"
   ]
  },
  {
   "cell_type": "markdown",
   "metadata": {},
   "source": [
    "Read more about dexplot on [Github](https://github.com/dexplo/dexplot)"
   ]
  }
 ],
 "metadata": {
  "kernelspec": {
   "display_name": "Python 3",
   "language": "python",
   "name": "python3"
  },
  "language_info": {
   "codemirror_mode": {
    "name": "ipython",
    "version": 3
   },
   "file_extension": ".py",
   "mimetype": "text/x-python",
   "name": "python",
   "nbconvert_exporter": "python",
   "pygments_lexer": "ipython3",
   "version": "3.6.7"
  }
 },
 "nbformat": 4,
 "nbformat_minor": 2
}
