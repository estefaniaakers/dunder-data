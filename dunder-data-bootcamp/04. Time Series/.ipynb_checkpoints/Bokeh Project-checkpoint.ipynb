{
 "cells": [
  {
   "cell_type": "markdown",
   "metadata": {},
   "source": [
    "# Bokeh Project\n",
    "[Bokeh](http://bokeh.pydata.org/en/latest/) is a very powerful visualization tool built independently from matplotlib. It provides high quality interactive Javascript plots that are perfect for embedding into web applications such as this Jupyter notebook. You will interact with Bokeh completely in Python and it will produce output completely as Javascript plot. Bokeh's popularity is increasing rapidly and new features are being added frequently. [Bokeh](https://github.com/bokeh/bokeh) has more stars on github now than [matplotlib](https://github.com/matplotlib/matplotlib).  \n",
    "\n",
    "Bokeh also has the ability to be run as a standalone web application that allows for capturing user interaction and responding with different output based on that interaction.\n",
    "\n",
    "# Your Assignment\n",
    "Your assignment for today is to build a standalone application that employs some kind of prediction.\n",
    "\n",
    "1. Begin by cloning the [bokeh tutorial github](https://github.com/bokeh/bokeh-notebooks/tree/master/tutorial). The tutorials are all in Jupyter notebooks. You can view an exact replica of the repo using [nbviewer](http://nbviewer.jupyter.org/github/bokeh/bokeh-notebooks/blob/master/tutorial/00%20-%20intro.ipynb)\n",
    "1. Each tutorial notebook is short and won't take too long for you start feeling comfortable with the syntax.\n",
    "1. Read and play around with the notebooks. Make sure to pay attention to the Bokeh server notebook which shows you how to build a simple standalone web application. The notebooks after the charts may not be that useful for today.\n",
    "1. Once you feel comfortable with some of the syntax, you will begin building your web application\n",
    "1. Visit the [Bokeh server examples](http://bokeh.pydata.org/en/latest/docs/gallery.html#server-app-examples) to play with some of the web applications.\n",
    "1. I would strongly suggest using the code from one of the examples as a base and modifying it to make your own. The source code is linked directly next to each project.\n",
    "1. Those projects as well as a few more are [located here](https://github.com/bokeh/bokeh/tree/master/examples/app).\n",
    "\n",
    "### Running stocks_ted.py\n",
    "A simple stock market prediction project that was tweaked from Bokeh's stock app is included and can be run with the following from the terminal.\n",
    "\n",
    "**`bokeh serve stocks_ted.py`**\n",
    "\n",
    "This project takes ticker symbols inputted from the user and grabs the closing stock price using **`pandas_datareader`**. It displays both a histogram of prices a time-series plot of the closing price along with a time-series plot of the total gain/loss of the prediction model."
   ]
  },
  {
   "cell_type": "code",
   "execution_count": null,
   "metadata": {
    "collapsed": true
   },
   "outputs": [],
   "source": []
  }
 ],
 "metadata": {
  "kernelspec": {
   "display_name": "Python [default]",
   "language": "python",
   "name": "python3"
  },
  "language_info": {
   "codemirror_mode": {
    "name": "ipython",
    "version": 3
   },
   "file_extension": ".py",
   "mimetype": "text/x-python",
   "name": "python",
   "nbconvert_exporter": "python",
   "pygments_lexer": "ipython3",
   "version": "3.5.2"
  }
 },
 "nbformat": 4,
 "nbformat_minor": 2
}
