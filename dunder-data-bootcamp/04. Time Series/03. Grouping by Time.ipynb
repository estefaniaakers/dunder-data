{
 "cells": [
  {
   "cell_type": "markdown",
   "metadata": {},
   "source": [
    "# 3. Grouping by Time\n",
    "\n",
    "### Objectives\n",
    "* Group by time with **`resample`**\n",
    "* Use offset aliases to determine amount of time\n",
    "* Use the **`rolling`** method to calculate moving window statistics\n",
    "\n",
    "## Introduction\n",
    "In previous notebooks, we learned how to downsample/upsample time series data. In this notebook, we will group spans of time together to get a result. For instance, we can find out the number of up or down days for a stock within each trading month, or calculate the number of flights per day for an airline."
   ]
  },
  {
   "cell_type": "markdown",
   "metadata": {},
   "source": [
    "# Grouping by time\n",
    "Pandas gives you the ability to group by a period of time. A concrete example can help here with the Amazon closing stock data. Note, that the date is set as the index."
   ]
  },
  {
   "cell_type": "code",
   "execution_count": 1,
   "metadata": {},
   "outputs": [
    {
     "data": {
      "text/html": [
       "<div>\n",
       "<style scoped>\n",
       "    .dataframe tbody tr th:only-of-type {\n",
       "        vertical-align: middle;\n",
       "    }\n",
       "\n",
       "    .dataframe tbody tr th {\n",
       "        vertical-align: top;\n",
       "    }\n",
       "\n",
       "    .dataframe thead th {\n",
       "        text-align: right;\n",
       "    }\n",
       "</style>\n",
       "<table border=\"1\" class=\"dataframe\">\n",
       "  <thead>\n",
       "    <tr style=\"text-align: right;\">\n",
       "      <th></th>\n",
       "      <th>change</th>\n",
       "      <th>changeOverTime</th>\n",
       "      <th>changePercent</th>\n",
       "      <th>close</th>\n",
       "      <th>high</th>\n",
       "      <th>label</th>\n",
       "      <th>low</th>\n",
       "      <th>open</th>\n",
       "      <th>unadjustedVolume</th>\n",
       "      <th>volume</th>\n",
       "      <th>vwap</th>\n",
       "    </tr>\n",
       "    <tr>\n",
       "      <th>date</th>\n",
       "      <th></th>\n",
       "      <th></th>\n",
       "      <th></th>\n",
       "      <th></th>\n",
       "      <th></th>\n",
       "      <th></th>\n",
       "      <th></th>\n",
       "      <th></th>\n",
       "      <th></th>\n",
       "      <th></th>\n",
       "      <th></th>\n",
       "    </tr>\n",
       "  </thead>\n",
       "  <tbody>\n",
       "    <tr>\n",
       "      <th>2013-12-23</th>\n",
       "      <td>0.72</td>\n",
       "      <td>0.000000</td>\n",
       "      <td>0.179</td>\n",
       "      <td>402.92</td>\n",
       "      <td>405.0000</td>\n",
       "      <td>Dec 23, 13</td>\n",
       "      <td>399.20</td>\n",
       "      <td>403.69</td>\n",
       "      <td>2661823</td>\n",
       "      <td>2661823</td>\n",
       "      <td>402.2857</td>\n",
       "    </tr>\n",
       "    <tr>\n",
       "      <th>2013-12-24</th>\n",
       "      <td>-3.72</td>\n",
       "      <td>-0.009233</td>\n",
       "      <td>-0.923</td>\n",
       "      <td>399.20</td>\n",
       "      <td>403.7249</td>\n",
       "      <td>Dec 24, 13</td>\n",
       "      <td>396.37</td>\n",
       "      <td>402.52</td>\n",
       "      <td>1380373</td>\n",
       "      <td>1380373</td>\n",
       "      <td>399.4538</td>\n",
       "    </tr>\n",
       "    <tr>\n",
       "      <th>2013-12-26</th>\n",
       "      <td>5.19</td>\n",
       "      <td>0.003648</td>\n",
       "      <td>1.300</td>\n",
       "      <td>404.39</td>\n",
       "      <td>404.5200</td>\n",
       "      <td>Dec 26, 13</td>\n",
       "      <td>396.81</td>\n",
       "      <td>401.79</td>\n",
       "      <td>1871590</td>\n",
       "      <td>1871590</td>\n",
       "      <td>401.8815</td>\n",
       "    </tr>\n",
       "    <tr>\n",
       "      <th>2013-12-27</th>\n",
       "      <td>-6.31</td>\n",
       "      <td>-0.012012</td>\n",
       "      <td>-1.560</td>\n",
       "      <td>398.08</td>\n",
       "      <td>405.6300</td>\n",
       "      <td>Dec 27, 13</td>\n",
       "      <td>396.25</td>\n",
       "      <td>404.65</td>\n",
       "      <td>1987280</td>\n",
       "      <td>1987280</td>\n",
       "      <td>399.9122</td>\n",
       "    </tr>\n",
       "    <tr>\n",
       "      <th>2013-12-30</th>\n",
       "      <td>-4.71</td>\n",
       "      <td>-0.023702</td>\n",
       "      <td>-1.183</td>\n",
       "      <td>393.37</td>\n",
       "      <td>399.9200</td>\n",
       "      <td>Dec 30, 13</td>\n",
       "      <td>392.45</td>\n",
       "      <td>399.41</td>\n",
       "      <td>2487812</td>\n",
       "      <td>2487812</td>\n",
       "      <td>394.7291</td>\n",
       "    </tr>\n",
       "  </tbody>\n",
       "</table>\n",
       "</div>"
      ],
      "text/plain": [
       "            change  changeOverTime  changePercent   close      high  \\\n",
       "date                                                                  \n",
       "2013-12-23    0.72        0.000000          0.179  402.92  405.0000   \n",
       "2013-12-24   -3.72       -0.009233         -0.923  399.20  403.7249   \n",
       "2013-12-26    5.19        0.003648          1.300  404.39  404.5200   \n",
       "2013-12-27   -6.31       -0.012012         -1.560  398.08  405.6300   \n",
       "2013-12-30   -4.71       -0.023702         -1.183  393.37  399.9200   \n",
       "\n",
       "                 label     low    open  unadjustedVolume   volume      vwap  \n",
       "date                                                                         \n",
       "2013-12-23  Dec 23, 13  399.20  403.69           2661823  2661823  402.2857  \n",
       "2013-12-24  Dec 24, 13  396.37  402.52           1380373  1380373  399.4538  \n",
       "2013-12-26  Dec 26, 13  396.81  401.79           1871590  1871590  401.8815  \n",
       "2013-12-27  Dec 27, 13  396.25  404.65           1987280  1987280  399.9122  \n",
       "2013-12-30  Dec 30, 13  392.45  399.41           2487812  2487812  394.7291  "
      ]
     },
     "execution_count": 1,
     "metadata": {},
     "output_type": "execute_result"
    }
   ],
   "source": [
    "import pandas as pd\n",
    "\n",
    "url = 'https://api.iextrading.com/1.0/stock/AMZN/chart/5y'\n",
    "amzn = pd.read_json(url)\n",
    "amzn = amzn.set_index('date')\n",
    "amzn.head()"
   ]
  },
  {
   "cell_type": "markdown",
   "metadata": {},
   "source": [
    "### Find the average closing price of Amazon for every month\n",
    "If we are interested in finding the average closing price of Amazon for every month, then we need to group by month and aggregate the closing price with the mean function.\n",
    "\n",
    "### Grouping column, aggregating column, and aggregating method\n",
    "This procedure is very similar to how we grouped and aggregated columns in previous notebooks. The only difference is that, our **grouping column** will now be a datetime column with an additional specification for the amount of time.\n",
    "\n",
    "### Use the `resample` method\n",
    "Instead of the **`groupby`** method, we use a special method for grouping time together called **`resample`**. We must pass the **`resample`** method an offset alias string. The rest of the process is the exact same as the **`groupby`** method. We call the **`agg`** method and pass it a dictionary mapping the **aggregating columns** to the **aggregating functions**.\n",
    "\n",
    "### `resample` syntax\n",
    "The first parameter we pass to **`resample`** is the offset alias. Here, we choose to group by month."
   ]
  },
  {
   "cell_type": "code",
   "execution_count": 2,
   "metadata": {},
   "outputs": [
    {
     "data": {
      "text/html": [
       "<div>\n",
       "<style scoped>\n",
       "    .dataframe tbody tr th:only-of-type {\n",
       "        vertical-align: middle;\n",
       "    }\n",
       "\n",
       "    .dataframe tbody tr th {\n",
       "        vertical-align: top;\n",
       "    }\n",
       "\n",
       "    .dataframe thead th {\n",
       "        text-align: right;\n",
       "    }\n",
       "</style>\n",
       "<table border=\"1\" class=\"dataframe\">\n",
       "  <thead>\n",
       "    <tr style=\"text-align: right;\">\n",
       "      <th></th>\n",
       "      <th>close</th>\n",
       "    </tr>\n",
       "    <tr>\n",
       "      <th>date</th>\n",
       "      <th></th>\n",
       "    </tr>\n",
       "  </thead>\n",
       "  <tbody>\n",
       "    <tr>\n",
       "      <th>2013-12-31</th>\n",
       "      <td>399.458333</td>\n",
       "    </tr>\n",
       "    <tr>\n",
       "      <th>2014-01-31</th>\n",
       "      <td>394.863333</td>\n",
       "    </tr>\n",
       "    <tr>\n",
       "      <th>2014-02-28</th>\n",
       "      <td>354.336842</td>\n",
       "    </tr>\n",
       "    <tr>\n",
       "      <th>2014-03-31</th>\n",
       "      <td>362.630238</td>\n",
       "    </tr>\n",
       "    <tr>\n",
       "      <th>2014-04-30</th>\n",
       "      <td>321.641190</td>\n",
       "    </tr>\n",
       "    <tr>\n",
       "      <th>2014-05-31</th>\n",
       "      <td>302.953571</td>\n",
       "    </tr>\n",
       "    <tr>\n",
       "      <th>2014-06-30</th>\n",
       "      <td>324.573333</td>\n",
       "    </tr>\n",
       "    <tr>\n",
       "      <th>2014-07-31</th>\n",
       "      <td>339.919364</td>\n",
       "    </tr>\n",
       "    <tr>\n",
       "      <th>2014-08-31</th>\n",
       "      <td>327.331905</td>\n",
       "    </tr>\n",
       "    <tr>\n",
       "      <th>2014-09-30</th>\n",
       "      <td>330.311905</td>\n",
       "    </tr>\n",
       "  </tbody>\n",
       "</table>\n",
       "</div>"
      ],
      "text/plain": [
       "                 close\n",
       "date                  \n",
       "2013-12-31  399.458333\n",
       "2014-01-31  394.863333\n",
       "2014-02-28  354.336842\n",
       "2014-03-31  362.630238\n",
       "2014-04-30  321.641190\n",
       "2014-05-31  302.953571\n",
       "2014-06-30  324.573333\n",
       "2014-07-31  339.919364\n",
       "2014-08-31  327.331905\n",
       "2014-09-30  330.311905"
      ]
     },
     "execution_count": 2,
     "metadata": {},
     "output_type": "execute_result"
    }
   ],
   "source": [
    "amzn.resample('M').agg({'close': 'mean'}).head(10)"
   ]
  },
  {
   "cell_type": "markdown",
   "metadata": {},
   "source": [
    "### Use any number of aggregation functions\n",
    "Map the aggregating column to a list of aggregating functions."
   ]
  },
  {
   "cell_type": "code",
   "execution_count": 3,
   "metadata": {},
   "outputs": [
    {
     "data": {
      "text/html": [
       "<div>\n",
       "<style scoped>\n",
       "    .dataframe tbody tr th:only-of-type {\n",
       "        vertical-align: middle;\n",
       "    }\n",
       "\n",
       "    .dataframe tbody tr th {\n",
       "        vertical-align: top;\n",
       "    }\n",
       "\n",
       "    .dataframe thead tr th {\n",
       "        text-align: left;\n",
       "    }\n",
       "\n",
       "    .dataframe thead tr:last-of-type th {\n",
       "        text-align: right;\n",
       "    }\n",
       "</style>\n",
       "<table border=\"1\" class=\"dataframe\">\n",
       "  <thead>\n",
       "    <tr>\n",
       "      <th></th>\n",
       "      <th colspan=\"4\" halign=\"left\">close</th>\n",
       "    </tr>\n",
       "    <tr>\n",
       "      <th></th>\n",
       "      <th>size</th>\n",
       "      <th>min</th>\n",
       "      <th>mean</th>\n",
       "      <th>max</th>\n",
       "    </tr>\n",
       "    <tr>\n",
       "      <th>date</th>\n",
       "      <th></th>\n",
       "      <th></th>\n",
       "      <th></th>\n",
       "      <th></th>\n",
       "    </tr>\n",
       "  </thead>\n",
       "  <tbody>\n",
       "    <tr>\n",
       "      <th>2013-12-31</th>\n",
       "      <td>6</td>\n",
       "      <td>393.370</td>\n",
       "      <td>399.458333</td>\n",
       "      <td>404.39</td>\n",
       "    </tr>\n",
       "    <tr>\n",
       "      <th>2014-01-31</th>\n",
       "      <td>21</td>\n",
       "      <td>358.690</td>\n",
       "      <td>394.863333</td>\n",
       "      <td>407.05</td>\n",
       "    </tr>\n",
       "    <tr>\n",
       "      <th>2014-02-28</th>\n",
       "      <td>19</td>\n",
       "      <td>346.150</td>\n",
       "      <td>354.336842</td>\n",
       "      <td>362.10</td>\n",
       "    </tr>\n",
       "    <tr>\n",
       "      <th>2014-03-31</th>\n",
       "      <td>21</td>\n",
       "      <td>336.365</td>\n",
       "      <td>362.630238</td>\n",
       "      <td>378.77</td>\n",
       "    </tr>\n",
       "    <tr>\n",
       "      <th>2014-04-30</th>\n",
       "      <td>21</td>\n",
       "      <td>296.580</td>\n",
       "      <td>321.641190</td>\n",
       "      <td>342.99</td>\n",
       "    </tr>\n",
       "    <tr>\n",
       "      <th>2014-05-31</th>\n",
       "      <td>21</td>\n",
       "      <td>288.320</td>\n",
       "      <td>302.953571</td>\n",
       "      <td>313.78</td>\n",
       "    </tr>\n",
       "    <tr>\n",
       "      <th>2014-06-30</th>\n",
       "      <td>21</td>\n",
       "      <td>306.780</td>\n",
       "      <td>324.573333</td>\n",
       "      <td>335.20</td>\n",
       "    </tr>\n",
       "    <tr>\n",
       "      <th>2014-07-31</th>\n",
       "      <td>22</td>\n",
       "      <td>312.990</td>\n",
       "      <td>339.919364</td>\n",
       "      <td>360.84</td>\n",
       "    </tr>\n",
       "    <tr>\n",
       "      <th>2014-08-31</th>\n",
       "      <td>21</td>\n",
       "      <td>307.060</td>\n",
       "      <td>327.331905</td>\n",
       "      <td>343.18</td>\n",
       "    </tr>\n",
       "    <tr>\n",
       "      <th>2014-09-30</th>\n",
       "      <td>21</td>\n",
       "      <td>321.820</td>\n",
       "      <td>330.311905</td>\n",
       "      <td>346.38</td>\n",
       "    </tr>\n",
       "  </tbody>\n",
       "</table>\n",
       "</div>"
      ],
      "text/plain": [
       "           close                             \n",
       "            size      min        mean     max\n",
       "date                                         \n",
       "2013-12-31     6  393.370  399.458333  404.39\n",
       "2014-01-31    21  358.690  394.863333  407.05\n",
       "2014-02-28    19  346.150  354.336842  362.10\n",
       "2014-03-31    21  336.365  362.630238  378.77\n",
       "2014-04-30    21  296.580  321.641190  342.99\n",
       "2014-05-31    21  288.320  302.953571  313.78\n",
       "2014-06-30    21  306.780  324.573333  335.20\n",
       "2014-07-31    22  312.990  339.919364  360.84\n",
       "2014-08-31    21  307.060  327.331905  343.18\n",
       "2014-09-30    21  321.820  330.311905  346.38"
      ]
     },
     "execution_count": 3,
     "metadata": {},
     "output_type": "execute_result"
    }
   ],
   "source": [
    "amzn.resample('M').agg({'close': ['size', 'min', 'mean', 'max']}).head(10)"
   ]
  },
  {
   "cell_type": "markdown",
   "metadata": {},
   "source": [
    "## Offset Aliases iframe\n",
    "The offset aliases are again embedded in the notebook as an iframe."
   ]
  },
  {
   "cell_type": "code",
   "execution_count": 4,
   "metadata": {},
   "outputs": [
    {
     "data": {
      "text/html": [
       "\n",
       "        <iframe\n",
       "            width=\"800\"\n",
       "            height=\"500\"\n",
       "            src=\"http://pandas.pydata.org/pandas-docs/stable/timeseries.html#offset-aliases\"\n",
       "            frameborder=\"0\"\n",
       "            allowfullscreen\n",
       "        ></iframe>\n",
       "        "
      ],
      "text/plain": [
       "<IPython.lib.display.IFrame at 0x7f29c4132588>"
      ]
     },
     "execution_count": 4,
     "metadata": {},
     "output_type": "execute_result"
    }
   ],
   "source": [
    "from IPython.display import IFrame\n",
    "IFrame('http://pandas.pydata.org/pandas-docs/stable/timeseries.html#offset-aliases', width=800, height=500)"
   ]
  },
  {
   "cell_type": "markdown",
   "metadata": {},
   "source": [
    "### Group by Quarter"
   ]
  },
  {
   "cell_type": "code",
   "execution_count": 5,
   "metadata": {},
   "outputs": [
    {
     "data": {
      "text/html": [
       "<div>\n",
       "<style scoped>\n",
       "    .dataframe tbody tr th:only-of-type {\n",
       "        vertical-align: middle;\n",
       "    }\n",
       "\n",
       "    .dataframe tbody tr th {\n",
       "        vertical-align: top;\n",
       "    }\n",
       "\n",
       "    .dataframe thead tr th {\n",
       "        text-align: left;\n",
       "    }\n",
       "\n",
       "    .dataframe thead tr:last-of-type th {\n",
       "        text-align: right;\n",
       "    }\n",
       "</style>\n",
       "<table border=\"1\" class=\"dataframe\">\n",
       "  <thead>\n",
       "    <tr>\n",
       "      <th></th>\n",
       "      <th colspan=\"4\" halign=\"left\">close</th>\n",
       "    </tr>\n",
       "    <tr>\n",
       "      <th></th>\n",
       "      <th>size</th>\n",
       "      <th>min</th>\n",
       "      <th>mean</th>\n",
       "      <th>max</th>\n",
       "    </tr>\n",
       "    <tr>\n",
       "      <th>date</th>\n",
       "      <th></th>\n",
       "      <th></th>\n",
       "      <th></th>\n",
       "      <th></th>\n",
       "    </tr>\n",
       "  </thead>\n",
       "  <tbody>\n",
       "    <tr>\n",
       "      <th>2013-12-31</th>\n",
       "      <td>6</td>\n",
       "      <td>393.370</td>\n",
       "      <td>399.458333</td>\n",
       "      <td>404.39</td>\n",
       "    </tr>\n",
       "    <tr>\n",
       "      <th>2014-03-31</th>\n",
       "      <td>61</td>\n",
       "      <td>336.365</td>\n",
       "      <td>371.143689</td>\n",
       "      <td>407.05</td>\n",
       "    </tr>\n",
       "    <tr>\n",
       "      <th>2014-06-30</th>\n",
       "      <td>63</td>\n",
       "      <td>288.320</td>\n",
       "      <td>316.389365</td>\n",
       "      <td>342.99</td>\n",
       "    </tr>\n",
       "    <tr>\n",
       "      <th>2014-09-30</th>\n",
       "      <td>64</td>\n",
       "      <td>307.060</td>\n",
       "      <td>332.636656</td>\n",
       "      <td>360.84</td>\n",
       "    </tr>\n",
       "    <tr>\n",
       "      <th>2014-12-31</th>\n",
       "      <td>64</td>\n",
       "      <td>287.060</td>\n",
       "      <td>311.590703</td>\n",
       "      <td>338.64</td>\n",
       "    </tr>\n",
       "  </tbody>\n",
       "</table>\n",
       "</div>"
      ],
      "text/plain": [
       "           close                             \n",
       "            size      min        mean     max\n",
       "date                                         \n",
       "2013-12-31     6  393.370  399.458333  404.39\n",
       "2014-03-31    61  336.365  371.143689  407.05\n",
       "2014-06-30    63  288.320  316.389365  342.99\n",
       "2014-09-30    64  307.060  332.636656  360.84\n",
       "2014-12-31    64  287.060  311.590703  338.64"
      ]
     },
     "execution_count": 5,
     "metadata": {},
     "output_type": "execute_result"
    }
   ],
   "source": [
    "amzn.resample('Q').agg({'close': ['size', 'min', 'mean', 'max']}).head()"
   ]
  },
  {
   "cell_type": "markdown",
   "metadata": {},
   "source": [
    "### Label as the entire Period\n",
    "Notice how the end date of both the month and day are used as the returned index labels for the time periods. We can change the index labels so that they show just the time period we are aggregating over by setting the `kind` parameter to 'period'."
   ]
  },
  {
   "cell_type": "code",
   "execution_count": 6,
   "metadata": {},
   "outputs": [
    {
     "data": {
      "text/html": [
       "<div>\n",
       "<style scoped>\n",
       "    .dataframe tbody tr th:only-of-type {\n",
       "        vertical-align: middle;\n",
       "    }\n",
       "\n",
       "    .dataframe tbody tr th {\n",
       "        vertical-align: top;\n",
       "    }\n",
       "\n",
       "    .dataframe thead tr th {\n",
       "        text-align: left;\n",
       "    }\n",
       "\n",
       "    .dataframe thead tr:last-of-type th {\n",
       "        text-align: right;\n",
       "    }\n",
       "</style>\n",
       "<table border=\"1\" class=\"dataframe\">\n",
       "  <thead>\n",
       "    <tr>\n",
       "      <th></th>\n",
       "      <th colspan=\"4\" halign=\"left\">close</th>\n",
       "    </tr>\n",
       "    <tr>\n",
       "      <th></th>\n",
       "      <th>size</th>\n",
       "      <th>min</th>\n",
       "      <th>mean</th>\n",
       "      <th>max</th>\n",
       "    </tr>\n",
       "    <tr>\n",
       "      <th>date</th>\n",
       "      <th></th>\n",
       "      <th></th>\n",
       "      <th></th>\n",
       "      <th></th>\n",
       "    </tr>\n",
       "  </thead>\n",
       "  <tbody>\n",
       "    <tr>\n",
       "      <th>2013Q4</th>\n",
       "      <td>6</td>\n",
       "      <td>393.370</td>\n",
       "      <td>399.458333</td>\n",
       "      <td>404.39</td>\n",
       "    </tr>\n",
       "    <tr>\n",
       "      <th>2014Q1</th>\n",
       "      <td>61</td>\n",
       "      <td>336.365</td>\n",
       "      <td>371.143689</td>\n",
       "      <td>407.05</td>\n",
       "    </tr>\n",
       "    <tr>\n",
       "      <th>2014Q2</th>\n",
       "      <td>63</td>\n",
       "      <td>288.320</td>\n",
       "      <td>316.389365</td>\n",
       "      <td>342.99</td>\n",
       "    </tr>\n",
       "    <tr>\n",
       "      <th>2014Q3</th>\n",
       "      <td>64</td>\n",
       "      <td>307.060</td>\n",
       "      <td>332.636656</td>\n",
       "      <td>360.84</td>\n",
       "    </tr>\n",
       "    <tr>\n",
       "      <th>2014Q4</th>\n",
       "      <td>64</td>\n",
       "      <td>287.060</td>\n",
       "      <td>311.590703</td>\n",
       "      <td>338.64</td>\n",
       "    </tr>\n",
       "    <tr>\n",
       "      <th>2015Q1</th>\n",
       "      <td>61</td>\n",
       "      <td>286.950</td>\n",
       "      <td>351.658361</td>\n",
       "      <td>387.83</td>\n",
       "    </tr>\n",
       "    <tr>\n",
       "      <th>2015Q2</th>\n",
       "      <td>63</td>\n",
       "      <td>370.255</td>\n",
       "      <td>418.003254</td>\n",
       "      <td>445.99</td>\n",
       "    </tr>\n",
       "    <tr>\n",
       "      <th>2015Q3</th>\n",
       "      <td>64</td>\n",
       "      <td>429.700</td>\n",
       "      <td>505.616094</td>\n",
       "      <td>548.39</td>\n",
       "    </tr>\n",
       "    <tr>\n",
       "      <th>2015Q4</th>\n",
       "      <td>64</td>\n",
       "      <td>520.720</td>\n",
       "      <td>630.406719</td>\n",
       "      <td>693.97</td>\n",
       "    </tr>\n",
       "    <tr>\n",
       "      <th>2016Q1</th>\n",
       "      <td>61</td>\n",
       "      <td>482.070</td>\n",
       "      <td>567.619672</td>\n",
       "      <td>636.99</td>\n",
       "    </tr>\n",
       "    <tr>\n",
       "      <th>2016Q2</th>\n",
       "      <td>64</td>\n",
       "      <td>586.140</td>\n",
       "      <td>676.453438</td>\n",
       "      <td>728.24</td>\n",
       "    </tr>\n",
       "    <tr>\n",
       "      <th>2016Q3</th>\n",
       "      <td>64</td>\n",
       "      <td>725.680</td>\n",
       "      <td>765.451875</td>\n",
       "      <td>837.31</td>\n",
       "    </tr>\n",
       "    <tr>\n",
       "      <th>2016Q4</th>\n",
       "      <td>63</td>\n",
       "      <td>719.070</td>\n",
       "      <td>783.699841</td>\n",
       "      <td>844.36</td>\n",
       "    </tr>\n",
       "    <tr>\n",
       "      <th>2017Q1</th>\n",
       "      <td>62</td>\n",
       "      <td>753.670</td>\n",
       "      <td>833.496452</td>\n",
       "      <td>886.54</td>\n",
       "    </tr>\n",
       "    <tr>\n",
       "      <th>2017Q2</th>\n",
       "      <td>63</td>\n",
       "      <td>884.670</td>\n",
       "      <td>954.157619</td>\n",
       "      <td>1011.34</td>\n",
       "    </tr>\n",
       "    <tr>\n",
       "      <th>2017Q3</th>\n",
       "      <td>63</td>\n",
       "      <td>938.600</td>\n",
       "      <td>982.421746</td>\n",
       "      <td>1052.80</td>\n",
       "    </tr>\n",
       "    <tr>\n",
       "      <th>2017Q4</th>\n",
       "      <td>63</td>\n",
       "      <td>957.100</td>\n",
       "      <td>1100.454603</td>\n",
       "      <td>1195.83</td>\n",
       "    </tr>\n",
       "    <tr>\n",
       "      <th>2018Q1</th>\n",
       "      <td>61</td>\n",
       "      <td>1189.010</td>\n",
       "      <td>1430.194262</td>\n",
       "      <td>1598.39</td>\n",
       "    </tr>\n",
       "    <tr>\n",
       "      <th>2018Q2</th>\n",
       "      <td>64</td>\n",
       "      <td>1371.990</td>\n",
       "      <td>1587.434531</td>\n",
       "      <td>1750.08</td>\n",
       "    </tr>\n",
       "    <tr>\n",
       "      <th>2018Q3</th>\n",
       "      <td>63</td>\n",
       "      <td>1693.960</td>\n",
       "      <td>1880.693492</td>\n",
       "      <td>2039.51</td>\n",
       "    </tr>\n",
       "    <tr>\n",
       "      <th>2018Q4</th>\n",
       "      <td>58</td>\n",
       "      <td>1377.450</td>\n",
       "      <td>1680.955690</td>\n",
       "      <td>2004.36</td>\n",
       "    </tr>\n",
       "  </tbody>\n",
       "</table>\n",
       "</div>"
      ],
      "text/plain": [
       "       close                                \n",
       "        size       min         mean      max\n",
       "date                                        \n",
       "2013Q4     6   393.370   399.458333   404.39\n",
       "2014Q1    61   336.365   371.143689   407.05\n",
       "2014Q2    63   288.320   316.389365   342.99\n",
       "2014Q3    64   307.060   332.636656   360.84\n",
       "2014Q4    64   287.060   311.590703   338.64\n",
       "2015Q1    61   286.950   351.658361   387.83\n",
       "2015Q2    63   370.255   418.003254   445.99\n",
       "2015Q3    64   429.700   505.616094   548.39\n",
       "2015Q4    64   520.720   630.406719   693.97\n",
       "2016Q1    61   482.070   567.619672   636.99\n",
       "2016Q2    64   586.140   676.453438   728.24\n",
       "2016Q3    64   725.680   765.451875   837.31\n",
       "2016Q4    63   719.070   783.699841   844.36\n",
       "2017Q1    62   753.670   833.496452   886.54\n",
       "2017Q2    63   884.670   954.157619  1011.34\n",
       "2017Q3    63   938.600   982.421746  1052.80\n",
       "2017Q4    63   957.100  1100.454603  1195.83\n",
       "2018Q1    61  1189.010  1430.194262  1598.39\n",
       "2018Q2    64  1371.990  1587.434531  1750.08\n",
       "2018Q3    63  1693.960  1880.693492  2039.51\n",
       "2018Q4    58  1377.450  1680.955690  2004.36"
      ]
     },
     "execution_count": 6,
     "metadata": {},
     "output_type": "execute_result"
    }
   ],
   "source": [
    "amzn_period = amzn.resample('Q', kind='period').agg({'close': ['size', 'min', 'mean', 'max']})\n",
    "amzn_period"
   ]
  },
  {
   "cell_type": "markdown",
   "metadata": {},
   "source": [
    "## The PeriodIndex\n",
    "We no longer have a DatetimeIndex. Pandas has a completely separate type of object for this called the **PeriodIndex**. The index label '2016Q1' refers to the entire period of the first quarter of 2016. Let's inspect the index to see the new type."
   ]
  },
  {
   "cell_type": "code",
   "execution_count": 7,
   "metadata": {},
   "outputs": [
    {
     "data": {
      "text/plain": [
       "PeriodIndex(['2013Q4', '2014Q1', '2014Q2', '2014Q3', '2014Q4', '2015Q1',\n",
       "             '2015Q2', '2015Q3', '2015Q4', '2016Q1', '2016Q2', '2016Q3',\n",
       "             '2016Q4', '2017Q1', '2017Q2', '2017Q3', '2017Q4', '2018Q1',\n",
       "             '2018Q2', '2018Q3', '2018Q4'],\n",
       "            dtype='period[Q-DEC]', name='date', freq='Q-DEC')"
      ]
     },
     "execution_count": 7,
     "metadata": {},
     "output_type": "execute_result"
    }
   ],
   "source": [
    "amzn_period.index"
   ]
  },
  {
   "cell_type": "markdown",
   "metadata": {},
   "source": [
    "## The Period data type\n",
    "Pandas also has a completely separate data type called a **Period** to represent **columns** of data in a DataFrmae that are specific **periods of time**. This is directly analagous to the PeriodIndex, but for DataFrame columns. Examples of a Period are the entire month of June 2014, or the entire 15 minute period from June 12, 2014 5:15 to June 12, 2014 5:30.\n",
    "\n",
    "### Convert a datetime column to a Period\n",
    "We can use the `to_period` available with the `dt` accessor to convert datetimes to Period data types. You must pass it an offset alias to denote the length of the time period. Let's convert the `date` column in the weather dataset to a monthly Period column ."
   ]
  },
  {
   "cell_type": "code",
   "execution_count": 8,
   "metadata": {},
   "outputs": [
    {
     "data": {
      "text/html": [
       "<div>\n",
       "<style scoped>\n",
       "    .dataframe tbody tr th:only-of-type {\n",
       "        vertical-align: middle;\n",
       "    }\n",
       "\n",
       "    .dataframe tbody tr th {\n",
       "        vertical-align: top;\n",
       "    }\n",
       "\n",
       "    .dataframe thead th {\n",
       "        text-align: right;\n",
       "    }\n",
       "</style>\n",
       "<table border=\"1\" class=\"dataframe\">\n",
       "  <thead>\n",
       "    <tr style=\"text-align: right;\">\n",
       "      <th></th>\n",
       "      <th>date</th>\n",
       "      <th>rain</th>\n",
       "      <th>snow</th>\n",
       "      <th>temperature</th>\n",
       "    </tr>\n",
       "  </thead>\n",
       "  <tbody>\n",
       "    <tr>\n",
       "      <th>0</th>\n",
       "      <td>2007-01-01</td>\n",
       "      <td>Yes</td>\n",
       "      <td>No</td>\n",
       "      <td>68.0</td>\n",
       "    </tr>\n",
       "    <tr>\n",
       "      <th>1</th>\n",
       "      <td>2007-01-02</td>\n",
       "      <td>No</td>\n",
       "      <td>No</td>\n",
       "      <td>55.9</td>\n",
       "    </tr>\n",
       "    <tr>\n",
       "      <th>2</th>\n",
       "      <td>2007-01-03</td>\n",
       "      <td>No</td>\n",
       "      <td>No</td>\n",
       "      <td>62.1</td>\n",
       "    </tr>\n",
       "    <tr>\n",
       "      <th>3</th>\n",
       "      <td>2007-01-04</td>\n",
       "      <td>No</td>\n",
       "      <td>No</td>\n",
       "      <td>69.1</td>\n",
       "    </tr>\n",
       "    <tr>\n",
       "      <th>4</th>\n",
       "      <td>2007-01-05</td>\n",
       "      <td>Yes</td>\n",
       "      <td>No</td>\n",
       "      <td>72.0</td>\n",
       "    </tr>\n",
       "  </tbody>\n",
       "</table>\n",
       "</div>"
      ],
      "text/plain": [
       "        date rain snow  temperature\n",
       "0 2007-01-01  Yes   No         68.0\n",
       "1 2007-01-02   No   No         55.9\n",
       "2 2007-01-03   No   No         62.1\n",
       "3 2007-01-04   No   No         69.1\n",
       "4 2007-01-05  Yes   No         72.0"
      ]
     },
     "execution_count": 8,
     "metadata": {},
     "output_type": "execute_result"
    }
   ],
   "source": [
    "weather = pd.read_csv('../data/weather.csv', parse_dates=['date'])\n",
    "weather.head()"
   ]
  },
  {
   "cell_type": "markdown",
   "metadata": {},
   "source": [
    "Let's make the conversion from datetime to period and assign the result as a new column in the DataFrame."
   ]
  },
  {
   "cell_type": "code",
   "execution_count": 9,
   "metadata": {},
   "outputs": [
    {
     "data": {
      "text/html": [
       "<div>\n",
       "<style scoped>\n",
       "    .dataframe tbody tr th:only-of-type {\n",
       "        vertical-align: middle;\n",
       "    }\n",
       "\n",
       "    .dataframe tbody tr th {\n",
       "        vertical-align: top;\n",
       "    }\n",
       "\n",
       "    .dataframe thead th {\n",
       "        text-align: right;\n",
       "    }\n",
       "</style>\n",
       "<table border=\"1\" class=\"dataframe\">\n",
       "  <thead>\n",
       "    <tr style=\"text-align: right;\">\n",
       "      <th></th>\n",
       "      <th>date</th>\n",
       "      <th>rain</th>\n",
       "      <th>snow</th>\n",
       "      <th>temperature</th>\n",
       "      <th>date_period</th>\n",
       "    </tr>\n",
       "  </thead>\n",
       "  <tbody>\n",
       "    <tr>\n",
       "      <th>0</th>\n",
       "      <td>2007-01-01</td>\n",
       "      <td>Yes</td>\n",
       "      <td>No</td>\n",
       "      <td>68.0</td>\n",
       "      <td>2007-01</td>\n",
       "    </tr>\n",
       "    <tr>\n",
       "      <th>1</th>\n",
       "      <td>2007-01-02</td>\n",
       "      <td>No</td>\n",
       "      <td>No</td>\n",
       "      <td>55.9</td>\n",
       "      <td>2007-01</td>\n",
       "    </tr>\n",
       "    <tr>\n",
       "      <th>2</th>\n",
       "      <td>2007-01-03</td>\n",
       "      <td>No</td>\n",
       "      <td>No</td>\n",
       "      <td>62.1</td>\n",
       "      <td>2007-01</td>\n",
       "    </tr>\n",
       "    <tr>\n",
       "      <th>3</th>\n",
       "      <td>2007-01-04</td>\n",
       "      <td>No</td>\n",
       "      <td>No</td>\n",
       "      <td>69.1</td>\n",
       "      <td>2007-01</td>\n",
       "    </tr>\n",
       "    <tr>\n",
       "      <th>4</th>\n",
       "      <td>2007-01-05</td>\n",
       "      <td>Yes</td>\n",
       "      <td>No</td>\n",
       "      <td>72.0</td>\n",
       "      <td>2007-01</td>\n",
       "    </tr>\n",
       "  </tbody>\n",
       "</table>\n",
       "</div>"
      ],
      "text/plain": [
       "        date rain snow  temperature date_period\n",
       "0 2007-01-01  Yes   No         68.0     2007-01\n",
       "1 2007-01-02   No   No         55.9     2007-01\n",
       "2 2007-01-03   No   No         62.1     2007-01\n",
       "3 2007-01-04   No   No         69.1     2007-01\n",
       "4 2007-01-05  Yes   No         72.0     2007-01"
      ]
     },
     "execution_count": 9,
     "metadata": {},
     "output_type": "execute_result"
    }
   ],
   "source": [
    "date = weather['date']\n",
    "weather['date_period'] = weather['date'].dt.to_period('M')\n",
    "weather.head()"
   ]
  },
  {
   "cell_type": "markdown",
   "metadata": {},
   "source": [
    "### Why is the data type \"object\"?\n",
    "Unfortunately, Pandas doesn't explicitly label the Period object as such when outputting the data types. But if we inspect each individual element, you will see that they are indeed Period objects."
   ]
  },
  {
   "cell_type": "code",
   "execution_count": 10,
   "metadata": {},
   "outputs": [
    {
     "data": {
      "text/plain": [
       "date           datetime64[ns]\n",
       "rain                   object\n",
       "snow                   object\n",
       "temperature           float64\n",
       "date_period            object\n",
       "dtype: object"
      ]
     },
     "execution_count": 10,
     "metadata": {},
     "output_type": "execute_result"
    }
   ],
   "source": [
    "weather.dtypes"
   ]
  },
  {
   "cell_type": "markdown",
   "metadata": {},
   "source": [
    "Inspecting each individual element."
   ]
  },
  {
   "cell_type": "code",
   "execution_count": 11,
   "metadata": {},
   "outputs": [
    {
     "data": {
      "text/plain": [
       "Period('2007-01', 'M')"
      ]
     },
     "execution_count": 11,
     "metadata": {},
     "output_type": "execute_result"
    }
   ],
   "source": [
    "weather.loc[0, 'date_period']"
   ]
  },
  {
   "cell_type": "markdown",
   "metadata": {},
   "source": [
    "### The `dt` accessor works for Period columns\n",
    "Even though it is technically labeled as object, Pandas still has attributes and methods specific to periods."
   ]
  },
  {
   "cell_type": "code",
   "execution_count": 12,
   "metadata": {},
   "outputs": [
    {
     "data": {
      "text/plain": [
       "0    1\n",
       "1    1\n",
       "2    1\n",
       "3    1\n",
       "4    1\n",
       "Name: date_period, dtype: int64"
      ]
     },
     "execution_count": 12,
     "metadata": {},
     "output_type": "execute_result"
    }
   ],
   "source": [
    "weather['date_period'].dt.month.head()"
   ]
  },
  {
   "cell_type": "code",
   "execution_count": 13,
   "metadata": {},
   "outputs": [
    {
     "data": {
      "text/plain": [
       "0    1\n",
       "1    1\n",
       "2    1\n",
       "3    1\n",
       "4    1\n",
       "Name: date_period, dtype: int64"
      ]
     },
     "execution_count": 13,
     "metadata": {},
     "output_type": "execute_result"
    }
   ],
   "source": [
    "weather['date_period'].dt.month.head()"
   ]
  },
  {
   "cell_type": "code",
   "execution_count": 14,
   "metadata": {},
   "outputs": [
    {
     "data": {
      "text/plain": [
       "<MonthEnd>"
      ]
     },
     "execution_count": 14,
     "metadata": {},
     "output_type": "execute_result"
    }
   ],
   "source": [
    "# Return the span of time\n",
    "weather['date_period'].dt.freq"
   ]
  },
  {
   "cell_type": "markdown",
   "metadata": {},
   "source": [
    "# Anchored offsets\n",
    "By default, when grouping by week, Pandas chooses to end the week on Sunday. Let's verify this by grouping by week and taking the resulting index label and determining its weekday name."
   ]
  },
  {
   "cell_type": "code",
   "execution_count": 15,
   "metadata": {},
   "outputs": [
    {
     "data": {
      "text/html": [
       "<div>\n",
       "<style scoped>\n",
       "    .dataframe tbody tr th:only-of-type {\n",
       "        vertical-align: middle;\n",
       "    }\n",
       "\n",
       "    .dataframe tbody tr th {\n",
       "        vertical-align: top;\n",
       "    }\n",
       "\n",
       "    .dataframe thead tr th {\n",
       "        text-align: left;\n",
       "    }\n",
       "\n",
       "    .dataframe thead tr:last-of-type th {\n",
       "        text-align: right;\n",
       "    }\n",
       "</style>\n",
       "<table border=\"1\" class=\"dataframe\">\n",
       "  <thead>\n",
       "    <tr>\n",
       "      <th></th>\n",
       "      <th colspan=\"4\" halign=\"left\">close</th>\n",
       "    </tr>\n",
       "    <tr>\n",
       "      <th></th>\n",
       "      <th>size</th>\n",
       "      <th>min</th>\n",
       "      <th>mean</th>\n",
       "      <th>max</th>\n",
       "    </tr>\n",
       "    <tr>\n",
       "      <th>date</th>\n",
       "      <th></th>\n",
       "      <th></th>\n",
       "      <th></th>\n",
       "      <th></th>\n",
       "    </tr>\n",
       "  </thead>\n",
       "  <tbody>\n",
       "    <tr>\n",
       "      <th>2013-12-29</th>\n",
       "      <td>4</td>\n",
       "      <td>398.08</td>\n",
       "      <td>401.1475</td>\n",
       "      <td>404.39</td>\n",
       "    </tr>\n",
       "    <tr>\n",
       "      <th>2014-01-05</th>\n",
       "      <td>4</td>\n",
       "      <td>393.37</td>\n",
       "      <td>396.6425</td>\n",
       "      <td>398.79</td>\n",
       "    </tr>\n",
       "    <tr>\n",
       "      <th>2014-01-12</th>\n",
       "      <td>5</td>\n",
       "      <td>393.63</td>\n",
       "      <td>398.4500</td>\n",
       "      <td>401.92</td>\n",
       "    </tr>\n",
       "    <tr>\n",
       "      <th>2014-01-19</th>\n",
       "      <td>5</td>\n",
       "      <td>390.98</td>\n",
       "      <td>395.9600</td>\n",
       "      <td>399.61</td>\n",
       "    </tr>\n",
       "    <tr>\n",
       "      <th>2014-01-26</th>\n",
       "      <td>4</td>\n",
       "      <td>387.60</td>\n",
       "      <td>399.7650</td>\n",
       "      <td>407.05</td>\n",
       "    </tr>\n",
       "  </tbody>\n",
       "</table>\n",
       "</div>"
      ],
      "text/plain": [
       "           close                          \n",
       "            size     min      mean     max\n",
       "date                                      \n",
       "2013-12-29     4  398.08  401.1475  404.39\n",
       "2014-01-05     4  393.37  396.6425  398.79\n",
       "2014-01-12     5  393.63  398.4500  401.92\n",
       "2014-01-19     5  390.98  395.9600  399.61\n",
       "2014-01-26     4  387.60  399.7650  407.05"
      ]
     },
     "execution_count": 15,
     "metadata": {},
     "output_type": "execute_result"
    }
   ],
   "source": [
    "week_mean = amzn.resample('W').agg({'close': ['size', 'min', 'mean', 'max']})\n",
    "week_mean.head()"
   ]
  },
  {
   "cell_type": "code",
   "execution_count": 16,
   "metadata": {},
   "outputs": [
    {
     "data": {
      "text/plain": [
       "'Sunday'"
      ]
     },
     "execution_count": 16,
     "metadata": {},
     "output_type": "execute_result"
    }
   ],
   "source": [
    "week_mean.index[0].day_name()"
   ]
  },
  {
   "cell_type": "markdown",
   "metadata": {},
   "source": [
    "### Anchor by a different day\n",
    "You can anchor the week to any day you choose by appending a dash and then the first the letters of the day of the week. Let's anchor the week to Wednesday."
   ]
  },
  {
   "cell_type": "code",
   "execution_count": 17,
   "metadata": {},
   "outputs": [
    {
     "data": {
      "text/html": [
       "<div>\n",
       "<style scoped>\n",
       "    .dataframe tbody tr th:only-of-type {\n",
       "        vertical-align: middle;\n",
       "    }\n",
       "\n",
       "    .dataframe tbody tr th {\n",
       "        vertical-align: top;\n",
       "    }\n",
       "\n",
       "    .dataframe thead tr th {\n",
       "        text-align: left;\n",
       "    }\n",
       "\n",
       "    .dataframe thead tr:last-of-type th {\n",
       "        text-align: right;\n",
       "    }\n",
       "</style>\n",
       "<table border=\"1\" class=\"dataframe\">\n",
       "  <thead>\n",
       "    <tr>\n",
       "      <th></th>\n",
       "      <th colspan=\"4\" halign=\"left\">close</th>\n",
       "    </tr>\n",
       "    <tr>\n",
       "      <th></th>\n",
       "      <th>size</th>\n",
       "      <th>min</th>\n",
       "      <th>mean</th>\n",
       "      <th>max</th>\n",
       "    </tr>\n",
       "    <tr>\n",
       "      <th>date</th>\n",
       "      <th></th>\n",
       "      <th></th>\n",
       "      <th></th>\n",
       "      <th></th>\n",
       "    </tr>\n",
       "  </thead>\n",
       "  <tbody>\n",
       "    <tr>\n",
       "      <th>2013-12-25</th>\n",
       "      <td>2</td>\n",
       "      <td>399.20</td>\n",
       "      <td>401.0600</td>\n",
       "      <td>402.92</td>\n",
       "    </tr>\n",
       "    <tr>\n",
       "      <th>2014-01-01</th>\n",
       "      <td>4</td>\n",
       "      <td>393.37</td>\n",
       "      <td>398.6575</td>\n",
       "      <td>404.39</td>\n",
       "    </tr>\n",
       "    <tr>\n",
       "      <th>2014-01-08</th>\n",
       "      <td>5</td>\n",
       "      <td>393.63</td>\n",
       "      <td>397.5980</td>\n",
       "      <td>401.92</td>\n",
       "    </tr>\n",
       "    <tr>\n",
       "      <th>2014-01-15</th>\n",
       "      <td>5</td>\n",
       "      <td>390.98</td>\n",
       "      <td>396.6120</td>\n",
       "      <td>401.01</td>\n",
       "    </tr>\n",
       "    <tr>\n",
       "      <th>2014-01-22</th>\n",
       "      <td>4</td>\n",
       "      <td>395.80</td>\n",
       "      <td>401.7500</td>\n",
       "      <td>407.05</td>\n",
       "    </tr>\n",
       "  </tbody>\n",
       "</table>\n",
       "</div>"
      ],
      "text/plain": [
       "           close                          \n",
       "            size     min      mean     max\n",
       "date                                      \n",
       "2013-12-25     2  399.20  401.0600  402.92\n",
       "2014-01-01     4  393.37  398.6575  404.39\n",
       "2014-01-08     5  393.63  397.5980  401.92\n",
       "2014-01-15     5  390.98  396.6120  401.01\n",
       "2014-01-22     4  395.80  401.7500  407.05"
      ]
     },
     "execution_count": 17,
     "metadata": {},
     "output_type": "execute_result"
    }
   ],
   "source": [
    "amzn.resample('W-WED').agg({'close': ['size', 'min', 'mean', 'max']}).head()"
   ]
  },
  {
   "cell_type": "markdown",
   "metadata": {},
   "source": [
    "### Longer intervals of time with numbers appended to offset aliases\n",
    "We can actually add more details to our offset aliases by using a number to specify an amount of that particular offset alias. For instance, **`5M`** will group in 5 month intervals."
   ]
  },
  {
   "cell_type": "code",
   "execution_count": 18,
   "metadata": {},
   "outputs": [
    {
     "data": {
      "text/html": [
       "<div>\n",
       "<style scoped>\n",
       "    .dataframe tbody tr th:only-of-type {\n",
       "        vertical-align: middle;\n",
       "    }\n",
       "\n",
       "    .dataframe tbody tr th {\n",
       "        vertical-align: top;\n",
       "    }\n",
       "\n",
       "    .dataframe thead tr th {\n",
       "        text-align: left;\n",
       "    }\n",
       "\n",
       "    .dataframe thead tr:last-of-type th {\n",
       "        text-align: right;\n",
       "    }\n",
       "</style>\n",
       "<table border=\"1\" class=\"dataframe\">\n",
       "  <thead>\n",
       "    <tr>\n",
       "      <th></th>\n",
       "      <th colspan=\"4\" halign=\"left\">close</th>\n",
       "    </tr>\n",
       "    <tr>\n",
       "      <th></th>\n",
       "      <th>size</th>\n",
       "      <th>min</th>\n",
       "      <th>mean</th>\n",
       "      <th>max</th>\n",
       "    </tr>\n",
       "    <tr>\n",
       "      <th>date</th>\n",
       "      <th></th>\n",
       "      <th></th>\n",
       "      <th></th>\n",
       "      <th></th>\n",
       "    </tr>\n",
       "  </thead>\n",
       "  <tbody>\n",
       "    <tr>\n",
       "      <th>2013-12-31</th>\n",
       "      <td>6</td>\n",
       "      <td>393.370</td>\n",
       "      <td>399.458333</td>\n",
       "      <td>404.39</td>\n",
       "    </tr>\n",
       "    <tr>\n",
       "      <th>2014-05-31</th>\n",
       "      <td>103</td>\n",
       "      <td>288.320</td>\n",
       "      <td>347.148107</td>\n",
       "      <td>407.05</td>\n",
       "    </tr>\n",
       "    <tr>\n",
       "      <th>2014-10-31</th>\n",
       "      <td>108</td>\n",
       "      <td>287.060</td>\n",
       "      <td>325.909500</td>\n",
       "      <td>360.84</td>\n",
       "    </tr>\n",
       "    <tr>\n",
       "      <th>2015-03-31</th>\n",
       "      <td>102</td>\n",
       "      <td>286.950</td>\n",
       "      <td>336.269853</td>\n",
       "      <td>387.83</td>\n",
       "    </tr>\n",
       "    <tr>\n",
       "      <th>2015-08-31</th>\n",
       "      <td>106</td>\n",
       "      <td>370.255</td>\n",
       "      <td>450.505330</td>\n",
       "      <td>537.01</td>\n",
       "    </tr>\n",
       "  </tbody>\n",
       "</table>\n",
       "</div>"
      ],
      "text/plain": [
       "           close                             \n",
       "            size      min        mean     max\n",
       "date                                         \n",
       "2013-12-31     6  393.370  399.458333  404.39\n",
       "2014-05-31   103  288.320  347.148107  407.05\n",
       "2014-10-31   108  287.060  325.909500  360.84\n",
       "2015-03-31   102  286.950  336.269853  387.83\n",
       "2015-08-31   106  370.255  450.505330  537.01"
      ]
     },
     "execution_count": 18,
     "metadata": {},
     "output_type": "execute_result"
    }
   ],
   "source": [
    "amzn.resample('5M').agg({'close': ['size', 'min', 'mean', 'max']}).head()"
   ]
  },
  {
   "cell_type": "markdown",
   "metadata": {},
   "source": [
    "Group by every 22 weeks anchored to Thursday."
   ]
  },
  {
   "cell_type": "code",
   "execution_count": 19,
   "metadata": {},
   "outputs": [
    {
     "data": {
      "text/html": [
       "<div>\n",
       "<style scoped>\n",
       "    .dataframe tbody tr th:only-of-type {\n",
       "        vertical-align: middle;\n",
       "    }\n",
       "\n",
       "    .dataframe tbody tr th {\n",
       "        vertical-align: top;\n",
       "    }\n",
       "\n",
       "    .dataframe thead tr th {\n",
       "        text-align: left;\n",
       "    }\n",
       "\n",
       "    .dataframe thead tr:last-of-type th {\n",
       "        text-align: right;\n",
       "    }\n",
       "</style>\n",
       "<table border=\"1\" class=\"dataframe\">\n",
       "  <thead>\n",
       "    <tr>\n",
       "      <th></th>\n",
       "      <th colspan=\"4\" halign=\"left\">close</th>\n",
       "    </tr>\n",
       "    <tr>\n",
       "      <th></th>\n",
       "      <th>size</th>\n",
       "      <th>min</th>\n",
       "      <th>mean</th>\n",
       "      <th>max</th>\n",
       "    </tr>\n",
       "    <tr>\n",
       "      <th>date</th>\n",
       "      <th></th>\n",
       "      <th></th>\n",
       "      <th></th>\n",
       "      <th></th>\n",
       "    </tr>\n",
       "  </thead>\n",
       "  <tbody>\n",
       "    <tr>\n",
       "      <th>2013-12-26</th>\n",
       "      <td>3</td>\n",
       "      <td>399.20</td>\n",
       "      <td>402.170000</td>\n",
       "      <td>404.39</td>\n",
       "    </tr>\n",
       "    <tr>\n",
       "      <th>2014-05-29</th>\n",
       "      <td>105</td>\n",
       "      <td>288.32</td>\n",
       "      <td>348.894714</td>\n",
       "      <td>407.05</td>\n",
       "    </tr>\n",
       "    <tr>\n",
       "      <th>2014-10-30</th>\n",
       "      <td>108</td>\n",
       "      <td>287.06</td>\n",
       "      <td>325.975148</td>\n",
       "      <td>360.84</td>\n",
       "    </tr>\n",
       "    <tr>\n",
       "      <th>2015-04-02</th>\n",
       "      <td>105</td>\n",
       "      <td>286.95</td>\n",
       "      <td>336.642762</td>\n",
       "      <td>387.83</td>\n",
       "    </tr>\n",
       "    <tr>\n",
       "      <th>2015-09-03</th>\n",
       "      <td>107</td>\n",
       "      <td>374.41</td>\n",
       "      <td>453.484766</td>\n",
       "      <td>537.01</td>\n",
       "    </tr>\n",
       "  </tbody>\n",
       "</table>\n",
       "</div>"
      ],
      "text/plain": [
       "           close                            \n",
       "            size     min        mean     max\n",
       "date                                        \n",
       "2013-12-26     3  399.20  402.170000  404.39\n",
       "2014-05-29   105  288.32  348.894714  407.05\n",
       "2014-10-30   108  287.06  325.975148  360.84\n",
       "2015-04-02   105  286.95  336.642762  387.83\n",
       "2015-09-03   107  374.41  453.484766  537.01"
      ]
     },
     "execution_count": 19,
     "metadata": {},
     "output_type": "execute_result"
    }
   ],
   "source": [
    "amzn.resample('22W-THU').agg({'close': ['size', 'min', 'mean', 'max']}).head()"
   ]
  },
  {
   "cell_type": "markdown",
   "metadata": {},
   "source": [
    "# Calling `resample` on a datetime column\n",
    "The `resample` method can still work without a Datetimeindex. If there is a column that is of the datetime data type, you can use the `on` parameter to specificy that column. Let's reset the index and then call `resample` on that DataFrame."
   ]
  },
  {
   "cell_type": "code",
   "execution_count": 20,
   "metadata": {},
   "outputs": [
    {
     "data": {
      "text/html": [
       "<div>\n",
       "<style scoped>\n",
       "    .dataframe tbody tr th:only-of-type {\n",
       "        vertical-align: middle;\n",
       "    }\n",
       "\n",
       "    .dataframe tbody tr th {\n",
       "        vertical-align: top;\n",
       "    }\n",
       "\n",
       "    .dataframe thead th {\n",
       "        text-align: right;\n",
       "    }\n",
       "</style>\n",
       "<table border=\"1\" class=\"dataframe\">\n",
       "  <thead>\n",
       "    <tr style=\"text-align: right;\">\n",
       "      <th></th>\n",
       "      <th>date</th>\n",
       "      <th>change</th>\n",
       "      <th>changeOverTime</th>\n",
       "      <th>changePercent</th>\n",
       "      <th>close</th>\n",
       "      <th>high</th>\n",
       "      <th>label</th>\n",
       "      <th>low</th>\n",
       "      <th>open</th>\n",
       "      <th>unadjustedVolume</th>\n",
       "      <th>volume</th>\n",
       "      <th>vwap</th>\n",
       "    </tr>\n",
       "  </thead>\n",
       "  <tbody>\n",
       "    <tr>\n",
       "      <th>0</th>\n",
       "      <td>2013-12-23</td>\n",
       "      <td>0.72</td>\n",
       "      <td>0.000000</td>\n",
       "      <td>0.179</td>\n",
       "      <td>402.92</td>\n",
       "      <td>405.0000</td>\n",
       "      <td>Dec 23, 13</td>\n",
       "      <td>399.20</td>\n",
       "      <td>403.69</td>\n",
       "      <td>2661823</td>\n",
       "      <td>2661823</td>\n",
       "      <td>402.2857</td>\n",
       "    </tr>\n",
       "    <tr>\n",
       "      <th>1</th>\n",
       "      <td>2013-12-24</td>\n",
       "      <td>-3.72</td>\n",
       "      <td>-0.009233</td>\n",
       "      <td>-0.923</td>\n",
       "      <td>399.20</td>\n",
       "      <td>403.7249</td>\n",
       "      <td>Dec 24, 13</td>\n",
       "      <td>396.37</td>\n",
       "      <td>402.52</td>\n",
       "      <td>1380373</td>\n",
       "      <td>1380373</td>\n",
       "      <td>399.4538</td>\n",
       "    </tr>\n",
       "    <tr>\n",
       "      <th>2</th>\n",
       "      <td>2013-12-26</td>\n",
       "      <td>5.19</td>\n",
       "      <td>0.003648</td>\n",
       "      <td>1.300</td>\n",
       "      <td>404.39</td>\n",
       "      <td>404.5200</td>\n",
       "      <td>Dec 26, 13</td>\n",
       "      <td>396.81</td>\n",
       "      <td>401.79</td>\n",
       "      <td>1871590</td>\n",
       "      <td>1871590</td>\n",
       "      <td>401.8815</td>\n",
       "    </tr>\n",
       "    <tr>\n",
       "      <th>3</th>\n",
       "      <td>2013-12-27</td>\n",
       "      <td>-6.31</td>\n",
       "      <td>-0.012012</td>\n",
       "      <td>-1.560</td>\n",
       "      <td>398.08</td>\n",
       "      <td>405.6300</td>\n",
       "      <td>Dec 27, 13</td>\n",
       "      <td>396.25</td>\n",
       "      <td>404.65</td>\n",
       "      <td>1987280</td>\n",
       "      <td>1987280</td>\n",
       "      <td>399.9122</td>\n",
       "    </tr>\n",
       "    <tr>\n",
       "      <th>4</th>\n",
       "      <td>2013-12-30</td>\n",
       "      <td>-4.71</td>\n",
       "      <td>-0.023702</td>\n",
       "      <td>-1.183</td>\n",
       "      <td>393.37</td>\n",
       "      <td>399.9200</td>\n",
       "      <td>Dec 30, 13</td>\n",
       "      <td>392.45</td>\n",
       "      <td>399.41</td>\n",
       "      <td>2487812</td>\n",
       "      <td>2487812</td>\n",
       "      <td>394.7291</td>\n",
       "    </tr>\n",
       "  </tbody>\n",
       "</table>\n",
       "</div>"
      ],
      "text/plain": [
       "        date  change  changeOverTime  changePercent   close      high  \\\n",
       "0 2013-12-23    0.72        0.000000          0.179  402.92  405.0000   \n",
       "1 2013-12-24   -3.72       -0.009233         -0.923  399.20  403.7249   \n",
       "2 2013-12-26    5.19        0.003648          1.300  404.39  404.5200   \n",
       "3 2013-12-27   -6.31       -0.012012         -1.560  398.08  405.6300   \n",
       "4 2013-12-30   -4.71       -0.023702         -1.183  393.37  399.9200   \n",
       "\n",
       "        label     low    open  unadjustedVolume   volume      vwap  \n",
       "0  Dec 23, 13  399.20  403.69           2661823  2661823  402.2857  \n",
       "1  Dec 24, 13  396.37  402.52           1380373  1380373  399.4538  \n",
       "2  Dec 26, 13  396.81  401.79           1871590  1871590  401.8815  \n",
       "3  Dec 27, 13  396.25  404.65           1987280  1987280  399.9122  \n",
       "4  Dec 30, 13  392.45  399.41           2487812  2487812  394.7291  "
      ]
     },
     "execution_count": 20,
     "metadata": {},
     "output_type": "execute_result"
    }
   ],
   "source": [
    "amzn_reset = amzn.reset_index()\n",
    "amzn_reset.head()"
   ]
  },
  {
   "cell_type": "markdown",
   "metadata": {},
   "source": [
    "The only difference is that we specify the grouping column with the `on` parameter. The result is the exact same."
   ]
  },
  {
   "cell_type": "code",
   "execution_count": 21,
   "metadata": {},
   "outputs": [
    {
     "data": {
      "text/html": [
       "<div>\n",
       "<style scoped>\n",
       "    .dataframe tbody tr th:only-of-type {\n",
       "        vertical-align: middle;\n",
       "    }\n",
       "\n",
       "    .dataframe tbody tr th {\n",
       "        vertical-align: top;\n",
       "    }\n",
       "\n",
       "    .dataframe thead tr th {\n",
       "        text-align: left;\n",
       "    }\n",
       "\n",
       "    .dataframe thead tr:last-of-type th {\n",
       "        text-align: right;\n",
       "    }\n",
       "</style>\n",
       "<table border=\"1\" class=\"dataframe\">\n",
       "  <thead>\n",
       "    <tr>\n",
       "      <th></th>\n",
       "      <th colspan=\"4\" halign=\"left\">close</th>\n",
       "    </tr>\n",
       "    <tr>\n",
       "      <th></th>\n",
       "      <th>size</th>\n",
       "      <th>min</th>\n",
       "      <th>mean</th>\n",
       "      <th>max</th>\n",
       "    </tr>\n",
       "    <tr>\n",
       "      <th>date</th>\n",
       "      <th></th>\n",
       "      <th></th>\n",
       "      <th></th>\n",
       "      <th></th>\n",
       "    </tr>\n",
       "  </thead>\n",
       "  <tbody>\n",
       "    <tr>\n",
       "      <th>2013-12-25</th>\n",
       "      <td>2</td>\n",
       "      <td>399.20</td>\n",
       "      <td>401.0600</td>\n",
       "      <td>402.92</td>\n",
       "    </tr>\n",
       "    <tr>\n",
       "      <th>2014-01-01</th>\n",
       "      <td>4</td>\n",
       "      <td>393.37</td>\n",
       "      <td>398.6575</td>\n",
       "      <td>404.39</td>\n",
       "    </tr>\n",
       "    <tr>\n",
       "      <th>2014-01-08</th>\n",
       "      <td>5</td>\n",
       "      <td>393.63</td>\n",
       "      <td>397.5980</td>\n",
       "      <td>401.92</td>\n",
       "    </tr>\n",
       "    <tr>\n",
       "      <th>2014-01-15</th>\n",
       "      <td>5</td>\n",
       "      <td>390.98</td>\n",
       "      <td>396.6120</td>\n",
       "      <td>401.01</td>\n",
       "    </tr>\n",
       "    <tr>\n",
       "      <th>2014-01-22</th>\n",
       "      <td>4</td>\n",
       "      <td>395.80</td>\n",
       "      <td>401.7500</td>\n",
       "      <td>407.05</td>\n",
       "    </tr>\n",
       "  </tbody>\n",
       "</table>\n",
       "</div>"
      ],
      "text/plain": [
       "           close                          \n",
       "            size     min      mean     max\n",
       "date                                      \n",
       "2013-12-25     2  399.20  401.0600  402.92\n",
       "2014-01-01     4  393.37  398.6575  404.39\n",
       "2014-01-08     5  393.63  397.5980  401.92\n",
       "2014-01-15     5  390.98  396.6120  401.01\n",
       "2014-01-22     4  395.80  401.7500  407.05"
      ]
     },
     "execution_count": 21,
     "metadata": {},
     "output_type": "execute_result"
    }
   ],
   "source": [
    "amzn_reset.resample('W-WED', on='date').agg({'close': ['size', 'min', 'mean', 'max']}).head()"
   ]
  },
  {
   "cell_type": "markdown",
   "metadata": {},
   "source": [
    "# Exercises"
   ]
  },
  {
   "cell_type": "markdown",
   "metadata": {},
   "source": [
    "## Problem 1\n",
    "<span  style=\"color:green; font-size:16px\">Read in stock data for Apple (AAPL) for the last 5 years. Set the date as the index and keep just the closing price and the volume columns.</span>"
   ]
  },
  {
   "cell_type": "code",
   "execution_count": 34,
   "metadata": {},
   "outputs": [
    {
     "data": {
      "text/html": [
       "<div>\n",
       "<style scoped>\n",
       "    .dataframe tbody tr th:only-of-type {\n",
       "        vertical-align: middle;\n",
       "    }\n",
       "\n",
       "    .dataframe tbody tr th {\n",
       "        vertical-align: top;\n",
       "    }\n",
       "\n",
       "    .dataframe thead th {\n",
       "        text-align: right;\n",
       "    }\n",
       "</style>\n",
       "<table border=\"1\" class=\"dataframe\">\n",
       "  <thead>\n",
       "    <tr style=\"text-align: right;\">\n",
       "      <th></th>\n",
       "      <th>close</th>\n",
       "      <th>volume</th>\n",
       "    </tr>\n",
       "    <tr>\n",
       "      <th>date</th>\n",
       "      <th></th>\n",
       "      <th></th>\n",
       "    </tr>\n",
       "  </thead>\n",
       "  <tbody>\n",
       "    <tr>\n",
       "      <th>2013-12-23</th>\n",
       "      <td>402.92</td>\n",
       "      <td>2661823</td>\n",
       "    </tr>\n",
       "    <tr>\n",
       "      <th>2013-12-24</th>\n",
       "      <td>399.20</td>\n",
       "      <td>1380373</td>\n",
       "    </tr>\n",
       "    <tr>\n",
       "      <th>2013-12-26</th>\n",
       "      <td>404.39</td>\n",
       "      <td>1871590</td>\n",
       "    </tr>\n",
       "    <tr>\n",
       "      <th>2013-12-27</th>\n",
       "      <td>398.08</td>\n",
       "      <td>1987280</td>\n",
       "    </tr>\n",
       "    <tr>\n",
       "      <th>2013-12-30</th>\n",
       "      <td>393.37</td>\n",
       "      <td>2487812</td>\n",
       "    </tr>\n",
       "  </tbody>\n",
       "</table>\n",
       "</div>"
      ],
      "text/plain": [
       "             close   volume\n",
       "date                       \n",
       "2013-12-23  402.92  2661823\n",
       "2013-12-24  399.20  1380373\n",
       "2013-12-26  404.39  1871590\n",
       "2013-12-27  398.08  1987280\n",
       "2013-12-30  393.37  2487812"
      ]
     },
     "execution_count": 34,
     "metadata": {},
     "output_type": "execute_result"
    }
   ],
   "source": [
    "cols = ['close', 'volume']\n",
    "df = amzn[cols]\n",
    "df.head()"
   ]
  },
  {
   "cell_type": "markdown",
   "metadata": {},
   "source": [
    "## Problem 2\n",
    "<span  style=\"color:green; font-size:16px\">In which week did AAPL have the greatest number of its shares traded?</span>"
   ]
  },
  {
   "cell_type": "code",
   "execution_count": 39,
   "metadata": {},
   "outputs": [
    {
     "data": {
      "text/plain": [
       "volume    52444626\n",
       "dtype: int64"
      ]
     },
     "execution_count": 39,
     "metadata": {},
     "output_type": "execute_result"
    }
   ],
   "source": [
    "vol = df.resample('W', kind='period').agg({'volume':'sum'})\n",
    "vol.max()"
   ]
  },
  {
   "cell_type": "code",
   "execution_count": 40,
   "metadata": {},
   "outputs": [
    {
     "data": {
      "text/plain": [
       "volume   2018-02-05/2018-02-11\n",
       "dtype: object"
      ]
     },
     "execution_count": 40,
     "metadata": {},
     "output_type": "execute_result"
    }
   ],
   "source": [
    "vol.idxmax()"
   ]
  },
  {
   "cell_type": "code",
   "execution_count": 44,
   "metadata": {},
   "outputs": [
    {
     "data": {
      "text/plain": [
       "volume   2018-02-05/2018-02-11\n",
       "dtype: object"
      ]
     },
     "execution_count": 44,
     "metadata": {},
     "output_type": "execute_result"
    }
   ],
   "source": [
    "#other way to do it\n",
    "df.resample('W', kind='period').agg({'volume':'sum'}).idxmax()"
   ]
  },
  {
   "cell_type": "markdown",
   "metadata": {},
   "source": [
    "## Problem 3\n",
    "<span  style=\"color:green; font-size:16px\">With help from the `diff` method, find the quarter containing the most number of up days.</span>"
   ]
  },
  {
   "cell_type": "code",
   "execution_count": 50,
   "metadata": {},
   "outputs": [],
   "source": [
    "up_days = df['close'].diff() > 0"
   ]
  },
  {
   "cell_type": "code",
   "execution_count": 51,
   "metadata": {},
   "outputs": [
    {
     "data": {
      "text/plain": [
       "date\n",
       "2013-12-23    False\n",
       "2013-12-24    False\n",
       "2013-12-26     True\n",
       "2013-12-27    False\n",
       "2013-12-30    False\n",
       "Name: close, dtype: bool"
      ]
     },
     "execution_count": 51,
     "metadata": {},
     "output_type": "execute_result"
    }
   ],
   "source": [
    "up_days.head()"
   ]
  },
  {
   "cell_type": "code",
   "execution_count": 64,
   "metadata": {},
   "outputs": [
    {
     "data": {
      "text/plain": [
       "date\n",
       "2013Q4     2.0\n",
       "2014Q1    27.0\n",
       "2014Q2    32.0\n",
       "2014Q3    37.0\n",
       "2014Q4    35.0\n",
       "Freq: Q-DEC, Name: close, dtype: float64"
      ]
     },
     "execution_count": 64,
     "metadata": {},
     "output_type": "execute_result"
    }
   ],
   "source": [
    "up_days.resample('Q', kind='period').sum().head()"
   ]
  },
  {
   "cell_type": "code",
   "execution_count": 65,
   "metadata": {},
   "outputs": [
    {
     "data": {
      "text/plain": [
       "Period('2016Q3', 'Q-DEC')"
      ]
     },
     "execution_count": 65,
     "metadata": {},
     "output_type": "execute_result"
    }
   ],
   "source": [
    "up_days.resample('Q', kind='period').sum().idxmax()"
   ]
  },
  {
   "cell_type": "markdown",
   "metadata": {},
   "source": [
    "## Problem 4\n",
    "<span  style=\"color:green; font-size:16px\">Find the mean price per year along with the minimum and maximum volume. Have the label for each row be the first day of the year.</span>"
   ]
  },
  {
   "cell_type": "code",
   "execution_count": 80,
   "metadata": {},
   "outputs": [
    {
     "data": {
      "text/html": [
       "<div>\n",
       "<style scoped>\n",
       "    .dataframe tbody tr th:only-of-type {\n",
       "        vertical-align: middle;\n",
       "    }\n",
       "\n",
       "    .dataframe tbody tr th {\n",
       "        vertical-align: top;\n",
       "    }\n",
       "\n",
       "    .dataframe thead tr th {\n",
       "        text-align: left;\n",
       "    }\n",
       "\n",
       "    .dataframe thead tr:last-of-type th {\n",
       "        text-align: right;\n",
       "    }\n",
       "</style>\n",
       "<table border=\"1\" class=\"dataframe\">\n",
       "  <thead>\n",
       "    <tr>\n",
       "      <th></th>\n",
       "      <th>close</th>\n",
       "      <th colspan=\"2\" halign=\"left\">volume</th>\n",
       "    </tr>\n",
       "    <tr>\n",
       "      <th></th>\n",
       "      <th>mean</th>\n",
       "      <th>min</th>\n",
       "      <th>max</th>\n",
       "    </tr>\n",
       "    <tr>\n",
       "      <th>date</th>\n",
       "      <th></th>\n",
       "      <th></th>\n",
       "      <th></th>\n",
       "    </tr>\n",
       "  </thead>\n",
       "  <tbody>\n",
       "    <tr>\n",
       "      <th>2013</th>\n",
       "      <td>399.458333</td>\n",
       "      <td>1380373</td>\n",
       "      <td>2661823</td>\n",
       "    </tr>\n",
       "    <tr>\n",
       "      <th>2014</th>\n",
       "      <td>332.550976</td>\n",
       "      <td>1518107</td>\n",
       "      <td>19805911</td>\n",
       "    </tr>\n",
       "    <tr>\n",
       "      <th>2015</th>\n",
       "      <td>478.138194</td>\n",
       "      <td>1092970</td>\n",
       "      <td>23856060</td>\n",
       "    </tr>\n",
       "    <tr>\n",
       "      <th>2016</th>\n",
       "      <td>699.523135</td>\n",
       "      <td>1458834</td>\n",
       "      <td>14677550</td>\n",
       "    </tr>\n",
       "    <tr>\n",
       "      <th>2017</th>\n",
       "      <td>968.167012</td>\n",
       "      <td>1585054</td>\n",
       "      <td>16565021</td>\n",
       "    </tr>\n",
       "    <tr>\n",
       "      <th>2018</th>\n",
       "      <td>1645.596667</td>\n",
       "      <td>2115639</td>\n",
       "      <td>14963783</td>\n",
       "    </tr>\n",
       "  </tbody>\n",
       "</table>\n",
       "</div>"
      ],
      "text/plain": [
       "            close   volume          \n",
       "             mean      min       max\n",
       "date                                \n",
       "2013   399.458333  1380373   2661823\n",
       "2014   332.550976  1518107  19805911\n",
       "2015   478.138194  1092970  23856060\n",
       "2016   699.523135  1458834  14677550\n",
       "2017   968.167012  1585054  16565021\n",
       "2018  1645.596667  2115639  14963783"
      ]
     },
     "execution_count": 80,
     "metadata": {},
     "output_type": "execute_result"
    }
   ],
   "source": [
    "df.resample('Y', kind='period').agg({'close':'mean','volume':['min','max']})"
   ]
  },
  {
   "cell_type": "markdown",
   "metadata": {},
   "source": [
    "## Problem 5\n",
    "<span  style=\"color:green; font-size:16px\">Execute the cell below exactly as it is to read in the employee dataset. Then use `to_datetime` to convert the hire date column into a datetime.</span>"
   ]
  },
  {
   "cell_type": "code",
   "execution_count": 84,
   "metadata": {},
   "outputs": [
    {
     "name": "stdout",
     "output_type": "stream",
     "text": [
      "<class 'pandas.core.frame.DataFrame'>\n",
      "RangeIndex: 1653 entries, 0 to 1652\n",
      "Data columns (total 6 columns):\n",
      "title        1653 non-null object\n",
      "dept         1653 non-null object\n",
      "salary       1551 non-null float64\n",
      "race         1633 non-null object\n",
      "gender       1653 non-null object\n",
      "hire_date    1653 non-null object\n",
      "dtypes: float64(1), object(5)\n",
      "memory usage: 77.6+ KB\n"
     ]
    }
   ],
   "source": [
    "# execute this as is\n",
    "emp = pd.read_csv('../data/employee.csv')\n",
    "emp.info()"
   ]
  },
  {
   "cell_type": "code",
   "execution_count": 85,
   "metadata": {},
   "outputs": [
    {
     "data": {
      "text/plain": [
       "0   2015-02-03\n",
       "1   1982-02-08\n",
       "2   1984-11-26\n",
       "3   2012-03-26\n",
       "4   2013-11-04\n",
       "Name: hire_date, dtype: datetime64[ns]"
      ]
     },
     "execution_count": 85,
     "metadata": {},
     "output_type": "execute_result"
    }
   ],
   "source": [
    "emp['hire_date'] = pd.to_datetime(emp['hire_date'])\n",
    "emp['hire_date'].head()"
   ]
  },
  {
   "cell_type": "code",
   "execution_count": 86,
   "metadata": {},
   "outputs": [
    {
     "name": "stdout",
     "output_type": "stream",
     "text": [
      "<class 'pandas.core.frame.DataFrame'>\n",
      "RangeIndex: 1653 entries, 0 to 1652\n",
      "Data columns (total 6 columns):\n",
      "title        1653 non-null object\n",
      "dept         1653 non-null object\n",
      "salary       1551 non-null float64\n",
      "race         1633 non-null object\n",
      "gender       1653 non-null object\n",
      "hire_date    1653 non-null datetime64[ns]\n",
      "dtypes: datetime64[ns](1), float64(1), object(4)\n",
      "memory usage: 77.6+ KB\n"
     ]
    }
   ],
   "source": [
    "emp.info()"
   ]
  },
  {
   "cell_type": "markdown",
   "metadata": {},
   "source": [
    "## Problem 6\n",
    "<span  style=\"color:green; font-size:16px\">Without putting `hire_date` into the index, find the mean salary based on `hire_date` over 5 year periods. Also return the number of salaries used in the mean calculation for each period.</span>"
   ]
  },
  {
   "cell_type": "code",
   "execution_count": 103,
   "metadata": {},
   "outputs": [
    {
     "data": {
      "text/html": [
       "<div>\n",
       "<style scoped>\n",
       "    .dataframe tbody tr th:only-of-type {\n",
       "        vertical-align: middle;\n",
       "    }\n",
       "\n",
       "    .dataframe tbody tr th {\n",
       "        vertical-align: top;\n",
       "    }\n",
       "\n",
       "    .dataframe thead tr th {\n",
       "        text-align: left;\n",
       "    }\n",
       "\n",
       "    .dataframe thead tr:last-of-type th {\n",
       "        text-align: right;\n",
       "    }\n",
       "</style>\n",
       "<table border=\"1\" class=\"dataframe\">\n",
       "  <thead>\n",
       "    <tr>\n",
       "      <th></th>\n",
       "      <th colspan=\"2\" halign=\"left\">salary</th>\n",
       "    </tr>\n",
       "    <tr>\n",
       "      <th></th>\n",
       "      <th>mean</th>\n",
       "      <th>count</th>\n",
       "    </tr>\n",
       "    <tr>\n",
       "      <th>hire_date</th>\n",
       "      <th></th>\n",
       "      <th></th>\n",
       "    </tr>\n",
       "  </thead>\n",
       "  <tbody>\n",
       "    <tr>\n",
       "      <th>1958-12-31</th>\n",
       "      <td>81239.000000</td>\n",
       "      <td>1</td>\n",
       "    </tr>\n",
       "    <tr>\n",
       "      <th>1963-12-31</th>\n",
       "      <td>NaN</td>\n",
       "      <td>0</td>\n",
       "    </tr>\n",
       "    <tr>\n",
       "      <th>1968-12-31</th>\n",
       "      <td>89590.000000</td>\n",
       "      <td>1</td>\n",
       "    </tr>\n",
       "    <tr>\n",
       "      <th>1973-12-31</th>\n",
       "      <td>66614.000000</td>\n",
       "      <td>1</td>\n",
       "    </tr>\n",
       "    <tr>\n",
       "      <th>1978-12-31</th>\n",
       "      <td>88503.166667</td>\n",
       "      <td>6</td>\n",
       "    </tr>\n",
       "    <tr>\n",
       "      <th>1983-12-31</th>\n",
       "      <td>69074.571429</td>\n",
       "      <td>63</td>\n",
       "    </tr>\n",
       "    <tr>\n",
       "      <th>1988-12-31</th>\n",
       "      <td>68358.862500</td>\n",
       "      <td>80</td>\n",
       "    </tr>\n",
       "    <tr>\n",
       "      <th>1993-12-31</th>\n",
       "      <td>63372.480198</td>\n",
       "      <td>202</td>\n",
       "    </tr>\n",
       "    <tr>\n",
       "      <th>1998-12-31</th>\n",
       "      <td>63408.519774</td>\n",
       "      <td>177</td>\n",
       "    </tr>\n",
       "    <tr>\n",
       "      <th>2003-12-31</th>\n",
       "      <td>59921.842857</td>\n",
       "      <td>210</td>\n",
       "    </tr>\n",
       "    <tr>\n",
       "      <th>2008-12-31</th>\n",
       "      <td>54410.971963</td>\n",
       "      <td>321</td>\n",
       "    </tr>\n",
       "    <tr>\n",
       "      <th>2013-12-31</th>\n",
       "      <td>51239.056452</td>\n",
       "      <td>248</td>\n",
       "    </tr>\n",
       "    <tr>\n",
       "      <th>2018-12-31</th>\n",
       "      <td>39971.331950</td>\n",
       "      <td>241</td>\n",
       "    </tr>\n",
       "  </tbody>\n",
       "</table>\n",
       "</div>"
      ],
      "text/plain": [
       "                  salary      \n",
       "                    mean count\n",
       "hire_date                     \n",
       "1958-12-31  81239.000000     1\n",
       "1963-12-31           NaN     0\n",
       "1968-12-31  89590.000000     1\n",
       "1973-12-31  66614.000000     1\n",
       "1978-12-31  88503.166667     6\n",
       "1983-12-31  69074.571429    63\n",
       "1988-12-31  68358.862500    80\n",
       "1993-12-31  63372.480198   202\n",
       "1998-12-31  63408.519774   177\n",
       "2003-12-31  59921.842857   210\n",
       "2008-12-31  54410.971963   321\n",
       "2013-12-31  51239.056452   248\n",
       "2018-12-31  39971.331950   241"
      ]
     },
     "execution_count": 103,
     "metadata": {},
     "output_type": "execute_result"
    }
   ],
   "source": [
    "cols = ['salary', 'hire_date']\n",
    "emp1 = emp[cols]\n",
    "emp1.resample('5Y', on='hire_date').agg({'salary':['mean','count']})"
   ]
  },
  {
   "cell_type": "code",
   "execution_count": null,
   "metadata": {},
   "outputs": [],
   "source": []
  }
 ],
 "metadata": {
  "kernelspec": {
   "display_name": "Python 3",
   "language": "python",
   "name": "python3"
  },
  "language_info": {
   "codemirror_mode": {
    "name": "ipython",
    "version": 3
   },
   "file_extension": ".py",
   "mimetype": "text/x-python",
   "name": "python",
   "nbconvert_exporter": "python",
   "pygments_lexer": "ipython3",
   "version": "3.7.0"
  },
  "varInspector": {
   "cols": {
    "lenName": 16,
    "lenType": 16,
    "lenVar": 40
   },
   "kernels_config": {
    "python": {
     "delete_cmd_postfix": "",
     "delete_cmd_prefix": "del ",
     "library": "var_list.py",
     "varRefreshCmd": "print(var_dic_list())"
    },
    "r": {
     "delete_cmd_postfix": ") ",
     "delete_cmd_prefix": "rm(",
     "library": "var_list.r",
     "varRefreshCmd": "cat(var_dic_list()) "
    }
   },
   "types_to_exclude": [
    "module",
    "function",
    "builtin_function_or_method",
    "instance",
    "_Feature"
   ],
   "window_display": false
  }
 },
 "nbformat": 4,
 "nbformat_minor": 2
}
