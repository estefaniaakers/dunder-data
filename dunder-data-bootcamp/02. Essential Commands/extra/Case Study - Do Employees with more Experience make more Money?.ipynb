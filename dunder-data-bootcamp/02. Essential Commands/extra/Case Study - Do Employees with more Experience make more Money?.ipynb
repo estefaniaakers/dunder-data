{
 "cells": [
  {
   "cell_type": "markdown",
   "metadata": {},
   "source": [
    "# Case Study: Do Employees with more Experience make more Money?\n",
    "\n",
    "### Objectives\n",
    "\n",
    "+ Change the data type of a column\n",
    "+ Create categorical data type with the **`cut`** function\n",
    "\n",
    "### Resources\n",
    "+ Read the first section on [Categorical Data](http://pandas.pydata.org/pandas-docs/stable/categorical.html)\n",
    "\n",
    "## Introduction\n",
    "In this lesson we use datetime functionality to calculate years of experience. We will then determine if more experience results in a higher salary."
   ]
  },
  {
   "cell_type": "code",
   "execution_count": null,
   "metadata": {},
   "outputs": [],
   "source": [
    "import pandas as pd\n",
    "import numpy as np"
   ]
  },
  {
   "cell_type": "code",
   "execution_count": null,
   "metadata": {},
   "outputs": [],
   "source": [
    "employee = pd.read_csv('../../data/employee.csv', parse_dates=['hire_date'])\n",
    "employee.head()"
   ]
  },
  {
   "cell_type": "markdown",
   "metadata": {},
   "source": [
    "# Case Study: Do people with more experience make more money?\n",
    "To answer this question, the number of years of experience needs to be calculated from the column **`hire_date`**. **datetime64** columns can be subtracted from one another. We will use the date that the data was generated which was around December, 2016."
   ]
  },
  {
   "cell_type": "code",
   "execution_count": null,
   "metadata": {},
   "outputs": [],
   "source": [
    "pull_date = pd.Timestamp('2016-12-1')\n",
    "pull_date"
   ]
  },
  {
   "cell_type": "code",
   "execution_count": null,
   "metadata": {},
   "outputs": [],
   "source": [
    "# subtract the hire date from today to get the number of days of experience\n",
    "experience = pull_date - employee['hire_date']\n",
    "\n",
    "# print out head of series\n",
    "experience.head()"
   ]
  },
  {
   "cell_type": "markdown",
   "metadata": {},
   "source": [
    "### Converting to years\n",
    "Notice that the data type is now **timedelta64** which just reprsents an amount of time in days. To convert this to years we can divide by 365, but that isn't quite correct. Instead we can use exactly one year of time (around 365.25 days). [See here for more detail](http://pandas.pydata.org/pandas-docs/stable/timedeltas.html#frequency-conversion)"
   ]
  },
  {
   "cell_type": "code",
   "execution_count": null,
   "metadata": {},
   "outputs": [],
   "source": [
    "# convert to years\n",
    "years_experience = experience / pd.Timedelta(1, 'Y')\n",
    "\n",
    "# inspect and check that it makes sense\n",
    "years_experience.head()"
   ]
  },
  {
   "cell_type": "code",
   "execution_count": null,
   "metadata": {},
   "outputs": [],
   "source": [
    "# Make a new column\n",
    "employee['experience'] = years_experience"
   ]
  },
  {
   "cell_type": "markdown",
   "metadata": {},
   "source": [
    "### Outputting the exact duration of 1 year\n",
    "Let's output what Pandas is using to calculate a single year."
   ]
  },
  {
   "cell_type": "code",
   "execution_count": null,
   "metadata": {},
   "outputs": [],
   "source": [
    "pd.Timedelta(1, 'Y')"
   ]
  },
  {
   "cell_type": "markdown",
   "metadata": {},
   "source": [
    "### Creating categories for years of experience\n",
    "It's possible to divide numerical columns into different categories based on their value. The pandas **`cut`** function accepts a Series or an array and a list of the edges of the **bins**. Each category can be given a **label** as well. A series is returned that is of **categorical** type - unique to Pandas. [More on categorical data](http://pandas.pydata.org/pandas-docs/stable/categorical.html)"
   ]
  },
  {
   "cell_type": "code",
   "execution_count": null,
   "metadata": {},
   "outputs": [],
   "source": [
    "# create Series of categorical data\n",
    "bins = [0, 5, 15, 100]\n",
    "labels = ['Novice', 'Experienced', 'Senior']\n",
    "exp_categories = pd.cut(years_experience, bins=bins, labels=labels)"
   ]
  },
  {
   "cell_type": "code",
   "execution_count": null,
   "metadata": {},
   "outputs": [],
   "source": [
    "# inspect Seriers\n",
    "exp_categories.head(10)"
   ]
  },
  {
   "cell_type": "code",
   "execution_count": null,
   "metadata": {},
   "outputs": [],
   "source": [
    "# get some summary statistics\n",
    "exp_categories.value_counts()"
   ]
  },
  {
   "cell_type": "code",
   "execution_count": null,
   "metadata": {},
   "outputs": [],
   "source": [
    "# Create new column\n",
    "employee['experience_level'] = exp_categories"
   ]
  },
  {
   "cell_type": "markdown",
   "metadata": {},
   "source": [
    "# Exercises"
   ]
  },
  {
   "cell_type": "code",
   "execution_count": null,
   "metadata": {},
   "outputs": [],
   "source": [
    "# run this cell to get all the transformations from this notebook all at once\n",
    "employee = pd.read_csv('../../data/employee.csv', parse_dates=['hire_date'])\n",
    "employee['years_experience'] = (pd.Timestamp('2016-12-1') - employee['hire_date']) / pd.Timedelta(1, 'Y')\n",
    "employee['experience_level'] =  pd.cut(employee['years_experience'], \n",
    "                                       bins=bins, \n",
    "                                       labels=labels)"
   ]
  },
  {
   "cell_type": "code",
   "execution_count": null,
   "metadata": {},
   "outputs": [],
   "source": [
    "employee.head()"
   ]
  },
  {
   "cell_type": "markdown",
   "metadata": {},
   "source": [
    "### Problem 1\n",
    "<span  style=\"color:green; font-size:16px\">Create new columns **`bonus_amount`** and **`total_comp`**. Let **`bonus_amount`** be equal to 500 for every year of experience. Round the values to the nearest 100.</span>"
   ]
  },
  {
   "cell_type": "code",
   "execution_count": null,
   "metadata": {},
   "outputs": [],
   "source": []
  },
  {
   "cell_type": "markdown",
   "metadata": {},
   "source": [
    "### Problem 2\n",
    "<span  style=\"color:green; font-size:16px\">Use the **`experience_level`** column to determine if more experienced employees make more money.</span>"
   ]
  },
  {
   "cell_type": "code",
   "execution_count": null,
   "metadata": {},
   "outputs": [],
   "source": []
  },
  {
   "cell_type": "markdown",
   "metadata": {},
   "source": [
    "# Solutions"
   ]
  },
  {
   "cell_type": "markdown",
   "metadata": {},
   "source": [
    "### Problem 1\n",
    "<span  style=\"color:green; font-size:16px\">Create new columns **`bonus_amount`** and **`total_comp`**. Let **`bonus_amount`** be equal to 500 for every year of experience. Round the values to the nearest 100.</span>"
   ]
  },
  {
   "cell_type": "code",
   "execution_count": null,
   "metadata": {},
   "outputs": [],
   "source": [
    "employee['bonus_amount'] = employee['years_experience'] * 500\n",
    "employee['total_comp'] = employee['salary'] + employee['bonus_amount']\n",
    "\n",
    "employee['bonus_amount'] = employee['bonus_amount'].round(-2)\n",
    "employee['total_comp'] = employee['total_comp'].round(-2)\n",
    "\n",
    "employee.head()"
   ]
  },
  {
   "cell_type": "markdown",
   "metadata": {},
   "source": [
    "### Problem 2\n",
    "<span  style=\"color:green; font-size:16px\">Use the **`experience_level`** column to determine if more experienced employees make more money.</span>"
   ]
  },
  {
   "cell_type": "code",
   "execution_count": null,
   "metadata": {},
   "outputs": [],
   "source": [
    "filt = employee['experience_level'] == 'Novice'\n",
    "novice = employee.loc[filt, 'salary']\n",
    "\n",
    "filt = employee['experience_level'] == 'Experienced'\n",
    "exper = employee.loc[filt, 'salary']\n",
    "\n",
    "filt = employee['experience_level'] == 'Senior'\n",
    "senior = employee.loc[filt, 'salary']\n",
    "\n",
    "novice.mean(), exper.mean(), senior.mean()"
   ]
  }
 ],
 "metadata": {
  "kernelspec": {
   "display_name": "Python 3",
   "language": "python",
   "name": "python3"
  },
  "language_info": {
   "codemirror_mode": {
    "name": "ipython",
    "version": 3
   },
   "file_extension": ".py",
   "mimetype": "text/x-python",
   "name": "python",
   "nbconvert_exporter": "python",
   "pygments_lexer": "ipython3",
   "version": "3.6.4"
  },
  "varInspector": {
   "cols": {
    "lenName": 16,
    "lenType": 16,
    "lenVar": 40
   },
   "kernels_config": {
    "python": {
     "delete_cmd_postfix": "",
     "delete_cmd_prefix": "del ",
     "library": "var_list.py",
     "varRefreshCmd": "print(var_dic_list())"
    },
    "r": {
     "delete_cmd_postfix": ") ",
     "delete_cmd_prefix": "rm(",
     "library": "var_list.r",
     "varRefreshCmd": "cat(var_dic_list()) "
    }
   },
   "types_to_exclude": [
    "module",
    "function",
    "builtin_function_or_method",
    "instance",
    "_Feature"
   ],
   "window_display": false
  }
 },
 "nbformat": 4,
 "nbformat_minor": 2
}
