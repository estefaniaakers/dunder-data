{
 "cells": [
  {
   "cell_type": "markdown",
   "metadata": {},
   "source": [
    "# Case Study: Calculating Normality of Stock Market Returns\n",
    "We will examine the returns of different stocks to determine if their daily returns follow a normal distribution. Before we begin you will have to install the **requests** library which simplifies the process of making a web request. We will be making a request to get data from the [IEX developer platform][1]. They have an excellent an easy-to-use API to retrieve market data for free (up to 100 requests per second).\n",
    "\n",
    "### Using the requests library\n",
    "The simplest use of the requests library is to retrieve data from another website. You simply pass the URL as a string to the **`get`** function. The returned object stores the data as a string in the **`text`** attribute. The requests library comes standard with the Anaconda distribution, so you should already have it. It is a third-party library, but a very popular one.\n",
    "\n",
    "### Using the IEX API\n",
    "The IEX API is fairly straightforward to use and there are several examples that you can view to understand how it works. The base URL of the API is `https://api.iextrading.com/1.0` which can be [seen here in the docs][2]. If you scroll down from the last link, you will see how the API is used. Each **endpont** is documented. Let's use the [chart endpoint][3].\n",
    "\n",
    "We simply append **`/stock/{symbol}/chart/{range}`** to the base URL and put the stock symbol and range of data we want (without the curly braces) to retrieve historical stock price data. Go to the docs to view the available ranges.\n",
    "\n",
    "Let's retrieve the last 5 years of Amazon data (symbol AMZN) by passing our endpoint to the **`get`** function. A requests **`Response`** object is returned.\n",
    "\n",
    "[1]: https://iextrading.com/developer/\n",
    "[2]: https://iextrading.com/developer/docs/#endpoints\n",
    "[3]: https://iextrading.com/developer/docs/#chart"
   ]
  },
  {
   "cell_type": "code",
   "execution_count": 1,
   "metadata": {},
   "outputs": [],
   "source": [
    "import requests\n",
    "import pandas as pd"
   ]
  },
  {
   "cell_type": "code",
   "execution_count": 2,
   "metadata": {},
   "outputs": [
    {
     "data": {
      "text/plain": [
       "requests.models.Response"
      ]
     },
     "execution_count": 2,
     "metadata": {},
     "output_type": "execute_result"
    }
   ],
   "source": [
    "url = 'https://api.iextrading.com/1.0/stock/AMZN/chart/5y'\n",
    "req = requests.get(url)\n",
    "type(req)"
   ]
  },
  {
   "cell_type": "markdown",
   "metadata": {},
   "source": [
    "### Output the `text`\n",
    "The response is captured as a Python string assigned to the **`text`** attribute. Let's print out the first 1,000 characters."
   ]
  },
  {
   "cell_type": "code",
   "execution_count": 3,
   "metadata": {},
   "outputs": [
    {
     "data": {
      "text/plain": [
       "'[{\"date\":\"2013-10-16\",\"open\":308.38,\"high\":310.8,\"low\":305.554,\"close\":310.49,\"volume\":2180521,\"unadjustedVolume\":2180521,\"change\":4.09,\"changePercent\":1.335,\"vwap\":309.2314,\"label\":\"Oct 16, 13\",\"changeOverTime\":0},{\"date\":\"2013-10-17\",\"open\":307.07,\"high\":311,\"low\":305.24,\"close\":310.77,\"volume\":2648384,\"unadjustedVolume\":2648384,\"change\":0.28,\"changePercent\":0.09,\"vwap\":308.6142,\"label\":\"Oct 17, 13\",\"changeOverTime\":0.000901800380044358},{\"date\":\"2013-10-18\",\"open\":319.36,\"high\":331.89,\"low\":316.75,\"close\":328.931,\"volume\":5969814,\"unadjustedVolume\":5969814,\"change\":18.161,\"changePercent\":5.844,\"vwap\":325.1519,\"label\":\"Oct 18, 13\",\"changeOverTime\":0.05939321717285572},{\"date\":\"2013-10-21\",\"open\":329.89,\"high\":330,\"low\":323.8,\"close\":326.44,\"volume\":2527617,\"unadjustedVolume\":2527617,\"change\":-2.491,\"changePercent\":-0.757,\"vwap\":325.9235,\"label\":\"Oct 21, 13\",\"changeOverTime\":0.05137041450610322},{\"date\":\"2013-10-22\",\"open\":327.72,\"high\":337.11,\"low\":325.68,\"close\":332.54,\"volume\":3942'"
      ]
     },
     "execution_count": 3,
     "metadata": {},
     "output_type": "execute_result"
    }
   ],
   "source": [
    "req.text[:1000]"
   ]
  },
  {
   "cell_type": "markdown",
   "metadata": {},
   "source": [
    "### Reading JSON objects\n",
    "Most APIs will respond with JSON data, a standardized format of data that is very similar to a Python dictionary with key-value pairs. This particular JSON data is returned as a list of dictionaries. We can usually read in an API response with the **`read_json`** pandas function. A DataFrame is created and usually pandas identifies the correct data types for us."
   ]
  },
  {
   "cell_type": "code",
   "execution_count": 4,
   "metadata": {},
   "outputs": [
    {
     "data": {
      "text/html": [
       "<div>\n",
       "<style scoped>\n",
       "    .dataframe tbody tr th:only-of-type {\n",
       "        vertical-align: middle;\n",
       "    }\n",
       "\n",
       "    .dataframe tbody tr th {\n",
       "        vertical-align: top;\n",
       "    }\n",
       "\n",
       "    .dataframe thead th {\n",
       "        text-align: right;\n",
       "    }\n",
       "</style>\n",
       "<table border=\"1\" class=\"dataframe\">\n",
       "  <thead>\n",
       "    <tr style=\"text-align: right;\">\n",
       "      <th></th>\n",
       "      <th>change</th>\n",
       "      <th>changeOverTime</th>\n",
       "      <th>changePercent</th>\n",
       "      <th>close</th>\n",
       "      <th>date</th>\n",
       "      <th>high</th>\n",
       "      <th>label</th>\n",
       "      <th>low</th>\n",
       "      <th>open</th>\n",
       "      <th>unadjustedVolume</th>\n",
       "      <th>volume</th>\n",
       "      <th>vwap</th>\n",
       "    </tr>\n",
       "  </thead>\n",
       "  <tbody>\n",
       "    <tr>\n",
       "      <th>0</th>\n",
       "      <td>4.090</td>\n",
       "      <td>0.000000</td>\n",
       "      <td>1.335</td>\n",
       "      <td>310.490</td>\n",
       "      <td>2013-10-16</td>\n",
       "      <td>310.80</td>\n",
       "      <td>Oct 16, 13</td>\n",
       "      <td>305.554</td>\n",
       "      <td>308.38</td>\n",
       "      <td>2180521</td>\n",
       "      <td>2180521</td>\n",
       "      <td>309.2314</td>\n",
       "    </tr>\n",
       "    <tr>\n",
       "      <th>1</th>\n",
       "      <td>0.280</td>\n",
       "      <td>0.000902</td>\n",
       "      <td>0.090</td>\n",
       "      <td>310.770</td>\n",
       "      <td>2013-10-17</td>\n",
       "      <td>311.00</td>\n",
       "      <td>Oct 17, 13</td>\n",
       "      <td>305.240</td>\n",
       "      <td>307.07</td>\n",
       "      <td>2648384</td>\n",
       "      <td>2648384</td>\n",
       "      <td>308.6142</td>\n",
       "    </tr>\n",
       "    <tr>\n",
       "      <th>2</th>\n",
       "      <td>18.161</td>\n",
       "      <td>0.059393</td>\n",
       "      <td>5.844</td>\n",
       "      <td>328.931</td>\n",
       "      <td>2013-10-18</td>\n",
       "      <td>331.89</td>\n",
       "      <td>Oct 18, 13</td>\n",
       "      <td>316.750</td>\n",
       "      <td>319.36</td>\n",
       "      <td>5969814</td>\n",
       "      <td>5969814</td>\n",
       "      <td>325.1519</td>\n",
       "    </tr>\n",
       "    <tr>\n",
       "      <th>3</th>\n",
       "      <td>-2.491</td>\n",
       "      <td>0.051370</td>\n",
       "      <td>-0.757</td>\n",
       "      <td>326.440</td>\n",
       "      <td>2013-10-21</td>\n",
       "      <td>330.00</td>\n",
       "      <td>Oct 21, 13</td>\n",
       "      <td>323.800</td>\n",
       "      <td>329.89</td>\n",
       "      <td>2527617</td>\n",
       "      <td>2527617</td>\n",
       "      <td>325.9235</td>\n",
       "    </tr>\n",
       "    <tr>\n",
       "      <th>4</th>\n",
       "      <td>6.100</td>\n",
       "      <td>0.071017</td>\n",
       "      <td>1.869</td>\n",
       "      <td>332.540</td>\n",
       "      <td>2013-10-22</td>\n",
       "      <td>337.11</td>\n",
       "      <td>Oct 22, 13</td>\n",
       "      <td>325.680</td>\n",
       "      <td>327.72</td>\n",
       "      <td>3942953</td>\n",
       "      <td>3942953</td>\n",
       "      <td>331.6934</td>\n",
       "    </tr>\n",
       "  </tbody>\n",
       "</table>\n",
       "</div>"
      ],
      "text/plain": [
       "   change  changeOverTime  changePercent    close       date    high  \\\n",
       "0   4.090        0.000000          1.335  310.490 2013-10-16  310.80   \n",
       "1   0.280        0.000902          0.090  310.770 2013-10-17  311.00   \n",
       "2  18.161        0.059393          5.844  328.931 2013-10-18  331.89   \n",
       "3  -2.491        0.051370         -0.757  326.440 2013-10-21  330.00   \n",
       "4   6.100        0.071017          1.869  332.540 2013-10-22  337.11   \n",
       "\n",
       "        label      low    open  unadjustedVolume   volume      vwap  \n",
       "0  Oct 16, 13  305.554  308.38           2180521  2180521  309.2314  \n",
       "1  Oct 17, 13  305.240  307.07           2648384  2648384  308.6142  \n",
       "2  Oct 18, 13  316.750  319.36           5969814  5969814  325.1519  \n",
       "3  Oct 21, 13  323.800  329.89           2527617  2527617  325.9235  \n",
       "4  Oct 22, 13  325.680  327.72           3942953  3942953  331.6934  "
      ]
     },
     "execution_count": 4,
     "metadata": {},
     "output_type": "execute_result"
    }
   ],
   "source": [
    "amzn = pd.read_json(req.text)\n",
    "amzn.head()"
   ]
  },
  {
   "cell_type": "markdown",
   "metadata": {},
   "source": [
    "### `read_json` can accept the URL directly\n",
    "There actually isn't a need to use the `requests` library. Instead, you can pass the URL directly to `read_json`."
   ]
  },
  {
   "cell_type": "code",
   "execution_count": 5,
   "metadata": {},
   "outputs": [
    {
     "data": {
      "text/html": [
       "<div>\n",
       "<style scoped>\n",
       "    .dataframe tbody tr th:only-of-type {\n",
       "        vertical-align: middle;\n",
       "    }\n",
       "\n",
       "    .dataframe tbody tr th {\n",
       "        vertical-align: top;\n",
       "    }\n",
       "\n",
       "    .dataframe thead th {\n",
       "        text-align: right;\n",
       "    }\n",
       "</style>\n",
       "<table border=\"1\" class=\"dataframe\">\n",
       "  <thead>\n",
       "    <tr style=\"text-align: right;\">\n",
       "      <th></th>\n",
       "      <th>change</th>\n",
       "      <th>changeOverTime</th>\n",
       "      <th>changePercent</th>\n",
       "      <th>close</th>\n",
       "      <th>date</th>\n",
       "      <th>high</th>\n",
       "      <th>label</th>\n",
       "      <th>low</th>\n",
       "      <th>open</th>\n",
       "      <th>unadjustedVolume</th>\n",
       "      <th>volume</th>\n",
       "      <th>vwap</th>\n",
       "    </tr>\n",
       "  </thead>\n",
       "  <tbody>\n",
       "    <tr>\n",
       "      <th>0</th>\n",
       "      <td>4.090</td>\n",
       "      <td>0.000000</td>\n",
       "      <td>1.335</td>\n",
       "      <td>310.490</td>\n",
       "      <td>2013-10-16</td>\n",
       "      <td>310.80</td>\n",
       "      <td>Oct 16, 13</td>\n",
       "      <td>305.554</td>\n",
       "      <td>308.38</td>\n",
       "      <td>2180521</td>\n",
       "      <td>2180521</td>\n",
       "      <td>309.2314</td>\n",
       "    </tr>\n",
       "    <tr>\n",
       "      <th>1</th>\n",
       "      <td>0.280</td>\n",
       "      <td>0.000902</td>\n",
       "      <td>0.090</td>\n",
       "      <td>310.770</td>\n",
       "      <td>2013-10-17</td>\n",
       "      <td>311.00</td>\n",
       "      <td>Oct 17, 13</td>\n",
       "      <td>305.240</td>\n",
       "      <td>307.07</td>\n",
       "      <td>2648384</td>\n",
       "      <td>2648384</td>\n",
       "      <td>308.6142</td>\n",
       "    </tr>\n",
       "    <tr>\n",
       "      <th>2</th>\n",
       "      <td>18.161</td>\n",
       "      <td>0.059393</td>\n",
       "      <td>5.844</td>\n",
       "      <td>328.931</td>\n",
       "      <td>2013-10-18</td>\n",
       "      <td>331.89</td>\n",
       "      <td>Oct 18, 13</td>\n",
       "      <td>316.750</td>\n",
       "      <td>319.36</td>\n",
       "      <td>5969814</td>\n",
       "      <td>5969814</td>\n",
       "      <td>325.1519</td>\n",
       "    </tr>\n",
       "    <tr>\n",
       "      <th>3</th>\n",
       "      <td>-2.491</td>\n",
       "      <td>0.051370</td>\n",
       "      <td>-0.757</td>\n",
       "      <td>326.440</td>\n",
       "      <td>2013-10-21</td>\n",
       "      <td>330.00</td>\n",
       "      <td>Oct 21, 13</td>\n",
       "      <td>323.800</td>\n",
       "      <td>329.89</td>\n",
       "      <td>2527617</td>\n",
       "      <td>2527617</td>\n",
       "      <td>325.9235</td>\n",
       "    </tr>\n",
       "    <tr>\n",
       "      <th>4</th>\n",
       "      <td>6.100</td>\n",
       "      <td>0.071017</td>\n",
       "      <td>1.869</td>\n",
       "      <td>332.540</td>\n",
       "      <td>2013-10-22</td>\n",
       "      <td>337.11</td>\n",
       "      <td>Oct 22, 13</td>\n",
       "      <td>325.680</td>\n",
       "      <td>327.72</td>\n",
       "      <td>3942953</td>\n",
       "      <td>3942953</td>\n",
       "      <td>331.6934</td>\n",
       "    </tr>\n",
       "  </tbody>\n",
       "</table>\n",
       "</div>"
      ],
      "text/plain": [
       "   change  changeOverTime  changePercent    close       date    high  \\\n",
       "0   4.090        0.000000          1.335  310.490 2013-10-16  310.80   \n",
       "1   0.280        0.000902          0.090  310.770 2013-10-17  311.00   \n",
       "2  18.161        0.059393          5.844  328.931 2013-10-18  331.89   \n",
       "3  -2.491        0.051370         -0.757  326.440 2013-10-21  330.00   \n",
       "4   6.100        0.071017          1.869  332.540 2013-10-22  337.11   \n",
       "\n",
       "        label      low    open  unadjustedVolume   volume      vwap  \n",
       "0  Oct 16, 13  305.554  308.38           2180521  2180521  309.2314  \n",
       "1  Oct 17, 13  305.240  307.07           2648384  2648384  308.6142  \n",
       "2  Oct 18, 13  316.750  319.36           5969814  5969814  325.1519  \n",
       "3  Oct 21, 13  323.800  329.89           2527617  2527617  325.9235  \n",
       "4  Oct 22, 13  325.680  327.72           3942953  3942953  331.6934  "
      ]
     },
     "execution_count": 5,
     "metadata": {},
     "output_type": "execute_result"
    }
   ],
   "source": [
    "amzn2 = pd.read_json(url)\n",
    "amzn2.head()"
   ]
  },
  {
   "cell_type": "markdown",
   "metadata": {},
   "source": [
    "### Verify data types\n",
    "It's very important to verify that Pandas chose the correct data types. A common occurrence is for a column that looks like it contains numeric data to be actually kept as a string.\n",
    "\n",
    "Looking below, the data types seem to all be correct, save for **`label`**, which appears to be just a duplicate of the date column. We are good to continue."
   ]
  },
  {
   "cell_type": "code",
   "execution_count": 6,
   "metadata": {},
   "outputs": [
    {
     "data": {
      "text/plain": [
       "change                     float64\n",
       "changeOverTime             float64\n",
       "changePercent              float64\n",
       "close                      float64\n",
       "date                datetime64[ns]\n",
       "high                       float64\n",
       "label                       object\n",
       "low                        float64\n",
       "open                       float64\n",
       "unadjustedVolume             int64\n",
       "volume                       int64\n",
       "vwap                       float64\n",
       "dtype: object"
      ]
     },
     "execution_count": 6,
     "metadata": {},
     "output_type": "execute_result"
    }
   ],
   "source": [
    "amzn.dtypes"
   ]
  },
  {
   "cell_type": "markdown",
   "metadata": {},
   "source": [
    "### Put date in index\n",
    "The date is a good choice as an index since it uniquely labels each row:"
   ]
  },
  {
   "cell_type": "code",
   "execution_count": 7,
   "metadata": {},
   "outputs": [
    {
     "data": {
      "text/html": [
       "<div>\n",
       "<style scoped>\n",
       "    .dataframe tbody tr th:only-of-type {\n",
       "        vertical-align: middle;\n",
       "    }\n",
       "\n",
       "    .dataframe tbody tr th {\n",
       "        vertical-align: top;\n",
       "    }\n",
       "\n",
       "    .dataframe thead th {\n",
       "        text-align: right;\n",
       "    }\n",
       "</style>\n",
       "<table border=\"1\" class=\"dataframe\">\n",
       "  <thead>\n",
       "    <tr style=\"text-align: right;\">\n",
       "      <th></th>\n",
       "      <th>change</th>\n",
       "      <th>changeOverTime</th>\n",
       "      <th>changePercent</th>\n",
       "      <th>close</th>\n",
       "      <th>high</th>\n",
       "      <th>label</th>\n",
       "      <th>low</th>\n",
       "      <th>open</th>\n",
       "      <th>unadjustedVolume</th>\n",
       "      <th>volume</th>\n",
       "      <th>vwap</th>\n",
       "    </tr>\n",
       "    <tr>\n",
       "      <th>date</th>\n",
       "      <th></th>\n",
       "      <th></th>\n",
       "      <th></th>\n",
       "      <th></th>\n",
       "      <th></th>\n",
       "      <th></th>\n",
       "      <th></th>\n",
       "      <th></th>\n",
       "      <th></th>\n",
       "      <th></th>\n",
       "      <th></th>\n",
       "    </tr>\n",
       "  </thead>\n",
       "  <tbody>\n",
       "    <tr>\n",
       "      <th>2013-10-16</th>\n",
       "      <td>4.090</td>\n",
       "      <td>0.000000</td>\n",
       "      <td>1.335</td>\n",
       "      <td>310.490</td>\n",
       "      <td>310.80</td>\n",
       "      <td>Oct 16, 13</td>\n",
       "      <td>305.554</td>\n",
       "      <td>308.38</td>\n",
       "      <td>2180521</td>\n",
       "      <td>2180521</td>\n",
       "      <td>309.2314</td>\n",
       "    </tr>\n",
       "    <tr>\n",
       "      <th>2013-10-17</th>\n",
       "      <td>0.280</td>\n",
       "      <td>0.000902</td>\n",
       "      <td>0.090</td>\n",
       "      <td>310.770</td>\n",
       "      <td>311.00</td>\n",
       "      <td>Oct 17, 13</td>\n",
       "      <td>305.240</td>\n",
       "      <td>307.07</td>\n",
       "      <td>2648384</td>\n",
       "      <td>2648384</td>\n",
       "      <td>308.6142</td>\n",
       "    </tr>\n",
       "    <tr>\n",
       "      <th>2013-10-18</th>\n",
       "      <td>18.161</td>\n",
       "      <td>0.059393</td>\n",
       "      <td>5.844</td>\n",
       "      <td>328.931</td>\n",
       "      <td>331.89</td>\n",
       "      <td>Oct 18, 13</td>\n",
       "      <td>316.750</td>\n",
       "      <td>319.36</td>\n",
       "      <td>5969814</td>\n",
       "      <td>5969814</td>\n",
       "      <td>325.1519</td>\n",
       "    </tr>\n",
       "    <tr>\n",
       "      <th>2013-10-21</th>\n",
       "      <td>-2.491</td>\n",
       "      <td>0.051370</td>\n",
       "      <td>-0.757</td>\n",
       "      <td>326.440</td>\n",
       "      <td>330.00</td>\n",
       "      <td>Oct 21, 13</td>\n",
       "      <td>323.800</td>\n",
       "      <td>329.89</td>\n",
       "      <td>2527617</td>\n",
       "      <td>2527617</td>\n",
       "      <td>325.9235</td>\n",
       "    </tr>\n",
       "    <tr>\n",
       "      <th>2013-10-22</th>\n",
       "      <td>6.100</td>\n",
       "      <td>0.071017</td>\n",
       "      <td>1.869</td>\n",
       "      <td>332.540</td>\n",
       "      <td>337.11</td>\n",
       "      <td>Oct 22, 13</td>\n",
       "      <td>325.680</td>\n",
       "      <td>327.72</td>\n",
       "      <td>3942953</td>\n",
       "      <td>3942953</td>\n",
       "      <td>331.6934</td>\n",
       "    </tr>\n",
       "  </tbody>\n",
       "</table>\n",
       "</div>"
      ],
      "text/plain": [
       "            change  changeOverTime  changePercent    close    high  \\\n",
       "date                                                                 \n",
       "2013-10-16   4.090        0.000000          1.335  310.490  310.80   \n",
       "2013-10-17   0.280        0.000902          0.090  310.770  311.00   \n",
       "2013-10-18  18.161        0.059393          5.844  328.931  331.89   \n",
       "2013-10-21  -2.491        0.051370         -0.757  326.440  330.00   \n",
       "2013-10-22   6.100        0.071017          1.869  332.540  337.11   \n",
       "\n",
       "                 label      low    open  unadjustedVolume   volume      vwap  \n",
       "date                                                                          \n",
       "2013-10-16  Oct 16, 13  305.554  308.38           2180521  2180521  309.2314  \n",
       "2013-10-17  Oct 17, 13  305.240  307.07           2648384  2648384  308.6142  \n",
       "2013-10-18  Oct 18, 13  316.750  319.36           5969814  5969814  325.1519  \n",
       "2013-10-21  Oct 21, 13  323.800  329.89           2527617  2527617  325.9235  \n",
       "2013-10-22  Oct 22, 13  325.680  327.72           3942953  3942953  331.6934  "
      ]
     },
     "execution_count": 7,
     "metadata": {},
     "output_type": "execute_result"
    }
   ],
   "source": [
    "amzn = amzn.set_index('date')\n",
    "amzn.head()"
   ]
  },
  {
   "cell_type": "markdown",
   "metadata": {},
   "source": [
    "### Grabbing a single column of data\n",
    "For this problem, we are only interested in the closing price. To get the **close** column, we pass the column name to the indexing operator."
   ]
  },
  {
   "cell_type": "code",
   "execution_count": 8,
   "metadata": {},
   "outputs": [
    {
     "data": {
      "text/plain": [
       "date\n",
       "2013-10-16    310.490\n",
       "2013-10-17    310.770\n",
       "2013-10-18    328.931\n",
       "2013-10-21    326.440\n",
       "2013-10-22    332.540\n",
       "2013-10-23    326.756\n",
       "2013-10-24    332.210\n",
       "2013-10-25    363.390\n",
       "2013-10-28    358.160\n",
       "2013-10-29    362.700\n",
       "Name: close, dtype: float64"
      ]
     },
     "execution_count": 8,
     "metadata": {},
     "output_type": "execute_result"
    }
   ],
   "source": [
    "# Get closing price\n",
    "close = amzn['close']\n",
    "close.head(10)"
   ]
  },
  {
   "cell_type": "code",
   "execution_count": 9,
   "metadata": {},
   "outputs": [
    {
     "data": {
      "text/plain": [
       "pandas.core.series.Series"
      ]
     },
     "execution_count": 9,
     "metadata": {},
     "output_type": "execute_result"
    }
   ],
   "source": [
    "# we are back to a Series\n",
    "type(close)"
   ]
  },
  {
   "cell_type": "markdown",
   "metadata": {},
   "source": [
    "### Daily percent change\n",
    "Pandas Series has a nifty method called **`pct_change`** which returns the percentage difference between the current and previous elements."
   ]
  },
  {
   "cell_type": "code",
   "execution_count": 10,
   "metadata": {},
   "outputs": [
    {
     "data": {
      "text/plain": [
       "date\n",
       "2013-10-16         NaN\n",
       "2013-10-17    0.000902\n",
       "2013-10-18    0.058439\n",
       "2013-10-21   -0.007573\n",
       "2013-10-22    0.018686\n",
       "2013-10-23   -0.017393\n",
       "2013-10-24    0.016691\n",
       "2013-10-25    0.093856\n",
       "2013-10-28   -0.014392\n",
       "2013-10-29    0.012676\n",
       "Name: close, dtype: float64"
      ]
     },
     "execution_count": 10,
     "metadata": {},
     "output_type": "execute_result"
    }
   ],
   "source": [
    "# calculate percent change\n",
    "close_change = close.pct_change()\n",
    "close_change.head(10)"
   ]
  },
  {
   "cell_type": "markdown",
   "metadata": {},
   "source": [
    "### Dataset already has a percent change column\n",
    "The dataset already contains a percent column. We can manually verify that they are equivalent (after taking the percentage into consideration)."
   ]
  },
  {
   "cell_type": "code",
   "execution_count": 11,
   "metadata": {},
   "outputs": [
    {
     "data": {
      "text/plain": [
       "date\n",
       "2013-10-16    1.335\n",
       "2013-10-17    0.090\n",
       "2013-10-18    5.844\n",
       "2013-10-21   -0.757\n",
       "2013-10-22    1.869\n",
       "2013-10-23   -1.739\n",
       "2013-10-24    1.669\n",
       "2013-10-25    9.386\n",
       "2013-10-28   -1.439\n",
       "2013-10-29    1.268\n",
       "Name: changePercent, dtype: float64"
      ]
     },
     "execution_count": 11,
     "metadata": {},
     "output_type": "execute_result"
    }
   ],
   "source": [
    "amzn['changePercent'].head(10)"
   ]
  },
  {
   "cell_type": "markdown",
   "metadata": {},
   "source": [
    "### Handling Missing Value\n",
    "The first date has a missing value since there was no previous date. The **`dropna`** method can be used to remove any NaN elements."
   ]
  },
  {
   "cell_type": "code",
   "execution_count": 12,
   "metadata": {},
   "outputs": [
    {
     "data": {
      "text/plain": [
       "date\n",
       "2013-10-17    0.000902\n",
       "2013-10-18    0.058439\n",
       "2013-10-21   -0.007573\n",
       "2013-10-22    0.018686\n",
       "2013-10-23   -0.017393\n",
       "2013-10-24    0.016691\n",
       "2013-10-25    0.093856\n",
       "2013-10-28   -0.014392\n",
       "2013-10-29    0.012676\n",
       "2013-10-30   -0.004467\n",
       "Name: close, dtype: float64"
      ]
     },
     "execution_count": 12,
     "metadata": {},
     "output_type": "execute_result"
    }
   ],
   "source": [
    "close_change = close_change.dropna()\n",
    "close_change.head(10)"
   ]
  },
  {
   "cell_type": "markdown",
   "metadata": {},
   "source": [
    "### Checking for Normality\n",
    "There are formal statistical tests for normality that can be used. Instead we will focus on simple data exploration to give us insight."
   ]
  },
  {
   "cell_type": "markdown",
   "metadata": {},
   "source": [
    "### Plotting the returns\n",
    "The main plotting library in pandas is matplotlib which will be covered in greater detail in a later notebook. To output plots directly into the notebook the magic command **`%matplotlib inline`** must be executed first. "
   ]
  },
  {
   "cell_type": "code",
   "execution_count": 13,
   "metadata": {},
   "outputs": [],
   "source": [
    "%matplotlib inline"
   ]
  },
  {
   "cell_type": "markdown",
   "metadata": {},
   "source": [
    "Pandas objects have hooks directly into matplotlib so it's not necessary to directly import matplotlib. The **`plot`** method can be used to create a number of different kinds of plots by using the **`kind`** parameter. We pass it the string **`hist`** to create a histogram, along with a histogram-specific argument **`bins`** to control the number of bars. We also change the size of the figure by passing a tuple to the **`figsize`** parameter."
   ]
  },
  {
   "cell_type": "code",
   "execution_count": 14,
   "metadata": {},
   "outputs": [
    {
     "data": {
      "text/plain": [
       "<matplotlib.axes._subplots.AxesSubplot at 0x113eb9898>"
      ]
     },
     "execution_count": 14,
     "metadata": {},
     "output_type": "execute_result"
    },
    {
     "data": {
      "image/png": "[encoded data removed]",
      "text/plain": [
       "<Figure size 864x288 with 1 Axes>"
      ]
     },
     "metadata": {
      "needs_background": "light"
     },
     "output_type": "display_data"
    }
   ],
   "source": [
    "close_change.plot(kind='hist', bins=50, figsize=(12, 4))"
   ]
  },
  {
   "cell_type": "markdown",
   "metadata": {},
   "source": [
    "### Use boolean selection to check for normality\n",
    "The plot above is symmetrical and somewhat bell-shaped. It could possibly represent a normal distribution. To more formally check for normality we can count the number of observations that are within 1, 2, and 3 standard deviations. The [68-95-99.7 rule](https://en.wikipedia.org/wiki/68%E2%80%9395%E2%80%9399.7_rule) can be used to know if the data is approximately normal.\n",
    "\n",
    "We first need to calculate the mean, standard deviation."
   ]
  },
  {
   "cell_type": "code",
   "execution_count": 15,
   "metadata": {},
   "outputs": [],
   "source": [
    "mean = close_change.mean()\n",
    "std = close_change.std()"
   ]
  },
  {
   "cell_type": "markdown",
   "metadata": {},
   "source": [
    "### Get absolute number of standard deviations from mean\n",
    "To standardize our results we can find how many absolute standard deviations away from the mean each one is. To do this we subtract the mean from the entire Series, which returns a Series and then take the absolute value of this. We then divide by the standard deviation. This quantity is referred to a **z-score**."
   ]
  },
  {
   "cell_type": "code",
   "execution_count": 16,
   "metadata": {},
   "outputs": [],
   "source": [
    "z_score = (close_change - mean).abs() / std"
   ]
  },
  {
   "cell_type": "markdown",
   "metadata": {},
   "source": [
    "### Find the percentage by taking the mean\n",
    "We have seen in other notebooks, that taking the mean of a boolean Series gives us the percentage that are **`True`**. Let's do that here to find the percentage less than 1, 2, and 3 standard deviations:"
   ]
  },
  {
   "cell_type": "code",
   "execution_count": 17,
   "metadata": {},
   "outputs": [
    {
     "data": {
      "text/plain": [
       "(0.813, 0.958, 0.984)"
      ]
     },
     "execution_count": 17,
     "metadata": {},
     "output_type": "execute_result"
    }
   ],
   "source": [
    "# Get final results and round to 3 decimals\n",
    "pct_within1 = round((z_score < 1).mean(), 3)\n",
    "pct_within2 = round((z_score < 2).mean(), 3)\n",
    "pct_within3 = round((z_score < 3).mean(), 3)\n",
    "\n",
    "pct_within1, pct_within2, pct_within3"
   ]
  },
  {
   "cell_type": "markdown",
   "metadata": {},
   "source": [
    "### Results Discussion\n",
    "The percentages of returns within 1, 2 and 3 standard deviations are fairly far off the 68-95-99.7 rule. Much more of the data was concentrated around 1 standard deviation and several times as many returns than expected were greater than 3 standard deviations from the mean. This strongly suggests that a normal distribution would not be a good fit for this type of data."
   ]
  },
  {
   "cell_type": "markdown",
   "metadata": {},
   "source": [
    "### How to check the entire series for truth\n",
    "Lets say we wanted to check if all the stock price returns were within 4 standard deviations from the mean. The **`all`** and **`any`** methods can be used to check Series of all boolean values."
   ]
  },
  {
   "cell_type": "code",
   "execution_count": 18,
   "metadata": {},
   "outputs": [
    {
     "data": {
      "text/plain": [
       "date\n",
       "2013-10-17     True\n",
       "2013-10-18     True\n",
       "2013-10-21     True\n",
       "2013-10-22     True\n",
       "2013-10-23     True\n",
       "2013-10-24     True\n",
       "2013-10-25    False\n",
       "2013-10-28     True\n",
       "2013-10-29     True\n",
       "2013-10-30     True\n",
       "Name: close, dtype: bool"
      ]
     },
     "execution_count": 18,
     "metadata": {},
     "output_type": "execute_result"
    }
   ],
   "source": [
    "# create a boolean Series checking values to be within 4 standard deviations\n",
    "criteria = z_score < 4\n",
    "\n",
    "# inspect criteria - the first 10 are true\n",
    "criteria.head(10)"
   ]
  },
  {
   "cell_type": "code",
   "execution_count": 19,
   "metadata": {},
   "outputs": [
    {
     "data": {
      "text/plain": [
       "False"
      ]
     },
     "execution_count": 19,
     "metadata": {},
     "output_type": "execute_result"
    }
   ],
   "source": [
    "# now use all to check if they are all true. Looks like is at least one False\n",
    "criteria.all()"
   ]
  },
  {
   "cell_type": "code",
   "execution_count": 20,
   "metadata": {},
   "outputs": [
    {
     "data": {
      "text/plain": [
       "True"
      ]
     },
     "execution_count": 20,
     "metadata": {},
     "output_type": "execute_result"
    }
   ],
   "source": [
    "# could do the same thing with 'any' method\n",
    "# change criteria to be more than 4 std\n",
    "criteria = z_score >= 4\n",
    "\n",
    "criteria.any()"
   ]
  },
  {
   "cell_type": "markdown",
   "metadata": {},
   "source": [
    "# Exercises\n",
    "Solutions are in this notebook below the exercises."
   ]
  },
  {
   "cell_type": "markdown",
   "metadata": {},
   "source": [
    "### Problem 1\n",
    "<span  style=\"color:green; font-size:16px\">Use the requests library with the IEX API to return historical stock data for the automaker Tesla (TSLA) for the last year.</span>"
   ]
  },
  {
   "cell_type": "code",
   "execution_count": null,
   "metadata": {},
   "outputs": [],
   "source": []
  },
  {
   "cell_type": "markdown",
   "metadata": {},
   "source": [
    "### Problem 2\n",
    "<span  style=\"color:green; font-size:16px\">Use one line of code (with method chaining) to find the daily percentage returns of TSLA and drop any missing values. Save the result to **`tsla_change`**.</span>"
   ]
  },
  {
   "cell_type": "code",
   "execution_count": null,
   "metadata": {},
   "outputs": [],
   "source": []
  },
  {
   "cell_type": "markdown",
   "metadata": {},
   "source": [
    "### Problem 3\n",
    "<span  style=\"color:green; font-size:16px\">Find the mean daily return for Tesla. Then select the first and last closing prices. Also get the number of trading days. Store all four of these values into variables.</span>"
   ]
  },
  {
   "cell_type": "code",
   "execution_count": null,
   "metadata": {},
   "outputs": [],
   "source": []
  },
  {
   "cell_type": "markdown",
   "metadata": {},
   "source": [
    "### Problem 4\n",
    "<span  style=\"color:green; font-size:16px\">If Tesla returned its mean percentage return every single day since the first day you have data, what would its last closing price be? Is it the same as the actual last closing price? You need to use all the variables calculated from problem 3.</span>"
   ]
  },
  {
   "cell_type": "code",
   "execution_count": null,
   "metadata": {},
   "outputs": [],
   "source": []
  },
  {
   "cell_type": "markdown",
   "metadata": {},
   "source": [
    "### Problem 5\n",
    "<span  style=\"color:green; font-size:16px\">Find the raw number of standard deviations away from the mean for the Tesla daily returns. Save this to a variable **`z_score_raw`**. What is the max and minimum score?</span>"
   ]
  },
  {
   "cell_type": "code",
   "execution_count": null,
   "metadata": {},
   "outputs": [],
   "source": []
  },
  {
   "cell_type": "markdown",
   "metadata": {},
   "source": [
    "### Problem 6\n",
    "<span  style=\"color:green; font-size:16px\">What percentage did Tesla stock increase when it had its highest maximum raw z-score?</span>"
   ]
  },
  {
   "cell_type": "code",
   "execution_count": null,
   "metadata": {},
   "outputs": [],
   "source": []
  },
  {
   "cell_type": "markdown",
   "metadata": {},
   "source": [
    "### Problem 7\n",
    "<span  style=\"color:green; font-size:16px\">Create a function that accepts a stock ticker symbol (amzn for example) and returns the percentage of prices within 1, 2, and 3 standard deviations from the mean. Use your function to return results for different stocks (tsla, fb, slb, gm, etc...)</span>"
   ]
  },
  {
   "cell_type": "code",
   "execution_count": null,
   "metadata": {},
   "outputs": [],
   "source": []
  },
  {
   "cell_type": "markdown",
   "metadata": {},
   "source": [
    "### Problem 8\n",
    "<span  style=\"color:green; font-size:16px\"> How many days did Tesla close above 100 and below 150?</span>"
   ]
  },
  {
   "cell_type": "code",
   "execution_count": null,
   "metadata": {},
   "outputs": [],
   "source": []
  },
  {
   "cell_type": "markdown",
   "metadata": {},
   "source": [
    "### Problem 9\n",
    "<span  style=\"color:green; font-size:16px\"> How many days did Tesla close below 50 or above 200?</span>"
   ]
  },
  {
   "cell_type": "code",
   "execution_count": null,
   "metadata": {},
   "outputs": [],
   "source": []
  },
  {
   "cell_type": "markdown",
   "metadata": {},
   "source": [
    "### Problem 10\n",
    "<span  style=\"color:green; font-size:16px\"> Lookup the definition for interquartile range and slice Tesla closing prices so it contains just the interquartile range. There are multiple ways to do this. Check the **`quantile`** method.</span>"
   ]
  },
  {
   "cell_type": "code",
   "execution_count": null,
   "metadata": {},
   "outputs": [],
   "source": []
  },
  {
   "cell_type": "markdown",
   "metadata": {},
   "source": [
    "### Problem 11\n",
    "<span  style=\"color:green; font-size:16px\">Use the **`idxmax`** method to find the index label of the highest closing price. Find out how many trading days it has been since Tesla recorded it highest closing price.</span>"
   ]
  },
  {
   "cell_type": "code",
   "execution_count": null,
   "metadata": {},
   "outputs": [],
   "source": []
  },
  {
   "cell_type": "markdown",
   "metadata": {},
   "source": [
    "# Solutions"
   ]
  },
  {
   "cell_type": "markdown",
   "metadata": {},
   "source": [
    "### Problem 1\n",
    "<span  style=\"color:green; font-size:16px\">Use the requests library with the IEX API to return historical stock data for the automaker Tesla (TSLA) for the last year. Assign the closing price a a Series to `tsla_close`.</span>"
   ]
  },
  {
   "cell_type": "code",
   "execution_count": 21,
   "metadata": {},
   "outputs": [
    {
     "data": {
      "text/html": [
       "<div>\n",
       "<style scoped>\n",
       "    .dataframe tbody tr th:only-of-type {\n",
       "        vertical-align: middle;\n",
       "    }\n",
       "\n",
       "    .dataframe tbody tr th {\n",
       "        vertical-align: top;\n",
       "    }\n",
       "\n",
       "    .dataframe thead th {\n",
       "        text-align: right;\n",
       "    }\n",
       "</style>\n",
       "<table border=\"1\" class=\"dataframe\">\n",
       "  <thead>\n",
       "    <tr style=\"text-align: right;\">\n",
       "      <th></th>\n",
       "      <th>change</th>\n",
       "      <th>changeOverTime</th>\n",
       "      <th>changePercent</th>\n",
       "      <th>close</th>\n",
       "      <th>high</th>\n",
       "      <th>label</th>\n",
       "      <th>low</th>\n",
       "      <th>open</th>\n",
       "      <th>unadjustedVolume</th>\n",
       "      <th>volume</th>\n",
       "      <th>vwap</th>\n",
       "    </tr>\n",
       "    <tr>\n",
       "      <th>date</th>\n",
       "      <th></th>\n",
       "      <th></th>\n",
       "      <th></th>\n",
       "      <th></th>\n",
       "      <th></th>\n",
       "      <th></th>\n",
       "      <th></th>\n",
       "      <th></th>\n",
       "      <th></th>\n",
       "      <th></th>\n",
       "      <th></th>\n",
       "    </tr>\n",
       "  </thead>\n",
       "  <tbody>\n",
       "    <tr>\n",
       "      <th>2017-10-16</th>\n",
       "      <td>-4.97</td>\n",
       "      <td>0.000000</td>\n",
       "      <td>-1.398</td>\n",
       "      <td>350.60</td>\n",
       "      <td>354.4800</td>\n",
       "      <td>Oct 16, 17</td>\n",
       "      <td>347.16</td>\n",
       "      <td>353.76</td>\n",
       "      <td>5375486</td>\n",
       "      <td>5375486</td>\n",
       "      <td>350.3689</td>\n",
       "    </tr>\n",
       "    <tr>\n",
       "      <th>2017-10-17</th>\n",
       "      <td>5.15</td>\n",
       "      <td>0.014689</td>\n",
       "      <td>1.469</td>\n",
       "      <td>355.75</td>\n",
       "      <td>356.2200</td>\n",
       "      <td>Oct 17, 17</td>\n",
       "      <td>350.07</td>\n",
       "      <td>350.91</td>\n",
       "      <td>3293345</td>\n",
       "      <td>3293345</td>\n",
       "      <td>353.9956</td>\n",
       "    </tr>\n",
       "    <tr>\n",
       "      <th>2017-10-18</th>\n",
       "      <td>3.90</td>\n",
       "      <td>0.025813</td>\n",
       "      <td>1.096</td>\n",
       "      <td>359.65</td>\n",
       "      <td>363.0000</td>\n",
       "      <td>Oct 18, 17</td>\n",
       "      <td>354.13</td>\n",
       "      <td>355.97</td>\n",
       "      <td>4939074</td>\n",
       "      <td>4939074</td>\n",
       "      <td>360.1688</td>\n",
       "    </tr>\n",
       "    <tr>\n",
       "      <th>2017-10-19</th>\n",
       "      <td>-7.84</td>\n",
       "      <td>0.003451</td>\n",
       "      <td>-2.180</td>\n",
       "      <td>351.81</td>\n",
       "      <td>357.1465</td>\n",
       "      <td>Oct 19, 17</td>\n",
       "      <td>348.20</td>\n",
       "      <td>355.56</td>\n",
       "      <td>5061843</td>\n",
       "      <td>5061843</td>\n",
       "      <td>351.5255</td>\n",
       "    </tr>\n",
       "    <tr>\n",
       "      <th>2017-10-20</th>\n",
       "      <td>-6.71</td>\n",
       "      <td>-0.015687</td>\n",
       "      <td>-1.907</td>\n",
       "      <td>345.10</td>\n",
       "      <td>354.5500</td>\n",
       "      <td>Oct 20, 17</td>\n",
       "      <td>344.34</td>\n",
       "      <td>352.69</td>\n",
       "      <td>4930395</td>\n",
       "      <td>4930395</td>\n",
       "      <td>347.6304</td>\n",
       "    </tr>\n",
       "  </tbody>\n",
       "</table>\n",
       "</div>"
      ],
      "text/plain": [
       "            change  changeOverTime  changePercent   close      high  \\\n",
       "date                                                                  \n",
       "2017-10-16   -4.97        0.000000         -1.398  350.60  354.4800   \n",
       "2017-10-17    5.15        0.014689          1.469  355.75  356.2200   \n",
       "2017-10-18    3.90        0.025813          1.096  359.65  363.0000   \n",
       "2017-10-19   -7.84        0.003451         -2.180  351.81  357.1465   \n",
       "2017-10-20   -6.71       -0.015687         -1.907  345.10  354.5500   \n",
       "\n",
       "                 label     low    open  unadjustedVolume   volume      vwap  \n",
       "date                                                                         \n",
       "2017-10-16  Oct 16, 17  347.16  353.76           5375486  5375486  350.3689  \n",
       "2017-10-17  Oct 17, 17  350.07  350.91           3293345  3293345  353.9956  \n",
       "2017-10-18  Oct 18, 17  354.13  355.97           4939074  4939074  360.1688  \n",
       "2017-10-19  Oct 19, 17  348.20  355.56           5061843  5061843  351.5255  \n",
       "2017-10-20  Oct 20, 17  344.34  352.69           4930395  4930395  347.6304  "
      ]
     },
     "execution_count": 21,
     "metadata": {},
     "output_type": "execute_result"
    }
   ],
   "source": [
    "req = requests.get('https://api.iextrading.com/1.0/stock/TSLA/chart/1y')\n",
    "tsla = pd.read_json(req.text)\n",
    "tsla = tsla.set_index('date')\n",
    "tsla.head()"
   ]
  },
  {
   "cell_type": "code",
   "execution_count": 22,
   "metadata": {},
   "outputs": [],
   "source": [
    "tsla_close = tsla['close']"
   ]
  },
  {
   "cell_type": "markdown",
   "metadata": {},
   "source": [
    "### Problem 2\n",
    "<span  style=\"color:green; font-size:16px\">Use one line of code (with method chaining) to find the daily percentage returns of TSLA and drop any missing values. Save the result to **`tsla_change`**.</span>"
   ]
  },
  {
   "cell_type": "code",
   "execution_count": 23,
   "metadata": {},
   "outputs": [
    {
     "data": {
      "text/plain": [
       "date\n",
       "2017-10-17    0.014689\n",
       "2017-10-18    0.010963\n",
       "2017-10-19   -0.021799\n",
       "2017-10-20   -0.019073\n",
       "2017-10-23   -0.023414\n",
       "Name: close, dtype: float64"
      ]
     },
     "execution_count": 23,
     "metadata": {},
     "output_type": "execute_result"
    }
   ],
   "source": [
    "tsla_change = tsla_close.pct_change().dropna()\n",
    "tsla_change.head()"
   ]
  },
  {
   "cell_type": "markdown",
   "metadata": {},
   "source": [
    "### Problem 3\n",
    "<span  style=\"color:green; font-size:16px\">Find the mean daily return for Tesla. Then select the first and last closing prices. Also get the number of trading days. Store all four of these values into variables.</span>"
   ]
  },
  {
   "cell_type": "code",
   "execution_count": 24,
   "metadata": {},
   "outputs": [
    {
     "data": {
      "text/plain": [
       "(-0.0006332501839809827, 350.6, 259.59, 251)"
      ]
     },
     "execution_count": 24,
     "metadata": {},
     "output_type": "execute_result"
    }
   ],
   "source": [
    "mean = tsla_change.mean()\n",
    "first = tsla_close.iloc[0]\n",
    "last = tsla_close.iloc[-1]\n",
    "n = tsla_change.size\n",
    "mean, first, last, n"
   ]
  },
  {
   "cell_type": "markdown",
   "metadata": {},
   "source": [
    "### Problem 4\n",
    "<span  style=\"color:green; font-size:16px\">If Tesla returned its mean percentage return every single day since the first day you have data, what would its last closing price be? Is it the same as the actual last closing price? You need to use all the variables calculated from problem 3.</span>"
   ]
  },
  {
   "cell_type": "code",
   "execution_count": 25,
   "metadata": {},
   "outputs": [
    {
     "data": {
      "text/plain": [
       "299.0616767350474"
      ]
     },
     "execution_count": 25,
     "metadata": {},
     "output_type": "execute_result"
    }
   ],
   "source": [
    "first * (mean + 1) ** n"
   ]
  },
  {
   "cell_type": "code",
   "execution_count": 26,
   "metadata": {},
   "outputs": [
    {
     "data": {
      "text/plain": [
       "259.59"
      ]
     },
     "execution_count": 26,
     "metadata": {},
     "output_type": "execute_result"
    }
   ],
   "source": [
    "last"
   ]
  },
  {
   "cell_type": "markdown",
   "metadata": {},
   "source": [
    "### Problem 5\n",
    "<span  style=\"color:green; font-size:16px\">Find the raw number of standard deviations away from the mean for the Tesla daily returns. Save this to a variable **`z_score_raw`**. What is the max and minimum score?</span>"
   ]
  },
  {
   "cell_type": "code",
   "execution_count": 27,
   "metadata": {},
   "outputs": [
    {
     "data": {
      "text/plain": [
       "date\n",
       "2017-10-17    0.452589\n",
       "2017-10-18    0.342521\n",
       "2017-10-19   -0.625190\n",
       "2017-10-20   -0.544664\n",
       "2017-10-23   -0.672879\n",
       "Name: close, dtype: float64"
      ]
     },
     "execution_count": 27,
     "metadata": {},
     "output_type": "execute_result"
    }
   ],
   "source": [
    "std = tsla_change.std()\n",
    "z_score_raw = (tsla_change - mean) / std\n",
    "z_score_raw.head()"
   ]
  },
  {
   "cell_type": "code",
   "execution_count": 28,
   "metadata": {},
   "outputs": [
    {
     "data": {
      "text/plain": [
       "(5.142671888007153, -4.087507571503852)"
      ]
     },
     "execution_count": 28,
     "metadata": {},
     "output_type": "execute_result"
    }
   ],
   "source": [
    "z_score_raw.max(), z_score_raw.min()"
   ]
  },
  {
   "cell_type": "markdown",
   "metadata": {},
   "source": [
    "### Problem 6\n",
    "<span  style=\"color:green; font-size:16px\">What percentage did Tesla stock increase when it had its highest maximum raw z-score?</span>"
   ]
  },
  {
   "cell_type": "code",
   "execution_count": 29,
   "metadata": {},
   "outputs": [
    {
     "data": {
      "text/plain": [
       "date\n",
       "2018-10-01    0.173471\n",
       "Name: close, dtype: float64"
      ]
     },
     "execution_count": 29,
     "metadata": {},
     "output_type": "execute_result"
    }
   ],
   "source": [
    "tsla_change[z_score_raw == z_score_raw.max()]"
   ]
  },
  {
   "cell_type": "markdown",
   "metadata": {},
   "source": [
    "### Problem 7\n",
    "<span  style=\"color:green; font-size:16px\">Create a function that accepts a stock ticker symbol (amzn for example) and a range and returns the percentage of prices within 1, 2, and 3 standard deviations from the mean. Use your function to return results for different stocks (tsla, fb, slb, gm, etc...)</span>"
   ]
  },
  {
   "cell_type": "code",
   "execution_count": 30,
   "metadata": {},
   "outputs": [],
   "source": [
    "def stock_pct_finder(symbol, range):\n",
    "    req = requests.get(f'https://api.iextrading.com/1.0/stock/{symbol}/chart/{range}')\n",
    "    stock = pd.read_json(req.text)\n",
    "    close = stock['close']\n",
    "    close_change = close.pct_change().dropna()\n",
    "    \n",
    "    mean = close_change.mean()\n",
    "    std = close_change.std()\n",
    "    z_score = ((close_change - mean).abs() / std)\n",
    "    \n",
    "    pct_within1 = (z_score < 1).mean()\n",
    "    pct_within2 = (z_score < 2).mean()\n",
    "    pct_within3 = (z_score < 3).mean()\n",
    "\n",
    "    return pct_within1, pct_within2, pct_within3"
   ]
  },
  {
   "cell_type": "code",
   "execution_count": 31,
   "metadata": {},
   "outputs": [
    {
     "data": {
      "text/plain": [
       "(0.8131955484896661, 0.9578696343402225, 0.9841017488076311)"
      ]
     },
     "execution_count": 31,
     "metadata": {},
     "output_type": "execute_result"
    }
   ],
   "source": [
    "stock_pct_finder('AMZN', '5y')"
   ]
  },
  {
   "cell_type": "code",
   "execution_count": 32,
   "metadata": {},
   "outputs": [
    {
     "data": {
      "text/plain": [
       "(0.8047808764940239, 0.9561752988047809, 0.9880478087649402)"
      ]
     },
     "execution_count": 32,
     "metadata": {},
     "output_type": "execute_result"
    }
   ],
   "source": [
    "stock_pct_finder('fb', '1y')"
   ]
  },
  {
   "cell_type": "code",
   "execution_count": 33,
   "metadata": {},
   "outputs": [
    {
     "data": {
      "text/plain": [
       "(0.7888446215139442, 0.9721115537848606, 0.9920318725099602)"
      ]
     },
     "execution_count": 33,
     "metadata": {},
     "output_type": "execute_result"
    }
   ],
   "source": [
    "stock_pct_finder('slb', '1y')"
   ]
  },
  {
   "cell_type": "code",
   "execution_count": 34,
   "metadata": {},
   "outputs": [
    {
     "data": {
      "text/plain": [
       "(0.8127490039840638, 0.9482071713147411, 0.9840637450199203)"
      ]
     },
     "execution_count": 34,
     "metadata": {},
     "output_type": "execute_result"
    }
   ],
   "source": [
    "stock_pct_finder('tsla', '1y')"
   ]
  },
  {
   "cell_type": "markdown",
   "metadata": {},
   "source": [
    "### Problem 8\n",
    "<span  style=\"color:green; font-size:16px\"> How many days did Tesla close above 300 and below 350?</span>"
   ]
  },
  {
   "cell_type": "code",
   "execution_count": 35,
   "metadata": {},
   "outputs": [
    {
     "data": {
      "text/plain": [
       "date\n",
       "2017-10-20    345.10\n",
       "2017-10-23    337.02\n",
       "2017-10-24    337.34\n",
       "2017-10-25    325.84\n",
       "2017-10-26    326.17\n",
       "Name: close, dtype: float64"
      ]
     },
     "execution_count": 35,
     "metadata": {},
     "output_type": "execute_result"
    }
   ],
   "source": [
    "criteria = (tsla_close > 300) & (tsla_close < 350)\n",
    "\n",
    "#inspect data\n",
    "tsla_close[criteria].head()"
   ]
  },
  {
   "cell_type": "code",
   "execution_count": 36,
   "metadata": {},
   "outputs": [
    {
     "data": {
      "text/plain": [
       "163"
      ]
     },
     "execution_count": 36,
     "metadata": {},
     "output_type": "execute_result"
    }
   ],
   "source": [
    "tsla_close[criteria].size"
   ]
  },
  {
   "cell_type": "code",
   "execution_count": 37,
   "metadata": {},
   "outputs": [
    {
     "data": {
      "text/plain": [
       "163"
      ]
     },
     "execution_count": 37,
     "metadata": {},
     "output_type": "execute_result"
    }
   ],
   "source": [
    "# or using sum method\n",
    "criteria.sum()"
   ]
  },
  {
   "cell_type": "code",
   "execution_count": 38,
   "metadata": {},
   "outputs": [
    {
     "data": {
      "text/plain": [
       "163"
      ]
     },
     "execution_count": 38,
     "metadata": {},
     "output_type": "execute_result"
    }
   ],
   "source": [
    "# one line\n",
    "((tsla_close > 300) & (tsla_close < 350)).sum()"
   ]
  },
  {
   "cell_type": "markdown",
   "metadata": {},
   "source": [
    "### Problem 9\n",
    "<span  style=\"color:green; font-size:16px\"> How many days did Tesla close below 200 or above 350?</span>"
   ]
  },
  {
   "cell_type": "code",
   "execution_count": 39,
   "metadata": {},
   "outputs": [
    {
     "data": {
      "text/plain": [
       "21"
      ]
     },
     "execution_count": 39,
     "metadata": {},
     "output_type": "execute_result"
    }
   ],
   "source": [
    "((tsla_close < 200) | (tsla_close > 350)).sum()"
   ]
  },
  {
   "cell_type": "markdown",
   "metadata": {},
   "source": [
    "### Problem 10\n",
    "<span  style=\"color:green; font-size:16px\"> Lookup the definition for interquartile range and slice Tesla closing prices so it contains just the interquartile range. There are multiple ways to do this. Check the **`quantile`** method.</span>"
   ]
  },
  {
   "cell_type": "code",
   "execution_count": 40,
   "metadata": {},
   "outputs": [
    {
     "data": {
      "text/plain": [
       "date\n",
       "2018-09-21    299.10\n",
       "2017-11-02    299.26\n",
       "2018-04-06    299.30\n",
       "2018-09-24    299.68\n",
       "2018-05-01    299.92\n",
       "Name: close, dtype: float64"
      ]
     },
     "execution_count": 40,
     "metadata": {},
     "output_type": "execute_result"
    }
   ],
   "source": [
    "# a few ways to do this\n",
    "n = tsla_close.size\n",
    "first_q = n // 4\n",
    "third_q = n // 4 * 3\n",
    "\n",
    "tsla_close.sort_values().iloc[first_q:third_q].head()"
   ]
  },
  {
   "cell_type": "code",
   "execution_count": 41,
   "metadata": {},
   "outputs": [
    {
     "data": {
      "text/plain": [
       "date\n",
       "2018-09-21    299.10\n",
       "2017-11-02    299.26\n",
       "2018-04-06    299.30\n",
       "2018-09-24    299.68\n",
       "2018-05-01    299.92\n",
       "Name: close, dtype: float64"
      ]
     },
     "execution_count": 41,
     "metadata": {},
     "output_type": "execute_result"
    }
   ],
   "source": [
    "# can use the quantile method\n",
    "q1 = tsla_close.quantile(.25)\n",
    "q3 = tsla_close.quantile(.75)\n",
    "\n",
    "criteria = (tsla_close >= q1) & (tsla_close <= q3)\n",
    "\n",
    "tsla_close[criteria].sort_values().head()"
   ]
  },
  {
   "cell_type": "markdown",
   "metadata": {},
   "source": [
    "### Problem 11\n",
    "<span  style=\"color:green; font-size:16px\">Use the **`idxmax`** method to find the index label of the highest closing price. Find out how many trading days it has been since Tesla recorded it highest closing price.</span>"
   ]
  },
  {
   "cell_type": "code",
   "execution_count": 42,
   "metadata": {},
   "outputs": [
    {
     "data": {
      "text/plain": [
       "Timestamp('2018-08-07 00:00:00')"
      ]
     },
     "execution_count": 42,
     "metadata": {},
     "output_type": "execute_result"
    }
   ],
   "source": [
    "max_close_date = tsla_close.idxmax()\n",
    "max_close_date"
   ]
  },
  {
   "cell_type": "markdown",
   "metadata": {},
   "source": [
    "Number of trading days"
   ]
  },
  {
   "cell_type": "code",
   "execution_count": 43,
   "metadata": {},
   "outputs": [
    {
     "data": {
      "text/plain": [
       "49"
      ]
     },
     "execution_count": 43,
     "metadata": {},
     "output_type": "execute_result"
    }
   ],
   "source": [
    "tsla_close.loc[max_close_date:].size"
   ]
  },
  {
   "cell_type": "markdown",
   "metadata": {},
   "source": [
    "Number of actual days"
   ]
  },
  {
   "cell_type": "code",
   "execution_count": 44,
   "metadata": {},
   "outputs": [
    {
     "data": {
      "text/plain": [
       "Timedelta('69 days 00:00:00')"
      ]
     },
     "execution_count": 44,
     "metadata": {},
     "output_type": "execute_result"
    }
   ],
   "source": [
    "tsla_close.index[-1] - max_close_date"
   ]
  }
 ],
 "metadata": {
  "kernelspec": {
   "display_name": "Python 3",
   "language": "python",
   "name": "python3"
  },
  "language_info": {
   "codemirror_mode": {
    "name": "ipython",
    "version": 3
   },
   "file_extension": ".py",
   "mimetype": "text/x-python",
   "name": "python",
   "nbconvert_exporter": "python",
   "pygments_lexer": "ipython3",
   "version": "3.6.4"
  }
 },
 "nbformat": 4,
 "nbformat_minor": 2
}
