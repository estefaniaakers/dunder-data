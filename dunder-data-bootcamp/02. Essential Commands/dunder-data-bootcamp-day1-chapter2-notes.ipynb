{
 "cells": [
  {
   "cell_type": "markdown",
   "metadata": {},
   "source": [
    "# NOTES DURING CLASS - DAY ONE - CHAPTER 2\n",
    "\n"
   ]
  },
  {
   "cell_type": "code",
   "execution_count": 39,
   "metadata": {},
   "outputs": [
    {
     "data": {
      "text/html": [
       "<div>\n",
       "<style scoped>\n",
       "    .dataframe tbody tr th:only-of-type {\n",
       "        vertical-align: middle;\n",
       "    }\n",
       "\n",
       "    .dataframe tbody tr th {\n",
       "        vertical-align: top;\n",
       "    }\n",
       "\n",
       "    .dataframe thead th {\n",
       "        text-align: right;\n",
       "    }\n",
       "</style>\n",
       "<table border=\"1\" class=\"dataframe\">\n",
       "  <thead>\n",
       "    <tr style=\"text-align: right;\">\n",
       "      <th></th>\n",
       "      <th>title</th>\n",
       "      <th>dept</th>\n",
       "      <th>salary</th>\n",
       "      <th>race</th>\n",
       "      <th>gender</th>\n",
       "      <th>hire_date</th>\n",
       "    </tr>\n",
       "  </thead>\n",
       "  <tbody>\n",
       "    <tr>\n",
       "      <th>0</th>\n",
       "      <td>POLICE OFFICER</td>\n",
       "      <td>Houston Police Department-HPD</td>\n",
       "      <td>45279.0</td>\n",
       "      <td>White</td>\n",
       "      <td>Male</td>\n",
       "      <td>2015-02-03</td>\n",
       "    </tr>\n",
       "    <tr>\n",
       "      <th>1</th>\n",
       "      <td>ENGINEER/OPERATOR</td>\n",
       "      <td>Houston Fire Department (HFD)</td>\n",
       "      <td>63166.0</td>\n",
       "      <td>White</td>\n",
       "      <td>Male</td>\n",
       "      <td>1982-02-08</td>\n",
       "    </tr>\n",
       "    <tr>\n",
       "      <th>2</th>\n",
       "      <td>SENIOR POLICE OFFICER</td>\n",
       "      <td>Houston Police Department-HPD</td>\n",
       "      <td>66614.0</td>\n",
       "      <td>Black</td>\n",
       "      <td>Male</td>\n",
       "      <td>1984-11-26</td>\n",
       "    </tr>\n",
       "    <tr>\n",
       "      <th>3</th>\n",
       "      <td>ENGINEER</td>\n",
       "      <td>Public Works &amp; Engineering-PWE</td>\n",
       "      <td>71680.0</td>\n",
       "      <td>Asian</td>\n",
       "      <td>Male</td>\n",
       "      <td>2012-03-26</td>\n",
       "    </tr>\n",
       "    <tr>\n",
       "      <th>4</th>\n",
       "      <td>CARPENTER</td>\n",
       "      <td>Houston Airport System (HAS)</td>\n",
       "      <td>42390.0</td>\n",
       "      <td>White</td>\n",
       "      <td>Male</td>\n",
       "      <td>2013-11-04</td>\n",
       "    </tr>\n",
       "  </tbody>\n",
       "</table>\n",
       "</div>"
      ],
      "text/plain": [
       "                   title                            dept   salary   race  \\\n",
       "0         POLICE OFFICER   Houston Police Department-HPD  45279.0  White   \n",
       "1      ENGINEER/OPERATOR   Houston Fire Department (HFD)  63166.0  White   \n",
       "2  SENIOR POLICE OFFICER   Houston Police Department-HPD  66614.0  Black   \n",
       "3               ENGINEER  Public Works & Engineering-PWE  71680.0  Asian   \n",
       "4              CARPENTER    Houston Airport System (HAS)  42390.0  White   \n",
       "\n",
       "  gender  hire_date  \n",
       "0   Male 2015-02-03  \n",
       "1   Male 1982-02-08  \n",
       "2   Male 1984-11-26  \n",
       "3   Male 2012-03-26  \n",
       "4   Male 2013-11-04  "
      ]
     },
     "execution_count": 39,
     "metadata": {},
     "output_type": "execute_result"
    }
   ],
   "source": [
    "import pandas as pd\n",
    "\n",
    "emp = pd.read_csv('../data/employee.csv', parse_dates=['hire_date'])\n",
    "emp.head()"
   ]
  },
  {
   "cell_type": "code",
   "execution_count": 40,
   "metadata": {},
   "outputs": [
    {
     "data": {
      "text/plain": [
       "0    45279.0\n",
       "1    63166.0\n",
       "2    66614.0\n",
       "3    71680.0\n",
       "4    42390.0\n",
       "Name: salary, dtype: float64"
      ]
     },
     "execution_count": 40,
     "metadata": {},
     "output_type": "execute_result"
    }
   ],
   "source": [
    "sal = emp['salary']\n",
    "sal.head()"
   ]
  },
  {
   "cell_type": "code",
   "execution_count": 41,
   "metadata": {},
   "outputs": [
    {
     "data": {
      "text/plain": [
       "1653"
      ]
     },
     "execution_count": 41,
     "metadata": {},
     "output_type": "execute_result"
    }
   ],
   "source": [
    "len(sal)"
   ]
  },
  {
   "cell_type": "markdown",
   "metadata": {},
   "source": [
    "# VECTORIZATION - DO NOT NEED A LOOP TO ITERATE"
   ]
  },
  {
   "cell_type": "code",
   "execution_count": 43,
   "metadata": {
    "collapsed": true
   },
   "outputs": [
    {
     "data": {
      "text/plain": [
       "0        55279.0\n",
       "1        73166.0\n",
       "2        76614.0\n",
       "3        81680.0\n",
       "4        52390.0\n",
       "5       117962.0\n",
       "6        54616.0\n",
       "7        62644.0\n",
       "8       190416.0\n",
       "9        40347.0\n",
       "10       65269.0\n",
       "11       87076.0\n",
       "12           NaN\n",
       "13           NaN\n",
       "14       91239.0\n",
       "15       76614.0\n",
       "16       71506.0\n",
       "17       67815.0\n",
       "18       53264.0\n",
       "19       65437.0\n",
       "20       62514.0\n",
       "21       71643.0\n",
       "22           NaN\n",
       "23       76614.0\n",
       "24       91239.0\n",
       "25       39557.0\n",
       "26       72540.0\n",
       "27       38024.0\n",
       "28       71921.0\n",
       "29       76614.0\n",
       "          ...   \n",
       "1623     57996.0\n",
       "1624     88286.0\n",
       "1625     75338.0\n",
       "1626         NaN\n",
       "1627     76614.0\n",
       "1628     55279.0\n",
       "1629     73166.0\n",
       "1630     87325.0\n",
       "1631     76614.0\n",
       "1632     42157.0\n",
       "1633     55279.0\n",
       "1634     37914.0\n",
       "1635     76614.0\n",
       "1636         NaN\n",
       "1637     80181.0\n",
       "1638     65437.0\n",
       "1639     71921.0\n",
       "1640     87076.0\n",
       "1641         NaN\n",
       "1642     47211.0\n",
       "1643     40347.0\n",
       "1644     54429.0\n",
       "1645     39286.0\n",
       "1646     91239.0\n",
       "1647    114455.0\n",
       "1648     53443.0\n",
       "1649     76523.0\n",
       "1650     53443.0\n",
       "1651     65461.0\n",
       "1652     61194.0\n",
       "Name: salary, Length: 1653, dtype: float64"
      ]
     },
     "execution_count": 43,
     "metadata": {},
     "output_type": "execute_result"
    }
   ],
   "source": [
    "sal + 10000 #adding 10000 in everyone salary"
   ]
  },
  {
   "cell_type": "code",
   "execution_count": 17,
   "metadata": {
    "collapsed": true
   },
   "outputs": [
    {
     "data": {
      "text/plain": [
       "0       2.050188e+09\n",
       "1       3.989944e+09\n",
       "2       4.437425e+09\n",
       "3       5.138022e+09\n",
       "4       1.796912e+09\n",
       "5       1.165579e+10\n",
       "6       1.990587e+09\n",
       "7       2.771391e+09\n",
       "8       3.254993e+10\n",
       "9       9.209404e+08\n",
       "10      3.054662e+09\n",
       "11      5.940710e+09\n",
       "12               NaN\n",
       "13               NaN\n",
       "14      6.599775e+09\n",
       "15      4.437425e+09\n",
       "16      3.782988e+09\n",
       "17      3.342574e+09\n",
       "18      1.871774e+09\n",
       "19      3.073261e+09\n",
       "20      2.757720e+09\n",
       "21      3.799859e+09\n",
       "22               NaN\n",
       "23      4.437425e+09\n",
       "24      6.599775e+09\n",
       "25      8.736162e+08\n",
       "26      3.911252e+09\n",
       "27      7.853446e+08\n",
       "28      3.834210e+09\n",
       "29      4.437425e+09\n",
       "            ...     \n",
       "1623    2.303616e+09\n",
       "1624    6.128698e+09\n",
       "1625    4.269054e+09\n",
       "1626             NaN\n",
       "1627    4.437425e+09\n",
       "1628    2.050188e+09\n",
       "1629    3.989944e+09\n",
       "1630    5.979156e+09\n",
       "1631    4.437425e+09\n",
       "1632    1.034073e+09\n",
       "1633    2.050188e+09\n",
       "1634    7.791914e+08\n",
       "1635    4.437425e+09\n",
       "1636             NaN\n",
       "1637    4.925373e+09\n",
       "1638    3.073261e+09\n",
       "1639    3.834210e+09\n",
       "1640    5.940710e+09\n",
       "1641             NaN\n",
       "1642    1.384659e+09\n",
       "1643    9.209404e+08\n",
       "1644    1.973936e+09\n",
       "1645    8.576698e+08\n",
       "1646    6.599775e+09\n",
       "1647    1.091085e+10\n",
       "1648    1.887294e+09\n",
       "1649    4.425310e+09\n",
       "1650    1.887294e+09\n",
       "1651    3.075923e+09\n",
       "1652    2.620826e+09\n",
       "Name: salary, Length: 1653, dtype: float64"
      ]
     },
     "execution_count": 17,
     "metadata": {},
     "output_type": "execute_result"
    }
   ],
   "source": [
    "sal ** 2 # root square"
   ]
  },
  {
   "cell_type": "code",
   "execution_count": 16,
   "metadata": {
    "collapsed": true
   },
   "outputs": [
    {
     "data": {
      "text/plain": [
       "0        3483.0\n",
       "1        4858.0\n",
       "2        5124.0\n",
       "3        5513.0\n",
       "4        3260.0\n",
       "5        8304.0\n",
       "6        3432.0\n",
       "7        4049.0\n",
       "8       13878.0\n",
       "9        2334.0\n",
       "10       4251.0\n",
       "11       5928.0\n",
       "12          NaN\n",
       "13          NaN\n",
       "14       6249.0\n",
       "15       5124.0\n",
       "16       4731.0\n",
       "17       4447.0\n",
       "18       3328.0\n",
       "19       4264.0\n",
       "20       4039.0\n",
       "21       4741.0\n",
       "22          NaN\n",
       "23       5124.0\n",
       "24       6249.0\n",
       "25       2273.0\n",
       "26       4810.0\n",
       "27       2155.0\n",
       "28       4763.0\n",
       "29       5124.0\n",
       "         ...   \n",
       "1623     3692.0\n",
       "1624     6022.0\n",
       "1625     5026.0\n",
       "1626        NaN\n",
       "1627     5124.0\n",
       "1628     3483.0\n",
       "1629     4858.0\n",
       "1630     5948.0\n",
       "1631     5124.0\n",
       "1632     2473.0\n",
       "1633     3483.0\n",
       "1634     2147.0\n",
       "1635     5124.0\n",
       "1636        NaN\n",
       "1637     5398.0\n",
       "1638     4264.0\n",
       "1639     4763.0\n",
       "1640     5928.0\n",
       "1641        NaN\n",
       "1642     2862.0\n",
       "1643     2334.0\n",
       "1644     3417.0\n",
       "1645     2252.0\n",
       "1646     6249.0\n",
       "1647     8035.0\n",
       "1648     3341.0\n",
       "1649     5117.0\n",
       "1650     3341.0\n",
       "1651     4266.0\n",
       "1652     3938.0\n",
       "Name: salary, Length: 1653, dtype: float64"
      ]
     },
     "execution_count": 16,
     "metadata": {},
     "output_type": "execute_result"
    }
   ],
   "source": [
    "sal // 13 # floor division, return the int part"
   ]
  },
  {
   "cell_type": "code",
   "execution_count": 18,
   "metadata": {
    "collapsed": true
   },
   "outputs": [
    {
     "data": {
      "text/plain": [
       "0       False\n",
       "1        True\n",
       "2        True\n",
       "3        True\n",
       "4        True\n",
       "5        True\n",
       "6        True\n",
       "7        True\n",
       "8        True\n",
       "9       False\n",
       "10      False\n",
       "11       True\n",
       "12      False\n",
       "13      False\n",
       "14      False\n",
       "15       True\n",
       "16       True\n",
       "17      False\n",
       "18       True\n",
       "19      False\n",
       "20       True\n",
       "21      False\n",
       "22      False\n",
       "23       True\n",
       "24      False\n",
       "25      False\n",
       "26       True\n",
       "27       True\n",
       "28      False\n",
       "29       True\n",
       "        ...  \n",
       "1623     True\n",
       "1624     True\n",
       "1625     True\n",
       "1626    False\n",
       "1627     True\n",
       "1628    False\n",
       "1629     True\n",
       "1630    False\n",
       "1631     True\n",
       "1632    False\n",
       "1633    False\n",
       "1634     True\n",
       "1635     True\n",
       "1636    False\n",
       "1637    False\n",
       "1638    False\n",
       "1639    False\n",
       "1640     True\n",
       "1641    False\n",
       "1642    False\n",
       "1643    False\n",
       "1644    False\n",
       "1645     True\n",
       "1646    False\n",
       "1647    False\n",
       "1648    False\n",
       "1649    False\n",
       "1650    False\n",
       "1651    False\n",
       "1652     True\n",
       "Name: salary, Length: 1653, dtype: bool"
      ]
     },
     "execution_count": 18,
     "metadata": {},
     "output_type": "execute_result"
    }
   ],
   "source": [
    "sal % 2 == 0 # modulos operation"
   ]
  },
  {
   "cell_type": "code",
   "execution_count": 44,
   "metadata": {},
   "outputs": [
    {
     "data": {
      "text/plain": [
       "0    False\n",
       "1    False\n",
       "2    False\n",
       "3    False\n",
       "4    False\n",
       "Name: salary, dtype: bool"
      ]
     },
     "execution_count": 44,
     "metadata": {},
     "output_type": "execute_result"
    }
   ],
   "source": [
    "sal.between(5000,6000).head()"
   ]
  },
  {
   "cell_type": "markdown",
   "metadata": {},
   "source": [
    "# DESCRIPTIVE STATISTICS\n",
    "\n",
    "* Aggregating Methodes - many values -> summarazy all the values in one\n",
    "    * min\n",
    "    * max\n",
    "    * sum\n",
    "    \n",
    "* Non-Aggregating Methodes - cannot aggregate (square root for example, need do for each one)\n",
    "    * round\n",
    "    * abs\n",
    "    * cummin\n",
    "    \n",
    "    \n",
    "IN PYTHON you can assign methods to variables\n"
   ]
  },
  {
   "cell_type": "code",
   "execution_count": 21,
   "metadata": {},
   "outputs": [
    {
     "data": {
      "text/plain": [
       "24960.0"
      ]
     },
     "execution_count": 21,
     "metadata": {},
     "output_type": "execute_result"
    }
   ],
   "source": [
    "sal.min()"
   ]
  },
  {
   "cell_type": "code",
   "execution_count": 22,
   "metadata": {},
   "outputs": [
    {
     "data": {
      "text/plain": [
       "210588.0"
      ]
     },
     "execution_count": 22,
     "metadata": {},
     "output_type": "execute_result"
    }
   ],
   "source": [
    "sal.max()"
   ]
  },
  {
   "cell_type": "code",
   "execution_count": 29,
   "metadata": {},
   "outputs": [
    {
     "data": {
      "text/plain": [
       "0    45000.0\n",
       "1    63000.0\n",
       "2    67000.0\n",
       "3    72000.0\n",
       "4    42000.0\n",
       "Name: salary, dtype: float64"
      ]
     },
     "execution_count": 29,
     "metadata": {},
     "output_type": "execute_result"
    }
   ],
   "source": [
    "sal.round(-3).head() #get a series with my numbers rounded"
   ]
  },
  {
   "cell_type": "code",
   "execution_count": 32,
   "metadata": {},
   "outputs": [
    {
     "data": {
      "text/plain": [
       "0    45279.0\n",
       "1    63166.0\n",
       "2    66614.0\n",
       "3    71680.0\n",
       "4    42390.0\n",
       "Name: salary, dtype: float64"
      ]
     },
     "execution_count": 32,
     "metadata": {},
     "output_type": "execute_result"
    }
   ],
   "source": [
    "sal.round().head() #values without round"
   ]
  },
  {
   "cell_type": "code",
   "execution_count": 34,
   "metadata": {},
   "outputs": [
    {
     "data": {
      "text/plain": [
       "0    45279.0\n",
       "1    63166.0\n",
       "2    66614.0\n",
       "3    71680.0\n",
       "4    42390.0\n",
       "Name: salary, dtype: float64"
      ]
     },
     "execution_count": 34,
     "metadata": {},
     "output_type": "execute_result"
    }
   ],
   "source": [
    "sal.abs().head()"
   ]
  },
  {
   "cell_type": "code",
   "execution_count": 36,
   "metadata": {},
   "outputs": [
    {
     "data": {
      "text/plain": [
       "0    45279.0\n",
       "1    45279.0\n",
       "2    45279.0\n",
       "3    45279.0\n",
       "4    42390.0\n",
       "Name: salary, dtype: float64"
      ]
     },
     "execution_count": 36,
     "metadata": {},
     "output_type": "execute_result"
    }
   ],
   "source": [
    "sal.cummin().head() #it is a current minimum, starting from the top"
   ]
  },
  {
   "cell_type": "code",
   "execution_count": 38,
   "metadata": {},
   "outputs": [
    {
     "data": {
      "text/plain": [
       "0    45279.0\n",
       "1    63166.0\n",
       "2    66614.0\n",
       "3    71680.0\n",
       "4    71680.0\n",
       "Name: salary, dtype: float64"
      ]
     },
     "execution_count": 38,
     "metadata": {},
     "output_type": "execute_result"
    }
   ],
   "source": [
    "sal.cummax().head() # it is a current maximum, starting from the top)"
   ]
  },
  {
   "cell_type": "code",
   "execution_count": 45,
   "metadata": {},
   "outputs": [],
   "source": [
    "## Operations on a boolean series\n",
    "\n",
    "* False is 0\n",
    "* True is 1"
   ]
  },
  {
   "cell_type": "code",
   "execution_count": 46,
   "metadata": {},
   "outputs": [
    {
     "data": {
      "text/plain": [
       "0    False\n",
       "1    False\n",
       "2    False\n",
       "3    False\n",
       "4    False\n",
       "Name: salary, dtype: bool"
      ]
     },
     "execution_count": 46,
     "metadata": {},
     "output_type": "execute_result"
    }
   ],
   "source": [
    "sal_100k = sal>100000\n",
    "sal_100k.head()"
   ]
  },
  {
   "cell_type": "code",
   "execution_count": 49,
   "metadata": {},
   "outputs": [
    {
     "data": {
      "text/plain": [
       "36"
      ]
     },
     "execution_count": 49,
     "metadata": {},
     "output_type": "execute_result"
    }
   ],
   "source": [
    "sal_100k.sum() #the number of things that is inside of the criteria"
   ]
  },
  {
   "cell_type": "code",
   "execution_count": 51,
   "metadata": {},
   "outputs": [
    {
     "data": {
      "text/plain": [
       "0.021778584392014518"
      ]
     },
     "execution_count": 51,
     "metadata": {},
     "output_type": "execute_result"
    }
   ],
   "source": [
    "sal_100k.mean() #porcentage that meat the criteria"
   ]
  },
  {
   "cell_type": "code",
   "execution_count": 52,
   "metadata": {},
   "outputs": [
    {
     "data": {
      "text/plain": [
       "0.021778584392014518"
      ]
     },
     "execution_count": 52,
     "metadata": {},
     "output_type": "execute_result"
    }
   ],
   "source": [
    "sal_100k.sum() / len(sal_100k) #the mean is the same than this"
   ]
  },
  {
   "cell_type": "code",
   "execution_count": 58,
   "metadata": {},
   "outputs": [],
   "source": [
    "movie = pd.read_csv('../data/movie.csv', index_col='title')"
   ]
  },
  {
   "cell_type": "code",
   "execution_count": 59,
   "metadata": {},
   "outputs": [
    {
     "data": {
      "text/plain": [
       "title\n",
       "Avatar                                        7.9\n",
       "Pirates of the Caribbean: At World's End      7.1\n",
       "Spectre                                       6.8\n",
       "The Dark Knight Rises                         8.5\n",
       "Star Wars: Episode VII - The Force Awakens    7.1\n",
       "John Carter                                   6.6\n",
       "Spider-Man 3                                  6.2\n",
       "Tangled                                       7.8\n",
       "Avengers: Age of Ultron                       7.5\n",
       "Harry Potter and the Half-Blood Prince        7.5\n",
       "Name: imdb_score, dtype: float64"
      ]
     },
     "execution_count": 59,
     "metadata": {},
     "output_type": "execute_result"
    }
   ],
   "source": [
    "score = movie['imdb_score'].head(10)\n",
    "score"
   ]
  },
  {
   "cell_type": "code",
   "execution_count": 61,
   "metadata": {},
   "outputs": [
    {
     "data": {
      "text/plain": [
       "title\n",
       "Avatar                                         9.0\n",
       "Pirates of the Caribbean: At World's End       4.5\n",
       "Spectre                                        3.0\n",
       "The Dark Knight Rises                         10.0\n",
       "Star Wars: Episode VII - The Force Awakens     4.5\n",
       "John Carter                                    2.0\n",
       "Spider-Man 3                                   1.0\n",
       "Tangled                                        8.0\n",
       "Avengers: Age of Ultron                        6.5\n",
       "Harry Potter and the Half-Blood Prince         6.5\n",
       "Name: imdb_score, dtype: float64"
      ]
     },
     "execution_count": 61,
     "metadata": {},
     "output_type": "execute_result"
    }
   ],
   "source": [
    "score.rank() #rank so your lowest receive 1, use average if has repeated number"
   ]
  },
  {
   "cell_type": "code",
   "execution_count": 63,
   "metadata": {},
   "outputs": [
    {
     "data": {
      "text/plain": [
       "title\n",
       "Avatar                                         2.0\n",
       "Pirates of the Caribbean: At World's End       6.5\n",
       "Spectre                                        8.0\n",
       "The Dark Knight Rises                          1.0\n",
       "Star Wars: Episode VII - The Force Awakens     6.5\n",
       "John Carter                                    9.0\n",
       "Spider-Man 3                                  10.0\n",
       "Tangled                                        3.0\n",
       "Avengers: Age of Ultron                        4.5\n",
       "Harry Potter and the Half-Blood Prince         4.5\n",
       "Name: imdb_score, dtype: float64"
      ]
     },
     "execution_count": 63,
     "metadata": {},
     "output_type": "execute_result"
    }
   ],
   "source": [
    "score.rank(ascending=False) #number one is the biggest ranked"
   ]
  },
  {
   "cell_type": "code",
   "execution_count": 64,
   "metadata": {},
   "outputs": [
    {
     "data": {
      "text/plain": [
       "title\n",
       "Avatar                                        2.0\n",
       "Pirates of the Caribbean: At World's End      5.0\n",
       "Spectre                                       6.0\n",
       "The Dark Knight Rises                         1.0\n",
       "Star Wars: Episode VII - The Force Awakens    5.0\n",
       "John Carter                                   7.0\n",
       "Spider-Man 3                                  8.0\n",
       "Tangled                                       3.0\n",
       "Avengers: Age of Ultron                       4.0\n",
       "Harry Potter and the Half-Blood Prince        4.0\n",
       "Name: imdb_score, dtype: float64"
      ]
     },
     "execution_count": 64,
     "metadata": {},
     "output_type": "execute_result"
    }
   ],
   "source": [
    "score.rank(ascending=False, method='dense')"
   ]
  },
  {
   "cell_type": "code",
   "execution_count": 65,
   "metadata": {
    "collapsed": true
   },
   "outputs": [
    {
     "data": {
      "text/plain": [
       "title\n",
       "Spider-Man 3                                  6.2\n",
       "John Carter                                   6.6\n",
       "Spectre                                       6.8\n",
       "Pirates of the Caribbean: At World's End      7.1\n",
       "Star Wars: Episode VII - The Force Awakens    7.1\n",
       "Avengers: Age of Ultron                       7.5\n",
       "Harry Potter and the Half-Blood Prince        7.5\n",
       "Tangled                                       7.8\n",
       "Avatar                                        7.9\n",
       "The Dark Knight Rises                         8.5\n",
       "Name: imdb_score, dtype: float64"
      ]
     },
     "execution_count": 65,
     "metadata": {},
     "output_type": "execute_result"
    }
   ],
   "source": [
    "score.sort_values()"
   ]
  },
  {
   "cell_type": "code",
   "execution_count": 67,
   "metadata": {},
   "outputs": [
    {
     "data": {
      "text/plain": [
       "title\n",
       "The Dark Knight Rises                         1.0\n",
       "Avatar                                        2.0\n",
       "Tangled                                       3.0\n",
       "Avengers: Age of Ultron                       4.0\n",
       "Harry Potter and the Half-Blood Prince        4.0\n",
       "Pirates of the Caribbean: At World's End      5.0\n",
       "Star Wars: Episode VII - The Force Awakens    5.0\n",
       "Spectre                                       6.0\n",
       "John Carter                                   7.0\n",
       "Spider-Man 3                                  8.0\n",
       "Name: imdb_score, dtype: float64"
      ]
     },
     "execution_count": 67,
     "metadata": {},
     "output_type": "execute_result"
    }
   ],
   "source": [
    "score.rank(ascending=False,method='dense').sort_values()"
   ]
  },
  {
   "cell_type": "markdown",
   "metadata": {},
   "source": [
    "# NOTEBOOK 2 - SERIES METHODS MORE"
   ]
  },
  {
   "cell_type": "code",
   "execution_count": 68,
   "metadata": {},
   "outputs": [
    {
     "data": {
      "text/plain": [
       "0"
      ]
     },
     "execution_count": 68,
     "metadata": {},
     "output_type": "execute_result"
    }
   ],
   "source": [
    "score.isna().sum()"
   ]
  },
  {
   "cell_type": "code",
   "execution_count": 73,
   "metadata": {},
   "outputs": [
    {
     "data": {
      "text/plain": [
       "0      45279.0\n",
       "1      63166.0\n",
       "2      66614.0\n",
       "3      71680.0\n",
       "4      42390.0\n",
       "5     107962.0\n",
       "6      44616.0\n",
       "7      52644.0\n",
       "8     180416.0\n",
       "9      30347.0\n",
       "10     55269.0\n",
       "11     77076.0\n",
       "14     81239.0\n",
       "15     66614.0\n",
       "16     61506.0\n",
       "Name: salary, dtype: float64"
      ]
     },
     "execution_count": 73,
     "metadata": {},
     "output_type": "execute_result"
    }
   ],
   "source": [
    "sal.dropna().head(15)"
   ]
  },
  {
   "cell_type": "code",
   "execution_count": 74,
   "metadata": {},
   "outputs": [
    {
     "data": {
      "text/plain": [
       "0       45279.0\n",
       "1       63166.0\n",
       "2       66614.0\n",
       "3       71680.0\n",
       "4       42390.0\n",
       "5      107962.0\n",
       "6       44616.0\n",
       "7       52644.0\n",
       "8      180416.0\n",
       "9       30347.0\n",
       "10      55269.0\n",
       "11      77076.0\n",
       "12    9999999.0\n",
       "13    9999999.0\n",
       "14      81239.0\n",
       "Name: salary, dtype: float64"
      ]
     },
     "execution_count": 74,
     "metadata": {},
     "output_type": "execute_result"
    }
   ],
   "source": [
    "sal.fillna(9999999).head(15)"
   ]
  },
  {
   "cell_type": "code",
   "execution_count": 76,
   "metadata": {},
   "outputs": [
    {
     "data": {
      "text/plain": [
       "56094.97356544165"
      ]
     },
     "execution_count": 76,
     "metadata": {},
     "output_type": "execute_result"
    }
   ],
   "source": [
    "sal.mean()"
   ]
  },
  {
   "cell_type": "code",
   "execution_count": 77,
   "metadata": {},
   "outputs": [
    {
     "data": {
      "text/plain": [
       "0    45279.0\n",
       "1    63166.0\n",
       "2    66614.0\n",
       "3    71680.0\n",
       "4    42390.0\n",
       "Name: salary, dtype: float64"
      ]
     },
     "execution_count": 77,
     "metadata": {},
     "output_type": "execute_result"
    }
   ],
   "source": [
    "sal.fillna(sal.mean()).head()"
   ]
  },
  {
   "cell_type": "code",
   "execution_count": 80,
   "metadata": {},
   "outputs": [
    {
     "data": {
      "text/plain": [
       "102"
      ]
     },
     "execution_count": 80,
     "metadata": {},
     "output_type": "execute_result"
    }
   ],
   "source": [
    "len(sal) - sal.count()"
   ]
  },
  {
   "cell_type": "code",
   "execution_count": 82,
   "metadata": {},
   "outputs": [
    {
     "data": {
      "text/plain": [
       "title\n",
       "The Dark Knight Rises                         8.5\n",
       "Avatar                                        7.9\n",
       "Tangled                                       7.8\n",
       "Harry Potter and the Half-Blood Prince        7.5\n",
       "Avengers: Age of Ultron                       7.5\n",
       "Star Wars: Episode VII - The Force Awakens    7.1\n",
       "Pirates of the Caribbean: At World's End      7.1\n",
       "Spectre                                       6.8\n",
       "John Carter                                   6.6\n",
       "Spider-Man 3                                  6.2\n",
       "Name: imdb_score, dtype: float64"
      ]
     },
     "execution_count": 82,
     "metadata": {},
     "output_type": "execute_result"
    }
   ],
   "source": [
    "score.sort_values(ascending=False) #Highest score"
   ]
  },
  {
   "cell_type": "code",
   "execution_count": 83,
   "metadata": {},
   "outputs": [
    {
     "data": {
      "text/plain": [
       "title\n",
       "The Dark Knight Rises                         8.5\n",
       "Tangled                                       7.8\n",
       "Star Wars: Episode VII - The Force Awakens    7.1\n",
       "Spider-Man 3                                  6.2\n",
       "Spectre                                       6.8\n",
       "Pirates of the Caribbean: At World's End      7.1\n",
       "John Carter                                   6.6\n",
       "Harry Potter and the Half-Blood Prince        7.5\n",
       "Avengers: Age of Ultron                       7.5\n",
       "Avatar                                        7.9\n",
       "Name: imdb_score, dtype: float64"
      ]
     },
     "execution_count": 83,
     "metadata": {},
     "output_type": "execute_result"
    }
   ],
   "source": [
    "score.sort_index(ascending=False)"
   ]
  },
  {
   "cell_type": "code",
   "execution_count": 84,
   "metadata": {},
   "outputs": [
    {
     "data": {
      "text/plain": [
       "title\n",
       "Avatar                                        7.9\n",
       "Avengers: Age of Ultron                       7.5\n",
       "Harry Potter and the Half-Blood Prince        7.5\n",
       "John Carter                                   6.6\n",
       "Pirates of the Caribbean: At World's End      7.1\n",
       "Spectre                                       6.8\n",
       "Spider-Man 3                                  6.2\n",
       "Star Wars: Episode VII - The Force Awakens    7.1\n",
       "Tangled                                       7.8\n",
       "The Dark Knight Rises                         8.5\n",
       "Name: imdb_score, dtype: float64"
      ]
     },
     "execution_count": 84,
     "metadata": {},
     "output_type": "execute_result"
    }
   ],
   "source": [
    "score.sort_index(ascending=True)"
   ]
  },
  {
   "cell_type": "code",
   "execution_count": 85,
   "metadata": {},
   "outputs": [
    {
     "data": {
      "text/plain": [
       "8.5"
      ]
     },
     "execution_count": 85,
     "metadata": {},
     "output_type": "execute_result"
    }
   ],
   "source": [
    "score.max()"
   ]
  },
  {
   "cell_type": "code",
   "execution_count": 86,
   "metadata": {},
   "outputs": [
    {
     "data": {
      "text/plain": [
       "'The Dark Knight Rises'"
      ]
     },
     "execution_count": 86,
     "metadata": {},
     "output_type": "execute_result"
    }
   ],
   "source": [
    "score.idxmax() #index of the maximum use idxmax or idxmin"
   ]
  },
  {
   "cell_type": "code",
   "execution_count": 87,
   "metadata": {},
   "outputs": [
    {
     "data": {
      "text/plain": [
       "'Spider-Man 3'"
      ]
     },
     "execution_count": 87,
     "metadata": {},
     "output_type": "execute_result"
    }
   ],
   "source": [
    "score.idxmin()"
   ]
  },
  {
   "cell_type": "code",
   "execution_count": 88,
   "metadata": {},
   "outputs": [
    {
     "data": {
      "text/plain": [
       "6.2"
      ]
     },
     "execution_count": 88,
     "metadata": {},
     "output_type": "execute_result"
    }
   ],
   "source": [
    "score.min()"
   ]
  },
  {
   "cell_type": "code",
   "execution_count": 89,
   "metadata": {},
   "outputs": [
    {
     "data": {
      "text/plain": [
       "array([7.9, 7.1, 6.8, 8.5, 6.6, 6.2, 7.8, 7.5])"
      ]
     },
     "execution_count": 89,
     "metadata": {},
     "output_type": "execute_result"
    }
   ],
   "source": [
    "score.unique() #unique score, numpy array"
   ]
  },
  {
   "cell_type": "code",
   "execution_count": 90,
   "metadata": {},
   "outputs": [
    {
     "data": {
      "text/plain": [
       "8"
      ]
     },
     "execution_count": 90,
     "metadata": {},
     "output_type": "execute_result"
    }
   ],
   "source": [
    "score.nunique() #number of unique values"
   ]
  },
  {
   "cell_type": "code",
   "execution_count": 91,
   "metadata": {},
   "outputs": [
    {
     "data": {
      "text/plain": [
       "8"
      ]
     },
     "execution_count": 91,
     "metadata": {},
     "output_type": "execute_result"
    }
   ],
   "source": [
    "len(score.unique())"
   ]
  },
  {
   "cell_type": "markdown",
   "metadata": {},
   "source": [
    "# CHAPTER 3 - STRINGS SERIES METHODS"
   ]
  },
  {
   "cell_type": "code",
   "execution_count": 92,
   "metadata": {},
   "outputs": [
    {
     "data": {
      "text/html": [
       "<div>\n",
       "<style scoped>\n",
       "    .dataframe tbody tr th:only-of-type {\n",
       "        vertical-align: middle;\n",
       "    }\n",
       "\n",
       "    .dataframe tbody tr th {\n",
       "        vertical-align: top;\n",
       "    }\n",
       "\n",
       "    .dataframe thead th {\n",
       "        text-align: right;\n",
       "    }\n",
       "</style>\n",
       "<table border=\"1\" class=\"dataframe\">\n",
       "  <thead>\n",
       "    <tr style=\"text-align: right;\">\n",
       "      <th></th>\n",
       "      <th>title</th>\n",
       "      <th>dept</th>\n",
       "      <th>salary</th>\n",
       "      <th>race</th>\n",
       "      <th>gender</th>\n",
       "      <th>hire_date</th>\n",
       "    </tr>\n",
       "  </thead>\n",
       "  <tbody>\n",
       "    <tr>\n",
       "      <th>0</th>\n",
       "      <td>POLICE OFFICER</td>\n",
       "      <td>Houston Police Department-HPD</td>\n",
       "      <td>45279.0</td>\n",
       "      <td>White</td>\n",
       "      <td>Male</td>\n",
       "      <td>2015-02-03</td>\n",
       "    </tr>\n",
       "    <tr>\n",
       "      <th>1</th>\n",
       "      <td>ENGINEER/OPERATOR</td>\n",
       "      <td>Houston Fire Department (HFD)</td>\n",
       "      <td>63166.0</td>\n",
       "      <td>White</td>\n",
       "      <td>Male</td>\n",
       "      <td>1982-02-08</td>\n",
       "    </tr>\n",
       "    <tr>\n",
       "      <th>2</th>\n",
       "      <td>SENIOR POLICE OFFICER</td>\n",
       "      <td>Houston Police Department-HPD</td>\n",
       "      <td>66614.0</td>\n",
       "      <td>Black</td>\n",
       "      <td>Male</td>\n",
       "      <td>1984-11-26</td>\n",
       "    </tr>\n",
       "    <tr>\n",
       "      <th>3</th>\n",
       "      <td>ENGINEER</td>\n",
       "      <td>Public Works &amp; Engineering-PWE</td>\n",
       "      <td>71680.0</td>\n",
       "      <td>Asian</td>\n",
       "      <td>Male</td>\n",
       "      <td>2012-03-26</td>\n",
       "    </tr>\n",
       "    <tr>\n",
       "      <th>4</th>\n",
       "      <td>CARPENTER</td>\n",
       "      <td>Houston Airport System (HAS)</td>\n",
       "      <td>42390.0</td>\n",
       "      <td>White</td>\n",
       "      <td>Male</td>\n",
       "      <td>2013-11-04</td>\n",
       "    </tr>\n",
       "  </tbody>\n",
       "</table>\n",
       "</div>"
      ],
      "text/plain": [
       "                   title                            dept   salary   race  \\\n",
       "0         POLICE OFFICER   Houston Police Department-HPD  45279.0  White   \n",
       "1      ENGINEER/OPERATOR   Houston Fire Department (HFD)  63166.0  White   \n",
       "2  SENIOR POLICE OFFICER   Houston Police Department-HPD  66614.0  Black   \n",
       "3               ENGINEER  Public Works & Engineering-PWE  71680.0  Asian   \n",
       "4              CARPENTER    Houston Airport System (HAS)  42390.0  White   \n",
       "\n",
       "  gender  hire_date  \n",
       "0   Male 2015-02-03  \n",
       "1   Male 1982-02-08  \n",
       "2   Male 1984-11-26  \n",
       "3   Male 2012-03-26  \n",
       "4   Male 2013-11-04  "
      ]
     },
     "execution_count": 92,
     "metadata": {},
     "output_type": "execute_result"
    }
   ],
   "source": [
    "import pandas as pd\n",
    "\n",
    "emp = pd.read_csv('../data/employee.csv', parse_dates=['hire_date'])\n",
    "emp.head()"
   ]
  },
  {
   "cell_type": "code",
   "execution_count": 93,
   "metadata": {},
   "outputs": [
    {
     "data": {
      "text/plain": [
       "0     Houston Police Department-HPD\n",
       "1     Houston Fire Department (HFD)\n",
       "2     Houston Police Department-HPD\n",
       "3    Public Works & Engineering-PWE\n",
       "4      Houston Airport System (HAS)\n",
       "Name: dept, dtype: object"
      ]
     },
     "execution_count": 93,
     "metadata": {},
     "output_type": "execute_result"
    }
   ],
   "source": [
    "dept = emp['dept']\n",
    "dept.head()"
   ]
  },
  {
   "cell_type": "code",
   "execution_count": 95,
   "metadata": {},
   "outputs": [
    {
     "ename": "TypeError",
     "evalue": "could not convert string to float: 'Houston Fire Department (HFD)'",
     "output_type": "error",
     "traceback": [
      "\u001b[0;31m---------------------------------------------------------------------------\u001b[0m",
      "\u001b[0;31mValueError\u001b[0m                                Traceback (most recent call last)",
      "\u001b[0;32m~/anaconda3/lib/python3.7/site-packages/pandas/core/nanops.py\u001b[0m in \u001b[0;36mf\u001b[0;34m(values, axis, skipna, **kwds)\u001b[0m\n\u001b[1;32m    127\u001b[0m                 \u001b[0;32melse\u001b[0m\u001b[0;34m:\u001b[0m\u001b[0;34m\u001b[0m\u001b[0m\n\u001b[0;32m--> 128\u001b[0;31m                     \u001b[0mresult\u001b[0m \u001b[0;34m=\u001b[0m \u001b[0malt\u001b[0m\u001b[0;34m(\u001b[0m\u001b[0mvalues\u001b[0m\u001b[0;34m,\u001b[0m \u001b[0maxis\u001b[0m\u001b[0;34m=\u001b[0m\u001b[0maxis\u001b[0m\u001b[0;34m,\u001b[0m \u001b[0mskipna\u001b[0m\u001b[0;34m=\u001b[0m\u001b[0mskipna\u001b[0m\u001b[0;34m,\u001b[0m \u001b[0;34m**\u001b[0m\u001b[0mkwds\u001b[0m\u001b[0;34m)\u001b[0m\u001b[0;34m\u001b[0m\u001b[0m\n\u001b[0m\u001b[1;32m    129\u001b[0m             \u001b[0;32mexcept\u001b[0m \u001b[0mException\u001b[0m\u001b[0;34m:\u001b[0m\u001b[0;34m\u001b[0m\u001b[0m\n",
      "\u001b[0;32m~/anaconda3/lib/python3.7/site-packages/pandas/core/nanops.py\u001b[0m in \u001b[0;36mnanmedian\u001b[0;34m(values, axis, skipna)\u001b[0m\n\u001b[1;32m    379\u001b[0m     \u001b[0;32mif\u001b[0m \u001b[0;32mnot\u001b[0m \u001b[0mis_float_dtype\u001b[0m\u001b[0;34m(\u001b[0m\u001b[0mvalues\u001b[0m\u001b[0;34m)\u001b[0m\u001b[0;34m:\u001b[0m\u001b[0;34m\u001b[0m\u001b[0m\n\u001b[0;32m--> 380\u001b[0;31m         \u001b[0mvalues\u001b[0m \u001b[0;34m=\u001b[0m \u001b[0mvalues\u001b[0m\u001b[0;34m.\u001b[0m\u001b[0mastype\u001b[0m\u001b[0;34m(\u001b[0m\u001b[0;34m'f8'\u001b[0m\u001b[0;34m)\u001b[0m\u001b[0;34m\u001b[0m\u001b[0m\n\u001b[0m\u001b[1;32m    381\u001b[0m         \u001b[0mvalues\u001b[0m\u001b[0;34m[\u001b[0m\u001b[0mmask\u001b[0m\u001b[0;34m]\u001b[0m \u001b[0;34m=\u001b[0m \u001b[0mnp\u001b[0m\u001b[0;34m.\u001b[0m\u001b[0mnan\u001b[0m\u001b[0;34m\u001b[0m\u001b[0m\n",
      "\u001b[0;31mValueError\u001b[0m: could not convert string to float: 'Houston Fire Department (HFD)'",
      "\nDuring handling of the above exception, another exception occurred:\n",
      "\u001b[0;31mValueError\u001b[0m                                Traceback (most recent call last)",
      "\u001b[0;32m~/anaconda3/lib/python3.7/site-packages/pandas/core/nanops.py\u001b[0m in \u001b[0;36mf\u001b[0;34m(values, axis, skipna, **kwds)\u001b[0m\n\u001b[1;32m    130\u001b[0m                 \u001b[0;32mtry\u001b[0m\u001b[0;34m:\u001b[0m\u001b[0;34m\u001b[0m\u001b[0m\n\u001b[0;32m--> 131\u001b[0;31m                     \u001b[0mresult\u001b[0m \u001b[0;34m=\u001b[0m \u001b[0malt\u001b[0m\u001b[0;34m(\u001b[0m\u001b[0mvalues\u001b[0m\u001b[0;34m,\u001b[0m \u001b[0maxis\u001b[0m\u001b[0;34m=\u001b[0m\u001b[0maxis\u001b[0m\u001b[0;34m,\u001b[0m \u001b[0mskipna\u001b[0m\u001b[0;34m=\u001b[0m\u001b[0mskipna\u001b[0m\u001b[0;34m,\u001b[0m \u001b[0;34m**\u001b[0m\u001b[0mkwds\u001b[0m\u001b[0;34m)\u001b[0m\u001b[0;34m\u001b[0m\u001b[0m\n\u001b[0m\u001b[1;32m    132\u001b[0m                 \u001b[0;32mexcept\u001b[0m \u001b[0mValueError\u001b[0m \u001b[0;32mas\u001b[0m \u001b[0me\u001b[0m\u001b[0;34m:\u001b[0m\u001b[0;34m\u001b[0m\u001b[0m\n",
      "\u001b[0;32m~/anaconda3/lib/python3.7/site-packages/pandas/core/nanops.py\u001b[0m in \u001b[0;36mnanmedian\u001b[0;34m(values, axis, skipna)\u001b[0m\n\u001b[1;32m    379\u001b[0m     \u001b[0;32mif\u001b[0m \u001b[0;32mnot\u001b[0m \u001b[0mis_float_dtype\u001b[0m\u001b[0;34m(\u001b[0m\u001b[0mvalues\u001b[0m\u001b[0;34m)\u001b[0m\u001b[0;34m:\u001b[0m\u001b[0;34m\u001b[0m\u001b[0m\n\u001b[0;32m--> 380\u001b[0;31m         \u001b[0mvalues\u001b[0m \u001b[0;34m=\u001b[0m \u001b[0mvalues\u001b[0m\u001b[0;34m.\u001b[0m\u001b[0mastype\u001b[0m\u001b[0;34m(\u001b[0m\u001b[0;34m'f8'\u001b[0m\u001b[0;34m)\u001b[0m\u001b[0;34m\u001b[0m\u001b[0m\n\u001b[0m\u001b[1;32m    381\u001b[0m         \u001b[0mvalues\u001b[0m\u001b[0;34m[\u001b[0m\u001b[0mmask\u001b[0m\u001b[0;34m]\u001b[0m \u001b[0;34m=\u001b[0m \u001b[0mnp\u001b[0m\u001b[0;34m.\u001b[0m\u001b[0mnan\u001b[0m\u001b[0;34m\u001b[0m\u001b[0m\n",
      "\u001b[0;31mValueError\u001b[0m: could not convert string to float: 'Houston Fire Department (HFD)'",
      "\nDuring handling of the above exception, another exception occurred:\n",
      "\u001b[0;31mTypeError\u001b[0m                                 Traceback (most recent call last)",
      "\u001b[0;32m<ipython-input-95-59b19e152cd5>\u001b[0m in \u001b[0;36m<module>\u001b[0;34m()\u001b[0m\n\u001b[0;32m----> 1\u001b[0;31m \u001b[0mdept\u001b[0m\u001b[0;34m.\u001b[0m\u001b[0mmedian\u001b[0m\u001b[0;34m(\u001b[0m\u001b[0;34m)\u001b[0m \u001b[0;31m#error because is string\u001b[0m\u001b[0;34m\u001b[0m\u001b[0m\n\u001b[0m",
      "\u001b[0;32m~/anaconda3/lib/python3.7/site-packages/pandas/core/generic.py\u001b[0m in \u001b[0;36mstat_func\u001b[0;34m(self, axis, skipna, level, numeric_only, **kwargs)\u001b[0m\n\u001b[1;32m   9611\u001b[0m                                       skipna=skipna)\n\u001b[1;32m   9612\u001b[0m         return self._reduce(f, name, axis=axis, skipna=skipna,\n\u001b[0;32m-> 9613\u001b[0;31m                             numeric_only=numeric_only)\n\u001b[0m\u001b[1;32m   9614\u001b[0m \u001b[0;34m\u001b[0m\u001b[0m\n\u001b[1;32m   9615\u001b[0m     \u001b[0;32mreturn\u001b[0m \u001b[0mset_function_name\u001b[0m\u001b[0;34m(\u001b[0m\u001b[0mstat_func\u001b[0m\u001b[0;34m,\u001b[0m \u001b[0mname\u001b[0m\u001b[0;34m,\u001b[0m \u001b[0mcls\u001b[0m\u001b[0;34m)\u001b[0m\u001b[0;34m\u001b[0m\u001b[0m\n",
      "\u001b[0;32m~/anaconda3/lib/python3.7/site-packages/pandas/core/series.py\u001b[0m in \u001b[0;36m_reduce\u001b[0;34m(self, op, name, axis, skipna, numeric_only, filter_type, **kwds)\u001b[0m\n\u001b[1;32m   3219\u001b[0m                                           'numeric_only.'.format(name))\n\u001b[1;32m   3220\u001b[0m             \u001b[0;32mwith\u001b[0m \u001b[0mnp\u001b[0m\u001b[0;34m.\u001b[0m\u001b[0merrstate\u001b[0m\u001b[0;34m(\u001b[0m\u001b[0mall\u001b[0m\u001b[0;34m=\u001b[0m\u001b[0;34m'ignore'\u001b[0m\u001b[0;34m)\u001b[0m\u001b[0;34m:\u001b[0m\u001b[0;34m\u001b[0m\u001b[0m\n\u001b[0;32m-> 3221\u001b[0;31m                 \u001b[0;32mreturn\u001b[0m \u001b[0mop\u001b[0m\u001b[0;34m(\u001b[0m\u001b[0mdelegate\u001b[0m\u001b[0;34m,\u001b[0m \u001b[0mskipna\u001b[0m\u001b[0;34m=\u001b[0m\u001b[0mskipna\u001b[0m\u001b[0;34m,\u001b[0m \u001b[0;34m**\u001b[0m\u001b[0mkwds\u001b[0m\u001b[0;34m)\u001b[0m\u001b[0;34m\u001b[0m\u001b[0m\n\u001b[0m\u001b[1;32m   3222\u001b[0m \u001b[0;34m\u001b[0m\u001b[0m\n\u001b[1;32m   3223\u001b[0m         return delegate._reduce(op=op, name=name, axis=axis, skipna=skipna,\n",
      "\u001b[0;32m~/anaconda3/lib/python3.7/site-packages/pandas/core/nanops.py\u001b[0m in \u001b[0;36m_f\u001b[0;34m(*args, **kwargs)\u001b[0m\n\u001b[1;32m     75\u001b[0m             \u001b[0;32mtry\u001b[0m\u001b[0;34m:\u001b[0m\u001b[0;34m\u001b[0m\u001b[0m\n\u001b[1;32m     76\u001b[0m                 \u001b[0;32mwith\u001b[0m \u001b[0mnp\u001b[0m\u001b[0;34m.\u001b[0m\u001b[0merrstate\u001b[0m\u001b[0;34m(\u001b[0m\u001b[0minvalid\u001b[0m\u001b[0;34m=\u001b[0m\u001b[0;34m'ignore'\u001b[0m\u001b[0;34m)\u001b[0m\u001b[0;34m:\u001b[0m\u001b[0;34m\u001b[0m\u001b[0m\n\u001b[0;32m---> 77\u001b[0;31m                     \u001b[0;32mreturn\u001b[0m \u001b[0mf\u001b[0m\u001b[0;34m(\u001b[0m\u001b[0;34m*\u001b[0m\u001b[0margs\u001b[0m\u001b[0;34m,\u001b[0m \u001b[0;34m**\u001b[0m\u001b[0mkwargs\u001b[0m\u001b[0;34m)\u001b[0m\u001b[0;34m\u001b[0m\u001b[0m\n\u001b[0m\u001b[1;32m     78\u001b[0m             \u001b[0;32mexcept\u001b[0m \u001b[0mValueError\u001b[0m \u001b[0;32mas\u001b[0m \u001b[0me\u001b[0m\u001b[0;34m:\u001b[0m\u001b[0;34m\u001b[0m\u001b[0m\n\u001b[1;32m     79\u001b[0m                 \u001b[0;31m# we want to transform an object array\u001b[0m\u001b[0;34m\u001b[0m\u001b[0;34m\u001b[0m\u001b[0m\n",
      "\u001b[0;32m~/anaconda3/lib/python3.7/site-packages/pandas/core/nanops.py\u001b[0m in \u001b[0;36mf\u001b[0;34m(values, axis, skipna, **kwds)\u001b[0m\n\u001b[1;32m    137\u001b[0m \u001b[0;34m\u001b[0m\u001b[0m\n\u001b[1;32m    138\u001b[0m                     \u001b[0;32mif\u001b[0m \u001b[0mis_object_dtype\u001b[0m\u001b[0;34m(\u001b[0m\u001b[0mvalues\u001b[0m\u001b[0;34m)\u001b[0m\u001b[0;34m:\u001b[0m\u001b[0;34m\u001b[0m\u001b[0m\n\u001b[0;32m--> 139\u001b[0;31m                         \u001b[0;32mraise\u001b[0m \u001b[0mTypeError\u001b[0m\u001b[0;34m(\u001b[0m\u001b[0me\u001b[0m\u001b[0;34m)\u001b[0m\u001b[0;34m\u001b[0m\u001b[0m\n\u001b[0m\u001b[1;32m    140\u001b[0m                     \u001b[0;32mraise\u001b[0m\u001b[0;34m\u001b[0m\u001b[0m\n\u001b[1;32m    141\u001b[0m \u001b[0;34m\u001b[0m\u001b[0m\n",
      "\u001b[0;31mTypeError\u001b[0m: could not convert string to float: 'Houston Fire Department (HFD)'"
     ]
    }
   ],
   "source": [
    "dept.median() #error because is string"
   ]
  },
  {
   "cell_type": "code",
   "execution_count": 96,
   "metadata": {
    "collapsed": true
   },
   "outputs": [
    {
     "data": {
      "text/plain": [
       "Houston Police Department-HPD     638\n",
       "Houston Fire Department (HFD)     384\n",
       "Public Works & Engineering-PWE    343\n",
       "Health & Human Services           108\n",
       "Houston Airport System (HAS)      106\n",
       "Parks & Recreation                 74\n",
       "Name: dept, dtype: int64"
      ]
     },
     "execution_count": 96,
     "metadata": {},
     "output_type": "execute_result"
    }
   ],
   "source": [
    "dept.value_counts() \n",
    "#count the number of occurrencies organize from highest to lowest"
   ]
  },
  {
   "cell_type": "code",
   "execution_count": 97,
   "metadata": {
    "collapsed": true
   },
   "outputs": [
    {
     "data": {
      "text/plain": [
       "Houston Police Department-HPD     0.385965\n",
       "Houston Fire Department (HFD)     0.232305\n",
       "Public Works & Engineering-PWE    0.207502\n",
       "Health & Human Services           0.065336\n",
       "Houston Airport System (HAS)      0.064126\n",
       "Parks & Recreation                0.044767\n",
       "Name: dept, dtype: float64"
      ]
     },
     "execution_count": 97,
     "metadata": {},
     "output_type": "execute_result"
    }
   ],
   "source": [
    "dept.value_counts(normalize=True) \n",
    "#get the percentage of the occurencie"
   ]
  },
  {
   "cell_type": "code",
   "execution_count": 98,
   "metadata": {},
   "outputs": [
    {
     "data": {
      "text/plain": [
       "Houston Police Department-HPD     0.39\n",
       "Houston Fire Department (HFD)     0.23\n",
       "Public Works & Engineering-PWE    0.21\n",
       "Health & Human Services           0.07\n",
       "Houston Airport System (HAS)      0.06\n",
       "Parks & Recreation                0.04\n",
       "Name: dept, dtype: float64"
      ]
     },
     "execution_count": 98,
     "metadata": {},
     "output_type": "execute_result"
    }
   ],
   "source": [
    "dept.value_counts(normalize=True).round(2)"
   ]
  },
  {
   "cell_type": "code",
   "execution_count": 100,
   "metadata": {
    "collapsed": true
   },
   "outputs": [
    {
     "data": {
      "text/plain": [
       "66614.0     157\n",
       "55461.0      68\n",
       "81239.0      59\n",
       "62540.0      38\n",
       "47650.0      37\n",
       "70181.0      31\n",
       "60347.0      30\n",
       "66523.0      29\n",
       "63166.0      29\n",
       "26125.0      28\n",
       "61643.0      26\n",
       "55437.0      24\n",
       "61921.0      22\n",
       "51194.0      22\n",
       "40170.0      22\n",
       "43528.0      19\n",
       "30347.0      16\n",
       "42000.0      16\n",
       "48190.0      16\n",
       "78355.0      15\n",
       "61226.0      15\n",
       "45791.0      14\n",
       "45279.0      14\n",
       "77076.0      14\n",
       "52644.0      14\n",
       "28024.0      13\n",
       "50621.0      13\n",
       "43443.0      13\n",
       "89590.0      12\n",
       "91181.0      11\n",
       "           ... \n",
       "27102.0       1\n",
       "43722.0       1\n",
       "58040.0       1\n",
       "80791.0       1\n",
       "43888.0       1\n",
       "102297.0      1\n",
       "36150.0       1\n",
       "128606.0      1\n",
       "43597.0       1\n",
       "103427.0      1\n",
       "55806.0       1\n",
       "32906.0       1\n",
       "96668.0       1\n",
       "96157.0       1\n",
       "54607.0       1\n",
       "44970.0       1\n",
       "46675.0       1\n",
       "61589.0       1\n",
       "44658.0       1\n",
       "59613.0       1\n",
       "53832.0       1\n",
       "30493.0       1\n",
       "73635.0       1\n",
       "27414.0       1\n",
       "45906.0       1\n",
       "49275.0       1\n",
       "70565.0       1\n",
       "52333.0       1\n",
       "37606.0       1\n",
       "48651.0       1\n",
       "Name: salary, Length: 553, dtype: int64"
      ]
     },
     "execution_count": 100,
     "metadata": {},
     "output_type": "execute_result"
    }
   ],
   "source": [
    "sal.value_counts() #works with numeric values"
   ]
  },
  {
   "cell_type": "code",
   "execution_count": 102,
   "metadata": {},
   "outputs": [
    {
     "data": {
      "text/plain": [
       "0     HOUSTON POLICE DEPARTMENT-HPD\n",
       "1     HOUSTON FIRE DEPARTMENT (HFD)\n",
       "2     HOUSTON POLICE DEPARTMENT-HPD\n",
       "3    PUBLIC WORKS & ENGINEERING-PWE\n",
       "4      HOUSTON AIRPORT SYSTEM (HAS)\n",
       "Name: dept, dtype: object"
      ]
     },
     "execution_count": 102,
     "metadata": {},
     "output_type": "execute_result"
    }
   ],
   "source": [
    "dept.str.upper().head()\n",
    "#only available to string methods "
   ]
  },
  {
   "cell_type": "code",
   "execution_count": 105,
   "metadata": {},
   "outputs": [
    {
     "data": {
      "text/plain": [
       "0    0\n",
       "1    0\n",
       "2    0\n",
       "3    0\n",
       "4    0\n",
       "Name: dept, dtype: int64"
      ]
     },
     "execution_count": 105,
     "metadata": {},
     "output_type": "execute_result"
    }
   ],
   "source": [
    "dept.str.count('es').head() #this str is called ascessor"
   ]
  },
  {
   "cell_type": "code",
   "execution_count": 108,
   "metadata": {},
   "outputs": [
    {
     "data": {
      "text/plain": [
       "0    False\n",
       "1    False\n",
       "2    False\n",
       "3    False\n",
       "4    False\n",
       "Name: dept, dtype: bool"
      ]
     },
     "execution_count": 108,
     "metadata": {},
     "output_type": "execute_result"
    }
   ],
   "source": [
    "dept.str.contains('es').head()"
   ]
  },
  {
   "cell_type": "code",
   "execution_count": 110,
   "metadata": {},
   "outputs": [
    {
     "data": {
      "text/plain": [
       "title                object\n",
       "dept                 object\n",
       "salary              float64\n",
       "race                 object\n",
       "gender               object\n",
       "hire_date    datetime64[ns]\n",
       "dtype: object"
      ]
     },
     "execution_count": 110,
     "metadata": {},
     "output_type": "execute_result"
    }
   ],
   "source": [
    "emp.dtypes"
   ]
  },
  {
   "cell_type": "code",
   "execution_count": 112,
   "metadata": {},
   "outputs": [
    {
     "data": {
      "text/plain": [
       "0   2015-02-03\n",
       "1   1982-02-08\n",
       "2   1984-11-26\n",
       "3   2012-03-26\n",
       "4   2013-11-04\n",
       "Name: hire_date, dtype: datetime64[ns]"
      ]
     },
     "execution_count": 112,
     "metadata": {},
     "output_type": "execute_result"
    }
   ],
   "source": [
    "hire_date = emp['hire_date']\n",
    "hire_date.head()"
   ]
  },
  {
   "cell_type": "code",
   "execution_count": 115,
   "metadata": {},
   "outputs": [
    {
     "data": {
      "text/plain": [
       "0    Tuesday\n",
       "1     Monday\n",
       "2     Monday\n",
       "3     Monday\n",
       "4     Monday\n",
       "Name: hire_date, dtype: object"
      ]
     },
     "execution_count": 115,
     "metadata": {},
     "output_type": "execute_result"
    }
   ],
   "source": [
    "hire_date.dt.day_name().head()\n",
    "# works specifically to date time"
   ]
  },
  {
   "cell_type": "code",
   "execution_count": 117,
   "metadata": {},
   "outputs": [],
   "source": [
    "bikes = pd.read_csv('../data/bikes.csv', parse_dates=['starttime'])"
   ]
  },
  {
   "cell_type": "code",
   "execution_count": 118,
   "metadata": {},
   "outputs": [
    {
     "data": {
      "text/plain": [
       "0   2013-06-28 19:01:00\n",
       "1   2013-06-28 22:53:00\n",
       "2   2013-06-30 14:43:00\n",
       "3   2013-07-01 10:05:00\n",
       "4   2013-07-01 11:16:00\n",
       "Name: starttime, dtype: datetime64[ns]"
      ]
     },
     "execution_count": 118,
     "metadata": {},
     "output_type": "execute_result"
    }
   ],
   "source": [
    "st = bikes['starttime']\n",
    "st.head()"
   ]
  },
  {
   "cell_type": "code",
   "execution_count": 120,
   "metadata": {},
   "outputs": [
    {
     "data": {
      "text/plain": [
       "0   2013-06-28 19:00:00\n",
       "1   2013-06-28 23:00:00\n",
       "2   2013-06-30 15:00:00\n",
       "3   2013-07-01 10:00:00\n",
       "4   2013-07-01 11:00:00\n",
       "Name: starttime, dtype: datetime64[ns]"
      ]
     },
     "execution_count": 120,
     "metadata": {},
     "output_type": "execute_result"
    }
   ],
   "source": [
    "st.dt.round('h').head()\n",
    "#offset alias -> a string that determines what part\n",
    "# of the date time you want to round"
   ]
  },
  {
   "cell_type": "code",
   "execution_count": 122,
   "metadata": {},
   "outputs": [
    {
     "data": {
      "text/plain": [
       "0   2013-06-29\n",
       "1   2013-06-29\n",
       "2   2013-07-01\n",
       "3   2013-07-01\n",
       "4   2013-07-01\n",
       "Name: starttime, dtype: datetime64[ns]"
      ]
     },
     "execution_count": 122,
     "metadata": {},
     "output_type": "execute_result"
    }
   ],
   "source": [
    "st.dt.round('D').head()"
   ]
  },
  {
   "cell_type": "code",
   "execution_count": 126,
   "metadata": {},
   "outputs": [
    {
     "data": {
      "text/plain": [
       "0       2013-06-28 19:01:00\n",
       "1       2013-06-28 22:53:00\n",
       "2       2013-06-30 14:43:00\n",
       "3       2013-07-01 10:05:00\n",
       "4       2013-07-01 11:16:00\n",
       "5       2013-07-01 12:37:00\n",
       "6       2013-07-02 17:47:00\n",
       "7       2013-07-03 09:07:00\n",
       "8       2013-07-03 15:21:00\n",
       "9       2013-07-04 15:00:00\n",
       "10      2013-07-04 17:17:00\n",
       "11      2013-07-04 18:13:00\n",
       "12      2013-07-05 10:02:00\n",
       "13      2013-07-06 09:43:00\n",
       "14      2013-07-06 12:39:00\n",
       "15      2013-07-07 00:06:00\n",
       "16      2013-07-08 17:06:00\n",
       "17      2013-07-08 17:33:00\n",
       "18      2013-07-09 13:12:00\n",
       "19      2013-07-09 13:14:00\n",
       "20      2013-07-09 17:39:00\n",
       "21      2013-07-09 19:26:00\n",
       "22      2013-07-10 09:18:00\n",
       "23      2013-07-10 12:34:00\n",
       "24      2013-07-10 16:35:00\n",
       "25      2013-07-11 08:17:00\n",
       "26      2013-07-12 01:07:00\n",
       "27      2013-07-12 06:53:00\n",
       "28      2013-07-12 10:01:00\n",
       "29      2013-07-12 12:23:00\n",
       "                ...        \n",
       "50059   2017-12-23 15:28:00\n",
       "50060   2017-12-23 15:31:00\n",
       "50061   2017-12-24 07:56:00\n",
       "50062   2017-12-25 18:31:00\n",
       "50063   2017-12-26 13:27:00\n",
       "50064   2017-12-26 15:09:00\n",
       "50065   2017-12-26 15:49:00\n",
       "50066   2017-12-26 16:34:00\n",
       "50067   2017-12-27 06:05:00\n",
       "50068   2017-12-27 07:46:00\n",
       "50069   2017-12-27 08:34:00\n",
       "50070   2017-12-27 20:02:00\n",
       "50071   2017-12-27 21:08:00\n",
       "50072   2017-12-28 06:16:00\n",
       "50073   2017-12-28 10:27:00\n",
       "50074   2017-12-28 13:08:00\n",
       "50075   2017-12-28 17:03:00\n",
       "50076   2017-12-29 08:42:00\n",
       "50077   2017-12-29 09:13:00\n",
       "50078   2017-12-29 11:14:00\n",
       "50079   2017-12-29 12:08:00\n",
       "50080   2017-12-29 15:28:00\n",
       "50081   2017-12-29 16:09:00\n",
       "50082   2017-12-30 10:47:00\n",
       "50083   2017-12-30 11:36:00\n",
       "50084   2017-12-30 13:07:00\n",
       "50085   2017-12-30 13:34:00\n",
       "50086   2017-12-30 13:34:00\n",
       "50087   2017-12-31 09:30:00\n",
       "50088   2017-12-31 15:22:00\n",
       "Name: starttime, Length: 50089, dtype: datetime64[ns]"
      ]
     },
     "execution_count": 126,
     "metadata": {},
     "output_type": "execute_result"
    }
   ],
   "source": [
    "st.dt.floor('T')"
   ]
  },
  {
   "cell_type": "code",
   "execution_count": null,
   "metadata": {},
   "outputs": [],
   "source": []
  }
 ],
 "metadata": {
  "kernelspec": {
   "display_name": "Python 3",
   "language": "python",
   "name": "python3"
  },
  "language_info": {
   "codemirror_mode": {
    "name": "ipython",
    "version": 3
   },
   "file_extension": ".py",
   "mimetype": "text/x-python",
   "name": "python",
   "nbconvert_exporter": "python",
   "pygments_lexer": "ipython3",
   "version": "3.7.0"
  }
 },
 "nbformat": 4,
 "nbformat_minor": 2
}
