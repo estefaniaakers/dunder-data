{
 "cells": [
  {
   "cell_type": "markdown",
   "metadata": {},
   "source": [
    "# NOTES DURING CLASS - DAY ONE - CHAPTER 2\n",
    "\n"
   ]
  },
  {
   "cell_type": "code",
   "execution_count": 39,
   "metadata": {},
   "outputs": [
    {
     "data": {
      "text/html": [
       "<div>\n",
       "<style scoped>\n",
       "    .dataframe tbody tr th:only-of-type {\n",
       "        vertical-align: middle;\n",
       "    }\n",
       "\n",
       "    .dataframe tbody tr th {\n",
       "        vertical-align: top;\n",
       "    }\n",
       "\n",
       "    .dataframe thead th {\n",
       "        text-align: right;\n",
       "    }\n",
       "</style>\n",
       "<table border=\"1\" class=\"dataframe\">\n",
       "  <thead>\n",
       "    <tr style=\"text-align: right;\">\n",
       "      <th></th>\n",
       "      <th>title</th>\n",
       "      <th>dept</th>\n",
       "      <th>salary</th>\n",
       "      <th>race</th>\n",
       "      <th>gender</th>\n",
       "      <th>hire_date</th>\n",
       "    </tr>\n",
       "  </thead>\n",
       "  <tbody>\n",
       "    <tr>\n",
       "      <th>0</th>\n",
       "      <td>POLICE OFFICER</td>\n",
       "      <td>Houston Police Department-HPD</td>\n",
       "      <td>45279.0</td>\n",
       "      <td>White</td>\n",
       "      <td>Male</td>\n",
       "      <td>2015-02-03</td>\n",
       "    </tr>\n",
       "    <tr>\n",
       "      <th>1</th>\n",
       "      <td>ENGINEER/OPERATOR</td>\n",
       "      <td>Houston Fire Department (HFD)</td>\n",
       "      <td>63166.0</td>\n",
       "      <td>White</td>\n",
       "      <td>Male</td>\n",
       "      <td>1982-02-08</td>\n",
       "    </tr>\n",
       "    <tr>\n",
       "      <th>2</th>\n",
       "      <td>SENIOR POLICE OFFICER</td>\n",
       "      <td>Houston Police Department-HPD</td>\n",
       "      <td>66614.0</td>\n",
       "      <td>Black</td>\n",
       "      <td>Male</td>\n",
       "      <td>1984-11-26</td>\n",
       "    </tr>\n",
       "    <tr>\n",
       "      <th>3</th>\n",
       "      <td>ENGINEER</td>\n",
       "      <td>Public Works &amp; Engineering-PWE</td>\n",
       "      <td>71680.0</td>\n",
       "      <td>Asian</td>\n",
       "      <td>Male</td>\n",
       "      <td>2012-03-26</td>\n",
       "    </tr>\n",
       "    <tr>\n",
       "      <th>4</th>\n",
       "      <td>CARPENTER</td>\n",
       "      <td>Houston Airport System (HAS)</td>\n",
       "      <td>42390.0</td>\n",
       "      <td>White</td>\n",
       "      <td>Male</td>\n",
       "      <td>2013-11-04</td>\n",
       "    </tr>\n",
       "  </tbody>\n",
       "</table>\n",
       "</div>"
      ],
      "text/plain": [
       "                   title                            dept   salary   race  \\\n",
       "0         POLICE OFFICER   Houston Police Department-HPD  45279.0  White   \n",
       "1      ENGINEER/OPERATOR   Houston Fire Department (HFD)  63166.0  White   \n",
       "2  SENIOR POLICE OFFICER   Houston Police Department-HPD  66614.0  Black   \n",
       "3               ENGINEER  Public Works & Engineering-PWE  71680.0  Asian   \n",
       "4              CARPENTER    Houston Airport System (HAS)  42390.0  White   \n",
       "\n",
       "  gender  hire_date  \n",
       "0   Male 2015-02-03  \n",
       "1   Male 1982-02-08  \n",
       "2   Male 1984-11-26  \n",
       "3   Male 2012-03-26  \n",
       "4   Male 2013-11-04  "
      ]
     },
     "execution_count": 39,
     "metadata": {},
     "output_type": "execute_result"
    }
   ],
   "source": [
    "import pandas as pd\n",
    "\n",
    "emp = pd.read_csv('../data/employee.csv', parse_dates=['hire_date'])\n",
    "emp.head()"
   ]
  },
  {
   "cell_type": "code",
   "execution_count": 40,
   "metadata": {},
   "outputs": [
    {
     "data": {
      "text/plain": [
       "0    45279.0\n",
       "1    63166.0\n",
       "2    66614.0\n",
       "3    71680.0\n",
       "4    42390.0\n",
       "Name: salary, dtype: float64"
      ]
     },
     "execution_count": 40,
     "metadata": {},
     "output_type": "execute_result"
    }
   ],
   "source": [
    "sal = emp['salary']\n",
    "sal.head()"
   ]
  },
  {
   "cell_type": "code",
   "execution_count": 41,
   "metadata": {},
   "outputs": [
    {
     "data": {
      "text/plain": [
       "1653"
      ]
     },
     "execution_count": 41,
     "metadata": {},
     "output_type": "execute_result"
    }
   ],
   "source": [
    "len(sal)"
   ]
  },
  {
   "cell_type": "markdown",
   "metadata": {},
   "source": [
    "# VECTORIZATION - DO NOT NEED A LOOP TO ITERATE"
   ]
  },
  {
   "cell_type": "code",
   "execution_count": 43,
   "metadata": {
    "collapsed": true
   },
   "outputs": [
    {
     "data": {
      "text/plain": [
       "0        55279.0\n",
       "1        73166.0\n",
       "2        76614.0\n",
       "3        81680.0\n",
       "4        52390.0\n",
       "5       117962.0\n",
       "6        54616.0\n",
       "7        62644.0\n",
       "8       190416.0\n",
       "9        40347.0\n",
       "10       65269.0\n",
       "11       87076.0\n",
       "12           NaN\n",
       "13           NaN\n",
       "14       91239.0\n",
       "15       76614.0\n",
       "16       71506.0\n",
       "17       67815.0\n",
       "18       53264.0\n",
       "19       65437.0\n",
       "20       62514.0\n",
       "21       71643.0\n",
       "22           NaN\n",
       "23       76614.0\n",
       "24       91239.0\n",
       "25       39557.0\n",
       "26       72540.0\n",
       "27       38024.0\n",
       "28       71921.0\n",
       "29       76614.0\n",
       "          ...   \n",
       "1623     57996.0\n",
       "1624     88286.0\n",
       "1625     75338.0\n",
       "1626         NaN\n",
       "1627     76614.0\n",
       "1628     55279.0\n",
       "1629     73166.0\n",
       "1630     87325.0\n",
       "1631     76614.0\n",
       "1632     42157.0\n",
       "1633     55279.0\n",
       "1634     37914.0\n",
       "1635     76614.0\n",
       "1636         NaN\n",
       "1637     80181.0\n",
       "1638     65437.0\n",
       "1639     71921.0\n",
       "1640     87076.0\n",
       "1641         NaN\n",
       "1642     47211.0\n",
       "1643     40347.0\n",
       "1644     54429.0\n",
       "1645     39286.0\n",
       "1646     91239.0\n",
       "1647    114455.0\n",
       "1648     53443.0\n",
       "1649     76523.0\n",
       "1650     53443.0\n",
       "1651     65461.0\n",
       "1652     61194.0\n",
       "Name: salary, Length: 1653, dtype: float64"
      ]
     },
     "execution_count": 43,
     "metadata": {},
     "output_type": "execute_result"
    }
   ],
   "source": [
    "sal + 10000 #adding 10000 in everyone salary"
   ]
  },
  {
   "cell_type": "code",
   "execution_count": 17,
   "metadata": {
    "collapsed": true
   },
   "outputs": [
    {
     "data": {
      "text/plain": [
       "0       2.050188e+09\n",
       "1       3.989944e+09\n",
       "2       4.437425e+09\n",
       "3       5.138022e+09\n",
       "4       1.796912e+09\n",
       "5       1.165579e+10\n",
       "6       1.990587e+09\n",
       "7       2.771391e+09\n",
       "8       3.254993e+10\n",
       "9       9.209404e+08\n",
       "10      3.054662e+09\n",
       "11      5.940710e+09\n",
       "12               NaN\n",
       "13               NaN\n",
       "14      6.599775e+09\n",
       "15      4.437425e+09\n",
       "16      3.782988e+09\n",
       "17      3.342574e+09\n",
       "18      1.871774e+09\n",
       "19      3.073261e+09\n",
       "20      2.757720e+09\n",
       "21      3.799859e+09\n",
       "22               NaN\n",
       "23      4.437425e+09\n",
       "24      6.599775e+09\n",
       "25      8.736162e+08\n",
       "26      3.911252e+09\n",
       "27      7.853446e+08\n",
       "28      3.834210e+09\n",
       "29      4.437425e+09\n",
       "            ...     \n",
       "1623    2.303616e+09\n",
       "1624    6.128698e+09\n",
       "1625    4.269054e+09\n",
       "1626             NaN\n",
       "1627    4.437425e+09\n",
       "1628    2.050188e+09\n",
       "1629    3.989944e+09\n",
       "1630    5.979156e+09\n",
       "1631    4.437425e+09\n",
       "1632    1.034073e+09\n",
       "1633    2.050188e+09\n",
       "1634    7.791914e+08\n",
       "1635    4.437425e+09\n",
       "1636             NaN\n",
       "1637    4.925373e+09\n",
       "1638    3.073261e+09\n",
       "1639    3.834210e+09\n",
       "1640    5.940710e+09\n",
       "1641             NaN\n",
       "1642    1.384659e+09\n",
       "1643    9.209404e+08\n",
       "1644    1.973936e+09\n",
       "1645    8.576698e+08\n",
       "1646    6.599775e+09\n",
       "1647    1.091085e+10\n",
       "1648    1.887294e+09\n",
       "1649    4.425310e+09\n",
       "1650    1.887294e+09\n",
       "1651    3.075923e+09\n",
       "1652    2.620826e+09\n",
       "Name: salary, Length: 1653, dtype: float64"
      ]
     },
     "execution_count": 17,
     "metadata": {},
     "output_type": "execute_result"
    }
   ],
   "source": [
    "sal ** 2 # root square"
   ]
  },
  {
   "cell_type": "code",
   "execution_count": 16,
   "metadata": {
    "collapsed": true
   },
   "outputs": [
    {
     "data": {
      "text/plain": [
       "0        3483.0\n",
       "1        4858.0\n",
       "2        5124.0\n",
       "3        5513.0\n",
       "4        3260.0\n",
       "5        8304.0\n",
       "6        3432.0\n",
       "7        4049.0\n",
       "8       13878.0\n",
       "9        2334.0\n",
       "10       4251.0\n",
       "11       5928.0\n",
       "12          NaN\n",
       "13          NaN\n",
       "14       6249.0\n",
       "15       5124.0\n",
       "16       4731.0\n",
       "17       4447.0\n",
       "18       3328.0\n",
       "19       4264.0\n",
       "20       4039.0\n",
       "21       4741.0\n",
       "22          NaN\n",
       "23       5124.0\n",
       "24       6249.0\n",
       "25       2273.0\n",
       "26       4810.0\n",
       "27       2155.0\n",
       "28       4763.0\n",
       "29       5124.0\n",
       "         ...   \n",
       "1623     3692.0\n",
       "1624     6022.0\n",
       "1625     5026.0\n",
       "1626        NaN\n",
       "1627     5124.0\n",
       "1628     3483.0\n",
       "1629     4858.0\n",
       "1630     5948.0\n",
       "1631     5124.0\n",
       "1632     2473.0\n",
       "1633     3483.0\n",
       "1634     2147.0\n",
       "1635     5124.0\n",
       "1636        NaN\n",
       "1637     5398.0\n",
       "1638     4264.0\n",
       "1639     4763.0\n",
       "1640     5928.0\n",
       "1641        NaN\n",
       "1642     2862.0\n",
       "1643     2334.0\n",
       "1644     3417.0\n",
       "1645     2252.0\n",
       "1646     6249.0\n",
       "1647     8035.0\n",
       "1648     3341.0\n",
       "1649     5117.0\n",
       "1650     3341.0\n",
       "1651     4266.0\n",
       "1652     3938.0\n",
       "Name: salary, Length: 1653, dtype: float64"
      ]
     },
     "execution_count": 16,
     "metadata": {},
     "output_type": "execute_result"
    }
   ],
   "source": [
    "sal // 13 # floor division, return the int part"
   ]
  },
  {
   "cell_type": "code",
   "execution_count": 18,
   "metadata": {
    "collapsed": true
   },
   "outputs": [
    {
     "data": {
      "text/plain": [
       "0       False\n",
       "1        True\n",
       "2        True\n",
       "3        True\n",
       "4        True\n",
       "5        True\n",
       "6        True\n",
       "7        True\n",
       "8        True\n",
       "9       False\n",
       "10      False\n",
       "11       True\n",
       "12      False\n",
       "13      False\n",
       "14      False\n",
       "15       True\n",
       "16       True\n",
       "17      False\n",
       "18       True\n",
       "19      False\n",
       "20       True\n",
       "21      False\n",
       "22      False\n",
       "23       True\n",
       "24      False\n",
       "25      False\n",
       "26       True\n",
       "27       True\n",
       "28      False\n",
       "29       True\n",
       "        ...  \n",
       "1623     True\n",
       "1624     True\n",
       "1625     True\n",
       "1626    False\n",
       "1627     True\n",
       "1628    False\n",
       "1629     True\n",
       "1630    False\n",
       "1631     True\n",
       "1632    False\n",
       "1633    False\n",
       "1634     True\n",
       "1635     True\n",
       "1636    False\n",
       "1637    False\n",
       "1638    False\n",
       "1639    False\n",
       "1640     True\n",
       "1641    False\n",
       "1642    False\n",
       "1643    False\n",
       "1644    False\n",
       "1645     True\n",
       "1646    False\n",
       "1647    False\n",
       "1648    False\n",
       "1649    False\n",
       "1650    False\n",
       "1651    False\n",
       "1652     True\n",
       "Name: salary, Length: 1653, dtype: bool"
      ]
     },
     "execution_count": 18,
     "metadata": {},
     "output_type": "execute_result"
    }
   ],
   "source": [
    "sal % 2 == 0 # modulos operation"
   ]
  },
  {
   "cell_type": "code",
   "execution_count": 44,
   "metadata": {},
   "outputs": [
    {
     "data": {
      "text/plain": [
       "0    False\n",
       "1    False\n",
       "2    False\n",
       "3    False\n",
       "4    False\n",
       "Name: salary, dtype: bool"
      ]
     },
     "execution_count": 44,
     "metadata": {},
     "output_type": "execute_result"
    }
   ],
   "source": [
    "sal.between(5000,6000).head()"
   ]
  },
  {
   "cell_type": "markdown",
   "metadata": {},
   "source": [
    "# DESCRIPTIVE STATISTICS\n",
    "\n",
    "* Aggregating Methodes - many values -> summarazy all the values in one\n",
    "    * min\n",
    "    * max\n",
    "    * sum\n",
    "    \n",
    "* Non-Aggregating Methodes - cannot aggregate (square root for example, need do for each one)\n",
    "    * round\n",
    "    * abs\n",
    "    * cummin\n",
    "    \n",
    "    \n",
    "IN PYTHON you can assign methods to variables\n"
   ]
  },
  {
   "cell_type": "code",
   "execution_count": 21,
   "metadata": {},
   "outputs": [
    {
     "data": {
      "text/plain": [
       "24960.0"
      ]
     },
     "execution_count": 21,
     "metadata": {},
     "output_type": "execute_result"
    }
   ],
   "source": [
    "sal.min()"
   ]
  },
  {
   "cell_type": "code",
   "execution_count": 22,
   "metadata": {},
   "outputs": [
    {
     "data": {
      "text/plain": [
       "210588.0"
      ]
     },
     "execution_count": 22,
     "metadata": {},
     "output_type": "execute_result"
    }
   ],
   "source": [
    "sal.max()"
   ]
  },
  {
   "cell_type": "code",
   "execution_count": 29,
   "metadata": {},
   "outputs": [
    {
     "data": {
      "text/plain": [
       "0    45000.0\n",
       "1    63000.0\n",
       "2    67000.0\n",
       "3    72000.0\n",
       "4    42000.0\n",
       "Name: salary, dtype: float64"
      ]
     },
     "execution_count": 29,
     "metadata": {},
     "output_type": "execute_result"
    }
   ],
   "source": [
    "sal.round(-3).head() #get a series with my numbers rounded"
   ]
  },
  {
   "cell_type": "code",
   "execution_count": 32,
   "metadata": {},
   "outputs": [
    {
     "data": {
      "text/plain": [
       "0    45279.0\n",
       "1    63166.0\n",
       "2    66614.0\n",
       "3    71680.0\n",
       "4    42390.0\n",
       "Name: salary, dtype: float64"
      ]
     },
     "execution_count": 32,
     "metadata": {},
     "output_type": "execute_result"
    }
   ],
   "source": [
    "sal.round().head() #values without round"
   ]
  },
  {
   "cell_type": "code",
   "execution_count": 34,
   "metadata": {},
   "outputs": [
    {
     "data": {
      "text/plain": [
       "0    45279.0\n",
       "1    63166.0\n",
       "2    66614.0\n",
       "3    71680.0\n",
       "4    42390.0\n",
       "Name: salary, dtype: float64"
      ]
     },
     "execution_count": 34,
     "metadata": {},
     "output_type": "execute_result"
    }
   ],
   "source": [
    "sal.abs().head()"
   ]
  },
  {
   "cell_type": "code",
   "execution_count": 36,
   "metadata": {},
   "outputs": [
    {
     "data": {
      "text/plain": [
       "0    45279.0\n",
       "1    45279.0\n",
       "2    45279.0\n",
       "3    45279.0\n",
       "4    42390.0\n",
       "Name: salary, dtype: float64"
      ]
     },
     "execution_count": 36,
     "metadata": {},
     "output_type": "execute_result"
    }
   ],
   "source": [
    "sal.cummin().head() #it is a current minimum, starting from the top"
   ]
  },
  {
   "cell_type": "code",
   "execution_count": 38,
   "metadata": {},
   "outputs": [
    {
     "data": {
      "text/plain": [
       "0    45279.0\n",
       "1    63166.0\n",
       "2    66614.0\n",
       "3    71680.0\n",
       "4    71680.0\n",
       "Name: salary, dtype: float64"
      ]
     },
     "execution_count": 38,
     "metadata": {},
     "output_type": "execute_result"
    }
   ],
   "source": [
    "sal.cummax().head() # it is a current maximum, starting from the top)"
   ]
  },
  {
   "cell_type": "code",
   "execution_count": 45,
   "metadata": {},
   "outputs": [],
   "source": [
    "## Operations on a boolean series\n",
    "\n",
    "* False is 0\n",
    "* True is 1"
   ]
  },
  {
   "cell_type": "code",
   "execution_count": 46,
   "metadata": {},
   "outputs": [
    {
     "data": {
      "text/plain": [
       "0    False\n",
       "1    False\n",
       "2    False\n",
       "3    False\n",
       "4    False\n",
       "Name: salary, dtype: bool"
      ]
     },
     "execution_count": 46,
     "metadata": {},
     "output_type": "execute_result"
    }
   ],
   "source": [
    "sal_100k = sal>100000\n",
    "sal_100k.head()"
   ]
  },
  {
   "cell_type": "code",
   "execution_count": 49,
   "metadata": {},
   "outputs": [
    {
     "data": {
      "text/plain": [
       "36"
      ]
     },
     "execution_count": 49,
     "metadata": {},
     "output_type": "execute_result"
    }
   ],
   "source": [
    "sal_100k.sum() #the number of things that is inside of the criteria"
   ]
  },
  {
   "cell_type": "code",
   "execution_count": 51,
   "metadata": {},
   "outputs": [
    {
     "data": {
      "text/plain": [
       "0.021778584392014518"
      ]
     },
     "execution_count": 51,
     "metadata": {},
     "output_type": "execute_result"
    }
   ],
   "source": [
    "sal_100k.mean() #porcentage that meat the criteria"
   ]
  },
  {
   "cell_type": "code",
   "execution_count": 52,
   "metadata": {},
   "outputs": [
    {
     "data": {
      "text/plain": [
       "0.021778584392014518"
      ]
     },
     "execution_count": 52,
     "metadata": {},
     "output_type": "execute_result"
    }
   ],
   "source": [
    "sal_100k.sum() / len(sal_100k) #the mean is the same than this"
   ]
  },
  {
   "cell_type": "code",
   "execution_count": null,
   "metadata": {},
   "outputs": [],
   "source": []
  }
 ],
 "metadata": {
  "kernelspec": {
   "display_name": "Python 3",
   "language": "python",
   "name": "python3"
  },
  "language_info": {
   "codemirror_mode": {
    "name": "ipython",
    "version": 3
   },
   "file_extension": ".py",
   "mimetype": "text/x-python",
   "name": "python",
   "nbconvert_exporter": "python",
   "pygments_lexer": "ipython3",
   "version": "3.7.0"
  }
 },
 "nbformat": 4,
 "nbformat_minor": 2
}
