{
 "cells": [
  {
   "cell_type": "markdown",
   "metadata": {},
   "source": [
    "# 4. Datetime Series Methods\n",
    "\n",
    "\n",
    "# Methods for Series with Datetime data types\n",
    "In this notebook we will focus on methods that work for Series that contain datetime data. Just like Pandas has the **`str`** accessor to give us access to string only methods, it also has the **`dt`** accessor to give us access to datetime only methods.\n",
    "\n",
    "Let's read in the bikes dataset which has two datetime columns, **`starttime`**, and **`stoptime`**."
   ]
  },
  {
   "cell_type": "code",
   "execution_count": null,
   "metadata": {},
   "outputs": [],
   "source": [
    "import pandas as pd\n",
    "\n",
    "bikes = pd.read_csv('../data/bikes.csv', parse_dates=['starttime', 'stoptime'])\n",
    "bikes.head()"
   ]
  },
  {
   "cell_type": "markdown",
   "metadata": {},
   "source": [
    "## Pandas datetime columns are always nanosecond precision\n",
    "Pandas forces all datetime columns to have nanosecond precision. It relies on NumPy's datetime64 data type as the foundation. NumPy does allow you to have different ranges of precision, microsecond or millisecond, for example, but pandas requires nanosecond precision. Pandas converts any other NumPy datatime to nanoseconds.\n",
    "\n",
    "Let's take a look at the data types of each column with the **`dtypes`** attribute to verify that we do have two datetime columns."
   ]
  },
  {
   "cell_type": "code",
   "execution_count": null,
   "metadata": {},
   "outputs": [],
   "source": [
    "bikes.dtypes"
   ]
  },
  {
   "cell_type": "markdown",
   "metadata": {},
   "source": [
    "# The `dt` accessor\n",
    "The primary focus of this notebook will be the methods that follow the **`dt`** accessor. [Visit the API][1] to view all the possible datetime attributes and methods that are available.\n",
    "\n",
    "## Use the `read_html` to scrape its own API page and output the `dt` attributes and methods as a DataFrame\n",
    "\n",
    "The `read_html` function attempts to turn every single HTML table found on the given URL into a Pandas DataFrame. It returns a list DataFrames. It takes an optional second parameter, a string that must be contained in the table.\n",
    "\n",
    "The Pandas API page places all of the object attribute and methods within HTML tables. This makes it a great page to work with `read_html`. The function searches each table for the phrase `Series.dt.`. Four DataFrames are returned in a list. The first two contain the attributes and methods for the `dt` accessor.\n",
    "\n",
    "[1]: http://pandas.pydata.org/pandas-docs/stable/api.html#datetimelike-properties"
   ]
  },
  {
   "cell_type": "code",
   "execution_count": null,
   "metadata": {},
   "outputs": [],
   "source": [
    "dfs = pd.read_html('http://pandas.pydata.org/pandas-docs/stable/api.html', 'Series[.]dt[.]')\n",
    "\n",
    "dt_attr = dfs[0]\n",
    "dt_attr.columns = ['Attributes', 'Description']\n",
    "\n",
    "dt_methods = dfs[1]\n",
    "dt_methods.columns = ['Methods', 'Description']\n",
    "\n",
    "dt_attr"
   ]
  },
  {
   "cell_type": "code",
   "execution_count": null,
   "metadata": {},
   "outputs": [],
   "source": [
    "dt_methods"
   ]
  },
  {
   "cell_type": "markdown",
   "metadata": {},
   "source": [
    "## You can also do this by embedding an iframe directly in the notebook\n",
    "An iframe is an web page embedded inside of another web page."
   ]
  },
  {
   "cell_type": "code",
   "execution_count": null,
   "metadata": {},
   "outputs": [],
   "source": [
    "from IPython.display import IFrame\n",
    "IFrame('http://pandas.pydata.org/pandas-docs/stable/api.html#datetimelike-properties', 900, 400)"
   ]
  },
  {
   "cell_type": "markdown",
   "metadata": {},
   "source": [
    "### Only available for Series\n",
    "The **`dt`** accessor (and **`str`**) are only available to Series objects and not DataFrames. You will have to select a single Series first in order to use it. Let's select the **`starttime`** column as a Series."
   ]
  },
  {
   "cell_type": "code",
   "execution_count": null,
   "metadata": {},
   "outputs": [],
   "source": [
    "start = bikes['starttime']"
   ]
  },
  {
   "cell_type": "markdown",
   "metadata": {},
   "source": [
    "### Datetime attributes and methods are simpler than strings\n",
    "Almost all the attributes and methods available for datetimes are simple and straightforward. Let's take a look at some of them. We will output the head of the Series so that we can visually verify the results of the attributes and methods."
   ]
  },
  {
   "cell_type": "code",
   "execution_count": null,
   "metadata": {},
   "outputs": [],
   "source": [
    "start.head()"
   ]
  },
  {
   "cell_type": "markdown",
   "metadata": {},
   "source": [
    "There are many attributes that return a particular part of the datetime such as **`year, month, day, hour, minute, second`**, etc..."
   ]
  },
  {
   "cell_type": "code",
   "execution_count": null,
   "metadata": {},
   "outputs": [],
   "source": [
    "start.dt.year.head()"
   ]
  },
  {
   "cell_type": "code",
   "execution_count": null,
   "metadata": {},
   "outputs": [],
   "source": [
    "start.dt.month.head()"
   ]
  },
  {
   "cell_type": "code",
   "execution_count": null,
   "metadata": {},
   "outputs": [],
   "source": [
    "start.dt.minute.head()"
   ]
  },
  {
   "cell_type": "code",
   "execution_count": null,
   "metadata": {},
   "outputs": [],
   "source": [
    "# monday is 0\n",
    "start.dt.dayofweek.head()"
   ]
  },
  {
   "cell_type": "code",
   "execution_count": null,
   "metadata": {},
   "outputs": [],
   "source": [
    "# week of year\n",
    "start.dt.week.head()"
   ]
  },
  {
   "cell_type": "markdown",
   "metadata": {},
   "source": [
    "## Datetime methods\n",
    "There are actually only a few methods that exist with the most useful being **`ceil`**, **`round`**, **`floor`**, **`strftime`**, and **`to_period`**. To use these methods you will need to be familiar with the [offset aliases][1], which are short strings, usually one character, that represent a unit of time.\n",
    "\n",
    "* **`D`** - day\n",
    "* **`H`** - hour\n",
    "* **`T`** or **`min`** - minute\n",
    "* **`S`** - second\n",
    "\n",
    "[1]: http://pandas.pydata.org/pandas-docs/stable/timeseries.html#offset-aliases"
   ]
  },
  {
   "cell_type": "markdown",
   "metadata": {},
   "source": [
    "### Scrape the offset aliases and output them in the notebook"
   ]
  },
  {
   "cell_type": "code",
   "execution_count": null,
   "metadata": {},
   "outputs": [],
   "source": [
    "dfs = pd.read_html('http://pandas.pydata.org/pandas-docs/stable/timeseries.html', \n",
    "                   match='business day frequency',\n",
    "                   attrs={'class' :\"colwidths-given docutils\"})\n",
    "offset_aliases = dfs[0]\n",
    "offset_aliases"
   ]
  },
  {
   "cell_type": "markdown",
   "metadata": {},
   "source": [
    "### Use offset aliases with datetime methods"
   ]
  },
  {
   "cell_type": "code",
   "execution_count": null,
   "metadata": {},
   "outputs": [],
   "source": [
    "start.head()"
   ]
  },
  {
   "cell_type": "markdown",
   "metadata": {},
   "source": [
    "## `ceil` rounds up to nearest unit"
   ]
  },
  {
   "cell_type": "markdown",
   "metadata": {},
   "source": [
    "Round up to nearest hour:"
   ]
  },
  {
   "cell_type": "code",
   "execution_count": null,
   "metadata": {},
   "outputs": [],
   "source": [
    "start.dt.ceil('H').head()"
   ]
  },
  {
   "cell_type": "markdown",
   "metadata": {},
   "source": [
    "Round up to nearest day:"
   ]
  },
  {
   "cell_type": "code",
   "execution_count": null,
   "metadata": {},
   "outputs": [],
   "source": [
    "start.dt.ceil('D').head()"
   ]
  },
  {
   "cell_type": "markdown",
   "metadata": {},
   "source": [
    "**`floor`** rounds down:"
   ]
  },
  {
   "cell_type": "code",
   "execution_count": null,
   "metadata": {},
   "outputs": [],
   "source": [
    "start.dt.floor('min').head()"
   ]
  },
  {
   "cell_type": "markdown",
   "metadata": {},
   "source": [
    "**`round`** rounds normally to nearest whole unit."
   ]
  },
  {
   "cell_type": "code",
   "execution_count": null,
   "metadata": {},
   "outputs": [],
   "source": [
    "start.dt.round('H').head()"
   ]
  },
  {
   "cell_type": "markdown",
   "metadata": {},
   "source": [
    "# Exercises"
   ]
  },
  {
   "cell_type": "markdown",
   "metadata": {},
   "source": [
    "### Problem 1\n",
    "<span  style=\"color:green; font-size:16px\">What percentage of bike rides happen in January?</span>"
   ]
  },
  {
   "cell_type": "code",
   "execution_count": null,
   "metadata": {},
   "outputs": [],
   "source": []
  },
  {
   "cell_type": "markdown",
   "metadata": {},
   "source": [
    "### Problem 2\n",
    "<span  style=\"color:green; font-size:16px\">What percentage of bike rides happen on the weekend?</span>"
   ]
  },
  {
   "cell_type": "code",
   "execution_count": null,
   "metadata": {},
   "outputs": [],
   "source": []
  },
  {
   "cell_type": "markdown",
   "metadata": {},
   "source": [
    "### Problem 3\n",
    "<span  style=\"color:green; font-size:16px\">What percentage of bike rides happen on the last day of the month?</span>"
   ]
  },
  {
   "cell_type": "code",
   "execution_count": null,
   "metadata": {},
   "outputs": [],
   "source": []
  },
  {
   "cell_type": "markdown",
   "metadata": {},
   "source": [
    "### Problem 4\n",
    "<span  style=\"color:green; font-size:16px\">We would expect that the value of the minutes recorded for each starting ride is approximately random. Can you show some data that confirms or rejects this?</span>"
   ]
  },
  {
   "cell_type": "code",
   "execution_count": null,
   "metadata": {},
   "outputs": [],
   "source": []
  },
  {
   "cell_type": "markdown",
   "metadata": {},
   "source": [
    "### Problem 5\n",
    "<span  style=\"color:green; font-size:16px\">Assign the length of the ride to `ride_length`. Then find the percentage of rides that lasted longer than 30 minutes.</span>"
   ]
  },
  {
   "cell_type": "code",
   "execution_count": null,
   "metadata": {},
   "outputs": [],
   "source": []
  },
  {
   "cell_type": "markdown",
   "metadata": {},
   "source": [
    "# Explore the `dt` accessor"
   ]
  },
  {
   "cell_type": "code",
   "execution_count": null,
   "metadata": {},
   "outputs": [],
   "source": []
  },
  {
   "cell_type": "code",
   "execution_count": null,
   "metadata": {},
   "outputs": [],
   "source": []
  },
  {
   "cell_type": "code",
   "execution_count": null,
   "metadata": {},
   "outputs": [],
   "source": []
  },
  {
   "cell_type": "markdown",
   "metadata": {},
   "source": [
    "# Extra\n",
    "Some extra notes on the Period and Timedelta objects"
   ]
  },
  {
   "cell_type": "markdown",
   "metadata": {},
   "source": [
    "## Format time as a string with `strftime`\n",
    "The **`strftime`** stands for **str**ing **f**ormat **time**. It turns each datetime into a string object. You must consult [Python's documentation][1] to determine how you want your string to be formatted.\n",
    "\n",
    "[1]: https://docs.python.org/3/library/datetime.html#strftime-and-strptime-behavior"
   ]
  },
  {
   "cell_type": "code",
   "execution_count": null,
   "metadata": {},
   "outputs": [],
   "source": [
    "start.dt.strftime('%A, %B %d, %Y at %X').head()"
   ]
  },
  {
   "cell_type": "markdown",
   "metadata": {},
   "source": [
    "## Convert to a Period object\n",
    "Period objects are special data types unique to pandas and simply represent an entire period of time such as the entire month of June, 2012 or the entire year 1998, or the entire minute of June 11, 2011 12:34 p.m.\n",
    "\n",
    "This contrasts with datetimes which represent a particular moment in time with nanosecond precision. Datetimes are always specific all the way down to a nanosecond.\n",
    "\n",
    "### Use offset aliases to convert to a period\n",
    "To convert to a period use the same [offset aliases](http://pandas.pydata.org/pandas-docs/stable/timeseries.html#offset-aliases) from above.\n",
    "\n",
    "Let's do some conversions: First to a month."
   ]
  },
  {
   "cell_type": "code",
   "execution_count": null,
   "metadata": {},
   "outputs": [],
   "source": [
    "start.dt.to_period('M').head()"
   ]
  },
  {
   "cell_type": "markdown",
   "metadata": {},
   "source": [
    "Convert to a time span of an hour:"
   ]
  },
  {
   "cell_type": "code",
   "execution_count": null,
   "metadata": {},
   "outputs": [],
   "source": [
    "start.dt.to_period('h').head()"
   ]
  },
  {
   "cell_type": "markdown",
   "metadata": {},
   "source": [
    "# Timedeltas\n",
    "Timedeltas are a separate data type that represent an amount of time such as 5 minutes and 34 seconds. The highest unit of a timedelta is days. Timedelta Series can also use the **`dt`** accessor.\n",
    "\n",
    "### Creating a Timedelta\n",
    "To create a timedelta, subtract two datetime Series from each other. Here, we select the stop time as a Series and subtract the **`start`** Series from it."
   ]
  },
  {
   "cell_type": "code",
   "execution_count": null,
   "metadata": {},
   "outputs": [],
   "source": [
    "stop = bikes['stoptime']\n",
    "ride_length = stop - start\n",
    "ride_length.head()"
   ]
  },
  {
   "cell_type": "markdown",
   "metadata": {},
   "source": [
    "There are much fewer attributes and methods for timedeltas but they work the same way:"
   ]
  },
  {
   "cell_type": "code",
   "execution_count": null,
   "metadata": {},
   "outputs": [],
   "source": []
  }
 ],
 "metadata": {
  "kernelspec": {
   "display_name": "Python 3",
   "language": "python",
   "name": "python3"
  },
  "language_info": {
   "codemirror_mode": {
    "name": "ipython",
    "version": 3
   },
   "file_extension": ".py",
   "mimetype": "text/x-python",
   "name": "python",
   "nbconvert_exporter": "python",
   "pygments_lexer": "ipython3",
   "version": "3.6.4"
  },
  "varInspector": {
   "cols": {
    "lenName": 16,
    "lenType": 16,
    "lenVar": 40
   },
   "kernels_config": {
    "python": {
     "delete_cmd_postfix": "",
     "delete_cmd_prefix": "del ",
     "library": "var_list.py",
     "varRefreshCmd": "print(var_dic_list())"
    },
    "r": {
     "delete_cmd_postfix": ") ",
     "delete_cmd_prefix": "rm(",
     "library": "var_list.r",
     "varRefreshCmd": "cat(var_dic_list()) "
    }
   },
   "types_to_exclude": [
    "module",
    "function",
    "builtin_function_or_method",
    "instance",
    "_Feature"
   ],
   "window_display": false
  }
 },
 "nbformat": 4,
 "nbformat_minor": 2
}
