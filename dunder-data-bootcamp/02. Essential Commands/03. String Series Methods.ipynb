{
 "cells": [
  {
   "cell_type": "markdown",
   "metadata": {},
   "source": [
    "# 3. String Series Methods\n",
    "\n",
    "## Methods for Series with String Columns\n",
    "In this notebook, we will focus on methods that work for Series that contain string data. Remember that there is no string data type in Pandas. Instead there is the **object** data dtype which may contain any Python object. The vast majority of the time, object columns will be entirely composed of strings.\n",
    "\n",
    "The methods in the previous two notebooks focused on numeric and boolean Series. Many of those methods will work for both string Series as well but some will not.\n",
    "\n",
    "For instance, the **`mean`** method will not work for string columns. Let's see this in action by selecting the department column from the City of Houston dataset."
   ]
  },
  {
   "cell_type": "code",
   "execution_count": 4,
   "metadata": {},
   "outputs": [
    {
     "data": {
      "text/html": [
       "<div>\n",
       "<style scoped>\n",
       "    .dataframe tbody tr th:only-of-type {\n",
       "        vertical-align: middle;\n",
       "    }\n",
       "\n",
       "    .dataframe tbody tr th {\n",
       "        vertical-align: top;\n",
       "    }\n",
       "\n",
       "    .dataframe thead th {\n",
       "        text-align: right;\n",
       "    }\n",
       "</style>\n",
       "<table border=\"1\" class=\"dataframe\">\n",
       "  <thead>\n",
       "    <tr style=\"text-align: right;\">\n",
       "      <th></th>\n",
       "      <th>title</th>\n",
       "      <th>dept</th>\n",
       "      <th>salary</th>\n",
       "      <th>race</th>\n",
       "      <th>gender</th>\n",
       "      <th>hire_date</th>\n",
       "    </tr>\n",
       "  </thead>\n",
       "  <tbody>\n",
       "    <tr>\n",
       "      <th>0</th>\n",
       "      <td>POLICE OFFICER</td>\n",
       "      <td>Houston Police Department-HPD</td>\n",
       "      <td>45279.0</td>\n",
       "      <td>White</td>\n",
       "      <td>Male</td>\n",
       "      <td>2015-02-03</td>\n",
       "    </tr>\n",
       "    <tr>\n",
       "      <th>1</th>\n",
       "      <td>ENGINEER/OPERATOR</td>\n",
       "      <td>Houston Fire Department (HFD)</td>\n",
       "      <td>63166.0</td>\n",
       "      <td>White</td>\n",
       "      <td>Male</td>\n",
       "      <td>1982-02-08</td>\n",
       "    </tr>\n",
       "    <tr>\n",
       "      <th>2</th>\n",
       "      <td>SENIOR POLICE OFFICER</td>\n",
       "      <td>Houston Police Department-HPD</td>\n",
       "      <td>66614.0</td>\n",
       "      <td>Black</td>\n",
       "      <td>Male</td>\n",
       "      <td>1984-11-26</td>\n",
       "    </tr>\n",
       "    <tr>\n",
       "      <th>3</th>\n",
       "      <td>ENGINEER</td>\n",
       "      <td>Public Works &amp; Engineering-PWE</td>\n",
       "      <td>71680.0</td>\n",
       "      <td>Asian</td>\n",
       "      <td>Male</td>\n",
       "      <td>2012-03-26</td>\n",
       "    </tr>\n",
       "    <tr>\n",
       "      <th>4</th>\n",
       "      <td>CARPENTER</td>\n",
       "      <td>Houston Airport System (HAS)</td>\n",
       "      <td>42390.0</td>\n",
       "      <td>White</td>\n",
       "      <td>Male</td>\n",
       "      <td>2013-11-04</td>\n",
       "    </tr>\n",
       "  </tbody>\n",
       "</table>\n",
       "</div>"
      ],
      "text/plain": [
       "                   title                            dept   salary   race  \\\n",
       "0         POLICE OFFICER   Houston Police Department-HPD  45279.0  White   \n",
       "1      ENGINEER/OPERATOR   Houston Fire Department (HFD)  63166.0  White   \n",
       "2  SENIOR POLICE OFFICER   Houston Police Department-HPD  66614.0  Black   \n",
       "3               ENGINEER  Public Works & Engineering-PWE  71680.0  Asian   \n",
       "4              CARPENTER    Houston Airport System (HAS)  42390.0  White   \n",
       "\n",
       "  gender  hire_date  \n",
       "0   Male 2015-02-03  \n",
       "1   Male 1982-02-08  \n",
       "2   Male 1984-11-26  \n",
       "3   Male 2012-03-26  \n",
       "4   Male 2013-11-04  "
      ]
     },
     "execution_count": 4,
     "metadata": {},
     "output_type": "execute_result"
    }
   ],
   "source": [
    "import pandas as pd\n",
    "\n",
    "emp = pd.read_csv('../data/employee.csv', parse_dates=['hire_date'])\n",
    "emp.head()"
   ]
  },
  {
   "cell_type": "code",
   "execution_count": 7,
   "metadata": {},
   "outputs": [
    {
     "data": {
      "text/plain": [
       "0     Houston Police Department-HPD\n",
       "1     Houston Fire Department (HFD)\n",
       "2     Houston Police Department-HPD\n",
       "3    Public Works & Engineering-PWE\n",
       "4      Houston Airport System (HAS)\n",
       "Name: dept, dtype: object"
      ]
     },
     "execution_count": 7,
     "metadata": {},
     "output_type": "execute_result"
    }
   ],
   "source": [
    "dept = emp['dept']\n",
    "dept.head()"
   ]
  },
  {
   "cell_type": "markdown",
   "metadata": {},
   "source": [
    "### Attempt to take the mean"
   ]
  },
  {
   "cell_type": "code",
   "execution_count": 8,
   "metadata": {},
   "outputs": [
    {
     "ename": "TypeError",
     "evalue": "Could not convert Houston Police Department-HPDHouston Fire Department (HFD)Houston Police Department-HPDPublic Works & Engineering-PWEHouston Airport System (HAS)Public Works & Engineering-PWEHouston Airport System (HAS)Houston Fire Department (HFD)Health & Human ServicesPublic Works & Engineering-PWEHealth & Human ServicesHouston Police Department-HPDHouston Police Department-HPDHouston Police Department-HPDHouston Police Department-HPDHouston Police Department-HPDPublic Works & Engineering-PWEHouston Fire Department (HFD)Public Works & Engineering-PWEHouston Fire Department (HFD)Houston Police Department-HPDHouston Police Department-HPDHouston Police Department-HPDHouston Police Department-HPDHouston Police Department-HPDPublic Works & Engineering-PWEHouston Fire Department (HFD)Houston Fire Department (HFD)Houston Fire Department (HFD)Houston Police Department-HPDHealth & Human ServicesPublic Works & Engineering-PWEHealth & Human ServicesPublic Works & Engineering-PWEHouston Fire Department (HFD)Houston Fire Department (HFD)Houston Fire Department (HFD)Houston Fire Department (HFD)Houston Police Department-HPDHouston Police Department-HPDPublic Works & Engineering-PWEPublic Works & Engineering-PWEHouston Fire Department (HFD)Houston Fire Department (HFD)Houston Fire Department (HFD)Houston Police Department-HPDHouston Fire Department (HFD)Houston Airport System (HAS)Houston Fire Department (HFD)Houston Police Department-HPDPublic Works & Engineering-PWEHouston Airport System (HAS)Houston Airport System (HAS)Public Works & Engineering-PWEHouston Fire Department (HFD)Houston Police Department-HPDPublic Works & Engineering-PWEHouston Police Department-HPDHouston Airport System (HAS)Health & Human ServicesHouston Police Department-HPDHouston Police Department-HPDHouston Police Department-HPDHealth & Human ServicesHouston Police Department-HPDHouston Airport System (HAS)Houston Fire Department (HFD)Houston Police Department-HPDHouston Police Department-HPDPublic Works & Engineering-PWEPublic Works & Engineering-PWEHouston Police Department-HPDHouston Fire Department (HFD)Health & Human ServicesHouston Fire Department (HFD)Public Works & Engineering-PWEPublic Works & Engineering-PWEHouston Police Department-HPDPublic Works & Engineering-PWEParks & RecreationHouston Fire Department (HFD)Houston Police Department-HPDHouston Police Department-HPDPublic Works & Engineering-PWEPublic Works & Engineering-PWEHouston Airport System (HAS)Houston Fire Department (HFD)Houston Fire Department (HFD)Public Works & Engineering-PWEHouston Police Department-HPDHouston Fire Department (HFD)Houston Fire Department (HFD)Health & Human ServicesPublic Works & Engineering-PWEHouston Fire Department (HFD)Health & Human ServicesHouston Police Department-HPDHouston Police Department-HPDPublic Works & Engineering-PWEHealth & Human ServicesHouston Fire Department (HFD)Public Works & Engineering-PWEHouston Fire Department (HFD)Houston Police Department-HPDHealth & Human ServicesHouston Police Department-HPDHouston Police Department-HPDHouston Police Department-HPDHouston Police Department-HPDHouston Fire Department (HFD)Houston Police Department-HPDPublic Works & Engineering-PWEHouston Police Department-HPDParks & RecreationPublic Works & Engineering-PWEHouston Police Department-HPDHouston Fire Department (HFD)Houston Police Department-HPDHouston Police Department-HPDHealth & Human ServicesHouston Police Department-HPDHouston Fire Department (HFD)Houston Police Department-HPDHouston Fire Department (HFD)Houston Airport System (HAS)Public Works & Engineering-PWEPublic Works & Engineering-PWEHouston Fire Department (HFD)Houston Police Department-HPDHouston Fire Department (HFD)Houston Police Department-HPDPublic Works & Engineering-PWEHouston Police Department-HPDHouston Airport System (HAS)Public Works & Engineering-PWEHouston Police Department-HPDParks & RecreationPublic Works & Engineering-PWEHouston Airport System (HAS)Houston Police Department-HPDHouston Police Department-HPDHouston Police Department-HPDParks & RecreationHouston Police Department-HPDHouston Fire Department (HFD)Public Works & Engineering-PWEHouston Police Department-HPDHouston Airport System (HAS)Parks & RecreationHouston Police Department-HPDHouston Fire Department (HFD)Houston Airport System (HAS)Houston Fire Department (HFD)Houston Police Department-HPDHouston Fire Department (HFD)Houston Police Department-HPDHouston Police Department-HPDHealth & Human ServicesHouston Police Department-HPDHouston Police Department-HPDPublic Works & Engineering-PWEHouston Police Department-HPDPublic Works & Engineering-PWEHouston Police Department-HPDHouston Police Department-HPDHouston Fire Department (HFD)Houston Airport System (HAS)Public Works & Engineering-PWEHouston Airport System (HAS)Public Works & Engineering-PWEPublic Works & Engineering-PWEHouston Police Department-HPDHouston Police Department-HPDHealth & Human ServicesPublic Works & Engineering-PWEHouston Fire Department (HFD)Houston Airport System (HAS)Houston Fire Department (HFD)Houston Police Department-HPDHealth & Human ServicesHouston Police Department-HPDHouston Fire Department (HFD)Public Works & Engineering-PWEHouston Police Department-HPDHouston Police Department-HPDHouston Police Department-HPDHouston Police Department-HPDHouston Fire Department (HFD)Public Works & Engineering-PWEHouston Fire Department (HFD)Houston Fire Department (HFD)Houston Police Department-HPDHouston Police Department-HPDHouston Police Department-HPDPublic Works & Engineering-PWEHouston Fire Department (HFD)Public Works & Engineering-PWEHouston Police Department-HPDHouston Fire Department (HFD)Houston Police Department-HPDHouston Police Department-HPDHouston Police Department-HPDPublic Works & Engineering-PWEHouston Police Department-HPDHouston Fire Department (HFD)Houston Fire Department (HFD)Health & Human ServicesHouston Police Department-HPDParks & RecreationHouston Police Department-HPDPublic Works & Engineering-PWEHouston Fire Department (HFD)Public Works & Engineering-PWEHouston Fire Department (HFD)Houston Airport System (HAS)Houston Police Department-HPDHouston Fire Department (HFD)Houston Fire Department (HFD)Houston Police Department-HPDHealth & Human ServicesHouston Police Department-HPDHealth & Human ServicesHouston Airport System (HAS)Health & Human ServicesHouston Airport System (HAS)Houston Fire Department (HFD)Houston Fire Department (HFD)Houston Fire Department (HFD)Houston Police Department-HPDHealth & Human ServicesHouston Fire Department (HFD)Public Works & Engineering-PWEHouston Police Department-HPDHouston Police Department-HPDHouston Police Department-HPDHouston Police Department-HPDPublic Works & Engineering-PWEPublic Works & Engineering-PWEPublic Works & Engineering-PWEHouston Fire Department (HFD)Public Works & Engineering-PWEPublic Works & Engineering-PWEHouston Airport System (HAS)Public Works & Engineering-PWEPublic Works & Engineering-PWEHouston Police Department-HPDHealth & Human ServicesParks & RecreationHouston Fire Department (HFD)Health & Human ServicesHouston Police Department-HPDHouston Police Department-HPDHouston Police Department-HPDHouston Airport System (HAS)Houston Police Department-HPDHouston Police Department-HPDPublic Works & Engineering-PWEHouston Police Department-HPDHouston Police Department-HPDHouston Police Department-HPDHouston Airport System (HAS)Parks & RecreationHouston Police Department-HPDHouston Fire Department (HFD)Houston Police Department-HPDHouston Airport System (HAS)Houston Police Department-HPDHouston Police Department-HPDHouston Police Department-HPDHouston Fire Department (HFD)Health & Human ServicesHouston Fire Department (HFD)Houston Fire Department (HFD)Houston Fire Department (HFD)Houston Fire Department (HFD)Houston Police Department-HPDHouston Police Department-HPDHouston Fire Department (HFD)Houston Police Department-HPDHealth & Human ServicesPublic Works & Engineering-PWEPublic Works & Engineering-PWEParks & RecreationHouston Police Department-HPDHouston Police Department-HPDHouston Fire Department (HFD)Houston Police Department-HPDPublic Works & Engineering-PWEPublic Works & Engineering-PWEHouston Police Department-HPDHouston Fire Department (HFD)Public Works & Engineering-PWEHouston Police Department-HPDPublic Works & Engineering-PWEPublic Works & Engineering-PWEHouston Police Department-HPDParks & RecreationHouston Police Department-HPDHouston Police Department-HPDHouston Fire Department (HFD)Houston Police Department-HPDHouston Fire Department (HFD)Houston Fire Department (HFD)Houston Police Department-HPDHouston Fire Department (HFD)Parks & RecreationHouston Fire Department (HFD)Public Works & Engineering-PWEPublic Works & Engineering-PWEHouston Airport System (HAS)Health & Human ServicesPublic Works & Engineering-PWEHouston Police Department-HPDHouston Fire Department (HFD)Houston Police Department-HPDHouston Fire Department (HFD)Houston Fire Department (HFD)Public Works & Engineering-PWEHouston Police Department-HPDPublic Works & Engineering-PWEHouston Police Department-HPDHouston Police Department-HPDPublic Works & Engineering-PWEPublic Works & Engineering-PWEHouston Police Department-HPDPublic Works & Engineering-PWEHealth & Human ServicesHouston Fire Department (HFD)Public Works & Engineering-PWEPublic Works & Engineering-PWEPublic Works & Engineering-PWEHouston Fire Department (HFD)Houston Police Department-HPDHouston Police Department-HPDHouston Fire Department (HFD)Public Works & Engineering-PWEHouston Police Department-HPDHouston Police Department-HPDHouston Fire Department (HFD)Houston Police Department-HPDHouston Police Department-HPDPublic Works & Engineering-PWEHouston Police Department-HPDHouston Fire Department (HFD)Parks & RecreationPublic Works & Engineering-PWEHouston Airport System (HAS)Houston Fire Department (HFD)Houston Police Department-HPDHouston Fire Department (HFD)Health & Human ServicesHouston Police Department-HPDHealth & Human ServicesPublic Works & Engineering-PWEHouston Police Department-HPDHouston Police Department-HPDHouston Fire Department (HFD)Public Works & Engineering-PWEPublic Works & Engineering-PWEHouston Fire Department (HFD)Houston Fire Department (HFD)Health & Human ServicesHealth & Human ServicesHouston Airport System (HAS)Houston Police Department-HPDHouston Fire Department (HFD)Houston Police Department-HPDHouston Police Department-HPDHealth & Human ServicesHealth & Human ServicesPublic Works & Engineering-PWEPublic Works & Engineering-PWEHouston Airport System (HAS)Houston Police Department-HPDHouston Police Department-HPDPublic Works & Engineering-PWEHouston Fire Department (HFD)Public Works & Engineering-PWEHealth & Human ServicesHouston Police Department-HPDHouston Fire Department (HFD)Public Works & Engineering-PWEHouston Police Department-HPDPublic Works & Engineering-PWEHouston Police Department-HPDHouston Police Department-HPDHouston Police Department-HPDHouston Fire Department (HFD)Houston Police Department-HPDHealth & Human ServicesHouston Police Department-HPDPublic Works & Engineering-PWEParks & RecreationHouston Fire Department (HFD)Public Works & Engineering-PWEPublic Works & Engineering-PWEHouston Police Department-HPDHouston Police Department-HPDHouston Airport System (HAS)Houston Fire Department (HFD)Houston Fire Department (HFD)Public Works & Engineering-PWEPublic Works & Engineering-PWEHealth & Human ServicesPublic Works & Engineering-PWEHouston Police Department-HPDHouston Police Department-HPDHouston Police Department-HPDPublic Works & Engineering-PWEHealth & Human ServicesHouston Police Department-HPDHouston Police Department-HPDHouston Police Department-HPDHouston Police Department-HPDHouston Police Department-HPDHouston Fire Department (HFD)Houston Police Department-HPDPublic Works & Engineering-PWEParks & RecreationHouston Police Department-HPDHouston Airport System (HAS)Houston Police Department-HPDPublic Works & Engineering-PWEHouston Police Department-HPDHouston Police Department-HPDHouston Fire Department (HFD)Houston Police Department-HPDPublic Works & Engineering-PWEHouston Police Department-HPDHouston Fire Department (HFD)Houston Airport System (HAS)Houston Police Department-HPDHouston Fire Department (HFD)Public Works & Engineering-PWEHouston Fire Department (HFD)Public Works & Engineering-PWEPublic Works & Engineering-PWEHouston Fire Department (HFD)Houston Police Department-HPDHouston Police Department-HPDParks & RecreationHealth & Human ServicesPublic Works & Engineering-PWEHouston Police Department-HPDHealth & Human ServicesHouston Police Department-HPDPublic Works & Engineering-PWEPublic Works & Engineering-PWEHouston Fire Department (HFD)Houston Police Department-HPDHouston Police Department-HPDHouston Police Department-HPDHouston Police Department-HPDHouston Police Department-HPDPublic Works & Engineering-PWEHouston Fire Department (HFD)Houston Police Department-HPDHouston Fire Department (HFD)Public Works & Engineering-PWEHouston Fire Department (HFD)Public Works & Engineering-PWEPublic Works & Engineering-PWEPublic Works & Engineering-PWEHouston Police Department-HPDHouston Police Department-HPDPublic Works & Engineering-PWEHouston Fire Department (HFD)Public Works & Engineering-PWEHouston Airport System (HAS)Houston Police Department-HPDHouston Police Department-HPDPublic Works & Engineering-PWEHouston Police Department-HPDParks & RecreationHouston Fire Department (HFD)Public Works & Engineering-PWEParks & RecreationHouston Police Department-HPDPublic Works & Engineering-PWEHouston Police Department-HPDPublic Works & Engineering-PWEHouston Police Department-HPDHouston Police Department-HPDPublic Works & Engineering-PWEHouston Police Department-HPDHouston Airport System (HAS)Houston Police Department-HPDHouston Airport System (HAS)Houston Police Department-HPDHouston Police Department-HPDHouston Fire Department (HFD)Houston Police Department-HPDHealth & Human ServicesHouston Fire Department (HFD)Houston Fire Department (HFD)Houston Police Department-HPDHouston Police Department-HPDHouston Police Department-HPDHouston Police Department-HPDHouston Airport System (HAS)Public Works & Engineering-PWEParks & RecreationParks & RecreationHouston Police Department-HPDPublic Works & Engineering-PWEHealth & Human ServicesHouston Fire Department (HFD)Public Works & Engineering-PWEParks & RecreationHouston Police Department-HPDHouston Fire Department (HFD)Houston Police Department-HPDPublic Works & Engineering-PWEPublic Works & Engineering-PWEHouston Police Department-HPDHouston Fire Department (HFD)Health & Human ServicesHouston Fire Department (HFD)Health & Human ServicesParks & RecreationHealth & Human ServicesPublic Works & Engineering-PWEHouston Fire Department (HFD)Houston Police Department-HPDPublic Works & Engineering-PWEHouston Police Department-HPDPublic Works & Engineering-PWEParks & RecreationParks & RecreationHouston Fire Department (HFD)Houston Police Department-HPDHouston Police Department-HPDPublic Works & Engineering-PWEHouston Police Department-HPDHouston Police Department-HPDHouston Police Department-HPDHouston Fire Department (HFD)Health & Human ServicesParks & RecreationHouston Fire Department (HFD)Houston Police Department-HPDHouston Fire Department (HFD)Houston Police Department-HPDPublic Works & Engineering-PWEPublic Works & Engineering-PWEHouston Fire Department (HFD)Houston Police Department-HPDHouston Fire Department (HFD)Public Works & Engineering-PWEHouston Fire Department (HFD)Public Works & Engineering-PWEHouston Police Department-HPDHouston Police Department-HPDHouston Police Department-HPDHouston Police Department-HPDPublic Works & Engineering-PWEHouston Police Department-HPDHouston Police Department-HPDHouston Police Department-HPDPublic Works & Engineering-PWEHouston Police Department-HPDPublic Works & Engineering-PWEHouston Police Department-HPDHouston Airport System (HAS)Houston Police Department-HPDHouston Police Department-HPDHouston Fire Department (HFD)Houston Fire Department (HFD)Houston Airport System (HAS)Public Works & Engineering-PWEHouston Fire Department (HFD)Houston Police Department-HPDHouston Fire Department (HFD)Houston Police Department-HPDHouston Police Department-HPDHouston Police Department-HPDHouston Fire Department (HFD)Houston Fire Department (HFD)Houston Fire Department (HFD)Houston Fire Department (HFD)Houston Police Department-HPDHouston Fire Department (HFD)Houston Police Department-HPDPublic Works & Engineering-PWEPublic Works & Engineering-PWEHouston Fire Department (HFD)Houston Police Department-HPDPublic Works & Engineering-PWEHouston Police Department-HPDHouston Airport System (HAS)Houston Fire Department (HFD)Houston Police Department-HPDHouston Police Department-HPDHouston Fire Department (HFD)Houston Police Department-HPDHouston Police Department-HPDHouston Fire Department (HFD)Public Works & Engineering-PWEHouston Police Department-HPDHouston Police Department-HPDHouston Police Department-HPDHouston Airport System (HAS)Public Works & Engineering-PWEHouston Fire Department (HFD)Houston Fire Department (HFD)Health & Human ServicesHouston Fire Department (HFD)Houston Police Department-HPDPublic Works & Engineering-PWEParks & RecreationPublic Works & Engineering-PWEHouston Police Department-HPDHouston Police Department-HPDHouston Police Department-HPDParks & RecreationHouston Police Department-HPDHouston Fire Department (HFD)Houston Fire Department (HFD)Houston Police Department-HPDHouston Police Department-HPDHealth & Human ServicesPublic Works & Engineering-PWEHouston Police Department-HPDPublic Works & Engineering-PWEHealth & Human ServicesHouston Fire Department (HFD)Houston Police Department-HPDHealth & Human ServicesHouston Police Department-HPDHouston Fire Department (HFD)Houston Police Department-HPDPublic Works & Engineering-PWEHouston Police Department-HPDParks & RecreationParks & RecreationHouston Police Department-HPDPublic Works & Engineering-PWEHouston Police Department-HPDPublic Works & Engineering-PWEParks & RecreationHouston Police Department-HPDHouston Fire Department (HFD)Health & Human ServicesParks & RecreationHouston Fire Department (HFD)Houston Fire Department (HFD)Public Works & Engineering-PWEHouston Fire Department (HFD)Houston Police Department-HPDHouston Fire Department (HFD)Public Works & Engineering-PWEPublic Works & Engineering-PWEHouston Airport System (HAS)Houston Police Department-HPDHouston Police Department-HPDHouston Police Department-HPDHouston Police Department-HPDHouston Police Department-HPDPublic Works & Engineering-PWEHouston Fire Department (HFD)Houston Fire Department (HFD)Houston Police Department-HPDHouston Fire Department (HFD)Houston Fire Department (HFD)Houston Police Department-HPDHouston Police Department-HPDPublic Works & Engineering-PWEHouston Fire Department (HFD)Houston Police Department-HPDHealth & Human ServicesHouston Fire Department (HFD)Houston Fire Department (HFD)Parks & RecreationHouston Fire Department (HFD)Houston Police Department-HPDHouston Police Department-HPDHouston Fire Department (HFD)Houston Fire Department (HFD)Health & Human ServicesHouston Police Department-HPDHouston Police Department-HPDPublic Works & Engineering-PWEHouston Police Department-HPDHouston Police Department-HPDHouston Police Department-HPDHouston Fire Department (HFD)Houston Police Department-HPDParks & RecreationHouston Police Department-HPDHealth & Human ServicesHouston Police Department-HPDHouston Fire Department (HFD)Parks & RecreationHouston Police Department-HPDPublic Works & Engineering-PWEHouston Fire Department (HFD)Public Works & Engineering-PWEHouston Police Department-HPDPublic Works & Engineering-PWEHouston Fire Department (HFD)Health & Human ServicesPublic Works & Engineering-PWEHouston Airport System (HAS)Houston Police Department-HPDHouston Police Department-HPDHouston Fire Department (HFD)Houston Police Department-HPDPublic Works & Engineering-PWEHouston Fire Department (HFD)Houston Fire Department (HFD)Houston Police Department-HPDHouston Police Department-HPDHouston Fire Department (HFD)Public Works & Engineering-PWEHouston Police Department-HPDHouston Police Department-HPDHouston Police Department-HPDHouston Fire Department (HFD)Houston Police Department-HPDHouston Police Department-HPDHouston Police Department-HPDHouston Police Department-HPDHouston Fire Department (HFD)Houston Fire Department (HFD)Public Works & Engineering-PWEPublic Works & Engineering-PWEHouston Police Department-HPDHouston Police Department-HPDHouston Fire Department (HFD)Houston Fire Department (HFD)Health & Human ServicesHouston Police Department-HPDPublic Works & Engineering-PWEPublic Works & Engineering-PWEHouston Fire Department (HFD)Houston Airport System (HAS)Houston Police Department-HPDPublic Works & Engineering-PWEHouston Airport System (HAS)Houston Police Department-HPDHouston Police Department-HPDParks & RecreationHouston Airport System (HAS)Houston Police Department-HPDHouston Police Department-HPDHouston Police Department-HPDPublic Works & Engineering-PWEHouston Police Department-HPDHouston Airport System (HAS)Public Works & Engineering-PWEPublic Works & Engineering-PWEPublic Works & Engineering-PWEPublic Works & Engineering-PWEHealth & Human ServicesHealth & Human ServicesHouston Fire Department (HFD)Houston Fire Department (HFD)Houston Police Department-HPDHouston Police Department-HPDHouston Police Department-HPDHouston Police Department-HPDPublic Works & Engineering-PWEHouston Police Department-HPDPublic Works & Engineering-PWEHealth & Human ServicesPublic Works & Engineering-PWEHouston Police Department-HPDHouston Police Department-HPDHouston Police Department-HPDHouston Police Department-HPDHouston Fire Department (HFD)Health & Human ServicesHouston Police Department-HPDHouston Fire Department (HFD)Houston Police Department-HPDHouston Police Department-HPDHouston Police Department-HPDHouston Police Department-HPDPublic Works & Engineering-PWEHouston Fire Department (HFD)Houston Police Department-HPDHouston Airport System (HAS)Health & Human ServicesHouston Fire Department (HFD)Houston Police Department-HPDPublic Works & Engineering-PWEPublic Works & Engineering-PWEHouston Police Department-HPDHouston Police Department-HPDPublic Works & Engineering-PWEHouston Police Department-HPDHouston Police Department-HPDPublic Works & Engineering-PWEPublic Works & Engineering-PWEHouston Police Department-HPDHealth & Human ServicesHouston Fire Department (HFD)Houston Police Department-HPDPublic Works & Engineering-PWEHouston Fire Department (HFD)Houston Police Department-HPDHouston Police Department-HPDHouston Fire Department (HFD)Houston Police Department-HPDHealth & Human ServicesHouston Police Department-HPDHouston Fire Department (HFD)Houston Police Department-HPDHouston Police Department-HPDPublic Works & Engineering-PWEParks & RecreationPublic Works & Engineering-PWEHouston Police Department-HPDHouston Police Department-HPDHouston Fire Department (HFD)Houston Police Department-HPDPublic Works & Engineering-PWEHealth & Human ServicesHouston Police Department-HPDHouston Police Department-HPDHouston Airport System (HAS)Houston Police Department-HPDPublic Works & Engineering-PWEPublic Works & Engineering-PWEHouston Police Department-HPDHealth & Human ServicesHouston Police Department-HPDHouston Police Department-HPDHouston Fire Department (HFD)Houston Police Department-HPDHouston Fire Department (HFD)Houston Airport System (HAS)Houston Airport System (HAS)Houston Fire Department (HFD)Health & Human ServicesHouston Police Department-HPDPublic Works & Engineering-PWEParks & RecreationHouston Police Department-HPDHouston Police Department-HPDHouston Police Department-HPDHouston Police Department-HPDHouston Fire Department (HFD)Health & Human ServicesHouston Police Department-HPDParks & RecreationHouston Fire Department (HFD)Houston Police Department-HPDHouston Fire Department (HFD)Houston Fire Department (HFD)Houston Police Department-HPDHouston Police Department-HPDPublic Works & Engineering-PWEHealth & Human ServicesPublic Works & Engineering-PWEHouston Police Department-HPDHouston Fire Department (HFD)Houston Fire Department (HFD)Public Works & Engineering-PWEHouston Fire Department (HFD)Houston Fire Department (HFD)Houston Police Department-HPDPublic Works & Engineering-PWEPublic Works & Engineering-PWEHouston Police Department-HPDHouston Fire Department (HFD)Houston Fire Department (HFD)Parks & RecreationHouston Fire Department (HFD)Houston Police Department-HPDPublic Works & Engineering-PWEPublic Works & Engineering-PWEHouston Police Department-HPDPublic Works & Engineering-PWEPublic Works & Engineering-PWEHouston Police Department-HPDHouston Police Department-HPDHouston Police Department-HPDHouston Police Department-HPDHouston Fire Department (HFD)Houston Police Department-HPDHouston Fire Department (HFD)Houston Police Department-HPDHouston Fire Department (HFD)Houston Airport System (HAS)Public Works & Engineering-PWEHouston Police Department-HPDHealth & Human ServicesHouston Police Department-HPDHouston Fire Department (HFD)Houston Police Department-HPDHouston Airport System (HAS)Parks & RecreationPublic Works & Engineering-PWEPublic Works & Engineering-PWEHouston Police Department-HPDHouston Airport System (HAS)Houston Police Department-HPDHouston Police Department-HPDHouston Airport System (HAS)Houston Fire Department (HFD)Houston Fire Department (HFD)Houston Airport System (HAS)Houston Fire Department (HFD)Houston Fire Department (HFD)Houston Police Department-HPDHouston Police Department-HPDPublic Works & Engineering-PWEPublic Works & Engineering-PWEPublic Works & Engineering-PWEParks & RecreationHouston Police Department-HPDHouston Police Department-HPDHealth & Human ServicesHouston Police Department-HPDParks & RecreationHouston Fire Department (HFD)Houston Police Department-HPDHouston Fire Department (HFD)Houston Police Department-HPDHouston Fire Department (HFD)Houston Police Department-HPDHouston Fire Department (HFD)Houston Airport System (HAS)Health & Human ServicesHouston Police Department-HPDHouston Fire Department (HFD)Houston Police Department-HPDHouston Fire Department (HFD)Houston Police Department-HPDHouston Fire Department (HFD)Houston Fire Department (HFD)Houston Airport System (HAS)Houston Police Department-HPDHouston Police Department-HPDHouston Police Department-HPDPublic Works & Engineering-PWEPublic Works & Engineering-PWEHouston Fire Department (HFD)Houston Fire Department (HFD)Public Works & Engineering-PWEHouston Police Department-HPDHouston Fire Department (HFD)Houston Police Department-HPDPublic Works & Engineering-PWEHouston Police Department-HPDParks & RecreationHouston Police Department-HPDHouston Fire Department (HFD)Public Works & Engineering-PWEHouston Airport System (HAS)Houston Fire Department (HFD)Houston Police Department-HPDPublic Works & Engineering-PWEPublic Works & Engineering-PWEHouston Fire Department (HFD)Public Works & Engineering-PWEHouston Police Department-HPDHouston Fire Department (HFD)Public Works & Engineering-PWEHealth & Human ServicesHouston Police Department-HPDHouston Police Department-HPDPublic Works & Engineering-PWEPublic Works & Engineering-PWEPublic Works & Engineering-PWEHouston Police Department-HPDHouston Police Department-HPDHouston Fire Department (HFD)Houston Police Department-HPDHouston Fire Department (HFD)Houston Fire Department (HFD)Houston Police Department-HPDHouston Police Department-HPDHouston Police Department-HPDHouston Fire Department (HFD)Public Works & Engineering-PWEHouston Fire Department (HFD)Houston Police Department-HPDPublic Works & Engineering-PWEPublic Works & Engineering-PWEParks & RecreationPublic Works & Engineering-PWEHouston Police Department-HPDPublic Works & Engineering-PWEHouston Fire Department (HFD)Houston Police Department-HPDPublic Works & Engineering-PWEHouston Police Department-HPDHouston Police Department-HPDHealth & Human ServicesHouston Fire Department (HFD)Houston Fire Department (HFD)Houston Police Department-HPDHouston Police Department-HPDPublic Works & Engineering-PWEHouston Airport System (HAS)Houston Police Department-HPDPublic Works & Engineering-PWEHouston Police Department-HPDHouston Police Department-HPDHouston Police Department-HPDHouston Fire Department (HFD)Houston Police Department-HPDHouston Fire Department (HFD)Public Works & Engineering-PWEHouston Police Department-HPDHouston Fire Department (HFD)Houston Fire Department (HFD)Public Works & Engineering-PWEHouston Fire Department (HFD)Public Works & Engineering-PWEHouston Fire Department (HFD)Houston Airport System (HAS)Houston Police Department-HPDHouston Fire Department (HFD)Houston Fire Department (HFD)Health & Human ServicesHouston Police Department-HPDHealth & Human ServicesHouston Police Department-HPDHouston Fire Department (HFD)Public Works & Engineering-PWEPublic Works & Engineering-PWEHouston Fire Department (HFD)Houston Airport System (HAS)Houston Police Department-HPDHouston Fire Department (HFD)Houston Fire Department (HFD)Houston Police Department-HPDHouston Fire Department (HFD)Houston Police Department-HPDPublic Works & Engineering-PWEHouston Police Department-HPDHouston Police Department-HPDHouston Police Department-HPDHouston Fire Department (HFD)Houston Police Department-HPDPublic Works & Engineering-PWEPublic Works & Engineering-PWEHealth & Human ServicesPublic Works & Engineering-PWEPublic Works & Engineering-PWEPublic Works & Engineering-PWEPublic Works & Engineering-PWEHouston Police Department-HPDHouston Fire Department (HFD)Houston Police Department-HPDPublic Works & Engineering-PWEHouston Airport System (HAS)Houston Police Department-HPDPublic Works & Engineering-PWEHouston Police Department-HPDHouston Police Department-HPDHouston Police Department-HPDPublic Works & Engineering-PWEHouston Police Department-HPDPublic Works & Engineering-PWEHouston Police Department-HPDHouston Police Department-HPDHouston Fire Department (HFD)Houston Police Department-HPDHouston Fire Department (HFD)Public Works & Engineering-PWEHealth & Human ServicesHouston Police Department-HPDPublic Works & Engineering-PWEHouston Police Department-HPDPublic Works & Engineering-PWEPublic Works & Engineering-PWEHouston Airport System (HAS)Houston Airport System (HAS)Houston Police Department-HPDHouston Police Department-HPDHouston Police Department-HPDHouston Police Department-HPDHouston Police Department-HPDHouston Fire Department (HFD)Houston Police Department-HPDHouston Fire Department (HFD)Houston Police Department-HPDPublic Works & Engineering-PWEHouston Police Department-HPDHouston Airport System (HAS)Houston Airport System (HAS)Houston Police Department-HPDHouston Fire Department (HFD)Houston Police Department-HPDHouston Police Department-HPDPublic Works & Engineering-PWEHouston Police Department-HPDHouston Police Department-HPDHouston Police Department-HPDHouston Airport System (HAS)Houston Fire Department (HFD)Houston Fire Department (HFD)Houston Police Department-HPDPublic Works & Engineering-PWEHouston Airport System (HAS)Houston Fire Department (HFD)Public Works & Engineering-PWEHouston Police Department-HPDHouston Fire Department (HFD)Houston Police Department-HPDPublic Works & Engineering-PWEHouston Fire Department (HFD)Houston Police Department-HPDPublic Works & Engineering-PWEHouston Police Department-HPDPublic Works & Engineering-PWEParks & RecreationHouston Fire Department (HFD)Houston Police Department-HPDPublic Works & Engineering-PWEHouston Fire Department (HFD)Houston Fire Department (HFD)Health & Human ServicesPublic Works & Engineering-PWEHouston Fire Department (HFD)Public Works & Engineering-PWEHealth & Human ServicesHouston Fire Department (HFD)Houston Airport System (HAS)Houston Fire Department (HFD)Houston Police Department-HPDHouston Police Department-HPDPublic Works & Engineering-PWEHouston Police Department-HPDParks & RecreationPublic Works & Engineering-PWEHouston Police Department-HPDHouston Fire Department (HFD)Houston Police Department-HPDPublic Works & Engineering-PWEPublic Works & Engineering-PWEHouston Airport System (HAS)Houston Police Department-HPDHouston Fire Department (HFD)Houston Police Department-HPDHouston Fire Department (HFD)Houston Police Department-HPDHouston Fire Department (HFD)Houston Fire Department (HFD)Houston Fire Department (HFD)Houston Police Department-HPDHouston Fire Department (HFD)Houston Police Department-HPDHouston Police Department-HPDHouston Fire Department (HFD)Houston Police Department-HPDHouston Fire Department (HFD)Houston Police Department-HPDHouston Police Department-HPDHouston Fire Department (HFD)Houston Fire Department (HFD)Public Works & Engineering-PWEHouston Police Department-HPDHouston Fire Department (HFD)Houston Police Department-HPDPublic Works & Engineering-PWEHouston Police Department-HPDHouston Fire Department (HFD)Houston Police Department-HPDPublic Works & Engineering-PWEHouston Police Department-HPDHouston Fire Department (HFD)Public Works & Engineering-PWEPublic Works & Engineering-PWEParks & RecreationHouston Police Department-HPDHouston Police Department-HPDHouston Fire Department (HFD)Houston Police Department-HPDHouston Fire Department (HFD)Public Works & Engineering-PWEHouston Police Department-HPDHouston Fire Department (HFD)Public Works & Engineering-PWEHouston Airport System (HAS)Parks & RecreationHouston Fire Department (HFD)Public Works & Engineering-PWEHealth & Human ServicesHouston Police Department-HPDHealth & Human ServicesHouston Fire Department (HFD)Houston Fire Department (HFD)Parks & RecreationHouston Airport System (HAS)Public Works & Engineering-PWEHouston Fire Department (HFD)Houston Police Department-HPDHouston Police Department-HPDHouston Airport System (HAS)Houston Airport System (HAS)Houston Fire Department (HFD)Public Works & Engineering-PWEPublic Works & Engineering-PWEParks & RecreationHouston Police Department-HPDHouston Airport System (HAS)Houston Police Department-HPDHouston Airport System (HAS)Public Works & Engineering-PWEPublic Works & Engineering-PWEHouston Airport System (HAS)Parks & RecreationHouston Fire Department (HFD)Houston Police Department-HPDHouston Fire Department (HFD)Parks & RecreationHouston Police Department-HPDHouston Fire Department (HFD)Houston Airport System (HAS)Public Works & Engineering-PWEHouston Police Department-HPDHealth & Human ServicesPublic Works & Engineering-PWEPublic Works & Engineering-PWEHouston Fire Department (HFD)Public Works & Engineering-PWEHouston Police Department-HPDHouston Police Department-HPDHouston Police Department-HPDParks & RecreationHouston Airport System (HAS)Houston Airport System (HAS)Houston Fire Department (HFD)Houston Fire Department (HFD)Public Works & Engineering-PWEHouston Airport System (HAS)Houston Police Department-HPDHouston Fire Department (HFD)Houston Fire Department (HFD)Public Works & Engineering-PWEHouston Fire Department (HFD)Houston Police Department-HPDHouston Fire Department (HFD)Houston Police Department-HPDPublic Works & Engineering-PWEHouston Fire Department (HFD)Houston Police Department-HPDPublic Works & Engineering-PWEHouston Fire Department (HFD)Houston Fire Department (HFD)Houston Police Department-HPDHouston Police Department-HPDHouston Police Department-HPDHouston Police Department-HPDHealth & Human ServicesHouston Airport System (HAS)Houston Fire Department (HFD)Houston Fire Department (HFD)Houston Police Department-HPDHouston Police Department-HPDHouston Fire Department (HFD)Houston Fire Department (HFD)Houston Police Department-HPDHouston Police Department-HPDHouston Police Department-HPDParks & RecreationHealth & Human ServicesHouston Fire Department (HFD)Houston Police Department-HPDHouston Police Department-HPDHealth & Human ServicesHouston Police Department-HPDHouston Fire Department (HFD)Houston Police Department-HPDHouston Fire Department (HFD)Houston Police Department-HPDHouston Fire Department (HFD)Houston Police Department-HPDHouston Fire Department (HFD)Houston Police Department-HPDHouston Police Department-HPDHealth & Human ServicesHouston Police Department-HPDHouston Police Department-HPDHouston Police Department-HPDHouston Airport System (HAS)Health & Human ServicesPublic Works & Engineering-PWEHouston Police Department-HPDHouston Police Department-HPDHouston Fire Department (HFD)Houston Airport System (HAS)Health & Human ServicesHouston Police Department-HPDHouston Police Department-HPDHealth & Human ServicesHouston Police Department-HPDHouston Police Department-HPDPublic Works & Engineering-PWEHouston Police Department-HPDHouston Fire Department (HFD)Parks & RecreationHouston Police Department-HPDHouston Police Department-HPDPublic Works & Engineering-PWEHouston Fire Department (HFD)Houston Police Department-HPDHealth & Human ServicesHealth & Human ServicesParks & RecreationHouston Fire Department (HFD)Houston Fire Department (HFD)Public Works & Engineering-PWEPublic Works & Engineering-PWEParks & RecreationHealth & Human ServicesHouston Police Department-HPDHouston Fire Department (HFD)Houston Police Department-HPDHouston Airport System (HAS)Houston Airport System (HAS)Houston Police Department-HPDHouston Fire Department (HFD)Houston Fire Department (HFD)Health & Human ServicesHouston Fire Department (HFD)Public Works & Engineering-PWEHouston Airport System (HAS)Public Works & Engineering-PWEPublic Works & Engineering-PWEHouston Fire Department (HFD)Houston Police Department-HPDHouston Fire Department (HFD)Houston Police Department-HPDHouston Police Department-HPDParks & RecreationHouston Police Department-HPDHouston Police Department-HPDPublic Works & Engineering-PWEHouston Fire Department (HFD)Houston Fire Department (HFD)Houston Police Department-HPDHouston Fire Department (HFD)Public Works & Engineering-PWEHouston Fire Department (HFD)Houston Police Department-HPDHouston Police Department-HPDHouston Police Department-HPDHouston Police Department-HPDHouston Police Department-HPDHouston Airport System (HAS)Houston Police Department-HPDHouston Fire Department (HFD)Public Works & Engineering-PWEHouston Fire Department (HFD)Houston Fire Department (HFD)Public Works & Engineering-PWEHouston Police Department-HPDHouston Police Department-HPDHouston Police Department-HPDHouston Police Department-HPDHealth & Human ServicesPublic Works & Engineering-PWEHouston Police Department-HPDHouston Police Department-HPDHouston Fire Department (HFD)Houston Police Department-HPDHouston Fire Department (HFD)Houston Fire Department (HFD)Health & Human ServicesHouston Fire Department (HFD)Public Works & Engineering-PWEHouston Police Department-HPDPublic Works & Engineering-PWEHouston Airport System (HAS)Houston Police Department-HPDHouston Fire Department (HFD)Houston Fire Department (HFD)Parks & RecreationHouston Fire Department (HFD)Public Works & Engineering-PWEParks & RecreationHouston Police Department-HPDPublic Works & Engineering-PWEPublic Works & Engineering-PWEHouston Police Department-HPDHouston Police Department-HPDHouston Police Department-HPDHouston Police Department-HPDPublic Works & Engineering-PWEHouston Police Department-HPDHouston Fire Department (HFD)Houston Fire Department (HFD)Houston Police Department-HPDHouston Police Department-HPDPublic Works & Engineering-PWEHouston Police Department-HPDPublic Works & Engineering-PWEPublic Works & Engineering-PWEHouston Police Department-HPDPublic Works & Engineering-PWEHouston Police Department-HPDHouston Police Department-HPDHouston Fire Department (HFD)Public Works & Engineering-PWEParks & RecreationHouston Fire Department (HFD)Houston Fire Department (HFD)Houston Fire Department (HFD)Houston Police Department-HPDHouston Police Department-HPDHouston Fire Department (HFD)Public Works & Engineering-PWEHouston Fire Department (HFD)Houston Airport System (HAS)Public Works & Engineering-PWEHouston Police Department-HPDHouston Police Department-HPDHealth & Human ServicesPublic Works & Engineering-PWEHouston Airport System (HAS)Houston Police Department-HPDHouston Airport System (HAS)Parks & RecreationPublic Works & Engineering-PWEPublic Works & Engineering-PWEHouston Fire Department (HFD)Houston Fire Department (HFD)Public Works & Engineering-PWEHouston Fire Department (HFD)Public Works & Engineering-PWEHouston Fire Department (HFD)Parks & RecreationHouston Police Department-HPDPublic Works & Engineering-PWEHouston Police Department-HPDHouston Airport System (HAS)Houston Police Department-HPDHouston Police Department-HPDPublic Works & Engineering-PWEParks & RecreationHouston Police Department-HPDHouston Police Department-HPDHouston Police Department-HPDHouston Police Department-HPDHouston Fire Department (HFD)Houston Fire Department (HFD)Houston Police Department-HPDPublic Works & Engineering-PWEParks & RecreationHouston Fire Department (HFD)Public Works & Engineering-PWEHouston Police Department-HPDHouston Fire Department (HFD)Houston Police Department-HPDHouston Fire Department (HFD)Houston Police Department-HPDHouston Airport System (HAS)Houston Fire Department (HFD)Houston Police Department-HPDHouston Police Department-HPDHouston Police Department-HPDHouston Police Department-HPDHouston Fire Department (HFD)Public Works & Engineering-PWEPublic Works & Engineering-PWEHouston Fire Department (HFD)Parks & RecreationPublic Works & Engineering-PWEPublic Works & Engineering-PWEHouston Police Department-HPDHealth & Human ServicesHouston Fire Department (HFD)Parks & RecreationPublic Works & Engineering-PWEHouston Police Department-HPDHouston Police Department-HPDParks & RecreationHouston Police Department-HPDHouston Fire Department (HFD)Houston Police Department-HPDHouston Police Department-HPDPublic Works & Engineering-PWEHouston Fire Department (HFD)Public Works & Engineering-PWEHouston Fire Department (HFD)Public Works & Engineering-PWEHouston Police Department-HPDHouston Police Department-HPDHouston Police Department-HPDPublic Works & Engineering-PWEHouston Police Department-HPDHouston Police Department-HPDHouston Fire Department (HFD)Health & Human ServicesHouston Fire Department (HFD)Houston Police Department-HPDPublic Works & Engineering-PWEParks & RecreationHouston Fire Department (HFD)Houston Police Department-HPDHouston Police Department-HPDPublic Works & Engineering-PWEHouston Police Department-HPDParks & RecreationHouston Police Department-HPDHouston Police Department-HPDHouston Police Department-HPDHouston Police Department-HPDHouston Airport System (HAS)Houston Fire Department (HFD)Houston Fire Department (HFD)Houston Fire Department (HFD)Houston Police Department-HPDHouston Police Department-HPDPublic Works & Engineering-PWEPublic Works & Engineering-PWEHouston Police Department-HPDHouston Police Department-HPDPublic Works & Engineering-PWEHouston Police Department-HPDHouston Airport System (HAS)Houston Fire Department (HFD)Health & Human ServicesPublic Works & Engineering-PWEHouston Fire Department (HFD)Houston Police Department-HPDHealth & Human ServicesPublic Works & Engineering-PWEHealth & Human ServicesHouston Airport System (HAS)Health & Human ServicesPublic Works & Engineering-PWEHouston Police Department-HPDPublic Works & Engineering-PWEHouston Police Department-HPDHouston Police Department-HPDPublic Works & Engineering-PWEHouston Fire Department (HFD)Houston Police Department-HPDHouston Fire Department (HFD)Public Works & Engineering-PWEPublic Works & Engineering-PWEHouston Fire Department (HFD)Parks & RecreationHouston Fire Department (HFD)Houston Fire Department (HFD)Public Works & Engineering-PWEHouston Fire Department (HFD)Houston Airport System (HAS)Houston Police Department-HPDHouston Fire Department (HFD)Public Works & Engineering-PWEHouston Police Department-HPDHouston Airport System (HAS)Health & Human ServicesHouston Police Department-HPDHealth & Human ServicesHouston Fire Department (HFD)Houston Police Department-HPDHouston Airport System (HAS)Houston Police Department-HPDPublic Works & Engineering-PWEHouston Police Department-HPDPublic Works & Engineering-PWEHouston Fire Department (HFD)Houston Fire Department (HFD)Parks & RecreationHouston Police Department-HPDHealth & Human ServicesHouston Fire Department (HFD)Public Works & Engineering-PWEHouston Police Department-HPDHouston Fire Department (HFD)Parks & RecreationHouston Police Department-HPDHealth & Human ServicesHouston Fire Department (HFD)Houston Fire Department (HFD)Health & Human ServicesHouston Police Department-HPDPublic Works & Engineering-PWEHouston Fire Department (HFD)Houston Fire Department (HFD)Houston Fire Department (HFD)Houston Airport System (HAS)Houston Airport System (HAS)Houston Fire Department (HFD)Public Works & Engineering-PWEHouston Police Department-HPDPublic Works & Engineering-PWEHealth & Human ServicesHouston Police Department-HPDHouston Police Department-HPDHouston Airport System (HAS)Houston Fire Department (HFD)Houston Police Department-HPDHouston Police Department-HPDHouston Airport System (HAS)Houston Police Department-HPDHouston Fire Department (HFD)Houston Police Department-HPDHealth & Human ServicesHouston Police Department-HPDHouston Police Department-HPDHouston Police Department-HPDPublic Works & Engineering-PWEHouston Police Department-HPDPublic Works & Engineering-PWEHouston Police Department-HPDHouston Airport System (HAS)Public Works & Engineering-PWEHouston Airport System (HAS)Public Works & Engineering-PWEParks & RecreationHouston Police Department-HPDPublic Works & Engineering-PWEHouston Police Department-HPDHouston Police Department-HPDHouston Police Department-HPDHouston Police Department-HPDPublic Works & Engineering-PWEPublic Works & Engineering-PWEHouston Police Department-HPDHouston Fire Department (HFD)Public Works & Engineering-PWEHouston Police Department-HPDHouston Police Department-HPDHouston Police Department-HPDHouston Police Department-HPDHealth & Human ServicesHouston Police Department-HPDHouston Police Department-HPDHouston Police Department-HPDHouston Fire Department (HFD)Public Works & Engineering-PWEHouston Police Department-HPDHouston Airport System (HAS)Houston Police Department-HPDHouston Police Department-HPDHouston Police Department-HPDHouston Police Department-HPDHouston Fire Department (HFD)Houston Fire Department (HFD)Houston Fire Department (HFD)Houston Police Department-HPDHouston Police Department-HPDPublic Works & Engineering-PWEParks & RecreationHouston Police Department-HPDHouston Airport System (HAS)Houston Police Department-HPDHouston Police Department-HPDHouston Police Department-HPDHouston Fire Department (HFD)Houston Police Department-HPDHouston Police Department-HPDHouston Fire Department (HFD) to numeric",
     "output_type": "error",
     "traceback": [
      "\u001b[0;31m---------------------------------------------------------------------------\u001b[0m",
      "\u001b[0;31mValueError\u001b[0m                                Traceback (most recent call last)",
      "\u001b[0;32m~/anaconda3/lib/python3.7/site-packages/pandas/core/nanops.py\u001b[0m in \u001b[0;36m_ensure_numeric\u001b[0;34m(x)\u001b[0m\n\u001b[1;32m    821\u001b[0m         \u001b[0;32mtry\u001b[0m\u001b[0;34m:\u001b[0m\u001b[0;34m\u001b[0m\u001b[0m\n\u001b[0;32m--> 822\u001b[0;31m             \u001b[0mx\u001b[0m \u001b[0;34m=\u001b[0m \u001b[0mfloat\u001b[0m\u001b[0;34m(\u001b[0m\u001b[0mx\u001b[0m\u001b[0;34m)\u001b[0m\u001b[0;34m\u001b[0m\u001b[0m\n\u001b[0m\u001b[1;32m    823\u001b[0m         \u001b[0;32mexcept\u001b[0m \u001b[0mException\u001b[0m\u001b[0;34m:\u001b[0m\u001b[0;34m\u001b[0m\u001b[0m\n",
      "\u001b[0;31mValueError\u001b[0m: could not convert string to float: 'Houston Police Department-HPDHouston Fire Department (HFD)Houston Police Department-HPDPublic Works & Engineering-PWEHouston Airport System (HAS)Public Works & Engineering-PWEHouston Airport System (HAS)Houston Fire Department (HFD)Health & Human ServicesPublic Works & Engineering-PWEHealth & Human ServicesHouston Police Department-HPDHouston Police Department-HPDHouston Police Department-HPDHouston Police Department-HPDHouston Police Department-HPDPublic Works & Engineering-PWEHouston Fire Department (HFD)Public Works & Engineering-PWEHouston Fire Department (HFD)Houston Police Department-HPDHouston Police Department-HPDHouston Police Department-HPDHouston Police Department-HPDHouston Police Department-HPDPublic Works & Engineering-PWEHouston Fire Department (HFD)Houston Fire Department (HFD)Houston Fire Department (HFD)Houston Police Department-HPDHealth & Human ServicesPublic Works & Engineering-PWEHealth & Human ServicesPublic Works & Engineering-PWEHouston Fire Department (HFD)Houston Fire Department (HFD)Houston Fire Department (HFD)Houston Fire Department (HFD)Houston Police Department-HPDHouston Police Department-HPDPublic Works & Engineering-PWEPublic Works & Engineering-PWEHouston Fire Department (HFD)Houston Fire Department (HFD)Houston Fire Department (HFD)Houston Police Department-HPDHouston Fire Department (HFD)Houston Airport System (HAS)Houston Fire Department (HFD)Houston Police Department-HPDPublic Works & Engineering-PWEHouston Airport System (HAS)Houston Airport System (HAS)Public Works & Engineering-PWEHouston Fire Department (HFD)Houston Police Department-HPDPublic Works & Engineering-PWEHouston Police Department-HPDHouston Airport System (HAS)Health & Human ServicesHouston Police Department-HPDHouston Police Department-HPDHouston Police Department-HPDHealth & Human ServicesHouston Police Department-HPDHouston Airport System (HAS)Houston Fire Department (HFD)Houston Police Department-HPDHouston Police Department-HPDPublic Works & Engineering-PWEPublic Works & Engineering-PWEHouston Police Department-HPDHouston Fire Department (HFD)Health & Human ServicesHouston Fire Department (HFD)Public Works & Engineering-PWEPublic Works & Engineering-PWEHouston Police Department-HPDPublic Works & Engineering-PWEParks & RecreationHouston Fire Department (HFD)Houston Police Department-HPDHouston Police Department-HPDPublic Works & Engineering-PWEPublic Works & Engineering-PWEHouston Airport System (HAS)Houston Fire Department (HFD)Houston Fire Department (HFD)Public Works & Engineering-PWEHouston Police Department-HPDHouston Fire Department (HFD)Houston Fire Department (HFD)Health & Human ServicesPublic Works & Engineering-PWEHouston Fire Department (HFD)Health & Human ServicesHouston Police Department-HPDHouston Police Department-HPDPublic Works & Engineering-PWEHealth & Human ServicesHouston Fire Department (HFD)Public Works & Engineering-PWEHouston Fire Department (HFD)Houston Police Department-HPDHealth & Human ServicesHouston Police Department-HPDHouston Police Department-HPDHouston Police Department-HPDHouston Police Department-HPDHouston Fire Department (HFD)Houston Police Department-HPDPublic Works & Engineering-PWEHouston Police Department-HPDParks & RecreationPublic Works & Engineering-PWEHouston Police Department-HPDHouston Fire Department (HFD)Houston Police Department-HPDHouston Police Department-HPDHealth & Human ServicesHouston Police Department-HPDHouston Fire Department (HFD)Houston Police Department-HPDHouston Fire Department (HFD)Houston Airport System (HAS)Public Works & Engineering-PWEPublic Works & Engineering-PWEHouston Fire Department (HFD)Houston Police Department-HPDHouston Fire Department (HFD)Houston Police Department-HPDPublic Works & Engineering-PWEHouston Police Department-HPDHouston Airport System (HAS)Public Works & Engineering-PWEHouston Police Department-HPDParks & RecreationPublic Works & Engineering-PWEHouston Airport System (HAS)Houston Police Department-HPDHouston Police Department-HPDHouston Police Department-HPDParks & RecreationHouston Police Department-HPDHouston Fire Department (HFD)Public Works & Engineering-PWEHouston Police Department-HPDHouston Airport System (HAS)Parks & RecreationHouston Police Department-HPDHouston Fire Department (HFD)Houston Airport System (HAS)Houston Fire Department (HFD)Houston Police Department-HPDHouston Fire Department (HFD)Houston Police Department-HPDHouston Police Department-HPDHealth & Human ServicesHouston Police Department-HPDHouston Police Department-HPDPublic Works & Engineering-PWEHouston Police Department-HPDPublic Works & Engineering-PWEHouston Police Department-HPDHouston Police Department-HPDHouston Fire Department (HFD)Houston Airport System (HAS)Public Works & Engineering-PWEHouston Airport System (HAS)Public Works & Engineering-PWEPublic Works & Engineering-PWEHouston Police Department-HPDHouston Police Department-HPDHealth & Human ServicesPublic Works & Engineering-PWEHouston Fire Department (HFD)Houston Airport System (HAS)Houston Fire Department (HFD)Houston Police Department-HPDHealth & Human ServicesHouston Police Department-HPDHouston Fire Department (HFD)Public Works & Engineering-PWEHouston Police Department-HPDHouston Police Department-HPDHouston Police Department-HPDHouston Police Department-HPDHouston Fire Department (HFD)Public Works & Engineering-PWEHouston Fire Department (HFD)Houston Fire Department (HFD)Houston Police Department-HPDHouston Police Department-HPDHouston Police Department-HPDPublic Works & Engineering-PWEHouston Fire Department (HFD)Public Works & Engineering-PWEHouston Police Department-HPDHouston Fire Department (HFD)Houston Police Department-HPDHouston Police Department-HPDHouston Police Department-HPDPublic Works & Engineering-PWEHouston Police Department-HPDHouston Fire Department (HFD)Houston Fire Department (HFD)Health & Human ServicesHouston Police Department-HPDParks & RecreationHouston Police Department-HPDPublic Works & Engineering-PWEHouston Fire Department (HFD)Public Works & Engineering-PWEHouston Fire Department (HFD)Houston Airport System (HAS)Houston Police Department-HPDHouston Fire Department (HFD)Houston Fire Department (HFD)Houston Police Department-HPDHealth & Human ServicesHouston Police Department-HPDHealth & Human ServicesHouston Airport System (HAS)Health & Human ServicesHouston Airport System (HAS)Houston Fire Department (HFD)Houston Fire Department (HFD)Houston Fire Department (HFD)Houston Police Department-HPDHealth & Human ServicesHouston Fire Department (HFD)Public Works & Engineering-PWEHouston Police Department-HPDHouston Police Department-HPDHouston Police Department-HPDHouston Police Department-HPDPublic Works & Engineering-PWEPublic Works & Engineering-PWEPublic Works & Engineering-PWEHouston Fire Department (HFD)Public Works & Engineering-PWEPublic Works & Engineering-PWEHouston Airport System (HAS)Public Works & Engineering-PWEPublic Works & Engineering-PWEHouston Police Department-HPDHealth & Human ServicesParks & RecreationHouston Fire Department (HFD)Health & Human ServicesHouston Police Department-HPDHouston Police Department-HPDHouston Police Department-HPDHouston Airport System (HAS)Houston Police Department-HPDHouston Police Department-HPDPublic Works & Engineering-PWEHouston Police Department-HPDHouston Police Department-HPDHouston Police Department-HPDHouston Airport System (HAS)Parks & RecreationHouston Police Department-HPDHouston Fire Department (HFD)Houston Police Department-HPDHouston Airport System (HAS)Houston Police Department-HPDHouston Police Department-HPDHouston Police Department-HPDHouston Fire Department (HFD)Health & Human ServicesHouston Fire Department (HFD)Houston Fire Department (HFD)Houston Fire Department (HFD)Houston Fire Department (HFD)Houston Police Department-HPDHouston Police Department-HPDHouston Fire Department (HFD)Houston Police Department-HPDHealth & Human ServicesPublic Works & Engineering-PWEPublic Works & Engineering-PWEParks & RecreationHouston Police Department-HPDHouston Police Department-HPDHouston Fire Department (HFD)Houston Police Department-HPDPublic Works & Engineering-PWEPublic Works & Engineering-PWEHouston Police Department-HPDHouston Fire Department (HFD)Public Works & Engineering-PWEHouston Police Department-HPDPublic Works & Engineering-PWEPublic Works & Engineering-PWEHouston Police Department-HPDParks & RecreationHouston Police Department-HPDHouston Police Department-HPDHouston Fire Department (HFD)Houston Police Department-HPDHouston Fire Department (HFD)Houston Fire Department (HFD)Houston Police Department-HPDHouston Fire Department (HFD)Parks & RecreationHouston Fire Department (HFD)Public Works & Engineering-PWEPublic Works & Engineering-PWEHouston Airport System (HAS)Health & Human ServicesPublic Works & Engineering-PWEHouston Police Department-HPDHouston Fire Department (HFD)Houston Police Department-HPDHouston Fire Department (HFD)Houston Fire Department (HFD)Public Works & Engineering-PWEHouston Police Department-HPDPublic Works & Engineering-PWEHouston Police Department-HPDHouston Police Department-HPDPublic Works & Engineering-PWEPublic Works & Engineering-PWEHouston Police Department-HPDPublic Works & Engineering-PWEHealth & Human ServicesHouston Fire Department (HFD)Public Works & Engineering-PWEPublic Works & Engineering-PWEPublic Works & Engineering-PWEHouston Fire Department (HFD)Houston Police Department-HPDHouston Police Department-HPDHouston Fire Department (HFD)Public Works & Engineering-PWEHouston Police Department-HPDHouston Police Department-HPDHouston Fire Department (HFD)Houston Police Department-HPDHouston Police Department-HPDPublic Works & Engineering-PWEHouston Police Department-HPDHouston Fire Department (HFD)Parks & RecreationPublic Works & Engineering-PWEHouston Airport System (HAS)Houston Fire Department (HFD)Houston Police Department-HPDHouston Fire Department (HFD)Health & Human ServicesHouston Police Department-HPDHealth & Human ServicesPublic Works & Engineering-PWEHouston Police Department-HPDHouston Police Department-HPDHouston Fire Department (HFD)Public Works & Engineering-PWEPublic Works & Engineering-PWEHouston Fire Department (HFD)Houston Fire Department (HFD)Health & Human ServicesHealth & Human ServicesHouston Airport System (HAS)Houston Police Department-HPDHouston Fire Department (HFD)Houston Police Department-HPDHouston Police Department-HPDHealth & Human ServicesHealth & Human ServicesPublic Works & Engineering-PWEPublic Works & Engineering-PWEHouston Airport System (HAS)Houston Police Department-HPDHouston Police Department-HPDPublic Works & Engineering-PWEHouston Fire Department (HFD)Public Works & Engineering-PWEHealth & Human ServicesHouston Police Department-HPDHouston Fire Department (HFD)Public Works & Engineering-PWEHouston Police Department-HPDPublic Works & Engineering-PWEHouston Police Department-HPDHouston Police Department-HPDHouston Police Department-HPDHouston Fire Department (HFD)Houston Police Department-HPDHealth & Human ServicesHouston Police Department-HPDPublic Works & Engineering-PWEParks & RecreationHouston Fire Department (HFD)Public Works & Engineering-PWEPublic Works & Engineering-PWEHouston Police Department-HPDHouston Police Department-HPDHouston Airport System (HAS)Houston Fire Department (HFD)Houston Fire Department (HFD)Public Works & Engineering-PWEPublic Works & Engineering-PWEHealth & Human ServicesPublic Works & Engineering-PWEHouston Police Department-HPDHouston Police Department-HPDHouston Police Department-HPDPublic Works & Engineering-PWEHealth & Human ServicesHouston Police Department-HPDHouston Police Department-HPDHouston Police Department-HPDHouston Police Department-HPDHouston Police Department-HPDHouston Fire Department (HFD)Houston Police Department-HPDPublic Works & Engineering-PWEParks & RecreationHouston Police Department-HPDHouston Airport System (HAS)Houston Police Department-HPDPublic Works & Engineering-PWEHouston Police Department-HPDHouston Police Department-HPDHouston Fire Department (HFD)Houston Police Department-HPDPublic Works & Engineering-PWEHouston Police Department-HPDHouston Fire Department (HFD)Houston Airport System (HAS)Houston Police Department-HPDHouston Fire Department (HFD)Public Works & Engineering-PWEHouston Fire Department (HFD)Public Works & Engineering-PWEPublic Works & Engineering-PWEHouston Fire Department (HFD)Houston Police Department-HPDHouston Police Department-HPDParks & RecreationHealth & Human ServicesPublic Works & Engineering-PWEHouston Police Department-HPDHealth & Human ServicesHouston Police Department-HPDPublic Works & Engineering-PWEPublic Works & Engineering-PWEHouston Fire Department (HFD)Houston Police Department-HPDHouston Police Department-HPDHouston Police Department-HPDHouston Police Department-HPDHouston Police Department-HPDPublic Works & Engineering-PWEHouston Fire Department (HFD)Houston Police Department-HPDHouston Fire Department (HFD)Public Works & Engineering-PWEHouston Fire Department (HFD)Public Works & Engineering-PWEPublic Works & Engineering-PWEPublic Works & Engineering-PWEHouston Police Department-HPDHouston Police Department-HPDPublic Works & Engineering-PWEHouston Fire Department (HFD)Public Works & Engineering-PWEHouston Airport System (HAS)Houston Police Department-HPDHouston Police Department-HPDPublic Works & Engineering-PWEHouston Police Department-HPDParks & RecreationHouston Fire Department (HFD)Public Works & Engineering-PWEParks & RecreationHouston Police Department-HPDPublic Works & Engineering-PWEHouston Police Department-HPDPublic Works & Engineering-PWEHouston Police Department-HPDHouston Police Department-HPDPublic Works & Engineering-PWEHouston Police Department-HPDHouston Airport System (HAS)Houston Police Department-HPDHouston Airport System (HAS)Houston Police Department-HPDHouston Police Department-HPDHouston Fire Department (HFD)Houston Police Department-HPDHealth & Human ServicesHouston Fire Department (HFD)Houston Fire Department (HFD)Houston Police Department-HPDHouston Police Department-HPDHouston Police Department-HPDHouston Police Department-HPDHouston Airport System (HAS)Public Works & Engineering-PWEParks & RecreationParks & RecreationHouston Police Department-HPDPublic Works & Engineering-PWEHealth & Human ServicesHouston Fire Department (HFD)Public Works & Engineering-PWEParks & RecreationHouston Police Department-HPDHouston Fire Department (HFD)Houston Police Department-HPDPublic Works & Engineering-PWEPublic Works & Engineering-PWEHouston Police Department-HPDHouston Fire Department (HFD)Health & Human ServicesHouston Fire Department (HFD)Health & Human ServicesParks & RecreationHealth & Human ServicesPublic Works & Engineering-PWEHouston Fire Department (HFD)Houston Police Department-HPDPublic Works & Engineering-PWEHouston Police Department-HPDPublic Works & Engineering-PWEParks & RecreationParks & RecreationHouston Fire Department (HFD)Houston Police Department-HPDHouston Police Department-HPDPublic Works & Engineering-PWEHouston Police Department-HPDHouston Police Department-HPDHouston Police Department-HPDHouston Fire Department (HFD)Health & Human ServicesParks & RecreationHouston Fire Department (HFD)Houston Police Department-HPDHouston Fire Department (HFD)Houston Police Department-HPDPublic Works & Engineering-PWEPublic Works & Engineering-PWEHouston Fire Department (HFD)Houston Police Department-HPDHouston Fire Department (HFD)Public Works & Engineering-PWEHouston Fire Department (HFD)Public Works & Engineering-PWEHouston Police Department-HPDHouston Police Department-HPDHouston Police Department-HPDHouston Police Department-HPDPublic Works & Engineering-PWEHouston Police Department-HPDHouston Police Department-HPDHouston Police Department-HPDPublic Works & Engineering-PWEHouston Police Department-HPDPublic Works & Engineering-PWEHouston Police Department-HPDHouston Airport System (HAS)Houston Police Department-HPDHouston Police Department-HPDHouston Fire Department (HFD)Houston Fire Department (HFD)Houston Airport System (HAS)Public Works & Engineering-PWEHouston Fire Department (HFD)Houston Police Department-HPDHouston Fire Department (HFD)Houston Police Department-HPDHouston Police Department-HPDHouston Police Department-HPDHouston Fire Department (HFD)Houston Fire Department (HFD)Houston Fire Department (HFD)Houston Fire Department (HFD)Houston Police Department-HPDHouston Fire Department (HFD)Houston Police Department-HPDPublic Works & Engineering-PWEPublic Works & Engineering-PWEHouston Fire Department (HFD)Houston Police Department-HPDPublic Works & Engineering-PWEHouston Police Department-HPDHouston Airport System (HAS)Houston Fire Department (HFD)Houston Police Department-HPDHouston Police Department-HPDHouston Fire Department (HFD)Houston Police Department-HPDHouston Police Department-HPDHouston Fire Department (HFD)Public Works & Engineering-PWEHouston Police Department-HPDHouston Police Department-HPDHouston Police Department-HPDHouston Airport System (HAS)Public Works & Engineering-PWEHouston Fire Department (HFD)Houston Fire Department (HFD)Health & Human ServicesHouston Fire Department (HFD)Houston Police Department-HPDPublic Works & Engineering-PWEParks & RecreationPublic Works & Engineering-PWEHouston Police Department-HPDHouston Police Department-HPDHouston Police Department-HPDParks & RecreationHouston Police Department-HPDHouston Fire Department (HFD)Houston Fire Department (HFD)Houston Police Department-HPDHouston Police Department-HPDHealth & Human ServicesPublic Works & Engineering-PWEHouston Police Department-HPDPublic Works & Engineering-PWEHealth & Human ServicesHouston Fire Department (HFD)Houston Police Department-HPDHealth & Human ServicesHouston Police Department-HPDHouston Fire Department (HFD)Houston Police Department-HPDPublic Works & Engineering-PWEHouston Police Department-HPDParks & RecreationParks & RecreationHouston Police Department-HPDPublic Works & Engineering-PWEHouston Police Department-HPDPublic Works & Engineering-PWEParks & RecreationHouston Police Department-HPDHouston Fire Department (HFD)Health & Human ServicesParks & RecreationHouston Fire Department (HFD)Houston Fire Department (HFD)Public Works & Engineering-PWEHouston Fire Department (HFD)Houston Police Department-HPDHouston Fire Department (HFD)Public Works & Engineering-PWEPublic Works & Engineering-PWEHouston Airport System (HAS)Houston Police Department-HPDHouston Police Department-HPDHouston Police Department-HPDHouston Police Department-HPDHouston Police Department-HPDPublic Works & Engineering-PWEHouston Fire Department (HFD)Houston Fire Department (HFD)Houston Police Department-HPDHouston Fire Department (HFD)Houston Fire Department (HFD)Houston Police Department-HPDHouston Police Department-HPDPublic Works & Engineering-PWEHouston Fire Department (HFD)Houston Police Department-HPDHealth & Human ServicesHouston Fire Department (HFD)Houston Fire Department (HFD)Parks & RecreationHouston Fire Department (HFD)Houston Police Department-HPDHouston Police Department-HPDHouston Fire Department (HFD)Houston Fire Department (HFD)Health & Human ServicesHouston Police Department-HPDHouston Police Department-HPDPublic Works & Engineering-PWEHouston Police Department-HPDHouston Police Department-HPDHouston Police Department-HPDHouston Fire Department (HFD)Houston Police Department-HPDParks & RecreationHouston Police Department-HPDHealth & Human ServicesHouston Police Department-HPDHouston Fire Department (HFD)Parks & RecreationHouston Police Department-HPDPublic Works & Engineering-PWEHouston Fire Department (HFD)Public Works & Engineering-PWEHouston Police Department-HPDPublic Works & Engineering-PWEHouston Fire Department (HFD)Health & Human ServicesPublic Works & Engineering-PWEHouston Airport System (HAS)Houston Police Department-HPDHouston Police Department-HPDHouston Fire Department (HFD)Houston Police Department-HPDPublic Works & Engineering-PWEHouston Fire Department (HFD)Houston Fire Department (HFD)Houston Police Department-HPDHouston Police Department-HPDHouston Fire Department (HFD)Public Works & Engineering-PWEHouston Police Department-HPDHouston Police Department-HPDHouston Police Department-HPDHouston Fire Department (HFD)Houston Police Department-HPDHouston Police Department-HPDHouston Police Department-HPDHouston Police Department-HPDHouston Fire Department (HFD)Houston Fire Department (HFD)Public Works & Engineering-PWEPublic Works & Engineering-PWEHouston Police Department-HPDHouston Police Department-HPDHouston Fire Department (HFD)Houston Fire Department (HFD)Health & Human ServicesHouston Police Department-HPDPublic Works & Engineering-PWEPublic Works & Engineering-PWEHouston Fire Department (HFD)Houston Airport System (HAS)Houston Police Department-HPDPublic Works & Engineering-PWEHouston Airport System (HAS)Houston Police Department-HPDHouston Police Department-HPDParks & RecreationHouston Airport System (HAS)Houston Police Department-HPDHouston Police Department-HPDHouston Police Department-HPDPublic Works & Engineering-PWEHouston Police Department-HPDHouston Airport System (HAS)Public Works & Engineering-PWEPublic Works & Engineering-PWEPublic Works & Engineering-PWEPublic Works & Engineering-PWEHealth & Human ServicesHealth & Human ServicesHouston Fire Department (HFD)Houston Fire Department (HFD)Houston Police Department-HPDHouston Police Department-HPDHouston Police Department-HPDHouston Police Department-HPDPublic Works & Engineering-PWEHouston Police Department-HPDPublic Works & Engineering-PWEHealth & Human ServicesPublic Works & Engineering-PWEHouston Police Department-HPDHouston Police Department-HPDHouston Police Department-HPDHouston Police Department-HPDHouston Fire Department (HFD)Health & Human ServicesHouston Police Department-HPDHouston Fire Department (HFD)Houston Police Department-HPDHouston Police Department-HPDHouston Police Department-HPDHouston Police Department-HPDPublic Works & Engineering-PWEHouston Fire Department (HFD)Houston Police Department-HPDHouston Airport System (HAS)Health & Human ServicesHouston Fire Department (HFD)Houston Police Department-HPDPublic Works & Engineering-PWEPublic Works & Engineering-PWEHouston Police Department-HPDHouston Police Department-HPDPublic Works & Engineering-PWEHouston Police Department-HPDHouston Police Department-HPDPublic Works & Engineering-PWEPublic Works & Engineering-PWEHouston Police Department-HPDHealth & Human ServicesHouston Fire Department (HFD)Houston Police Department-HPDPublic Works & Engineering-PWEHouston Fire Department (HFD)Houston Police Department-HPDHouston Police Department-HPDHouston Fire Department (HFD)Houston Police Department-HPDHealth & Human ServicesHouston Police Department-HPDHouston Fire Department (HFD)Houston Police Department-HPDHouston Police Department-HPDPublic Works & Engineering-PWEParks & RecreationPublic Works & Engineering-PWEHouston Police Department-HPDHouston Police Department-HPDHouston Fire Department (HFD)Houston Police Department-HPDPublic Works & Engineering-PWEHealth & Human ServicesHouston Police Department-HPDHouston Police Department-HPDHouston Airport System (HAS)Houston Police Department-HPDPublic Works & Engineering-PWEPublic Works & Engineering-PWEHouston Police Department-HPDHealth & Human ServicesHouston Police Department-HPDHouston Police Department-HPDHouston Fire Department (HFD)Houston Police Department-HPDHouston Fire Department (HFD)Houston Airport System (HAS)Houston Airport System (HAS)Houston Fire Department (HFD)Health & Human ServicesHouston Police Department-HPDPublic Works & Engineering-PWEParks & RecreationHouston Police Department-HPDHouston Police Department-HPDHouston Police Department-HPDHouston Police Department-HPDHouston Fire Department (HFD)Health & Human ServicesHouston Police Department-HPDParks & RecreationHouston Fire Department (HFD)Houston Police Department-HPDHouston Fire Department (HFD)Houston Fire Department (HFD)Houston Police Department-HPDHouston Police Department-HPDPublic Works & Engineering-PWEHealth & Human ServicesPublic Works & Engineering-PWEHouston Police Department-HPDHouston Fire Department (HFD)Houston Fire Department (HFD)Public Works & Engineering-PWEHouston Fire Department (HFD)Houston Fire Department (HFD)Houston Police Department-HPDPublic Works & Engineering-PWEPublic Works & Engineering-PWEHouston Police Department-HPDHouston Fire Department (HFD)Houston Fire Department (HFD)Parks & RecreationHouston Fire Department (HFD)Houston Police Department-HPDPublic Works & Engineering-PWEPublic Works & Engineering-PWEHouston Police Department-HPDPublic Works & Engineering-PWEPublic Works & Engineering-PWEHouston Police Department-HPDHouston Police Department-HPDHouston Police Department-HPDHouston Police Department-HPDHouston Fire Department (HFD)Houston Police Department-HPDHouston Fire Department (HFD)Houston Police Department-HPDHouston Fire Department (HFD)Houston Airport System (HAS)Public Works & Engineering-PWEHouston Police Department-HPDHealth & Human ServicesHouston Police Department-HPDHouston Fire Department (HFD)Houston Police Department-HPDHouston Airport System (HAS)Parks & RecreationPublic Works & Engineering-PWEPublic Works & Engineering-PWEHouston Police Department-HPDHouston Airport System (HAS)Houston Police Department-HPDHouston Police Department-HPDHouston Airport System (HAS)Houston Fire Department (HFD)Houston Fire Department (HFD)Houston Airport System (HAS)Houston Fire Department (HFD)Houston Fire Department (HFD)Houston Police Department-HPDHouston Police Department-HPDPublic Works & Engineering-PWEPublic Works & Engineering-PWEPublic Works & Engineering-PWEParks & RecreationHouston Police Department-HPDHouston Police Department-HPDHealth & Human ServicesHouston Police Department-HPDParks & RecreationHouston Fire Department (HFD)Houston Police Department-HPDHouston Fire Department (HFD)Houston Police Department-HPDHouston Fire Department (HFD)Houston Police Department-HPDHouston Fire Department (HFD)Houston Airport System (HAS)Health & Human ServicesHouston Police Department-HPDHouston Fire Department (HFD)Houston Police Department-HPDHouston Fire Department (HFD)Houston Police Department-HPDHouston Fire Department (HFD)Houston Fire Department (HFD)Houston Airport System (HAS)Houston Police Department-HPDHouston Police Department-HPDHouston Police Department-HPDPublic Works & Engineering-PWEPublic Works & Engineering-PWEHouston Fire Department (HFD)Houston Fire Department (HFD)Public Works & Engineering-PWEHouston Police Department-HPDHouston Fire Department (HFD)Houston Police Department-HPDPublic Works & Engineering-PWEHouston Police Department-HPDParks & RecreationHouston Police Department-HPDHouston Fire Department (HFD)Public Works & Engineering-PWEHouston Airport System (HAS)Houston Fire Department (HFD)Houston Police Department-HPDPublic Works & Engineering-PWEPublic Works & Engineering-PWEHouston Fire Department (HFD)Public Works & Engineering-PWEHouston Police Department-HPDHouston Fire Department (HFD)Public Works & Engineering-PWEHealth & Human ServicesHouston Police Department-HPDHouston Police Department-HPDPublic Works & Engineering-PWEPublic Works & Engineering-PWEPublic Works & Engineering-PWEHouston Police Department-HPDHouston Police Department-HPDHouston Fire Department (HFD)Houston Police Department-HPDHouston Fire Department (HFD)Houston Fire Department (HFD)Houston Police Department-HPDHouston Police Department-HPDHouston Police Department-HPDHouston Fire Department (HFD)Public Works & Engineering-PWEHouston Fire Department (HFD)Houston Police Department-HPDPublic Works & Engineering-PWEPublic Works & Engineering-PWEParks & RecreationPublic Works & Engineering-PWEHouston Police Department-HPDPublic Works & Engineering-PWEHouston Fire Department (HFD)Houston Police Department-HPDPublic Works & Engineering-PWEHouston Police Department-HPDHouston Police Department-HPDHealth & Human ServicesHouston Fire Department (HFD)Houston Fire Department (HFD)Houston Police Department-HPDHouston Police Department-HPDPublic Works & Engineering-PWEHouston Airport System (HAS)Houston Police Department-HPDPublic Works & Engineering-PWEHouston Police Department-HPDHouston Police Department-HPDHouston Police Department-HPDHouston Fire Department (HFD)Houston Police Department-HPDHouston Fire Department (HFD)Public Works & Engineering-PWEHouston Police Department-HPDHouston Fire Department (HFD)Houston Fire Department (HFD)Public Works & Engineering-PWEHouston Fire Department (HFD)Public Works & Engineering-PWEHouston Fire Department (HFD)Houston Airport System (HAS)Houston Police Department-HPDHouston Fire Department (HFD)Houston Fire Department (HFD)Health & Human ServicesHouston Police Department-HPDHealth & Human ServicesHouston Police Department-HPDHouston Fire Department (HFD)Public Works & Engineering-PWEPublic Works & Engineering-PWEHouston Fire Department (HFD)Houston Airport System (HAS)Houston Police Department-HPDHouston Fire Department (HFD)Houston Fire Department (HFD)Houston Police Department-HPDHouston Fire Department (HFD)Houston Police Department-HPDPublic Works & Engineering-PWEHouston Police Department-HPDHouston Police Department-HPDHouston Police Department-HPDHouston Fire Department (HFD)Houston Police Department-HPDPublic Works & Engineering-PWEPublic Works & Engineering-PWEHealth & Human ServicesPublic Works & Engineering-PWEPublic Works & Engineering-PWEPublic Works & Engineering-PWEPublic Works & Engineering-PWEHouston Police Department-HPDHouston Fire Department (HFD)Houston Police Department-HPDPublic Works & Engineering-PWEHouston Airport System (HAS)Houston Police Department-HPDPublic Works & Engineering-PWEHouston Police Department-HPDHouston Police Department-HPDHouston Police Department-HPDPublic Works & Engineering-PWEHouston Police Department-HPDPublic Works & Engineering-PWEHouston Police Department-HPDHouston Police Department-HPDHouston Fire Department (HFD)Houston Police Department-HPDHouston Fire Department (HFD)Public Works & Engineering-PWEHealth & Human ServicesHouston Police Department-HPDPublic Works & Engineering-PWEHouston Police Department-HPDPublic Works & Engineering-PWEPublic Works & Engineering-PWEHouston Airport System (HAS)Houston Airport System (HAS)Houston Police Department-HPDHouston Police Department-HPDHouston Police Department-HPDHouston Police Department-HPDHouston Police Department-HPDHouston Fire Department (HFD)Houston Police Department-HPDHouston Fire Department (HFD)Houston Police Department-HPDPublic Works & Engineering-PWEHouston Police Department-HPDHouston Airport System (HAS)Houston Airport System (HAS)Houston Police Department-HPDHouston Fire Department (HFD)Houston Police Department-HPDHouston Police Department-HPDPublic Works & Engineering-PWEHouston Police Department-HPDHouston Police Department-HPDHouston Police Department-HPDHouston Airport System (HAS)Houston Fire Department (HFD)Houston Fire Department (HFD)Houston Police Department-HPDPublic Works & Engineering-PWEHouston Airport System (HAS)Houston Fire Department (HFD)Public Works & Engineering-PWEHouston Police Department-HPDHouston Fire Department (HFD)Houston Police Department-HPDPublic Works & Engineering-PWEHouston Fire Department (HFD)Houston Police Department-HPDPublic Works & Engineering-PWEHouston Police Department-HPDPublic Works & Engineering-PWEParks & RecreationHouston Fire Department (HFD)Houston Police Department-HPDPublic Works & Engineering-PWEHouston Fire Department (HFD)Houston Fire Department (HFD)Health & Human ServicesPublic Works & Engineering-PWEHouston Fire Department (HFD)Public Works & Engineering-PWEHealth & Human ServicesHouston Fire Department (HFD)Houston Airport System (HAS)Houston Fire Department (HFD)Houston Police Department-HPDHouston Police Department-HPDPublic Works & Engineering-PWEHouston Police Department-HPDParks & RecreationPublic Works & Engineering-PWEHouston Police Department-HPDHouston Fire Department (HFD)Houston Police Department-HPDPublic Works & Engineering-PWEPublic Works & Engineering-PWEHouston Airport System (HAS)Houston Police Department-HPDHouston Fire Department (HFD)Houston Police Department-HPDHouston Fire Department (HFD)Houston Police Department-HPDHouston Fire Department (HFD)Houston Fire Department (HFD)Houston Fire Department (HFD)Houston Police Department-HPDHouston Fire Department (HFD)Houston Police Department-HPDHouston Police Department-HPDHouston Fire Department (HFD)Houston Police Department-HPDHouston Fire Department (HFD)Houston Police Department-HPDHouston Police Department-HPDHouston Fire Department (HFD)Houston Fire Department (HFD)Public Works & Engineering-PWEHouston Police Department-HPDHouston Fire Department (HFD)Houston Police Department-HPDPublic Works & Engineering-PWEHouston Police Department-HPDHouston Fire Department (HFD)Houston Police Department-HPDPublic Works & Engineering-PWEHouston Police Department-HPDHouston Fire Department (HFD)Public Works & Engineering-PWEPublic Works & Engineering-PWEParks & RecreationHouston Police Department-HPDHouston Police Department-HPDHouston Fire Department (HFD)Houston Police Department-HPDHouston Fire Department (HFD)Public Works & Engineering-PWEHouston Police Department-HPDHouston Fire Department (HFD)Public Works & Engineering-PWEHouston Airport System (HAS)Parks & RecreationHouston Fire Department (HFD)Public Works & Engineering-PWEHealth & Human ServicesHouston Police Department-HPDHealth & Human ServicesHouston Fire Department (HFD)Houston Fire Department (HFD)Parks & RecreationHouston Airport System (HAS)Public Works & Engineering-PWEHouston Fire Department (HFD)Houston Police Department-HPDHouston Police Department-HPDHouston Airport System (HAS)Houston Airport System (HAS)Houston Fire Department (HFD)Public Works & Engineering-PWEPublic Works & Engineering-PWEParks & RecreationHouston Police Department-HPDHouston Airport System (HAS)Houston Police Department-HPDHouston Airport System (HAS)Public Works & Engineering-PWEPublic Works & Engineering-PWEHouston Airport System (HAS)Parks & RecreationHouston Fire Department (HFD)Houston Police Department-HPDHouston Fire Department (HFD)Parks & RecreationHouston Police Department-HPDHouston Fire Department (HFD)Houston Airport System (HAS)Public Works & Engineering-PWEHouston Police Department-HPDHealth & Human ServicesPublic Works & Engineering-PWEPublic Works & Engineering-PWEHouston Fire Department (HFD)Public Works & Engineering-PWEHouston Police Department-HPDHouston Police Department-HPDHouston Police Department-HPDParks & RecreationHouston Airport System (HAS)Houston Airport System (HAS)Houston Fire Department (HFD)Houston Fire Department (HFD)Public Works & Engineering-PWEHouston Airport System (HAS)Houston Police Department-HPDHouston Fire Department (HFD)Houston Fire Department (HFD)Public Works & Engineering-PWEHouston Fire Department (HFD)Houston Police Department-HPDHouston Fire Department (HFD)Houston Police Department-HPDPublic Works & Engineering-PWEHouston Fire Department (HFD)Houston Police Department-HPDPublic Works & Engineering-PWEHouston Fire Department (HFD)Houston Fire Department (HFD)Houston Police Department-HPDHouston Police Department-HPDHouston Police Department-HPDHouston Police Department-HPDHealth & Human ServicesHouston Airport System (HAS)Houston Fire Department (HFD)Houston Fire Department (HFD)Houston Police Department-HPDHouston Police Department-HPDHouston Fire Department (HFD)Houston Fire Department (HFD)Houston Police Department-HPDHouston Police Department-HPDHouston Police Department-HPDParks & RecreationHealth & Human ServicesHouston Fire Department (HFD)Houston Police Department-HPDHouston Police Department-HPDHealth & Human ServicesHouston Police Department-HPDHouston Fire Department (HFD)Houston Police Department-HPDHouston Fire Department (HFD)Houston Police Department-HPDHouston Fire Department (HFD)Houston Police Department-HPDHouston Fire Department (HFD)Houston Police Department-HPDHouston Police Department-HPDHealth & Human ServicesHouston Police Department-HPDHouston Police Department-HPDHouston Police Department-HPDHouston Airport System (HAS)Health & Human ServicesPublic Works & Engineering-PWEHouston Police Department-HPDHouston Police Department-HPDHouston Fire Department (HFD)Houston Airport System (HAS)Health & Human ServicesHouston Police Department-HPDHouston Police Department-HPDHealth & Human ServicesHouston Police Department-HPDHouston Police Department-HPDPublic Works & Engineering-PWEHouston Police Department-HPDHouston Fire Department (HFD)Parks & RecreationHouston Police Department-HPDHouston Police Department-HPDPublic Works & Engineering-PWEHouston Fire Department (HFD)Houston Police Department-HPDHealth & Human ServicesHealth & Human ServicesParks & RecreationHouston Fire Department (HFD)Houston Fire Department (HFD)Public Works & Engineering-PWEPublic Works & Engineering-PWEParks & RecreationHealth & Human ServicesHouston Police Department-HPDHouston Fire Department (HFD)Houston Police Department-HPDHouston Airport System (HAS)Houston Airport System (HAS)Houston Police Department-HPDHouston Fire Department (HFD)Houston Fire Department (HFD)Health & Human ServicesHouston Fire Department (HFD)Public Works & Engineering-PWEHouston Airport System (HAS)Public Works & Engineering-PWEPublic Works & Engineering-PWEHouston Fire Department (HFD)Houston Police Department-HPDHouston Fire Department (HFD)Houston Police Department-HPDHouston Police Department-HPDParks & RecreationHouston Police Department-HPDHouston Police Department-HPDPublic Works & Engineering-PWEHouston Fire Department (HFD)Houston Fire Department (HFD)Houston Police Department-HPDHouston Fire Department (HFD)Public Works & Engineering-PWEHouston Fire Department (HFD)Houston Police Department-HPDHouston Police Department-HPDHouston Police Department-HPDHouston Police Department-HPDHouston Police Department-HPDHouston Airport System (HAS)Houston Police Department-HPDHouston Fire Department (HFD)Public Works & Engineering-PWEHouston Fire Department (HFD)Houston Fire Department (HFD)Public Works & Engineering-PWEHouston Police Department-HPDHouston Police Department-HPDHouston Police Department-HPDHouston Police Department-HPDHealth & Human ServicesPublic Works & Engineering-PWEHouston Police Department-HPDHouston Police Department-HPDHouston Fire Department (HFD)Houston Police Department-HPDHouston Fire Department (HFD)Houston Fire Department (HFD)Health & Human ServicesHouston Fire Department (HFD)Public Works & Engineering-PWEHouston Police Department-HPDPublic Works & Engineering-PWEHouston Airport System (HAS)Houston Police Department-HPDHouston Fire Department (HFD)Houston Fire Department (HFD)Parks & RecreationHouston Fire Department (HFD)Public Works & Engineering-PWEParks & RecreationHouston Police Department-HPDPublic Works & Engineering-PWEPublic Works & Engineering-PWEHouston Police Department-HPDHouston Police Department-HPDHouston Police Department-HPDHouston Police Department-HPDPublic Works & Engineering-PWEHouston Police Department-HPDHouston Fire Department (HFD)Houston Fire Department (HFD)Houston Police Department-HPDHouston Police Department-HPDPublic Works & Engineering-PWEHouston Police Department-HPDPublic Works & Engineering-PWEPublic Works & Engineering-PWEHouston Police Department-HPDPublic Works & Engineering-PWEHouston Police Department-HPDHouston Police Department-HPDHouston Fire Department (HFD)Public Works & Engineering-PWEParks & RecreationHouston Fire Department (HFD)Houston Fire Department (HFD)Houston Fire Department (HFD)Houston Police Department-HPDHouston Police Department-HPDHouston Fire Department (HFD)Public Works & Engineering-PWEHouston Fire Department (HFD)Houston Airport System (HAS)Public Works & Engineering-PWEHouston Police Department-HPDHouston Police Department-HPDHealth & Human ServicesPublic Works & Engineering-PWEHouston Airport System (HAS)Houston Police Department-HPDHouston Airport System (HAS)Parks & RecreationPublic Works & Engineering-PWEPublic Works & Engineering-PWEHouston Fire Department (HFD)Houston Fire Department (HFD)Public Works & Engineering-PWEHouston Fire Department (HFD)Public Works & Engineering-PWEHouston Fire Department (HFD)Parks & RecreationHouston Police Department-HPDPublic Works & Engineering-PWEHouston Police Department-HPDHouston Airport System (HAS)Houston Police Department-HPDHouston Police Department-HPDPublic Works & Engineering-PWEParks & RecreationHouston Police Department-HPDHouston Police Department-HPDHouston Police Department-HPDHouston Police Department-HPDHouston Fire Department (HFD)Houston Fire Department (HFD)Houston Police Department-HPDPublic Works & Engineering-PWEParks & RecreationHouston Fire Department (HFD)Public Works & Engineering-PWEHouston Police Department-HPDHouston Fire Department (HFD)Houston Police Department-HPDHouston Fire Department (HFD)Houston Police Department-HPDHouston Airport System (HAS)Houston Fire Department (HFD)Houston Police Department-HPDHouston Police Department-HPDHouston Police Department-HPDHouston Police Department-HPDHouston Fire Department (HFD)Public Works & Engineering-PWEPublic Works & Engineering-PWEHouston Fire Department (HFD)Parks & RecreationPublic Works & Engineering-PWEPublic Works & Engineering-PWEHouston Police Department-HPDHealth & Human ServicesHouston Fire Department (HFD)Parks & RecreationPublic Works & Engineering-PWEHouston Police Department-HPDHouston Police Department-HPDParks & RecreationHouston Police Department-HPDHouston Fire Department (HFD)Houston Police Department-HPDHouston Police Department-HPDPublic Works & Engineering-PWEHouston Fire Department (HFD)Public Works & Engineering-PWEHouston Fire Department (HFD)Public Works & Engineering-PWEHouston Police Department-HPDHouston Police Department-HPDHouston Police Department-HPDPublic Works & Engineering-PWEHouston Police Department-HPDHouston Police Department-HPDHouston Fire Department (HFD)Health & Human ServicesHouston Fire Department (HFD)Houston Police Department-HPDPublic Works & Engineering-PWEParks & RecreationHouston Fire Department (HFD)Houston Police Department-HPDHouston Police Department-HPDPublic Works & Engineering-PWEHouston Police Department-HPDParks & RecreationHouston Police Department-HPDHouston Police Department-HPDHouston Police Department-HPDHouston Police Department-HPDHouston Airport System (HAS)Houston Fire Department (HFD)Houston Fire Department (HFD)Houston Fire Department (HFD)Houston Police Department-HPDHouston Police Department-HPDPublic Works & Engineering-PWEPublic Works & Engineering-PWEHouston Police Department-HPDHouston Police Department-HPDPublic Works & Engineering-PWEHouston Police Department-HPDHouston Airport System (HAS)Houston Fire Department (HFD)Health & Human ServicesPublic Works & Engineering-PWEHouston Fire Department (HFD)Houston Police Department-HPDHealth & Human ServicesPublic Works & Engineering-PWEHealth & Human ServicesHouston Airport System (HAS)Health & Human ServicesPublic Works & Engineering-PWEHouston Police Department-HPDPublic Works & Engineering-PWEHouston Police Department-HPDHouston Police Department-HPDPublic Works & Engineering-PWEHouston Fire Department (HFD)Houston Police Department-HPDHouston Fire Department (HFD)Public Works & Engineering-PWEPublic Works & Engineering-PWEHouston Fire Department (HFD)Parks & RecreationHouston Fire Department (HFD)Houston Fire Department (HFD)Public Works & Engineering-PWEHouston Fire Department (HFD)Houston Airport System (HAS)Houston Police Department-HPDHouston Fire Department (HFD)Public Works & Engineering-PWEHouston Police Department-HPDHouston Airport System (HAS)Health & Human ServicesHouston Police Department-HPDHealth & Human ServicesHouston Fire Department (HFD)Houston Police Department-HPDHouston Airport System (HAS)Houston Police Department-HPDPublic Works & Engineering-PWEHouston Police Department-HPDPublic Works & Engineering-PWEHouston Fire Department (HFD)Houston Fire Department (HFD)Parks & RecreationHouston Police Department-HPDHealth & Human ServicesHouston Fire Department (HFD)Public Works & Engineering-PWEHouston Police Department-HPDHouston Fire Department (HFD)Parks & RecreationHouston Police Department-HPDHealth & Human ServicesHouston Fire Department (HFD)Houston Fire Department (HFD)Health & Human ServicesHouston Police Department-HPDPublic Works & Engineering-PWEHouston Fire Department (HFD)Houston Fire Department (HFD)Houston Fire Department (HFD)Houston Airport System (HAS)Houston Airport System (HAS)Houston Fire Department (HFD)Public Works & Engineering-PWEHouston Police Department-HPDPublic Works & Engineering-PWEHealth & Human ServicesHouston Police Department-HPDHouston Police Department-HPDHouston Airport System (HAS)Houston Fire Department (HFD)Houston Police Department-HPDHouston Police Department-HPDHouston Airport System (HAS)Houston Police Department-HPDHouston Fire Department (HFD)Houston Police Department-HPDHealth & Human ServicesHouston Police Department-HPDHouston Police Department-HPDHouston Police Department-HPDPublic Works & Engineering-PWEHouston Police Department-HPDPublic Works & Engineering-PWEHouston Police Department-HPDHouston Airport System (HAS)Public Works & Engineering-PWEHouston Airport System (HAS)Public Works & Engineering-PWEParks & RecreationHouston Police Department-HPDPublic Works & Engineering-PWEHouston Police Department-HPDHouston Police Department-HPDHouston Police Department-HPDHouston Police Department-HPDPublic Works & Engineering-PWEPublic Works & Engineering-PWEHouston Police Department-HPDHouston Fire Department (HFD)Public Works & Engineering-PWEHouston Police Department-HPDHouston Police Department-HPDHouston Police Department-HPDHouston Police Department-HPDHealth & Human ServicesHouston Police Department-HPDHouston Police Department-HPDHouston Police Department-HPDHouston Fire Department (HFD)Public Works & Engineering-PWEHouston Police Department-HPDHouston Airport System (HAS)Houston Police Department-HPDHouston Police Department-HPDHouston Police Department-HPDHouston Police Department-HPDHouston Fire Department (HFD)Houston Fire Department (HFD)Houston Fire Department (HFD)Houston Police Department-HPDHouston Police Department-HPDPublic Works & Engineering-PWEParks & RecreationHouston Police Department-HPDHouston Airport System (HAS)Houston Police Department-HPDHouston Police Department-HPDHouston Police Department-HPDHouston Fire Department (HFD)Houston Police Department-HPDHouston Police Department-HPDHouston Fire Department (HFD)'",
      "\nDuring handling of the above exception, another exception occurred:\n",
      "\u001b[0;31mValueError\u001b[0m                                Traceback (most recent call last)",
      "\u001b[0;32m~/anaconda3/lib/python3.7/site-packages/pandas/core/nanops.py\u001b[0m in \u001b[0;36m_ensure_numeric\u001b[0;34m(x)\u001b[0m\n\u001b[1;32m    824\u001b[0m             \u001b[0;32mtry\u001b[0m\u001b[0;34m:\u001b[0m\u001b[0;34m\u001b[0m\u001b[0m\n\u001b[0;32m--> 825\u001b[0;31m                 \u001b[0mx\u001b[0m \u001b[0;34m=\u001b[0m \u001b[0mcomplex\u001b[0m\u001b[0;34m(\u001b[0m\u001b[0mx\u001b[0m\u001b[0;34m)\u001b[0m\u001b[0;34m\u001b[0m\u001b[0m\n\u001b[0m\u001b[1;32m    826\u001b[0m             \u001b[0;32mexcept\u001b[0m \u001b[0mException\u001b[0m\u001b[0;34m:\u001b[0m\u001b[0;34m\u001b[0m\u001b[0m\n",
      "\u001b[0;31mValueError\u001b[0m: complex() arg is a malformed string",
      "\nDuring handling of the above exception, another exception occurred:\n",
      "\u001b[0;31mTypeError\u001b[0m                                 Traceback (most recent call last)",
      "\u001b[0;32m~/anaconda3/lib/python3.7/site-packages/pandas/core/nanops.py\u001b[0m in \u001b[0;36mf\u001b[0;34m(values, axis, skipna, **kwds)\u001b[0m\n\u001b[1;32m    127\u001b[0m                 \u001b[0;32melse\u001b[0m\u001b[0;34m:\u001b[0m\u001b[0;34m\u001b[0m\u001b[0m\n\u001b[0;32m--> 128\u001b[0;31m                     \u001b[0mresult\u001b[0m \u001b[0;34m=\u001b[0m \u001b[0malt\u001b[0m\u001b[0;34m(\u001b[0m\u001b[0mvalues\u001b[0m\u001b[0;34m,\u001b[0m \u001b[0maxis\u001b[0m\u001b[0;34m=\u001b[0m\u001b[0maxis\u001b[0m\u001b[0;34m,\u001b[0m \u001b[0mskipna\u001b[0m\u001b[0;34m=\u001b[0m\u001b[0mskipna\u001b[0m\u001b[0;34m,\u001b[0m \u001b[0;34m**\u001b[0m\u001b[0mkwds\u001b[0m\u001b[0;34m)\u001b[0m\u001b[0;34m\u001b[0m\u001b[0m\n\u001b[0m\u001b[1;32m    129\u001b[0m             \u001b[0;32mexcept\u001b[0m \u001b[0mException\u001b[0m\u001b[0;34m:\u001b[0m\u001b[0;34m\u001b[0m\u001b[0m\n",
      "\u001b[0;32m~/anaconda3/lib/python3.7/site-packages/pandas/core/nanops.py\u001b[0m in \u001b[0;36mnanmean\u001b[0;34m(values, axis, skipna)\u001b[0m\n\u001b[1;32m    354\u001b[0m     \u001b[0mcount\u001b[0m \u001b[0;34m=\u001b[0m \u001b[0m_get_counts\u001b[0m\u001b[0;34m(\u001b[0m\u001b[0mmask\u001b[0m\u001b[0;34m,\u001b[0m \u001b[0maxis\u001b[0m\u001b[0;34m,\u001b[0m \u001b[0mdtype\u001b[0m\u001b[0;34m=\u001b[0m\u001b[0mdtype_count\u001b[0m\u001b[0;34m)\u001b[0m\u001b[0;34m\u001b[0m\u001b[0m\n\u001b[0;32m--> 355\u001b[0;31m     \u001b[0mthe_sum\u001b[0m \u001b[0;34m=\u001b[0m \u001b[0m_ensure_numeric\u001b[0m\u001b[0;34m(\u001b[0m\u001b[0mvalues\u001b[0m\u001b[0;34m.\u001b[0m\u001b[0msum\u001b[0m\u001b[0;34m(\u001b[0m\u001b[0maxis\u001b[0m\u001b[0;34m,\u001b[0m \u001b[0mdtype\u001b[0m\u001b[0;34m=\u001b[0m\u001b[0mdtype_sum\u001b[0m\u001b[0;34m)\u001b[0m\u001b[0;34m)\u001b[0m\u001b[0;34m\u001b[0m\u001b[0m\n\u001b[0m\u001b[1;32m    356\u001b[0m \u001b[0;34m\u001b[0m\u001b[0m\n",
      "\u001b[0;32m~/anaconda3/lib/python3.7/site-packages/pandas/core/nanops.py\u001b[0m in \u001b[0;36m_ensure_numeric\u001b[0;34m(x)\u001b[0m\n\u001b[1;32m    827\u001b[0m                 raise TypeError('Could not convert {value!s} to numeric'\n\u001b[0;32m--> 828\u001b[0;31m                                 .format(value=x))\n\u001b[0m\u001b[1;32m    829\u001b[0m     \u001b[0;32mreturn\u001b[0m \u001b[0mx\u001b[0m\u001b[0;34m\u001b[0m\u001b[0m\n",
      "\u001b[0;31mTypeError\u001b[0m: Could not convert Houston Police Department-HPDHouston Fire Department (HFD)Houston Police Department-HPDPublic Works & Engineering-PWEHouston Airport System (HAS)Public Works & Engineering-PWEHouston Airport System (HAS)Houston Fire Department (HFD)Health & Human ServicesPublic Works & Engineering-PWEHealth & Human ServicesHouston Police Department-HPDHouston Police Department-HPDHouston Police Department-HPDHouston Police Department-HPDHouston Police Department-HPDPublic Works & Engineering-PWEHouston Fire Department (HFD)Public Works & Engineering-PWEHouston Fire Department (HFD)Houston Police Department-HPDHouston Police Department-HPDHouston Police Department-HPDHouston Police Department-HPDHouston Police Department-HPDPublic Works & Engineering-PWEHouston Fire Department (HFD)Houston Fire Department (HFD)Houston Fire Department (HFD)Houston Police Department-HPDHealth & Human ServicesPublic Works & Engineering-PWEHealth & Human ServicesPublic Works & Engineering-PWEHouston Fire Department (HFD)Houston Fire Department (HFD)Houston Fire Department (HFD)Houston Fire Department (HFD)Houston Police Department-HPDHouston Police Department-HPDPublic Works & Engineering-PWEPublic Works & Engineering-PWEHouston Fire Department (HFD)Houston Fire Department (HFD)Houston Fire Department (HFD)Houston Police Department-HPDHouston Fire Department (HFD)Houston Airport System (HAS)Houston Fire Department (HFD)Houston Police Department-HPDPublic Works & Engineering-PWEHouston Airport System (HAS)Houston Airport System (HAS)Public Works & Engineering-PWEHouston Fire Department (HFD)Houston Police Department-HPDPublic Works & Engineering-PWEHouston Police Department-HPDHouston Airport System (HAS)Health & Human ServicesHouston Police Department-HPDHouston Police Department-HPDHouston Police Department-HPDHealth & Human ServicesHouston Police Department-HPDHouston Airport System (HAS)Houston Fire Department (HFD)Houston Police Department-HPDHouston Police Department-HPDPublic Works & Engineering-PWEPublic Works & Engineering-PWEHouston Police Department-HPDHouston Fire Department (HFD)Health & Human ServicesHouston Fire Department (HFD)Public Works & Engineering-PWEPublic Works & Engineering-PWEHouston Police Department-HPDPublic Works & Engineering-PWEParks & RecreationHouston Fire Department (HFD)Houston Police Department-HPDHouston Police Department-HPDPublic Works & Engineering-PWEPublic Works & Engineering-PWEHouston Airport System (HAS)Houston Fire Department (HFD)Houston Fire Department (HFD)Public Works & Engineering-PWEHouston Police Department-HPDHouston Fire Department (HFD)Houston Fire Department (HFD)Health & Human ServicesPublic Works & Engineering-PWEHouston Fire Department (HFD)Health & Human ServicesHouston Police Department-HPDHouston Police Department-HPDPublic Works & Engineering-PWEHealth & Human ServicesHouston Fire Department (HFD)Public Works & Engineering-PWEHouston Fire Department (HFD)Houston Police Department-HPDHealth & Human ServicesHouston Police Department-HPDHouston Police Department-HPDHouston Police Department-HPDHouston Police Department-HPDHouston Fire Department (HFD)Houston Police Department-HPDPublic Works & Engineering-PWEHouston Police Department-HPDParks & RecreationPublic Works & Engineering-PWEHouston Police Department-HPDHouston Fire Department (HFD)Houston Police Department-HPDHouston Police Department-HPDHealth & Human ServicesHouston Police Department-HPDHouston Fire Department (HFD)Houston Police Department-HPDHouston Fire Department (HFD)Houston Airport System (HAS)Public Works & Engineering-PWEPublic Works & Engineering-PWEHouston Fire Department (HFD)Houston Police Department-HPDHouston Fire Department (HFD)Houston Police Department-HPDPublic Works & Engineering-PWEHouston Police Department-HPDHouston Airport System (HAS)Public Works & Engineering-PWEHouston Police Department-HPDParks & RecreationPublic Works & Engineering-PWEHouston Airport System (HAS)Houston Police Department-HPDHouston Police Department-HPDHouston Police Department-HPDParks & RecreationHouston Police Department-HPDHouston Fire Department (HFD)Public Works & Engineering-PWEHouston Police Department-HPDHouston Airport System (HAS)Parks & RecreationHouston Police Department-HPDHouston Fire Department (HFD)Houston Airport System (HAS)Houston Fire Department (HFD)Houston Police Department-HPDHouston Fire Department (HFD)Houston Police Department-HPDHouston Police Department-HPDHealth & Human ServicesHouston Police Department-HPDHouston Police Department-HPDPublic Works & Engineering-PWEHouston Police Department-HPDPublic Works & Engineering-PWEHouston Police Department-HPDHouston Police Department-HPDHouston Fire Department (HFD)Houston Airport System (HAS)Public Works & Engineering-PWEHouston Airport System (HAS)Public Works & Engineering-PWEPublic Works & Engineering-PWEHouston Police Department-HPDHouston Police Department-HPDHealth & Human ServicesPublic Works & Engineering-PWEHouston Fire Department (HFD)Houston Airport System (HAS)Houston Fire Department (HFD)Houston Police Department-HPDHealth & Human ServicesHouston Police Department-HPDHouston Fire Department (HFD)Public Works & Engineering-PWEHouston Police Department-HPDHouston Police Department-HPDHouston Police Department-HPDHouston Police Department-HPDHouston Fire Department (HFD)Public Works & Engineering-PWEHouston Fire Department (HFD)Houston Fire Department (HFD)Houston Police Department-HPDHouston Police Department-HPDHouston Police Department-HPDPublic Works & Engineering-PWEHouston Fire Department (HFD)Public Works & Engineering-PWEHouston Police Department-HPDHouston Fire Department (HFD)Houston Police Department-HPDHouston Police Department-HPDHouston Police Department-HPDPublic Works & Engineering-PWEHouston Police Department-HPDHouston Fire Department (HFD)Houston Fire Department (HFD)Health & Human ServicesHouston Police Department-HPDParks & RecreationHouston Police Department-HPDPublic Works & Engineering-PWEHouston Fire Department (HFD)Public Works & Engineering-PWEHouston Fire Department (HFD)Houston Airport System (HAS)Houston Police Department-HPDHouston Fire Department (HFD)Houston Fire Department (HFD)Houston Police Department-HPDHealth & Human ServicesHouston Police Department-HPDHealth & Human ServicesHouston Airport System (HAS)Health & Human ServicesHouston Airport System (HAS)Houston Fire Department (HFD)Houston Fire Department (HFD)Houston Fire Department (HFD)Houston Police Department-HPDHealth & Human ServicesHouston Fire Department (HFD)Public Works & Engineering-PWEHouston Police Department-HPDHouston Police Department-HPDHouston Police Department-HPDHouston Police Department-HPDPublic Works & Engineering-PWEPublic Works & Engineering-PWEPublic Works & Engineering-PWEHouston Fire Department (HFD)Public Works & Engineering-PWEPublic Works & Engineering-PWEHouston Airport System (HAS)Public Works & Engineering-PWEPublic Works & Engineering-PWEHouston Police Department-HPDHealth & Human ServicesParks & RecreationHouston Fire Department (HFD)Health & Human ServicesHouston Police Department-HPDHouston Police Department-HPDHouston Police Department-HPDHouston Airport System (HAS)Houston Police Department-HPDHouston Police Department-HPDPublic Works & Engineering-PWEHouston Police Department-HPDHouston Police Department-HPDHouston Police Department-HPDHouston Airport System (HAS)Parks & RecreationHouston Police Department-HPDHouston Fire Department (HFD)Houston Police Department-HPDHouston Airport System (HAS)Houston Police Department-HPDHouston Police Department-HPDHouston Police Department-HPDHouston Fire Department (HFD)Health & Human ServicesHouston Fire Department (HFD)Houston Fire Department (HFD)Houston Fire Department (HFD)Houston Fire Department (HFD)Houston Police Department-HPDHouston Police Department-HPDHouston Fire Department (HFD)Houston Police Department-HPDHealth & Human ServicesPublic Works & Engineering-PWEPublic Works & Engineering-PWEParks & RecreationHouston Police Department-HPDHouston Police Department-HPDHouston Fire Department (HFD)Houston Police Department-HPDPublic Works & Engineering-PWEPublic Works & Engineering-PWEHouston Police Department-HPDHouston Fire Department (HFD)Public Works & Engineering-PWEHouston Police Department-HPDPublic Works & Engineering-PWEPublic Works & Engineering-PWEHouston Police Department-HPDParks & RecreationHouston Police Department-HPDHouston Police Department-HPDHouston Fire Department (HFD)Houston Police Department-HPDHouston Fire Department (HFD)Houston Fire Department (HFD)Houston Police Department-HPDHouston Fire Department (HFD)Parks & RecreationHouston Fire Department (HFD)Public Works & Engineering-PWEPublic Works & Engineering-PWEHouston Airport System (HAS)Health & Human ServicesPublic Works & Engineering-PWEHouston Police Department-HPDHouston Fire Department (HFD)Houston Police Department-HPDHouston Fire Department (HFD)Houston Fire Department (HFD)Public Works & Engineering-PWEHouston Police Department-HPDPublic Works & Engineering-PWEHouston Police Department-HPDHouston Police Department-HPDPublic Works & Engineering-PWEPublic Works & Engineering-PWEHouston Police Department-HPDPublic Works & Engineering-PWEHealth & Human ServicesHouston Fire Department (HFD)Public Works & Engineering-PWEPublic Works & Engineering-PWEPublic Works & Engineering-PWEHouston Fire Department (HFD)Houston Police Department-HPDHouston Police Department-HPDHouston Fire Department (HFD)Public Works & Engineering-PWEHouston Police Department-HPDHouston Police Department-HPDHouston Fire Department (HFD)Houston Police Department-HPDHouston Police Department-HPDPublic Works & Engineering-PWEHouston Police Department-HPDHouston Fire Department (HFD)Parks & RecreationPublic Works & Engineering-PWEHouston Airport System (HAS)Houston Fire Department (HFD)Houston Police Department-HPDHouston Fire Department (HFD)Health & Human ServicesHouston Police Department-HPDHealth & Human ServicesPublic Works & Engineering-PWEHouston Police Department-HPDHouston Police Department-HPDHouston Fire Department (HFD)Public Works & Engineering-PWEPublic Works & Engineering-PWEHouston Fire Department (HFD)Houston Fire Department (HFD)Health & Human ServicesHealth & Human ServicesHouston Airport System (HAS)Houston Police Department-HPDHouston Fire Department (HFD)Houston Police Department-HPDHouston Police Department-HPDHealth & Human ServicesHealth & Human ServicesPublic Works & Engineering-PWEPublic Works & Engineering-PWEHouston Airport System (HAS)Houston Police Department-HPDHouston Police Department-HPDPublic Works & Engineering-PWEHouston Fire Department (HFD)Public Works & Engineering-PWEHealth & Human ServicesHouston Police Department-HPDHouston Fire Department (HFD)Public Works & Engineering-PWEHouston Police Department-HPDPublic Works & Engineering-PWEHouston Police Department-HPDHouston Police Department-HPDHouston Police Department-HPDHouston Fire Department (HFD)Houston Police Department-HPDHealth & Human ServicesHouston Police Department-HPDPublic Works & Engineering-PWEParks & RecreationHouston Fire Department (HFD)Public Works & Engineering-PWEPublic Works & Engineering-PWEHouston Police Department-HPDHouston Police Department-HPDHouston Airport System (HAS)Houston Fire Department (HFD)Houston Fire Department (HFD)Public Works & Engineering-PWEPublic Works & Engineering-PWEHealth & Human ServicesPublic Works & Engineering-PWEHouston Police Department-HPDHouston Police Department-HPDHouston Police Department-HPDPublic Works & Engineering-PWEHealth & Human ServicesHouston Police Department-HPDHouston Police Department-HPDHouston Police Department-HPDHouston Police Department-HPDHouston Police Department-HPDHouston Fire Department (HFD)Houston Police Department-HPDPublic Works & Engineering-PWEParks & RecreationHouston Police Department-HPDHouston Airport System (HAS)Houston Police Department-HPDPublic Works & Engineering-PWEHouston Police Department-HPDHouston Police Department-HPDHouston Fire Department (HFD)Houston Police Department-HPDPublic Works & Engineering-PWEHouston Police Department-HPDHouston Fire Department (HFD)Houston Airport System (HAS)Houston Police Department-HPDHouston Fire Department (HFD)Public Works & Engineering-PWEHouston Fire Department (HFD)Public Works & Engineering-PWEPublic Works & Engineering-PWEHouston Fire Department (HFD)Houston Police Department-HPDHouston Police Department-HPDParks & RecreationHealth & Human ServicesPublic Works & Engineering-PWEHouston Police Department-HPDHealth & Human ServicesHouston Police Department-HPDPublic Works & Engineering-PWEPublic Works & Engineering-PWEHouston Fire Department (HFD)Houston Police Department-HPDHouston Police Department-HPDHouston Police Department-HPDHouston Police Department-HPDHouston Police Department-HPDPublic Works & Engineering-PWEHouston Fire Department (HFD)Houston Police Department-HPDHouston Fire Department (HFD)Public Works & Engineering-PWEHouston Fire Department (HFD)Public Works & Engineering-PWEPublic Works & Engineering-PWEPublic Works & Engineering-PWEHouston Police Department-HPDHouston Police Department-HPDPublic Works & Engineering-PWEHouston Fire Department (HFD)Public Works & Engineering-PWEHouston Airport System (HAS)Houston Police Department-HPDHouston Police Department-HPDPublic Works & Engineering-PWEHouston Police Department-HPDParks & RecreationHouston Fire Department (HFD)Public Works & Engineering-PWEParks & RecreationHouston Police Department-HPDPublic Works & Engineering-PWEHouston Police Department-HPDPublic Works & Engineering-PWEHouston Police Department-HPDHouston Police Department-HPDPublic Works & Engineering-PWEHouston Police Department-HPDHouston Airport System (HAS)Houston Police Department-HPDHouston Airport System (HAS)Houston Police Department-HPDHouston Police Department-HPDHouston Fire Department (HFD)Houston Police Department-HPDHealth & Human ServicesHouston Fire Department (HFD)Houston Fire Department (HFD)Houston Police Department-HPDHouston Police Department-HPDHouston Police Department-HPDHouston Police Department-HPDHouston Airport System (HAS)Public Works & Engineering-PWEParks & RecreationParks & RecreationHouston Police Department-HPDPublic Works & Engineering-PWEHealth & Human ServicesHouston Fire Department (HFD)Public Works & Engineering-PWEParks & RecreationHouston Police Department-HPDHouston Fire Department (HFD)Houston Police Department-HPDPublic Works & Engineering-PWEPublic Works & Engineering-PWEHouston Police Department-HPDHouston Fire Department (HFD)Health & Human ServicesHouston Fire Department (HFD)Health & Human ServicesParks & RecreationHealth & Human ServicesPublic Works & Engineering-PWEHouston Fire Department (HFD)Houston Police Department-HPDPublic Works & Engineering-PWEHouston Police Department-HPDPublic Works & Engineering-PWEParks & RecreationParks & RecreationHouston Fire Department (HFD)Houston Police Department-HPDHouston Police Department-HPDPublic Works & Engineering-PWEHouston Police Department-HPDHouston Police Department-HPDHouston Police Department-HPDHouston Fire Department (HFD)Health & Human ServicesParks & RecreationHouston Fire Department (HFD)Houston Police Department-HPDHouston Fire Department (HFD)Houston Police Department-HPDPublic Works & Engineering-PWEPublic Works & Engineering-PWEHouston Fire Department (HFD)Houston Police Department-HPDHouston Fire Department (HFD)Public Works & Engineering-PWEHouston Fire Department (HFD)Public Works & Engineering-PWEHouston Police Department-HPDHouston Police Department-HPDHouston Police Department-HPDHouston Police Department-HPDPublic Works & Engineering-PWEHouston Police Department-HPDHouston Police Department-HPDHouston Police Department-HPDPublic Works & Engineering-PWEHouston Police Department-HPDPublic Works & Engineering-PWEHouston Police Department-HPDHouston Airport System (HAS)Houston Police Department-HPDHouston Police Department-HPDHouston Fire Department (HFD)Houston Fire Department (HFD)Houston Airport System (HAS)Public Works & Engineering-PWEHouston Fire Department (HFD)Houston Police Department-HPDHouston Fire Department (HFD)Houston Police Department-HPDHouston Police Department-HPDHouston Police Department-HPDHouston Fire Department (HFD)Houston Fire Department (HFD)Houston Fire Department (HFD)Houston Fire Department (HFD)Houston Police Department-HPDHouston Fire Department (HFD)Houston Police Department-HPDPublic Works & Engineering-PWEPublic Works & Engineering-PWEHouston Fire Department (HFD)Houston Police Department-HPDPublic Works & Engineering-PWEHouston Police Department-HPDHouston Airport System (HAS)Houston Fire Department (HFD)Houston Police Department-HPDHouston Police Department-HPDHouston Fire Department (HFD)Houston Police Department-HPDHouston Police Department-HPDHouston Fire Department (HFD)Public Works & Engineering-PWEHouston Police Department-HPDHouston Police Department-HPDHouston Police Department-HPDHouston Airport System (HAS)Public Works & Engineering-PWEHouston Fire Department (HFD)Houston Fire Department (HFD)Health & Human ServicesHouston Fire Department (HFD)Houston Police Department-HPDPublic Works & Engineering-PWEParks & RecreationPublic Works & Engineering-PWEHouston Police Department-HPDHouston Police Department-HPDHouston Police Department-HPDParks & RecreationHouston Police Department-HPDHouston Fire Department (HFD)Houston Fire Department (HFD)Houston Police Department-HPDHouston Police Department-HPDHealth & Human ServicesPublic Works & Engineering-PWEHouston Police Department-HPDPublic Works & Engineering-PWEHealth & Human ServicesHouston Fire Department (HFD)Houston Police Department-HPDHealth & Human ServicesHouston Police Department-HPDHouston Fire Department (HFD)Houston Police Department-HPDPublic Works & Engineering-PWEHouston Police Department-HPDParks & RecreationParks & RecreationHouston Police Department-HPDPublic Works & Engineering-PWEHouston Police Department-HPDPublic Works & Engineering-PWEParks & RecreationHouston Police Department-HPDHouston Fire Department (HFD)Health & Human ServicesParks & RecreationHouston Fire Department (HFD)Houston Fire Department (HFD)Public Works & Engineering-PWEHouston Fire Department (HFD)Houston Police Department-HPDHouston Fire Department (HFD)Public Works & Engineering-PWEPublic Works & Engineering-PWEHouston Airport System (HAS)Houston Police Department-HPDHouston Police Department-HPDHouston Police Department-HPDHouston Police Department-HPDHouston Police Department-HPDPublic Works & Engineering-PWEHouston Fire Department (HFD)Houston Fire Department (HFD)Houston Police Department-HPDHouston Fire Department (HFD)Houston Fire Department (HFD)Houston Police Department-HPDHouston Police Department-HPDPublic Works & Engineering-PWEHouston Fire Department (HFD)Houston Police Department-HPDHealth & Human ServicesHouston Fire Department (HFD)Houston Fire Department (HFD)Parks & RecreationHouston Fire Department (HFD)Houston Police Department-HPDHouston Police Department-HPDHouston Fire Department (HFD)Houston Fire Department (HFD)Health & Human ServicesHouston Police Department-HPDHouston Police Department-HPDPublic Works & Engineering-PWEHouston Police Department-HPDHouston Police Department-HPDHouston Police Department-HPDHouston Fire Department (HFD)Houston Police Department-HPDParks & RecreationHouston Police Department-HPDHealth & Human ServicesHouston Police Department-HPDHouston Fire Department (HFD)Parks & RecreationHouston Police Department-HPDPublic Works & Engineering-PWEHouston Fire Department (HFD)Public Works & Engineering-PWEHouston Police Department-HPDPublic Works & Engineering-PWEHouston Fire Department (HFD)Health & Human ServicesPublic Works & Engineering-PWEHouston Airport System (HAS)Houston Police Department-HPDHouston Police Department-HPDHouston Fire Department (HFD)Houston Police Department-HPDPublic Works & Engineering-PWEHouston Fire Department (HFD)Houston Fire Department (HFD)Houston Police Department-HPDHouston Police Department-HPDHouston Fire Department (HFD)Public Works & Engineering-PWEHouston Police Department-HPDHouston Police Department-HPDHouston Police Department-HPDHouston Fire Department (HFD)Houston Police Department-HPDHouston Police Department-HPDHouston Police Department-HPDHouston Police Department-HPDHouston Fire Department (HFD)Houston Fire Department (HFD)Public Works & Engineering-PWEPublic Works & Engineering-PWEHouston Police Department-HPDHouston Police Department-HPDHouston Fire Department (HFD)Houston Fire Department (HFD)Health & Human ServicesHouston Police Department-HPDPublic Works & Engineering-PWEPublic Works & Engineering-PWEHouston Fire Department (HFD)Houston Airport System (HAS)Houston Police Department-HPDPublic Works & Engineering-PWEHouston Airport System (HAS)Houston Police Department-HPDHouston Police Department-HPDParks & RecreationHouston Airport System (HAS)Houston Police Department-HPDHouston Police Department-HPDHouston Police Department-HPDPublic Works & Engineering-PWEHouston Police Department-HPDHouston Airport System (HAS)Public Works & Engineering-PWEPublic Works & Engineering-PWEPublic Works & Engineering-PWEPublic Works & Engineering-PWEHealth & Human ServicesHealth & Human ServicesHouston Fire Department (HFD)Houston Fire Department (HFD)Houston Police Department-HPDHouston Police Department-HPDHouston Police Department-HPDHouston Police Department-HPDPublic Works & Engineering-PWEHouston Police Department-HPDPublic Works & Engineering-PWEHealth & Human ServicesPublic Works & Engineering-PWEHouston Police Department-HPDHouston Police Department-HPDHouston Police Department-HPDHouston Police Department-HPDHouston Fire Department (HFD)Health & Human ServicesHouston Police Department-HPDHouston Fire Department (HFD)Houston Police Department-HPDHouston Police Department-HPDHouston Police Department-HPDHouston Police Department-HPDPublic Works & Engineering-PWEHouston Fire Department (HFD)Houston Police Department-HPDHouston Airport System (HAS)Health & Human ServicesHouston Fire Department (HFD)Houston Police Department-HPDPublic Works & Engineering-PWEPublic Works & Engineering-PWEHouston Police Department-HPDHouston Police Department-HPDPublic Works & Engineering-PWEHouston Police Department-HPDHouston Police Department-HPDPublic Works & Engineering-PWEPublic Works & Engineering-PWEHouston Police Department-HPDHealth & Human ServicesHouston Fire Department (HFD)Houston Police Department-HPDPublic Works & Engineering-PWEHouston Fire Department (HFD)Houston Police Department-HPDHouston Police Department-HPDHouston Fire Department (HFD)Houston Police Department-HPDHealth & Human ServicesHouston Police Department-HPDHouston Fire Department (HFD)Houston Police Department-HPDHouston Police Department-HPDPublic Works & Engineering-PWEParks & RecreationPublic Works & Engineering-PWEHouston Police Department-HPDHouston Police Department-HPDHouston Fire Department (HFD)Houston Police Department-HPDPublic Works & Engineering-PWEHealth & Human ServicesHouston Police Department-HPDHouston Police Department-HPDHouston Airport System (HAS)Houston Police Department-HPDPublic Works & Engineering-PWEPublic Works & Engineering-PWEHouston Police Department-HPDHealth & Human ServicesHouston Police Department-HPDHouston Police Department-HPDHouston Fire Department (HFD)Houston Police Department-HPDHouston Fire Department (HFD)Houston Airport System (HAS)Houston Airport System (HAS)Houston Fire Department (HFD)Health & Human ServicesHouston Police Department-HPDPublic Works & Engineering-PWEParks & RecreationHouston Police Department-HPDHouston Police Department-HPDHouston Police Department-HPDHouston Police Department-HPDHouston Fire Department (HFD)Health & Human ServicesHouston Police Department-HPDParks & RecreationHouston Fire Department (HFD)Houston Police Department-HPDHouston Fire Department (HFD)Houston Fire Department (HFD)Houston Police Department-HPDHouston Police Department-HPDPublic Works & Engineering-PWEHealth & Human ServicesPublic Works & Engineering-PWEHouston Police Department-HPDHouston Fire Department (HFD)Houston Fire Department (HFD)Public Works & Engineering-PWEHouston Fire Department (HFD)Houston Fire Department (HFD)Houston Police Department-HPDPublic Works & Engineering-PWEPublic Works & Engineering-PWEHouston Police Department-HPDHouston Fire Department (HFD)Houston Fire Department (HFD)Parks & RecreationHouston Fire Department (HFD)Houston Police Department-HPDPublic Works & Engineering-PWEPublic Works & Engineering-PWEHouston Police Department-HPDPublic Works & Engineering-PWEPublic Works & Engineering-PWEHouston Police Department-HPDHouston Police Department-HPDHouston Police Department-HPDHouston Police Department-HPDHouston Fire Department (HFD)Houston Police Department-HPDHouston Fire Department (HFD)Houston Police Department-HPDHouston Fire Department (HFD)Houston Airport System (HAS)Public Works & Engineering-PWEHouston Police Department-HPDHealth & Human ServicesHouston Police Department-HPDHouston Fire Department (HFD)Houston Police Department-HPDHouston Airport System (HAS)Parks & RecreationPublic Works & Engineering-PWEPublic Works & Engineering-PWEHouston Police Department-HPDHouston Airport System (HAS)Houston Police Department-HPDHouston Police Department-HPDHouston Airport System (HAS)Houston Fire Department (HFD)Houston Fire Department (HFD)Houston Airport System (HAS)Houston Fire Department (HFD)Houston Fire Department (HFD)Houston Police Department-HPDHouston Police Department-HPDPublic Works & Engineering-PWEPublic Works & Engineering-PWEPublic Works & Engineering-PWEParks & RecreationHouston Police Department-HPDHouston Police Department-HPDHealth & Human ServicesHouston Police Department-HPDParks & RecreationHouston Fire Department (HFD)Houston Police Department-HPDHouston Fire Department (HFD)Houston Police Department-HPDHouston Fire Department (HFD)Houston Police Department-HPDHouston Fire Department (HFD)Houston Airport System (HAS)Health & Human ServicesHouston Police Department-HPDHouston Fire Department (HFD)Houston Police Department-HPDHouston Fire Department (HFD)Houston Police Department-HPDHouston Fire Department (HFD)Houston Fire Department (HFD)Houston Airport System (HAS)Houston Police Department-HPDHouston Police Department-HPDHouston Police Department-HPDPublic Works & Engineering-PWEPublic Works & Engineering-PWEHouston Fire Department (HFD)Houston Fire Department (HFD)Public Works & Engineering-PWEHouston Police Department-HPDHouston Fire Department (HFD)Houston Police Department-HPDPublic Works & Engineering-PWEHouston Police Department-HPDParks & RecreationHouston Police Department-HPDHouston Fire Department (HFD)Public Works & Engineering-PWEHouston Airport System (HAS)Houston Fire Department (HFD)Houston Police Department-HPDPublic Works & Engineering-PWEPublic Works & Engineering-PWEHouston Fire Department (HFD)Public Works & Engineering-PWEHouston Police Department-HPDHouston Fire Department (HFD)Public Works & Engineering-PWEHealth & Human ServicesHouston Police Department-HPDHouston Police Department-HPDPublic Works & Engineering-PWEPublic Works & Engineering-PWEPublic Works & Engineering-PWEHouston Police Department-HPDHouston Police Department-HPDHouston Fire Department (HFD)Houston Police Department-HPDHouston Fire Department (HFD)Houston Fire Department (HFD)Houston Police Department-HPDHouston Police Department-HPDHouston Police Department-HPDHouston Fire Department (HFD)Public Works & Engineering-PWEHouston Fire Department (HFD)Houston Police Department-HPDPublic Works & Engineering-PWEPublic Works & Engineering-PWEParks & RecreationPublic Works & Engineering-PWEHouston Police Department-HPDPublic Works & Engineering-PWEHouston Fire Department (HFD)Houston Police Department-HPDPublic Works & Engineering-PWEHouston Police Department-HPDHouston Police Department-HPDHealth & Human ServicesHouston Fire Department (HFD)Houston Fire Department (HFD)Houston Police Department-HPDHouston Police Department-HPDPublic Works & Engineering-PWEHouston Airport System (HAS)Houston Police Department-HPDPublic Works & Engineering-PWEHouston Police Department-HPDHouston Police Department-HPDHouston Police Department-HPDHouston Fire Department (HFD)Houston Police Department-HPDHouston Fire Department (HFD)Public Works & Engineering-PWEHouston Police Department-HPDHouston Fire Department (HFD)Houston Fire Department (HFD)Public Works & Engineering-PWEHouston Fire Department (HFD)Public Works & Engineering-PWEHouston Fire Department (HFD)Houston Airport System (HAS)Houston Police Department-HPDHouston Fire Department (HFD)Houston Fire Department (HFD)Health & Human ServicesHouston Police Department-HPDHealth & Human ServicesHouston Police Department-HPDHouston Fire Department (HFD)Public Works & Engineering-PWEPublic Works & Engineering-PWEHouston Fire Department (HFD)Houston Airport System (HAS)Houston Police Department-HPDHouston Fire Department (HFD)Houston Fire Department (HFD)Houston Police Department-HPDHouston Fire Department (HFD)Houston Police Department-HPDPublic Works & Engineering-PWEHouston Police Department-HPDHouston Police Department-HPDHouston Police Department-HPDHouston Fire Department (HFD)Houston Police Department-HPDPublic Works & Engineering-PWEPublic Works & Engineering-PWEHealth & Human ServicesPublic Works & Engineering-PWEPublic Works & Engineering-PWEPublic Works & Engineering-PWEPublic Works & Engineering-PWEHouston Police Department-HPDHouston Fire Department (HFD)Houston Police Department-HPDPublic Works & Engineering-PWEHouston Airport System (HAS)Houston Police Department-HPDPublic Works & Engineering-PWEHouston Police Department-HPDHouston Police Department-HPDHouston Police Department-HPDPublic Works & Engineering-PWEHouston Police Department-HPDPublic Works & Engineering-PWEHouston Police Department-HPDHouston Police Department-HPDHouston Fire Department (HFD)Houston Police Department-HPDHouston Fire Department (HFD)Public Works & Engineering-PWEHealth & Human ServicesHouston Police Department-HPDPublic Works & Engineering-PWEHouston Police Department-HPDPublic Works & Engineering-PWEPublic Works & Engineering-PWEHouston Airport System (HAS)Houston Airport System (HAS)Houston Police Department-HPDHouston Police Department-HPDHouston Police Department-HPDHouston Police Department-HPDHouston Police Department-HPDHouston Fire Department (HFD)Houston Police Department-HPDHouston Fire Department (HFD)Houston Police Department-HPDPublic Works & Engineering-PWEHouston Police Department-HPDHouston Airport System (HAS)Houston Airport System (HAS)Houston Police Department-HPDHouston Fire Department (HFD)Houston Police Department-HPDHouston Police Department-HPDPublic Works & Engineering-PWEHouston Police Department-HPDHouston Police Department-HPDHouston Police Department-HPDHouston Airport System (HAS)Houston Fire Department (HFD)Houston Fire Department (HFD)Houston Police Department-HPDPublic Works & Engineering-PWEHouston Airport System (HAS)Houston Fire Department (HFD)Public Works & Engineering-PWEHouston Police Department-HPDHouston Fire Department (HFD)Houston Police Department-HPDPublic Works & Engineering-PWEHouston Fire Department (HFD)Houston Police Department-HPDPublic Works & Engineering-PWEHouston Police Department-HPDPublic Works & Engineering-PWEParks & RecreationHouston Fire Department (HFD)Houston Police Department-HPDPublic Works & Engineering-PWEHouston Fire Department (HFD)Houston Fire Department (HFD)Health & Human ServicesPublic Works & Engineering-PWEHouston Fire Department (HFD)Public Works & Engineering-PWEHealth & Human ServicesHouston Fire Department (HFD)Houston Airport System (HAS)Houston Fire Department (HFD)Houston Police Department-HPDHouston Police Department-HPDPublic Works & Engineering-PWEHouston Police Department-HPDParks & RecreationPublic Works & Engineering-PWEHouston Police Department-HPDHouston Fire Department (HFD)Houston Police Department-HPDPublic Works & Engineering-PWEPublic Works & Engineering-PWEHouston Airport System (HAS)Houston Police Department-HPDHouston Fire Department (HFD)Houston Police Department-HPDHouston Fire Department (HFD)Houston Police Department-HPDHouston Fire Department (HFD)Houston Fire Department (HFD)Houston Fire Department (HFD)Houston Police Department-HPDHouston Fire Department (HFD)Houston Police Department-HPDHouston Police Department-HPDHouston Fire Department (HFD)Houston Police Department-HPDHouston Fire Department (HFD)Houston Police Department-HPDHouston Police Department-HPDHouston Fire Department (HFD)Houston Fire Department (HFD)Public Works & Engineering-PWEHouston Police Department-HPDHouston Fire Department (HFD)Houston Police Department-HPDPublic Works & Engineering-PWEHouston Police Department-HPDHouston Fire Department (HFD)Houston Police Department-HPDPublic Works & Engineering-PWEHouston Police Department-HPDHouston Fire Department (HFD)Public Works & Engineering-PWEPublic Works & Engineering-PWEParks & RecreationHouston Police Department-HPDHouston Police Department-HPDHouston Fire Department (HFD)Houston Police Department-HPDHouston Fire Department (HFD)Public Works & Engineering-PWEHouston Police Department-HPDHouston Fire Department (HFD)Public Works & Engineering-PWEHouston Airport System (HAS)Parks & RecreationHouston Fire Department (HFD)Public Works & Engineering-PWEHealth & Human ServicesHouston Police Department-HPDHealth & Human ServicesHouston Fire Department (HFD)Houston Fire Department (HFD)Parks & RecreationHouston Airport System (HAS)Public Works & Engineering-PWEHouston Fire Department (HFD)Houston Police Department-HPDHouston Police Department-HPDHouston Airport System (HAS)Houston Airport System (HAS)Houston Fire Department (HFD)Public Works & Engineering-PWEPublic Works & Engineering-PWEParks & RecreationHouston Police Department-HPDHouston Airport System (HAS)Houston Police Department-HPDHouston Airport System (HAS)Public Works & Engineering-PWEPublic Works & Engineering-PWEHouston Airport System (HAS)Parks & RecreationHouston Fire Department (HFD)Houston Police Department-HPDHouston Fire Department (HFD)Parks & RecreationHouston Police Department-HPDHouston Fire Department (HFD)Houston Airport System (HAS)Public Works & Engineering-PWEHouston Police Department-HPDHealth & Human ServicesPublic Works & Engineering-PWEPublic Works & Engineering-PWEHouston Fire Department (HFD)Public Works & Engineering-PWEHouston Police Department-HPDHouston Police Department-HPDHouston Police Department-HPDParks & RecreationHouston Airport System (HAS)Houston Airport System (HAS)Houston Fire Department (HFD)Houston Fire Department (HFD)Public Works & Engineering-PWEHouston Airport System (HAS)Houston Police Department-HPDHouston Fire Department (HFD)Houston Fire Department (HFD)Public Works & Engineering-PWEHouston Fire Department (HFD)Houston Police Department-HPDHouston Fire Department (HFD)Houston Police Department-HPDPublic Works & Engineering-PWEHouston Fire Department (HFD)Houston Police Department-HPDPublic Works & Engineering-PWEHouston Fire Department (HFD)Houston Fire Department (HFD)Houston Police Department-HPDHouston Police Department-HPDHouston Police Department-HPDHouston Police Department-HPDHealth & Human ServicesHouston Airport System (HAS)Houston Fire Department (HFD)Houston Fire Department (HFD)Houston Police Department-HPDHouston Police Department-HPDHouston Fire Department (HFD)Houston Fire Department (HFD)Houston Police Department-HPDHouston Police Department-HPDHouston Police Department-HPDParks & RecreationHealth & Human ServicesHouston Fire Department (HFD)Houston Police Department-HPDHouston Police Department-HPDHealth & Human ServicesHouston Police Department-HPDHouston Fire Department (HFD)Houston Police Department-HPDHouston Fire Department (HFD)Houston Police Department-HPDHouston Fire Department (HFD)Houston Police Department-HPDHouston Fire Department (HFD)Houston Police Department-HPDHouston Police Department-HPDHealth & Human ServicesHouston Police Department-HPDHouston Police Department-HPDHouston Police Department-HPDHouston Airport System (HAS)Health & Human ServicesPublic Works & Engineering-PWEHouston Police Department-HPDHouston Police Department-HPDHouston Fire Department (HFD)Houston Airport System (HAS)Health & Human ServicesHouston Police Department-HPDHouston Police Department-HPDHealth & Human ServicesHouston Police Department-HPDHouston Police Department-HPDPublic Works & Engineering-PWEHouston Police Department-HPDHouston Fire Department (HFD)Parks & RecreationHouston Police Department-HPDHouston Police Department-HPDPublic Works & Engineering-PWEHouston Fire Department (HFD)Houston Police Department-HPDHealth & Human ServicesHealth & Human ServicesParks & RecreationHouston Fire Department (HFD)Houston Fire Department (HFD)Public Works & Engineering-PWEPublic Works & Engineering-PWEParks & RecreationHealth & Human ServicesHouston Police Department-HPDHouston Fire Department (HFD)Houston Police Department-HPDHouston Airport System (HAS)Houston Airport System (HAS)Houston Police Department-HPDHouston Fire Department (HFD)Houston Fire Department (HFD)Health & Human ServicesHouston Fire Department (HFD)Public Works & Engineering-PWEHouston Airport System (HAS)Public Works & Engineering-PWEPublic Works & Engineering-PWEHouston Fire Department (HFD)Houston Police Department-HPDHouston Fire Department (HFD)Houston Police Department-HPDHouston Police Department-HPDParks & RecreationHouston Police Department-HPDHouston Police Department-HPDPublic Works & Engineering-PWEHouston Fire Department (HFD)Houston Fire Department (HFD)Houston Police Department-HPDHouston Fire Department (HFD)Public Works & Engineering-PWEHouston Fire Department (HFD)Houston Police Department-HPDHouston Police Department-HPDHouston Police Department-HPDHouston Police Department-HPDHouston Police Department-HPDHouston Airport System (HAS)Houston Police Department-HPDHouston Fire Department (HFD)Public Works & Engineering-PWEHouston Fire Department (HFD)Houston Fire Department (HFD)Public Works & Engineering-PWEHouston Police Department-HPDHouston Police Department-HPDHouston Police Department-HPDHouston Police Department-HPDHealth & Human ServicesPublic Works & Engineering-PWEHouston Police Department-HPDHouston Police Department-HPDHouston Fire Department (HFD)Houston Police Department-HPDHouston Fire Department (HFD)Houston Fire Department (HFD)Health & Human ServicesHouston Fire Department (HFD)Public Works & Engineering-PWEHouston Police Department-HPDPublic Works & Engineering-PWEHouston Airport System (HAS)Houston Police Department-HPDHouston Fire Department (HFD)Houston Fire Department (HFD)Parks & RecreationHouston Fire Department (HFD)Public Works & Engineering-PWEParks & RecreationHouston Police Department-HPDPublic Works & Engineering-PWEPublic Works & Engineering-PWEHouston Police Department-HPDHouston Police Department-HPDHouston Police Department-HPDHouston Police Department-HPDPublic Works & Engineering-PWEHouston Police Department-HPDHouston Fire Department (HFD)Houston Fire Department (HFD)Houston Police Department-HPDHouston Police Department-HPDPublic Works & Engineering-PWEHouston Police Department-HPDPublic Works & Engineering-PWEPublic Works & Engineering-PWEHouston Police Department-HPDPublic Works & Engineering-PWEHouston Police Department-HPDHouston Police Department-HPDHouston Fire Department (HFD)Public Works & Engineering-PWEParks & RecreationHouston Fire Department (HFD)Houston Fire Department (HFD)Houston Fire Department (HFD)Houston Police Department-HPDHouston Police Department-HPDHouston Fire Department (HFD)Public Works & Engineering-PWEHouston Fire Department (HFD)Houston Airport System (HAS)Public Works & Engineering-PWEHouston Police Department-HPDHouston Police Department-HPDHealth & Human ServicesPublic Works & Engineering-PWEHouston Airport System (HAS)Houston Police Department-HPDHouston Airport System (HAS)Parks & RecreationPublic Works & Engineering-PWEPublic Works & Engineering-PWEHouston Fire Department (HFD)Houston Fire Department (HFD)Public Works & Engineering-PWEHouston Fire Department (HFD)Public Works & Engineering-PWEHouston Fire Department (HFD)Parks & RecreationHouston Police Department-HPDPublic Works & Engineering-PWEHouston Police Department-HPDHouston Airport System (HAS)Houston Police Department-HPDHouston Police Department-HPDPublic Works & Engineering-PWEParks & RecreationHouston Police Department-HPDHouston Police Department-HPDHouston Police Department-HPDHouston Police Department-HPDHouston Fire Department (HFD)Houston Fire Department (HFD)Houston Police Department-HPDPublic Works & Engineering-PWEParks & RecreationHouston Fire Department (HFD)Public Works & Engineering-PWEHouston Police Department-HPDHouston Fire Department (HFD)Houston Police Department-HPDHouston Fire Department (HFD)Houston Police Department-HPDHouston Airport System (HAS)Houston Fire Department (HFD)Houston Police Department-HPDHouston Police Department-HPDHouston Police Department-HPDHouston Police Department-HPDHouston Fire Department (HFD)Public Works & Engineering-PWEPublic Works & Engineering-PWEHouston Fire Department (HFD)Parks & RecreationPublic Works & Engineering-PWEPublic Works & Engineering-PWEHouston Police Department-HPDHealth & Human ServicesHouston Fire Department (HFD)Parks & RecreationPublic Works & Engineering-PWEHouston Police Department-HPDHouston Police Department-HPDParks & RecreationHouston Police Department-HPDHouston Fire Department (HFD)Houston Police Department-HPDHouston Police Department-HPDPublic Works & Engineering-PWEHouston Fire Department (HFD)Public Works & Engineering-PWEHouston Fire Department (HFD)Public Works & Engineering-PWEHouston Police Department-HPDHouston Police Department-HPDHouston Police Department-HPDPublic Works & Engineering-PWEHouston Police Department-HPDHouston Police Department-HPDHouston Fire Department (HFD)Health & Human ServicesHouston Fire Department (HFD)Houston Police Department-HPDPublic Works & Engineering-PWEParks & RecreationHouston Fire Department (HFD)Houston Police Department-HPDHouston Police Department-HPDPublic Works & Engineering-PWEHouston Police Department-HPDParks & RecreationHouston Police Department-HPDHouston Police Department-HPDHouston Police Department-HPDHouston Police Department-HPDHouston Airport System (HAS)Houston Fire Department (HFD)Houston Fire Department (HFD)Houston Fire Department (HFD)Houston Police Department-HPDHouston Police Department-HPDPublic Works & Engineering-PWEPublic Works & Engineering-PWEHouston Police Department-HPDHouston Police Department-HPDPublic Works & Engineering-PWEHouston Police Department-HPDHouston Airport System (HAS)Houston Fire Department (HFD)Health & Human ServicesPublic Works & Engineering-PWEHouston Fire Department (HFD)Houston Police Department-HPDHealth & Human ServicesPublic Works & Engineering-PWEHealth & Human ServicesHouston Airport System (HAS)Health & Human ServicesPublic Works & Engineering-PWEHouston Police Department-HPDPublic Works & Engineering-PWEHouston Police Department-HPDHouston Police Department-HPDPublic Works & Engineering-PWEHouston Fire Department (HFD)Houston Police Department-HPDHouston Fire Department (HFD)Public Works & Engineering-PWEPublic Works & Engineering-PWEHouston Fire Department (HFD)Parks & RecreationHouston Fire Department (HFD)Houston Fire Department (HFD)Public Works & Engineering-PWEHouston Fire Department (HFD)Houston Airport System (HAS)Houston Police Department-HPDHouston Fire Department (HFD)Public Works & Engineering-PWEHouston Police Department-HPDHouston Airport System (HAS)Health & Human ServicesHouston Police Department-HPDHealth & Human ServicesHouston Fire Department (HFD)Houston Police Department-HPDHouston Airport System (HAS)Houston Police Department-HPDPublic Works & Engineering-PWEHouston Police Department-HPDPublic Works & Engineering-PWEHouston Fire Department (HFD)Houston Fire Department (HFD)Parks & RecreationHouston Police Department-HPDHealth & Human ServicesHouston Fire Department (HFD)Public Works & Engineering-PWEHouston Police Department-HPDHouston Fire Department (HFD)Parks & RecreationHouston Police Department-HPDHealth & Human ServicesHouston Fire Department (HFD)Houston Fire Department (HFD)Health & Human ServicesHouston Police Department-HPDPublic Works & Engineering-PWEHouston Fire Department (HFD)Houston Fire Department (HFD)Houston Fire Department (HFD)Houston Airport System (HAS)Houston Airport System (HAS)Houston Fire Department (HFD)Public Works & Engineering-PWEHouston Police Department-HPDPublic Works & Engineering-PWEHealth & Human ServicesHouston Police Department-HPDHouston Police Department-HPDHouston Airport System (HAS)Houston Fire Department (HFD)Houston Police Department-HPDHouston Police Department-HPDHouston Airport System (HAS)Houston Police Department-HPDHouston Fire Department (HFD)Houston Police Department-HPDHealth & Human ServicesHouston Police Department-HPDHouston Police Department-HPDHouston Police Department-HPDPublic Works & Engineering-PWEHouston Police Department-HPDPublic Works & Engineering-PWEHouston Police Department-HPDHouston Airport System (HAS)Public Works & Engineering-PWEHouston Airport System (HAS)Public Works & Engineering-PWEParks & RecreationHouston Police Department-HPDPublic Works & Engineering-PWEHouston Police Department-HPDHouston Police Department-HPDHouston Police Department-HPDHouston Police Department-HPDPublic Works & Engineering-PWEPublic Works & Engineering-PWEHouston Police Department-HPDHouston Fire Department (HFD)Public Works & Engineering-PWEHouston Police Department-HPDHouston Police Department-HPDHouston Police Department-HPDHouston Police Department-HPDHealth & Human ServicesHouston Police Department-HPDHouston Police Department-HPDHouston Police Department-HPDHouston Fire Department (HFD)Public Works & Engineering-PWEHouston Police Department-HPDHouston Airport System (HAS)Houston Police Department-HPDHouston Police Department-HPDHouston Police Department-HPDHouston Police Department-HPDHouston Fire Department (HFD)Houston Fire Department (HFD)Houston Fire Department (HFD)Houston Police Department-HPDHouston Police Department-HPDPublic Works & Engineering-PWEParks & RecreationHouston Police Department-HPDHouston Airport System (HAS)Houston Police Department-HPDHouston Police Department-HPDHouston Police Department-HPDHouston Fire Department (HFD)Houston Police Department-HPDHouston Police Department-HPDHouston Fire Department (HFD) to numeric",
      "\nDuring handling of the above exception, another exception occurred:\n",
      "\u001b[0;31mValueError\u001b[0m                                Traceback (most recent call last)",
      "\u001b[0;32m~/anaconda3/lib/python3.7/site-packages/pandas/core/nanops.py\u001b[0m in \u001b[0;36m_ensure_numeric\u001b[0;34m(x)\u001b[0m\n\u001b[1;32m    821\u001b[0m         \u001b[0;32mtry\u001b[0m\u001b[0;34m:\u001b[0m\u001b[0;34m\u001b[0m\u001b[0m\n\u001b[0;32m--> 822\u001b[0;31m             \u001b[0mx\u001b[0m \u001b[0;34m=\u001b[0m \u001b[0mfloat\u001b[0m\u001b[0;34m(\u001b[0m\u001b[0mx\u001b[0m\u001b[0;34m)\u001b[0m\u001b[0;34m\u001b[0m\u001b[0m\n\u001b[0m\u001b[1;32m    823\u001b[0m         \u001b[0;32mexcept\u001b[0m \u001b[0mException\u001b[0m\u001b[0;34m:\u001b[0m\u001b[0;34m\u001b[0m\u001b[0m\n",
      "\u001b[0;31mValueError\u001b[0m: could not convert string to float: 'Houston Police Department-HPDHouston Fire Department (HFD)Houston Police Department-HPDPublic Works & Engineering-PWEHouston Airport System (HAS)Public Works & Engineering-PWEHouston Airport System (HAS)Houston Fire Department (HFD)Health & Human ServicesPublic Works & Engineering-PWEHealth & Human ServicesHouston Police Department-HPDHouston Police Department-HPDHouston Police Department-HPDHouston Police Department-HPDHouston Police Department-HPDPublic Works & Engineering-PWEHouston Fire Department (HFD)Public Works & Engineering-PWEHouston Fire Department (HFD)Houston Police Department-HPDHouston Police Department-HPDHouston Police Department-HPDHouston Police Department-HPDHouston Police Department-HPDPublic Works & Engineering-PWEHouston Fire Department (HFD)Houston Fire Department (HFD)Houston Fire Department (HFD)Houston Police Department-HPDHealth & Human ServicesPublic Works & Engineering-PWEHealth & Human ServicesPublic Works & Engineering-PWEHouston Fire Department (HFD)Houston Fire Department (HFD)Houston Fire Department (HFD)Houston Fire Department (HFD)Houston Police Department-HPDHouston Police Department-HPDPublic Works & Engineering-PWEPublic Works & Engineering-PWEHouston Fire Department (HFD)Houston Fire Department (HFD)Houston Fire Department (HFD)Houston Police Department-HPDHouston Fire Department (HFD)Houston Airport System (HAS)Houston Fire Department (HFD)Houston Police Department-HPDPublic Works & Engineering-PWEHouston Airport System (HAS)Houston Airport System (HAS)Public Works & Engineering-PWEHouston Fire Department (HFD)Houston Police Department-HPDPublic Works & Engineering-PWEHouston Police Department-HPDHouston Airport System (HAS)Health & Human ServicesHouston Police Department-HPDHouston Police Department-HPDHouston Police Department-HPDHealth & Human ServicesHouston Police Department-HPDHouston Airport System (HAS)Houston Fire Department (HFD)Houston Police Department-HPDHouston Police Department-HPDPublic Works & Engineering-PWEPublic Works & Engineering-PWEHouston Police Department-HPDHouston Fire Department (HFD)Health & Human ServicesHouston Fire Department (HFD)Public Works & Engineering-PWEPublic Works & Engineering-PWEHouston Police Department-HPDPublic Works & Engineering-PWEParks & RecreationHouston Fire Department (HFD)Houston Police Department-HPDHouston Police Department-HPDPublic Works & Engineering-PWEPublic Works & Engineering-PWEHouston Airport System (HAS)Houston Fire Department (HFD)Houston Fire Department (HFD)Public Works & Engineering-PWEHouston Police Department-HPDHouston Fire Department (HFD)Houston Fire Department (HFD)Health & Human ServicesPublic Works & Engineering-PWEHouston Fire Department (HFD)Health & Human ServicesHouston Police Department-HPDHouston Police Department-HPDPublic Works & Engineering-PWEHealth & Human ServicesHouston Fire Department (HFD)Public Works & Engineering-PWEHouston Fire Department (HFD)Houston Police Department-HPDHealth & Human ServicesHouston Police Department-HPDHouston Police Department-HPDHouston Police Department-HPDHouston Police Department-HPDHouston Fire Department (HFD)Houston Police Department-HPDPublic Works & Engineering-PWEHouston Police Department-HPDParks & RecreationPublic Works & Engineering-PWEHouston Police Department-HPDHouston Fire Department (HFD)Houston Police Department-HPDHouston Police Department-HPDHealth & Human ServicesHouston Police Department-HPDHouston Fire Department (HFD)Houston Police Department-HPDHouston Fire Department (HFD)Houston Airport System (HAS)Public Works & Engineering-PWEPublic Works & Engineering-PWEHouston Fire Department (HFD)Houston Police Department-HPDHouston Fire Department (HFD)Houston Police Department-HPDPublic Works & Engineering-PWEHouston Police Department-HPDHouston Airport System (HAS)Public Works & Engineering-PWEHouston Police Department-HPDParks & RecreationPublic Works & Engineering-PWEHouston Airport System (HAS)Houston Police Department-HPDHouston Police Department-HPDHouston Police Department-HPDParks & RecreationHouston Police Department-HPDHouston Fire Department (HFD)Public Works & Engineering-PWEHouston Police Department-HPDHouston Airport System (HAS)Parks & RecreationHouston Police Department-HPDHouston Fire Department (HFD)Houston Airport System (HAS)Houston Fire Department (HFD)Houston Police Department-HPDHouston Fire Department (HFD)Houston Police Department-HPDHouston Police Department-HPDHealth & Human ServicesHouston Police Department-HPDHouston Police Department-HPDPublic Works & Engineering-PWEHouston Police Department-HPDPublic Works & Engineering-PWEHouston Police Department-HPDHouston Police Department-HPDHouston Fire Department (HFD)Houston Airport System (HAS)Public Works & Engineering-PWEHouston Airport System (HAS)Public Works & Engineering-PWEPublic Works & Engineering-PWEHouston Police Department-HPDHouston Police Department-HPDHealth & Human ServicesPublic Works & Engineering-PWEHouston Fire Department (HFD)Houston Airport System (HAS)Houston Fire Department (HFD)Houston Police Department-HPDHealth & Human ServicesHouston Police Department-HPDHouston Fire Department (HFD)Public Works & Engineering-PWEHouston Police Department-HPDHouston Police Department-HPDHouston Police Department-HPDHouston Police Department-HPDHouston Fire Department (HFD)Public Works & Engineering-PWEHouston Fire Department (HFD)Houston Fire Department (HFD)Houston Police Department-HPDHouston Police Department-HPDHouston Police Department-HPDPublic Works & Engineering-PWEHouston Fire Department (HFD)Public Works & Engineering-PWEHouston Police Department-HPDHouston Fire Department (HFD)Houston Police Department-HPDHouston Police Department-HPDHouston Police Department-HPDPublic Works & Engineering-PWEHouston Police Department-HPDHouston Fire Department (HFD)Houston Fire Department (HFD)Health & Human ServicesHouston Police Department-HPDParks & RecreationHouston Police Department-HPDPublic Works & Engineering-PWEHouston Fire Department (HFD)Public Works & Engineering-PWEHouston Fire Department (HFD)Houston Airport System (HAS)Houston Police Department-HPDHouston Fire Department (HFD)Houston Fire Department (HFD)Houston Police Department-HPDHealth & Human ServicesHouston Police Department-HPDHealth & Human ServicesHouston Airport System (HAS)Health & Human ServicesHouston Airport System (HAS)Houston Fire Department (HFD)Houston Fire Department (HFD)Houston Fire Department (HFD)Houston Police Department-HPDHealth & Human ServicesHouston Fire Department (HFD)Public Works & Engineering-PWEHouston Police Department-HPDHouston Police Department-HPDHouston Police Department-HPDHouston Police Department-HPDPublic Works & Engineering-PWEPublic Works & Engineering-PWEPublic Works & Engineering-PWEHouston Fire Department (HFD)Public Works & Engineering-PWEPublic Works & Engineering-PWEHouston Airport System (HAS)Public Works & Engineering-PWEPublic Works & Engineering-PWEHouston Police Department-HPDHealth & Human ServicesParks & RecreationHouston Fire Department (HFD)Health & Human ServicesHouston Police Department-HPDHouston Police Department-HPDHouston Police Department-HPDHouston Airport System (HAS)Houston Police Department-HPDHouston Police Department-HPDPublic Works & Engineering-PWEHouston Police Department-HPDHouston Police Department-HPDHouston Police Department-HPDHouston Airport System (HAS)Parks & RecreationHouston Police Department-HPDHouston Fire Department (HFD)Houston Police Department-HPDHouston Airport System (HAS)Houston Police Department-HPDHouston Police Department-HPDHouston Police Department-HPDHouston Fire Department (HFD)Health & Human ServicesHouston Fire Department (HFD)Houston Fire Department (HFD)Houston Fire Department (HFD)Houston Fire Department (HFD)Houston Police Department-HPDHouston Police Department-HPDHouston Fire Department (HFD)Houston Police Department-HPDHealth & Human ServicesPublic Works & Engineering-PWEPublic Works & Engineering-PWEParks & RecreationHouston Police Department-HPDHouston Police Department-HPDHouston Fire Department (HFD)Houston Police Department-HPDPublic Works & Engineering-PWEPublic Works & Engineering-PWEHouston Police Department-HPDHouston Fire Department (HFD)Public Works & Engineering-PWEHouston Police Department-HPDPublic Works & Engineering-PWEPublic Works & Engineering-PWEHouston Police Department-HPDParks & RecreationHouston Police Department-HPDHouston Police Department-HPDHouston Fire Department (HFD)Houston Police Department-HPDHouston Fire Department (HFD)Houston Fire Department (HFD)Houston Police Department-HPDHouston Fire Department (HFD)Parks & RecreationHouston Fire Department (HFD)Public Works & Engineering-PWEPublic Works & Engineering-PWEHouston Airport System (HAS)Health & Human ServicesPublic Works & Engineering-PWEHouston Police Department-HPDHouston Fire Department (HFD)Houston Police Department-HPDHouston Fire Department (HFD)Houston Fire Department (HFD)Public Works & Engineering-PWEHouston Police Department-HPDPublic Works & Engineering-PWEHouston Police Department-HPDHouston Police Department-HPDPublic Works & Engineering-PWEPublic Works & Engineering-PWEHouston Police Department-HPDPublic Works & Engineering-PWEHealth & Human ServicesHouston Fire Department (HFD)Public Works & Engineering-PWEPublic Works & Engineering-PWEPublic Works & Engineering-PWEHouston Fire Department (HFD)Houston Police Department-HPDHouston Police Department-HPDHouston Fire Department (HFD)Public Works & Engineering-PWEHouston Police Department-HPDHouston Police Department-HPDHouston Fire Department (HFD)Houston Police Department-HPDHouston Police Department-HPDPublic Works & Engineering-PWEHouston Police Department-HPDHouston Fire Department (HFD)Parks & RecreationPublic Works & Engineering-PWEHouston Airport System (HAS)Houston Fire Department (HFD)Houston Police Department-HPDHouston Fire Department (HFD)Health & Human ServicesHouston Police Department-HPDHealth & Human ServicesPublic Works & Engineering-PWEHouston Police Department-HPDHouston Police Department-HPDHouston Fire Department (HFD)Public Works & Engineering-PWEPublic Works & Engineering-PWEHouston Fire Department (HFD)Houston Fire Department (HFD)Health & Human ServicesHealth & Human ServicesHouston Airport System (HAS)Houston Police Department-HPDHouston Fire Department (HFD)Houston Police Department-HPDHouston Police Department-HPDHealth & Human ServicesHealth & Human ServicesPublic Works & Engineering-PWEPublic Works & Engineering-PWEHouston Airport System (HAS)Houston Police Department-HPDHouston Police Department-HPDPublic Works & Engineering-PWEHouston Fire Department (HFD)Public Works & Engineering-PWEHealth & Human ServicesHouston Police Department-HPDHouston Fire Department (HFD)Public Works & Engineering-PWEHouston Police Department-HPDPublic Works & Engineering-PWEHouston Police Department-HPDHouston Police Department-HPDHouston Police Department-HPDHouston Fire Department (HFD)Houston Police Department-HPDHealth & Human ServicesHouston Police Department-HPDPublic Works & Engineering-PWEParks & RecreationHouston Fire Department (HFD)Public Works & Engineering-PWEPublic Works & Engineering-PWEHouston Police Department-HPDHouston Police Department-HPDHouston Airport System (HAS)Houston Fire Department (HFD)Houston Fire Department (HFD)Public Works & Engineering-PWEPublic Works & Engineering-PWEHealth & Human ServicesPublic Works & Engineering-PWEHouston Police Department-HPDHouston Police Department-HPDHouston Police Department-HPDPublic Works & Engineering-PWEHealth & Human ServicesHouston Police Department-HPDHouston Police Department-HPDHouston Police Department-HPDHouston Police Department-HPDHouston Police Department-HPDHouston Fire Department (HFD)Houston Police Department-HPDPublic Works & Engineering-PWEParks & RecreationHouston Police Department-HPDHouston Airport System (HAS)Houston Police Department-HPDPublic Works & Engineering-PWEHouston Police Department-HPDHouston Police Department-HPDHouston Fire Department (HFD)Houston Police Department-HPDPublic Works & Engineering-PWEHouston Police Department-HPDHouston Fire Department (HFD)Houston Airport System (HAS)Houston Police Department-HPDHouston Fire Department (HFD)Public Works & Engineering-PWEHouston Fire Department (HFD)Public Works & Engineering-PWEPublic Works & Engineering-PWEHouston Fire Department (HFD)Houston Police Department-HPDHouston Police Department-HPDParks & RecreationHealth & Human ServicesPublic Works & Engineering-PWEHouston Police Department-HPDHealth & Human ServicesHouston Police Department-HPDPublic Works & Engineering-PWEPublic Works & Engineering-PWEHouston Fire Department (HFD)Houston Police Department-HPDHouston Police Department-HPDHouston Police Department-HPDHouston Police Department-HPDHouston Police Department-HPDPublic Works & Engineering-PWEHouston Fire Department (HFD)Houston Police Department-HPDHouston Fire Department (HFD)Public Works & Engineering-PWEHouston Fire Department (HFD)Public Works & Engineering-PWEPublic Works & Engineering-PWEPublic Works & Engineering-PWEHouston Police Department-HPDHouston Police Department-HPDPublic Works & Engineering-PWEHouston Fire Department (HFD)Public Works & Engineering-PWEHouston Airport System (HAS)Houston Police Department-HPDHouston Police Department-HPDPublic Works & Engineering-PWEHouston Police Department-HPDParks & RecreationHouston Fire Department (HFD)Public Works & Engineering-PWEParks & RecreationHouston Police Department-HPDPublic Works & Engineering-PWEHouston Police Department-HPDPublic Works & Engineering-PWEHouston Police Department-HPDHouston Police Department-HPDPublic Works & Engineering-PWEHouston Police Department-HPDHouston Airport System (HAS)Houston Police Department-HPDHouston Airport System (HAS)Houston Police Department-HPDHouston Police Department-HPDHouston Fire Department (HFD)Houston Police Department-HPDHealth & Human ServicesHouston Fire Department (HFD)Houston Fire Department (HFD)Houston Police Department-HPDHouston Police Department-HPDHouston Police Department-HPDHouston Police Department-HPDHouston Airport System (HAS)Public Works & Engineering-PWEParks & RecreationParks & RecreationHouston Police Department-HPDPublic Works & Engineering-PWEHealth & Human ServicesHouston Fire Department (HFD)Public Works & Engineering-PWEParks & RecreationHouston Police Department-HPDHouston Fire Department (HFD)Houston Police Department-HPDPublic Works & Engineering-PWEPublic Works & Engineering-PWEHouston Police Department-HPDHouston Fire Department (HFD)Health & Human ServicesHouston Fire Department (HFD)Health & Human ServicesParks & RecreationHealth & Human ServicesPublic Works & Engineering-PWEHouston Fire Department (HFD)Houston Police Department-HPDPublic Works & Engineering-PWEHouston Police Department-HPDPublic Works & Engineering-PWEParks & RecreationParks & RecreationHouston Fire Department (HFD)Houston Police Department-HPDHouston Police Department-HPDPublic Works & Engineering-PWEHouston Police Department-HPDHouston Police Department-HPDHouston Police Department-HPDHouston Fire Department (HFD)Health & Human ServicesParks & RecreationHouston Fire Department (HFD)Houston Police Department-HPDHouston Fire Department (HFD)Houston Police Department-HPDPublic Works & Engineering-PWEPublic Works & Engineering-PWEHouston Fire Department (HFD)Houston Police Department-HPDHouston Fire Department (HFD)Public Works & Engineering-PWEHouston Fire Department (HFD)Public Works & Engineering-PWEHouston Police Department-HPDHouston Police Department-HPDHouston Police Department-HPDHouston Police Department-HPDPublic Works & Engineering-PWEHouston Police Department-HPDHouston Police Department-HPDHouston Police Department-HPDPublic Works & Engineering-PWEHouston Police Department-HPDPublic Works & Engineering-PWEHouston Police Department-HPDHouston Airport System (HAS)Houston Police Department-HPDHouston Police Department-HPDHouston Fire Department (HFD)Houston Fire Department (HFD)Houston Airport System (HAS)Public Works & Engineering-PWEHouston Fire Department (HFD)Houston Police Department-HPDHouston Fire Department (HFD)Houston Police Department-HPDHouston Police Department-HPDHouston Police Department-HPDHouston Fire Department (HFD)Houston Fire Department (HFD)Houston Fire Department (HFD)Houston Fire Department (HFD)Houston Police Department-HPDHouston Fire Department (HFD)Houston Police Department-HPDPublic Works & Engineering-PWEPublic Works & Engineering-PWEHouston Fire Department (HFD)Houston Police Department-HPDPublic Works & Engineering-PWEHouston Police Department-HPDHouston Airport System (HAS)Houston Fire Department (HFD)Houston Police Department-HPDHouston Police Department-HPDHouston Fire Department (HFD)Houston Police Department-HPDHouston Police Department-HPDHouston Fire Department (HFD)Public Works & Engineering-PWEHouston Police Department-HPDHouston Police Department-HPDHouston Police Department-HPDHouston Airport System (HAS)Public Works & Engineering-PWEHouston Fire Department (HFD)Houston Fire Department (HFD)Health & Human ServicesHouston Fire Department (HFD)Houston Police Department-HPDPublic Works & Engineering-PWEParks & RecreationPublic Works & Engineering-PWEHouston Police Department-HPDHouston Police Department-HPDHouston Police Department-HPDParks & RecreationHouston Police Department-HPDHouston Fire Department (HFD)Houston Fire Department (HFD)Houston Police Department-HPDHouston Police Department-HPDHealth & Human ServicesPublic Works & Engineering-PWEHouston Police Department-HPDPublic Works & Engineering-PWEHealth & Human ServicesHouston Fire Department (HFD)Houston Police Department-HPDHealth & Human ServicesHouston Police Department-HPDHouston Fire Department (HFD)Houston Police Department-HPDPublic Works & Engineering-PWEHouston Police Department-HPDParks & RecreationParks & RecreationHouston Police Department-HPDPublic Works & Engineering-PWEHouston Police Department-HPDPublic Works & Engineering-PWEParks & RecreationHouston Police Department-HPDHouston Fire Department (HFD)Health & Human ServicesParks & RecreationHouston Fire Department (HFD)Houston Fire Department (HFD)Public Works & Engineering-PWEHouston Fire Department (HFD)Houston Police Department-HPDHouston Fire Department (HFD)Public Works & Engineering-PWEPublic Works & Engineering-PWEHouston Airport System (HAS)Houston Police Department-HPDHouston Police Department-HPDHouston Police Department-HPDHouston Police Department-HPDHouston Police Department-HPDPublic Works & Engineering-PWEHouston Fire Department (HFD)Houston Fire Department (HFD)Houston Police Department-HPDHouston Fire Department (HFD)Houston Fire Department (HFD)Houston Police Department-HPDHouston Police Department-HPDPublic Works & Engineering-PWEHouston Fire Department (HFD)Houston Police Department-HPDHealth & Human ServicesHouston Fire Department (HFD)Houston Fire Department (HFD)Parks & RecreationHouston Fire Department (HFD)Houston Police Department-HPDHouston Police Department-HPDHouston Fire Department (HFD)Houston Fire Department (HFD)Health & Human ServicesHouston Police Department-HPDHouston Police Department-HPDPublic Works & Engineering-PWEHouston Police Department-HPDHouston Police Department-HPDHouston Police Department-HPDHouston Fire Department (HFD)Houston Police Department-HPDParks & RecreationHouston Police Department-HPDHealth & Human ServicesHouston Police Department-HPDHouston Fire Department (HFD)Parks & RecreationHouston Police Department-HPDPublic Works & Engineering-PWEHouston Fire Department (HFD)Public Works & Engineering-PWEHouston Police Department-HPDPublic Works & Engineering-PWEHouston Fire Department (HFD)Health & Human ServicesPublic Works & Engineering-PWEHouston Airport System (HAS)Houston Police Department-HPDHouston Police Department-HPDHouston Fire Department (HFD)Houston Police Department-HPDPublic Works & Engineering-PWEHouston Fire Department (HFD)Houston Fire Department (HFD)Houston Police Department-HPDHouston Police Department-HPDHouston Fire Department (HFD)Public Works & Engineering-PWEHouston Police Department-HPDHouston Police Department-HPDHouston Police Department-HPDHouston Fire Department (HFD)Houston Police Department-HPDHouston Police Department-HPDHouston Police Department-HPDHouston Police Department-HPDHouston Fire Department (HFD)Houston Fire Department (HFD)Public Works & Engineering-PWEPublic Works & Engineering-PWEHouston Police Department-HPDHouston Police Department-HPDHouston Fire Department (HFD)Houston Fire Department (HFD)Health & Human ServicesHouston Police Department-HPDPublic Works & Engineering-PWEPublic Works & Engineering-PWEHouston Fire Department (HFD)Houston Airport System (HAS)Houston Police Department-HPDPublic Works & Engineering-PWEHouston Airport System (HAS)Houston Police Department-HPDHouston Police Department-HPDParks & RecreationHouston Airport System (HAS)Houston Police Department-HPDHouston Police Department-HPDHouston Police Department-HPDPublic Works & Engineering-PWEHouston Police Department-HPDHouston Airport System (HAS)Public Works & Engineering-PWEPublic Works & Engineering-PWEPublic Works & Engineering-PWEPublic Works & Engineering-PWEHealth & Human ServicesHealth & Human ServicesHouston Fire Department (HFD)Houston Fire Department (HFD)Houston Police Department-HPDHouston Police Department-HPDHouston Police Department-HPDHouston Police Department-HPDPublic Works & Engineering-PWEHouston Police Department-HPDPublic Works & Engineering-PWEHealth & Human ServicesPublic Works & Engineering-PWEHouston Police Department-HPDHouston Police Department-HPDHouston Police Department-HPDHouston Police Department-HPDHouston Fire Department (HFD)Health & Human ServicesHouston Police Department-HPDHouston Fire Department (HFD)Houston Police Department-HPDHouston Police Department-HPDHouston Police Department-HPDHouston Police Department-HPDPublic Works & Engineering-PWEHouston Fire Department (HFD)Houston Police Department-HPDHouston Airport System (HAS)Health & Human ServicesHouston Fire Department (HFD)Houston Police Department-HPDPublic Works & Engineering-PWEPublic Works & Engineering-PWEHouston Police Department-HPDHouston Police Department-HPDPublic Works & Engineering-PWEHouston Police Department-HPDHouston Police Department-HPDPublic Works & Engineering-PWEPublic Works & Engineering-PWEHouston Police Department-HPDHealth & Human ServicesHouston Fire Department (HFD)Houston Police Department-HPDPublic Works & Engineering-PWEHouston Fire Department (HFD)Houston Police Department-HPDHouston Police Department-HPDHouston Fire Department (HFD)Houston Police Department-HPDHealth & Human ServicesHouston Police Department-HPDHouston Fire Department (HFD)Houston Police Department-HPDHouston Police Department-HPDPublic Works & Engineering-PWEParks & RecreationPublic Works & Engineering-PWEHouston Police Department-HPDHouston Police Department-HPDHouston Fire Department (HFD)Houston Police Department-HPDPublic Works & Engineering-PWEHealth & Human ServicesHouston Police Department-HPDHouston Police Department-HPDHouston Airport System (HAS)Houston Police Department-HPDPublic Works & Engineering-PWEPublic Works & Engineering-PWEHouston Police Department-HPDHealth & Human ServicesHouston Police Department-HPDHouston Police Department-HPDHouston Fire Department (HFD)Houston Police Department-HPDHouston Fire Department (HFD)Houston Airport System (HAS)Houston Airport System (HAS)Houston Fire Department (HFD)Health & Human ServicesHouston Police Department-HPDPublic Works & Engineering-PWEParks & RecreationHouston Police Department-HPDHouston Police Department-HPDHouston Police Department-HPDHouston Police Department-HPDHouston Fire Department (HFD)Health & Human ServicesHouston Police Department-HPDParks & RecreationHouston Fire Department (HFD)Houston Police Department-HPDHouston Fire Department (HFD)Houston Fire Department (HFD)Houston Police Department-HPDHouston Police Department-HPDPublic Works & Engineering-PWEHealth & Human ServicesPublic Works & Engineering-PWEHouston Police Department-HPDHouston Fire Department (HFD)Houston Fire Department (HFD)Public Works & Engineering-PWEHouston Fire Department (HFD)Houston Fire Department (HFD)Houston Police Department-HPDPublic Works & Engineering-PWEPublic Works & Engineering-PWEHouston Police Department-HPDHouston Fire Department (HFD)Houston Fire Department (HFD)Parks & RecreationHouston Fire Department (HFD)Houston Police Department-HPDPublic Works & Engineering-PWEPublic Works & Engineering-PWEHouston Police Department-HPDPublic Works & Engineering-PWEPublic Works & Engineering-PWEHouston Police Department-HPDHouston Police Department-HPDHouston Police Department-HPDHouston Police Department-HPDHouston Fire Department (HFD)Houston Police Department-HPDHouston Fire Department (HFD)Houston Police Department-HPDHouston Fire Department (HFD)Houston Airport System (HAS)Public Works & Engineering-PWEHouston Police Department-HPDHealth & Human ServicesHouston Police Department-HPDHouston Fire Department (HFD)Houston Police Department-HPDHouston Airport System (HAS)Parks & RecreationPublic Works & Engineering-PWEPublic Works & Engineering-PWEHouston Police Department-HPDHouston Airport System (HAS)Houston Police Department-HPDHouston Police Department-HPDHouston Airport System (HAS)Houston Fire Department (HFD)Houston Fire Department (HFD)Houston Airport System (HAS)Houston Fire Department (HFD)Houston Fire Department (HFD)Houston Police Department-HPDHouston Police Department-HPDPublic Works & Engineering-PWEPublic Works & Engineering-PWEPublic Works & Engineering-PWEParks & RecreationHouston Police Department-HPDHouston Police Department-HPDHealth & Human ServicesHouston Police Department-HPDParks & RecreationHouston Fire Department (HFD)Houston Police Department-HPDHouston Fire Department (HFD)Houston Police Department-HPDHouston Fire Department (HFD)Houston Police Department-HPDHouston Fire Department (HFD)Houston Airport System (HAS)Health & Human ServicesHouston Police Department-HPDHouston Fire Department (HFD)Houston Police Department-HPDHouston Fire Department (HFD)Houston Police Department-HPDHouston Fire Department (HFD)Houston Fire Department (HFD)Houston Airport System (HAS)Houston Police Department-HPDHouston Police Department-HPDHouston Police Department-HPDPublic Works & Engineering-PWEPublic Works & Engineering-PWEHouston Fire Department (HFD)Houston Fire Department (HFD)Public Works & Engineering-PWEHouston Police Department-HPDHouston Fire Department (HFD)Houston Police Department-HPDPublic Works & Engineering-PWEHouston Police Department-HPDParks & RecreationHouston Police Department-HPDHouston Fire Department (HFD)Public Works & Engineering-PWEHouston Airport System (HAS)Houston Fire Department (HFD)Houston Police Department-HPDPublic Works & Engineering-PWEPublic Works & Engineering-PWEHouston Fire Department (HFD)Public Works & Engineering-PWEHouston Police Department-HPDHouston Fire Department (HFD)Public Works & Engineering-PWEHealth & Human ServicesHouston Police Department-HPDHouston Police Department-HPDPublic Works & Engineering-PWEPublic Works & Engineering-PWEPublic Works & Engineering-PWEHouston Police Department-HPDHouston Police Department-HPDHouston Fire Department (HFD)Houston Police Department-HPDHouston Fire Department (HFD)Houston Fire Department (HFD)Houston Police Department-HPDHouston Police Department-HPDHouston Police Department-HPDHouston Fire Department (HFD)Public Works & Engineering-PWEHouston Fire Department (HFD)Houston Police Department-HPDPublic Works & Engineering-PWEPublic Works & Engineering-PWEParks & RecreationPublic Works & Engineering-PWEHouston Police Department-HPDPublic Works & Engineering-PWEHouston Fire Department (HFD)Houston Police Department-HPDPublic Works & Engineering-PWEHouston Police Department-HPDHouston Police Department-HPDHealth & Human ServicesHouston Fire Department (HFD)Houston Fire Department (HFD)Houston Police Department-HPDHouston Police Department-HPDPublic Works & Engineering-PWEHouston Airport System (HAS)Houston Police Department-HPDPublic Works & Engineering-PWEHouston Police Department-HPDHouston Police Department-HPDHouston Police Department-HPDHouston Fire Department (HFD)Houston Police Department-HPDHouston Fire Department (HFD)Public Works & Engineering-PWEHouston Police Department-HPDHouston Fire Department (HFD)Houston Fire Department (HFD)Public Works & Engineering-PWEHouston Fire Department (HFD)Public Works & Engineering-PWEHouston Fire Department (HFD)Houston Airport System (HAS)Houston Police Department-HPDHouston Fire Department (HFD)Houston Fire Department (HFD)Health & Human ServicesHouston Police Department-HPDHealth & Human ServicesHouston Police Department-HPDHouston Fire Department (HFD)Public Works & Engineering-PWEPublic Works & Engineering-PWEHouston Fire Department (HFD)Houston Airport System (HAS)Houston Police Department-HPDHouston Fire Department (HFD)Houston Fire Department (HFD)Houston Police Department-HPDHouston Fire Department (HFD)Houston Police Department-HPDPublic Works & Engineering-PWEHouston Police Department-HPDHouston Police Department-HPDHouston Police Department-HPDHouston Fire Department (HFD)Houston Police Department-HPDPublic Works & Engineering-PWEPublic Works & Engineering-PWEHealth & Human ServicesPublic Works & Engineering-PWEPublic Works & Engineering-PWEPublic Works & Engineering-PWEPublic Works & Engineering-PWEHouston Police Department-HPDHouston Fire Department (HFD)Houston Police Department-HPDPublic Works & Engineering-PWEHouston Airport System (HAS)Houston Police Department-HPDPublic Works & Engineering-PWEHouston Police Department-HPDHouston Police Department-HPDHouston Police Department-HPDPublic Works & Engineering-PWEHouston Police Department-HPDPublic Works & Engineering-PWEHouston Police Department-HPDHouston Police Department-HPDHouston Fire Department (HFD)Houston Police Department-HPDHouston Fire Department (HFD)Public Works & Engineering-PWEHealth & Human ServicesHouston Police Department-HPDPublic Works & Engineering-PWEHouston Police Department-HPDPublic Works & Engineering-PWEPublic Works & Engineering-PWEHouston Airport System (HAS)Houston Airport System (HAS)Houston Police Department-HPDHouston Police Department-HPDHouston Police Department-HPDHouston Police Department-HPDHouston Police Department-HPDHouston Fire Department (HFD)Houston Police Department-HPDHouston Fire Department (HFD)Houston Police Department-HPDPublic Works & Engineering-PWEHouston Police Department-HPDHouston Airport System (HAS)Houston Airport System (HAS)Houston Police Department-HPDHouston Fire Department (HFD)Houston Police Department-HPDHouston Police Department-HPDPublic Works & Engineering-PWEHouston Police Department-HPDHouston Police Department-HPDHouston Police Department-HPDHouston Airport System (HAS)Houston Fire Department (HFD)Houston Fire Department (HFD)Houston Police Department-HPDPublic Works & Engineering-PWEHouston Airport System (HAS)Houston Fire Department (HFD)Public Works & Engineering-PWEHouston Police Department-HPDHouston Fire Department (HFD)Houston Police Department-HPDPublic Works & Engineering-PWEHouston Fire Department (HFD)Houston Police Department-HPDPublic Works & Engineering-PWEHouston Police Department-HPDPublic Works & Engineering-PWEParks & RecreationHouston Fire Department (HFD)Houston Police Department-HPDPublic Works & Engineering-PWEHouston Fire Department (HFD)Houston Fire Department (HFD)Health & Human ServicesPublic Works & Engineering-PWEHouston Fire Department (HFD)Public Works & Engineering-PWEHealth & Human ServicesHouston Fire Department (HFD)Houston Airport System (HAS)Houston Fire Department (HFD)Houston Police Department-HPDHouston Police Department-HPDPublic Works & Engineering-PWEHouston Police Department-HPDParks & RecreationPublic Works & Engineering-PWEHouston Police Department-HPDHouston Fire Department (HFD)Houston Police Department-HPDPublic Works & Engineering-PWEPublic Works & Engineering-PWEHouston Airport System (HAS)Houston Police Department-HPDHouston Fire Department (HFD)Houston Police Department-HPDHouston Fire Department (HFD)Houston Police Department-HPDHouston Fire Department (HFD)Houston Fire Department (HFD)Houston Fire Department (HFD)Houston Police Department-HPDHouston Fire Department (HFD)Houston Police Department-HPDHouston Police Department-HPDHouston Fire Department (HFD)Houston Police Department-HPDHouston Fire Department (HFD)Houston Police Department-HPDHouston Police Department-HPDHouston Fire Department (HFD)Houston Fire Department (HFD)Public Works & Engineering-PWEHouston Police Department-HPDHouston Fire Department (HFD)Houston Police Department-HPDPublic Works & Engineering-PWEHouston Police Department-HPDHouston Fire Department (HFD)Houston Police Department-HPDPublic Works & Engineering-PWEHouston Police Department-HPDHouston Fire Department (HFD)Public Works & Engineering-PWEPublic Works & Engineering-PWEParks & RecreationHouston Police Department-HPDHouston Police Department-HPDHouston Fire Department (HFD)Houston Police Department-HPDHouston Fire Department (HFD)Public Works & Engineering-PWEHouston Police Department-HPDHouston Fire Department (HFD)Public Works & Engineering-PWEHouston Airport System (HAS)Parks & RecreationHouston Fire Department (HFD)Public Works & Engineering-PWEHealth & Human ServicesHouston Police Department-HPDHealth & Human ServicesHouston Fire Department (HFD)Houston Fire Department (HFD)Parks & RecreationHouston Airport System (HAS)Public Works & Engineering-PWEHouston Fire Department (HFD)Houston Police Department-HPDHouston Police Department-HPDHouston Airport System (HAS)Houston Airport System (HAS)Houston Fire Department (HFD)Public Works & Engineering-PWEPublic Works & Engineering-PWEParks & RecreationHouston Police Department-HPDHouston Airport System (HAS)Houston Police Department-HPDHouston Airport System (HAS)Public Works & Engineering-PWEPublic Works & Engineering-PWEHouston Airport System (HAS)Parks & RecreationHouston Fire Department (HFD)Houston Police Department-HPDHouston Fire Department (HFD)Parks & RecreationHouston Police Department-HPDHouston Fire Department (HFD)Houston Airport System (HAS)Public Works & Engineering-PWEHouston Police Department-HPDHealth & Human ServicesPublic Works & Engineering-PWEPublic Works & Engineering-PWEHouston Fire Department (HFD)Public Works & Engineering-PWEHouston Police Department-HPDHouston Police Department-HPDHouston Police Department-HPDParks & RecreationHouston Airport System (HAS)Houston Airport System (HAS)Houston Fire Department (HFD)Houston Fire Department (HFD)Public Works & Engineering-PWEHouston Airport System (HAS)Houston Police Department-HPDHouston Fire Department (HFD)Houston Fire Department (HFD)Public Works & Engineering-PWEHouston Fire Department (HFD)Houston Police Department-HPDHouston Fire Department (HFD)Houston Police Department-HPDPublic Works & Engineering-PWEHouston Fire Department (HFD)Houston Police Department-HPDPublic Works & Engineering-PWEHouston Fire Department (HFD)Houston Fire Department (HFD)Houston Police Department-HPDHouston Police Department-HPDHouston Police Department-HPDHouston Police Department-HPDHealth & Human ServicesHouston Airport System (HAS)Houston Fire Department (HFD)Houston Fire Department (HFD)Houston Police Department-HPDHouston Police Department-HPDHouston Fire Department (HFD)Houston Fire Department (HFD)Houston Police Department-HPDHouston Police Department-HPDHouston Police Department-HPDParks & RecreationHealth & Human ServicesHouston Fire Department (HFD)Houston Police Department-HPDHouston Police Department-HPDHealth & Human ServicesHouston Police Department-HPDHouston Fire Department (HFD)Houston Police Department-HPDHouston Fire Department (HFD)Houston Police Department-HPDHouston Fire Department (HFD)Houston Police Department-HPDHouston Fire Department (HFD)Houston Police Department-HPDHouston Police Department-HPDHealth & Human ServicesHouston Police Department-HPDHouston Police Department-HPDHouston Police Department-HPDHouston Airport System (HAS)Health & Human ServicesPublic Works & Engineering-PWEHouston Police Department-HPDHouston Police Department-HPDHouston Fire Department (HFD)Houston Airport System (HAS)Health & Human ServicesHouston Police Department-HPDHouston Police Department-HPDHealth & Human ServicesHouston Police Department-HPDHouston Police Department-HPDPublic Works & Engineering-PWEHouston Police Department-HPDHouston Fire Department (HFD)Parks & RecreationHouston Police Department-HPDHouston Police Department-HPDPublic Works & Engineering-PWEHouston Fire Department (HFD)Houston Police Department-HPDHealth & Human ServicesHealth & Human ServicesParks & RecreationHouston Fire Department (HFD)Houston Fire Department (HFD)Public Works & Engineering-PWEPublic Works & Engineering-PWEParks & RecreationHealth & Human ServicesHouston Police Department-HPDHouston Fire Department (HFD)Houston Police Department-HPDHouston Airport System (HAS)Houston Airport System (HAS)Houston Police Department-HPDHouston Fire Department (HFD)Houston Fire Department (HFD)Health & Human ServicesHouston Fire Department (HFD)Public Works & Engineering-PWEHouston Airport System (HAS)Public Works & Engineering-PWEPublic Works & Engineering-PWEHouston Fire Department (HFD)Houston Police Department-HPDHouston Fire Department (HFD)Houston Police Department-HPDHouston Police Department-HPDParks & RecreationHouston Police Department-HPDHouston Police Department-HPDPublic Works & Engineering-PWEHouston Fire Department (HFD)Houston Fire Department (HFD)Houston Police Department-HPDHouston Fire Department (HFD)Public Works & Engineering-PWEHouston Fire Department (HFD)Houston Police Department-HPDHouston Police Department-HPDHouston Police Department-HPDHouston Police Department-HPDHouston Police Department-HPDHouston Airport System (HAS)Houston Police Department-HPDHouston Fire Department (HFD)Public Works & Engineering-PWEHouston Fire Department (HFD)Houston Fire Department (HFD)Public Works & Engineering-PWEHouston Police Department-HPDHouston Police Department-HPDHouston Police Department-HPDHouston Police Department-HPDHealth & Human ServicesPublic Works & Engineering-PWEHouston Police Department-HPDHouston Police Department-HPDHouston Fire Department (HFD)Houston Police Department-HPDHouston Fire Department (HFD)Houston Fire Department (HFD)Health & Human ServicesHouston Fire Department (HFD)Public Works & Engineering-PWEHouston Police Department-HPDPublic Works & Engineering-PWEHouston Airport System (HAS)Houston Police Department-HPDHouston Fire Department (HFD)Houston Fire Department (HFD)Parks & RecreationHouston Fire Department (HFD)Public Works & Engineering-PWEParks & RecreationHouston Police Department-HPDPublic Works & Engineering-PWEPublic Works & Engineering-PWEHouston Police Department-HPDHouston Police Department-HPDHouston Police Department-HPDHouston Police Department-HPDPublic Works & Engineering-PWEHouston Police Department-HPDHouston Fire Department (HFD)Houston Fire Department (HFD)Houston Police Department-HPDHouston Police Department-HPDPublic Works & Engineering-PWEHouston Police Department-HPDPublic Works & Engineering-PWEPublic Works & Engineering-PWEHouston Police Department-HPDPublic Works & Engineering-PWEHouston Police Department-HPDHouston Police Department-HPDHouston Fire Department (HFD)Public Works & Engineering-PWEParks & RecreationHouston Fire Department (HFD)Houston Fire Department (HFD)Houston Fire Department (HFD)Houston Police Department-HPDHouston Police Department-HPDHouston Fire Department (HFD)Public Works & Engineering-PWEHouston Fire Department (HFD)Houston Airport System (HAS)Public Works & Engineering-PWEHouston Police Department-HPDHouston Police Department-HPDHealth & Human ServicesPublic Works & Engineering-PWEHouston Airport System (HAS)Houston Police Department-HPDHouston Airport System (HAS)Parks & RecreationPublic Works & Engineering-PWEPublic Works & Engineering-PWEHouston Fire Department (HFD)Houston Fire Department (HFD)Public Works & Engineering-PWEHouston Fire Department (HFD)Public Works & Engineering-PWEHouston Fire Department (HFD)Parks & RecreationHouston Police Department-HPDPublic Works & Engineering-PWEHouston Police Department-HPDHouston Airport System (HAS)Houston Police Department-HPDHouston Police Department-HPDPublic Works & Engineering-PWEParks & RecreationHouston Police Department-HPDHouston Police Department-HPDHouston Police Department-HPDHouston Police Department-HPDHouston Fire Department (HFD)Houston Fire Department (HFD)Houston Police Department-HPDPublic Works & Engineering-PWEParks & RecreationHouston Fire Department (HFD)Public Works & Engineering-PWEHouston Police Department-HPDHouston Fire Department (HFD)Houston Police Department-HPDHouston Fire Department (HFD)Houston Police Department-HPDHouston Airport System (HAS)Houston Fire Department (HFD)Houston Police Department-HPDHouston Police Department-HPDHouston Police Department-HPDHouston Police Department-HPDHouston Fire Department (HFD)Public Works & Engineering-PWEPublic Works & Engineering-PWEHouston Fire Department (HFD)Parks & RecreationPublic Works & Engineering-PWEPublic Works & Engineering-PWEHouston Police Department-HPDHealth & Human ServicesHouston Fire Department (HFD)Parks & RecreationPublic Works & Engineering-PWEHouston Police Department-HPDHouston Police Department-HPDParks & RecreationHouston Police Department-HPDHouston Fire Department (HFD)Houston Police Department-HPDHouston Police Department-HPDPublic Works & Engineering-PWEHouston Fire Department (HFD)Public Works & Engineering-PWEHouston Fire Department (HFD)Public Works & Engineering-PWEHouston Police Department-HPDHouston Police Department-HPDHouston Police Department-HPDPublic Works & Engineering-PWEHouston Police Department-HPDHouston Police Department-HPDHouston Fire Department (HFD)Health & Human ServicesHouston Fire Department (HFD)Houston Police Department-HPDPublic Works & Engineering-PWEParks & RecreationHouston Fire Department (HFD)Houston Police Department-HPDHouston Police Department-HPDPublic Works & Engineering-PWEHouston Police Department-HPDParks & RecreationHouston Police Department-HPDHouston Police Department-HPDHouston Police Department-HPDHouston Police Department-HPDHouston Airport System (HAS)Houston Fire Department (HFD)Houston Fire Department (HFD)Houston Fire Department (HFD)Houston Police Department-HPDHouston Police Department-HPDPublic Works & Engineering-PWEPublic Works & Engineering-PWEHouston Police Department-HPDHouston Police Department-HPDPublic Works & Engineering-PWEHouston Police Department-HPDHouston Airport System (HAS)Houston Fire Department (HFD)Health & Human ServicesPublic Works & Engineering-PWEHouston Fire Department (HFD)Houston Police Department-HPDHealth & Human ServicesPublic Works & Engineering-PWEHealth & Human ServicesHouston Airport System (HAS)Health & Human ServicesPublic Works & Engineering-PWEHouston Police Department-HPDPublic Works & Engineering-PWEHouston Police Department-HPDHouston Police Department-HPDPublic Works & Engineering-PWEHouston Fire Department (HFD)Houston Police Department-HPDHouston Fire Department (HFD)Public Works & Engineering-PWEPublic Works & Engineering-PWEHouston Fire Department (HFD)Parks & RecreationHouston Fire Department (HFD)Houston Fire Department (HFD)Public Works & Engineering-PWEHouston Fire Department (HFD)Houston Airport System (HAS)Houston Police Department-HPDHouston Fire Department (HFD)Public Works & Engineering-PWEHouston Police Department-HPDHouston Airport System (HAS)Health & Human ServicesHouston Police Department-HPDHealth & Human ServicesHouston Fire Department (HFD)Houston Police Department-HPDHouston Airport System (HAS)Houston Police Department-HPDPublic Works & Engineering-PWEHouston Police Department-HPDPublic Works & Engineering-PWEHouston Fire Department (HFD)Houston Fire Department (HFD)Parks & RecreationHouston Police Department-HPDHealth & Human ServicesHouston Fire Department (HFD)Public Works & Engineering-PWEHouston Police Department-HPDHouston Fire Department (HFD)Parks & RecreationHouston Police Department-HPDHealth & Human ServicesHouston Fire Department (HFD)Houston Fire Department (HFD)Health & Human ServicesHouston Police Department-HPDPublic Works & Engineering-PWEHouston Fire Department (HFD)Houston Fire Department (HFD)Houston Fire Department (HFD)Houston Airport System (HAS)Houston Airport System (HAS)Houston Fire Department (HFD)Public Works & Engineering-PWEHouston Police Department-HPDPublic Works & Engineering-PWEHealth & Human ServicesHouston Police Department-HPDHouston Police Department-HPDHouston Airport System (HAS)Houston Fire Department (HFD)Houston Police Department-HPDHouston Police Department-HPDHouston Airport System (HAS)Houston Police Department-HPDHouston Fire Department (HFD)Houston Police Department-HPDHealth & Human ServicesHouston Police Department-HPDHouston Police Department-HPDHouston Police Department-HPDPublic Works & Engineering-PWEHouston Police Department-HPDPublic Works & Engineering-PWEHouston Police Department-HPDHouston Airport System (HAS)Public Works & Engineering-PWEHouston Airport System (HAS)Public Works & Engineering-PWEParks & RecreationHouston Police Department-HPDPublic Works & Engineering-PWEHouston Police Department-HPDHouston Police Department-HPDHouston Police Department-HPDHouston Police Department-HPDPublic Works & Engineering-PWEPublic Works & Engineering-PWEHouston Police Department-HPDHouston Fire Department (HFD)Public Works & Engineering-PWEHouston Police Department-HPDHouston Police Department-HPDHouston Police Department-HPDHouston Police Department-HPDHealth & Human ServicesHouston Police Department-HPDHouston Police Department-HPDHouston Police Department-HPDHouston Fire Department (HFD)Public Works & Engineering-PWEHouston Police Department-HPDHouston Airport System (HAS)Houston Police Department-HPDHouston Police Department-HPDHouston Police Department-HPDHouston Police Department-HPDHouston Fire Department (HFD)Houston Fire Department (HFD)Houston Fire Department (HFD)Houston Police Department-HPDHouston Police Department-HPDPublic Works & Engineering-PWEParks & RecreationHouston Police Department-HPDHouston Airport System (HAS)Houston Police Department-HPDHouston Police Department-HPDHouston Police Department-HPDHouston Fire Department (HFD)Houston Police Department-HPDHouston Police Department-HPDHouston Fire Department (HFD)'",
      "\nDuring handling of the above exception, another exception occurred:\n",
      "\u001b[0;31mValueError\u001b[0m                                Traceback (most recent call last)",
      "\u001b[0;32m~/anaconda3/lib/python3.7/site-packages/pandas/core/nanops.py\u001b[0m in \u001b[0;36m_ensure_numeric\u001b[0;34m(x)\u001b[0m\n\u001b[1;32m    824\u001b[0m             \u001b[0;32mtry\u001b[0m\u001b[0;34m:\u001b[0m\u001b[0;34m\u001b[0m\u001b[0m\n\u001b[0;32m--> 825\u001b[0;31m                 \u001b[0mx\u001b[0m \u001b[0;34m=\u001b[0m \u001b[0mcomplex\u001b[0m\u001b[0;34m(\u001b[0m\u001b[0mx\u001b[0m\u001b[0;34m)\u001b[0m\u001b[0;34m\u001b[0m\u001b[0m\n\u001b[0m\u001b[1;32m    826\u001b[0m             \u001b[0;32mexcept\u001b[0m \u001b[0mException\u001b[0m\u001b[0;34m:\u001b[0m\u001b[0;34m\u001b[0m\u001b[0m\n",
      "\u001b[0;31mValueError\u001b[0m: complex() arg is a malformed string",
      "\nDuring handling of the above exception, another exception occurred:\n",
      "\u001b[0;31mTypeError\u001b[0m                                 Traceback (most recent call last)",
      "\u001b[0;32m<ipython-input-8-ddc5f1781892>\u001b[0m in \u001b[0;36m<module>\u001b[0;34m()\u001b[0m\n\u001b[0;32m----> 1\u001b[0;31m \u001b[0mdept\u001b[0m\u001b[0;34m.\u001b[0m\u001b[0mmean\u001b[0m\u001b[0;34m(\u001b[0m\u001b[0;34m)\u001b[0m\u001b[0;34m\u001b[0m\u001b[0m\n\u001b[0m",
      "\u001b[0;32m~/anaconda3/lib/python3.7/site-packages/pandas/core/generic.py\u001b[0m in \u001b[0;36mstat_func\u001b[0;34m(self, axis, skipna, level, numeric_only, **kwargs)\u001b[0m\n\u001b[1;32m   9611\u001b[0m                                       skipna=skipna)\n\u001b[1;32m   9612\u001b[0m         return self._reduce(f, name, axis=axis, skipna=skipna,\n\u001b[0;32m-> 9613\u001b[0;31m                             numeric_only=numeric_only)\n\u001b[0m\u001b[1;32m   9614\u001b[0m \u001b[0;34m\u001b[0m\u001b[0m\n\u001b[1;32m   9615\u001b[0m     \u001b[0;32mreturn\u001b[0m \u001b[0mset_function_name\u001b[0m\u001b[0;34m(\u001b[0m\u001b[0mstat_func\u001b[0m\u001b[0;34m,\u001b[0m \u001b[0mname\u001b[0m\u001b[0;34m,\u001b[0m \u001b[0mcls\u001b[0m\u001b[0;34m)\u001b[0m\u001b[0;34m\u001b[0m\u001b[0m\n",
      "\u001b[0;32m~/anaconda3/lib/python3.7/site-packages/pandas/core/series.py\u001b[0m in \u001b[0;36m_reduce\u001b[0;34m(self, op, name, axis, skipna, numeric_only, filter_type, **kwds)\u001b[0m\n\u001b[1;32m   3219\u001b[0m                                           'numeric_only.'.format(name))\n\u001b[1;32m   3220\u001b[0m             \u001b[0;32mwith\u001b[0m \u001b[0mnp\u001b[0m\u001b[0;34m.\u001b[0m\u001b[0merrstate\u001b[0m\u001b[0;34m(\u001b[0m\u001b[0mall\u001b[0m\u001b[0;34m=\u001b[0m\u001b[0;34m'ignore'\u001b[0m\u001b[0;34m)\u001b[0m\u001b[0;34m:\u001b[0m\u001b[0;34m\u001b[0m\u001b[0m\n\u001b[0;32m-> 3221\u001b[0;31m                 \u001b[0;32mreturn\u001b[0m \u001b[0mop\u001b[0m\u001b[0;34m(\u001b[0m\u001b[0mdelegate\u001b[0m\u001b[0;34m,\u001b[0m \u001b[0mskipna\u001b[0m\u001b[0;34m=\u001b[0m\u001b[0mskipna\u001b[0m\u001b[0;34m,\u001b[0m \u001b[0;34m**\u001b[0m\u001b[0mkwds\u001b[0m\u001b[0;34m)\u001b[0m\u001b[0;34m\u001b[0m\u001b[0m\n\u001b[0m\u001b[1;32m   3222\u001b[0m \u001b[0;34m\u001b[0m\u001b[0m\n\u001b[1;32m   3223\u001b[0m         return delegate._reduce(op=op, name=name, axis=axis, skipna=skipna,\n",
      "\u001b[0;32m~/anaconda3/lib/python3.7/site-packages/pandas/core/nanops.py\u001b[0m in \u001b[0;36m_f\u001b[0;34m(*args, **kwargs)\u001b[0m\n\u001b[1;32m     75\u001b[0m             \u001b[0;32mtry\u001b[0m\u001b[0;34m:\u001b[0m\u001b[0;34m\u001b[0m\u001b[0m\n\u001b[1;32m     76\u001b[0m                 \u001b[0;32mwith\u001b[0m \u001b[0mnp\u001b[0m\u001b[0;34m.\u001b[0m\u001b[0merrstate\u001b[0m\u001b[0;34m(\u001b[0m\u001b[0minvalid\u001b[0m\u001b[0;34m=\u001b[0m\u001b[0;34m'ignore'\u001b[0m\u001b[0;34m)\u001b[0m\u001b[0;34m:\u001b[0m\u001b[0;34m\u001b[0m\u001b[0m\n\u001b[0;32m---> 77\u001b[0;31m                     \u001b[0;32mreturn\u001b[0m \u001b[0mf\u001b[0m\u001b[0;34m(\u001b[0m\u001b[0;34m*\u001b[0m\u001b[0margs\u001b[0m\u001b[0;34m,\u001b[0m \u001b[0;34m**\u001b[0m\u001b[0mkwargs\u001b[0m\u001b[0;34m)\u001b[0m\u001b[0;34m\u001b[0m\u001b[0m\n\u001b[0m\u001b[1;32m     78\u001b[0m             \u001b[0;32mexcept\u001b[0m \u001b[0mValueError\u001b[0m \u001b[0;32mas\u001b[0m \u001b[0me\u001b[0m\u001b[0;34m:\u001b[0m\u001b[0;34m\u001b[0m\u001b[0m\n\u001b[1;32m     79\u001b[0m                 \u001b[0;31m# we want to transform an object array\u001b[0m\u001b[0;34m\u001b[0m\u001b[0;34m\u001b[0m\u001b[0m\n",
      "\u001b[0;32m~/anaconda3/lib/python3.7/site-packages/pandas/core/nanops.py\u001b[0m in \u001b[0;36mf\u001b[0;34m(values, axis, skipna, **kwds)\u001b[0m\n\u001b[1;32m    129\u001b[0m             \u001b[0;32mexcept\u001b[0m \u001b[0mException\u001b[0m\u001b[0;34m:\u001b[0m\u001b[0;34m\u001b[0m\u001b[0m\n\u001b[1;32m    130\u001b[0m                 \u001b[0;32mtry\u001b[0m\u001b[0;34m:\u001b[0m\u001b[0;34m\u001b[0m\u001b[0m\n\u001b[0;32m--> 131\u001b[0;31m                     \u001b[0mresult\u001b[0m \u001b[0;34m=\u001b[0m \u001b[0malt\u001b[0m\u001b[0;34m(\u001b[0m\u001b[0mvalues\u001b[0m\u001b[0;34m,\u001b[0m \u001b[0maxis\u001b[0m\u001b[0;34m=\u001b[0m\u001b[0maxis\u001b[0m\u001b[0;34m,\u001b[0m \u001b[0mskipna\u001b[0m\u001b[0;34m=\u001b[0m\u001b[0mskipna\u001b[0m\u001b[0;34m,\u001b[0m \u001b[0;34m**\u001b[0m\u001b[0mkwds\u001b[0m\u001b[0;34m)\u001b[0m\u001b[0;34m\u001b[0m\u001b[0m\n\u001b[0m\u001b[1;32m    132\u001b[0m                 \u001b[0;32mexcept\u001b[0m \u001b[0mValueError\u001b[0m \u001b[0;32mas\u001b[0m \u001b[0me\u001b[0m\u001b[0;34m:\u001b[0m\u001b[0;34m\u001b[0m\u001b[0m\n\u001b[1;32m    133\u001b[0m                     \u001b[0;31m# we want to transform an object array\u001b[0m\u001b[0;34m\u001b[0m\u001b[0;34m\u001b[0m\u001b[0m\n",
      "\u001b[0;32m~/anaconda3/lib/python3.7/site-packages/pandas/core/nanops.py\u001b[0m in \u001b[0;36mnanmean\u001b[0;34m(values, axis, skipna)\u001b[0m\n\u001b[1;32m    353\u001b[0m         \u001b[0mdtype_count\u001b[0m \u001b[0;34m=\u001b[0m \u001b[0mdtype\u001b[0m\u001b[0;34m\u001b[0m\u001b[0m\n\u001b[1;32m    354\u001b[0m     \u001b[0mcount\u001b[0m \u001b[0;34m=\u001b[0m \u001b[0m_get_counts\u001b[0m\u001b[0;34m(\u001b[0m\u001b[0mmask\u001b[0m\u001b[0;34m,\u001b[0m \u001b[0maxis\u001b[0m\u001b[0;34m,\u001b[0m \u001b[0mdtype\u001b[0m\u001b[0;34m=\u001b[0m\u001b[0mdtype_count\u001b[0m\u001b[0;34m)\u001b[0m\u001b[0;34m\u001b[0m\u001b[0m\n\u001b[0;32m--> 355\u001b[0;31m     \u001b[0mthe_sum\u001b[0m \u001b[0;34m=\u001b[0m \u001b[0m_ensure_numeric\u001b[0m\u001b[0;34m(\u001b[0m\u001b[0mvalues\u001b[0m\u001b[0;34m.\u001b[0m\u001b[0msum\u001b[0m\u001b[0;34m(\u001b[0m\u001b[0maxis\u001b[0m\u001b[0;34m,\u001b[0m \u001b[0mdtype\u001b[0m\u001b[0;34m=\u001b[0m\u001b[0mdtype_sum\u001b[0m\u001b[0;34m)\u001b[0m\u001b[0;34m)\u001b[0m\u001b[0;34m\u001b[0m\u001b[0m\n\u001b[0m\u001b[1;32m    356\u001b[0m \u001b[0;34m\u001b[0m\u001b[0m\n\u001b[1;32m    357\u001b[0m     \u001b[0;32mif\u001b[0m \u001b[0maxis\u001b[0m \u001b[0;32mis\u001b[0m \u001b[0;32mnot\u001b[0m \u001b[0;32mNone\u001b[0m \u001b[0;32mand\u001b[0m \u001b[0mgetattr\u001b[0m\u001b[0;34m(\u001b[0m\u001b[0mthe_sum\u001b[0m\u001b[0;34m,\u001b[0m \u001b[0;34m'ndim'\u001b[0m\u001b[0;34m,\u001b[0m \u001b[0;32mFalse\u001b[0m\u001b[0;34m)\u001b[0m\u001b[0;34m:\u001b[0m\u001b[0;34m\u001b[0m\u001b[0m\n",
      "\u001b[0;32m~/anaconda3/lib/python3.7/site-packages/pandas/core/nanops.py\u001b[0m in \u001b[0;36m_ensure_numeric\u001b[0;34m(x)\u001b[0m\n\u001b[1;32m    826\u001b[0m             \u001b[0;32mexcept\u001b[0m \u001b[0mException\u001b[0m\u001b[0;34m:\u001b[0m\u001b[0;34m\u001b[0m\u001b[0m\n\u001b[1;32m    827\u001b[0m                 raise TypeError('Could not convert {value!s} to numeric'\n\u001b[0;32m--> 828\u001b[0;31m                                 .format(value=x))\n\u001b[0m\u001b[1;32m    829\u001b[0m     \u001b[0;32mreturn\u001b[0m \u001b[0mx\u001b[0m\u001b[0;34m\u001b[0m\u001b[0m\n\u001b[1;32m    830\u001b[0m \u001b[0;34m\u001b[0m\u001b[0m\n",
      "\u001b[0;31mTypeError\u001b[0m: Could not convert Houston Police Department-HPDHouston Fire Department (HFD)Houston Police Department-HPDPublic Works & Engineering-PWEHouston Airport System (HAS)Public Works & Engineering-PWEHouston Airport System (HAS)Houston Fire Department (HFD)Health & Human ServicesPublic Works & Engineering-PWEHealth & Human ServicesHouston Police Department-HPDHouston Police Department-HPDHouston Police Department-HPDHouston Police Department-HPDHouston Police Department-HPDPublic Works & Engineering-PWEHouston Fire Department (HFD)Public Works & Engineering-PWEHouston Fire Department (HFD)Houston Police Department-HPDHouston Police Department-HPDHouston Police Department-HPDHouston Police Department-HPDHouston Police Department-HPDPublic Works & Engineering-PWEHouston Fire Department (HFD)Houston Fire Department (HFD)Houston Fire Department (HFD)Houston Police Department-HPDHealth & Human ServicesPublic Works & Engineering-PWEHealth & Human ServicesPublic Works & Engineering-PWEHouston Fire Department (HFD)Houston Fire Department (HFD)Houston Fire Department (HFD)Houston Fire Department (HFD)Houston Police Department-HPDHouston Police Department-HPDPublic Works & Engineering-PWEPublic Works & Engineering-PWEHouston Fire Department (HFD)Houston Fire Department (HFD)Houston Fire Department (HFD)Houston Police Department-HPDHouston Fire Department (HFD)Houston Airport System (HAS)Houston Fire Department (HFD)Houston Police Department-HPDPublic Works & Engineering-PWEHouston Airport System (HAS)Houston Airport System (HAS)Public Works & Engineering-PWEHouston Fire Department (HFD)Houston Police Department-HPDPublic Works & Engineering-PWEHouston Police Department-HPDHouston Airport System (HAS)Health & Human ServicesHouston Police Department-HPDHouston Police Department-HPDHouston Police Department-HPDHealth & Human ServicesHouston Police Department-HPDHouston Airport System (HAS)Houston Fire Department (HFD)Houston Police Department-HPDHouston Police Department-HPDPublic Works & Engineering-PWEPublic Works & Engineering-PWEHouston Police Department-HPDHouston Fire Department (HFD)Health & Human ServicesHouston Fire Department (HFD)Public Works & Engineering-PWEPublic Works & Engineering-PWEHouston Police Department-HPDPublic Works & Engineering-PWEParks & RecreationHouston Fire Department (HFD)Houston Police Department-HPDHouston Police Department-HPDPublic Works & Engineering-PWEPublic Works & Engineering-PWEHouston Airport System (HAS)Houston Fire Department (HFD)Houston Fire Department (HFD)Public Works & Engineering-PWEHouston Police Department-HPDHouston Fire Department (HFD)Houston Fire Department (HFD)Health & Human ServicesPublic Works & Engineering-PWEHouston Fire Department (HFD)Health & Human ServicesHouston Police Department-HPDHouston Police Department-HPDPublic Works & Engineering-PWEHealth & Human ServicesHouston Fire Department (HFD)Public Works & Engineering-PWEHouston Fire Department (HFD)Houston Police Department-HPDHealth & Human ServicesHouston Police Department-HPDHouston Police Department-HPDHouston Police Department-HPDHouston Police Department-HPDHouston Fire Department (HFD)Houston Police Department-HPDPublic Works & Engineering-PWEHouston Police Department-HPDParks & RecreationPublic Works & Engineering-PWEHouston Police Department-HPDHouston Fire Department (HFD)Houston Police Department-HPDHouston Police Department-HPDHealth & Human ServicesHouston Police Department-HPDHouston Fire Department (HFD)Houston Police Department-HPDHouston Fire Department (HFD)Houston Airport System (HAS)Public Works & Engineering-PWEPublic Works & Engineering-PWEHouston Fire Department (HFD)Houston Police Department-HPDHouston Fire Department (HFD)Houston Police Department-HPDPublic Works & Engineering-PWEHouston Police Department-HPDHouston Airport System (HAS)Public Works & Engineering-PWEHouston Police Department-HPDParks & RecreationPublic Works & Engineering-PWEHouston Airport System (HAS)Houston Police Department-HPDHouston Police Department-HPDHouston Police Department-HPDParks & RecreationHouston Police Department-HPDHouston Fire Department (HFD)Public Works & Engineering-PWEHouston Police Department-HPDHouston Airport System (HAS)Parks & RecreationHouston Police Department-HPDHouston Fire Department (HFD)Houston Airport System (HAS)Houston Fire Department (HFD)Houston Police Department-HPDHouston Fire Department (HFD)Houston Police Department-HPDHouston Police Department-HPDHealth & Human ServicesHouston Police Department-HPDHouston Police Department-HPDPublic Works & Engineering-PWEHouston Police Department-HPDPublic Works & Engineering-PWEHouston Police Department-HPDHouston Police Department-HPDHouston Fire Department (HFD)Houston Airport System (HAS)Public Works & Engineering-PWEHouston Airport System (HAS)Public Works & Engineering-PWEPublic Works & Engineering-PWEHouston Police Department-HPDHouston Police Department-HPDHealth & Human ServicesPublic Works & Engineering-PWEHouston Fire Department (HFD)Houston Airport System (HAS)Houston Fire Department (HFD)Houston Police Department-HPDHealth & Human ServicesHouston Police Department-HPDHouston Fire Department (HFD)Public Works & Engineering-PWEHouston Police Department-HPDHouston Police Department-HPDHouston Police Department-HPDHouston Police Department-HPDHouston Fire Department (HFD)Public Works & Engineering-PWEHouston Fire Department (HFD)Houston Fire Department (HFD)Houston Police Department-HPDHouston Police Department-HPDHouston Police Department-HPDPublic Works & Engineering-PWEHouston Fire Department (HFD)Public Works & Engineering-PWEHouston Police Department-HPDHouston Fire Department (HFD)Houston Police Department-HPDHouston Police Department-HPDHouston Police Department-HPDPublic Works & Engineering-PWEHouston Police Department-HPDHouston Fire Department (HFD)Houston Fire Department (HFD)Health & Human ServicesHouston Police Department-HPDParks & RecreationHouston Police Department-HPDPublic Works & Engineering-PWEHouston Fire Department (HFD)Public Works & Engineering-PWEHouston Fire Department (HFD)Houston Airport System (HAS)Houston Police Department-HPDHouston Fire Department (HFD)Houston Fire Department (HFD)Houston Police Department-HPDHealth & Human ServicesHouston Police Department-HPDHealth & Human ServicesHouston Airport System (HAS)Health & Human ServicesHouston Airport System (HAS)Houston Fire Department (HFD)Houston Fire Department (HFD)Houston Fire Department (HFD)Houston Police Department-HPDHealth & Human ServicesHouston Fire Department (HFD)Public Works & Engineering-PWEHouston Police Department-HPDHouston Police Department-HPDHouston Police Department-HPDHouston Police Department-HPDPublic Works & Engineering-PWEPublic Works & Engineering-PWEPublic Works & Engineering-PWEHouston Fire Department (HFD)Public Works & Engineering-PWEPublic Works & Engineering-PWEHouston Airport System (HAS)Public Works & Engineering-PWEPublic Works & Engineering-PWEHouston Police Department-HPDHealth & Human ServicesParks & RecreationHouston Fire Department (HFD)Health & Human ServicesHouston Police Department-HPDHouston Police Department-HPDHouston Police Department-HPDHouston Airport System (HAS)Houston Police Department-HPDHouston Police Department-HPDPublic Works & Engineering-PWEHouston Police Department-HPDHouston Police Department-HPDHouston Police Department-HPDHouston Airport System (HAS)Parks & RecreationHouston Police Department-HPDHouston Fire Department (HFD)Houston Police Department-HPDHouston Airport System (HAS)Houston Police Department-HPDHouston Police Department-HPDHouston Police Department-HPDHouston Fire Department (HFD)Health & Human ServicesHouston Fire Department (HFD)Houston Fire Department (HFD)Houston Fire Department (HFD)Houston Fire Department (HFD)Houston Police Department-HPDHouston Police Department-HPDHouston Fire Department (HFD)Houston Police Department-HPDHealth & Human ServicesPublic Works & Engineering-PWEPublic Works & Engineering-PWEParks & RecreationHouston Police Department-HPDHouston Police Department-HPDHouston Fire Department (HFD)Houston Police Department-HPDPublic Works & Engineering-PWEPublic Works & Engineering-PWEHouston Police Department-HPDHouston Fire Department (HFD)Public Works & Engineering-PWEHouston Police Department-HPDPublic Works & Engineering-PWEPublic Works & Engineering-PWEHouston Police Department-HPDParks & RecreationHouston Police Department-HPDHouston Police Department-HPDHouston Fire Department (HFD)Houston Police Department-HPDHouston Fire Department (HFD)Houston Fire Department (HFD)Houston Police Department-HPDHouston Fire Department (HFD)Parks & RecreationHouston Fire Department (HFD)Public Works & Engineering-PWEPublic Works & Engineering-PWEHouston Airport System (HAS)Health & Human ServicesPublic Works & Engineering-PWEHouston Police Department-HPDHouston Fire Department (HFD)Houston Police Department-HPDHouston Fire Department (HFD)Houston Fire Department (HFD)Public Works & Engineering-PWEHouston Police Department-HPDPublic Works & Engineering-PWEHouston Police Department-HPDHouston Police Department-HPDPublic Works & Engineering-PWEPublic Works & Engineering-PWEHouston Police Department-HPDPublic Works & Engineering-PWEHealth & Human ServicesHouston Fire Department (HFD)Public Works & Engineering-PWEPublic Works & Engineering-PWEPublic Works & Engineering-PWEHouston Fire Department (HFD)Houston Police Department-HPDHouston Police Department-HPDHouston Fire Department (HFD)Public Works & Engineering-PWEHouston Police Department-HPDHouston Police Department-HPDHouston Fire Department (HFD)Houston Police Department-HPDHouston Police Department-HPDPublic Works & Engineering-PWEHouston Police Department-HPDHouston Fire Department (HFD)Parks & RecreationPublic Works & Engineering-PWEHouston Airport System (HAS)Houston Fire Department (HFD)Houston Police Department-HPDHouston Fire Department (HFD)Health & Human ServicesHouston Police Department-HPDHealth & Human ServicesPublic Works & Engineering-PWEHouston Police Department-HPDHouston Police Department-HPDHouston Fire Department (HFD)Public Works & Engineering-PWEPublic Works & Engineering-PWEHouston Fire Department (HFD)Houston Fire Department (HFD)Health & Human ServicesHealth & Human ServicesHouston Airport System (HAS)Houston Police Department-HPDHouston Fire Department (HFD)Houston Police Department-HPDHouston Police Department-HPDHealth & Human ServicesHealth & Human ServicesPublic Works & Engineering-PWEPublic Works & Engineering-PWEHouston Airport System (HAS)Houston Police Department-HPDHouston Police Department-HPDPublic Works & Engineering-PWEHouston Fire Department (HFD)Public Works & Engineering-PWEHealth & Human ServicesHouston Police Department-HPDHouston Fire Department (HFD)Public Works & Engineering-PWEHouston Police Department-HPDPublic Works & Engineering-PWEHouston Police Department-HPDHouston Police Department-HPDHouston Police Department-HPDHouston Fire Department (HFD)Houston Police Department-HPDHealth & Human ServicesHouston Police Department-HPDPublic Works & Engineering-PWEParks & RecreationHouston Fire Department (HFD)Public Works & Engineering-PWEPublic Works & Engineering-PWEHouston Police Department-HPDHouston Police Department-HPDHouston Airport System (HAS)Houston Fire Department (HFD)Houston Fire Department (HFD)Public Works & Engineering-PWEPublic Works & Engineering-PWEHealth & Human ServicesPublic Works & Engineering-PWEHouston Police Department-HPDHouston Police Department-HPDHouston Police Department-HPDPublic Works & Engineering-PWEHealth & Human ServicesHouston Police Department-HPDHouston Police Department-HPDHouston Police Department-HPDHouston Police Department-HPDHouston Police Department-HPDHouston Fire Department (HFD)Houston Police Department-HPDPublic Works & Engineering-PWEParks & RecreationHouston Police Department-HPDHouston Airport System (HAS)Houston Police Department-HPDPublic Works & Engineering-PWEHouston Police Department-HPDHouston Police Department-HPDHouston Fire Department (HFD)Houston Police Department-HPDPublic Works & Engineering-PWEHouston Police Department-HPDHouston Fire Department (HFD)Houston Airport System (HAS)Houston Police Department-HPDHouston Fire Department (HFD)Public Works & Engineering-PWEHouston Fire Department (HFD)Public Works & Engineering-PWEPublic Works & Engineering-PWEHouston Fire Department (HFD)Houston Police Department-HPDHouston Police Department-HPDParks & RecreationHealth & Human ServicesPublic Works & Engineering-PWEHouston Police Department-HPDHealth & Human ServicesHouston Police Department-HPDPublic Works & Engineering-PWEPublic Works & Engineering-PWEHouston Fire Department (HFD)Houston Police Department-HPDHouston Police Department-HPDHouston Police Department-HPDHouston Police Department-HPDHouston Police Department-HPDPublic Works & Engineering-PWEHouston Fire Department (HFD)Houston Police Department-HPDHouston Fire Department (HFD)Public Works & Engineering-PWEHouston Fire Department (HFD)Public Works & Engineering-PWEPublic Works & Engineering-PWEPublic Works & Engineering-PWEHouston Police Department-HPDHouston Police Department-HPDPublic Works & Engineering-PWEHouston Fire Department (HFD)Public Works & Engineering-PWEHouston Airport System (HAS)Houston Police Department-HPDHouston Police Department-HPDPublic Works & Engineering-PWEHouston Police Department-HPDParks & RecreationHouston Fire Department (HFD)Public Works & Engineering-PWEParks & RecreationHouston Police Department-HPDPublic Works & Engineering-PWEHouston Police Department-HPDPublic Works & Engineering-PWEHouston Police Department-HPDHouston Police Department-HPDPublic Works & Engineering-PWEHouston Police Department-HPDHouston Airport System (HAS)Houston Police Department-HPDHouston Airport System (HAS)Houston Police Department-HPDHouston Police Department-HPDHouston Fire Department (HFD)Houston Police Department-HPDHealth & Human ServicesHouston Fire Department (HFD)Houston Fire Department (HFD)Houston Police Department-HPDHouston Police Department-HPDHouston Police Department-HPDHouston Police Department-HPDHouston Airport System (HAS)Public Works & Engineering-PWEParks & RecreationParks & RecreationHouston Police Department-HPDPublic Works & Engineering-PWEHealth & Human ServicesHouston Fire Department (HFD)Public Works & Engineering-PWEParks & RecreationHouston Police Department-HPDHouston Fire Department (HFD)Houston Police Department-HPDPublic Works & Engineering-PWEPublic Works & Engineering-PWEHouston Police Department-HPDHouston Fire Department (HFD)Health & Human ServicesHouston Fire Department (HFD)Health & Human ServicesParks & RecreationHealth & Human ServicesPublic Works & Engineering-PWEHouston Fire Department (HFD)Houston Police Department-HPDPublic Works & Engineering-PWEHouston Police Department-HPDPublic Works & Engineering-PWEParks & RecreationParks & RecreationHouston Fire Department (HFD)Houston Police Department-HPDHouston Police Department-HPDPublic Works & Engineering-PWEHouston Police Department-HPDHouston Police Department-HPDHouston Police Department-HPDHouston Fire Department (HFD)Health & Human ServicesParks & RecreationHouston Fire Department (HFD)Houston Police Department-HPDHouston Fire Department (HFD)Houston Police Department-HPDPublic Works & Engineering-PWEPublic Works & Engineering-PWEHouston Fire Department (HFD)Houston Police Department-HPDHouston Fire Department (HFD)Public Works & Engineering-PWEHouston Fire Department (HFD)Public Works & Engineering-PWEHouston Police Department-HPDHouston Police Department-HPDHouston Police Department-HPDHouston Police Department-HPDPublic Works & Engineering-PWEHouston Police Department-HPDHouston Police Department-HPDHouston Police Department-HPDPublic Works & Engineering-PWEHouston Police Department-HPDPublic Works & Engineering-PWEHouston Police Department-HPDHouston Airport System (HAS)Houston Police Department-HPDHouston Police Department-HPDHouston Fire Department (HFD)Houston Fire Department (HFD)Houston Airport System (HAS)Public Works & Engineering-PWEHouston Fire Department (HFD)Houston Police Department-HPDHouston Fire Department (HFD)Houston Police Department-HPDHouston Police Department-HPDHouston Police Department-HPDHouston Fire Department (HFD)Houston Fire Department (HFD)Houston Fire Department (HFD)Houston Fire Department (HFD)Houston Police Department-HPDHouston Fire Department (HFD)Houston Police Department-HPDPublic Works & Engineering-PWEPublic Works & Engineering-PWEHouston Fire Department (HFD)Houston Police Department-HPDPublic Works & Engineering-PWEHouston Police Department-HPDHouston Airport System (HAS)Houston Fire Department (HFD)Houston Police Department-HPDHouston Police Department-HPDHouston Fire Department (HFD)Houston Police Department-HPDHouston Police Department-HPDHouston Fire Department (HFD)Public Works & Engineering-PWEHouston Police Department-HPDHouston Police Department-HPDHouston Police Department-HPDHouston Airport System (HAS)Public Works & Engineering-PWEHouston Fire Department (HFD)Houston Fire Department (HFD)Health & Human ServicesHouston Fire Department (HFD)Houston Police Department-HPDPublic Works & Engineering-PWEParks & RecreationPublic Works & Engineering-PWEHouston Police Department-HPDHouston Police Department-HPDHouston Police Department-HPDParks & RecreationHouston Police Department-HPDHouston Fire Department (HFD)Houston Fire Department (HFD)Houston Police Department-HPDHouston Police Department-HPDHealth & Human ServicesPublic Works & Engineering-PWEHouston Police Department-HPDPublic Works & Engineering-PWEHealth & Human ServicesHouston Fire Department (HFD)Houston Police Department-HPDHealth & Human ServicesHouston Police Department-HPDHouston Fire Department (HFD)Houston Police Department-HPDPublic Works & Engineering-PWEHouston Police Department-HPDParks & RecreationParks & RecreationHouston Police Department-HPDPublic Works & Engineering-PWEHouston Police Department-HPDPublic Works & Engineering-PWEParks & RecreationHouston Police Department-HPDHouston Fire Department (HFD)Health & Human ServicesParks & RecreationHouston Fire Department (HFD)Houston Fire Department (HFD)Public Works & Engineering-PWEHouston Fire Department (HFD)Houston Police Department-HPDHouston Fire Department (HFD)Public Works & Engineering-PWEPublic Works & Engineering-PWEHouston Airport System (HAS)Houston Police Department-HPDHouston Police Department-HPDHouston Police Department-HPDHouston Police Department-HPDHouston Police Department-HPDPublic Works & Engineering-PWEHouston Fire Department (HFD)Houston Fire Department (HFD)Houston Police Department-HPDHouston Fire Department (HFD)Houston Fire Department (HFD)Houston Police Department-HPDHouston Police Department-HPDPublic Works & Engineering-PWEHouston Fire Department (HFD)Houston Police Department-HPDHealth & Human ServicesHouston Fire Department (HFD)Houston Fire Department (HFD)Parks & RecreationHouston Fire Department (HFD)Houston Police Department-HPDHouston Police Department-HPDHouston Fire Department (HFD)Houston Fire Department (HFD)Health & Human ServicesHouston Police Department-HPDHouston Police Department-HPDPublic Works & Engineering-PWEHouston Police Department-HPDHouston Police Department-HPDHouston Police Department-HPDHouston Fire Department (HFD)Houston Police Department-HPDParks & RecreationHouston Police Department-HPDHealth & Human ServicesHouston Police Department-HPDHouston Fire Department (HFD)Parks & RecreationHouston Police Department-HPDPublic Works & Engineering-PWEHouston Fire Department (HFD)Public Works & Engineering-PWEHouston Police Department-HPDPublic Works & Engineering-PWEHouston Fire Department (HFD)Health & Human ServicesPublic Works & Engineering-PWEHouston Airport System (HAS)Houston Police Department-HPDHouston Police Department-HPDHouston Fire Department (HFD)Houston Police Department-HPDPublic Works & Engineering-PWEHouston Fire Department (HFD)Houston Fire Department (HFD)Houston Police Department-HPDHouston Police Department-HPDHouston Fire Department (HFD)Public Works & Engineering-PWEHouston Police Department-HPDHouston Police Department-HPDHouston Police Department-HPDHouston Fire Department (HFD)Houston Police Department-HPDHouston Police Department-HPDHouston Police Department-HPDHouston Police Department-HPDHouston Fire Department (HFD)Houston Fire Department (HFD)Public Works & Engineering-PWEPublic Works & Engineering-PWEHouston Police Department-HPDHouston Police Department-HPDHouston Fire Department (HFD)Houston Fire Department (HFD)Health & Human ServicesHouston Police Department-HPDPublic Works & Engineering-PWEPublic Works & Engineering-PWEHouston Fire Department (HFD)Houston Airport System (HAS)Houston Police Department-HPDPublic Works & Engineering-PWEHouston Airport System (HAS)Houston Police Department-HPDHouston Police Department-HPDParks & RecreationHouston Airport System (HAS)Houston Police Department-HPDHouston Police Department-HPDHouston Police Department-HPDPublic Works & Engineering-PWEHouston Police Department-HPDHouston Airport System (HAS)Public Works & Engineering-PWEPublic Works & Engineering-PWEPublic Works & Engineering-PWEPublic Works & Engineering-PWEHealth & Human ServicesHealth & Human ServicesHouston Fire Department (HFD)Houston Fire Department (HFD)Houston Police Department-HPDHouston Police Department-HPDHouston Police Department-HPDHouston Police Department-HPDPublic Works & Engineering-PWEHouston Police Department-HPDPublic Works & Engineering-PWEHealth & Human ServicesPublic Works & Engineering-PWEHouston Police Department-HPDHouston Police Department-HPDHouston Police Department-HPDHouston Police Department-HPDHouston Fire Department (HFD)Health & Human ServicesHouston Police Department-HPDHouston Fire Department (HFD)Houston Police Department-HPDHouston Police Department-HPDHouston Police Department-HPDHouston Police Department-HPDPublic Works & Engineering-PWEHouston Fire Department (HFD)Houston Police Department-HPDHouston Airport System (HAS)Health & Human ServicesHouston Fire Department (HFD)Houston Police Department-HPDPublic Works & Engineering-PWEPublic Works & Engineering-PWEHouston Police Department-HPDHouston Police Department-HPDPublic Works & Engineering-PWEHouston Police Department-HPDHouston Police Department-HPDPublic Works & Engineering-PWEPublic Works & Engineering-PWEHouston Police Department-HPDHealth & Human ServicesHouston Fire Department (HFD)Houston Police Department-HPDPublic Works & Engineering-PWEHouston Fire Department (HFD)Houston Police Department-HPDHouston Police Department-HPDHouston Fire Department (HFD)Houston Police Department-HPDHealth & Human ServicesHouston Police Department-HPDHouston Fire Department (HFD)Houston Police Department-HPDHouston Police Department-HPDPublic Works & Engineering-PWEParks & RecreationPublic Works & Engineering-PWEHouston Police Department-HPDHouston Police Department-HPDHouston Fire Department (HFD)Houston Police Department-HPDPublic Works & Engineering-PWEHealth & Human ServicesHouston Police Department-HPDHouston Police Department-HPDHouston Airport System (HAS)Houston Police Department-HPDPublic Works & Engineering-PWEPublic Works & Engineering-PWEHouston Police Department-HPDHealth & Human ServicesHouston Police Department-HPDHouston Police Department-HPDHouston Fire Department (HFD)Houston Police Department-HPDHouston Fire Department (HFD)Houston Airport System (HAS)Houston Airport System (HAS)Houston Fire Department (HFD)Health & Human ServicesHouston Police Department-HPDPublic Works & Engineering-PWEParks & RecreationHouston Police Department-HPDHouston Police Department-HPDHouston Police Department-HPDHouston Police Department-HPDHouston Fire Department (HFD)Health & Human ServicesHouston Police Department-HPDParks & RecreationHouston Fire Department (HFD)Houston Police Department-HPDHouston Fire Department (HFD)Houston Fire Department (HFD)Houston Police Department-HPDHouston Police Department-HPDPublic Works & Engineering-PWEHealth & Human ServicesPublic Works & Engineering-PWEHouston Police Department-HPDHouston Fire Department (HFD)Houston Fire Department (HFD)Public Works & Engineering-PWEHouston Fire Department (HFD)Houston Fire Department (HFD)Houston Police Department-HPDPublic Works & Engineering-PWEPublic Works & Engineering-PWEHouston Police Department-HPDHouston Fire Department (HFD)Houston Fire Department (HFD)Parks & RecreationHouston Fire Department (HFD)Houston Police Department-HPDPublic Works & Engineering-PWEPublic Works & Engineering-PWEHouston Police Department-HPDPublic Works & Engineering-PWEPublic Works & Engineering-PWEHouston Police Department-HPDHouston Police Department-HPDHouston Police Department-HPDHouston Police Department-HPDHouston Fire Department (HFD)Houston Police Department-HPDHouston Fire Department (HFD)Houston Police Department-HPDHouston Fire Department (HFD)Houston Airport System (HAS)Public Works & Engineering-PWEHouston Police Department-HPDHealth & Human ServicesHouston Police Department-HPDHouston Fire Department (HFD)Houston Police Department-HPDHouston Airport System (HAS)Parks & RecreationPublic Works & Engineering-PWEPublic Works & Engineering-PWEHouston Police Department-HPDHouston Airport System (HAS)Houston Police Department-HPDHouston Police Department-HPDHouston Airport System (HAS)Houston Fire Department (HFD)Houston Fire Department (HFD)Houston Airport System (HAS)Houston Fire Department (HFD)Houston Fire Department (HFD)Houston Police Department-HPDHouston Police Department-HPDPublic Works & Engineering-PWEPublic Works & Engineering-PWEPublic Works & Engineering-PWEParks & RecreationHouston Police Department-HPDHouston Police Department-HPDHealth & Human ServicesHouston Police Department-HPDParks & RecreationHouston Fire Department (HFD)Houston Police Department-HPDHouston Fire Department (HFD)Houston Police Department-HPDHouston Fire Department (HFD)Houston Police Department-HPDHouston Fire Department (HFD)Houston Airport System (HAS)Health & Human ServicesHouston Police Department-HPDHouston Fire Department (HFD)Houston Police Department-HPDHouston Fire Department (HFD)Houston Police Department-HPDHouston Fire Department (HFD)Houston Fire Department (HFD)Houston Airport System (HAS)Houston Police Department-HPDHouston Police Department-HPDHouston Police Department-HPDPublic Works & Engineering-PWEPublic Works & Engineering-PWEHouston Fire Department (HFD)Houston Fire Department (HFD)Public Works & Engineering-PWEHouston Police Department-HPDHouston Fire Department (HFD)Houston Police Department-HPDPublic Works & Engineering-PWEHouston Police Department-HPDParks & RecreationHouston Police Department-HPDHouston Fire Department (HFD)Public Works & Engineering-PWEHouston Airport System (HAS)Houston Fire Department (HFD)Houston Police Department-HPDPublic Works & Engineering-PWEPublic Works & Engineering-PWEHouston Fire Department (HFD)Public Works & Engineering-PWEHouston Police Department-HPDHouston Fire Department (HFD)Public Works & Engineering-PWEHealth & Human ServicesHouston Police Department-HPDHouston Police Department-HPDPublic Works & Engineering-PWEPublic Works & Engineering-PWEPublic Works & Engineering-PWEHouston Police Department-HPDHouston Police Department-HPDHouston Fire Department (HFD)Houston Police Department-HPDHouston Fire Department (HFD)Houston Fire Department (HFD)Houston Police Department-HPDHouston Police Department-HPDHouston Police Department-HPDHouston Fire Department (HFD)Public Works & Engineering-PWEHouston Fire Department (HFD)Houston Police Department-HPDPublic Works & Engineering-PWEPublic Works & Engineering-PWEParks & RecreationPublic Works & Engineering-PWEHouston Police Department-HPDPublic Works & Engineering-PWEHouston Fire Department (HFD)Houston Police Department-HPDPublic Works & Engineering-PWEHouston Police Department-HPDHouston Police Department-HPDHealth & Human ServicesHouston Fire Department (HFD)Houston Fire Department (HFD)Houston Police Department-HPDHouston Police Department-HPDPublic Works & Engineering-PWEHouston Airport System (HAS)Houston Police Department-HPDPublic Works & Engineering-PWEHouston Police Department-HPDHouston Police Department-HPDHouston Police Department-HPDHouston Fire Department (HFD)Houston Police Department-HPDHouston Fire Department (HFD)Public Works & Engineering-PWEHouston Police Department-HPDHouston Fire Department (HFD)Houston Fire Department (HFD)Public Works & Engineering-PWEHouston Fire Department (HFD)Public Works & Engineering-PWEHouston Fire Department (HFD)Houston Airport System (HAS)Houston Police Department-HPDHouston Fire Department (HFD)Houston Fire Department (HFD)Health & Human ServicesHouston Police Department-HPDHealth & Human ServicesHouston Police Department-HPDHouston Fire Department (HFD)Public Works & Engineering-PWEPublic Works & Engineering-PWEHouston Fire Department (HFD)Houston Airport System (HAS)Houston Police Department-HPDHouston Fire Department (HFD)Houston Fire Department (HFD)Houston Police Department-HPDHouston Fire Department (HFD)Houston Police Department-HPDPublic Works & Engineering-PWEHouston Police Department-HPDHouston Police Department-HPDHouston Police Department-HPDHouston Fire Department (HFD)Houston Police Department-HPDPublic Works & Engineering-PWEPublic Works & Engineering-PWEHealth & Human ServicesPublic Works & Engineering-PWEPublic Works & Engineering-PWEPublic Works & Engineering-PWEPublic Works & Engineering-PWEHouston Police Department-HPDHouston Fire Department (HFD)Houston Police Department-HPDPublic Works & Engineering-PWEHouston Airport System (HAS)Houston Police Department-HPDPublic Works & Engineering-PWEHouston Police Department-HPDHouston Police Department-HPDHouston Police Department-HPDPublic Works & Engineering-PWEHouston Police Department-HPDPublic Works & Engineering-PWEHouston Police Department-HPDHouston Police Department-HPDHouston Fire Department (HFD)Houston Police Department-HPDHouston Fire Department (HFD)Public Works & Engineering-PWEHealth & Human ServicesHouston Police Department-HPDPublic Works & Engineering-PWEHouston Police Department-HPDPublic Works & Engineering-PWEPublic Works & Engineering-PWEHouston Airport System (HAS)Houston Airport System (HAS)Houston Police Department-HPDHouston Police Department-HPDHouston Police Department-HPDHouston Police Department-HPDHouston Police Department-HPDHouston Fire Department (HFD)Houston Police Department-HPDHouston Fire Department (HFD)Houston Police Department-HPDPublic Works & Engineering-PWEHouston Police Department-HPDHouston Airport System (HAS)Houston Airport System (HAS)Houston Police Department-HPDHouston Fire Department (HFD)Houston Police Department-HPDHouston Police Department-HPDPublic Works & Engineering-PWEHouston Police Department-HPDHouston Police Department-HPDHouston Police Department-HPDHouston Airport System (HAS)Houston Fire Department (HFD)Houston Fire Department (HFD)Houston Police Department-HPDPublic Works & Engineering-PWEHouston Airport System (HAS)Houston Fire Department (HFD)Public Works & Engineering-PWEHouston Police Department-HPDHouston Fire Department (HFD)Houston Police Department-HPDPublic Works & Engineering-PWEHouston Fire Department (HFD)Houston Police Department-HPDPublic Works & Engineering-PWEHouston Police Department-HPDPublic Works & Engineering-PWEParks & RecreationHouston Fire Department (HFD)Houston Police Department-HPDPublic Works & Engineering-PWEHouston Fire Department (HFD)Houston Fire Department (HFD)Health & Human ServicesPublic Works & Engineering-PWEHouston Fire Department (HFD)Public Works & Engineering-PWEHealth & Human ServicesHouston Fire Department (HFD)Houston Airport System (HAS)Houston Fire Department (HFD)Houston Police Department-HPDHouston Police Department-HPDPublic Works & Engineering-PWEHouston Police Department-HPDParks & RecreationPublic Works & Engineering-PWEHouston Police Department-HPDHouston Fire Department (HFD)Houston Police Department-HPDPublic Works & Engineering-PWEPublic Works & Engineering-PWEHouston Airport System (HAS)Houston Police Department-HPDHouston Fire Department (HFD)Houston Police Department-HPDHouston Fire Department (HFD)Houston Police Department-HPDHouston Fire Department (HFD)Houston Fire Department (HFD)Houston Fire Department (HFD)Houston Police Department-HPDHouston Fire Department (HFD)Houston Police Department-HPDHouston Police Department-HPDHouston Fire Department (HFD)Houston Police Department-HPDHouston Fire Department (HFD)Houston Police Department-HPDHouston Police Department-HPDHouston Fire Department (HFD)Houston Fire Department (HFD)Public Works & Engineering-PWEHouston Police Department-HPDHouston Fire Department (HFD)Houston Police Department-HPDPublic Works & Engineering-PWEHouston Police Department-HPDHouston Fire Department (HFD)Houston Police Department-HPDPublic Works & Engineering-PWEHouston Police Department-HPDHouston Fire Department (HFD)Public Works & Engineering-PWEPublic Works & Engineering-PWEParks & RecreationHouston Police Department-HPDHouston Police Department-HPDHouston Fire Department (HFD)Houston Police Department-HPDHouston Fire Department (HFD)Public Works & Engineering-PWEHouston Police Department-HPDHouston Fire Department (HFD)Public Works & Engineering-PWEHouston Airport System (HAS)Parks & RecreationHouston Fire Department (HFD)Public Works & Engineering-PWEHealth & Human ServicesHouston Police Department-HPDHealth & Human ServicesHouston Fire Department (HFD)Houston Fire Department (HFD)Parks & RecreationHouston Airport System (HAS)Public Works & Engineering-PWEHouston Fire Department (HFD)Houston Police Department-HPDHouston Police Department-HPDHouston Airport System (HAS)Houston Airport System (HAS)Houston Fire Department (HFD)Public Works & Engineering-PWEPublic Works & Engineering-PWEParks & RecreationHouston Police Department-HPDHouston Airport System (HAS)Houston Police Department-HPDHouston Airport System (HAS)Public Works & Engineering-PWEPublic Works & Engineering-PWEHouston Airport System (HAS)Parks & RecreationHouston Fire Department (HFD)Houston Police Department-HPDHouston Fire Department (HFD)Parks & RecreationHouston Police Department-HPDHouston Fire Department (HFD)Houston Airport System (HAS)Public Works & Engineering-PWEHouston Police Department-HPDHealth & Human ServicesPublic Works & Engineering-PWEPublic Works & Engineering-PWEHouston Fire Department (HFD)Public Works & Engineering-PWEHouston Police Department-HPDHouston Police Department-HPDHouston Police Department-HPDParks & RecreationHouston Airport System (HAS)Houston Airport System (HAS)Houston Fire Department (HFD)Houston Fire Department (HFD)Public Works & Engineering-PWEHouston Airport System (HAS)Houston Police Department-HPDHouston Fire Department (HFD)Houston Fire Department (HFD)Public Works & Engineering-PWEHouston Fire Department (HFD)Houston Police Department-HPDHouston Fire Department (HFD)Houston Police Department-HPDPublic Works & Engineering-PWEHouston Fire Department (HFD)Houston Police Department-HPDPublic Works & Engineering-PWEHouston Fire Department (HFD)Houston Fire Department (HFD)Houston Police Department-HPDHouston Police Department-HPDHouston Police Department-HPDHouston Police Department-HPDHealth & Human ServicesHouston Airport System (HAS)Houston Fire Department (HFD)Houston Fire Department (HFD)Houston Police Department-HPDHouston Police Department-HPDHouston Fire Department (HFD)Houston Fire Department (HFD)Houston Police Department-HPDHouston Police Department-HPDHouston Police Department-HPDParks & RecreationHealth & Human ServicesHouston Fire Department (HFD)Houston Police Department-HPDHouston Police Department-HPDHealth & Human ServicesHouston Police Department-HPDHouston Fire Department (HFD)Houston Police Department-HPDHouston Fire Department (HFD)Houston Police Department-HPDHouston Fire Department (HFD)Houston Police Department-HPDHouston Fire Department (HFD)Houston Police Department-HPDHouston Police Department-HPDHealth & Human ServicesHouston Police Department-HPDHouston Police Department-HPDHouston Police Department-HPDHouston Airport System (HAS)Health & Human ServicesPublic Works & Engineering-PWEHouston Police Department-HPDHouston Police Department-HPDHouston Fire Department (HFD)Houston Airport System (HAS)Health & Human ServicesHouston Police Department-HPDHouston Police Department-HPDHealth & Human ServicesHouston Police Department-HPDHouston Police Department-HPDPublic Works & Engineering-PWEHouston Police Department-HPDHouston Fire Department (HFD)Parks & RecreationHouston Police Department-HPDHouston Police Department-HPDPublic Works & Engineering-PWEHouston Fire Department (HFD)Houston Police Department-HPDHealth & Human ServicesHealth & Human ServicesParks & RecreationHouston Fire Department (HFD)Houston Fire Department (HFD)Public Works & Engineering-PWEPublic Works & Engineering-PWEParks & RecreationHealth & Human ServicesHouston Police Department-HPDHouston Fire Department (HFD)Houston Police Department-HPDHouston Airport System (HAS)Houston Airport System (HAS)Houston Police Department-HPDHouston Fire Department (HFD)Houston Fire Department (HFD)Health & Human ServicesHouston Fire Department (HFD)Public Works & Engineering-PWEHouston Airport System (HAS)Public Works & Engineering-PWEPublic Works & Engineering-PWEHouston Fire Department (HFD)Houston Police Department-HPDHouston Fire Department (HFD)Houston Police Department-HPDHouston Police Department-HPDParks & RecreationHouston Police Department-HPDHouston Police Department-HPDPublic Works & Engineering-PWEHouston Fire Department (HFD)Houston Fire Department (HFD)Houston Police Department-HPDHouston Fire Department (HFD)Public Works & Engineering-PWEHouston Fire Department (HFD)Houston Police Department-HPDHouston Police Department-HPDHouston Police Department-HPDHouston Police Department-HPDHouston Police Department-HPDHouston Airport System (HAS)Houston Police Department-HPDHouston Fire Department (HFD)Public Works & Engineering-PWEHouston Fire Department (HFD)Houston Fire Department (HFD)Public Works & Engineering-PWEHouston Police Department-HPDHouston Police Department-HPDHouston Police Department-HPDHouston Police Department-HPDHealth & Human ServicesPublic Works & Engineering-PWEHouston Police Department-HPDHouston Police Department-HPDHouston Fire Department (HFD)Houston Police Department-HPDHouston Fire Department (HFD)Houston Fire Department (HFD)Health & Human ServicesHouston Fire Department (HFD)Public Works & Engineering-PWEHouston Police Department-HPDPublic Works & Engineering-PWEHouston Airport System (HAS)Houston Police Department-HPDHouston Fire Department (HFD)Houston Fire Department (HFD)Parks & RecreationHouston Fire Department (HFD)Public Works & Engineering-PWEParks & RecreationHouston Police Department-HPDPublic Works & Engineering-PWEPublic Works & Engineering-PWEHouston Police Department-HPDHouston Police Department-HPDHouston Police Department-HPDHouston Police Department-HPDPublic Works & Engineering-PWEHouston Police Department-HPDHouston Fire Department (HFD)Houston Fire Department (HFD)Houston Police Department-HPDHouston Police Department-HPDPublic Works & Engineering-PWEHouston Police Department-HPDPublic Works & Engineering-PWEPublic Works & Engineering-PWEHouston Police Department-HPDPublic Works & Engineering-PWEHouston Police Department-HPDHouston Police Department-HPDHouston Fire Department (HFD)Public Works & Engineering-PWEParks & RecreationHouston Fire Department (HFD)Houston Fire Department (HFD)Houston Fire Department (HFD)Houston Police Department-HPDHouston Police Department-HPDHouston Fire Department (HFD)Public Works & Engineering-PWEHouston Fire Department (HFD)Houston Airport System (HAS)Public Works & Engineering-PWEHouston Police Department-HPDHouston Police Department-HPDHealth & Human ServicesPublic Works & Engineering-PWEHouston Airport System (HAS)Houston Police Department-HPDHouston Airport System (HAS)Parks & RecreationPublic Works & Engineering-PWEPublic Works & Engineering-PWEHouston Fire Department (HFD)Houston Fire Department (HFD)Public Works & Engineering-PWEHouston Fire Department (HFD)Public Works & Engineering-PWEHouston Fire Department (HFD)Parks & RecreationHouston Police Department-HPDPublic Works & Engineering-PWEHouston Police Department-HPDHouston Airport System (HAS)Houston Police Department-HPDHouston Police Department-HPDPublic Works & Engineering-PWEParks & RecreationHouston Police Department-HPDHouston Police Department-HPDHouston Police Department-HPDHouston Police Department-HPDHouston Fire Department (HFD)Houston Fire Department (HFD)Houston Police Department-HPDPublic Works & Engineering-PWEParks & RecreationHouston Fire Department (HFD)Public Works & Engineering-PWEHouston Police Department-HPDHouston Fire Department (HFD)Houston Police Department-HPDHouston Fire Department (HFD)Houston Police Department-HPDHouston Airport System (HAS)Houston Fire Department (HFD)Houston Police Department-HPDHouston Police Department-HPDHouston Police Department-HPDHouston Police Department-HPDHouston Fire Department (HFD)Public Works & Engineering-PWEPublic Works & Engineering-PWEHouston Fire Department (HFD)Parks & RecreationPublic Works & Engineering-PWEPublic Works & Engineering-PWEHouston Police Department-HPDHealth & Human ServicesHouston Fire Department (HFD)Parks & RecreationPublic Works & Engineering-PWEHouston Police Department-HPDHouston Police Department-HPDParks & RecreationHouston Police Department-HPDHouston Fire Department (HFD)Houston Police Department-HPDHouston Police Department-HPDPublic Works & Engineering-PWEHouston Fire Department (HFD)Public Works & Engineering-PWEHouston Fire Department (HFD)Public Works & Engineering-PWEHouston Police Department-HPDHouston Police Department-HPDHouston Police Department-HPDPublic Works & Engineering-PWEHouston Police Department-HPDHouston Police Department-HPDHouston Fire Department (HFD)Health & Human ServicesHouston Fire Department (HFD)Houston Police Department-HPDPublic Works & Engineering-PWEParks & RecreationHouston Fire Department (HFD)Houston Police Department-HPDHouston Police Department-HPDPublic Works & Engineering-PWEHouston Police Department-HPDParks & RecreationHouston Police Department-HPDHouston Police Department-HPDHouston Police Department-HPDHouston Police Department-HPDHouston Airport System (HAS)Houston Fire Department (HFD)Houston Fire Department (HFD)Houston Fire Department (HFD)Houston Police Department-HPDHouston Police Department-HPDPublic Works & Engineering-PWEPublic Works & Engineering-PWEHouston Police Department-HPDHouston Police Department-HPDPublic Works & Engineering-PWEHouston Police Department-HPDHouston Airport System (HAS)Houston Fire Department (HFD)Health & Human ServicesPublic Works & Engineering-PWEHouston Fire Department (HFD)Houston Police Department-HPDHealth & Human ServicesPublic Works & Engineering-PWEHealth & Human ServicesHouston Airport System (HAS)Health & Human ServicesPublic Works & Engineering-PWEHouston Police Department-HPDPublic Works & Engineering-PWEHouston Police Department-HPDHouston Police Department-HPDPublic Works & Engineering-PWEHouston Fire Department (HFD)Houston Police Department-HPDHouston Fire Department (HFD)Public Works & Engineering-PWEPublic Works & Engineering-PWEHouston Fire Department (HFD)Parks & RecreationHouston Fire Department (HFD)Houston Fire Department (HFD)Public Works & Engineering-PWEHouston Fire Department (HFD)Houston Airport System (HAS)Houston Police Department-HPDHouston Fire Department (HFD)Public Works & Engineering-PWEHouston Police Department-HPDHouston Airport System (HAS)Health & Human ServicesHouston Police Department-HPDHealth & Human ServicesHouston Fire Department (HFD)Houston Police Department-HPDHouston Airport System (HAS)Houston Police Department-HPDPublic Works & Engineering-PWEHouston Police Department-HPDPublic Works & Engineering-PWEHouston Fire Department (HFD)Houston Fire Department (HFD)Parks & RecreationHouston Police Department-HPDHealth & Human ServicesHouston Fire Department (HFD)Public Works & Engineering-PWEHouston Police Department-HPDHouston Fire Department (HFD)Parks & RecreationHouston Police Department-HPDHealth & Human ServicesHouston Fire Department (HFD)Houston Fire Department (HFD)Health & Human ServicesHouston Police Department-HPDPublic Works & Engineering-PWEHouston Fire Department (HFD)Houston Fire Department (HFD)Houston Fire Department (HFD)Houston Airport System (HAS)Houston Airport System (HAS)Houston Fire Department (HFD)Public Works & Engineering-PWEHouston Police Department-HPDPublic Works & Engineering-PWEHealth & Human ServicesHouston Police Department-HPDHouston Police Department-HPDHouston Airport System (HAS)Houston Fire Department (HFD)Houston Police Department-HPDHouston Police Department-HPDHouston Airport System (HAS)Houston Police Department-HPDHouston Fire Department (HFD)Houston Police Department-HPDHealth & Human ServicesHouston Police Department-HPDHouston Police Department-HPDHouston Police Department-HPDPublic Works & Engineering-PWEHouston Police Department-HPDPublic Works & Engineering-PWEHouston Police Department-HPDHouston Airport System (HAS)Public Works & Engineering-PWEHouston Airport System (HAS)Public Works & Engineering-PWEParks & RecreationHouston Police Department-HPDPublic Works & Engineering-PWEHouston Police Department-HPDHouston Police Department-HPDHouston Police Department-HPDHouston Police Department-HPDPublic Works & Engineering-PWEPublic Works & Engineering-PWEHouston Police Department-HPDHouston Fire Department (HFD)Public Works & Engineering-PWEHouston Police Department-HPDHouston Police Department-HPDHouston Police Department-HPDHouston Police Department-HPDHealth & Human ServicesHouston Police Department-HPDHouston Police Department-HPDHouston Police Department-HPDHouston Fire Department (HFD)Public Works & Engineering-PWEHouston Police Department-HPDHouston Airport System (HAS)Houston Police Department-HPDHouston Police Department-HPDHouston Police Department-HPDHouston Police Department-HPDHouston Fire Department (HFD)Houston Fire Department (HFD)Houston Fire Department (HFD)Houston Police Department-HPDHouston Police Department-HPDPublic Works & Engineering-PWEParks & RecreationHouston Police Department-HPDHouston Airport System (HAS)Houston Police Department-HPDHouston Police Department-HPDHouston Police Department-HPDHouston Fire Department (HFD)Houston Police Department-HPDHouston Police Department-HPDHouston Fire Department (HFD) to numeric"
     ]
    }
   ],
   "source": [
    "dept.mean()"
   ]
  },
  {
   "cell_type": "markdown",
   "metadata": {},
   "source": [
    "### Other methods do work\n",
    "Many of the other methods we covered from the previous two notebooks will work just fine with string columns such as finding the maximum department - maximum being that department with the highest alphabetical letter."
   ]
  },
  {
   "cell_type": "code",
   "execution_count": 9,
   "metadata": {},
   "outputs": [
    {
     "data": {
      "text/plain": [
       "'Public Works & Engineering-PWE'"
      ]
     },
     "execution_count": 9,
     "metadata": {},
     "output_type": "execute_result"
    }
   ],
   "source": [
    "dept.max()"
   ]
  },
  {
   "cell_type": "markdown",
   "metadata": {},
   "source": [
    "Calculate number of missing values:"
   ]
  },
  {
   "cell_type": "code",
   "execution_count": 10,
   "metadata": {},
   "outputs": [
    {
     "data": {
      "text/plain": [
       "0"
      ]
     },
     "execution_count": 10,
     "metadata": {},
     "output_type": "execute_result"
    }
   ],
   "source": [
    "dept.isna().sum()"
   ]
  },
  {
   "cell_type": "markdown",
   "metadata": {},
   "source": [
    "## Valuable method for string columns: `value_counts`\n",
    "The **`value_counts`** method is one of the most valuable methods for string columns. It returns the frequency of each value in the Series and sorts it from most to least common."
   ]
  },
  {
   "cell_type": "code",
   "execution_count": 11,
   "metadata": {},
   "outputs": [
    {
     "data": {
      "text/plain": [
       "Houston Police Department-HPD     638\n",
       "Houston Fire Department (HFD)     384\n",
       "Public Works & Engineering-PWE    343\n",
       "Health & Human Services           108\n",
       "Houston Airport System (HAS)      106\n",
       "Parks & Recreation                 74\n",
       "Name: dept, dtype: int64"
      ]
     },
     "execution_count": 11,
     "metadata": {},
     "output_type": "execute_result"
    }
   ],
   "source": [
    "dept.value_counts()"
   ]
  },
  {
   "cell_type": "markdown",
   "metadata": {},
   "source": [
    "## Notice what object is returned\n",
    "The **`value_counts`** method returns a Series object itself with the old values as the index and the count as the new values."
   ]
  },
  {
   "cell_type": "markdown",
   "metadata": {},
   "source": [
    "### Use `normalize=True` for proportion\n",
    "We can use **`value_counts`** to return the proportion of each occurrence instead of the raw count by setting parameter **`normalize`** to **`True`**. For instance, this tells us that 32% of the employees are members of the police department."
   ]
  },
  {
   "cell_type": "code",
   "execution_count": 12,
   "metadata": {},
   "outputs": [
    {
     "data": {
      "text/plain": [
       "Houston Police Department-HPD     0.385965\n",
       "Houston Fire Department (HFD)     0.232305\n",
       "Public Works & Engineering-PWE    0.207502\n",
       "Health & Human Services           0.065336\n",
       "Houston Airport System (HAS)      0.064126\n",
       "Parks & Recreation                0.044767\n",
       "Name: dept, dtype: float64"
      ]
     },
     "execution_count": 12,
     "metadata": {},
     "output_type": "execute_result"
    }
   ],
   "source": [
    "dept.value_counts(normalize=True)"
   ]
  },
  {
   "cell_type": "markdown",
   "metadata": {},
   "source": [
    "### `value_counts` also works for columns of all types\n",
    "The **`value_counts`** method works for all columns of all types and not just strings. It's just usually more informative for string columns. Let's use it on the salary column to see if we have common salaries."
   ]
  },
  {
   "cell_type": "code",
   "execution_count": 13,
   "metadata": {},
   "outputs": [
    {
     "data": {
      "text/plain": [
       "66614.0    157\n",
       "55461.0     68\n",
       "81239.0     59\n",
       "62540.0     38\n",
       "47650.0     37\n",
       "70181.0     31\n",
       "60347.0     30\n",
       "66523.0     29\n",
       "63166.0     29\n",
       "26125.0     28\n",
       "Name: salary, dtype: int64"
      ]
     },
     "execution_count": 13,
     "metadata": {},
     "output_type": "execute_result"
    }
   ],
   "source": [
    "emp['salary'].value_counts().head(10)"
   ]
  },
  {
   "cell_type": "markdown",
   "metadata": {},
   "source": [
    "# Special methods just for object columns\n",
    "Pandas provides a collection of methods only available to object columns with the **str accessor**. The str accessor is only available to Series objects with data type of **object**. It provides a few dozen methods for string manipulation.\n",
    "\n",
    "### Access with dot notation\n",
    "To access these special string methods, first append the Series object with `.str` followed by another dot and then the specific string method.\n",
    "\n",
    "### Make each value uppercase\n",
    "Let's call a simple string method to make each value in the **`dept`** Series uppercase. We will use the **`upper`** method of the str accessor.\n",
    "\n",
    "[1]: http://pandas.pydata.org/pandas-docs/stable/api.html#string-handling"
   ]
  },
  {
   "cell_type": "code",
   "execution_count": 14,
   "metadata": {},
   "outputs": [
    {
     "data": {
      "text/plain": [
       "0     HOUSTON POLICE DEPARTMENT-HPD\n",
       "1     HOUSTON FIRE DEPARTMENT (HFD)\n",
       "2     HOUSTON POLICE DEPARTMENT-HPD\n",
       "3    PUBLIC WORKS & ENGINEERING-PWE\n",
       "4      HOUSTON AIRPORT SYSTEM (HAS)\n",
       "Name: dept, dtype: object"
      ]
     },
     "execution_count": 14,
     "metadata": {},
     "output_type": "execute_result"
    }
   ],
   "source": [
    "dept.str.upper().head()"
   ]
  },
  {
   "cell_type": "markdown",
   "metadata": {},
   "source": [
    "### `str` accessor API\n",
    "Take a look at the [str accessor API][1] in the official documentation.\n",
    "\n",
    "[1]: http://pandas.pydata.org/pandas-docs/stable/api.html#string-handling"
   ]
  },
  {
   "cell_type": "markdown",
   "metadata": {},
   "source": [
    "### Lot's of methods but mostly easy to use\n",
    "There is quite a lot of functionality to manipulate and probe strings in almost any way you can imagine. Let's work through some examples of the following string methods:\n",
    "\n",
    "* **`count`**\n",
    "* **`contains`**\n",
    "* **`find`**\n",
    "* **`len`**\n",
    "* **`split`**\n",
    "* **`replace`**"
   ]
  },
  {
   "cell_type": "markdown",
   "metadata": {},
   "source": [
    "### `count` str method\n",
    "Returns the count of the passed string:"
   ]
  },
  {
   "cell_type": "code",
   "execution_count": 15,
   "metadata": {},
   "outputs": [
    {
     "data": {
      "text/plain": [
       "0    1\n",
       "1    1\n",
       "2    1\n",
       "3    0\n",
       "4    0\n",
       "Name: dept, dtype: int64"
      ]
     },
     "execution_count": 15,
     "metadata": {},
     "output_type": "execute_result"
    }
   ],
   "source": [
    "dept.str.count('a').head()"
   ]
  },
  {
   "cell_type": "code",
   "execution_count": 16,
   "metadata": {},
   "outputs": [
    {
     "data": {
      "text/plain": [
       "0    1\n",
       "1    1\n",
       "2    1\n",
       "3    0\n",
       "4    0\n",
       "Name: dept, dtype: int64"
      ]
     },
     "execution_count": 16,
     "metadata": {},
     "output_type": "execute_result"
    }
   ],
   "source": [
    "dept.str.count('Department').head()"
   ]
  },
  {
   "cell_type": "markdown",
   "metadata": {},
   "source": [
    "### `contains` str method\n",
    "Returns a boolean whether or not the passed string is contained somewhere within the string. Let's determine if any departments contain the letter **z**?"
   ]
  },
  {
   "cell_type": "code",
   "execution_count": 17,
   "metadata": {},
   "outputs": [
    {
     "data": {
      "text/plain": [
       "0    False\n",
       "1    False\n",
       "2    False\n",
       "3    False\n",
       "4    False\n",
       "Name: dept, dtype: bool"
      ]
     },
     "execution_count": 17,
     "metadata": {},
     "output_type": "execute_result"
    }
   ],
   "source": [
    "dept.str.contains('z').head()"
   ]
  },
  {
   "cell_type": "code",
   "execution_count": 18,
   "metadata": {},
   "outputs": [
    {
     "data": {
      "text/plain": [
       "0"
      ]
     },
     "execution_count": 18,
     "metadata": {},
     "output_type": "execute_result"
    }
   ],
   "source": [
    "dept.str.contains('z').sum()"
   ]
  },
  {
   "cell_type": "markdown",
   "metadata": {},
   "source": [
    "### `find` str method\n",
    "Returns the lowest index (the integer location) of the passed string. If not found returns -1."
   ]
  },
  {
   "cell_type": "code",
   "execution_count": 19,
   "metadata": {},
   "outputs": [
    {
     "data": {
      "text/plain": [
       "0    18\n",
       "1    16\n",
       "2    18\n",
       "3    -1\n",
       "4    -1\n",
       "5    -1\n",
       "6    -1\n",
       "7    16\n",
       "8     2\n",
       "9    -1\n",
       "Name: dept, dtype: int64"
      ]
     },
     "execution_count": 19,
     "metadata": {},
     "output_type": "execute_result"
    }
   ],
   "source": [
    "dept.str.find('a').head(10)"
   ]
  },
  {
   "cell_type": "markdown",
   "metadata": {},
   "source": [
    "### `len` str method\n",
    "Returns the length of each string."
   ]
  },
  {
   "cell_type": "code",
   "execution_count": 20,
   "metadata": {},
   "outputs": [
    {
     "data": {
      "text/plain": [
       "0    29\n",
       "1    29\n",
       "2    29\n",
       "3    30\n",
       "4    28\n",
       "Name: dept, dtype: int64"
      ]
     },
     "execution_count": 20,
     "metadata": {},
     "output_type": "execute_result"
    }
   ],
   "source": [
    "dept.str.len().head()"
   ]
  },
  {
   "cell_type": "markdown",
   "metadata": {},
   "source": [
    "# Exercises"
   ]
  },
  {
   "cell_type": "markdown",
   "metadata": {},
   "source": [
    "### Problem 1\n",
    "<span  style=\"color:green; font-size:16px\">Read in the movie dataset and set the title as the index. Assign the actor 1 column to its own Series variable. Make sure to drop missing values from this Series before assigning it. Which actor 1 has appeared in the most movies? Can you write an expression that returns this actors name as a string?</span>"
   ]
  },
  {
   "cell_type": "code",
   "execution_count": 21,
   "metadata": {},
   "outputs": [
    {
     "data": {
      "text/plain": [
       "Robert De Niro             48\n",
       "Johnny Depp                36\n",
       "Nicolas Cage               32\n",
       "Matt Damon                 29\n",
       "J.K. Simmons               29\n",
       "Denzel Washington          29\n",
       "Bruce Willis               28\n",
       "Steve Buscemi              27\n",
       "Liam Neeson                27\n",
       "Harrison Ford              27\n",
       "Robin Williams             27\n",
       "Robert Downey Jr.          26\n",
       "Bill Murray                26\n",
       "Jason Statham              25\n",
       "Tom Hanks                  24\n",
       "Tom Cruise                 24\n",
       "Morgan Freeman             23\n",
       "Gerard Butler              22\n",
       "Keanu Reeves               22\n",
       "Kevin Spacey               22\n",
       "Christian Bale             22\n",
       "Anthony Hopkins            21\n",
       "Leonardo DiCaprio          20\n",
       "Matthew McConaughey        20\n",
       "Sylvester Stallone         20\n",
       "Will Ferrell               20\n",
       "Scarlett Johansson         20\n",
       "Philip Seymour Hoffman     20\n",
       "Will Smith                 19\n",
       "Hugh Jackman               18\n",
       "                           ..\n",
       "Quinton Aaron               1\n",
       "Jaime Camil                 1\n",
       "Elaine Bromka               1\n",
       "Robert Picardo              1\n",
       "Chris Marquette             1\n",
       "William Baldwin             1\n",
       "Barry Bostwick              1\n",
       "Peter Capaldi               1\n",
       "Maribel Verdú               1\n",
       "Tony Nappo                  1\n",
       "Noah Huntley                1\n",
       "Catriona MacColl            1\n",
       "Mike Stanley                1\n",
       "Stephen Collins             1\n",
       "Brian Lee Franklin          1\n",
       "Jill Hennessy               1\n",
       "Fernanda Andrade            1\n",
       "Thomas Lennon               1\n",
       "Tyler Labine                1\n",
       "Wes Studi                   1\n",
       "Brendon Small               1\n",
       "Luke Newberry               1\n",
       "Jason Alexander             1\n",
       "Alex Huszar                 1\n",
       "William Morgan Sheppard     1\n",
       "David Wayne                 1\n",
       "S. Epatha Merkerson         1\n",
       "Noah Bean                   1\n",
       "Ty Parker                   1\n",
       "Glen Hansard                1\n",
       "Name: actor1, Length: 2095, dtype: int64"
      ]
     },
     "execution_count": 21,
     "metadata": {},
     "output_type": "execute_result"
    }
   ],
   "source": [
    "movie = pd.read_csv('../data/movie.csv', index_col='title')\n",
    "actor1 = movie['actor1'].dropna()\n",
    "actor1.value_counts()"
   ]
  },
  {
   "cell_type": "code",
   "execution_count": 22,
   "metadata": {},
   "outputs": [
    {
     "data": {
      "text/plain": [
       "'Robert De Niro'"
      ]
     },
     "execution_count": 22,
     "metadata": {},
     "output_type": "execute_result"
    }
   ],
   "source": [
    "actor1.value_counts().index[0]"
   ]
  },
  {
   "cell_type": "markdown",
   "metadata": {},
   "source": [
    "### Problem 2\n",
    "<span  style=\"color:green; font-size:16px\">What percent of movies have the top 100 most frequent actor 1's appeared in?</span>"
   ]
  },
  {
   "cell_type": "code",
   "execution_count": 23,
   "metadata": {},
   "outputs": [
    {
     "data": {
      "text/plain": [
       "0.325117131798737"
      ]
     },
     "execution_count": 23,
     "metadata": {},
     "output_type": "execute_result"
    }
   ],
   "source": [
    "actor1.value_counts(normalize=True).iloc[:100].sum()"
   ]
  },
  {
   "cell_type": "markdown",
   "metadata": {},
   "source": [
    "### Problem 3\n",
    "<span  style=\"color:green; font-size:16px\">How many actor 1's have appeared in exactly one movie?</span>"
   ]
  },
  {
   "cell_type": "code",
   "execution_count": 24,
   "metadata": {},
   "outputs": [
    {
     "data": {
      "text/plain": [
       "1379"
      ]
     },
     "execution_count": 24,
     "metadata": {},
     "output_type": "execute_result"
    }
   ],
   "source": [
    "actor = actor1.value_counts()==1\n",
    "actor.sum()"
   ]
  },
  {
   "cell_type": "markdown",
   "metadata": {},
   "source": [
    "### Problem 4\n",
    "<span  style=\"color:green; font-size:16px\">How many actor 1's have more than 3 e's in their name? Output a unique array of just these actor names so we can manually verify them.</span>"
   ]
  },
  {
   "cell_type": "code",
   "execution_count": 25,
   "metadata": {},
   "outputs": [
    {
     "data": {
      "text/plain": [
       "123"
      ]
     },
     "execution_count": 25,
     "metadata": {},
     "output_type": "execute_result"
    }
   ],
   "source": [
    "actor1 = actor1.str.lower()\n",
    "actor_e = actor1.str.count('e') > 3\n",
    "actor_e.sum()\n",
    "#actor1[actor_e].nunique()"
   ]
  },
  {
   "cell_type": "code",
   "execution_count": 26,
   "metadata": {},
   "outputs": [
    {
     "data": {
      "text/plain": [
       "array(['jennifer lawrence', 'keanu reeves', 'seychelle gabriel',\n",
       "       'jeremy renner', 'amber stevens west', 'rupert everett',\n",
       "       'peter greene', 'eileen brennan', 'steven anthony lawrence',\n",
       "       'cedric the entertainer', 'sean pertwee', 'xander berkeley',\n",
       "       'eddie redmayne', 'jennifer ehle', 'kathleen freeman',\n",
       "       'alden ehrenreich', 'pierre perrier', 'catherine deneuve',\n",
       "       'george kennedy', 'leighton meester', 'steve guttenberg',\n",
       "       'ernie reyes jr.', 'emmanuelle vaugier', 'emmanuelle seigner',\n",
       "       'jurnee smollett-bell', 'steve oedekerk',\n",
       "       'johannes silberschneider', 'bernadette peters',\n",
       "       'jacqueline mckenzie', 'dee bradley baker', 'jennifer freeman',\n",
       "       'eugenio derbez', 'gene tierney', 'roscoe lee browne',\n",
       "       'ed speleers', 'joe estevez', 'phoebe legere',\n",
       "       'eric sheffer stevens', 'michael greyeyes', 'steven weber',\n",
       "       'george newbern', 'florence henderson', 'michelle simone miller',\n",
       "       'chemeeka walker', 'fereshteh sadre orafaiy'], dtype=object)"
      ]
     },
     "execution_count": 26,
     "metadata": {},
     "output_type": "execute_result"
    }
   ],
   "source": [
    "actor1[actor_e].unique()"
   ]
  },
  {
   "cell_type": "markdown",
   "metadata": {},
   "source": [
    "### Problem 5\n",
    "<span  style=\"color:green; font-size:16px\">Get a unique list of all actors that have the name 'Johnson' as part of their name.</span>"
   ]
  },
  {
   "cell_type": "code",
   "execution_count": 27,
   "metadata": {},
   "outputs": [
    {
     "data": {
      "text/plain": [
       "array(['don johnson', 'dwayne johnson', 'richard johnson', 'eric johnson',\n",
       "       'bill johnson', 'nicole randall johnson', 'r. brandon johnson'],\n",
       "      dtype=object)"
      ]
     },
     "execution_count": 27,
     "metadata": {},
     "output_type": "execute_result"
    }
   ],
   "source": [
    "actor1[actor1.str.contains('johnson').values].unique()"
   ]
  },
  {
   "cell_type": "code",
   "execution_count": 28,
   "metadata": {},
   "outputs": [
    {
     "data": {
      "text/plain": [
       "7"
      ]
     },
     "execution_count": 28,
     "metadata": {},
     "output_type": "execute_result"
    }
   ],
   "source": [
    "actor1[actor1.str.contains('johnson').values].nunique()"
   ]
  },
  {
   "cell_type": "markdown",
   "metadata": {},
   "source": [
    "### Problem 6\n",
    "<span  style=\"color:green; font-size:16px\">How many actor 1 names end in 'x'?</span>"
   ]
  },
  {
   "cell_type": "code",
   "execution_count": 29,
   "metadata": {
    "scrolled": true
   },
   "outputs": [
    {
     "data": {
      "text/plain": [
       "28"
      ]
     },
     "execution_count": 29,
     "metadata": {},
     "output_type": "execute_result"
    }
   ],
   "source": [
    "actor1.str.endswith('x').sum()\n"
   ]
  },
  {
   "cell_type": "markdown",
   "metadata": {},
   "source": [
    "### Problem 7\n",
    "<span  style=\"color:green; font-size:16px\">The Pandas string methods overlap with the builtin Python string methods. Find all the public method names that are in-common to both. Then find the public methods that are unique to each.</span>"
   ]
  },
  {
   "cell_type": "code",
   "execution_count": 30,
   "metadata": {},
   "outputs": [],
   "source": [
    "python_str = {method for method in dir(str) if method[0] != '_'} #filtered comprehension\n",
    "pandas_str = {method for method in dir(actor1.str) if method[0] != '_'}"
   ]
  },
  {
   "cell_type": "code",
   "execution_count": 31,
   "metadata": {},
   "outputs": [
    {
     "data": {
      "text/plain": [
       "{'capitalize',\n",
       " 'center',\n",
       " 'count',\n",
       " 'encode',\n",
       " 'endswith',\n",
       " 'find',\n",
       " 'index',\n",
       " 'isalnum',\n",
       " 'isalpha',\n",
       " 'isdecimal',\n",
       " 'isdigit',\n",
       " 'islower',\n",
       " 'isnumeric',\n",
       " 'isspace',\n",
       " 'istitle',\n",
       " 'isupper',\n",
       " 'join',\n",
       " 'ljust',\n",
       " 'lower',\n",
       " 'lstrip',\n",
       " 'partition',\n",
       " 'replace',\n",
       " 'rfind',\n",
       " 'rindex',\n",
       " 'rjust',\n",
       " 'rpartition',\n",
       " 'rsplit',\n",
       " 'rstrip',\n",
       " 'split',\n",
       " 'startswith',\n",
       " 'strip',\n",
       " 'swapcase',\n",
       " 'title',\n",
       " 'translate',\n",
       " 'upper',\n",
       " 'zfill'}"
      ]
     },
     "execution_count": 31,
     "metadata": {},
     "output_type": "execute_result"
    }
   ],
   "source": [
    "common = python_str & pandas_str\n",
    "common"
   ]
  },
  {
   "cell_type": "code",
   "execution_count": 32,
   "metadata": {},
   "outputs": [
    {
     "data": {
      "text/plain": [
       "{'casefold',\n",
       " 'expandtabs',\n",
       " 'format',\n",
       " 'format_map',\n",
       " 'isascii',\n",
       " 'isidentifier',\n",
       " 'isprintable',\n",
       " 'maketrans',\n",
       " 'splitlines'}"
      ]
     },
     "execution_count": 32,
     "metadata": {},
     "output_type": "execute_result"
    }
   ],
   "source": [
    "unique = python_str - pandas_str\n",
    "unique"
   ]
  },
  {
   "cell_type": "code",
   "execution_count": 33,
   "metadata": {},
   "outputs": [
    {
     "data": {
      "text/plain": [
       "{'cat',\n",
       " 'contains',\n",
       " 'decode',\n",
       " 'extract',\n",
       " 'extractall',\n",
       " 'findall',\n",
       " 'get',\n",
       " 'get_dummies',\n",
       " 'len',\n",
       " 'match',\n",
       " 'normalize',\n",
       " 'pad',\n",
       " 'repeat',\n",
       " 'slice',\n",
       " 'slice_replace',\n",
       " 'wrap'}"
      ]
     },
     "execution_count": 33,
     "metadata": {},
     "output_type": "execute_result"
    }
   ],
   "source": [
    "unique1 = pandas_str - python_str\n",
    "unique1"
   ]
  },
  {
   "cell_type": "code",
   "execution_count": 34,
   "metadata": {},
   "outputs": [
    {
     "data": {
      "text/plain": [
       "36"
      ]
     },
     "execution_count": 34,
     "metadata": {},
     "output_type": "execute_result"
    }
   ],
   "source": [
    "len(common)"
   ]
  },
  {
   "cell_type": "code",
   "execution_count": 35,
   "metadata": {},
   "outputs": [
    {
     "data": {
      "text/plain": [
       "9"
      ]
     },
     "execution_count": 35,
     "metadata": {},
     "output_type": "execute_result"
    }
   ],
   "source": [
    "len(unique)"
   ]
  },
  {
   "cell_type": "code",
   "execution_count": 36,
   "metadata": {},
   "outputs": [
    {
     "data": {
      "text/plain": [
       "16"
      ]
     },
     "execution_count": 36,
     "metadata": {},
     "output_type": "execute_result"
    }
   ],
   "source": [
    "len(unique1)"
   ]
  },
  {
   "cell_type": "markdown",
   "metadata": {},
   "source": [
    "# Explore More `str` Methods and their parameters\n",
    "In this section below, you can learn and practice with other methods and their parameters. There are much too many to cover all during a lecture and left to you to understand on your own."
   ]
  },
  {
   "cell_type": "markdown",
   "metadata": {},
   "source": [
    "### `split` str method\n",
    "Splits into multiple separate strings based on a given separator. The default separator is a single space. The following splits on each space and returns a Series of lists."
   ]
  },
  {
   "cell_type": "code",
   "execution_count": 37,
   "metadata": {},
   "outputs": [
    {
     "data": {
      "text/plain": [
       "0      [Houston, Police, Department-HPD]\n",
       "1     [Houston, Fire, Department, (HFD)]\n",
       "2      [Houston, Police, Department-HPD]\n",
       "3    [Public, Works, &, Engineering-PWE]\n",
       "4      [Houston, Airport, System, (HAS)]\n",
       "Name: dept, dtype: object"
      ]
     },
     "execution_count": 37,
     "metadata": {},
     "output_type": "execute_result"
    }
   ],
   "source": [
    "dept.str.split().head()"
   ]
  },
  {
   "cell_type": "markdown",
   "metadata": {},
   "source": [
    "Set the **`expand`** parameter to **`True`** to return a DataFrame:"
   ]
  },
  {
   "cell_type": "code",
   "execution_count": 38,
   "metadata": {},
   "outputs": [
    {
     "data": {
      "text/html": [
       "<div>\n",
       "<style scoped>\n",
       "    .dataframe tbody tr th:only-of-type {\n",
       "        vertical-align: middle;\n",
       "    }\n",
       "\n",
       "    .dataframe tbody tr th {\n",
       "        vertical-align: top;\n",
       "    }\n",
       "\n",
       "    .dataframe thead th {\n",
       "        text-align: right;\n",
       "    }\n",
       "</style>\n",
       "<table border=\"1\" class=\"dataframe\">\n",
       "  <thead>\n",
       "    <tr style=\"text-align: right;\">\n",
       "      <th></th>\n",
       "      <th>0</th>\n",
       "      <th>1</th>\n",
       "      <th>2</th>\n",
       "      <th>3</th>\n",
       "    </tr>\n",
       "  </thead>\n",
       "  <tbody>\n",
       "    <tr>\n",
       "      <th>0</th>\n",
       "      <td>Houston</td>\n",
       "      <td>Police</td>\n",
       "      <td>Department-HPD</td>\n",
       "      <td>None</td>\n",
       "    </tr>\n",
       "    <tr>\n",
       "      <th>1</th>\n",
       "      <td>Houston</td>\n",
       "      <td>Fire</td>\n",
       "      <td>Department</td>\n",
       "      <td>(HFD)</td>\n",
       "    </tr>\n",
       "    <tr>\n",
       "      <th>2</th>\n",
       "      <td>Houston</td>\n",
       "      <td>Police</td>\n",
       "      <td>Department-HPD</td>\n",
       "      <td>None</td>\n",
       "    </tr>\n",
       "    <tr>\n",
       "      <th>3</th>\n",
       "      <td>Public</td>\n",
       "      <td>Works</td>\n",
       "      <td>&amp;</td>\n",
       "      <td>Engineering-PWE</td>\n",
       "    </tr>\n",
       "    <tr>\n",
       "      <th>4</th>\n",
       "      <td>Houston</td>\n",
       "      <td>Airport</td>\n",
       "      <td>System</td>\n",
       "      <td>(HAS)</td>\n",
       "    </tr>\n",
       "  </tbody>\n",
       "</table>\n",
       "</div>"
      ],
      "text/plain": [
       "         0        1               2                3\n",
       "0  Houston   Police  Department-HPD             None\n",
       "1  Houston     Fire      Department            (HFD)\n",
       "2  Houston   Police  Department-HPD             None\n",
       "3   Public    Works               &  Engineering-PWE\n",
       "4  Houston  Airport          System            (HAS)"
      ]
     },
     "execution_count": 38,
     "metadata": {},
     "output_type": "execute_result"
    }
   ],
   "source": [
    "dept.str.split(expand=True).head()"
   ]
  },
  {
   "cell_type": "markdown",
   "metadata": {},
   "source": [
    "### `replace` str method\n",
    "You must pass two string arguments to replace - the string you want to replace and its replacement value."
   ]
  },
  {
   "cell_type": "code",
   "execution_count": 39,
   "metadata": {},
   "outputs": [
    {
     "data": {
      "text/plain": [
       "0      H-Town Police Department-HPD\n",
       "1      H-Town Fire Department (HFD)\n",
       "2      H-Town Police Department-HPD\n",
       "3    Public Works & Engineering-PWE\n",
       "4       H-Town Airport System (HAS)\n",
       "Name: dept, dtype: object"
      ]
     },
     "execution_count": 39,
     "metadata": {},
     "output_type": "execute_result"
    }
   ],
   "source": [
    "dept.str.replace('Houston', 'H-Town').head()"
   ]
  },
  {
   "cell_type": "markdown",
   "metadata": {},
   "source": [
    "### Selecting substrings with the brackets\n",
    "Selecting a single character of a Python string is simple and accomplished by placing the integer location of the desired character in brackets. Selecting substrings is also quite simple and accomplished by using slice notation in the brackets.\n",
    "\n",
    "Pandas allows us to perform the exact same operation with its **`str`** accessor to select one or more characters of each string. We simply append the brackets to **`str`** and use the same selection process as we do with Python strings. Let's see some examples.\n",
    "\n",
    "Select the character with integer location 5 for each value in the Series:"
   ]
  },
  {
   "cell_type": "code",
   "execution_count": 40,
   "metadata": {},
   "outputs": [
    {
     "data": {
      "text/plain": [
       "0    o\n",
       "1    o\n",
       "2    o\n",
       "3    c\n",
       "4    o\n",
       "Name: dept, dtype: object"
      ]
     },
     "execution_count": 40,
     "metadata": {},
     "output_type": "execute_result"
    }
   ],
   "source": [
    "dept.str[5].head()"
   ]
  },
  {
   "cell_type": "markdown",
   "metadata": {},
   "source": [
    "Select the last 5 characters of each value in the Series:"
   ]
  },
  {
   "cell_type": "code",
   "execution_count": 41,
   "metadata": {},
   "outputs": [
    {
     "data": {
      "text/plain": [
       "0    t-HPD\n",
       "1    (HFD)\n",
       "2    t-HPD\n",
       "3    g-PWE\n",
       "4    (HAS)\n",
       "Name: dept, dtype: object"
      ]
     },
     "execution_count": 41,
     "metadata": {},
     "output_type": "execute_result"
    }
   ],
   "source": [
    "dept.str[-5:].head()"
   ]
  },
  {
   "cell_type": "markdown",
   "metadata": {},
   "source": [
    "Select characters 5 through 15"
   ]
  },
  {
   "cell_type": "code",
   "execution_count": 42,
   "metadata": {},
   "outputs": [
    {
     "data": {
      "text/plain": [
       "0    on Police \n",
       "1    on Fire De\n",
       "2    on Police \n",
       "3    c Works & \n",
       "4    on Airport\n",
       "Name: dept, dtype: object"
      ]
     },
     "execution_count": 42,
     "metadata": {},
     "output_type": "execute_result"
    }
   ],
   "source": [
    "dept.str[5:15].head()"
   ]
  },
  {
   "cell_type": "markdown",
   "metadata": {},
   "source": [
    "# There are dozens of other string methods. Keep practicing below\n",
    "Use the documentation to read about every parameter in each method."
   ]
  },
  {
   "cell_type": "code",
   "execution_count": null,
   "metadata": {},
   "outputs": [],
   "source": []
  },
  {
   "cell_type": "code",
   "execution_count": null,
   "metadata": {},
   "outputs": [],
   "source": []
  }
 ],
 "metadata": {
  "kernelspec": {
   "display_name": "Python 3",
   "language": "python",
   "name": "python3"
  },
  "language_info": {
   "codemirror_mode": {
    "name": "ipython",
    "version": 3
   },
   "file_extension": ".py",
   "mimetype": "text/x-python",
   "name": "python",
   "nbconvert_exporter": "python",
   "pygments_lexer": "ipython3",
   "version": "3.7.0"
  },
  "varInspector": {
   "cols": {
    "lenName": 16,
    "lenType": 16,
    "lenVar": 40
   },
   "kernels_config": {
    "python": {
     "delete_cmd_postfix": "",
     "delete_cmd_prefix": "del ",
     "library": "var_list.py",
     "varRefreshCmd": "print(var_dic_list())"
    },
    "r": {
     "delete_cmd_postfix": ") ",
     "delete_cmd_prefix": "rm(",
     "library": "var_list.r",
     "varRefreshCmd": "cat(var_dic_list()) "
    }
   },
   "types_to_exclude": [
    "module",
    "function",
    "builtin_function_or_method",
    "instance",
    "_Feature"
   ],
   "window_display": false
  }
 },
 "nbformat": 4,
 "nbformat_minor": 2
}
