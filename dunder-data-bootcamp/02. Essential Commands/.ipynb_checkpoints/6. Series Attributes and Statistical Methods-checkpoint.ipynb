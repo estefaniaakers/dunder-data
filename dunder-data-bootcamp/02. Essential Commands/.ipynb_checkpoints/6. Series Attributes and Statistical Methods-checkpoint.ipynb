{
 "cells": [
  {
   "cell_type": "markdown",
   "metadata": {},
   "source": [
    "# 6. Series Attributes and Statistical Methods\n",
    "\n",
    "### Objectives\n",
    "\n",
    "+ Pandas Series and DataFrame objects have a tremendous amount of methods\n",
    "+ Not necessary to know how to use all of them\n",
    "+ A small subset of these methods are sufficient for all data analysis tasks\n",
    "+ Know where to find the Series API\n",
    "+ Know the common attributes\n",
    "+ Overview of the statistical methods\n",
    "+ Distinguish between aggregation and non-aggregation methods\n",
    "+ Know what a vectorized operation is\n",
    "+ Know how to call a method after applying a mathematical operation to a Series"
   ]
  },
  {
   "cell_type": "markdown",
   "metadata": {},
   "source": [
    "### Only selected subsets of data\n",
    "Up to this point, we have only selected subsets of data. We have not changed the data or made any operations on the data. Our selections have happened in two ways:\n",
    "\n",
    "* Selection by label and integer location\n",
    "* Selection by actual values of the DataFrame (Boolean Selection)\n",
    "\n",
    "Both of these methods involve using Python's indexing operator, brackets **`[]`**. Boolean selection formed Series of booleans with the comparison operators, **`<`**, **`>`**, etc...\n",
    "\n",
    "### Calling methods on a Series/DataFrame\n",
    "Selecting subsets of data does not usually require calling methods using dot notation. In this notebook we will call many methods that will perform actions on our DataFrame. We have actually already done some of this with **`head`**, **`tail`**, **`isna`**, and **`set_index`**.\n",
    "\n",
    "There are more than 250 methods available to both DataFrames and Series at your disposal.\n",
    "\n",
    "### Use a small subset of methods\n",
    "It can be quite overwhelming to think about having to learn and memorize this staggering amount of functionality. The good news is that many of these methods are quite unnecessary and don't add any extra functionality. Furthermore, many methods are remnants from the early days of Pandas and have few/no use cases or have been **deprecated**. When a method is deprecated, then it both discouraged from being used and will likely be removed from the library in the future.\n",
    "\n",
    "### Minimally Sufficient Pandas\n",
    "I suggest to use a subset of the Pandas library that allows you to do as many tasks as possible. You should strive to write Pandas as simple as possible to maximize both performance and readability. Since there is so much functionality, power users of Pandas can think of very creative and complex code to accomplish different tasks. This is NOT a positive thing and when working with a group of other data scientists can lead to confusion for those that are not familiar with the syntax.\n",
    "\n",
    "### Knowing lots of tricks doesn't help\n",
    "It is not an uncommon sight to see Pandas experts provide several different to the same question. Nearly all operations can be accomplished with a small subset of the available operations. "
   ]
  },
  {
   "cell_type": "markdown",
   "metadata": {},
   "source": [
    "# Begin with the Series\n",
    "We will begin our exploration of the Pandas library by retrieving attributes and calling methods from Series objects.\n",
    "\n",
    "## View the API for complete list of functionality\n",
    "All modern programming languages use the term, **Application Programming Interface** or **API**, to list and describe all the possible functionality therein. The Pandas API reference can be found [here][1]. This is a huge list, but as mentioned above, only a small subset of this page is needed for the vast majority of tasks.\n",
    "\n",
    "## The best of the Pandas Series API\n",
    "The Pandas Series object is a single column of data and easier to work with than an entire DataFrame. We start with it and cover the most basic and important methods below. Navigate to the [Series API][2] section of Pandas.\n",
    "\n",
    "### City of Houston Employee Data\n",
    "We will use a small public dataset from City of Houston employees with information on their position, race, gender, and salary. Notice that the columns `HIRE_DATE` and `JOB_DATE` can be coerced to datetimes.\n",
    "\n",
    "[1]: http://pandas.pydata.org/pandas-docs/stable/api.html\n",
    "[2]: http://pandas.pydata.org/pandas-docs/stable/api.html#series"
   ]
  },
  {
   "cell_type": "code",
   "execution_count": 1,
   "metadata": {},
   "outputs": [],
   "source": [
    "import pandas as pd"
   ]
  },
  {
   "cell_type": "code",
   "execution_count": 2,
   "metadata": {},
   "outputs": [
    {
     "data": {
      "text/html": [
       "<div>\n",
       "<style scoped>\n",
       "    .dataframe tbody tr th:only-of-type {\n",
       "        vertical-align: middle;\n",
       "    }\n",
       "\n",
       "    .dataframe tbody tr th {\n",
       "        vertical-align: top;\n",
       "    }\n",
       "\n",
       "    .dataframe thead th {\n",
       "        text-align: right;\n",
       "    }\n",
       "</style>\n",
       "<table border=\"1\" class=\"dataframe\">\n",
       "  <thead>\n",
       "    <tr style=\"text-align: right;\">\n",
       "      <th></th>\n",
       "      <th>POSITION_TITLE</th>\n",
       "      <th>DEPARTMENT</th>\n",
       "      <th>BASE_SALARY</th>\n",
       "      <th>RACE</th>\n",
       "      <th>EMPLOYMENT_TYPE</th>\n",
       "      <th>GENDER</th>\n",
       "      <th>EMPLOYMENT_STATUS</th>\n",
       "      <th>HIRE_DATE</th>\n",
       "      <th>JOB_DATE</th>\n",
       "    </tr>\n",
       "  </thead>\n",
       "  <tbody>\n",
       "    <tr>\n",
       "      <th>0</th>\n",
       "      <td>ASSISTANT DIRECTOR (EX LVL)</td>\n",
       "      <td>Municipal Courts Department</td>\n",
       "      <td>121862.0</td>\n",
       "      <td>Hispanic/Latino</td>\n",
       "      <td>Full Time</td>\n",
       "      <td>Female</td>\n",
       "      <td>Active</td>\n",
       "      <td>2006-06-12</td>\n",
       "      <td>2012-10-13</td>\n",
       "    </tr>\n",
       "    <tr>\n",
       "      <th>1</th>\n",
       "      <td>LIBRARY ASSISTANT</td>\n",
       "      <td>Library</td>\n",
       "      <td>26125.0</td>\n",
       "      <td>Hispanic/Latino</td>\n",
       "      <td>Full Time</td>\n",
       "      <td>Female</td>\n",
       "      <td>Active</td>\n",
       "      <td>2000-07-19</td>\n",
       "      <td>2010-09-18</td>\n",
       "    </tr>\n",
       "    <tr>\n",
       "      <th>2</th>\n",
       "      <td>POLICE OFFICER</td>\n",
       "      <td>Houston Police Department-HPD</td>\n",
       "      <td>45279.0</td>\n",
       "      <td>White</td>\n",
       "      <td>Full Time</td>\n",
       "      <td>Male</td>\n",
       "      <td>Active</td>\n",
       "      <td>2015-02-03</td>\n",
       "      <td>2015-02-03</td>\n",
       "    </tr>\n",
       "    <tr>\n",
       "      <th>3</th>\n",
       "      <td>ENGINEER/OPERATOR</td>\n",
       "      <td>Houston Fire Department (HFD)</td>\n",
       "      <td>63166.0</td>\n",
       "      <td>White</td>\n",
       "      <td>Full Time</td>\n",
       "      <td>Male</td>\n",
       "      <td>Active</td>\n",
       "      <td>1982-02-08</td>\n",
       "      <td>1991-05-25</td>\n",
       "    </tr>\n",
       "    <tr>\n",
       "      <th>4</th>\n",
       "      <td>ELECTRICIAN</td>\n",
       "      <td>General Services Department</td>\n",
       "      <td>56347.0</td>\n",
       "      <td>White</td>\n",
       "      <td>Full Time</td>\n",
       "      <td>Male</td>\n",
       "      <td>Active</td>\n",
       "      <td>1989-06-19</td>\n",
       "      <td>1994-10-22</td>\n",
       "    </tr>\n",
       "  </tbody>\n",
       "</table>\n",
       "</div>"
      ],
      "text/plain": [
       "                POSITION_TITLE                     DEPARTMENT  BASE_SALARY  \\\n",
       "0  ASSISTANT DIRECTOR (EX LVL)    Municipal Courts Department     121862.0   \n",
       "1            LIBRARY ASSISTANT                        Library      26125.0   \n",
       "2               POLICE OFFICER  Houston Police Department-HPD      45279.0   \n",
       "3            ENGINEER/OPERATOR  Houston Fire Department (HFD)      63166.0   \n",
       "4                  ELECTRICIAN    General Services Department      56347.0   \n",
       "\n",
       "              RACE EMPLOYMENT_TYPE  GENDER EMPLOYMENT_STATUS  HIRE_DATE  \\\n",
       "0  Hispanic/Latino       Full Time  Female            Active 2006-06-12   \n",
       "1  Hispanic/Latino       Full Time  Female            Active 2000-07-19   \n",
       "2            White       Full Time    Male            Active 2015-02-03   \n",
       "3            White       Full Time    Male            Active 1982-02-08   \n",
       "4            White       Full Time    Male            Active 1989-06-19   \n",
       "\n",
       "    JOB_DATE  \n",
       "0 2012-10-13  \n",
       "1 2010-09-18  \n",
       "2 2015-02-03  \n",
       "3 1991-05-25  \n",
       "4 1994-10-22  "
      ]
     },
     "execution_count": 2,
     "metadata": {},
     "output_type": "execute_result"
    }
   ],
   "source": [
    "emp = pd.read_csv('../data/employee.csv', parse_dates=['HIRE_DATE', 'JOB_DATE'])\n",
    "emp.head()"
   ]
  },
  {
   "cell_type": "markdown",
   "metadata": {},
   "source": [
    "## Select a single column as a Series\n",
    "Let's select the **`BASE_SALARY`** column as a Series and use it to explore the API."
   ]
  },
  {
   "cell_type": "code",
   "execution_count": 3,
   "metadata": {},
   "outputs": [
    {
     "data": {
      "text/plain": [
       "0    121862.0\n",
       "1     26125.0\n",
       "2     45279.0\n",
       "3     63166.0\n",
       "4     56347.0\n",
       "Name: BASE_SALARY, dtype: float64"
      ]
     },
     "execution_count": 3,
     "metadata": {},
     "output_type": "execute_result"
    }
   ],
   "source": [
    "salary = emp['BASE_SALARY']\n",
    "salary.head()"
   ]
  },
  {
   "cell_type": "code",
   "execution_count": 4,
   "metadata": {},
   "outputs": [
    {
     "data": {
      "text/plain": [
       "pandas.core.series.Series"
      ]
     },
     "execution_count": 4,
     "metadata": {},
     "output_type": "execute_result"
    }
   ],
   "source": [
    "type(salary)"
   ]
  },
  {
   "cell_type": "markdown",
   "metadata": {},
   "source": [
    "## Core Series Attributes\n",
    "Pandas Series have [many attributes][1], but only a few are important to know. The attributes to be aware of are:\n",
    "\n",
    "* `index`\n",
    "* `values`\n",
    "* `size`\n",
    "* `dtype`\n",
    "\n",
    "The **`index`** and **`values`** were covered in a previous notebook. Only **`size`** and **`dtype`** are new. The size represents the total number of values in the Series. And the **`dtype`** is the data type of the values. Let's display these now.\n",
    "\n",
    "[1]: http://pandas.pydata.org/pandas-docs/stable/api.html#attributes"
   ]
  },
  {
   "cell_type": "code",
   "execution_count": 21,
   "metadata": {},
   "outputs": [
    {
     "data": {
      "text/plain": [
       "2000"
      ]
     },
     "execution_count": 21,
     "metadata": {},
     "output_type": "execute_result"
    }
   ],
   "source": [
    "salary.size"
   ]
  },
  {
   "cell_type": "code",
   "execution_count": 22,
   "metadata": {},
   "outputs": [
    {
     "data": {
      "text/plain": [
       "dtype('float64')"
      ]
     },
     "execution_count": 22,
     "metadata": {},
     "output_type": "execute_result"
    }
   ],
   "source": [
    "salary.dtype"
   ]
  },
  {
   "cell_type": "markdown",
   "metadata": {},
   "source": [
    "### `len` function instead of `size` attribute\n",
    "The built-in **`len`** function returns the same number as the **`size`** attribute. They are both equally acceptable."
   ]
  },
  {
   "cell_type": "code",
   "execution_count": 20,
   "metadata": {},
   "outputs": [
    {
     "data": {
      "text/plain": [
       "2000"
      ]
     },
     "execution_count": 20,
     "metadata": {},
     "output_type": "execute_result"
    }
   ],
   "source": [
    "len(salary)"
   ]
  },
  {
   "cell_type": "markdown",
   "metadata": {},
   "source": [
    "# Basic Mathematical Operations\n",
    "One of the most basic operations we can do to to a Series of numbers is to complete a basic math operation on each value, such as adding 5 to each value. To do this we simply use the operator symbol with the Series name.\n",
    "\n",
    "### Adding (and other math operations) a number to a Series\n",
    "Let's see some examples of this with a small Series to avoid long output:"
   ]
  },
  {
   "cell_type": "code",
   "execution_count": 11,
   "metadata": {},
   "outputs": [
    {
     "data": {
      "text/plain": [
       "0    121867.0\n",
       "1     26130.0\n",
       "2     45284.0\n",
       "3     63171.0\n",
       "4     56352.0\n",
       "5     66619.0\n",
       "6     71685.0\n",
       "7     42395.0\n",
       "8    107967.0\n",
       "9     44621.0\n",
       "Name: BASE_SALARY, dtype: float64"
      ]
     },
     "execution_count": 11,
     "metadata": {},
     "output_type": "execute_result"
    }
   ],
   "source": [
    "sal_head = salary.head(10)\n",
    "sal_head + 5"
   ]
  },
  {
   "cell_type": "code",
   "execution_count": 12,
   "metadata": {},
   "outputs": [
    {
     "data": {
      "text/plain": [
       "0    121861.0\n",
       "1     26124.0\n",
       "2     45278.0\n",
       "3     63165.0\n",
       "4     56346.0\n",
       "5     66613.0\n",
       "6     71679.0\n",
       "7     42389.0\n",
       "8    107961.0\n",
       "9     44615.0\n",
       "Name: BASE_SALARY, dtype: float64"
      ]
     },
     "execution_count": 12,
     "metadata": {},
     "output_type": "execute_result"
    }
   ],
   "source": [
    "sal_head - 1"
   ]
  },
  {
   "cell_type": "code",
   "execution_count": 13,
   "metadata": {},
   "outputs": [
    {
     "data": {
      "text/plain": [
       "0    1.809693e+15\n",
       "1    1.783072e+13\n",
       "2    9.283046e+13\n",
       "3    2.520288e+14\n",
       "4    1.789008e+14\n",
       "5    2.955946e+14\n",
       "6    3.682934e+14\n",
       "7    7.617110e+13\n",
       "8    1.258383e+15\n",
       "9    8.881205e+13\n",
       "Name: BASE_SALARY, dtype: float64"
      ]
     },
     "execution_count": 13,
     "metadata": {},
     "output_type": "execute_result"
    }
   ],
   "source": [
    "# raise to the power of three\n",
    "sal_head ** 3"
   ]
  },
  {
   "cell_type": "code",
   "execution_count": 14,
   "metadata": {},
   "outputs": [
    {
     "data": {
      "text/plain": [
       "0    7168.0\n",
       "1    1536.0\n",
       "2    2663.0\n",
       "3    3715.0\n",
       "4    3314.0\n",
       "5    3918.0\n",
       "6    4216.0\n",
       "7    2493.0\n",
       "8    6350.0\n",
       "9    2624.0\n",
       "Name: BASE_SALARY, dtype: float64"
      ]
     },
     "execution_count": 14,
     "metadata": {},
     "output_type": "execute_result"
    }
   ],
   "source": [
    "# floor division\n",
    "sal_head // 17"
   ]
  },
  {
   "cell_type": "markdown",
   "metadata": {},
   "source": [
    "## Isn't this notebook about calling methods?\n",
    "Although the above operations are not using dot notation to call methods, they technically are invoking something called **special methods**. Special methods are an advanced Python topic. \n",
    "\n",
    "### Example of a special method\n",
    "All Python operators have an equivalent special method that can be used in its place. Let's use the special methods to accomplish the same tasks as above."
   ]
  },
  {
   "cell_type": "code",
   "execution_count": 15,
   "metadata": {},
   "outputs": [
    {
     "data": {
      "text/plain": [
       "0    121867.0\n",
       "1     26130.0\n",
       "2     45284.0\n",
       "3     63171.0\n",
       "4     56352.0\n",
       "5     66619.0\n",
       "6     71685.0\n",
       "7     42395.0\n",
       "8    107967.0\n",
       "9     44621.0\n",
       "Name: BASE_SALARY, dtype: float64"
      ]
     },
     "execution_count": 15,
     "metadata": {},
     "output_type": "execute_result"
    }
   ],
   "source": [
    "sal_head.__add__(5)"
   ]
  },
  {
   "cell_type": "code",
   "execution_count": 16,
   "metadata": {},
   "outputs": [
    {
     "data": {
      "text/plain": [
       "0    121861.0\n",
       "1     26124.0\n",
       "2     45278.0\n",
       "3     63165.0\n",
       "4     56346.0\n",
       "5     66613.0\n",
       "6     71679.0\n",
       "7     42389.0\n",
       "8    107961.0\n",
       "9     44615.0\n",
       "Name: BASE_SALARY, dtype: float64"
      ]
     },
     "execution_count": 16,
     "metadata": {},
     "output_type": "execute_result"
    }
   ],
   "source": [
    "sal_head.__sub__(1)"
   ]
  },
  {
   "cell_type": "code",
   "execution_count": 17,
   "metadata": {},
   "outputs": [
    {
     "data": {
      "text/plain": [
       "0    1.809693e+15\n",
       "1    1.783072e+13\n",
       "2    9.283046e+13\n",
       "3    2.520288e+14\n",
       "4    1.789008e+14\n",
       "5    2.955946e+14\n",
       "6    3.682934e+14\n",
       "7    7.617110e+13\n",
       "8    1.258383e+15\n",
       "9    8.881205e+13\n",
       "Name: BASE_SALARY, dtype: float64"
      ]
     },
     "execution_count": 17,
     "metadata": {},
     "output_type": "execute_result"
    }
   ],
   "source": [
    "sal_head.__pow__(3)"
   ]
  },
  {
   "cell_type": "code",
   "execution_count": 18,
   "metadata": {},
   "outputs": [
    {
     "data": {
      "text/plain": [
       "0    7168.0\n",
       "1    1536.0\n",
       "2    2663.0\n",
       "3    3715.0\n",
       "4    3314.0\n",
       "5    3918.0\n",
       "6    4216.0\n",
       "7    2493.0\n",
       "8    6350.0\n",
       "9    2624.0\n",
       "Name: BASE_SALARY, dtype: float64"
      ]
     },
     "execution_count": 18,
     "metadata": {},
     "output_type": "execute_result"
    }
   ],
   "source": [
    "sal_head.__floordiv__(17)"
   ]
  },
  {
   "cell_type": "markdown",
   "metadata": {},
   "source": [
    "## What really happens when you use the `+` operator\n",
    "When you call **`sal_head + 5`**, Python will actually call **`sal_head.__add__(5)`**. This fact isn't too important now but will be if you begin defining your own classes. To learn more, see the [Python data model][1].\n",
    "\n",
    "[1]: https://docs.python.org/3/reference/datamodel.html"
   ]
  },
  {
   "cell_type": "markdown",
   "metadata": {},
   "source": [
    "## Basic math operations are vectorized\n",
    "All the above basic mathematical operations were **vectorized** - were applied to each value in the Series without an explicit writing of a **`for`** loop. Calling **`sal_head + 5`** adds 5 to each value of the Series. This would not work with a Python list."
   ]
  },
  {
   "cell_type": "markdown",
   "metadata": {},
   "source": [
    "## We've already done this with the comparison operators"
   ]
  },
  {
   "cell_type": "markdown",
   "metadata": {},
   "source": [
    "In the boolean indexing notebooks, we used the vectorized comparison operators to produce Series of booleans. The same thing is happening now with the arithmetic operators."
   ]
  },
  {
   "cell_type": "markdown",
   "metadata": {},
   "source": [
    "# Descriptive Statistics Methods\n",
    "We will now call methods that compute [basic descriptive statistics][1] of a numerical Series. We will do so explicitly with dot notation. It is useful to place these methods into two categories - those that **aggregate** and those that do not.\n",
    "\n",
    "A method that performs an aggregation returns a **single** number to represent the description. Examples of methods that aggregate are:\n",
    "* `sum`\n",
    "* `min`\n",
    "* `max`\n",
    "* `mean`\n",
    "* `median`\n",
    "* `std` - standard deviation\n",
    "* `var` - variance\n",
    "* `count` - returns number of non-na values\n",
    "* `describe` - returns most of the above aggregations in one Series\n",
    "* `quantile` - returns given percentile of distribution\n",
    "\n",
    "Any other method that does not return a single value is not an aggregation. Some examples of these methods are:\n",
    "* `abs` - takes absolute value\n",
    "* `round` - round to the nearest given decimal\n",
    "* `cummin` - cumulative minimum\n",
    "* `cummax` - cumulative maximum\n",
    "* `cumsum` - cumulative sum\n",
    "* `rank` - rank values in a variety of different ways\n",
    "* `diff` - difference between one element and another\n",
    "* `pct_change` - percent change from one element to another\n",
    "\n",
    "[1]: http://pandas.pydata.org/pandas-docs/stable/api.html#computations-descriptive-stats"
   ]
  },
  {
   "cell_type": "markdown",
   "metadata": {},
   "source": [
    "### Aggregation methods\n",
    "Let's use some of the populat built-in aggregation methods:"
   ]
  },
  {
   "cell_type": "code",
   "execution_count": 5,
   "metadata": {},
   "outputs": [
    {
     "data": {
      "text/plain": [
       "105178319.0"
      ]
     },
     "execution_count": 5,
     "metadata": {},
     "output_type": "execute_result"
    }
   ],
   "source": [
    "salary.sum()"
   ]
  },
  {
   "cell_type": "code",
   "execution_count": 6,
   "metadata": {},
   "outputs": [
    {
     "data": {
      "text/plain": [
       "24960.0"
      ]
     },
     "execution_count": 6,
     "metadata": {},
     "output_type": "execute_result"
    }
   ],
   "source": [
    "salary.min()"
   ]
  },
  {
   "cell_type": "code",
   "execution_count": 7,
   "metadata": {},
   "outputs": [
    {
     "data": {
      "text/plain": [
       "275000.0"
      ]
     },
     "execution_count": 7,
     "metadata": {},
     "output_type": "execute_result"
    }
   ],
   "source": [
    "salary.max()"
   ]
  },
  {
   "cell_type": "code",
   "execution_count": 8,
   "metadata": {},
   "outputs": [
    {
     "data": {
      "text/plain": [
       "55767.93160127253"
      ]
     },
     "execution_count": 8,
     "metadata": {},
     "output_type": "execute_result"
    }
   ],
   "source": [
    "salary.mean()"
   ]
  },
  {
   "cell_type": "code",
   "execution_count": 22,
   "metadata": {},
   "outputs": [
    {
     "data": {
      "text/plain": [
       "54461.0"
      ]
     },
     "execution_count": 22,
     "metadata": {},
     "output_type": "execute_result"
    }
   ],
   "source": [
    "salary.median()"
   ]
  },
  {
   "cell_type": "code",
   "execution_count": 9,
   "metadata": {},
   "outputs": [
    {
     "data": {
      "text/plain": [
       "21693.706679449504"
      ]
     },
     "execution_count": 9,
     "metadata": {},
     "output_type": "execute_result"
    }
   ],
   "source": [
    "salary.std()"
   ]
  },
  {
   "cell_type": "markdown",
   "metadata": {},
   "source": [
    "Count non-missing values. Since this number is less than 2,000, we know missing values exist."
   ]
  },
  {
   "cell_type": "code",
   "execution_count": 19,
   "metadata": {},
   "outputs": [
    {
     "data": {
      "text/plain": [
       "1886"
      ]
     },
     "execution_count": 19,
     "metadata": {},
     "output_type": "execute_result"
    }
   ],
   "source": [
    "salary.count()"
   ]
  },
  {
   "cell_type": "markdown",
   "metadata": {},
   "source": [
    "# Pandas ignores missing values by default\n",
    "One big difference between Pandas and NumPy is that Pandas ignores missing values by default. When calling aggregation methods such as **`sum`** or **`mean`**, Pandas will simply ignore any missing value as if that piece of data did not exist.\n",
    "\n",
    "Pandas provides you with control over how missing data is handled with the **`skipna`** parameter which exists for all the aggregation methods. By default it is **`True`**. If you set it to **`False`** and your Series contains missing values, then Pandas will return a missing value as the result."
   ]
  },
  {
   "cell_type": "code",
   "execution_count": 70,
   "metadata": {},
   "outputs": [
    {
     "data": {
      "text/plain": [
       "nan"
      ]
     },
     "execution_count": 70,
     "metadata": {},
     "output_type": "execute_result"
    }
   ],
   "source": [
    "salary.sum(skipna=False)"
   ]
  },
  {
   "cell_type": "markdown",
   "metadata": {},
   "source": [
    "### `describe` and `quantile`\n",
    "There are more built-in aggregation methods such as `describe` and `quantile`."
   ]
  },
  {
   "cell_type": "code",
   "execution_count": 24,
   "metadata": {},
   "outputs": [
    {
     "data": {
      "text/plain": [
       "count      1886.000000\n",
       "mean      55767.931601\n",
       "std       21693.706679\n",
       "min       24960.000000\n",
       "25%       40170.000000\n",
       "50%       54461.000000\n",
       "75%       66614.000000\n",
       "max      275000.000000\n",
       "Name: BASE_SALARY, dtype: float64"
      ]
     },
     "execution_count": 24,
     "metadata": {},
     "output_type": "execute_result"
    }
   ],
   "source": [
    "salary.describe()"
   ]
  },
  {
   "cell_type": "markdown",
   "metadata": {},
   "source": [
    "By default, the `quantile` method returns the median. It uses parameter `q` as a number between 0 and 1. We can change it to return the 20th and 99th percentiles respectively."
   ]
  },
  {
   "cell_type": "code",
   "execution_count": 25,
   "metadata": {},
   "outputs": [
    {
     "data": {
      "text/plain": [
       "37045.0"
      ]
     },
     "execution_count": 25,
     "metadata": {},
     "output_type": "execute_result"
    }
   ],
   "source": [
    "salary.quantile(q=.2)"
   ]
  },
  {
   "cell_type": "code",
   "execution_count": 26,
   "metadata": {},
   "outputs": [
    {
     "data": {
      "text/plain": [
       "125918.65000000002"
      ]
     },
     "execution_count": 26,
     "metadata": {},
     "output_type": "execute_result"
    }
   ],
   "source": [
    "salary.quantile(q=.99)"
   ]
  },
  {
   "cell_type": "markdown",
   "metadata": {},
   "source": [
    "### Non-Aggregation Descriptive Statistic Methods"
   ]
  },
  {
   "cell_type": "code",
   "execution_count": 27,
   "metadata": {},
   "outputs": [
    {
     "data": {
      "text/plain": [
       "0    121862.0\n",
       "1     26125.0\n",
       "2     45279.0\n",
       "3     63166.0\n",
       "4     56347.0\n",
       "5     66614.0\n",
       "6     71680.0\n",
       "7     42390.0\n",
       "8    107962.0\n",
       "9     44616.0\n",
       "Name: BASE_SALARY, dtype: float64"
      ]
     },
     "execution_count": 27,
     "metadata": {},
     "output_type": "execute_result"
    }
   ],
   "source": [
    "sal_head.abs()"
   ]
  },
  {
   "cell_type": "code",
   "execution_count": 30,
   "metadata": {},
   "outputs": [
    {
     "data": {
      "text/plain": [
       "0    122000.0\n",
       "1     26000.0\n",
       "2     45000.0\n",
       "3     63000.0\n",
       "4     56000.0\n",
       "5     67000.0\n",
       "6     72000.0\n",
       "7     42000.0\n",
       "8    108000.0\n",
       "9     45000.0\n",
       "Name: BASE_SALARY, dtype: float64"
      ]
     },
     "execution_count": 30,
     "metadata": {},
     "output_type": "execute_result"
    }
   ],
   "source": [
    "# round to the nearest thousand\n",
    "sal_head.round(decimals=-3)"
   ]
  },
  {
   "cell_type": "code",
   "execution_count": 31,
   "metadata": {},
   "outputs": [
    {
     "data": {
      "text/plain": [
       "0    121862.0\n",
       "1     26125.0\n",
       "2     26125.0\n",
       "3     26125.0\n",
       "4     26125.0\n",
       "5     26125.0\n",
       "6     26125.0\n",
       "7     26125.0\n",
       "8     26125.0\n",
       "9     26125.0\n",
       "Name: BASE_SALARY, dtype: float64"
      ]
     },
     "execution_count": 31,
     "metadata": {},
     "output_type": "execute_result"
    }
   ],
   "source": [
    "sal_head.cummin()"
   ]
  },
  {
   "cell_type": "code",
   "execution_count": 32,
   "metadata": {},
   "outputs": [
    {
     "data": {
      "text/plain": [
       "0    121862.0\n",
       "1    121862.0\n",
       "2    121862.0\n",
       "3    121862.0\n",
       "4    121862.0\n",
       "5    121862.0\n",
       "6    121862.0\n",
       "7    121862.0\n",
       "8    121862.0\n",
       "9    121862.0\n",
       "Name: BASE_SALARY, dtype: float64"
      ]
     },
     "execution_count": 32,
     "metadata": {},
     "output_type": "execute_result"
    }
   ],
   "source": [
    "sal_head.cummax()"
   ]
  },
  {
   "cell_type": "code",
   "execution_count": 33,
   "metadata": {},
   "outputs": [
    {
     "data": {
      "text/plain": [
       "0    121862.0\n",
       "1    147987.0\n",
       "2    193266.0\n",
       "3    256432.0\n",
       "4    312779.0\n",
       "5    379393.0\n",
       "6    451073.0\n",
       "7    493463.0\n",
       "8    601425.0\n",
       "9    646041.0\n",
       "Name: BASE_SALARY, dtype: float64"
      ]
     },
     "execution_count": 33,
     "metadata": {},
     "output_type": "execute_result"
    }
   ],
   "source": [
    "sal_head.cumsum()"
   ]
  },
  {
   "cell_type": "code",
   "execution_count": 34,
   "metadata": {},
   "outputs": [
    {
     "data": {
      "text/plain": [
       "0    10.0\n",
       "1     1.0\n",
       "2     4.0\n",
       "3     6.0\n",
       "4     5.0\n",
       "5     7.0\n",
       "6     8.0\n",
       "7     2.0\n",
       "8     9.0\n",
       "9     3.0\n",
       "Name: BASE_SALARY, dtype: float64"
      ]
     },
     "execution_count": 34,
     "metadata": {},
     "output_type": "execute_result"
    }
   ],
   "source": [
    "sal_head.rank()"
   ]
  },
  {
   "cell_type": "markdown",
   "metadata": {},
   "source": [
    "Use the parameter ascending to change the direction of the ranking."
   ]
  },
  {
   "cell_type": "code",
   "execution_count": 35,
   "metadata": {},
   "outputs": [
    {
     "data": {
      "text/plain": [
       "0     1.0\n",
       "1    10.0\n",
       "2     7.0\n",
       "3     5.0\n",
       "4     6.0\n",
       "5     4.0\n",
       "6     3.0\n",
       "7     9.0\n",
       "8     2.0\n",
       "9     8.0\n",
       "Name: BASE_SALARY, dtype: float64"
      ]
     },
     "execution_count": 35,
     "metadata": {},
     "output_type": "execute_result"
    }
   ],
   "source": [
    "sal_head.rank(ascending=False)"
   ]
  },
  {
   "cell_type": "markdown",
   "metadata": {},
   "source": [
    "By default **`diff`** subtracts the previous value from the current row. "
   ]
  },
  {
   "cell_type": "code",
   "execution_count": 47,
   "metadata": {},
   "outputs": [
    {
     "data": {
      "text/plain": [
       "0    121862.0\n",
       "1     26125.0\n",
       "2     45279.0\n",
       "3     63166.0\n",
       "4     56347.0\n",
       "5     66614.0\n",
       "6     71680.0\n",
       "7     42390.0\n",
       "8    107962.0\n",
       "9     44616.0\n",
       "Name: BASE_SALARY, dtype: float64"
      ]
     },
     "execution_count": 47,
     "metadata": {},
     "output_type": "execute_result"
    }
   ],
   "source": [
    "# print out the Series to visually verify\n",
    "sal_head"
   ]
  },
  {
   "cell_type": "code",
   "execution_count": 36,
   "metadata": {},
   "outputs": [
    {
     "data": {
      "text/plain": [
       "0        NaN\n",
       "1   -95737.0\n",
       "2    19154.0\n",
       "3    17887.0\n",
       "4    -6819.0\n",
       "5    10267.0\n",
       "6     5066.0\n",
       "7   -29290.0\n",
       "8    65572.0\n",
       "9   -63346.0\n",
       "Name: BASE_SALARY, dtype: float64"
      ]
     },
     "execution_count": 36,
     "metadata": {},
     "output_type": "execute_result"
    }
   ],
   "source": [
    "sal_head.diff()"
   ]
  },
  {
   "cell_type": "markdown",
   "metadata": {},
   "source": [
    "The first parameter, **`periods`**, determines which two values are subtracted. For instance we can subtract the 2nd previous value from the current like this:"
   ]
  },
  {
   "cell_type": "code",
   "execution_count": 42,
   "metadata": {},
   "outputs": [
    {
     "data": {
      "text/plain": [
       "0        NaN\n",
       "1        NaN\n",
       "2   -76583.0\n",
       "3    37041.0\n",
       "4    11068.0\n",
       "5     3448.0\n",
       "6    15333.0\n",
       "7   -24224.0\n",
       "8    36282.0\n",
       "9     2226.0\n",
       "Name: BASE_SALARY, dtype: float64"
      ]
     },
     "execution_count": 42,
     "metadata": {},
     "output_type": "execute_result"
    }
   ],
   "source": [
    "sal_head.diff(periods=2)"
   ]
  },
  {
   "cell_type": "markdown",
   "metadata": {},
   "source": [
    "Or even reverse the subtraction by using negative values:"
   ]
  },
  {
   "cell_type": "code",
   "execution_count": 44,
   "metadata": {},
   "outputs": [
    {
     "data": {
      "text/plain": [
       "0    95737.0\n",
       "1   -19154.0\n",
       "2   -17887.0\n",
       "3     6819.0\n",
       "4   -10267.0\n",
       "5    -5066.0\n",
       "6    29290.0\n",
       "7   -65572.0\n",
       "8    63346.0\n",
       "9        NaN\n",
       "Name: BASE_SALARY, dtype: float64"
      ]
     },
     "execution_count": 44,
     "metadata": {},
     "output_type": "execute_result"
    }
   ],
   "source": [
    "sal_head.diff(-1)"
   ]
  },
  {
   "cell_type": "markdown",
   "metadata": {},
   "source": [
    "The **`pct_change`** method works analogously but returns the percentage instead"
   ]
  },
  {
   "cell_type": "code",
   "execution_count": 49,
   "metadata": {},
   "outputs": [
    {
     "data": {
      "text/plain": [
       "0         NaN\n",
       "1   -0.785618\n",
       "2    0.733167\n",
       "3    0.395040\n",
       "4   -0.107954\n",
       "5    0.182210\n",
       "6    0.076050\n",
       "7   -0.408622\n",
       "8    1.546874\n",
       "9   -0.586743\n",
       "Name: BASE_SALARY, dtype: float64"
      ]
     },
     "execution_count": 49,
     "metadata": {},
     "output_type": "execute_result"
    }
   ],
   "source": [
    "sal_head.pct_change()"
   ]
  },
  {
   "cell_type": "code",
   "execution_count": 50,
   "metadata": {},
   "outputs": [
    {
     "data": {
      "text/plain": [
       "0    3.664574\n",
       "1   -0.423022\n",
       "2   -0.283174\n",
       "3    0.121018\n",
       "4   -0.154127\n",
       "5   -0.070675\n",
       "6    0.690965\n",
       "7   -0.607362\n",
       "8    1.419805\n",
       "9         NaN\n",
       "Name: BASE_SALARY, dtype: float64"
      ]
     },
     "execution_count": 50,
     "metadata": {},
     "output_type": "execute_result"
    }
   ],
   "source": [
    "sal_head.pct_change(-1)"
   ]
  },
  {
   "cell_type": "markdown",
   "metadata": {},
   "source": [
    "# Calling methods after an operation\n",
    "Let's say, you would like to find the sum of all the salaries after giving everyone a $5,000 bonus. You can do this in one line like this:"
   ]
  },
  {
   "cell_type": "code",
   "execution_count": 51,
   "metadata": {},
   "outputs": [
    {
     "data": {
      "text/plain": [
       "114608319.0"
      ]
     },
     "execution_count": 51,
     "metadata": {},
     "output_type": "execute_result"
    }
   ],
   "source": [
    "(salary + 5000).sum()"
   ]
  },
  {
   "cell_type": "markdown",
   "metadata": {},
   "source": [
    "### Must use parentheses\n",
    "The above syntax might be confusing but it is doing the same thing as this:"
   ]
  },
  {
   "cell_type": "code",
   "execution_count": 52,
   "metadata": {},
   "outputs": [
    {
     "data": {
      "text/plain": [
       "114608319.0"
      ]
     },
     "execution_count": 52,
     "metadata": {},
     "output_type": "execute_result"
    }
   ],
   "source": [
    "salary_bonus = salary + 5000\n",
    "salary_bonus.sum()"
   ]
  },
  {
   "cell_type": "markdown",
   "metadata": {},
   "source": [
    "## Explanation\n",
    "Writing, **`(salary + 5000).sum()`**, first adds 5,000 to each value in the salary Series. This produces a temporary Series, which has all the available methods as any other Series. We then call the **`sum`** method on this temporary Series.\n",
    "\n",
    "### What is a temporary Series?\n",
    "The word **`temporary`** is used to describe a Series object that is not assigned to any variable. It is only held in memory temporarily during the execution of that one statement.\n",
    "\n",
    "## A temporary list\n",
    "Let's see another example of a temporary object. Here, the temporary list **`[-99, -11]`** is never assigned to a variable and only exists during the execution of the second line of code below:"
   ]
  },
  {
   "cell_type": "code",
   "execution_count": 56,
   "metadata": {},
   "outputs": [
    {
     "data": {
      "text/plain": [
       "[-99, -11, 1, 4, 10]"
      ]
     },
     "execution_count": 56,
     "metadata": {},
     "output_type": "execute_result"
    }
   ],
   "source": [
    "a = [1, 4, 10]\n",
    "b = [-99, -11] + a\n",
    "b"
   ]
  },
  {
   "cell_type": "markdown",
   "metadata": {},
   "source": [
    "# Exercises"
   ]
  },
  {
   "cell_type": "markdown",
   "metadata": {},
   "source": [
    "### Problem 1\n",
    "<span  style=\"color:green; font-size:16px\">Read in the movie dataset with the title as the index and assign the `imdb_score` as a Series to variable `score`. Output the first 5 values.</span>"
   ]
  },
  {
   "cell_type": "code",
   "execution_count": null,
   "metadata": {},
   "outputs": [],
   "source": [
    "# your code here"
   ]
  },
  {
   "cell_type": "markdown",
   "metadata": {},
   "source": [
    "### Problem 2\n",
    "<span  style=\"color:green; font-size:16px\">What is the data type of `score` and how many values does it contain?</span>"
   ]
  },
  {
   "cell_type": "code",
   "execution_count": 57,
   "metadata": {},
   "outputs": [],
   "source": [
    "# your code here"
   ]
  },
  {
   "cell_type": "markdown",
   "metadata": {},
   "source": [
    "### Problem 3\n",
    "<span  style=\"color:green; font-size:16px\">What is the maximum and minimum score?</span>"
   ]
  },
  {
   "cell_type": "code",
   "execution_count": 58,
   "metadata": {},
   "outputs": [],
   "source": [
    "# your code here"
   ]
  },
  {
   "cell_type": "markdown",
   "metadata": {},
   "source": [
    "### Problem 4\n",
    "<span  style=\"color:green; font-size:16px\">How many missing values are there in the `score`?</span>"
   ]
  },
  {
   "cell_type": "code",
   "execution_count": 59,
   "metadata": {},
   "outputs": [],
   "source": [
    "# your code here"
   ]
  },
  {
   "cell_type": "markdown",
   "metadata": {},
   "source": [
    "### Problem 5\n",
    "<span  style=\"color:green; font-size:16px\">Rank the first 10 values in `score` from highest to lowest.</span>"
   ]
  },
  {
   "cell_type": "code",
   "execution_count": 60,
   "metadata": {},
   "outputs": [],
   "source": [
    "# your code here"
   ]
  },
  {
   "cell_type": "markdown",
   "metadata": {},
   "source": [
    "### Problem 6\n",
    "<span  style=\"color:green; font-size:16px\">How many movies have scores greater than 6? (Remember that True/False evaluates to 1/0)</span>"
   ]
  },
  {
   "cell_type": "code",
   "execution_count": 61,
   "metadata": {},
   "outputs": [],
   "source": [
    "# your code here"
   ]
  },
  {
   "cell_type": "markdown",
   "metadata": {},
   "source": [
    "### Problem 7\n",
    "<span  style=\"color:green; font-size:16px\">How many movies have scores greater than 4 and less than 7?</span>"
   ]
  },
  {
   "cell_type": "code",
   "execution_count": 62,
   "metadata": {},
   "outputs": [],
   "source": [
    "# your code here"
   ]
  },
  {
   "cell_type": "markdown",
   "metadata": {},
   "source": [
    "### Problem 8\n",
    "<span  style=\"color:green; font-size:16px\">Find the difference between the median and mean of the scores.</span>"
   ]
  },
  {
   "cell_type": "code",
   "execution_count": 63,
   "metadata": {},
   "outputs": [],
   "source": [
    "# your code here"
   ]
  },
  {
   "cell_type": "markdown",
   "metadata": {},
   "source": [
    "### Problem 9\n",
    "<span  style=\"color:green; font-size:16px\">Add 1 to every value of `score` and then calculate the median.</span>"
   ]
  },
  {
   "cell_type": "code",
   "execution_count": 64,
   "metadata": {},
   "outputs": [],
   "source": [
    "# your code here"
   ]
  },
  {
   "cell_type": "markdown",
   "metadata": {},
   "source": [
    "### Problem 10\n",
    "<span  style=\"color:green; font-size:16px\">Calculate the median of `score` and add 1 to this. Why is this value the same as problem 9?</span>"
   ]
  },
  {
   "cell_type": "code",
   "execution_count": 65,
   "metadata": {},
   "outputs": [],
   "source": [
    "# your code here"
   ]
  },
  {
   "cell_type": "markdown",
   "metadata": {},
   "source": [
    "### Problem 11\n",
    "<span  style=\"color:green; font-size:16px\">Return a Series that has only scores above the 99.9th percentile</span>"
   ]
  },
  {
   "cell_type": "code",
   "execution_count": 66,
   "metadata": {},
   "outputs": [],
   "source": [
    "# your code here"
   ]
  }
 ],
 "metadata": {
  "kernelspec": {
   "display_name": "Python 3",
   "language": "python",
   "name": "python3"
  },
  "language_info": {
   "codemirror_mode": {
    "name": "ipython",
    "version": 3
   },
   "file_extension": ".py",
   "mimetype": "text/x-python",
   "name": "python",
   "nbconvert_exporter": "python",
   "pygments_lexer": "ipython3",
   "version": "3.6.4"
  }
 },
 "nbformat": 4,
 "nbformat_minor": 2
}
