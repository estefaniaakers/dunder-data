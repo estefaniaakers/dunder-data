{
 "cells": [
  {
   "cell_type": "markdown",
   "metadata": {},
   "source": [
    "# Course Solutions\n",
    "\n",
    "1. [Pandas Intro](#1.-Pandas-Intro)\n",
    "1. [Selecting Subsets of Series Data](#2.-Selecting-Subsets-of-Series-Data)\n",
    "1. [Series - Boolean Indexing](#2.-Series---Boolean-Indexing)\n",
    "1. [Case Study - Calculating Normality of Stock Market Returns](#4.-Case-Study---Calculating-Normality-of-Stock-Market-Returns)\n",
    "1. [DataFrame Basics](#5.-DataFrame-Basics)\n",
    "1. [DataFrame Boolean Indexing](#6.-DataFrame-Boolean-Indexing)\n",
    "1. [Case Study - Do Employees with more Experience make more Money?](#7.-Case-Study---Do-Employees-with-more-Experience-make-more-Money?)\n",
    "1. [More on DataFrames](#8.-More-on-DataFrames)"
   ]
  },
  {
   "cell_type": "markdown",
   "metadata": {},
   "source": [
    "# 1. Pandas Intro"
   ]
  },
  {
   "cell_type": "code",
   "execution_count": 1,
   "metadata": {
    "collapsed": true
   },
   "outputs": [],
   "source": [
    "import pandas as pd\n",
    "import numpy as np\n",
    "\n",
    "pd.options.display.max_columns = 40\n",
    "movie = pd.read_csv('data/movie.csv')"
   ]
  },
  {
   "cell_type": "markdown",
   "metadata": {},
   "source": [
    "### Problem 1\n",
    "<span  style=\"color:green; font-size:16px\">Select the column **`gross`**, the total revenue from the movie dataset and store it to a variable with the same name. Output the first 10 values of it.</span>"
   ]
  },
  {
   "cell_type": "code",
   "execution_count": 4,
   "metadata": {},
   "outputs": [
    {
     "data": {
      "text/plain": [
       "0    760505847.0\n",
       "1    309404152.0\n",
       "2    200074175.0\n",
       "3    448130642.0\n",
       "4            NaN\n",
       "5     73058679.0\n",
       "6    336530303.0\n",
       "7    200807262.0\n",
       "8    458991599.0\n",
       "9    301956980.0\n",
       "Name: gross, dtype: float64"
      ]
     },
     "execution_count": 4,
     "metadata": {},
     "output_type": "execute_result"
    }
   ],
   "source": [
    "gross = movie['gross']\n",
    "gross.head(10)"
   ]
  },
  {
   "cell_type": "markdown",
   "metadata": {},
   "source": [
    "### Problem 2\n",
    "<span  style=\"color:green; font-size:16px\">What type of object is **`gross`**?</span>"
   ]
  },
  {
   "cell_type": "code",
   "execution_count": 5,
   "metadata": {},
   "outputs": [
    {
     "data": {
      "text/plain": [
       "pandas.core.series.Series"
      ]
     },
     "execution_count": 5,
     "metadata": {},
     "output_type": "execute_result"
    }
   ],
   "source": [
    "type(gross)"
   ]
  },
  {
   "cell_type": "markdown",
   "metadata": {},
   "source": [
    "### Problem 3\n",
    "<span  style=\"color:green; font-size:16px\">What type of object is returned from the values of the index of a Series?</span>"
   ]
  },
  {
   "cell_type": "code",
   "execution_count": 6,
   "metadata": {},
   "outputs": [
    {
     "data": {
      "text/plain": [
       "numpy.ndarray"
      ]
     },
     "execution_count": 6,
     "metadata": {},
     "output_type": "execute_result"
    }
   ],
   "source": [
    "# The values of the index of a series are a numpy ndarray\n",
    "type(gross.index.values)"
   ]
  },
  {
   "cell_type": "markdown",
   "metadata": {},
   "source": [
    "### Problem 4\n",
    "<span  style=\"color:green; font-size:16px\">Divide each value in **`gross`** by one million and save it back to **`gross`**</span>"
   ]
  },
  {
   "cell_type": "code",
   "execution_count": 12,
   "metadata": {
    "collapsed": true
   },
   "outputs": [],
   "source": [
    "gross = gross / 1000000"
   ]
  },
  {
   "cell_type": "markdown",
   "metadata": {},
   "source": [
    "### Problem 5\n",
    "<span  style=\"color:green; font-size:16px\">What was most revenue generated?</span>"
   ]
  },
  {
   "cell_type": "code",
   "execution_count": 13,
   "metadata": {},
   "outputs": [
    {
     "data": {
      "text/plain": [
       "760.50584700000002"
      ]
     },
     "execution_count": 13,
     "metadata": {},
     "output_type": "execute_result"
    }
   ],
   "source": [
    "gross.max()"
   ]
  },
  {
   "cell_type": "markdown",
   "metadata": {},
   "source": [
    "### Problem 6\n",
    "<span  style=\"color:green; font-size:16px\">Select the **`actor_1_name`** column and find the actor who has appeared in the most movies. Make sure to append the **`head`** method to suppress long output.</span>"
   ]
  },
  {
   "cell_type": "code",
   "execution_count": 14,
   "metadata": {},
   "outputs": [
    {
     "data": {
      "text/plain": [
       "Robert De Niro       48\n",
       "Johnny Depp          36\n",
       "Nicolas Cage         32\n",
       "Denzel Washington    29\n",
       "J.K. Simmons         29\n",
       "Name: actor_1_name, dtype: int64"
      ]
     },
     "execution_count": 14,
     "metadata": {},
     "output_type": "execute_result"
    }
   ],
   "source": [
    "movie['actor_1_name'].value_counts().head()"
   ]
  },
  {
   "cell_type": "markdown",
   "metadata": {},
   "source": [
    "### Problem 7\n",
    "<span  style=\"color:green; font-size:16px\">Write a function that accepts a single argument. The argument will be a Series. Have the function return the difference between the largest and smallest Series value. Run your function with the **`gross`** Series</span>"
   ]
  },
  {
   "cell_type": "code",
   "execution_count": 15,
   "metadata": {},
   "outputs": [
    {
     "data": {
      "text/plain": [
       "760.50568499999997"
      ]
     },
     "execution_count": 15,
     "metadata": {},
     "output_type": "execute_result"
    }
   ],
   "source": [
    "def min_max(series):\n",
    "    return series.max() - series.min()\n",
    "\n",
    "min_max(gross)"
   ]
  },
  {
   "cell_type": "markdown",
   "metadata": {},
   "source": [
    "# 2. Selecting Subsets of Series Data"
   ]
  },
  {
   "cell_type": "markdown",
   "metadata": {},
   "source": [
    "### Problem 1\n",
    "<span  style=\"color:green; font-size:16px\">Create a 3 element pandas Series using the Series constructor with characters as the index and numbers as the values. Output the Series.</span>"
   ]
  },
  {
   "cell_type": "code",
   "execution_count": 8,
   "metadata": {},
   "outputs": [
    {
     "data": {
      "text/plain": [
       "b      4\n",
       "c      9\n",
       "g    100\n",
       "dtype: int64"
      ]
     },
     "execution_count": 8,
     "metadata": {},
     "output_type": "execute_result"
    }
   ],
   "source": [
    "s = pd.Series(data=[4, 9, 100], index=['b', 'c', 'g'])\n",
    "s"
   ]
  },
  {
   "cell_type": "markdown",
   "metadata": {},
   "source": [
    "### Problem 2\n",
    "<span  style=\"color:green; font-size:16px\">Another way to create a series is to pass a dictionary to the pandas series constructor. The keys of the dictionary become the Series index and the dictionary values become the Series values. Create a dictionary with at least 3 elements and use it to create a series. Output the Series.</span>"
   ]
  },
  {
   "cell_type": "code",
   "execution_count": 16,
   "metadata": {},
   "outputs": [
    {
     "data": {
      "text/plain": [
       "Dallas     North\n",
       "El Paso     West\n",
       "Houston    South\n",
       "dtype: object"
      ]
     },
     "execution_count": 16,
     "metadata": {},
     "output_type": "execute_result"
    }
   ],
   "source": [
    "d = {'Houston':'South', 'Dallas':'North', 'El Paso':'West'}\n",
    "s = pd.Series(d)\n",
    "s"
   ]
  },
  {
   "cell_type": "markdown",
   "metadata": {},
   "source": [
    "### Problem 3\n",
    "<span  style=\"color:green; font-size:16px\">Use the **`read_csv`** function to read in the movie dataset and set the index to the title of the movie. Output the first 10 rows.</span>"
   ]
  },
  {
   "cell_type": "code",
   "execution_count": 18,
   "metadata": {},
   "outputs": [
    {
     "data": {
      "text/html": [
       "<div>\n",
       "<style>\n",
       "    .dataframe thead tr:only-child th {\n",
       "        text-align: right;\n",
       "    }\n",
       "\n",
       "    .dataframe thead th {\n",
       "        text-align: left;\n",
       "    }\n",
       "\n",
       "    .dataframe tbody tr th {\n",
       "        vertical-align: top;\n",
       "    }\n",
       "</style>\n",
       "<table border=\"1\" class=\"dataframe\">\n",
       "  <thead>\n",
       "    <tr style=\"text-align: right;\">\n",
       "      <th></th>\n",
       "      <th>color</th>\n",
       "      <th>director_name</th>\n",
       "      <th>num_critic_for_reviews</th>\n",
       "      <th>duration</th>\n",
       "      <th>director_facebook_likes</th>\n",
       "      <th>actor_3_facebook_likes</th>\n",
       "      <th>actor_2_name</th>\n",
       "      <th>actor_1_facebook_likes</th>\n",
       "      <th>gross</th>\n",
       "      <th>genres</th>\n",
       "      <th>actor_1_name</th>\n",
       "      <th>num_voted_users</th>\n",
       "      <th>cast_total_facebook_likes</th>\n",
       "      <th>actor_3_name</th>\n",
       "      <th>facenumber_in_poster</th>\n",
       "      <th>plot_keywords</th>\n",
       "      <th>movie_imdb_link</th>\n",
       "      <th>num_user_for_reviews</th>\n",
       "      <th>language</th>\n",
       "      <th>country</th>\n",
       "      <th>content_rating</th>\n",
       "      <th>budget</th>\n",
       "      <th>title_year</th>\n",
       "      <th>actor_2_facebook_likes</th>\n",
       "      <th>imdb_score</th>\n",
       "      <th>aspect_ratio</th>\n",
       "      <th>movie_facebook_likes</th>\n",
       "    </tr>\n",
       "    <tr>\n",
       "      <th>movie_title</th>\n",
       "      <th></th>\n",
       "      <th></th>\n",
       "      <th></th>\n",
       "      <th></th>\n",
       "      <th></th>\n",
       "      <th></th>\n",
       "      <th></th>\n",
       "      <th></th>\n",
       "      <th></th>\n",
       "      <th></th>\n",
       "      <th></th>\n",
       "      <th></th>\n",
       "      <th></th>\n",
       "      <th></th>\n",
       "      <th></th>\n",
       "      <th></th>\n",
       "      <th></th>\n",
       "      <th></th>\n",
       "      <th></th>\n",
       "      <th></th>\n",
       "      <th></th>\n",
       "      <th></th>\n",
       "      <th></th>\n",
       "      <th></th>\n",
       "      <th></th>\n",
       "      <th></th>\n",
       "      <th></th>\n",
       "    </tr>\n",
       "  </thead>\n",
       "  <tbody>\n",
       "    <tr>\n",
       "      <th>Avatar</th>\n",
       "      <td>Color</td>\n",
       "      <td>James Cameron</td>\n",
       "      <td>723.0</td>\n",
       "      <td>178.0</td>\n",
       "      <td>0.0</td>\n",
       "      <td>855.0</td>\n",
       "      <td>Joel David Moore</td>\n",
       "      <td>1000.0</td>\n",
       "      <td>760505847.0</td>\n",
       "      <td>Action|Adventure|Fantasy|Sci-Fi</td>\n",
       "      <td>CCH Pounder</td>\n",
       "      <td>886204</td>\n",
       "      <td>4834</td>\n",
       "      <td>Wes Studi</td>\n",
       "      <td>0.0</td>\n",
       "      <td>avatar|future|marine|native|paraplegic</td>\n",
       "      <td>http://www.imdb.com/title/tt0499549/?ref_=fn_t...</td>\n",
       "      <td>3054.0</td>\n",
       "      <td>English</td>\n",
       "      <td>USA</td>\n",
       "      <td>PG-13</td>\n",
       "      <td>237000000.0</td>\n",
       "      <td>2009.0</td>\n",
       "      <td>936.0</td>\n",
       "      <td>7.9</td>\n",
       "      <td>1.78</td>\n",
       "      <td>33000</td>\n",
       "    </tr>\n",
       "    <tr>\n",
       "      <th>Pirates of the Caribbean: At World's End</th>\n",
       "      <td>Color</td>\n",
       "      <td>Gore Verbinski</td>\n",
       "      <td>302.0</td>\n",
       "      <td>169.0</td>\n",
       "      <td>563.0</td>\n",
       "      <td>1000.0</td>\n",
       "      <td>Orlando Bloom</td>\n",
       "      <td>40000.0</td>\n",
       "      <td>309404152.0</td>\n",
       "      <td>Action|Adventure|Fantasy</td>\n",
       "      <td>Johnny Depp</td>\n",
       "      <td>471220</td>\n",
       "      <td>48350</td>\n",
       "      <td>Jack Davenport</td>\n",
       "      <td>0.0</td>\n",
       "      <td>goddess|marriage ceremony|marriage proposal|pi...</td>\n",
       "      <td>http://www.imdb.com/title/tt0449088/?ref_=fn_t...</td>\n",
       "      <td>1238.0</td>\n",
       "      <td>English</td>\n",
       "      <td>USA</td>\n",
       "      <td>PG-13</td>\n",
       "      <td>300000000.0</td>\n",
       "      <td>2007.0</td>\n",
       "      <td>5000.0</td>\n",
       "      <td>7.1</td>\n",
       "      <td>2.35</td>\n",
       "      <td>0</td>\n",
       "    </tr>\n",
       "    <tr>\n",
       "      <th>Spectre</th>\n",
       "      <td>Color</td>\n",
       "      <td>Sam Mendes</td>\n",
       "      <td>602.0</td>\n",
       "      <td>148.0</td>\n",
       "      <td>0.0</td>\n",
       "      <td>161.0</td>\n",
       "      <td>Rory Kinnear</td>\n",
       "      <td>11000.0</td>\n",
       "      <td>200074175.0</td>\n",
       "      <td>Action|Adventure|Thriller</td>\n",
       "      <td>Christoph Waltz</td>\n",
       "      <td>275868</td>\n",
       "      <td>11700</td>\n",
       "      <td>Stephanie Sigman</td>\n",
       "      <td>1.0</td>\n",
       "      <td>bomb|espionage|sequel|spy|terrorist</td>\n",
       "      <td>http://www.imdb.com/title/tt2379713/?ref_=fn_t...</td>\n",
       "      <td>994.0</td>\n",
       "      <td>English</td>\n",
       "      <td>UK</td>\n",
       "      <td>PG-13</td>\n",
       "      <td>245000000.0</td>\n",
       "      <td>2015.0</td>\n",
       "      <td>393.0</td>\n",
       "      <td>6.8</td>\n",
       "      <td>2.35</td>\n",
       "      <td>85000</td>\n",
       "    </tr>\n",
       "    <tr>\n",
       "      <th>The Dark Knight Rises</th>\n",
       "      <td>Color</td>\n",
       "      <td>Christopher Nolan</td>\n",
       "      <td>813.0</td>\n",
       "      <td>164.0</td>\n",
       "      <td>22000.0</td>\n",
       "      <td>23000.0</td>\n",
       "      <td>Christian Bale</td>\n",
       "      <td>27000.0</td>\n",
       "      <td>448130642.0</td>\n",
       "      <td>Action|Thriller</td>\n",
       "      <td>Tom Hardy</td>\n",
       "      <td>1144337</td>\n",
       "      <td>106759</td>\n",
       "      <td>Joseph Gordon-Levitt</td>\n",
       "      <td>0.0</td>\n",
       "      <td>deception|imprisonment|lawlessness|police offi...</td>\n",
       "      <td>http://www.imdb.com/title/tt1345836/?ref_=fn_t...</td>\n",
       "      <td>2701.0</td>\n",
       "      <td>English</td>\n",
       "      <td>USA</td>\n",
       "      <td>PG-13</td>\n",
       "      <td>250000000.0</td>\n",
       "      <td>2012.0</td>\n",
       "      <td>23000.0</td>\n",
       "      <td>8.5</td>\n",
       "      <td>2.35</td>\n",
       "      <td>164000</td>\n",
       "    </tr>\n",
       "    <tr>\n",
       "      <th>Star Wars: Episode VII - The Force Awakens</th>\n",
       "      <td>NaN</td>\n",
       "      <td>Doug Walker</td>\n",
       "      <td>NaN</td>\n",
       "      <td>NaN</td>\n",
       "      <td>131.0</td>\n",
       "      <td>NaN</td>\n",
       "      <td>Rob Walker</td>\n",
       "      <td>131.0</td>\n",
       "      <td>NaN</td>\n",
       "      <td>Documentary</td>\n",
       "      <td>Doug Walker</td>\n",
       "      <td>8</td>\n",
       "      <td>143</td>\n",
       "      <td>NaN</td>\n",
       "      <td>0.0</td>\n",
       "      <td>NaN</td>\n",
       "      <td>http://www.imdb.com/title/tt5289954/?ref_=fn_t...</td>\n",
       "      <td>NaN</td>\n",
       "      <td>NaN</td>\n",
       "      <td>NaN</td>\n",
       "      <td>NaN</td>\n",
       "      <td>NaN</td>\n",
       "      <td>NaN</td>\n",
       "      <td>12.0</td>\n",
       "      <td>7.1</td>\n",
       "      <td>NaN</td>\n",
       "      <td>0</td>\n",
       "    </tr>\n",
       "  </tbody>\n",
       "</table>\n",
       "</div>"
      ],
      "text/plain": [
       "                                            color      director_name  \\\n",
       "movie_title                                                            \n",
       "Avatar                                      Color      James Cameron   \n",
       "Pirates of the Caribbean: At World's End    Color     Gore Verbinski   \n",
       "Spectre                                     Color         Sam Mendes   \n",
       "The Dark Knight Rises                       Color  Christopher Nolan   \n",
       "Star Wars: Episode VII - The Force Awakens    NaN        Doug Walker   \n",
       "\n",
       "                                            num_critic_for_reviews  duration  \\\n",
       "movie_title                                                                    \n",
       "Avatar                                                       723.0     178.0   \n",
       "Pirates of the Caribbean: At World's End                     302.0     169.0   \n",
       "Spectre                                                      602.0     148.0   \n",
       "The Dark Knight Rises                                        813.0     164.0   \n",
       "Star Wars: Episode VII - The Force Awakens                     NaN       NaN   \n",
       "\n",
       "                                            director_facebook_likes  \\\n",
       "movie_title                                                           \n",
       "Avatar                                                          0.0   \n",
       "Pirates of the Caribbean: At World's End                      563.0   \n",
       "Spectre                                                         0.0   \n",
       "The Dark Knight Rises                                       22000.0   \n",
       "Star Wars: Episode VII - The Force Awakens                    131.0   \n",
       "\n",
       "                                            actor_3_facebook_likes  \\\n",
       "movie_title                                                          \n",
       "Avatar                                                       855.0   \n",
       "Pirates of the Caribbean: At World's End                    1000.0   \n",
       "Spectre                                                      161.0   \n",
       "The Dark Knight Rises                                      23000.0   \n",
       "Star Wars: Episode VII - The Force Awakens                     NaN   \n",
       "\n",
       "                                                actor_2_name  \\\n",
       "movie_title                                                    \n",
       "Avatar                                      Joel David Moore   \n",
       "Pirates of the Caribbean: At World's End       Orlando Bloom   \n",
       "Spectre                                         Rory Kinnear   \n",
       "The Dark Knight Rises                         Christian Bale   \n",
       "Star Wars: Episode VII - The Force Awakens        Rob Walker   \n",
       "\n",
       "                                            actor_1_facebook_likes  \\\n",
       "movie_title                                                          \n",
       "Avatar                                                      1000.0   \n",
       "Pirates of the Caribbean: At World's End                   40000.0   \n",
       "Spectre                                                    11000.0   \n",
       "The Dark Knight Rises                                      27000.0   \n",
       "Star Wars: Episode VII - The Force Awakens                   131.0   \n",
       "\n",
       "                                                  gross  \\\n",
       "movie_title                                               \n",
       "Avatar                                      760505847.0   \n",
       "Pirates of the Caribbean: At World's End    309404152.0   \n",
       "Spectre                                     200074175.0   \n",
       "The Dark Knight Rises                       448130642.0   \n",
       "Star Wars: Episode VII - The Force Awakens          NaN   \n",
       "\n",
       "                                                                     genres  \\\n",
       "movie_title                                                                   \n",
       "Avatar                                      Action|Adventure|Fantasy|Sci-Fi   \n",
       "Pirates of the Caribbean: At World's End           Action|Adventure|Fantasy   \n",
       "Spectre                                           Action|Adventure|Thriller   \n",
       "The Dark Knight Rises                                       Action|Thriller   \n",
       "Star Wars: Episode VII - The Force Awakens                      Documentary   \n",
       "\n",
       "                                               actor_1_name  num_voted_users  \\\n",
       "movie_title                                                                    \n",
       "Avatar                                          CCH Pounder           886204   \n",
       "Pirates of the Caribbean: At World's End        Johnny Depp           471220   \n",
       "Spectre                                     Christoph Waltz           275868   \n",
       "The Dark Knight Rises                             Tom Hardy          1144337   \n",
       "Star Wars: Episode VII - The Force Awakens      Doug Walker                8   \n",
       "\n",
       "                                            cast_total_facebook_likes  \\\n",
       "movie_title                                                             \n",
       "Avatar                                                           4834   \n",
       "Pirates of the Caribbean: At World's End                        48350   \n",
       "Spectre                                                         11700   \n",
       "The Dark Knight Rises                                          106759   \n",
       "Star Wars: Episode VII - The Force Awakens                        143   \n",
       "\n",
       "                                                    actor_3_name  \\\n",
       "movie_title                                                        \n",
       "Avatar                                                 Wes Studi   \n",
       "Pirates of the Caribbean: At World's End          Jack Davenport   \n",
       "Spectre                                         Stephanie Sigman   \n",
       "The Dark Knight Rises                       Joseph Gordon-Levitt   \n",
       "Star Wars: Episode VII - The Force Awakens                   NaN   \n",
       "\n",
       "                                            facenumber_in_poster  \\\n",
       "movie_title                                                        \n",
       "Avatar                                                       0.0   \n",
       "Pirates of the Caribbean: At World's End                     0.0   \n",
       "Spectre                                                      1.0   \n",
       "The Dark Knight Rises                                        0.0   \n",
       "Star Wars: Episode VII - The Force Awakens                   0.0   \n",
       "\n",
       "                                                                                plot_keywords  \\\n",
       "movie_title                                                                                     \n",
       "Avatar                                                 avatar|future|marine|native|paraplegic   \n",
       "Pirates of the Caribbean: At World's End    goddess|marriage ceremony|marriage proposal|pi...   \n",
       "Spectre                                                   bomb|espionage|sequel|spy|terrorist   \n",
       "The Dark Knight Rises                       deception|imprisonment|lawlessness|police offi...   \n",
       "Star Wars: Episode VII - The Force Awakens                                                NaN   \n",
       "\n",
       "                                                                              movie_imdb_link  \\\n",
       "movie_title                                                                                     \n",
       "Avatar                                      http://www.imdb.com/title/tt0499549/?ref_=fn_t...   \n",
       "Pirates of the Caribbean: At World's End    http://www.imdb.com/title/tt0449088/?ref_=fn_t...   \n",
       "Spectre                                     http://www.imdb.com/title/tt2379713/?ref_=fn_t...   \n",
       "The Dark Knight Rises                       http://www.imdb.com/title/tt1345836/?ref_=fn_t...   \n",
       "Star Wars: Episode VII - The Force Awakens  http://www.imdb.com/title/tt5289954/?ref_=fn_t...   \n",
       "\n",
       "                                            num_user_for_reviews language  \\\n",
       "movie_title                                                                 \n",
       "Avatar                                                    3054.0  English   \n",
       "Pirates of the Caribbean: At World's End                  1238.0  English   \n",
       "Spectre                                                    994.0  English   \n",
       "The Dark Knight Rises                                     2701.0  English   \n",
       "Star Wars: Episode VII - The Force Awakens                   NaN      NaN   \n",
       "\n",
       "                                           country content_rating  \\\n",
       "movie_title                                                         \n",
       "Avatar                                         USA          PG-13   \n",
       "Pirates of the Caribbean: At World's End       USA          PG-13   \n",
       "Spectre                                         UK          PG-13   \n",
       "The Dark Knight Rises                          USA          PG-13   \n",
       "Star Wars: Episode VII - The Force Awakens     NaN            NaN   \n",
       "\n",
       "                                                 budget  title_year  \\\n",
       "movie_title                                                           \n",
       "Avatar                                      237000000.0      2009.0   \n",
       "Pirates of the Caribbean: At World's End    300000000.0      2007.0   \n",
       "Spectre                                     245000000.0      2015.0   \n",
       "The Dark Knight Rises                       250000000.0      2012.0   \n",
       "Star Wars: Episode VII - The Force Awakens          NaN         NaN   \n",
       "\n",
       "                                            actor_2_facebook_likes  \\\n",
       "movie_title                                                          \n",
       "Avatar                                                       936.0   \n",
       "Pirates of the Caribbean: At World's End                    5000.0   \n",
       "Spectre                                                      393.0   \n",
       "The Dark Knight Rises                                      23000.0   \n",
       "Star Wars: Episode VII - The Force Awakens                    12.0   \n",
       "\n",
       "                                            imdb_score  aspect_ratio  \\\n",
       "movie_title                                                            \n",
       "Avatar                                             7.9          1.78   \n",
       "Pirates of the Caribbean: At World's End           7.1          2.35   \n",
       "Spectre                                            6.8          2.35   \n",
       "The Dark Knight Rises                              8.5          2.35   \n",
       "Star Wars: Episode VII - The Force Awakens         7.1           NaN   \n",
       "\n",
       "                                            movie_facebook_likes  \n",
       "movie_title                                                       \n",
       "Avatar                                                     33000  \n",
       "Pirates of the Caribbean: At World's End                       0  \n",
       "Spectre                                                    85000  \n",
       "The Dark Knight Rises                                     164000  \n",
       "Star Wars: Episode VII - The Force Awakens                     0  "
      ]
     },
     "execution_count": 18,
     "metadata": {},
     "output_type": "execute_result"
    }
   ],
   "source": [
    "movie = pd.read_csv('data/movie.csv')\n",
    "movie = movie.set_index('movie_title')\n",
    "movie.head()"
   ]
  },
  {
   "cell_type": "markdown",
   "metadata": {},
   "source": [
    "### Problem 4\n",
    "<span  style=\"color:green; font-size:16px\">Select the director column into a variable with the same name.</span>"
   ]
  },
  {
   "cell_type": "code",
   "execution_count": 19,
   "metadata": {
    "collapsed": true
   },
   "outputs": [],
   "source": [
    "director = movie['director_name']"
   ]
  },
  {
   "cell_type": "markdown",
   "metadata": {},
   "source": [
    "### Problem 5\n",
    "<span  style=\"color:green; font-size:16px\">Output to the screen the first 10 numbers in the **`director`** Series. Remember to only use **`.loc`** and **`.iloc`** when accessing Series elements.</span>"
   ]
  },
  {
   "cell_type": "code",
   "execution_count": 20,
   "metadata": {},
   "outputs": [
    {
     "data": {
      "text/plain": [
       "movie_title\n",
       "Avatar                                            James Cameron\n",
       "Pirates of the Caribbean: At World's End         Gore Verbinski\n",
       "Spectre                                              Sam Mendes\n",
       "The Dark Knight Rises                         Christopher Nolan\n",
       "Star Wars: Episode VII - The Force Awakens          Doug Walker\n",
       "John Carter                                      Andrew Stanton\n",
       "Spider-Man 3                                          Sam Raimi\n",
       "Tangled                                            Nathan Greno\n",
       "Avengers: Age of Ultron                             Joss Whedon\n",
       "Harry Potter and the Half-Blood Prince              David Yates\n",
       "Name: director_name, dtype: object"
      ]
     },
     "execution_count": 20,
     "metadata": {},
     "output_type": "execute_result"
    }
   ],
   "source": [
    "director.iloc[:10]"
   ]
  },
  {
   "cell_type": "markdown",
   "metadata": {},
   "source": [
    "### Problem 6\n",
    "<span  style=\"color:green; font-size:16px\">Output **`director`** elements at location 40, 50 and 99</span>"
   ]
  },
  {
   "cell_type": "code",
   "execution_count": 22,
   "metadata": {},
   "outputs": [
    {
     "data": {
      "text/plain": [
       "movie_title\n",
       "TRON: Legacy                         Joseph Kosinski\n",
       "The Great Gatsby                        Baz Luhrmann\n",
       "The Hobbit: An Unexpected Journey      Peter Jackson\n",
       "Name: director_name, dtype: object"
      ]
     },
     "execution_count": 22,
     "metadata": {},
     "output_type": "execute_result"
    }
   ],
   "source": [
    "director.iloc[[40, 50, 99]]"
   ]
  },
  {
   "cell_type": "markdown",
   "metadata": {},
   "source": [
    "### Problem 7\n",
    "<span  style=\"color:green; font-size:16px\">Output the last ten values of the **`director`** Series.</span>"
   ]
  },
  {
   "cell_type": "code",
   "execution_count": 23,
   "metadata": {},
   "outputs": [
    {
     "data": {
      "text/plain": [
       "movie_title\n",
       "Primer                        Shane Carruth\n",
       "Cavite                     Neill Dela Llana\n",
       "El Mariachi                Robert Rodriguez\n",
       "The Mongol King             Anthony Vallone\n",
       "Newlyweds                      Edward Burns\n",
       "Signed Sealed Delivered         Scott Smith\n",
       "The Following                           NaN\n",
       "A Plague So Pleasant       Benjamin Roberds\n",
       "Shanghai Calling                Daniel Hsia\n",
       "My Date with Drew                  Jon Gunn\n",
       "Name: director_name, dtype: object"
      ]
     },
     "execution_count": 23,
     "metadata": {},
     "output_type": "execute_result"
    }
   ],
   "source": [
    "director[-10:]"
   ]
  },
  {
   "cell_type": "markdown",
   "metadata": {},
   "source": [
    "### Problem 8\n",
    "<span  style=\"color:green; font-size:16px\">Select the directors from the movies **The Fast and the Furious** and **Batman Begins**</span>"
   ]
  },
  {
   "cell_type": "code",
   "execution_count": 28,
   "metadata": {},
   "outputs": [
    {
     "data": {
      "text/plain": [
       "movie_title\n",
       "The Fast and the Furious            Rob Cohen\n",
       "Batman Begins               Christopher Nolan\n",
       "Name: director_name, dtype: object"
      ]
     },
     "execution_count": 28,
     "metadata": {},
     "output_type": "execute_result"
    }
   ],
   "source": [
    "director.loc[['The Fast and the Furious', 'Batman Begins']]"
   ]
  },
  {
   "cell_type": "markdown",
   "metadata": {},
   "source": [
    "### Problem 9\n",
    "<span  style=\"color:green; font-size:16px\">Think of a movie you have seen and try to select its director</span>"
   ]
  },
  {
   "cell_type": "code",
   "execution_count": 29,
   "metadata": {},
   "outputs": [
    {
     "data": {
      "text/plain": [
       "'Joel Zwick'"
      ]
     },
     "execution_count": 29,
     "metadata": {},
     "output_type": "execute_result"
    }
   ],
   "source": [
    "director.loc['My Big Fat Greek Wedding']"
   ]
  },
  {
   "cell_type": "markdown",
   "metadata": {},
   "source": [
    "### Problem 10\n",
    "<span  style=\"color:green; font-size:16px\">If two Series are added with no indices in common, what will be the outcome? Check your answer by coding this situation.</span>"
   ]
  },
  {
   "cell_type": "code",
   "execution_count": 31,
   "metadata": {},
   "outputs": [
    {
     "data": {
      "text/plain": [
       "a   NaN\n",
       "b   NaN\n",
       "c   NaN\n",
       "d   NaN\n",
       "e   NaN\n",
       "f   NaN\n",
       "dtype: float64"
      ]
     },
     "execution_count": 31,
     "metadata": {},
     "output_type": "execute_result"
    }
   ],
   "source": [
    "# all missing values\n",
    "s1 = pd.Series(data=[1,2,3], index=['a','b','c'])\n",
    "s2 = pd.Series(data=[1,2,3], index=['d','e','f'])\n",
    "\n",
    "s1 + s2"
   ]
  },
  {
   "cell_type": "markdown",
   "metadata": {},
   "source": [
    "### Problem 11\n",
    "<span  style=\"color:green; font-size:16px\">What if the two series from problem 9 were subtracted, multiplied or divided together?</span>"
   ]
  },
  {
   "cell_type": "code",
   "execution_count": 32,
   "metadata": {},
   "outputs": [
    {
     "data": {
      "text/plain": [
       "a   NaN\n",
       "b   NaN\n",
       "c   NaN\n",
       "d   NaN\n",
       "e   NaN\n",
       "f   NaN\n",
       "dtype: float64"
      ]
     },
     "execution_count": 32,
     "metadata": {},
     "output_type": "execute_result"
    }
   ],
   "source": [
    "# same thing would happen\n",
    "s1 / s2"
   ]
  },
  {
   "cell_type": "markdown",
   "metadata": {},
   "source": [
    "### Problem 12\n",
    "<span  style=\"color:green; font-size:16px\">Create two Series that have 3 elements each and when added together yield a Series that has four 4 total elements that are all not missing.</span>"
   ]
  },
  {
   "cell_type": "code",
   "execution_count": 33,
   "metadata": {},
   "outputs": [
    {
     "data": {
      "text/plain": [
       "a    2\n",
       "a    3\n",
       "b    5\n",
       "b    6\n",
       "dtype: int64"
      ]
     },
     "execution_count": 33,
     "metadata": {},
     "output_type": "execute_result"
    }
   ],
   "source": [
    "s1 = pd.Series(data=[1,2,3], index=list('aab'))\n",
    "s2 = pd.Series(data=[1,2,3], index=list('abb'))\n",
    "\n",
    "s1 + s2"
   ]
  },
  {
   "cell_type": "markdown",
   "metadata": {},
   "source": [
    "# 3. Series - Boolean Indexing"
   ]
  },
  {
   "cell_type": "code",
   "execution_count": 34,
   "metadata": {
    "collapsed": true
   },
   "outputs": [],
   "source": [
    "movie = pd.read_csv('data/movie.csv', index_col='movie_title')"
   ]
  },
  {
   "cell_type": "markdown",
   "metadata": {},
   "source": [
    "### Problem 1\n",
    "<span  style=\"color:green; font-size:16px\">Select the column **`movie_facebook_likes`** as a Series, save it to a variable with the same name and output its first 10 values.</span>"
   ]
  },
  {
   "cell_type": "code",
   "execution_count": 35,
   "metadata": {},
   "outputs": [
    {
     "data": {
      "text/plain": [
       "movie_title\n",
       "Avatar                                         33000\n",
       "Pirates of the Caribbean: At World's End           0\n",
       "Spectre                                        85000\n",
       "The Dark Knight Rises                         164000\n",
       "Star Wars: Episode VII - The Force Awakens         0\n",
       "John Carter                                    24000\n",
       "Spider-Man 3                                       0\n",
       "Tangled                                        29000\n",
       "Avengers: Age of Ultron                       118000\n",
       "Harry Potter and the Half-Blood Prince         10000\n",
       "Name: movie_facebook_likes, dtype: int64"
      ]
     },
     "execution_count": 35,
     "metadata": {},
     "output_type": "execute_result"
    }
   ],
   "source": [
    "movie_facebook_likes = movie['movie_facebook_likes']\n",
    "movie_facebook_likes.head(10)"
   ]
  },
  {
   "cell_type": "markdown",
   "metadata": {},
   "source": [
    "### Problem 2\n",
    "<span  style=\"color:green; font-size:16px\">Use boolean indexing to select all movies with 0 movie facebook likes.</span>"
   ]
  },
  {
   "cell_type": "code",
   "execution_count": 37,
   "metadata": {},
   "outputs": [
    {
     "data": {
      "text/plain": [
       "movie_title\n",
       "Pirates of the Caribbean: At World's End      0\n",
       "Star Wars: Episode VII - The Force Awakens    0\n",
       "Spider-Man 3                                  0\n",
       "Superman Returns                              0\n",
       "Quantum of Solace                             0\n",
       "Name: movie_facebook_likes, dtype: int64"
      ]
     },
     "execution_count": 37,
     "metadata": {},
     "output_type": "execute_result"
    }
   ],
   "source": [
    "movie_facebook_likes[movie_facebook_likes == 0].head()"
   ]
  },
  {
   "cell_type": "markdown",
   "metadata": {},
   "source": [
    "### Problem 3\n",
    "<span  style=\"color:green; font-size:16px\">Use boolean indexing to select all movies that don't have 0 movie facebook likes.</span>"
   ]
  },
  {
   "cell_type": "code",
   "execution_count": 39,
   "metadata": {},
   "outputs": [
    {
     "data": {
      "text/plain": [
       "movie_title\n",
       "Avatar                    33000\n",
       "Spectre                   85000\n",
       "The Dark Knight Rises    164000\n",
       "John Carter               24000\n",
       "Tangled                   29000\n",
       "Name: movie_facebook_likes, dtype: int64"
      ]
     },
     "execution_count": 39,
     "metadata": {},
     "output_type": "execute_result"
    }
   ],
   "source": [
    "movie_facebook_likes[movie_facebook_likes != 0].head()"
   ]
  },
  {
   "cell_type": "markdown",
   "metadata": {},
   "source": [
    "### Problem 4\n",
    "<span  style=\"color:green; font-size:16px\">Use boolean indexing to select all movies with more than 50,000 likes but less than 100,000</span>"
   ]
  },
  {
   "cell_type": "code",
   "execution_count": 41,
   "metadata": {},
   "outputs": [
    {
     "data": {
      "text/plain": [
       "movie_title\n",
       "Spectre                                        85000\n",
       "Pirates of the Caribbean: On Stranger Tides    58000\n",
       "The Hobbit: The Battle of the Five Armies      65000\n",
       "The Amazing Spider-Man                         56000\n",
       "The Hobbit: The Desolation of Smaug            83000\n",
       "Name: movie_facebook_likes, dtype: int64"
      ]
     },
     "execution_count": 41,
     "metadata": {},
     "output_type": "execute_result"
    }
   ],
   "source": [
    "criteria = (movie_facebook_likes > 50000) & (movie_facebook_likes < 100000)\n",
    "movie_facebook_likes[criteria].head()"
   ]
  },
  {
   "cell_type": "markdown",
   "metadata": {},
   "source": [
    "### Problem 5\n",
    "<span  style=\"color:green; font-size:16px\">Sort the values of the output from problem 4 and output the head and tail to validate the boolean indexing.</span>"
   ]
  },
  {
   "cell_type": "code",
   "execution_count": 44,
   "metadata": {},
   "outputs": [
    {
     "data": {
      "text/plain": [
       "movie_title\n",
       "The Raid: Redemption                     51000\n",
       "Exodus: Gods and Kings                   51000\n",
       "The Rock                                 51000\n",
       "Me Before You                            51000\n",
       "The Hunger Games: Mockingjay - Part 1    52000\n",
       "Name: movie_facebook_likes, dtype: int64"
      ]
     },
     "execution_count": 44,
     "metadata": {},
     "output_type": "execute_result"
    }
   ],
   "source": [
    "criteria = (movie_facebook_likes > 50000) & (movie_facebook_likes < 100000)\n",
    "sorted4 = movie_facebook_likes[criteria].sort_values()\n",
    "sorted4.head()"
   ]
  },
  {
   "cell_type": "code",
   "execution_count": 45,
   "metadata": {},
   "outputs": [
    {
     "data": {
      "text/plain": [
       "movie_title\n",
       "Guardians of the Galaxy            96000\n",
       "This Is the End                    97000\n",
       "Prometheus                         97000\n",
       "Abraham Lincoln: Vampire Hunter    98000\n",
       "The Big Short                      99000\n",
       "Name: movie_facebook_likes, dtype: int64"
      ]
     },
     "execution_count": 45,
     "metadata": {},
     "output_type": "execute_result"
    }
   ],
   "source": [
    "sorted4.tail()"
   ]
  },
  {
   "cell_type": "markdown",
   "metadata": {},
   "source": [
    "### Problem 6\n",
    "<span  style=\"color:green; font-size:16px\">Use boolean indexing to select movies with facebook likes less than 10000 or greater than 100,000.</span>"
   ]
  },
  {
   "cell_type": "code",
   "execution_count": 51,
   "metadata": {},
   "outputs": [
    {
     "data": {
      "text/plain": [
       "movie_title\n",
       "Pirates of the Caribbean: At World's End           0\n",
       "The Dark Knight Rises                         164000\n",
       "Star Wars: Episode VII - The Force Awakens         0\n",
       "Spider-Man 3                                       0\n",
       "Avengers: Age of Ultron                       118000\n",
       "Batman v Superman: Dawn of Justice            197000\n",
       "Superman Returns                                   0\n",
       "Quantum of Solace                                  0\n",
       "Pirates of the Caribbean: Dead Man's Chest      5000\n",
       "Man of Steel                                  118000\n",
       "Name: movie_facebook_likes, dtype: int64"
      ]
     },
     "execution_count": 51,
     "metadata": {},
     "output_type": "execute_result"
    }
   ],
   "source": [
    "criteria = (movie_facebook_likes < 10000) | (movie_facebook_likes > 100000)\n",
    "movie_facebook_likes[criteria].head(10)"
   ]
  },
  {
   "cell_type": "markdown",
   "metadata": {},
   "source": [
    "### Problem 7\n",
    "<span  style=\"color:green; font-size:16px\">Use boolean indexing to select movies with facebook likes less than 1000 but greater than 0 or greater than 100,000.</span>"
   ]
  },
  {
   "cell_type": "code",
   "execution_count": 53,
   "metadata": {},
   "outputs": [
    {
     "data": {
      "text/plain": [
       "movie_title\n",
       "The Dark Knight Rises                                 164000\n",
       "Avengers: Age of Ultron                               118000\n",
       "Batman v Superman: Dawn of Justice                    197000\n",
       "Pirates of the Caribbean: Dead Man's Chest              5000\n",
       "Man of Steel                                          118000\n",
       "The Avengers                                          123000\n",
       "Jurassic World                                        150000\n",
       "World War Z                                           129000\n",
       "The Great Gatsby                                      115000\n",
       "Indiana Jones and the Kingdom of the Crystal Skull      5000\n",
       "Name: movie_facebook_likes, dtype: int64"
      ]
     },
     "execution_count": 53,
     "metadata": {},
     "output_type": "execute_result"
    }
   ],
   "source": [
    "criteria = ((movie_facebook_likes > 0) & (movie_facebook_likes < 10000)) | (movie_facebook_likes > 100000)\n",
    "movie_facebook_likes[criteria].head(10)"
   ]
  },
  {
   "cell_type": "markdown",
   "metadata": {},
   "source": [
    "### Problem 8\n",
    "<span  style=\"color:green; font-size:16px\">Use boolean indexing to select movies with facebook likes less than 1000 but greater than 0 or greater than 100,000 but less than 120,000. Think about breaking up the boolean expression into two different criteria before combining them together.</span>"
   ]
  },
  {
   "cell_type": "code",
   "execution_count": 54,
   "metadata": {},
   "outputs": [
    {
     "data": {
      "text/plain": [
       "movie_title\n",
       "Avengers: Age of Ultron                               118000\n",
       "Pirates of the Caribbean: Dead Man's Chest              5000\n",
       "Man of Steel                                          118000\n",
       "The Great Gatsby                                      115000\n",
       "Indiana Jones and the Kingdom of the Crystal Skull      5000\n",
       "Evan Almighty                                           2000\n",
       "Inside Out                                            118000\n",
       "The Lovers                                               677\n",
       "Transformers                                            8000\n",
       "Night at the Museum: Battle of the Smithsonian          2000\n",
       "Name: movie_facebook_likes, dtype: int64"
      ]
     },
     "execution_count": 54,
     "metadata": {},
     "output_type": "execute_result"
    }
   ],
   "source": [
    "criteria1 = ((movie_facebook_likes > 0) & (movie_facebook_likes < 10000)) \n",
    "criteria2 = ((movie_facebook_likes > 100000) & (movie_facebook_likes < 120000))\n",
    "criteria_all = criteria1 | criteria2\n",
    "movie_facebook_likes[criteria_all].head(10)"
   ]
  },
  {
   "cell_type": "markdown",
   "metadata": {},
   "source": [
    "### Problem 9\n",
    "<span  style=\"color:green; font-size:16px\">Reverse the boolean selection from problem 8.</span>"
   ]
  },
  {
   "cell_type": "code",
   "execution_count": 55,
   "metadata": {},
   "outputs": [
    {
     "data": {
      "text/plain": [
       "movie_title\n",
       "Avatar                                         33000\n",
       "Pirates of the Caribbean: At World's End           0\n",
       "Spectre                                        85000\n",
       "The Dark Knight Rises                         164000\n",
       "Star Wars: Episode VII - The Force Awakens         0\n",
       "John Carter                                    24000\n",
       "Spider-Man 3                                       0\n",
       "Tangled                                        29000\n",
       "Harry Potter and the Half-Blood Prince         10000\n",
       "Batman v Superman: Dawn of Justice            197000\n",
       "Name: movie_facebook_likes, dtype: int64"
      ]
     },
     "execution_count": 55,
     "metadata": {},
     "output_type": "execute_result"
    }
   ],
   "source": [
    "criteria1 = ((movie_facebook_likes > 0) & (movie_facebook_likes < 10000)) \n",
    "criteria2 = ((movie_facebook_likes > 100000) & (movie_facebook_likes < 120000))\n",
    "criteria_all = criteria1 | criteria2\n",
    "movie_facebook_likes[~criteria_all].head(10)"
   ]
  },
  {
   "cell_type": "markdown",
   "metadata": {},
   "source": [
    "### Problem 10\n",
    "<span  style=\"color:green; font-size:16px\">Use the **`between`** method to replicate problem 5.</span>"
   ]
  },
  {
   "cell_type": "code",
   "execution_count": 57,
   "metadata": {},
   "outputs": [
    {
     "data": {
      "text/plain": [
       "movie_title\n",
       "Spectre                                        85000\n",
       "Pirates of the Caribbean: On Stranger Tides    58000\n",
       "The Hobbit: The Battle of the Five Armies      65000\n",
       "The Amazing Spider-Man                         56000\n",
       "The Hobbit: The Desolation of Smaug            83000\n",
       "Name: movie_facebook_likes, dtype: int64"
      ]
     },
     "execution_count": 57,
     "metadata": {},
     "output_type": "execute_result"
    }
   ],
   "source": [
    "criteria = movie_facebook_likes.between(50000, 100000, inclusive=False)\n",
    "movie_facebook_likes[criteria].head()"
   ]
  },
  {
   "cell_type": "markdown",
   "metadata": {},
   "source": [
    "### Problem 11\n",
    "<span  style=\"color:green; font-size:16px\">How many movies have more than 100,000 facebook likes?</span>"
   ]
  },
  {
   "cell_type": "code",
   "execution_count": 58,
   "metadata": {},
   "outputs": [
    {
     "data": {
      "text/plain": [
       "43"
      ]
     },
     "execution_count": 58,
     "metadata": {},
     "output_type": "execute_result"
    }
   ],
   "source": [
    "len(movie_facebook_likes[movie_facebook_likes > 100000])"
   ]
  },
  {
   "cell_type": "markdown",
   "metadata": {},
   "source": [
    "# 4. Case Study - Calculating Normality of Stock Market Returns"
   ]
  },
  {
   "cell_type": "markdown",
   "metadata": {},
   "source": [
    "### Problem 1\n",
    "<span  style=\"color:green; font-size:16px\">Use pandas-datareader to return data for the automaker Tesla (TSLA). Output the first 10 rows and save the closing price to **`tsla_close`**</span>"
   ]
  },
  {
   "cell_type": "code",
   "execution_count": 60,
   "metadata": {},
   "outputs": [
    {
     "data": {
      "text/html": [
       "<div>\n",
       "<style>\n",
       "    .dataframe thead tr:only-child th {\n",
       "        text-align: right;\n",
       "    }\n",
       "\n",
       "    .dataframe thead th {\n",
       "        text-align: left;\n",
       "    }\n",
       "\n",
       "    .dataframe tbody tr th {\n",
       "        vertical-align: top;\n",
       "    }\n",
       "</style>\n",
       "<table border=\"1\" class=\"dataframe\">\n",
       "  <thead>\n",
       "    <tr style=\"text-align: right;\">\n",
       "      <th></th>\n",
       "      <th>Open</th>\n",
       "      <th>High</th>\n",
       "      <th>Low</th>\n",
       "      <th>Close</th>\n",
       "      <th>Volume</th>\n",
       "    </tr>\n",
       "    <tr>\n",
       "      <th>Date</th>\n",
       "      <th></th>\n",
       "      <th></th>\n",
       "      <th></th>\n",
       "      <th></th>\n",
       "      <th></th>\n",
       "    </tr>\n",
       "  </thead>\n",
       "  <tbody>\n",
       "    <tr>\n",
       "      <th>2010-06-29</th>\n",
       "      <td>19.00</td>\n",
       "      <td>25.00</td>\n",
       "      <td>17.54</td>\n",
       "      <td>23.89</td>\n",
       "      <td>18783276</td>\n",
       "    </tr>\n",
       "    <tr>\n",
       "      <th>2010-06-30</th>\n",
       "      <td>25.79</td>\n",
       "      <td>30.42</td>\n",
       "      <td>23.30</td>\n",
       "      <td>23.83</td>\n",
       "      <td>17194394</td>\n",
       "    </tr>\n",
       "    <tr>\n",
       "      <th>2010-07-01</th>\n",
       "      <td>25.00</td>\n",
       "      <td>25.92</td>\n",
       "      <td>20.27</td>\n",
       "      <td>21.96</td>\n",
       "      <td>8229863</td>\n",
       "    </tr>\n",
       "    <tr>\n",
       "      <th>2010-07-02</th>\n",
       "      <td>23.00</td>\n",
       "      <td>23.10</td>\n",
       "      <td>18.71</td>\n",
       "      <td>19.20</td>\n",
       "      <td>5141807</td>\n",
       "    </tr>\n",
       "    <tr>\n",
       "      <th>2010-07-06</th>\n",
       "      <td>20.00</td>\n",
       "      <td>20.00</td>\n",
       "      <td>15.83</td>\n",
       "      <td>16.11</td>\n",
       "      <td>6879296</td>\n",
       "    </tr>\n",
       "    <tr>\n",
       "      <th>2010-07-07</th>\n",
       "      <td>16.40</td>\n",
       "      <td>16.63</td>\n",
       "      <td>14.98</td>\n",
       "      <td>15.80</td>\n",
       "      <td>6924914</td>\n",
       "    </tr>\n",
       "    <tr>\n",
       "      <th>2010-07-08</th>\n",
       "      <td>16.14</td>\n",
       "      <td>17.52</td>\n",
       "      <td>15.57</td>\n",
       "      <td>17.46</td>\n",
       "      <td>7719539</td>\n",
       "    </tr>\n",
       "    <tr>\n",
       "      <th>2010-07-09</th>\n",
       "      <td>17.58</td>\n",
       "      <td>17.90</td>\n",
       "      <td>16.55</td>\n",
       "      <td>17.40</td>\n",
       "      <td>4058606</td>\n",
       "    </tr>\n",
       "    <tr>\n",
       "      <th>2010-07-12</th>\n",
       "      <td>17.95</td>\n",
       "      <td>18.07</td>\n",
       "      <td>17.00</td>\n",
       "      <td>17.05</td>\n",
       "      <td>2203570</td>\n",
       "    </tr>\n",
       "    <tr>\n",
       "      <th>2010-07-13</th>\n",
       "      <td>17.39</td>\n",
       "      <td>18.64</td>\n",
       "      <td>16.90</td>\n",
       "      <td>18.14</td>\n",
       "      <td>2680060</td>\n",
       "    </tr>\n",
       "  </tbody>\n",
       "</table>\n",
       "</div>"
      ],
      "text/plain": [
       "             Open   High    Low  Close    Volume\n",
       "Date                                            \n",
       "2010-06-29  19.00  25.00  17.54  23.89  18783276\n",
       "2010-06-30  25.79  30.42  23.30  23.83  17194394\n",
       "2010-07-01  25.00  25.92  20.27  21.96   8229863\n",
       "2010-07-02  23.00  23.10  18.71  19.20   5141807\n",
       "2010-07-06  20.00  20.00  15.83  16.11   6879296\n",
       "2010-07-07  16.40  16.63  14.98  15.80   6924914\n",
       "2010-07-08  16.14  17.52  15.57  17.46   7719539\n",
       "2010-07-09  17.58  17.90  16.55  17.40   4058606\n",
       "2010-07-12  17.95  18.07  17.00  17.05   2203570\n",
       "2010-07-13  17.39  18.64  16.90  18.14   2680060"
      ]
     },
     "execution_count": 60,
     "metadata": {},
     "output_type": "execute_result"
    }
   ],
   "source": [
    "import pandas_datareader as pdr\n",
    "tsla = pdr.DataReader('tsla', 'google')\n",
    "tsla.head(10)"
   ]
  },
  {
   "cell_type": "code",
   "execution_count": 61,
   "metadata": {
    "collapsed": true
   },
   "outputs": [],
   "source": [
    "tsla_close = tsla['Close']"
   ]
  },
  {
   "cell_type": "markdown",
   "metadata": {},
   "source": [
    "### Problem 2\n",
    "<span  style=\"color:green; font-size:16px\">Use one line of code (with method chaining) to find the daily percentage returns of TSLA and drop any missing values. Save the result to **`tsla_change`**.</span>"
   ]
  },
  {
   "cell_type": "code",
   "execution_count": 63,
   "metadata": {},
   "outputs": [
    {
     "data": {
      "text/plain": [
       "Date\n",
       "2010-06-30   -0.002512\n",
       "2010-07-01   -0.078473\n",
       "2010-07-02   -0.125683\n",
       "2010-07-06   -0.160937\n",
       "2010-07-07   -0.019243\n",
       "Name: Close, dtype: float64"
      ]
     },
     "execution_count": 63,
     "metadata": {},
     "output_type": "execute_result"
    }
   ],
   "source": [
    "tsla_change = tsla_close.pct_change().dropna()\n",
    "tsla_change.head()"
   ]
  },
  {
   "cell_type": "markdown",
   "metadata": {},
   "source": [
    "### Problem 3\n",
    "<span  style=\"color:green; font-size:16px\">Find the mean daily return for Tesla. Then select the first and last closing prices. Also get the number of trading days. Store all four of these values into variables.</span>"
   ]
  },
  {
   "cell_type": "code",
   "execution_count": 65,
   "metadata": {},
   "outputs": [
    {
     "data": {
      "text/plain": [
       "(0.002003997942126599, 23.890000000000001, 329.92000000000002, 1777)"
      ]
     },
     "execution_count": 65,
     "metadata": {},
     "output_type": "execute_result"
    }
   ],
   "source": [
    "mean = tsla_change.mean()\n",
    "first = tsla_close.iloc[0]\n",
    "last = tsla_close.iloc[-1]\n",
    "n = tsla_change.size\n",
    "mean, first, last, n"
   ]
  },
  {
   "cell_type": "markdown",
   "metadata": {},
   "source": [
    "### Problem 4\n",
    "<span  style=\"color:green; font-size:16px\">If Tesla returned its mean percentage return every single day since the first day you have data, what would its last closing price be? Is it the same as the actual last closing price? You need to use all the variables calculated from problem 3.</span>"
   ]
  },
  {
   "cell_type": "code",
   "execution_count": 69,
   "metadata": {},
   "outputs": [
    {
     "data": {
      "text/plain": [
       "837.98553717868447"
      ]
     },
     "execution_count": 69,
     "metadata": {},
     "output_type": "execute_result"
    }
   ],
   "source": [
    "first * (mean + 1) ** n"
   ]
  },
  {
   "cell_type": "code",
   "execution_count": 67,
   "metadata": {},
   "outputs": [
    {
     "data": {
      "text/plain": [
       "329.92000000000002"
      ]
     },
     "execution_count": 67,
     "metadata": {},
     "output_type": "execute_result"
    }
   ],
   "source": [
    "last"
   ]
  },
  {
   "cell_type": "markdown",
   "metadata": {},
   "source": [
    "### Problem 5\n",
    "<span  style=\"color:green; font-size:16px\">Find the raw number of standard deviations away from the mean for the Tesla daily returns. Save this to a variable **`z_score_raw`**. What is the max and minimum score?</span>"
   ]
  },
  {
   "cell_type": "code",
   "execution_count": 77,
   "metadata": {},
   "outputs": [
    {
     "data": {
      "text/plain": [
       "Date\n",
       "2010-06-30   -0.138667\n",
       "2010-07-01   -2.471363\n",
       "2010-07-02   -3.921158\n",
       "2010-07-06   -5.003791\n",
       "2010-07-07   -0.652468\n",
       "Name: Close, dtype: float64"
      ]
     },
     "execution_count": 77,
     "metadata": {},
     "output_type": "execute_result"
    }
   ],
   "source": [
    "std = tsla_change.std()\n",
    "z_score_raw = tsla_change.sub(mean).div(std)\n",
    "z_score_raw.head()"
   ]
  },
  {
   "cell_type": "code",
   "execution_count": 78,
   "metadata": {},
   "outputs": [
    {
     "data": {
      "text/plain": [
       "(7.4299662146296868, -5.9968267401356767)"
      ]
     },
     "execution_count": 78,
     "metadata": {},
     "output_type": "execute_result"
    }
   ],
   "source": [
    "z_score_raw.max(), z_score_raw.min()"
   ]
  },
  {
   "cell_type": "markdown",
   "metadata": {},
   "source": [
    "### Problem 6\n",
    "<span  style=\"color:green; font-size:16px\">What percentage did Tesla stock increase when it had its highest maximum raw z-score?</span>"
   ]
  },
  {
   "cell_type": "code",
   "execution_count": 81,
   "metadata": {},
   "outputs": [
    {
     "data": {
      "text/plain": [
       "Date\n",
       "2013-05-09    0.243951\n",
       "Name: Close, dtype: float64"
      ]
     },
     "execution_count": 81,
     "metadata": {},
     "output_type": "execute_result"
    }
   ],
   "source": [
    "tsla_change[z_score_raw == z_score_raw.max()]"
   ]
  },
  {
   "cell_type": "markdown",
   "metadata": {},
   "source": [
    "### Problem 7\n",
    "<span  style=\"color:green; font-size:16px\">Create a function that accepts a stock ticker symbol (amzn for example) and returns the percentage of prices within 1, 2, and 3 standard deviations from the mean. Use your function to return results for different stocks (tsla, fb, slb, gm, etc...)</span>"
   ]
  },
  {
   "cell_type": "code",
   "execution_count": 84,
   "metadata": {
    "collapsed": true
   },
   "outputs": [],
   "source": [
    "def stock_pct_finder(symbol):\n",
    "    prices = pdr.DataReader(symbol, 'google')\n",
    "    close = prices['Close']\n",
    "    close_change = close.pct_change().dropna()\n",
    "    \n",
    "    mean = close_change.mean()\n",
    "    std = close_change.std()\n",
    "    z_score = close_change.sub(mean).div(std).abs()\n",
    "    \n",
    "    pct_within1 = z_score.lt(1).mean()\n",
    "    pct_within2 = z_score.lt(2).mean()\n",
    "    pct_within3 = z_score.lt(3).mean()\n",
    "\n",
    "    return pct_within1, pct_within2, pct_within3"
   ]
  },
  {
   "cell_type": "code",
   "execution_count": 85,
   "metadata": {},
   "outputs": [
    {
     "data": {
      "text/plain": [
       "(0.78714436248682829, 0.95626975763962063, 0.9847207586933614)"
      ]
     },
     "execution_count": 85,
     "metadata": {},
     "output_type": "execute_result"
    }
   ],
   "source": [
    "stock_pct_finder('amzn')"
   ]
  },
  {
   "cell_type": "code",
   "execution_count": 86,
   "metadata": {},
   "outputs": [
    {
     "data": {
      "text/plain": [
       "(0.80322828593389706, 0.95695618754804002, 0.98923904688701003)"
      ]
     },
     "execution_count": 86,
     "metadata": {},
     "output_type": "execute_result"
    }
   ],
   "source": [
    "stock_pct_finder('fb')"
   ]
  },
  {
   "cell_type": "code",
   "execution_count": 87,
   "metadata": {},
   "outputs": [
    {
     "data": {
      "text/plain": [
       "(0.74236037934668075, 0.94573234984193888, 0.98630136986301364)"
      ]
     },
     "execution_count": 87,
     "metadata": {},
     "output_type": "execute_result"
    }
   ],
   "source": [
    "stock_pct_finder('slb')"
   ]
  },
  {
   "cell_type": "code",
   "execution_count": 88,
   "metadata": {},
   "outputs": [
    {
     "data": {
      "text/plain": [
       "(0.7861564434440067, 0.95385481148002249, 0.98424310635903212)"
      ]
     },
     "execution_count": 88,
     "metadata": {},
     "output_type": "execute_result"
    }
   ],
   "source": [
    "stock_pct_finder('tsla')"
   ]
  },
  {
   "cell_type": "markdown",
   "metadata": {},
   "source": [
    "### Problem 8\n",
    "<span  style=\"color:green; font-size:16px\"> How many days did Tesla close above 100 and below 150?</span>"
   ]
  },
  {
   "cell_type": "code",
   "execution_count": 89,
   "metadata": {},
   "outputs": [
    {
     "data": {
      "text/plain": [
       "Date\n",
       "2013-05-28    110.33\n",
       "2013-05-29    104.63\n",
       "2013-05-30    104.95\n",
       "2013-06-07    102.04\n",
       "2013-06-10    100.05\n",
       "2013-06-14    100.30\n",
       "2013-06-17    102.20\n",
       "2013-06-18    103.39\n",
       "2013-06-19    104.68\n",
       "2013-06-20    100.65\n",
       "2013-06-24    101.49\n",
       "2013-06-25    102.40\n",
       "2013-06-26    105.72\n",
       "2013-06-27    109.25\n",
       "2013-06-28    107.36\n",
       "Name: Close, dtype: float64"
      ]
     },
     "execution_count": 89,
     "metadata": {},
     "output_type": "execute_result"
    }
   ],
   "source": [
    "criteria = (tsla_close > 100) & (tsla_close < 150)\n",
    "\n",
    "#inspect data\n",
    "tsla_close[criteria].head(15)"
   ]
  },
  {
   "cell_type": "code",
   "execution_count": 90,
   "metadata": {},
   "outputs": [
    {
     "data": {
      "text/plain": [
       "90"
      ]
     },
     "execution_count": 90,
     "metadata": {},
     "output_type": "execute_result"
    }
   ],
   "source": [
    "tsla_close[criteria].size"
   ]
  },
  {
   "cell_type": "code",
   "execution_count": 91,
   "metadata": {},
   "outputs": [
    {
     "data": {
      "text/plain": [
       "90"
      ]
     },
     "execution_count": 91,
     "metadata": {},
     "output_type": "execute_result"
    }
   ],
   "source": [
    "# or using sum method\n",
    "criteria.sum()"
   ]
  },
  {
   "cell_type": "code",
   "execution_count": 93,
   "metadata": {},
   "outputs": [
    {
     "data": {
      "text/plain": [
       "90"
      ]
     },
     "execution_count": 93,
     "metadata": {},
     "output_type": "execute_result"
    }
   ],
   "source": [
    "# one line\n",
    "((tsla_close > 100) & (tsla_close < 150)).sum()"
   ]
  },
  {
   "cell_type": "markdown",
   "metadata": {},
   "source": [
    "### Problem 9\n",
    "<span  style=\"color:green; font-size:16px\"> How many days did Tesla close below 50 or above 200?</span>"
   ]
  },
  {
   "cell_type": "code",
   "execution_count": 94,
   "metadata": {},
   "outputs": [
    {
     "data": {
      "text/plain": [
       "1447"
      ]
     },
     "execution_count": 94,
     "metadata": {},
     "output_type": "execute_result"
    }
   ],
   "source": [
    "((tsla_close < 50) | (tsla_close > 200)).sum()"
   ]
  },
  {
   "cell_type": "markdown",
   "metadata": {},
   "source": [
    "### Problem 10\n",
    "<span  style=\"color:green; font-size:16px\"> Lookup the definition for interquartile range and slice Tesla closing prices so it contains just the interquartile range. There are multiple ways to do this. Check the **`quantile`** method.</span>"
   ]
  },
  {
   "cell_type": "code",
   "execution_count": 96,
   "metadata": {},
   "outputs": [
    {
     "data": {
      "text/plain": [
       "Date\n",
       "2011-12-12    30.41\n",
       "2012-05-30    30.41\n",
       "2010-12-13    30.55\n",
       "2012-07-23    30.66\n",
       "2012-09-24    30.66\n",
       "Name: Close, dtype: float64"
      ]
     },
     "execution_count": 96,
     "metadata": {},
     "output_type": "execute_result"
    }
   ],
   "source": [
    "# a few ways to do this\n",
    "n = tsla_close.size\n",
    "first_q = n // 4\n",
    "third_q = n // 4 * 3\n",
    "\n",
    "tsla_close.sort_values().iloc[first_q:third_q].head()"
   ]
  },
  {
   "cell_type": "code",
   "execution_count": 100,
   "metadata": {},
   "outputs": [
    {
     "data": {
      "text/plain": [
       "Date\n",
       "2011-12-12    30.41\n",
       "2012-05-30    30.41\n",
       "2010-12-13    30.55\n",
       "2012-09-24    30.66\n",
       "2012-07-23    30.66\n",
       "Name: Close, dtype: float64"
      ]
     },
     "execution_count": 100,
     "metadata": {},
     "output_type": "execute_result"
    }
   ],
   "source": [
    "# can use the quantile method\n",
    "q1 = tsla_close.quantile(.25)\n",
    "q3 = tsla_close.quantile(.75)\n",
    "\n",
    "criteria = (tsla_close >= q1) & (tsla_close <= q3)\n",
    "\n",
    "tsla_close[criteria].sort_values().head()"
   ]
  },
  {
   "cell_type": "markdown",
   "metadata": {},
   "source": [
    "### Problem 11\n",
    "<span  style=\"color:green; font-size:16px\">Use the **`idxmax`** method to find the index label of the highest closing price. Find out how many trading days it has been since Tesla recorded it highest closing price.</span>"
   ]
  },
  {
   "cell_type": "code",
   "execution_count": 101,
   "metadata": {
    "scrolled": true
   },
   "outputs": [
    {
     "data": {
      "text/plain": [
       "Timestamp('2017-06-23 00:00:00')"
      ]
     },
     "execution_count": 101,
     "metadata": {},
     "output_type": "execute_result"
    }
   ],
   "source": [
    "highest_index = tsla_close.idxmax()\n",
    "highest_index"
   ]
  },
  {
   "cell_type": "code",
   "execution_count": 103,
   "metadata": {},
   "outputs": [
    {
     "data": {
      "text/plain": [
       "19"
      ]
     },
     "execution_count": 103,
     "metadata": {},
     "output_type": "execute_result"
    }
   ],
   "source": [
    "tsla_close.loc[highest_index:].size"
   ]
  },
  {
   "cell_type": "markdown",
   "metadata": {},
   "source": [
    "# 5. DataFrame Basics"
   ]
  },
  {
   "cell_type": "code",
   "execution_count": 104,
   "metadata": {
    "collapsed": true
   },
   "outputs": [],
   "source": [
    "import pandas as pd\n",
    "import numpy as np\n",
    "movie = pd.read_csv('data/movie.csv', index_col='movie_title')"
   ]
  },
  {
   "cell_type": "markdown",
   "metadata": {},
   "source": [
    "### Problem 1\n",
    "<span  style=\"color:green; font-size:16px\">Use the **`describe`** method on the movie dataset and include only the object columns. Transpose the output.</span>"
   ]
  },
  {
   "cell_type": "code",
   "execution_count": 107,
   "metadata": {},
   "outputs": [
    {
     "data": {
      "text/html": [
       "<div>\n",
       "<style>\n",
       "    .dataframe thead tr:only-child th {\n",
       "        text-align: right;\n",
       "    }\n",
       "\n",
       "    .dataframe thead th {\n",
       "        text-align: left;\n",
       "    }\n",
       "\n",
       "    .dataframe tbody tr th {\n",
       "        vertical-align: top;\n",
       "    }\n",
       "</style>\n",
       "<table border=\"1\" class=\"dataframe\">\n",
       "  <thead>\n",
       "    <tr style=\"text-align: right;\">\n",
       "      <th></th>\n",
       "      <th>count</th>\n",
       "      <th>unique</th>\n",
       "      <th>top</th>\n",
       "      <th>freq</th>\n",
       "    </tr>\n",
       "  </thead>\n",
       "  <tbody>\n",
       "    <tr>\n",
       "      <th>color</th>\n",
       "      <td>4897</td>\n",
       "      <td>2</td>\n",
       "      <td>Color</td>\n",
       "      <td>4693</td>\n",
       "    </tr>\n",
       "    <tr>\n",
       "      <th>director_name</th>\n",
       "      <td>4814</td>\n",
       "      <td>2397</td>\n",
       "      <td>Steven Spielberg</td>\n",
       "      <td>26</td>\n",
       "    </tr>\n",
       "    <tr>\n",
       "      <th>actor_2_name</th>\n",
       "      <td>4903</td>\n",
       "      <td>3030</td>\n",
       "      <td>Morgan Freeman</td>\n",
       "      <td>18</td>\n",
       "    </tr>\n",
       "    <tr>\n",
       "      <th>genres</th>\n",
       "      <td>4916</td>\n",
       "      <td>914</td>\n",
       "      <td>Drama</td>\n",
       "      <td>233</td>\n",
       "    </tr>\n",
       "    <tr>\n",
       "      <th>actor_1_name</th>\n",
       "      <td>4909</td>\n",
       "      <td>2095</td>\n",
       "      <td>Robert De Niro</td>\n",
       "      <td>48</td>\n",
       "    </tr>\n",
       "    <tr>\n",
       "      <th>actor_3_name</th>\n",
       "      <td>4893</td>\n",
       "      <td>3519</td>\n",
       "      <td>Steve Coogan</td>\n",
       "      <td>8</td>\n",
       "    </tr>\n",
       "    <tr>\n",
       "      <th>plot_keywords</th>\n",
       "      <td>4764</td>\n",
       "      <td>4756</td>\n",
       "      <td>based on novel</td>\n",
       "      <td>4</td>\n",
       "    </tr>\n",
       "    <tr>\n",
       "      <th>movie_imdb_link</th>\n",
       "      <td>4916</td>\n",
       "      <td>4916</td>\n",
       "      <td>http://www.imdb.com/title/tt0387877/?ref_=fn_t...</td>\n",
       "      <td>1</td>\n",
       "    </tr>\n",
       "    <tr>\n",
       "      <th>language</th>\n",
       "      <td>4904</td>\n",
       "      <td>47</td>\n",
       "      <td>English</td>\n",
       "      <td>4582</td>\n",
       "    </tr>\n",
       "    <tr>\n",
       "      <th>country</th>\n",
       "      <td>4911</td>\n",
       "      <td>65</td>\n",
       "      <td>USA</td>\n",
       "      <td>3710</td>\n",
       "    </tr>\n",
       "    <tr>\n",
       "      <th>content_rating</th>\n",
       "      <td>4616</td>\n",
       "      <td>18</td>\n",
       "      <td>R</td>\n",
       "      <td>2067</td>\n",
       "    </tr>\n",
       "  </tbody>\n",
       "</table>\n",
       "</div>"
      ],
      "text/plain": [
       "                count unique  \\\n",
       "color            4897      2   \n",
       "director_name    4814   2397   \n",
       "actor_2_name     4903   3030   \n",
       "genres           4916    914   \n",
       "actor_1_name     4909   2095   \n",
       "actor_3_name     4893   3519   \n",
       "plot_keywords    4764   4756   \n",
       "movie_imdb_link  4916   4916   \n",
       "language         4904     47   \n",
       "country          4911     65   \n",
       "content_rating   4616     18   \n",
       "\n",
       "                                                               top  freq  \n",
       "color                                                        Color  4693  \n",
       "director_name                                     Steven Spielberg    26  \n",
       "actor_2_name                                        Morgan Freeman    18  \n",
       "genres                                                       Drama   233  \n",
       "actor_1_name                                        Robert De Niro    48  \n",
       "actor_3_name                                          Steve Coogan     8  \n",
       "plot_keywords                                       based on novel     4  \n",
       "movie_imdb_link  http://www.imdb.com/title/tt0387877/?ref_=fn_t...     1  \n",
       "language                                                   English  4582  \n",
       "country                                                        USA  3710  \n",
       "content_rating                                                   R  2067  "
      ]
     },
     "execution_count": 107,
     "metadata": {},
     "output_type": "execute_result"
    }
   ],
   "source": [
    "movie.describe(include=[np.object]).T"
   ]
  },
  {
   "cell_type": "markdown",
   "metadata": {},
   "source": [
    "### Problem 2\n",
    "<span  style=\"color:green; font-size:16px\">Use the **`type`** function to output the object type for both the index and the columns.</span>"
   ]
  },
  {
   "cell_type": "code",
   "execution_count": 108,
   "metadata": {},
   "outputs": [
    {
     "data": {
      "text/plain": [
       "pandas.core.indexes.base.Index"
      ]
     },
     "execution_count": 108,
     "metadata": {},
     "output_type": "execute_result"
    }
   ],
   "source": [
    "type(movie.columns)"
   ]
  },
  {
   "cell_type": "code",
   "execution_count": 109,
   "metadata": {},
   "outputs": [
    {
     "data": {
      "text/plain": [
       "pandas.core.indexes.base.Index"
      ]
     },
     "execution_count": 109,
     "metadata": {},
     "output_type": "execute_result"
    }
   ],
   "source": [
    "type(movie.index)"
   ]
  },
  {
   "cell_type": "markdown",
   "metadata": {},
   "source": [
    "### Problem 3\n",
    "<span  style=\"color:green; font-size:16px\">Select all three actor name columns.</span>"
   ]
  },
  {
   "cell_type": "code",
   "execution_count": 110,
   "metadata": {},
   "outputs": [
    {
     "data": {
      "text/html": [
       "<div>\n",
       "<style>\n",
       "    .dataframe thead tr:only-child th {\n",
       "        text-align: right;\n",
       "    }\n",
       "\n",
       "    .dataframe thead th {\n",
       "        text-align: left;\n",
       "    }\n",
       "\n",
       "    .dataframe tbody tr th {\n",
       "        vertical-align: top;\n",
       "    }\n",
       "</style>\n",
       "<table border=\"1\" class=\"dataframe\">\n",
       "  <thead>\n",
       "    <tr style=\"text-align: right;\">\n",
       "      <th></th>\n",
       "      <th>actor_1_name</th>\n",
       "      <th>actor_2_name</th>\n",
       "      <th>actor_3_name</th>\n",
       "    </tr>\n",
       "    <tr>\n",
       "      <th>movie_title</th>\n",
       "      <th></th>\n",
       "      <th></th>\n",
       "      <th></th>\n",
       "    </tr>\n",
       "  </thead>\n",
       "  <tbody>\n",
       "    <tr>\n",
       "      <th>Avatar</th>\n",
       "      <td>CCH Pounder</td>\n",
       "      <td>Joel David Moore</td>\n",
       "      <td>Wes Studi</td>\n",
       "    </tr>\n",
       "    <tr>\n",
       "      <th>Pirates of the Caribbean: At World's End</th>\n",
       "      <td>Johnny Depp</td>\n",
       "      <td>Orlando Bloom</td>\n",
       "      <td>Jack Davenport</td>\n",
       "    </tr>\n",
       "    <tr>\n",
       "      <th>Spectre</th>\n",
       "      <td>Christoph Waltz</td>\n",
       "      <td>Rory Kinnear</td>\n",
       "      <td>Stephanie Sigman</td>\n",
       "    </tr>\n",
       "    <tr>\n",
       "      <th>The Dark Knight Rises</th>\n",
       "      <td>Tom Hardy</td>\n",
       "      <td>Christian Bale</td>\n",
       "      <td>Joseph Gordon-Levitt</td>\n",
       "    </tr>\n",
       "    <tr>\n",
       "      <th>Star Wars: Episode VII - The Force Awakens</th>\n",
       "      <td>Doug Walker</td>\n",
       "      <td>Rob Walker</td>\n",
       "      <td>NaN</td>\n",
       "    </tr>\n",
       "  </tbody>\n",
       "</table>\n",
       "</div>"
      ],
      "text/plain": [
       "                                               actor_1_name      actor_2_name  \\\n",
       "movie_title                                                                     \n",
       "Avatar                                          CCH Pounder  Joel David Moore   \n",
       "Pirates of the Caribbean: At World's End        Johnny Depp     Orlando Bloom   \n",
       "Spectre                                     Christoph Waltz      Rory Kinnear   \n",
       "The Dark Knight Rises                             Tom Hardy    Christian Bale   \n",
       "Star Wars: Episode VII - The Force Awakens      Doug Walker        Rob Walker   \n",
       "\n",
       "                                                    actor_3_name  \n",
       "movie_title                                                       \n",
       "Avatar                                                 Wes Studi  \n",
       "Pirates of the Caribbean: At World's End          Jack Davenport  \n",
       "Spectre                                         Stephanie Sigman  \n",
       "The Dark Knight Rises                       Joseph Gordon-Levitt  \n",
       "Star Wars: Episode VII - The Force Awakens                   NaN  "
      ]
     },
     "execution_count": 110,
     "metadata": {},
     "output_type": "execute_result"
    }
   ],
   "source": [
    "movie[['actor_1_name', 'actor_2_name', 'actor_3_name']].head()"
   ]
  },
  {
   "cell_type": "markdown",
   "metadata": {},
   "source": [
    "### Problem 4\n",
    "<span  style=\"color:green; font-size:16px\">Select the content rating column as a Series and then as a DataFrame</span>"
   ]
  },
  {
   "cell_type": "code",
   "execution_count": 111,
   "metadata": {},
   "outputs": [
    {
     "data": {
      "text/plain": [
       "movie_title\n",
       "Avatar                                        PG-13\n",
       "Pirates of the Caribbean: At World's End      PG-13\n",
       "Spectre                                       PG-13\n",
       "The Dark Knight Rises                         PG-13\n",
       "Star Wars: Episode VII - The Force Awakens      NaN\n",
       "Name: content_rating, dtype: object"
      ]
     },
     "execution_count": 111,
     "metadata": {},
     "output_type": "execute_result"
    }
   ],
   "source": [
    "movie['content_rating'].head()"
   ]
  },
  {
   "cell_type": "code",
   "execution_count": 112,
   "metadata": {},
   "outputs": [
    {
     "data": {
      "text/html": [
       "<div>\n",
       "<style>\n",
       "    .dataframe thead tr:only-child th {\n",
       "        text-align: right;\n",
       "    }\n",
       "\n",
       "    .dataframe thead th {\n",
       "        text-align: left;\n",
       "    }\n",
       "\n",
       "    .dataframe tbody tr th {\n",
       "        vertical-align: top;\n",
       "    }\n",
       "</style>\n",
       "<table border=\"1\" class=\"dataframe\">\n",
       "  <thead>\n",
       "    <tr style=\"text-align: right;\">\n",
       "      <th></th>\n",
       "      <th>content_rating</th>\n",
       "    </tr>\n",
       "    <tr>\n",
       "      <th>movie_title</th>\n",
       "      <th></th>\n",
       "    </tr>\n",
       "  </thead>\n",
       "  <tbody>\n",
       "    <tr>\n",
       "      <th>Avatar</th>\n",
       "      <td>PG-13</td>\n",
       "    </tr>\n",
       "    <tr>\n",
       "      <th>Pirates of the Caribbean: At World's End</th>\n",
       "      <td>PG-13</td>\n",
       "    </tr>\n",
       "    <tr>\n",
       "      <th>Spectre</th>\n",
       "      <td>PG-13</td>\n",
       "    </tr>\n",
       "    <tr>\n",
       "      <th>The Dark Knight Rises</th>\n",
       "      <td>PG-13</td>\n",
       "    </tr>\n",
       "    <tr>\n",
       "      <th>Star Wars: Episode VII - The Force Awakens</th>\n",
       "      <td>NaN</td>\n",
       "    </tr>\n",
       "  </tbody>\n",
       "</table>\n",
       "</div>"
      ],
      "text/plain": [
       "                                           content_rating\n",
       "movie_title                                              \n",
       "Avatar                                              PG-13\n",
       "Pirates of the Caribbean: At World's End            PG-13\n",
       "Spectre                                             PG-13\n",
       "The Dark Knight Rises                               PG-13\n",
       "Star Wars: Episode VII - The Force Awakens            NaN"
      ]
     },
     "execution_count": 112,
     "metadata": {},
     "output_type": "execute_result"
    }
   ],
   "source": [
    "movie[['content_rating']].head()"
   ]
  },
  {
   "cell_type": "markdown",
   "metadata": {},
   "source": [
    "### Problem 5\n",
    "<span  style=\"color:green; font-size:16px\">Select the 3rd and 5th rows from the movie dataset</span>"
   ]
  },
  {
   "cell_type": "code",
   "execution_count": 114,
   "metadata": {},
   "outputs": [
    {
     "data": {
      "text/html": [
       "<div>\n",
       "<style>\n",
       "    .dataframe thead tr:only-child th {\n",
       "        text-align: right;\n",
       "    }\n",
       "\n",
       "    .dataframe thead th {\n",
       "        text-align: left;\n",
       "    }\n",
       "\n",
       "    .dataframe tbody tr th {\n",
       "        vertical-align: top;\n",
       "    }\n",
       "</style>\n",
       "<table border=\"1\" class=\"dataframe\">\n",
       "  <thead>\n",
       "    <tr style=\"text-align: right;\">\n",
       "      <th></th>\n",
       "      <th>color</th>\n",
       "      <th>director_name</th>\n",
       "      <th>num_critic_for_reviews</th>\n",
       "      <th>duration</th>\n",
       "      <th>director_facebook_likes</th>\n",
       "      <th>actor_3_facebook_likes</th>\n",
       "      <th>actor_2_name</th>\n",
       "      <th>actor_1_facebook_likes</th>\n",
       "      <th>gross</th>\n",
       "      <th>genres</th>\n",
       "      <th>actor_1_name</th>\n",
       "      <th>num_voted_users</th>\n",
       "      <th>cast_total_facebook_likes</th>\n",
       "      <th>actor_3_name</th>\n",
       "      <th>facenumber_in_poster</th>\n",
       "      <th>plot_keywords</th>\n",
       "      <th>movie_imdb_link</th>\n",
       "      <th>num_user_for_reviews</th>\n",
       "      <th>language</th>\n",
       "      <th>country</th>\n",
       "      <th>content_rating</th>\n",
       "      <th>budget</th>\n",
       "      <th>title_year</th>\n",
       "      <th>actor_2_facebook_likes</th>\n",
       "      <th>imdb_score</th>\n",
       "      <th>aspect_ratio</th>\n",
       "      <th>movie_facebook_likes</th>\n",
       "    </tr>\n",
       "    <tr>\n",
       "      <th>movie_title</th>\n",
       "      <th></th>\n",
       "      <th></th>\n",
       "      <th></th>\n",
       "      <th></th>\n",
       "      <th></th>\n",
       "      <th></th>\n",
       "      <th></th>\n",
       "      <th></th>\n",
       "      <th></th>\n",
       "      <th></th>\n",
       "      <th></th>\n",
       "      <th></th>\n",
       "      <th></th>\n",
       "      <th></th>\n",
       "      <th></th>\n",
       "      <th></th>\n",
       "      <th></th>\n",
       "      <th></th>\n",
       "      <th></th>\n",
       "      <th></th>\n",
       "      <th></th>\n",
       "      <th></th>\n",
       "      <th></th>\n",
       "      <th></th>\n",
       "      <th></th>\n",
       "      <th></th>\n",
       "      <th></th>\n",
       "    </tr>\n",
       "  </thead>\n",
       "  <tbody>\n",
       "    <tr>\n",
       "      <th>The Dark Knight Rises</th>\n",
       "      <td>Color</td>\n",
       "      <td>Christopher Nolan</td>\n",
       "      <td>813.0</td>\n",
       "      <td>164.0</td>\n",
       "      <td>22000.0</td>\n",
       "      <td>23000.0</td>\n",
       "      <td>Christian Bale</td>\n",
       "      <td>27000.0</td>\n",
       "      <td>448130642.0</td>\n",
       "      <td>Action|Thriller</td>\n",
       "      <td>Tom Hardy</td>\n",
       "      <td>1144337</td>\n",
       "      <td>106759</td>\n",
       "      <td>Joseph Gordon-Levitt</td>\n",
       "      <td>0.0</td>\n",
       "      <td>deception|imprisonment|lawlessness|police offi...</td>\n",
       "      <td>http://www.imdb.com/title/tt1345836/?ref_=fn_t...</td>\n",
       "      <td>2701.0</td>\n",
       "      <td>English</td>\n",
       "      <td>USA</td>\n",
       "      <td>PG-13</td>\n",
       "      <td>250000000.0</td>\n",
       "      <td>2012.0</td>\n",
       "      <td>23000.0</td>\n",
       "      <td>8.5</td>\n",
       "      <td>2.35</td>\n",
       "      <td>164000</td>\n",
       "    </tr>\n",
       "    <tr>\n",
       "      <th>John Carter</th>\n",
       "      <td>Color</td>\n",
       "      <td>Andrew Stanton</td>\n",
       "      <td>462.0</td>\n",
       "      <td>132.0</td>\n",
       "      <td>475.0</td>\n",
       "      <td>530.0</td>\n",
       "      <td>Samantha Morton</td>\n",
       "      <td>640.0</td>\n",
       "      <td>73058679.0</td>\n",
       "      <td>Action|Adventure|Sci-Fi</td>\n",
       "      <td>Daryl Sabara</td>\n",
       "      <td>212204</td>\n",
       "      <td>1873</td>\n",
       "      <td>Polly Walker</td>\n",
       "      <td>1.0</td>\n",
       "      <td>alien|american civil war|male nipple|mars|prin...</td>\n",
       "      <td>http://www.imdb.com/title/tt0401729/?ref_=fn_t...</td>\n",
       "      <td>738.0</td>\n",
       "      <td>English</td>\n",
       "      <td>USA</td>\n",
       "      <td>PG-13</td>\n",
       "      <td>263700000.0</td>\n",
       "      <td>2012.0</td>\n",
       "      <td>632.0</td>\n",
       "      <td>6.6</td>\n",
       "      <td>2.35</td>\n",
       "      <td>24000</td>\n",
       "    </tr>\n",
       "  </tbody>\n",
       "</table>\n",
       "</div>"
      ],
      "text/plain": [
       "                       color      director_name  num_critic_for_reviews  \\\n",
       "movie_title                                                               \n",
       "The Dark Knight Rises  Color  Christopher Nolan                   813.0   \n",
       "John Carter            Color     Andrew Stanton                   462.0   \n",
       "\n",
       "                       duration  director_facebook_likes  \\\n",
       "movie_title                                                \n",
       "The Dark Knight Rises     164.0                  22000.0   \n",
       "John Carter               132.0                    475.0   \n",
       "\n",
       "                       actor_3_facebook_likes     actor_2_name  \\\n",
       "movie_title                                                      \n",
       "The Dark Knight Rises                 23000.0   Christian Bale   \n",
       "John Carter                             530.0  Samantha Morton   \n",
       "\n",
       "                       actor_1_facebook_likes        gross  \\\n",
       "movie_title                                                  \n",
       "The Dark Knight Rises                 27000.0  448130642.0   \n",
       "John Carter                             640.0   73058679.0   \n",
       "\n",
       "                                        genres  actor_1_name  num_voted_users  \\\n",
       "movie_title                                                                     \n",
       "The Dark Knight Rises          Action|Thriller     Tom Hardy          1144337   \n",
       "John Carter            Action|Adventure|Sci-Fi  Daryl Sabara           212204   \n",
       "\n",
       "                       cast_total_facebook_likes          actor_3_name  \\\n",
       "movie_title                                                              \n",
       "The Dark Knight Rises                     106759  Joseph Gordon-Levitt   \n",
       "John Carter                                 1873          Polly Walker   \n",
       "\n",
       "                       facenumber_in_poster  \\\n",
       "movie_title                                   \n",
       "The Dark Knight Rises                   0.0   \n",
       "John Carter                             1.0   \n",
       "\n",
       "                                                           plot_keywords  \\\n",
       "movie_title                                                                \n",
       "The Dark Knight Rises  deception|imprisonment|lawlessness|police offi...   \n",
       "John Carter            alien|american civil war|male nipple|mars|prin...   \n",
       "\n",
       "                                                         movie_imdb_link  \\\n",
       "movie_title                                                                \n",
       "The Dark Knight Rises  http://www.imdb.com/title/tt1345836/?ref_=fn_t...   \n",
       "John Carter            http://www.imdb.com/title/tt0401729/?ref_=fn_t...   \n",
       "\n",
       "                       num_user_for_reviews language country content_rating  \\\n",
       "movie_title                                                                   \n",
       "The Dark Knight Rises                2701.0  English     USA          PG-13   \n",
       "John Carter                           738.0  English     USA          PG-13   \n",
       "\n",
       "                            budget  title_year  actor_2_facebook_likes  \\\n",
       "movie_title                                                              \n",
       "The Dark Knight Rises  250000000.0      2012.0                 23000.0   \n",
       "John Carter            263700000.0      2012.0                   632.0   \n",
       "\n",
       "                       imdb_score  aspect_ratio  movie_facebook_likes  \n",
       "movie_title                                                            \n",
       "The Dark Knight Rises         8.5          2.35                164000  \n",
       "John Carter                   6.6          2.35                 24000  "
      ]
     },
     "execution_count": 114,
     "metadata": {},
     "output_type": "execute_result"
    }
   ],
   "source": [
    "movie.iloc[[3,5]]"
   ]
  },
  {
   "cell_type": "markdown",
   "metadata": {},
   "source": [
    "### Problem 6\n",
    "<span  style=\"color:green; font-size:16px\">Select the 3rd and 5th columns from the movie dataset</span>"
   ]
  },
  {
   "cell_type": "code",
   "execution_count": 116,
   "metadata": {},
   "outputs": [
    {
     "data": {
      "text/html": [
       "<div>\n",
       "<style>\n",
       "    .dataframe thead tr:only-child th {\n",
       "        text-align: right;\n",
       "    }\n",
       "\n",
       "    .dataframe thead th {\n",
       "        text-align: left;\n",
       "    }\n",
       "\n",
       "    .dataframe tbody tr th {\n",
       "        vertical-align: top;\n",
       "    }\n",
       "</style>\n",
       "<table border=\"1\" class=\"dataframe\">\n",
       "  <thead>\n",
       "    <tr style=\"text-align: right;\">\n",
       "      <th></th>\n",
       "      <th>duration</th>\n",
       "      <th>actor_3_facebook_likes</th>\n",
       "    </tr>\n",
       "    <tr>\n",
       "      <th>movie_title</th>\n",
       "      <th></th>\n",
       "      <th></th>\n",
       "    </tr>\n",
       "  </thead>\n",
       "  <tbody>\n",
       "    <tr>\n",
       "      <th>Avatar</th>\n",
       "      <td>178.0</td>\n",
       "      <td>855.0</td>\n",
       "    </tr>\n",
       "    <tr>\n",
       "      <th>Pirates of the Caribbean: At World's End</th>\n",
       "      <td>169.0</td>\n",
       "      <td>1000.0</td>\n",
       "    </tr>\n",
       "    <tr>\n",
       "      <th>Spectre</th>\n",
       "      <td>148.0</td>\n",
       "      <td>161.0</td>\n",
       "    </tr>\n",
       "    <tr>\n",
       "      <th>The Dark Knight Rises</th>\n",
       "      <td>164.0</td>\n",
       "      <td>23000.0</td>\n",
       "    </tr>\n",
       "    <tr>\n",
       "      <th>Star Wars: Episode VII - The Force Awakens</th>\n",
       "      <td>NaN</td>\n",
       "      <td>NaN</td>\n",
       "    </tr>\n",
       "  </tbody>\n",
       "</table>\n",
       "</div>"
      ],
      "text/plain": [
       "                                            duration  actor_3_facebook_likes\n",
       "movie_title                                                                 \n",
       "Avatar                                         178.0                   855.0\n",
       "Pirates of the Caribbean: At World's End       169.0                  1000.0\n",
       "Spectre                                        148.0                   161.0\n",
       "The Dark Knight Rises                          164.0                 23000.0\n",
       "Star Wars: Episode VII - The Force Awakens       NaN                     NaN"
      ]
     },
     "execution_count": 116,
     "metadata": {},
     "output_type": "execute_result"
    }
   ],
   "source": [
    "movie.iloc[:, [3,5]].head()"
   ]
  },
  {
   "cell_type": "markdown",
   "metadata": {},
   "source": [
    "### Problem 7\n",
    "<span  style=\"color:green; font-size:16px\">Select the first 5 rows and the last 5 columns</span>"
   ]
  },
  {
   "cell_type": "code",
   "execution_count": 117,
   "metadata": {},
   "outputs": [
    {
     "data": {
      "text/html": [
       "<div>\n",
       "<style>\n",
       "    .dataframe thead tr:only-child th {\n",
       "        text-align: right;\n",
       "    }\n",
       "\n",
       "    .dataframe thead th {\n",
       "        text-align: left;\n",
       "    }\n",
       "\n",
       "    .dataframe tbody tr th {\n",
       "        vertical-align: top;\n",
       "    }\n",
       "</style>\n",
       "<table border=\"1\" class=\"dataframe\">\n",
       "  <thead>\n",
       "    <tr style=\"text-align: right;\">\n",
       "      <th></th>\n",
       "      <th>title_year</th>\n",
       "      <th>actor_2_facebook_likes</th>\n",
       "      <th>imdb_score</th>\n",
       "      <th>aspect_ratio</th>\n",
       "      <th>movie_facebook_likes</th>\n",
       "    </tr>\n",
       "    <tr>\n",
       "      <th>movie_title</th>\n",
       "      <th></th>\n",
       "      <th></th>\n",
       "      <th></th>\n",
       "      <th></th>\n",
       "      <th></th>\n",
       "    </tr>\n",
       "  </thead>\n",
       "  <tbody>\n",
       "    <tr>\n",
       "      <th>Avatar</th>\n",
       "      <td>2009.0</td>\n",
       "      <td>936.0</td>\n",
       "      <td>7.9</td>\n",
       "      <td>1.78</td>\n",
       "      <td>33000</td>\n",
       "    </tr>\n",
       "    <tr>\n",
       "      <th>Pirates of the Caribbean: At World's End</th>\n",
       "      <td>2007.0</td>\n",
       "      <td>5000.0</td>\n",
       "      <td>7.1</td>\n",
       "      <td>2.35</td>\n",
       "      <td>0</td>\n",
       "    </tr>\n",
       "    <tr>\n",
       "      <th>Spectre</th>\n",
       "      <td>2015.0</td>\n",
       "      <td>393.0</td>\n",
       "      <td>6.8</td>\n",
       "      <td>2.35</td>\n",
       "      <td>85000</td>\n",
       "    </tr>\n",
       "    <tr>\n",
       "      <th>The Dark Knight Rises</th>\n",
       "      <td>2012.0</td>\n",
       "      <td>23000.0</td>\n",
       "      <td>8.5</td>\n",
       "      <td>2.35</td>\n",
       "      <td>164000</td>\n",
       "    </tr>\n",
       "    <tr>\n",
       "      <th>Star Wars: Episode VII - The Force Awakens</th>\n",
       "      <td>NaN</td>\n",
       "      <td>12.0</td>\n",
       "      <td>7.1</td>\n",
       "      <td>NaN</td>\n",
       "      <td>0</td>\n",
       "    </tr>\n",
       "  </tbody>\n",
       "</table>\n",
       "</div>"
      ],
      "text/plain": [
       "                                            title_year  \\\n",
       "movie_title                                              \n",
       "Avatar                                          2009.0   \n",
       "Pirates of the Caribbean: At World's End        2007.0   \n",
       "Spectre                                         2015.0   \n",
       "The Dark Knight Rises                           2012.0   \n",
       "Star Wars: Episode VII - The Force Awakens         NaN   \n",
       "\n",
       "                                            actor_2_facebook_likes  \\\n",
       "movie_title                                                          \n",
       "Avatar                                                       936.0   \n",
       "Pirates of the Caribbean: At World's End                    5000.0   \n",
       "Spectre                                                      393.0   \n",
       "The Dark Knight Rises                                      23000.0   \n",
       "Star Wars: Episode VII - The Force Awakens                    12.0   \n",
       "\n",
       "                                            imdb_score  aspect_ratio  \\\n",
       "movie_title                                                            \n",
       "Avatar                                             7.9          1.78   \n",
       "Pirates of the Caribbean: At World's End           7.1          2.35   \n",
       "Spectre                                            6.8          2.35   \n",
       "The Dark Knight Rises                              8.5          2.35   \n",
       "Star Wars: Episode VII - The Force Awakens         7.1           NaN   \n",
       "\n",
       "                                            movie_facebook_likes  \n",
       "movie_title                                                       \n",
       "Avatar                                                     33000  \n",
       "Pirates of the Caribbean: At World's End                       0  \n",
       "Spectre                                                    85000  \n",
       "The Dark Knight Rises                                     164000  \n",
       "Star Wars: Episode VII - The Force Awakens                     0  "
      ]
     },
     "execution_count": 117,
     "metadata": {},
     "output_type": "execute_result"
    }
   ],
   "source": [
    "movie.iloc[:5, -5:]"
   ]
  },
  {
   "cell_type": "markdown",
   "metadata": {},
   "source": [
    "### Problem 8\n",
    "<span  style=\"color:green; font-size:16px\">Select the movie 'The Dark Night Rises'</span>"
   ]
  },
  {
   "cell_type": "code",
   "execution_count": 120,
   "metadata": {},
   "outputs": [
    {
     "data": {
      "text/plain": [
       "color                                  Color\n",
       "director_name              Christopher Nolan\n",
       "num_critic_for_reviews                   813\n",
       "duration                                 164\n",
       "director_facebook_likes                22000\n",
       "Name: The Dark Knight Rises, dtype: object"
      ]
     },
     "execution_count": 120,
     "metadata": {},
     "output_type": "execute_result"
    }
   ],
   "source": [
    "movie.loc['The Dark Knight Rises'].head()"
   ]
  },
  {
   "cell_type": "markdown",
   "metadata": {},
   "source": [
    "### Problem 9\n",
    "<span  style=\"color:green; font-size:16px\">The values of the index are stored in a numpy array. Numpy arrays use only integer location for selection. Output the movie title from 50 to 100 using the values of the index. </span>"
   ]
  },
  {
   "cell_type": "code",
   "execution_count": 122,
   "metadata": {},
   "outputs": [
    {
     "data": {
      "text/plain": [
       "array(['The Great Gatsby', 'Prince of Persia: The Sands of Time',\n",
       "       'Pacific Rim', 'Transformers: Dark of the Moon',\n",
       "       'Indiana Jones and the Kingdom of the Crystal Skull',\n",
       "       'The Good Dinosaur', 'Brave', 'Star Trek Beyond', 'WALL·E',\n",
       "       'Rush Hour 3', '2012', 'A Christmas Carol', 'Jupiter Ascending',\n",
       "       'The Legend of Tarzan',\n",
       "       'The Chronicles of Narnia: The Lion, the Witch and the Wardrobe',\n",
       "       'X-Men: Apocalypse', 'The Dark Knight', 'Up', 'Monsters vs. Aliens',\n",
       "       'Iron Man', 'Hugo', 'Wild Wild West',\n",
       "       'The Mummy: Tomb of the Dragon Emperor', 'Suicide Squad',\n",
       "       'Evan Almighty', 'Edge of Tomorrow', 'Waterworld',\n",
       "       'G.I. Joe: The Rise of Cobra', 'Inside Out', 'The Jungle Book',\n",
       "       'Iron Man 2', 'Snow White and the Huntsman', 'Maleficent',\n",
       "       'Dawn of the Planet of the Apes', 'The Lovers', '47 Ronin',\n",
       "       'Captain America: The Winter Soldier', 'Shrek Forever After',\n",
       "       'Tomorrowland', 'Big Hero 6', 'Wreck-It Ralph', 'The Polar Express',\n",
       "       'Independence Day: Resurgence', 'How to Train Your Dragon',\n",
       "       'Terminator 3: Rise of the Machines', 'Guardians of the Galaxy',\n",
       "       'Interstellar', 'Inception', 'Godzilla Resurgence',\n",
       "       'The Hobbit: An Unexpected Journey'], dtype=object)"
      ]
     },
     "execution_count": 122,
     "metadata": {},
     "output_type": "execute_result"
    }
   ],
   "source": [
    "movie.index.values[50:100]"
   ]
  },
  {
   "cell_type": "markdown",
   "metadata": {},
   "source": [
    "### Problem 10\n",
    "<span  style=\"color:green; font-size:16px\">Select the first 3 rows and 3 columns using **`.loc`**</span>"
   ]
  },
  {
   "cell_type": "code",
   "execution_count": 123,
   "metadata": {},
   "outputs": [
    {
     "data": {
      "text/html": [
       "<div>\n",
       "<style>\n",
       "    .dataframe thead tr:only-child th {\n",
       "        text-align: right;\n",
       "    }\n",
       "\n",
       "    .dataframe thead th {\n",
       "        text-align: left;\n",
       "    }\n",
       "\n",
       "    .dataframe tbody tr th {\n",
       "        vertical-align: top;\n",
       "    }\n",
       "</style>\n",
       "<table border=\"1\" class=\"dataframe\">\n",
       "  <thead>\n",
       "    <tr style=\"text-align: right;\">\n",
       "      <th></th>\n",
       "      <th>color</th>\n",
       "      <th>director_name</th>\n",
       "      <th>num_critic_for_reviews</th>\n",
       "    </tr>\n",
       "    <tr>\n",
       "      <th>movie_title</th>\n",
       "      <th></th>\n",
       "      <th></th>\n",
       "      <th></th>\n",
       "    </tr>\n",
       "  </thead>\n",
       "  <tbody>\n",
       "    <tr>\n",
       "      <th>Avatar</th>\n",
       "      <td>Color</td>\n",
       "      <td>James Cameron</td>\n",
       "      <td>723.0</td>\n",
       "    </tr>\n",
       "    <tr>\n",
       "      <th>Pirates of the Caribbean: At World's End</th>\n",
       "      <td>Color</td>\n",
       "      <td>Gore Verbinski</td>\n",
       "      <td>302.0</td>\n",
       "    </tr>\n",
       "    <tr>\n",
       "      <th>Spectre</th>\n",
       "      <td>Color</td>\n",
       "      <td>Sam Mendes</td>\n",
       "      <td>602.0</td>\n",
       "    </tr>\n",
       "  </tbody>\n",
       "</table>\n",
       "</div>"
      ],
      "text/plain": [
       "                                          color   director_name  \\\n",
       "movie_title                                                       \n",
       "Avatar                                    Color   James Cameron   \n",
       "Pirates of the Caribbean: At World's End  Color  Gore Verbinski   \n",
       "Spectre                                   Color      Sam Mendes   \n",
       "\n",
       "                                          num_critic_for_reviews  \n",
       "movie_title                                                       \n",
       "Avatar                                                     723.0  \n",
       "Pirates of the Caribbean: At World's End                   302.0  \n",
       "Spectre                                                    602.0  "
      ]
     },
     "execution_count": 123,
     "metadata": {},
     "output_type": "execute_result"
    }
   ],
   "source": [
    "movie.loc[:'Spectre', :'num_critic_for_reviews']"
   ]
  },
  {
   "cell_type": "markdown",
   "metadata": {},
   "source": [
    "### Problem 11\n",
    "<span  style=\"color:green; font-size:16px\">Select a single scalar value using **`.loc`** and then do the same things with **`.at`** and use %timeit to see the speed difference.</span>"
   ]
  },
  {
   "cell_type": "code",
   "execution_count": 125,
   "metadata": {},
   "outputs": [
    {
     "data": {
      "text/plain": [
       "241437427.0"
      ]
     },
     "execution_count": 125,
     "metadata": {},
     "output_type": "execute_result"
    }
   ],
   "source": [
    "movie.loc['My Big Fat Greek Wedding', 'gross']"
   ]
  },
  {
   "cell_type": "code",
   "execution_count": 126,
   "metadata": {},
   "outputs": [
    {
     "data": {
      "text/plain": [
       "241437427.0"
      ]
     },
     "execution_count": 126,
     "metadata": {},
     "output_type": "execute_result"
    }
   ],
   "source": [
    "movie.at['My Big Fat Greek Wedding', 'gross']"
   ]
  },
  {
   "cell_type": "code",
   "execution_count": 124,
   "metadata": {},
   "outputs": [
    {
     "name": "stdout",
     "output_type": "stream",
     "text": [
      "9.24 µs ± 308 ns per loop (mean ± std. dev. of 7 runs, 100000 loops each)\n"
     ]
    }
   ],
   "source": [
    "%timeit movie.loc['My Big Fat Greek Wedding', 'gross']"
   ]
  },
  {
   "cell_type": "code",
   "execution_count": 127,
   "metadata": {},
   "outputs": [
    {
     "name": "stdout",
     "output_type": "stream",
     "text": [
      "5.94 µs ± 43.2 ns per loop (mean ± std. dev. of 7 runs, 100000 loops each)\n"
     ]
    }
   ],
   "source": [
    "%timeit movie.at['My Big Fat Greek Wedding', 'gross']"
   ]
  },
  {
   "cell_type": "markdown",
   "metadata": {},
   "source": [
    "# 6. DataFrame Boolean Indexing"
   ]
  },
  {
   "cell_type": "markdown",
   "metadata": {},
   "source": [
    "### Problem 1\n",
    "<span  style=\"color:green; font-size:16px\">Select all Asian employees that make more than 100,000 dollars?</span>"
   ]
  },
  {
   "cell_type": "code",
   "execution_count": 128,
   "metadata": {
    "collapsed": true
   },
   "outputs": [],
   "source": [
    "employee = pd.read_csv('data/employee.csv')"
   ]
  },
  {
   "cell_type": "code",
   "execution_count": 130,
   "metadata": {},
   "outputs": [
    {
     "data": {
      "text/html": [
       "<div>\n",
       "<style>\n",
       "    .dataframe thead tr:only-child th {\n",
       "        text-align: right;\n",
       "    }\n",
       "\n",
       "    .dataframe thead th {\n",
       "        text-align: left;\n",
       "    }\n",
       "\n",
       "    .dataframe tbody tr th {\n",
       "        vertical-align: top;\n",
       "    }\n",
       "</style>\n",
       "<table border=\"1\" class=\"dataframe\">\n",
       "  <thead>\n",
       "    <tr style=\"text-align: right;\">\n",
       "      <th></th>\n",
       "      <th>UNIQUE_ID</th>\n",
       "      <th>POSITION_TITLE</th>\n",
       "      <th>DEPARTMENT</th>\n",
       "      <th>BASE_SALARY</th>\n",
       "      <th>RACE</th>\n",
       "      <th>EMPLOYMENT_TYPE</th>\n",
       "      <th>GENDER</th>\n",
       "      <th>EMPLOYMENT_STATUS</th>\n",
       "      <th>HIRE_DATE</th>\n",
       "      <th>JOB_DATE</th>\n",
       "    </tr>\n",
       "  </thead>\n",
       "  <tbody>\n",
       "    <tr>\n",
       "      <th>217</th>\n",
       "      <td>8745</td>\n",
       "      <td>GIS MANAGER</td>\n",
       "      <td>Houston Information Tech Svcs</td>\n",
       "      <td>102019.0</td>\n",
       "      <td>Asian/Pacific Islander</td>\n",
       "      <td>Full Time</td>\n",
       "      <td>Male</td>\n",
       "      <td>Active</td>\n",
       "      <td>2006-11-13</td>\n",
       "      <td>2013-07-06</td>\n",
       "    </tr>\n",
       "    <tr>\n",
       "      <th>237</th>\n",
       "      <td>2438</td>\n",
       "      <td>ASSISTANT DIRECTOR (EXECUTIVE LEVEL)</td>\n",
       "      <td>Admn. &amp; Regulatory Affairs</td>\n",
       "      <td>130416.0</td>\n",
       "      <td>Asian/Pacific Islander</td>\n",
       "      <td>Full Time</td>\n",
       "      <td>Female</td>\n",
       "      <td>Active</td>\n",
       "      <td>2002-05-24</td>\n",
       "      <td>2013-07-20</td>\n",
       "    </tr>\n",
       "    <tr>\n",
       "      <th>719</th>\n",
       "      <td>8947</td>\n",
       "      <td>DEPUTY DIRECTOR (EXECUTIVE LEVEL)</td>\n",
       "      <td>Houston Police Department-HPD</td>\n",
       "      <td>163228.0</td>\n",
       "      <td>Asian/Pacific Islander</td>\n",
       "      <td>Full Time</td>\n",
       "      <td>Male</td>\n",
       "      <td>Active</td>\n",
       "      <td>1977-07-20</td>\n",
       "      <td>1998-08-08</td>\n",
       "    </tr>\n",
       "    <tr>\n",
       "      <th>1090</th>\n",
       "      <td>5019</td>\n",
       "      <td>SUPERVISING ENGINEER</td>\n",
       "      <td>Public Works &amp; Engineering-PWE</td>\n",
       "      <td>102297.0</td>\n",
       "      <td>Asian/Pacific Islander</td>\n",
       "      <td>Full Time</td>\n",
       "      <td>Male</td>\n",
       "      <td>Active</td>\n",
       "      <td>2008-10-20</td>\n",
       "      <td>2012-11-24</td>\n",
       "    </tr>\n",
       "    <tr>\n",
       "      <th>1166</th>\n",
       "      <td>4502</td>\n",
       "      <td>IRM MANAGER</td>\n",
       "      <td>Public Works &amp; Engineering-PWE</td>\n",
       "      <td>124861.0</td>\n",
       "      <td>Asian/Pacific Islander</td>\n",
       "      <td>Full Time</td>\n",
       "      <td>Male</td>\n",
       "      <td>Active</td>\n",
       "      <td>1999-12-20</td>\n",
       "      <td>2009-11-14</td>\n",
       "    </tr>\n",
       "  </tbody>\n",
       "</table>\n",
       "</div>"
      ],
      "text/plain": [
       "      UNIQUE_ID                        POSITION_TITLE  \\\n",
       "217        8745                           GIS MANAGER   \n",
       "237        2438  ASSISTANT DIRECTOR (EXECUTIVE LEVEL)   \n",
       "719        8947     DEPUTY DIRECTOR (EXECUTIVE LEVEL)   \n",
       "1090       5019                  SUPERVISING ENGINEER   \n",
       "1166       4502                           IRM MANAGER   \n",
       "\n",
       "                          DEPARTMENT  BASE_SALARY                    RACE  \\\n",
       "217    Houston Information Tech Svcs     102019.0  Asian/Pacific Islander   \n",
       "237       Admn. & Regulatory Affairs     130416.0  Asian/Pacific Islander   \n",
       "719    Houston Police Department-HPD     163228.0  Asian/Pacific Islander   \n",
       "1090  Public Works & Engineering-PWE     102297.0  Asian/Pacific Islander   \n",
       "1166  Public Works & Engineering-PWE     124861.0  Asian/Pacific Islander   \n",
       "\n",
       "     EMPLOYMENT_TYPE  GENDER EMPLOYMENT_STATUS   HIRE_DATE    JOB_DATE  \n",
       "217        Full Time    Male            Active  2006-11-13  2013-07-06  \n",
       "237        Full Time  Female            Active  2002-05-24  2013-07-20  \n",
       "719        Full Time    Male            Active  1977-07-20  1998-08-08  \n",
       "1090       Full Time    Male            Active  2008-10-20  2012-11-24  \n",
       "1166       Full Time    Male            Active  1999-12-20  2009-11-14  "
      ]
     },
     "execution_count": 130,
     "metadata": {},
     "output_type": "execute_result"
    }
   ],
   "source": [
    "employee[(employee['RACE'] == 'Asian/Pacific Islander') & (employee['BASE_SALARY'] > 100000)].head()"
   ]
  },
  {
   "cell_type": "markdown",
   "metadata": {},
   "source": [
    "### Problem 2\n",
    "<span  style=\"color:green; font-size:16px\">What percentage of Asian employees make more than 100,000 dollars?</span>"
   ]
  },
  {
   "cell_type": "code",
   "execution_count": 133,
   "metadata": {},
   "outputs": [
    {
     "data": {
      "text/plain": [
       "6      71680.0\n",
       "38     67499.0\n",
       "96     59077.0\n",
       "111    31554.0\n",
       "134    77076.0\n",
       "Name: BASE_SALARY, dtype: float64"
      ]
     },
     "execution_count": 133,
     "metadata": {},
     "output_type": "execute_result"
    }
   ],
   "source": [
    "asian_salary = employee.loc[(employee['RACE'] == 'Asian/Pacific Islander'), 'BASE_SALARY']\n",
    "asian_salary.head()"
   ]
  },
  {
   "cell_type": "code",
   "execution_count": 135,
   "metadata": {},
   "outputs": [
    {
     "data": {
      "text/plain": [
       "0.084112149532710276"
      ]
     },
     "execution_count": 135,
     "metadata": {},
     "output_type": "execute_result"
    }
   ],
   "source": [
    "asian_salary.gt(100000).mean()"
   ]
  },
  {
   "cell_type": "code",
   "execution_count": 136,
   "metadata": {},
   "outputs": [
    {
     "data": {
      "text/plain": [
       "False    0.915888\n",
       "True     0.084112\n",
       "Name: BASE_SALARY, dtype: float64"
      ]
     },
     "execution_count": 136,
     "metadata": {},
     "output_type": "execute_result"
    }
   ],
   "source": [
    "asian_salary.gt(100000).value_counts(normalize=True)"
   ]
  },
  {
   "cell_type": "markdown",
   "metadata": {},
   "source": [
    "### Problem 3\n",
    "<span  style=\"color:green; font-size:16px\">What is the ratio of males to females? What is the ratio of males to females for those that make more than 100,000? How about for those that make less than 30,000?</span>"
   ]
  },
  {
   "cell_type": "code",
   "execution_count": 138,
   "metadata": {},
   "outputs": [
    {
     "data": {
      "text/plain": [
       "Male      0.6985\n",
       "Female    0.3015\n",
       "Name: GENDER, dtype: float64"
      ]
     },
     "execution_count": 138,
     "metadata": {},
     "output_type": "execute_result"
    }
   ],
   "source": [
    "employee['GENDER'].value_counts(normalize=True)"
   ]
  },
  {
   "cell_type": "code",
   "execution_count": 139,
   "metadata": {},
   "outputs": [
    {
     "data": {
      "text/plain": [
       "Male      0.631579\n",
       "Female    0.368421\n",
       "Name: GENDER, dtype: float64"
      ]
     },
     "execution_count": 139,
     "metadata": {},
     "output_type": "execute_result"
    }
   ],
   "source": [
    "employee.loc[employee['BASE_SALARY'] > 100000, 'GENDER'].value_counts(normalize=True)"
   ]
  },
  {
   "cell_type": "code",
   "execution_count": 140,
   "metadata": {},
   "outputs": [
    {
     "data": {
      "text/plain": [
       "Male      0.59542\n",
       "Female    0.40458\n",
       "Name: GENDER, dtype: float64"
      ]
     },
     "execution_count": 140,
     "metadata": {},
     "output_type": "execute_result"
    }
   ],
   "source": [
    "employee.loc[employee['BASE_SALARY'] < 30000, 'GENDER'].value_counts(normalize=True)"
   ]
  },
  {
   "cell_type": "markdown",
   "metadata": {},
   "source": [
    "### Problem 4\n",
    "<span  style=\"color:green; font-size:16px\">What is the distribution of race? What is the distribution of race for those that make over 100,000?</span>"
   ]
  },
  {
   "cell_type": "code",
   "execution_count": 149,
   "metadata": {},
   "outputs": [
    {
     "data": {
      "text/plain": [
       "Black or African American            0.356234\n",
       "White                                0.338422\n",
       "Hispanic/Latino                      0.244275\n",
       "Asian/Pacific Islander               0.054453\n",
       "American Indian or Alaskan Native    0.005598\n",
       "Others                               0.001018\n",
       "Name: RACE, dtype: float64"
      ]
     },
     "execution_count": 149,
     "metadata": {},
     "output_type": "execute_result"
    }
   ],
   "source": [
    "employee['RACE'].value_counts(normalize=True)"
   ]
  },
  {
   "cell_type": "code",
   "execution_count": 151,
   "metadata": {},
   "outputs": [
    {
     "data": {
      "text/plain": [
       "White                        0.543860\n",
       "Black or African American    0.210526\n",
       "Asian/Pacific Islander       0.157895\n",
       "Hispanic/Latino              0.087719\n",
       "Name: RACE, dtype: float64"
      ]
     },
     "execution_count": 151,
     "metadata": {},
     "output_type": "execute_result"
    }
   ],
   "source": [
    "employee.loc[employee['BASE_SALARY'] > 100000, 'RACE'].value_counts(normalize=True)"
   ]
  },
  {
   "cell_type": "markdown",
   "metadata": {},
   "source": [
    "### Problem 5\n",
    "<span  style=\"color:green; font-size:16px\">Save the two distributions you found in problem 4 to variables. They should be Series. Divide the greater than 100k distribution by the other.</span>"
   ]
  },
  {
   "cell_type": "code",
   "execution_count": 155,
   "metadata": {
    "collapsed": true
   },
   "outputs": [],
   "source": [
    "dist_all = employee['RACE'].value_counts(normalize=True)\n",
    "dist_100k = employee.loc[employee['BASE_SALARY'] > 100000, 'RACE'].value_counts(normalize=True)"
   ]
  },
  {
   "cell_type": "code",
   "execution_count": 156,
   "metadata": {},
   "outputs": [
    {
     "data": {
      "text/plain": [
       "American Indian or Alaskan Native         NaN\n",
       "Asian/Pacific Islander               2.899656\n",
       "Black or African American            0.590977\n",
       "Hispanic/Latino                      0.359101\n",
       "Others                                    NaN\n",
       "White                                1.607044\n",
       "Name: RACE, dtype: float64"
      ]
     },
     "execution_count": 156,
     "metadata": {},
     "output_type": "execute_result"
    }
   ],
   "source": [
    "dist_100k / dist_all"
   ]
  },
  {
   "cell_type": "markdown",
   "metadata": {},
   "source": [
    "### Problem 6\n",
    "<span  style=\"color:green; font-size:16px\">Select all Females that are part of part of the Houston police department and all males that are in the Library department. Also Select only the DEPARTMENT and GENDER columns</span>"
   ]
  },
  {
   "cell_type": "code",
   "execution_count": 163,
   "metadata": {},
   "outputs": [
    {
     "data": {
      "text/html": [
       "<div>\n",
       "<style>\n",
       "    .dataframe thead tr:only-child th {\n",
       "        text-align: right;\n",
       "    }\n",
       "\n",
       "    .dataframe thead th {\n",
       "        text-align: left;\n",
       "    }\n",
       "\n",
       "    .dataframe tbody tr th {\n",
       "        vertical-align: top;\n",
       "    }\n",
       "</style>\n",
       "<table border=\"1\" class=\"dataframe\">\n",
       "  <thead>\n",
       "    <tr style=\"text-align: right;\">\n",
       "      <th></th>\n",
       "      <th>DEPARTMENT</th>\n",
       "      <th>GENDER</th>\n",
       "    </tr>\n",
       "  </thead>\n",
       "  <tbody>\n",
       "    <tr>\n",
       "      <th>55</th>\n",
       "      <td>Houston Police Department-HPD</td>\n",
       "      <td>Female</td>\n",
       "    </tr>\n",
       "    <tr>\n",
       "      <th>67</th>\n",
       "      <td>Houston Police Department-HPD</td>\n",
       "      <td>Female</td>\n",
       "    </tr>\n",
       "    <tr>\n",
       "      <th>113</th>\n",
       "      <td>Houston Police Department-HPD</td>\n",
       "      <td>Female</td>\n",
       "    </tr>\n",
       "    <tr>\n",
       "      <th>123</th>\n",
       "      <td>Houston Police Department-HPD</td>\n",
       "      <td>Female</td>\n",
       "    </tr>\n",
       "    <tr>\n",
       "      <th>136</th>\n",
       "      <td>Houston Police Department-HPD</td>\n",
       "      <td>Female</td>\n",
       "    </tr>\n",
       "    <tr>\n",
       "      <th>137</th>\n",
       "      <td>Houston Police Department-HPD</td>\n",
       "      <td>Female</td>\n",
       "    </tr>\n",
       "    <tr>\n",
       "      <th>179</th>\n",
       "      <td>Houston Police Department-HPD</td>\n",
       "      <td>Female</td>\n",
       "    </tr>\n",
       "    <tr>\n",
       "      <th>185</th>\n",
       "      <td>Houston Police Department-HPD</td>\n",
       "      <td>Female</td>\n",
       "    </tr>\n",
       "    <tr>\n",
       "      <th>188</th>\n",
       "      <td>Houston Police Department-HPD</td>\n",
       "      <td>Female</td>\n",
       "    </tr>\n",
       "    <tr>\n",
       "      <th>196</th>\n",
       "      <td>Houston Police Department-HPD</td>\n",
       "      <td>Female</td>\n",
       "    </tr>\n",
       "    <tr>\n",
       "      <th>227</th>\n",
       "      <td>Houston Police Department-HPD</td>\n",
       "      <td>Female</td>\n",
       "    </tr>\n",
       "    <tr>\n",
       "      <th>228</th>\n",
       "      <td>Houston Police Department-HPD</td>\n",
       "      <td>Female</td>\n",
       "    </tr>\n",
       "    <tr>\n",
       "      <th>229</th>\n",
       "      <td>Houston Police Department-HPD</td>\n",
       "      <td>Female</td>\n",
       "    </tr>\n",
       "    <tr>\n",
       "      <th>266</th>\n",
       "      <td>Houston Police Department-HPD</td>\n",
       "      <td>Female</td>\n",
       "    </tr>\n",
       "    <tr>\n",
       "      <th>280</th>\n",
       "      <td>Library</td>\n",
       "      <td>Male</td>\n",
       "    </tr>\n",
       "    <tr>\n",
       "      <th>298</th>\n",
       "      <td>Library</td>\n",
       "      <td>Male</td>\n",
       "    </tr>\n",
       "  </tbody>\n",
       "</table>\n",
       "</div>"
      ],
      "text/plain": [
       "                        DEPARTMENT  GENDER\n",
       "55   Houston Police Department-HPD  Female\n",
       "67   Houston Police Department-HPD  Female\n",
       "113  Houston Police Department-HPD  Female\n",
       "123  Houston Police Department-HPD  Female\n",
       "136  Houston Police Department-HPD  Female\n",
       "137  Houston Police Department-HPD  Female\n",
       "179  Houston Police Department-HPD  Female\n",
       "185  Houston Police Department-HPD  Female\n",
       "188  Houston Police Department-HPD  Female\n",
       "196  Houston Police Department-HPD  Female\n",
       "227  Houston Police Department-HPD  Female\n",
       "228  Houston Police Department-HPD  Female\n",
       "229  Houston Police Department-HPD  Female\n",
       "266  Houston Police Department-HPD  Female\n",
       "280                        Library    Male\n",
       "298                        Library    Male"
      ]
     },
     "execution_count": 163,
     "metadata": {},
     "output_type": "execute_result"
    }
   ],
   "source": [
    "criteria1 = (employee['DEPARTMENT'] == 'Houston Police Department-HPD') & (employee['GENDER'] == 'Female')\n",
    "criteria2 = (employee['DEPARTMENT'] == 'Library') & (employee['GENDER'] == 'Male')\n",
    "employee.loc[criteria1 | criteria2, ['DEPARTMENT', 'GENDER']].head(16)"
   ]
  },
  {
   "cell_type": "markdown",
   "metadata": {},
   "source": [
    "### Problem 7\n",
    "<span  style=\"color:green; font-size:16px\">Select all the white, black and hispanic employees that are in the houston police department, Houston fire department and the Parks & Recreation department. Also select only the RACE and DEPARTMENT columns.</span>"
   ]
  },
  {
   "cell_type": "code",
   "execution_count": 167,
   "metadata": {},
   "outputs": [
    {
     "data": {
      "text/html": [
       "<div>\n",
       "<style>\n",
       "    .dataframe thead tr:only-child th {\n",
       "        text-align: right;\n",
       "    }\n",
       "\n",
       "    .dataframe thead th {\n",
       "        text-align: left;\n",
       "    }\n",
       "\n",
       "    .dataframe tbody tr th {\n",
       "        vertical-align: top;\n",
       "    }\n",
       "</style>\n",
       "<table border=\"1\" class=\"dataframe\">\n",
       "  <thead>\n",
       "    <tr style=\"text-align: right;\">\n",
       "      <th></th>\n",
       "      <th>RACE</th>\n",
       "      <th>DEPARTMENT</th>\n",
       "    </tr>\n",
       "  </thead>\n",
       "  <tbody>\n",
       "    <tr>\n",
       "      <th>2</th>\n",
       "      <td>White</td>\n",
       "      <td>Houston Police Department-HPD</td>\n",
       "    </tr>\n",
       "    <tr>\n",
       "      <th>3</th>\n",
       "      <td>White</td>\n",
       "      <td>Houston Fire Department (HFD)</td>\n",
       "    </tr>\n",
       "    <tr>\n",
       "      <th>5</th>\n",
       "      <td>Black or African American</td>\n",
       "      <td>Houston Police Department-HPD</td>\n",
       "    </tr>\n",
       "    <tr>\n",
       "      <th>10</th>\n",
       "      <td>Hispanic/Latino</td>\n",
       "      <td>Houston Fire Department (HFD)</td>\n",
       "    </tr>\n",
       "    <tr>\n",
       "      <th>14</th>\n",
       "      <td>Black or African American</td>\n",
       "      <td>Houston Police Department-HPD</td>\n",
       "    </tr>\n",
       "  </tbody>\n",
       "</table>\n",
       "</div>"
      ],
      "text/plain": [
       "                         RACE                     DEPARTMENT\n",
       "2                       White  Houston Police Department-HPD\n",
       "3                       White  Houston Fire Department (HFD)\n",
       "5   Black or African American  Houston Police Department-HPD\n",
       "10            Hispanic/Latino  Houston Fire Department (HFD)\n",
       "14  Black or African American  Houston Police Department-HPD"
      ]
     },
     "execution_count": 167,
     "metadata": {},
     "output_type": "execute_result"
    }
   ],
   "source": [
    "races = ['White', 'Black or African American', 'Hispanic/Latino']\n",
    "depts = ['Houston Police Department-HPD', 'Houston Fire Department (HFD)', 'Parks & Recreation']\n",
    "criteria = employee['RACE'].isin(races) & employee['DEPARTMENT'].isin(depts)\n",
    "employee.loc[criteria, ['RACE', 'DEPARTMENT']].head()"
   ]
  },
  {
   "cell_type": "markdown",
   "metadata": {},
   "source": [
    "### Problem 8\n",
    "<span  style=\"color:green; font-size:16px\">What is the most most common department for black females? How about for Hispanic males?</span>"
   ]
  },
  {
   "cell_type": "code",
   "execution_count": 171,
   "metadata": {},
   "outputs": [
    {
     "data": {
      "text/plain": [
       "Houston Police Department-HPD     76\n",
       "Public Works & Engineering-PWE    61\n",
       "Health & Human Services           43\n",
       "Parks & Recreation                15\n",
       "Houston Airport System (HAS)      14\n",
       "Name: DEPARTMENT, dtype: int64"
      ]
     },
     "execution_count": 171,
     "metadata": {},
     "output_type": "execute_result"
    }
   ],
   "source": [
    "criteria = (employee['RACE'] == 'Black or African American') & (employee['GENDER'] == 'Female')\n",
    "employee.loc[criteria, 'DEPARTMENT'].value_counts().head()"
   ]
  },
  {
   "cell_type": "code",
   "execution_count": 172,
   "metadata": {},
   "outputs": [
    {
     "data": {
      "text/plain": [
       "Houston Police Department-HPD     116\n",
       "Houston Fire Department (HFD)      91\n",
       "Public Works & Engineering-PWE     49\n",
       "Houston Airport System (HAS)       18\n",
       "Parks & Recreation                 15\n",
       "Name: DEPARTMENT, dtype: int64"
      ]
     },
     "execution_count": 172,
     "metadata": {},
     "output_type": "execute_result"
    }
   ],
   "source": [
    "criteria = (employee['RACE'] == 'Hispanic/Latino') & (employee['GENDER'] == 'Male')\n",
    "employee.loc[criteria, 'DEPARTMENT'].value_counts().head()"
   ]
  },
  {
   "cell_type": "code",
   "execution_count": 173,
   "metadata": {},
   "outputs": [
    {
     "data": {
      "text/plain": [
       "'Houston Police Department-HPD'"
      ]
     },
     "execution_count": 173,
     "metadata": {},
     "output_type": "execute_result"
    }
   ],
   "source": [
    "# programmatically get the top department\n",
    "bf = employee.loc[criteria, 'DEPARTMENT'].value_counts()\n",
    "bf.index[0]"
   ]
  },
  {
   "cell_type": "markdown",
   "metadata": {},
   "source": [
    "### Problem 9\n",
    "<span  style=\"color:green; font-size:16px\">Who makes more money, 'Black or African American' Females or White Males?</span>"
   ]
  },
  {
   "cell_type": "code",
   "execution_count": 174,
   "metadata": {},
   "outputs": [
    {
     "data": {
      "text/plain": [
       "(48915.42123287671, 63940.38811881188)"
      ]
     },
     "execution_count": 174,
     "metadata": {},
     "output_type": "execute_result"
    }
   ],
   "source": [
    "criteria = (employee['RACE'] == 'Black or African American') & (employee['GENDER'] == 'Female')\n",
    "black_female = employee.loc[criteria, 'BASE_SALARY']\n",
    "\n",
    "criteria = (employee['RACE'] == 'White') & (employee['GENDER'] == 'Male')\n",
    "white_male = employee.loc[criteria, 'BASE_SALARY']\n",
    "\n",
    "black_female.mean(), white_male.mean()"
   ]
  },
  {
   "cell_type": "markdown",
   "metadata": {},
   "source": [
    "### Problem 10\n",
    "<span  style=\"color:green; font-size:16px\">Set the index to be **`UNIQUE_ID`** and save result to a new variable. The use **`.loc`** to select employees 2440 and 480 and columns DEPARTMENT through GENDER.</span>"
   ]
  },
  {
   "cell_type": "code",
   "execution_count": 178,
   "metadata": {
    "collapsed": true
   },
   "outputs": [],
   "source": [
    "employee_idx = employee.set_index('UNIQUE_ID')"
   ]
  },
  {
   "cell_type": "code",
   "execution_count": 180,
   "metadata": {},
   "outputs": [
    {
     "data": {
      "text/html": [
       "<div>\n",
       "<style>\n",
       "    .dataframe thead tr:only-child th {\n",
       "        text-align: right;\n",
       "    }\n",
       "\n",
       "    .dataframe thead th {\n",
       "        text-align: left;\n",
       "    }\n",
       "\n",
       "    .dataframe tbody tr th {\n",
       "        vertical-align: top;\n",
       "    }\n",
       "</style>\n",
       "<table border=\"1\" class=\"dataframe\">\n",
       "  <thead>\n",
       "    <tr style=\"text-align: right;\">\n",
       "      <th></th>\n",
       "      <th>DEPARTMENT</th>\n",
       "      <th>BASE_SALARY</th>\n",
       "      <th>RACE</th>\n",
       "      <th>EMPLOYMENT_TYPE</th>\n",
       "      <th>GENDER</th>\n",
       "    </tr>\n",
       "    <tr>\n",
       "      <th>UNIQUE_ID</th>\n",
       "      <th></th>\n",
       "      <th></th>\n",
       "      <th></th>\n",
       "      <th></th>\n",
       "      <th></th>\n",
       "    </tr>\n",
       "  </thead>\n",
       "  <tbody>\n",
       "    <tr>\n",
       "      <th>2440</th>\n",
       "      <td>Houston Police Department-HPD</td>\n",
       "      <td>66614.0</td>\n",
       "      <td>Black or African American</td>\n",
       "      <td>Full Time</td>\n",
       "      <td>Male</td>\n",
       "    </tr>\n",
       "    <tr>\n",
       "      <th>480</th>\n",
       "      <td>Houston Police Department-HPD</td>\n",
       "      <td>27914.0</td>\n",
       "      <td>Black or African American</td>\n",
       "      <td>Full Time</td>\n",
       "      <td>Female</td>\n",
       "    </tr>\n",
       "  </tbody>\n",
       "</table>\n",
       "</div>"
      ],
      "text/plain": [
       "                              DEPARTMENT  BASE_SALARY  \\\n",
       "UNIQUE_ID                                               \n",
       "2440       Houston Police Department-HPD      66614.0   \n",
       "480        Houston Police Department-HPD      27914.0   \n",
       "\n",
       "                                RACE EMPLOYMENT_TYPE  GENDER  \n",
       "UNIQUE_ID                                                     \n",
       "2440       Black or African American       Full Time    Male  \n",
       "480        Black or African American       Full Time  Female  "
      ]
     },
     "execution_count": 180,
     "metadata": {},
     "output_type": "execute_result"
    }
   ],
   "source": [
    "employee_idx.loc[[2440, 480], 'DEPARTMENT':'GENDER']"
   ]
  },
  {
   "cell_type": "markdown",
   "metadata": {},
   "source": [
    "# 7. Case Study - Do Employees with more Experience make more Money?"
   ]
  },
  {
   "cell_type": "code",
   "execution_count": 181,
   "metadata": {
    "collapsed": true
   },
   "outputs": [],
   "source": [
    "import pandas as pd\n",
    "import numpy as np\n",
    "\n",
    "employee = pd.read_csv('data/employee.csv', parse_dates=['HIRE_DATE', 'JOB_DATE'])\n",
    "employee['NEW_CONSTANT_COLUMN'] = 5\n",
    "employee['RACE_GENDER'] = employee['RACE'] + '-' + employee['GENDER']\n",
    "\n",
    "np.random.seed(123)\n",
    "n = len(employee)\n",
    "employee['RANDOM_BONUS'] = np.random.rand(n) * .1\n",
    "\n",
    "employee['YEARS_EXPERIENCE'] = (pd.Timestamp('2016-12-1') - employee['HIRE_DATE']) / pd.Timedelta(1, 'Y')\n",
    "employee['EXPERIENCE_LEVEL'] =  pd.cut(employee['YEARS_EXPERIENCE'], \n",
    "                                       bins=[0, 5, 15, 100], \n",
    "                                       labels=['Novice', 'Experienced', 'Senior'])"
   ]
  },
  {
   "cell_type": "markdown",
   "metadata": {},
   "source": [
    "### Problem 1\n",
    "<span  style=\"color:green; font-size:16px\">Create new columns **`BONUS`** and **`TOTAL_COMP`**. Use column **`RANDOM_BONUS`** to calculate the bonus.</span>"
   ]
  },
  {
   "cell_type": "code",
   "execution_count": 183,
   "metadata": {},
   "outputs": [
    {
     "data": {
      "text/html": [
       "<div>\n",
       "<style>\n",
       "    .dataframe thead tr:only-child th {\n",
       "        text-align: right;\n",
       "    }\n",
       "\n",
       "    .dataframe thead th {\n",
       "        text-align: left;\n",
       "    }\n",
       "\n",
       "    .dataframe tbody tr th {\n",
       "        vertical-align: top;\n",
       "    }\n",
       "</style>\n",
       "<table border=\"1\" class=\"dataframe\">\n",
       "  <thead>\n",
       "    <tr style=\"text-align: right;\">\n",
       "      <th></th>\n",
       "      <th>RANDOM_BONUS</th>\n",
       "      <th>YEARS_EXPERIENCE</th>\n",
       "      <th>EXPERIENCE_LEVEL</th>\n",
       "      <th>BONUS</th>\n",
       "      <th>TOTAL_COMP</th>\n",
       "    </tr>\n",
       "  </thead>\n",
       "  <tbody>\n",
       "    <tr>\n",
       "      <th>0</th>\n",
       "      <td>0.069647</td>\n",
       "      <td>10.472494</td>\n",
       "      <td>Experienced</td>\n",
       "      <td>8487.312790</td>\n",
       "      <td>130349.312790</td>\n",
       "    </tr>\n",
       "    <tr>\n",
       "      <th>1</th>\n",
       "      <td>0.028614</td>\n",
       "      <td>16.369946</td>\n",
       "      <td>Senior</td>\n",
       "      <td>747.539013</td>\n",
       "      <td>26872.539013</td>\n",
       "    </tr>\n",
       "    <tr>\n",
       "      <th>2</th>\n",
       "      <td>0.022685</td>\n",
       "      <td>1.826184</td>\n",
       "      <td>Novice</td>\n",
       "      <td>1027.160697</td>\n",
       "      <td>46306.160697</td>\n",
       "    </tr>\n",
       "  </tbody>\n",
       "</table>\n",
       "</div>"
      ],
      "text/plain": [
       "   RANDOM_BONUS  YEARS_EXPERIENCE EXPERIENCE_LEVEL        BONUS     TOTAL_COMP\n",
       "0      0.069647         10.472494      Experienced  8487.312790  130349.312790\n",
       "1      0.028614         16.369946           Senior   747.539013   26872.539013\n",
       "2      0.022685          1.826184           Novice  1027.160697   46306.160697"
      ]
     },
     "execution_count": 183,
     "metadata": {},
     "output_type": "execute_result"
    }
   ],
   "source": [
    "employee['BONUS'] = employee['RANDOM_BONUS'] * employee['BASE_SALARY']\n",
    "employee['TOTAL_COMP'] = employee['BASE_SALARY'] + employee['BONUS']\n",
    "\n",
    "employee.iloc[:3, -5:]"
   ]
  },
  {
   "cell_type": "markdown",
   "metadata": {},
   "source": [
    "### Problem 2\n",
    "<span  style=\"color:green; font-size:16px\">Use the **`EXPERIENCE_LEVEL`** column to determine if more experienced employees make more money.</span>"
   ]
  },
  {
   "cell_type": "code",
   "execution_count": 184,
   "metadata": {},
   "outputs": [
    {
     "data": {
      "text/plain": [
       "(44987.484, 55264.92867981791, 63638.224209078406)"
      ]
     },
     "execution_count": 184,
     "metadata": {},
     "output_type": "execute_result"
    }
   ],
   "source": [
    "novice = employee.loc[employee['EXPERIENCE_LEVEL'] == 'Novice', 'BASE_SALARY']\n",
    "exper = employee.loc[employee['EXPERIENCE_LEVEL'] == 'Experienced', 'BASE_SALARY']\n",
    "senior = employee.loc[employee['EXPERIENCE_LEVEL'] == 'Senior', 'BASE_SALARY']\n",
    "\n",
    "novice.mean(), exper.mean(), senior.mean()"
   ]
  },
  {
   "cell_type": "markdown",
   "metadata": {},
   "source": [
    "# 8. More on DataFrames"
   ]
  },
  {
   "cell_type": "code",
   "execution_count": 185,
   "metadata": {
    "collapsed": true
   },
   "outputs": [],
   "source": [
    "college = pd.read_csv('data/college.csv', index_col='INSTNM')"
   ]
  },
  {
   "cell_type": "markdown",
   "metadata": {},
   "source": [
    "### Problem 1\n",
    "<span  style=\"color:green; font-size:16px\">Re-read the college.csv file into the variable **`college2`**. Use the documentation of the **`read_csv`** function to assign the index column INSTNM on read, skip the first 20 rows but keep the header.</span>"
   ]
  },
  {
   "cell_type": "code",
   "execution_count": 186,
   "metadata": {},
   "outputs": [
    {
     "data": {
      "text/html": [
       "<div>\n",
       "<style>\n",
       "    .dataframe thead tr:only-child th {\n",
       "        text-align: right;\n",
       "    }\n",
       "\n",
       "    .dataframe thead th {\n",
       "        text-align: left;\n",
       "    }\n",
       "\n",
       "    .dataframe tbody tr th {\n",
       "        vertical-align: top;\n",
       "    }\n",
       "</style>\n",
       "<table border=\"1\" class=\"dataframe\">\n",
       "  <thead>\n",
       "    <tr style=\"text-align: right;\">\n",
       "      <th></th>\n",
       "      <th>CITY</th>\n",
       "      <th>STABBR</th>\n",
       "      <th>HBCU</th>\n",
       "      <th>MENONLY</th>\n",
       "      <th>WOMENONLY</th>\n",
       "      <th>RELAFFIL</th>\n",
       "      <th>SATVRMID</th>\n",
       "      <th>SATMTMID</th>\n",
       "      <th>DISTANCEONLY</th>\n",
       "      <th>UGDS</th>\n",
       "      <th>UGDS_WHITE</th>\n",
       "      <th>UGDS_BLACK</th>\n",
       "      <th>UGDS_HISP</th>\n",
       "      <th>UGDS_ASIAN</th>\n",
       "      <th>UGDS_AIAN</th>\n",
       "      <th>UGDS_NHPI</th>\n",
       "      <th>UGDS_2MOR</th>\n",
       "      <th>UGDS_NRA</th>\n",
       "      <th>UGDS_UNKN</th>\n",
       "      <th>PPTUG_EF</th>\n",
       "      <th>CURROPER</th>\n",
       "      <th>PCTPELL</th>\n",
       "      <th>PCTFLOAN</th>\n",
       "      <th>UG25ABV</th>\n",
       "      <th>MD_EARN_WNE_P10</th>\n",
       "      <th>GRAD_DEBT_MDN_SUPP</th>\n",
       "    </tr>\n",
       "    <tr>\n",
       "      <th>INSTNM</th>\n",
       "      <th></th>\n",
       "      <th></th>\n",
       "      <th></th>\n",
       "      <th></th>\n",
       "      <th></th>\n",
       "      <th></th>\n",
       "      <th></th>\n",
       "      <th></th>\n",
       "      <th></th>\n",
       "      <th></th>\n",
       "      <th></th>\n",
       "      <th></th>\n",
       "      <th></th>\n",
       "      <th></th>\n",
       "      <th></th>\n",
       "      <th></th>\n",
       "      <th></th>\n",
       "      <th></th>\n",
       "      <th></th>\n",
       "      <th></th>\n",
       "      <th></th>\n",
       "      <th></th>\n",
       "      <th></th>\n",
       "      <th></th>\n",
       "      <th></th>\n",
       "      <th></th>\n",
       "    </tr>\n",
       "  </thead>\n",
       "  <tbody>\n",
       "    <tr>\n",
       "      <th>George C Wallace State Community College-Hanceville</th>\n",
       "      <td>Hanceville</td>\n",
       "      <td>AL</td>\n",
       "      <td>0.0</td>\n",
       "      <td>0.0</td>\n",
       "      <td>0.0</td>\n",
       "      <td>0</td>\n",
       "      <td>NaN</td>\n",
       "      <td>NaN</td>\n",
       "      <td>0.0</td>\n",
       "      <td>4920.0</td>\n",
       "      <td>0.8630</td>\n",
       "      <td>0.0612</td>\n",
       "      <td>0.0362</td>\n",
       "      <td>0.0065</td>\n",
       "      <td>0.0089</td>\n",
       "      <td>0.0000</td>\n",
       "      <td>0.0000</td>\n",
       "      <td>0.0059</td>\n",
       "      <td>0.0183</td>\n",
       "      <td>0.4203</td>\n",
       "      <td>1</td>\n",
       "      <td>0.5026</td>\n",
       "      <td>0.4192</td>\n",
       "      <td>0.3229</td>\n",
       "      <td>28800</td>\n",
       "      <td>11186</td>\n",
       "    </tr>\n",
       "    <tr>\n",
       "      <th>George C Wallace State Community College-Selma</th>\n",
       "      <td>Selma</td>\n",
       "      <td>AL</td>\n",
       "      <td>0.0</td>\n",
       "      <td>0.0</td>\n",
       "      <td>0.0</td>\n",
       "      <td>0</td>\n",
       "      <td>NaN</td>\n",
       "      <td>NaN</td>\n",
       "      <td>0.0</td>\n",
       "      <td>1513.0</td>\n",
       "      <td>0.1956</td>\n",
       "      <td>0.7449</td>\n",
       "      <td>0.0026</td>\n",
       "      <td>0.0040</td>\n",
       "      <td>0.0013</td>\n",
       "      <td>0.0000</td>\n",
       "      <td>0.0033</td>\n",
       "      <td>0.0040</td>\n",
       "      <td>0.0443</td>\n",
       "      <td>0.3840</td>\n",
       "      <td>1</td>\n",
       "      <td>0.7645</td>\n",
       "      <td>0.0000</td>\n",
       "      <td>0.3318</td>\n",
       "      <td>24200</td>\n",
       "      <td>PrivacySuppressed</td>\n",
       "    </tr>\n",
       "    <tr>\n",
       "      <th>Herzing University-Birmingham</th>\n",
       "      <td>Birmingham</td>\n",
       "      <td>AL</td>\n",
       "      <td>0.0</td>\n",
       "      <td>0.0</td>\n",
       "      <td>0.0</td>\n",
       "      <td>0</td>\n",
       "      <td>NaN</td>\n",
       "      <td>NaN</td>\n",
       "      <td>0.0</td>\n",
       "      <td>302.0</td>\n",
       "      <td>0.3543</td>\n",
       "      <td>0.5265</td>\n",
       "      <td>0.0166</td>\n",
       "      <td>0.0066</td>\n",
       "      <td>0.0000</td>\n",
       "      <td>0.0000</td>\n",
       "      <td>0.0563</td>\n",
       "      <td>0.0000</td>\n",
       "      <td>0.0397</td>\n",
       "      <td>0.5497</td>\n",
       "      <td>1</td>\n",
       "      <td>0.6541</td>\n",
       "      <td>0.7736</td>\n",
       "      <td>0.7813</td>\n",
       "      <td>42300</td>\n",
       "      <td>23216.5</td>\n",
       "    </tr>\n",
       "    <tr>\n",
       "      <th>Huntingdon College</th>\n",
       "      <td>Montgomery</td>\n",
       "      <td>AL</td>\n",
       "      <td>0.0</td>\n",
       "      <td>0.0</td>\n",
       "      <td>0.0</td>\n",
       "      <td>1</td>\n",
       "      <td>510.0</td>\n",
       "      <td>490.0</td>\n",
       "      <td>0.0</td>\n",
       "      <td>1149.0</td>\n",
       "      <td>0.6388</td>\n",
       "      <td>0.1993</td>\n",
       "      <td>0.0252</td>\n",
       "      <td>0.0078</td>\n",
       "      <td>0.0122</td>\n",
       "      <td>0.0017</td>\n",
       "      <td>0.0261</td>\n",
       "      <td>0.0061</td>\n",
       "      <td>0.0827</td>\n",
       "      <td>0.2097</td>\n",
       "      <td>1</td>\n",
       "      <td>0.3982</td>\n",
       "      <td>0.7153</td>\n",
       "      <td>0.1937</td>\n",
       "      <td>36500</td>\n",
       "      <td>26230</td>\n",
       "    </tr>\n",
       "    <tr>\n",
       "      <th>Heritage Christian University</th>\n",
       "      <td>Florence</td>\n",
       "      <td>AL</td>\n",
       "      <td>0.0</td>\n",
       "      <td>0.0</td>\n",
       "      <td>0.0</td>\n",
       "      <td>1</td>\n",
       "      <td>NaN</td>\n",
       "      <td>NaN</td>\n",
       "      <td>0.0</td>\n",
       "      <td>62.0</td>\n",
       "      <td>0.7419</td>\n",
       "      <td>0.1129</td>\n",
       "      <td>0.0484</td>\n",
       "      <td>0.0000</td>\n",
       "      <td>0.0323</td>\n",
       "      <td>0.0161</td>\n",
       "      <td>0.0000</td>\n",
       "      <td>0.0161</td>\n",
       "      <td>0.0323</td>\n",
       "      <td>0.4355</td>\n",
       "      <td>1</td>\n",
       "      <td>0.6087</td>\n",
       "      <td>0.4493</td>\n",
       "      <td>0.5942</td>\n",
       "      <td>PrivacySuppressed</td>\n",
       "      <td>PrivacySuppressed</td>\n",
       "    </tr>\n",
       "  </tbody>\n",
       "</table>\n",
       "</div>"
      ],
      "text/plain": [
       "                                                          CITY STABBR  HBCU  \\\n",
       "INSTNM                                                                        \n",
       "George C Wallace State Community College-Hancev...  Hanceville     AL   0.0   \n",
       "George C Wallace State Community College-Selma           Selma     AL   0.0   \n",
       "Herzing University-Birmingham                       Birmingham     AL   0.0   \n",
       "Huntingdon College                                  Montgomery     AL   0.0   \n",
       "Heritage Christian University                         Florence     AL   0.0   \n",
       "\n",
       "                                                    MENONLY  WOMENONLY  \\\n",
       "INSTNM                                                                   \n",
       "George C Wallace State Community College-Hancev...      0.0        0.0   \n",
       "George C Wallace State Community College-Selma          0.0        0.0   \n",
       "Herzing University-Birmingham                           0.0        0.0   \n",
       "Huntingdon College                                      0.0        0.0   \n",
       "Heritage Christian University                           0.0        0.0   \n",
       "\n",
       "                                                    RELAFFIL  SATVRMID  \\\n",
       "INSTNM                                                                   \n",
       "George C Wallace State Community College-Hancev...         0       NaN   \n",
       "George C Wallace State Community College-Selma             0       NaN   \n",
       "Herzing University-Birmingham                              0       NaN   \n",
       "Huntingdon College                                         1     510.0   \n",
       "Heritage Christian University                              1       NaN   \n",
       "\n",
       "                                                    SATMTMID  DISTANCEONLY  \\\n",
       "INSTNM                                                                       \n",
       "George C Wallace State Community College-Hancev...       NaN           0.0   \n",
       "George C Wallace State Community College-Selma           NaN           0.0   \n",
       "Herzing University-Birmingham                            NaN           0.0   \n",
       "Huntingdon College                                     490.0           0.0   \n",
       "Heritage Christian University                            NaN           0.0   \n",
       "\n",
       "                                                      UGDS  UGDS_WHITE  \\\n",
       "INSTNM                                                                   \n",
       "George C Wallace State Community College-Hancev...  4920.0      0.8630   \n",
       "George C Wallace State Community College-Selma      1513.0      0.1956   \n",
       "Herzing University-Birmingham                        302.0      0.3543   \n",
       "Huntingdon College                                  1149.0      0.6388   \n",
       "Heritage Christian University                         62.0      0.7419   \n",
       "\n",
       "                                                    UGDS_BLACK  UGDS_HISP  \\\n",
       "INSTNM                                                                      \n",
       "George C Wallace State Community College-Hancev...      0.0612     0.0362   \n",
       "George C Wallace State Community College-Selma          0.7449     0.0026   \n",
       "Herzing University-Birmingham                           0.5265     0.0166   \n",
       "Huntingdon College                                      0.1993     0.0252   \n",
       "Heritage Christian University                           0.1129     0.0484   \n",
       "\n",
       "                                                    UGDS_ASIAN  UGDS_AIAN  \\\n",
       "INSTNM                                                                      \n",
       "George C Wallace State Community College-Hancev...      0.0065     0.0089   \n",
       "George C Wallace State Community College-Selma          0.0040     0.0013   \n",
       "Herzing University-Birmingham                           0.0066     0.0000   \n",
       "Huntingdon College                                      0.0078     0.0122   \n",
       "Heritage Christian University                           0.0000     0.0323   \n",
       "\n",
       "                                                    UGDS_NHPI  UGDS_2MOR  \\\n",
       "INSTNM                                                                     \n",
       "George C Wallace State Community College-Hancev...     0.0000     0.0000   \n",
       "George C Wallace State Community College-Selma         0.0000     0.0033   \n",
       "Herzing University-Birmingham                          0.0000     0.0563   \n",
       "Huntingdon College                                     0.0017     0.0261   \n",
       "Heritage Christian University                          0.0161     0.0000   \n",
       "\n",
       "                                                    UGDS_NRA  UGDS_UNKN  \\\n",
       "INSTNM                                                                    \n",
       "George C Wallace State Community College-Hancev...    0.0059     0.0183   \n",
       "George C Wallace State Community College-Selma        0.0040     0.0443   \n",
       "Herzing University-Birmingham                         0.0000     0.0397   \n",
       "Huntingdon College                                    0.0061     0.0827   \n",
       "Heritage Christian University                         0.0161     0.0323   \n",
       "\n",
       "                                                    PPTUG_EF  CURROPER  \\\n",
       "INSTNM                                                                   \n",
       "George C Wallace State Community College-Hancev...    0.4203         1   \n",
       "George C Wallace State Community College-Selma        0.3840         1   \n",
       "Herzing University-Birmingham                         0.5497         1   \n",
       "Huntingdon College                                    0.2097         1   \n",
       "Heritage Christian University                         0.4355         1   \n",
       "\n",
       "                                                    PCTPELL  PCTFLOAN  \\\n",
       "INSTNM                                                                  \n",
       "George C Wallace State Community College-Hancev...   0.5026    0.4192   \n",
       "George C Wallace State Community College-Selma       0.7645    0.0000   \n",
       "Herzing University-Birmingham                        0.6541    0.7736   \n",
       "Huntingdon College                                   0.3982    0.7153   \n",
       "Heritage Christian University                        0.6087    0.4493   \n",
       "\n",
       "                                                    UG25ABV  \\\n",
       "INSTNM                                                        \n",
       "George C Wallace State Community College-Hancev...   0.3229   \n",
       "George C Wallace State Community College-Selma       0.3318   \n",
       "Herzing University-Birmingham                        0.7813   \n",
       "Huntingdon College                                   0.1937   \n",
       "Heritage Christian University                        0.5942   \n",
       "\n",
       "                                                      MD_EARN_WNE_P10  \\\n",
       "INSTNM                                                                  \n",
       "George C Wallace State Community College-Hancev...              28800   \n",
       "George C Wallace State Community College-Selma                  24200   \n",
       "Herzing University-Birmingham                                   42300   \n",
       "Huntingdon College                                              36500   \n",
       "Heritage Christian University                       PrivacySuppressed   \n",
       "\n",
       "                                                   GRAD_DEBT_MDN_SUPP  \n",
       "INSTNM                                                                 \n",
       "George C Wallace State Community College-Hancev...              11186  \n",
       "George C Wallace State Community College-Selma      PrivacySuppressed  \n",
       "Herzing University-Birmingham                                 23216.5  \n",
       "Huntingdon College                                              26230  \n",
       "Heritage Christian University                       PrivacySuppressed  "
      ]
     },
     "execution_count": 186,
     "metadata": {},
     "output_type": "execute_result"
    }
   ],
   "source": [
    "college2 = pd.read_csv('data/college.csv', index_col='INSTNM', header=0, skiprows=range(1,21))\n",
    "college2.head()"
   ]
  },
  {
   "cell_type": "markdown",
   "metadata": {},
   "source": [
    "### Problem 2\n",
    "<span  style=\"color:green; font-size:16px\">Take a close look at the **`min`** and **`max`** columns. Many columns range from 0 to 1. What kind of data do you think they represent?</span>"
   ]
  },
  {
   "cell_type": "markdown",
   "metadata": {},
   "source": [
    "They are probably binary indicator variables or percentages with real numbers from 0 to 1."
   ]
  },
  {
   "cell_type": "markdown",
   "metadata": {},
   "source": [
    "### Problem 3\n",
    "<span  style=\"color:green; font-size:16px\">Sort first by **`STABBR`** ascending and by **`CITY`** descending. Rread the docs on **`sort_values`** to learn how to sort two columns at the same time.</span>"
   ]
  },
  {
   "cell_type": "code",
   "execution_count": 187,
   "metadata": {},
   "outputs": [
    {
     "data": {
      "text/html": [
       "<div>\n",
       "<style>\n",
       "    .dataframe thead tr:only-child th {\n",
       "        text-align: right;\n",
       "    }\n",
       "\n",
       "    .dataframe thead th {\n",
       "        text-align: left;\n",
       "    }\n",
       "\n",
       "    .dataframe tbody tr th {\n",
       "        vertical-align: top;\n",
       "    }\n",
       "</style>\n",
       "<table border=\"1\" class=\"dataframe\">\n",
       "  <thead>\n",
       "    <tr style=\"text-align: right;\">\n",
       "      <th></th>\n",
       "      <th>CITY</th>\n",
       "      <th>STABBR</th>\n",
       "      <th>HBCU</th>\n",
       "      <th>MENONLY</th>\n",
       "      <th>WOMENONLY</th>\n",
       "      <th>RELAFFIL</th>\n",
       "      <th>SATVRMID</th>\n",
       "      <th>SATMTMID</th>\n",
       "      <th>DISTANCEONLY</th>\n",
       "      <th>UGDS</th>\n",
       "      <th>UGDS_WHITE</th>\n",
       "      <th>UGDS_BLACK</th>\n",
       "      <th>UGDS_HISP</th>\n",
       "      <th>UGDS_ASIAN</th>\n",
       "      <th>UGDS_AIAN</th>\n",
       "      <th>UGDS_NHPI</th>\n",
       "      <th>UGDS_2MOR</th>\n",
       "      <th>UGDS_NRA</th>\n",
       "      <th>UGDS_UNKN</th>\n",
       "      <th>PPTUG_EF</th>\n",
       "      <th>CURROPER</th>\n",
       "      <th>PCTPELL</th>\n",
       "      <th>PCTFLOAN</th>\n",
       "      <th>UG25ABV</th>\n",
       "      <th>MD_EARN_WNE_P10</th>\n",
       "      <th>GRAD_DEBT_MDN_SUPP</th>\n",
       "    </tr>\n",
       "    <tr>\n",
       "      <th>INSTNM</th>\n",
       "      <th></th>\n",
       "      <th></th>\n",
       "      <th></th>\n",
       "      <th></th>\n",
       "      <th></th>\n",
       "      <th></th>\n",
       "      <th></th>\n",
       "      <th></th>\n",
       "      <th></th>\n",
       "      <th></th>\n",
       "      <th></th>\n",
       "      <th></th>\n",
       "      <th></th>\n",
       "      <th></th>\n",
       "      <th></th>\n",
       "      <th></th>\n",
       "      <th></th>\n",
       "      <th></th>\n",
       "      <th></th>\n",
       "      <th></th>\n",
       "      <th></th>\n",
       "      <th></th>\n",
       "      <th></th>\n",
       "      <th></th>\n",
       "      <th></th>\n",
       "      <th></th>\n",
       "    </tr>\n",
       "  </thead>\n",
       "  <tbody>\n",
       "    <tr>\n",
       "      <th>Alaska Christian College</th>\n",
       "      <td>Soldotna</td>\n",
       "      <td>AK</td>\n",
       "      <td>0.0</td>\n",
       "      <td>0.0</td>\n",
       "      <td>0.0</td>\n",
       "      <td>1</td>\n",
       "      <td>NaN</td>\n",
       "      <td>NaN</td>\n",
       "      <td>0.0</td>\n",
       "      <td>68.0</td>\n",
       "      <td>0.0588</td>\n",
       "      <td>0.0000</td>\n",
       "      <td>0.0147</td>\n",
       "      <td>0.0000</td>\n",
       "      <td>0.7794</td>\n",
       "      <td>0.0000</td>\n",
       "      <td>0.0147</td>\n",
       "      <td>0.0000</td>\n",
       "      <td>0.1324</td>\n",
       "      <td>0.0735</td>\n",
       "      <td>1</td>\n",
       "      <td>0.8868</td>\n",
       "      <td>0.6792</td>\n",
       "      <td>0.2264</td>\n",
       "      <td>NaN</td>\n",
       "      <td>PrivacySuppressed</td>\n",
       "    </tr>\n",
       "    <tr>\n",
       "      <th>AVTEC-Alaska's Institute of Technology</th>\n",
       "      <td>Seward</td>\n",
       "      <td>AK</td>\n",
       "      <td>0.0</td>\n",
       "      <td>0.0</td>\n",
       "      <td>0.0</td>\n",
       "      <td>0</td>\n",
       "      <td>NaN</td>\n",
       "      <td>NaN</td>\n",
       "      <td>0.0</td>\n",
       "      <td>889.0</td>\n",
       "      <td>0.5388</td>\n",
       "      <td>0.0112</td>\n",
       "      <td>0.0427</td>\n",
       "      <td>0.0157</td>\n",
       "      <td>0.1879</td>\n",
       "      <td>0.0112</td>\n",
       "      <td>0.0529</td>\n",
       "      <td>0.0000</td>\n",
       "      <td>0.1395</td>\n",
       "      <td>0.6817</td>\n",
       "      <td>1</td>\n",
       "      <td>0.0737</td>\n",
       "      <td>0.0664</td>\n",
       "      <td>0.7127</td>\n",
       "      <td>33500</td>\n",
       "      <td>PrivacySuppressed</td>\n",
       "    </tr>\n",
       "    <tr>\n",
       "      <th>Alaska Bible College</th>\n",
       "      <td>Palmer</td>\n",
       "      <td>AK</td>\n",
       "      <td>0.0</td>\n",
       "      <td>0.0</td>\n",
       "      <td>0.0</td>\n",
       "      <td>1</td>\n",
       "      <td>NaN</td>\n",
       "      <td>NaN</td>\n",
       "      <td>0.0</td>\n",
       "      <td>27.0</td>\n",
       "      <td>0.8519</td>\n",
       "      <td>0.0000</td>\n",
       "      <td>0.0370</td>\n",
       "      <td>0.0000</td>\n",
       "      <td>0.0741</td>\n",
       "      <td>0.0000</td>\n",
       "      <td>0.0370</td>\n",
       "      <td>0.0000</td>\n",
       "      <td>0.0000</td>\n",
       "      <td>0.1481</td>\n",
       "      <td>1</td>\n",
       "      <td>0.3571</td>\n",
       "      <td>0.2857</td>\n",
       "      <td>0.4286</td>\n",
       "      <td>NaN</td>\n",
       "      <td>PrivacySuppressed</td>\n",
       "    </tr>\n",
       "    <tr>\n",
       "      <th>University of Alaska Southeast</th>\n",
       "      <td>Juneau</td>\n",
       "      <td>AK</td>\n",
       "      <td>0.0</td>\n",
       "      <td>0.0</td>\n",
       "      <td>0.0</td>\n",
       "      <td>0</td>\n",
       "      <td>NaN</td>\n",
       "      <td>NaN</td>\n",
       "      <td>0.0</td>\n",
       "      <td>1428.0</td>\n",
       "      <td>0.4748</td>\n",
       "      <td>0.0119</td>\n",
       "      <td>0.0623</td>\n",
       "      <td>0.0357</td>\n",
       "      <td>0.1029</td>\n",
       "      <td>0.0147</td>\n",
       "      <td>0.0686</td>\n",
       "      <td>0.0049</td>\n",
       "      <td>0.2241</td>\n",
       "      <td>0.5112</td>\n",
       "      <td>1</td>\n",
       "      <td>0.1769</td>\n",
       "      <td>0.1996</td>\n",
       "      <td>0.5550</td>\n",
       "      <td>37400</td>\n",
       "      <td>16875</td>\n",
       "    </tr>\n",
       "    <tr>\n",
       "      <th>University of Alaska Fairbanks</th>\n",
       "      <td>Fairbanks</td>\n",
       "      <td>AK</td>\n",
       "      <td>0.0</td>\n",
       "      <td>0.0</td>\n",
       "      <td>0.0</td>\n",
       "      <td>0</td>\n",
       "      <td>NaN</td>\n",
       "      <td>NaN</td>\n",
       "      <td>0.0</td>\n",
       "      <td>5536.0</td>\n",
       "      <td>0.4259</td>\n",
       "      <td>0.0210</td>\n",
       "      <td>0.0522</td>\n",
       "      <td>0.0126</td>\n",
       "      <td>0.1284</td>\n",
       "      <td>0.0027</td>\n",
       "      <td>0.0401</td>\n",
       "      <td>0.0110</td>\n",
       "      <td>0.3060</td>\n",
       "      <td>0.3887</td>\n",
       "      <td>1</td>\n",
       "      <td>0.2263</td>\n",
       "      <td>0.2550</td>\n",
       "      <td>0.4519</td>\n",
       "      <td>36200</td>\n",
       "      <td>19355</td>\n",
       "    </tr>\n",
       "  </tbody>\n",
       "</table>\n",
       "</div>"
      ],
      "text/plain": [
       "                                             CITY STABBR  HBCU  MENONLY  \\\n",
       "INSTNM                                                                    \n",
       "Alaska Christian College                 Soldotna     AK   0.0      0.0   \n",
       "AVTEC-Alaska's Institute of Technology     Seward     AK   0.0      0.0   \n",
       "Alaska Bible College                       Palmer     AK   0.0      0.0   \n",
       "University of Alaska Southeast             Juneau     AK   0.0      0.0   \n",
       "University of Alaska Fairbanks          Fairbanks     AK   0.0      0.0   \n",
       "\n",
       "                                        WOMENONLY  RELAFFIL  SATVRMID  \\\n",
       "INSTNM                                                                  \n",
       "Alaska Christian College                      0.0         1       NaN   \n",
       "AVTEC-Alaska's Institute of Technology        0.0         0       NaN   \n",
       "Alaska Bible College                          0.0         1       NaN   \n",
       "University of Alaska Southeast                0.0         0       NaN   \n",
       "University of Alaska Fairbanks                0.0         0       NaN   \n",
       "\n",
       "                                        SATMTMID  DISTANCEONLY    UGDS  \\\n",
       "INSTNM                                                                   \n",
       "Alaska Christian College                     NaN           0.0    68.0   \n",
       "AVTEC-Alaska's Institute of Technology       NaN           0.0   889.0   \n",
       "Alaska Bible College                         NaN           0.0    27.0   \n",
       "University of Alaska Southeast               NaN           0.0  1428.0   \n",
       "University of Alaska Fairbanks               NaN           0.0  5536.0   \n",
       "\n",
       "                                        UGDS_WHITE  UGDS_BLACK  UGDS_HISP  \\\n",
       "INSTNM                                                                      \n",
       "Alaska Christian College                    0.0588      0.0000     0.0147   \n",
       "AVTEC-Alaska's Institute of Technology      0.5388      0.0112     0.0427   \n",
       "Alaska Bible College                        0.8519      0.0000     0.0370   \n",
       "University of Alaska Southeast              0.4748      0.0119     0.0623   \n",
       "University of Alaska Fairbanks              0.4259      0.0210     0.0522   \n",
       "\n",
       "                                        UGDS_ASIAN  UGDS_AIAN  UGDS_NHPI  \\\n",
       "INSTNM                                                                     \n",
       "Alaska Christian College                    0.0000     0.7794     0.0000   \n",
       "AVTEC-Alaska's Institute of Technology      0.0157     0.1879     0.0112   \n",
       "Alaska Bible College                        0.0000     0.0741     0.0000   \n",
       "University of Alaska Southeast              0.0357     0.1029     0.0147   \n",
       "University of Alaska Fairbanks              0.0126     0.1284     0.0027   \n",
       "\n",
       "                                        UGDS_2MOR  UGDS_NRA  UGDS_UNKN  \\\n",
       "INSTNM                                                                   \n",
       "Alaska Christian College                   0.0147    0.0000     0.1324   \n",
       "AVTEC-Alaska's Institute of Technology     0.0529    0.0000     0.1395   \n",
       "Alaska Bible College                       0.0370    0.0000     0.0000   \n",
       "University of Alaska Southeast             0.0686    0.0049     0.2241   \n",
       "University of Alaska Fairbanks             0.0401    0.0110     0.3060   \n",
       "\n",
       "                                        PPTUG_EF  CURROPER  PCTPELL  PCTFLOAN  \\\n",
       "INSTNM                                                                          \n",
       "Alaska Christian College                  0.0735         1   0.8868    0.6792   \n",
       "AVTEC-Alaska's Institute of Technology    0.6817         1   0.0737    0.0664   \n",
       "Alaska Bible College                      0.1481         1   0.3571    0.2857   \n",
       "University of Alaska Southeast            0.5112         1   0.1769    0.1996   \n",
       "University of Alaska Fairbanks            0.3887         1   0.2263    0.2550   \n",
       "\n",
       "                                        UG25ABV MD_EARN_WNE_P10  \\\n",
       "INSTNM                                                            \n",
       "Alaska Christian College                 0.2264             NaN   \n",
       "AVTEC-Alaska's Institute of Technology   0.7127           33500   \n",
       "Alaska Bible College                     0.4286             NaN   \n",
       "University of Alaska Southeast           0.5550           37400   \n",
       "University of Alaska Fairbanks           0.4519           36200   \n",
       "\n",
       "                                       GRAD_DEBT_MDN_SUPP  \n",
       "INSTNM                                                     \n",
       "Alaska Christian College                PrivacySuppressed  \n",
       "AVTEC-Alaska's Institute of Technology  PrivacySuppressed  \n",
       "Alaska Bible College                    PrivacySuppressed  \n",
       "University of Alaska Southeast                      16875  \n",
       "University of Alaska Fairbanks                      19355  "
      ]
     },
     "execution_count": 187,
     "metadata": {},
     "output_type": "execute_result"
    }
   ],
   "source": [
    "college.sort_values(by=['STABBR', 'CITY'], ascending=[True, False]).head()"
   ]
  },
  {
   "cell_type": "markdown",
   "metadata": {},
   "source": [
    "### Problem 4\n",
    "<span  style=\"color:green; font-size:16px\">Rename column **`HBCU`** to **`HISTORICALLY_BLACK`**, **`STABBR`** to **`STATE_ABBR`** and index **`Alabama State University`** to **`ASU`** all in one line of code. </span>"
   ]
  },
  {
   "cell_type": "code",
   "execution_count": 188,
   "metadata": {},
   "outputs": [
    {
     "data": {
      "text/html": [
       "<div>\n",
       "<style>\n",
       "    .dataframe thead tr:only-child th {\n",
       "        text-align: right;\n",
       "    }\n",
       "\n",
       "    .dataframe thead th {\n",
       "        text-align: left;\n",
       "    }\n",
       "\n",
       "    .dataframe tbody tr th {\n",
       "        vertical-align: top;\n",
       "    }\n",
       "</style>\n",
       "<table border=\"1\" class=\"dataframe\">\n",
       "  <thead>\n",
       "    <tr style=\"text-align: right;\">\n",
       "      <th></th>\n",
       "      <th>CITY</th>\n",
       "      <th>STATE_ABBR</th>\n",
       "      <th>HISTORICALLY_BLACK</th>\n",
       "      <th>MENONLY</th>\n",
       "      <th>WOMENONLY</th>\n",
       "      <th>RELAFFIL</th>\n",
       "      <th>SATVRMID</th>\n",
       "      <th>SATMTMID</th>\n",
       "      <th>DISTANCEONLY</th>\n",
       "      <th>UGDS</th>\n",
       "      <th>UGDS_WHITE</th>\n",
       "      <th>UGDS_BLACK</th>\n",
       "      <th>UGDS_HISP</th>\n",
       "      <th>UGDS_ASIAN</th>\n",
       "      <th>UGDS_AIAN</th>\n",
       "      <th>UGDS_NHPI</th>\n",
       "      <th>UGDS_2MOR</th>\n",
       "      <th>UGDS_NRA</th>\n",
       "      <th>UGDS_UNKN</th>\n",
       "      <th>PPTUG_EF</th>\n",
       "      <th>CURROPER</th>\n",
       "      <th>PCTPELL</th>\n",
       "      <th>PCTFLOAN</th>\n",
       "      <th>UG25ABV</th>\n",
       "      <th>MD_EARN_WNE_P10</th>\n",
       "      <th>GRAD_DEBT_MDN_SUPP</th>\n",
       "    </tr>\n",
       "    <tr>\n",
       "      <th>INSTNM</th>\n",
       "      <th></th>\n",
       "      <th></th>\n",
       "      <th></th>\n",
       "      <th></th>\n",
       "      <th></th>\n",
       "      <th></th>\n",
       "      <th></th>\n",
       "      <th></th>\n",
       "      <th></th>\n",
       "      <th></th>\n",
       "      <th></th>\n",
       "      <th></th>\n",
       "      <th></th>\n",
       "      <th></th>\n",
       "      <th></th>\n",
       "      <th></th>\n",
       "      <th></th>\n",
       "      <th></th>\n",
       "      <th></th>\n",
       "      <th></th>\n",
       "      <th></th>\n",
       "      <th></th>\n",
       "      <th></th>\n",
       "      <th></th>\n",
       "      <th></th>\n",
       "      <th></th>\n",
       "    </tr>\n",
       "  </thead>\n",
       "  <tbody>\n",
       "    <tr>\n",
       "      <th>Alabama A &amp; M University</th>\n",
       "      <td>Normal</td>\n",
       "      <td>AL</td>\n",
       "      <td>1.0</td>\n",
       "      <td>0.0</td>\n",
       "      <td>0.0</td>\n",
       "      <td>0</td>\n",
       "      <td>424.0</td>\n",
       "      <td>420.0</td>\n",
       "      <td>0.0</td>\n",
       "      <td>4206.0</td>\n",
       "      <td>0.0333</td>\n",
       "      <td>0.9353</td>\n",
       "      <td>0.0055</td>\n",
       "      <td>0.0019</td>\n",
       "      <td>0.0024</td>\n",
       "      <td>0.0019</td>\n",
       "      <td>0.0000</td>\n",
       "      <td>0.0059</td>\n",
       "      <td>0.0138</td>\n",
       "      <td>0.0656</td>\n",
       "      <td>1</td>\n",
       "      <td>0.7356</td>\n",
       "      <td>0.8284</td>\n",
       "      <td>0.1049</td>\n",
       "      <td>30300</td>\n",
       "      <td>33888</td>\n",
       "    </tr>\n",
       "    <tr>\n",
       "      <th>University of Alabama at Birmingham</th>\n",
       "      <td>Birmingham</td>\n",
       "      <td>AL</td>\n",
       "      <td>0.0</td>\n",
       "      <td>0.0</td>\n",
       "      <td>0.0</td>\n",
       "      <td>0</td>\n",
       "      <td>570.0</td>\n",
       "      <td>565.0</td>\n",
       "      <td>0.0</td>\n",
       "      <td>11383.0</td>\n",
       "      <td>0.5922</td>\n",
       "      <td>0.2600</td>\n",
       "      <td>0.0283</td>\n",
       "      <td>0.0518</td>\n",
       "      <td>0.0022</td>\n",
       "      <td>0.0007</td>\n",
       "      <td>0.0368</td>\n",
       "      <td>0.0179</td>\n",
       "      <td>0.0100</td>\n",
       "      <td>0.2607</td>\n",
       "      <td>1</td>\n",
       "      <td>0.3460</td>\n",
       "      <td>0.5214</td>\n",
       "      <td>0.2422</td>\n",
       "      <td>39700</td>\n",
       "      <td>21941.5</td>\n",
       "    </tr>\n",
       "    <tr>\n",
       "      <th>Amridge University</th>\n",
       "      <td>Montgomery</td>\n",
       "      <td>AL</td>\n",
       "      <td>0.0</td>\n",
       "      <td>0.0</td>\n",
       "      <td>0.0</td>\n",
       "      <td>1</td>\n",
       "      <td>NaN</td>\n",
       "      <td>NaN</td>\n",
       "      <td>1.0</td>\n",
       "      <td>291.0</td>\n",
       "      <td>0.2990</td>\n",
       "      <td>0.4192</td>\n",
       "      <td>0.0069</td>\n",
       "      <td>0.0034</td>\n",
       "      <td>0.0000</td>\n",
       "      <td>0.0000</td>\n",
       "      <td>0.0000</td>\n",
       "      <td>0.0000</td>\n",
       "      <td>0.2715</td>\n",
       "      <td>0.4536</td>\n",
       "      <td>1</td>\n",
       "      <td>0.6801</td>\n",
       "      <td>0.7795</td>\n",
       "      <td>0.8540</td>\n",
       "      <td>40100</td>\n",
       "      <td>23370</td>\n",
       "    </tr>\n",
       "    <tr>\n",
       "      <th>University of Alabama in Huntsville</th>\n",
       "      <td>Huntsville</td>\n",
       "      <td>AL</td>\n",
       "      <td>0.0</td>\n",
       "      <td>0.0</td>\n",
       "      <td>0.0</td>\n",
       "      <td>0</td>\n",
       "      <td>595.0</td>\n",
       "      <td>590.0</td>\n",
       "      <td>0.0</td>\n",
       "      <td>5451.0</td>\n",
       "      <td>0.6988</td>\n",
       "      <td>0.1255</td>\n",
       "      <td>0.0382</td>\n",
       "      <td>0.0376</td>\n",
       "      <td>0.0143</td>\n",
       "      <td>0.0002</td>\n",
       "      <td>0.0172</td>\n",
       "      <td>0.0332</td>\n",
       "      <td>0.0350</td>\n",
       "      <td>0.2146</td>\n",
       "      <td>1</td>\n",
       "      <td>0.3072</td>\n",
       "      <td>0.4596</td>\n",
       "      <td>0.2640</td>\n",
       "      <td>45500</td>\n",
       "      <td>24097</td>\n",
       "    </tr>\n",
       "    <tr>\n",
       "      <th>ASU</th>\n",
       "      <td>Montgomery</td>\n",
       "      <td>AL</td>\n",
       "      <td>1.0</td>\n",
       "      <td>0.0</td>\n",
       "      <td>0.0</td>\n",
       "      <td>0</td>\n",
       "      <td>425.0</td>\n",
       "      <td>430.0</td>\n",
       "      <td>0.0</td>\n",
       "      <td>4811.0</td>\n",
       "      <td>0.0158</td>\n",
       "      <td>0.9208</td>\n",
       "      <td>0.0121</td>\n",
       "      <td>0.0019</td>\n",
       "      <td>0.0010</td>\n",
       "      <td>0.0006</td>\n",
       "      <td>0.0098</td>\n",
       "      <td>0.0243</td>\n",
       "      <td>0.0137</td>\n",
       "      <td>0.0892</td>\n",
       "      <td>1</td>\n",
       "      <td>0.7347</td>\n",
       "      <td>0.7554</td>\n",
       "      <td>0.1270</td>\n",
       "      <td>26600</td>\n",
       "      <td>33118.5</td>\n",
       "    </tr>\n",
       "  </tbody>\n",
       "</table>\n",
       "</div>"
      ],
      "text/plain": [
       "                                           CITY STATE_ABBR  \\\n",
       "INSTNM                                                       \n",
       "Alabama A & M University                 Normal         AL   \n",
       "University of Alabama at Birmingham  Birmingham         AL   \n",
       "Amridge University                   Montgomery         AL   \n",
       "University of Alabama in Huntsville  Huntsville         AL   \n",
       "ASU                                  Montgomery         AL   \n",
       "\n",
       "                                     HISTORICALLY_BLACK  MENONLY  WOMENONLY  \\\n",
       "INSTNM                                                                        \n",
       "Alabama A & M University                            1.0      0.0        0.0   \n",
       "University of Alabama at Birmingham                 0.0      0.0        0.0   \n",
       "Amridge University                                  0.0      0.0        0.0   \n",
       "University of Alabama in Huntsville                 0.0      0.0        0.0   \n",
       "ASU                                                 1.0      0.0        0.0   \n",
       "\n",
       "                                     RELAFFIL  SATVRMID  SATMTMID  \\\n",
       "INSTNM                                                              \n",
       "Alabama A & M University                    0     424.0     420.0   \n",
       "University of Alabama at Birmingham         0     570.0     565.0   \n",
       "Amridge University                          1       NaN       NaN   \n",
       "University of Alabama in Huntsville         0     595.0     590.0   \n",
       "ASU                                         0     425.0     430.0   \n",
       "\n",
       "                                     DISTANCEONLY     UGDS  UGDS_WHITE  \\\n",
       "INSTNM                                                                   \n",
       "Alabama A & M University                      0.0   4206.0      0.0333   \n",
       "University of Alabama at Birmingham           0.0  11383.0      0.5922   \n",
       "Amridge University                            1.0    291.0      0.2990   \n",
       "University of Alabama in Huntsville           0.0   5451.0      0.6988   \n",
       "ASU                                           0.0   4811.0      0.0158   \n",
       "\n",
       "                                     UGDS_BLACK  UGDS_HISP  UGDS_ASIAN  \\\n",
       "INSTNM                                                                   \n",
       "Alabama A & M University                 0.9353     0.0055      0.0019   \n",
       "University of Alabama at Birmingham      0.2600     0.0283      0.0518   \n",
       "Amridge University                       0.4192     0.0069      0.0034   \n",
       "University of Alabama in Huntsville      0.1255     0.0382      0.0376   \n",
       "ASU                                      0.9208     0.0121      0.0019   \n",
       "\n",
       "                                     UGDS_AIAN  UGDS_NHPI  UGDS_2MOR  \\\n",
       "INSTNM                                                                 \n",
       "Alabama A & M University                0.0024     0.0019     0.0000   \n",
       "University of Alabama at Birmingham     0.0022     0.0007     0.0368   \n",
       "Amridge University                      0.0000     0.0000     0.0000   \n",
       "University of Alabama in Huntsville     0.0143     0.0002     0.0172   \n",
       "ASU                                     0.0010     0.0006     0.0098   \n",
       "\n",
       "                                     UGDS_NRA  UGDS_UNKN  PPTUG_EF  CURROPER  \\\n",
       "INSTNM                                                                         \n",
       "Alabama A & M University               0.0059     0.0138    0.0656         1   \n",
       "University of Alabama at Birmingham    0.0179     0.0100    0.2607         1   \n",
       "Amridge University                     0.0000     0.2715    0.4536         1   \n",
       "University of Alabama in Huntsville    0.0332     0.0350    0.2146         1   \n",
       "ASU                                    0.0243     0.0137    0.0892         1   \n",
       "\n",
       "                                     PCTPELL  PCTFLOAN  UG25ABV  \\\n",
       "INSTNM                                                            \n",
       "Alabama A & M University              0.7356    0.8284   0.1049   \n",
       "University of Alabama at Birmingham   0.3460    0.5214   0.2422   \n",
       "Amridge University                    0.6801    0.7795   0.8540   \n",
       "University of Alabama in Huntsville   0.3072    0.4596   0.2640   \n",
       "ASU                                   0.7347    0.7554   0.1270   \n",
       "\n",
       "                                    MD_EARN_WNE_P10 GRAD_DEBT_MDN_SUPP  \n",
       "INSTNM                                                                  \n",
       "Alabama A & M University                      30300              33888  \n",
       "University of Alabama at Birmingham           39700            21941.5  \n",
       "Amridge University                            40100              23370  \n",
       "University of Alabama in Huntsville           45500              24097  \n",
       "ASU                                           26600            33118.5  "
      ]
     },
     "execution_count": 188,
     "metadata": {},
     "output_type": "execute_result"
    }
   ],
   "source": [
    "college.rename(columns={'HBCU':'HISTORICALLY_BLACK', 'STABBR':'STATE_ABBR'}, \n",
    "               index={'Alabama State University':'ASU'}).head()"
   ]
  },
  {
   "cell_type": "markdown",
   "metadata": {},
   "source": [
    "### Problem 5\n",
    "<span  style=\"color:green; font-size:16px\">Sort the index in-place. Output the head of the DataFrame.</span>"
   ]
  },
  {
   "cell_type": "code",
   "execution_count": 189,
   "metadata": {
    "collapsed": true
   },
   "outputs": [],
   "source": [
    "college.sort_index(inplace=True)"
   ]
  },
  {
   "cell_type": "code",
   "execution_count": 190,
   "metadata": {},
   "outputs": [
    {
     "data": {
      "text/html": [
       "<div>\n",
       "<style>\n",
       "    .dataframe thead tr:only-child th {\n",
       "        text-align: right;\n",
       "    }\n",
       "\n",
       "    .dataframe thead th {\n",
       "        text-align: left;\n",
       "    }\n",
       "\n",
       "    .dataframe tbody tr th {\n",
       "        vertical-align: top;\n",
       "    }\n",
       "</style>\n",
       "<table border=\"1\" class=\"dataframe\">\n",
       "  <thead>\n",
       "    <tr style=\"text-align: right;\">\n",
       "      <th></th>\n",
       "      <th>CITY</th>\n",
       "      <th>STABBR</th>\n",
       "      <th>HBCU</th>\n",
       "      <th>MENONLY</th>\n",
       "      <th>WOMENONLY</th>\n",
       "      <th>RELAFFIL</th>\n",
       "      <th>SATVRMID</th>\n",
       "      <th>SATMTMID</th>\n",
       "      <th>DISTANCEONLY</th>\n",
       "      <th>UGDS</th>\n",
       "      <th>UGDS_WHITE</th>\n",
       "      <th>UGDS_BLACK</th>\n",
       "      <th>UGDS_HISP</th>\n",
       "      <th>UGDS_ASIAN</th>\n",
       "      <th>UGDS_AIAN</th>\n",
       "      <th>UGDS_NHPI</th>\n",
       "      <th>UGDS_2MOR</th>\n",
       "      <th>UGDS_NRA</th>\n",
       "      <th>UGDS_UNKN</th>\n",
       "      <th>PPTUG_EF</th>\n",
       "      <th>CURROPER</th>\n",
       "      <th>PCTPELL</th>\n",
       "      <th>PCTFLOAN</th>\n",
       "      <th>UG25ABV</th>\n",
       "      <th>MD_EARN_WNE_P10</th>\n",
       "      <th>GRAD_DEBT_MDN_SUPP</th>\n",
       "    </tr>\n",
       "    <tr>\n",
       "      <th>INSTNM</th>\n",
       "      <th></th>\n",
       "      <th></th>\n",
       "      <th></th>\n",
       "      <th></th>\n",
       "      <th></th>\n",
       "      <th></th>\n",
       "      <th></th>\n",
       "      <th></th>\n",
       "      <th></th>\n",
       "      <th></th>\n",
       "      <th></th>\n",
       "      <th></th>\n",
       "      <th></th>\n",
       "      <th></th>\n",
       "      <th></th>\n",
       "      <th></th>\n",
       "      <th></th>\n",
       "      <th></th>\n",
       "      <th></th>\n",
       "      <th></th>\n",
       "      <th></th>\n",
       "      <th></th>\n",
       "      <th></th>\n",
       "      <th></th>\n",
       "      <th></th>\n",
       "      <th></th>\n",
       "    </tr>\n",
       "  </thead>\n",
       "  <tbody>\n",
       "    <tr>\n",
       "      <th>A &amp; W Healthcare Educators</th>\n",
       "      <td>New Orleans</td>\n",
       "      <td>LA</td>\n",
       "      <td>0.0</td>\n",
       "      <td>0.0</td>\n",
       "      <td>0.0</td>\n",
       "      <td>0</td>\n",
       "      <td>NaN</td>\n",
       "      <td>NaN</td>\n",
       "      <td>0.0</td>\n",
       "      <td>40.0</td>\n",
       "      <td>0.0000</td>\n",
       "      <td>0.9750</td>\n",
       "      <td>0.0250</td>\n",
       "      <td>0.0000</td>\n",
       "      <td>0.0</td>\n",
       "      <td>0.0</td>\n",
       "      <td>0.0000</td>\n",
       "      <td>0.0000</td>\n",
       "      <td>0.0000</td>\n",
       "      <td>0.1250</td>\n",
       "      <td>1</td>\n",
       "      <td>0.7018</td>\n",
       "      <td>0.8596</td>\n",
       "      <td>0.6667</td>\n",
       "      <td>NaN</td>\n",
       "      <td>19022.5</td>\n",
       "    </tr>\n",
       "    <tr>\n",
       "      <th>A T Still University of Health Sciences</th>\n",
       "      <td>Kirksville</td>\n",
       "      <td>MO</td>\n",
       "      <td>0.0</td>\n",
       "      <td>0.0</td>\n",
       "      <td>0.0</td>\n",
       "      <td>0</td>\n",
       "      <td>NaN</td>\n",
       "      <td>NaN</td>\n",
       "      <td>0.0</td>\n",
       "      <td>NaN</td>\n",
       "      <td>NaN</td>\n",
       "      <td>NaN</td>\n",
       "      <td>NaN</td>\n",
       "      <td>NaN</td>\n",
       "      <td>NaN</td>\n",
       "      <td>NaN</td>\n",
       "      <td>NaN</td>\n",
       "      <td>NaN</td>\n",
       "      <td>NaN</td>\n",
       "      <td>NaN</td>\n",
       "      <td>1</td>\n",
       "      <td>NaN</td>\n",
       "      <td>NaN</td>\n",
       "      <td>NaN</td>\n",
       "      <td>219800</td>\n",
       "      <td>PrivacySuppressed</td>\n",
       "    </tr>\n",
       "    <tr>\n",
       "      <th>ABC Beauty Academy</th>\n",
       "      <td>Garland</td>\n",
       "      <td>TX</td>\n",
       "      <td>0.0</td>\n",
       "      <td>0.0</td>\n",
       "      <td>0.0</td>\n",
       "      <td>0</td>\n",
       "      <td>NaN</td>\n",
       "      <td>NaN</td>\n",
       "      <td>0.0</td>\n",
       "      <td>30.0</td>\n",
       "      <td>0.0000</td>\n",
       "      <td>0.0333</td>\n",
       "      <td>0.0333</td>\n",
       "      <td>0.9333</td>\n",
       "      <td>0.0</td>\n",
       "      <td>0.0</td>\n",
       "      <td>0.0000</td>\n",
       "      <td>0.0000</td>\n",
       "      <td>0.0000</td>\n",
       "      <td>0.0000</td>\n",
       "      <td>0</td>\n",
       "      <td>0.7857</td>\n",
       "      <td>0.0000</td>\n",
       "      <td>0.8286</td>\n",
       "      <td>NaN</td>\n",
       "      <td>PrivacySuppressed</td>\n",
       "    </tr>\n",
       "    <tr>\n",
       "      <th>ABC Beauty College Inc</th>\n",
       "      <td>Arkadelphia</td>\n",
       "      <td>AR</td>\n",
       "      <td>0.0</td>\n",
       "      <td>0.0</td>\n",
       "      <td>0.0</td>\n",
       "      <td>0</td>\n",
       "      <td>NaN</td>\n",
       "      <td>NaN</td>\n",
       "      <td>0.0</td>\n",
       "      <td>38.0</td>\n",
       "      <td>0.2895</td>\n",
       "      <td>0.6579</td>\n",
       "      <td>0.0526</td>\n",
       "      <td>0.0000</td>\n",
       "      <td>0.0</td>\n",
       "      <td>0.0</td>\n",
       "      <td>0.0000</td>\n",
       "      <td>0.0000</td>\n",
       "      <td>0.0000</td>\n",
       "      <td>0.2105</td>\n",
       "      <td>1</td>\n",
       "      <td>0.9815</td>\n",
       "      <td>1.0000</td>\n",
       "      <td>0.4688</td>\n",
       "      <td>PrivacySuppressed</td>\n",
       "      <td>16500</td>\n",
       "    </tr>\n",
       "    <tr>\n",
       "      <th>AI Miami International University of Art and Design</th>\n",
       "      <td>Miami</td>\n",
       "      <td>FL</td>\n",
       "      <td>0.0</td>\n",
       "      <td>0.0</td>\n",
       "      <td>0.0</td>\n",
       "      <td>0</td>\n",
       "      <td>NaN</td>\n",
       "      <td>NaN</td>\n",
       "      <td>0.0</td>\n",
       "      <td>2778.0</td>\n",
       "      <td>0.0324</td>\n",
       "      <td>0.0198</td>\n",
       "      <td>0.4773</td>\n",
       "      <td>0.0018</td>\n",
       "      <td>0.0</td>\n",
       "      <td>0.0</td>\n",
       "      <td>0.0018</td>\n",
       "      <td>0.0025</td>\n",
       "      <td>0.4644</td>\n",
       "      <td>0.2185</td>\n",
       "      <td>1</td>\n",
       "      <td>0.5507</td>\n",
       "      <td>0.6966</td>\n",
       "      <td>0.3262</td>\n",
       "      <td>29900</td>\n",
       "      <td>31000</td>\n",
       "    </tr>\n",
       "  </tbody>\n",
       "</table>\n",
       "</div>"
      ],
      "text/plain": [
       "                                                           CITY STABBR  HBCU  \\\n",
       "INSTNM                                                                         \n",
       "A & W Healthcare Educators                          New Orleans     LA   0.0   \n",
       "A T Still University of Health Sciences              Kirksville     MO   0.0   \n",
       "ABC Beauty Academy                                      Garland     TX   0.0   \n",
       "ABC Beauty College Inc                              Arkadelphia     AR   0.0   \n",
       "AI Miami International University of Art and De...        Miami     FL   0.0   \n",
       "\n",
       "                                                    MENONLY  WOMENONLY  \\\n",
       "INSTNM                                                                   \n",
       "A & W Healthcare Educators                              0.0        0.0   \n",
       "A T Still University of Health Sciences                 0.0        0.0   \n",
       "ABC Beauty Academy                                      0.0        0.0   \n",
       "ABC Beauty College Inc                                  0.0        0.0   \n",
       "AI Miami International University of Art and De...      0.0        0.0   \n",
       "\n",
       "                                                    RELAFFIL  SATVRMID  \\\n",
       "INSTNM                                                                   \n",
       "A & W Healthcare Educators                                 0       NaN   \n",
       "A T Still University of Health Sciences                    0       NaN   \n",
       "ABC Beauty Academy                                         0       NaN   \n",
       "ABC Beauty College Inc                                     0       NaN   \n",
       "AI Miami International University of Art and De...         0       NaN   \n",
       "\n",
       "                                                    SATMTMID  DISTANCEONLY  \\\n",
       "INSTNM                                                                       \n",
       "A & W Healthcare Educators                               NaN           0.0   \n",
       "A T Still University of Health Sciences                  NaN           0.0   \n",
       "ABC Beauty Academy                                       NaN           0.0   \n",
       "ABC Beauty College Inc                                   NaN           0.0   \n",
       "AI Miami International University of Art and De...       NaN           0.0   \n",
       "\n",
       "                                                      UGDS  UGDS_WHITE  \\\n",
       "INSTNM                                                                   \n",
       "A & W Healthcare Educators                            40.0      0.0000   \n",
       "A T Still University of Health Sciences                NaN         NaN   \n",
       "ABC Beauty Academy                                    30.0      0.0000   \n",
       "ABC Beauty College Inc                                38.0      0.2895   \n",
       "AI Miami International University of Art and De...  2778.0      0.0324   \n",
       "\n",
       "                                                    UGDS_BLACK  UGDS_HISP  \\\n",
       "INSTNM                                                                      \n",
       "A & W Healthcare Educators                              0.9750     0.0250   \n",
       "A T Still University of Health Sciences                    NaN        NaN   \n",
       "ABC Beauty Academy                                      0.0333     0.0333   \n",
       "ABC Beauty College Inc                                  0.6579     0.0526   \n",
       "AI Miami International University of Art and De...      0.0198     0.4773   \n",
       "\n",
       "                                                    UGDS_ASIAN  UGDS_AIAN  \\\n",
       "INSTNM                                                                      \n",
       "A & W Healthcare Educators                              0.0000        0.0   \n",
       "A T Still University of Health Sciences                    NaN        NaN   \n",
       "ABC Beauty Academy                                      0.9333        0.0   \n",
       "ABC Beauty College Inc                                  0.0000        0.0   \n",
       "AI Miami International University of Art and De...      0.0018        0.0   \n",
       "\n",
       "                                                    UGDS_NHPI  UGDS_2MOR  \\\n",
       "INSTNM                                                                     \n",
       "A & W Healthcare Educators                                0.0     0.0000   \n",
       "A T Still University of Health Sciences                   NaN        NaN   \n",
       "ABC Beauty Academy                                        0.0     0.0000   \n",
       "ABC Beauty College Inc                                    0.0     0.0000   \n",
       "AI Miami International University of Art and De...        0.0     0.0018   \n",
       "\n",
       "                                                    UGDS_NRA  UGDS_UNKN  \\\n",
       "INSTNM                                                                    \n",
       "A & W Healthcare Educators                            0.0000     0.0000   \n",
       "A T Still University of Health Sciences                  NaN        NaN   \n",
       "ABC Beauty Academy                                    0.0000     0.0000   \n",
       "ABC Beauty College Inc                                0.0000     0.0000   \n",
       "AI Miami International University of Art and De...    0.0025     0.4644   \n",
       "\n",
       "                                                    PPTUG_EF  CURROPER  \\\n",
       "INSTNM                                                                   \n",
       "A & W Healthcare Educators                            0.1250         1   \n",
       "A T Still University of Health Sciences                  NaN         1   \n",
       "ABC Beauty Academy                                    0.0000         0   \n",
       "ABC Beauty College Inc                                0.2105         1   \n",
       "AI Miami International University of Art and De...    0.2185         1   \n",
       "\n",
       "                                                    PCTPELL  PCTFLOAN  \\\n",
       "INSTNM                                                                  \n",
       "A & W Healthcare Educators                           0.7018    0.8596   \n",
       "A T Still University of Health Sciences                 NaN       NaN   \n",
       "ABC Beauty Academy                                   0.7857    0.0000   \n",
       "ABC Beauty College Inc                               0.9815    1.0000   \n",
       "AI Miami International University of Art and De...   0.5507    0.6966   \n",
       "\n",
       "                                                    UG25ABV  \\\n",
       "INSTNM                                                        \n",
       "A & W Healthcare Educators                           0.6667   \n",
       "A T Still University of Health Sciences                 NaN   \n",
       "ABC Beauty Academy                                   0.8286   \n",
       "ABC Beauty College Inc                               0.4688   \n",
       "AI Miami International University of Art and De...   0.3262   \n",
       "\n",
       "                                                      MD_EARN_WNE_P10  \\\n",
       "INSTNM                                                                  \n",
       "A & W Healthcare Educators                                        NaN   \n",
       "A T Still University of Health Sciences                        219800   \n",
       "ABC Beauty Academy                                                NaN   \n",
       "ABC Beauty College Inc                              PrivacySuppressed   \n",
       "AI Miami International University of Art and De...              29900   \n",
       "\n",
       "                                                   GRAD_DEBT_MDN_SUPP  \n",
       "INSTNM                                                                 \n",
       "A & W Healthcare Educators                                    19022.5  \n",
       "A T Still University of Health Sciences             PrivacySuppressed  \n",
       "ABC Beauty Academy                                  PrivacySuppressed  \n",
       "ABC Beauty College Inc                                          16500  \n",
       "AI Miami International University of Art and De...              31000  "
      ]
     },
     "execution_count": 190,
     "metadata": {},
     "output_type": "execute_result"
    }
   ],
   "source": [
    "college.head()"
   ]
  },
  {
   "cell_type": "markdown",
   "metadata": {},
   "source": [
    "### Problem 6\n",
    "<span  style=\"color:green; font-size:16px\">Use the **`max`** method across the rows for DataFrame **`college_ugds`**. Take the results and apply the pandas **`cut`** function to create a Series with 3 category labels on how 'diverse' the school is.</span>"
   ]
  },
  {
   "cell_type": "code",
   "execution_count": 191,
   "metadata": {
    "collapsed": true
   },
   "outputs": [],
   "source": [
    "college_ugds = college.filter(like='UGDS_')"
   ]
  },
  {
   "cell_type": "code",
   "execution_count": 192,
   "metadata": {},
   "outputs": [
    {
     "data": {
      "text/plain": [
       "INSTNM\n",
       "A & W Healthcare Educators                                Low\n",
       "A T Still University of Health Sciences                   NaN\n",
       "ABC Beauty Academy                                        Low\n",
       "ABC Beauty College Inc                                 Medium\n",
       "AI Miami International University of Art and Design    Medium\n",
       "AIB College of Business                                Medium\n",
       "AOMA Graduate School of Integrative Medicine              NaN\n",
       "ASA College                                              High\n",
       "ASI Career Institute                                   Medium\n",
       "ASM Beauty World Academy                                  Low\n",
       "ATA Career Education                                   Medium\n",
       "ATA College                                              High\n",
       "ATEP at IVC                                               NaN\n",
       "ATI College-Norwalk                                    Medium\n",
       "ATS Institute of Technology                               Low\n",
       "dtype: category\n",
       "Categories (3, object): [High < Medium < Low]"
      ]
     },
     "execution_count": 192,
     "metadata": {},
     "output_type": "execute_result"
    }
   ],
   "source": [
    "max_race = college_ugds.max(axis='columns')\n",
    "\n",
    "diversity = pd.cut(max_race, bins=[0, .4, .7, 1], labels=['High', 'Medium', 'Low'])\n",
    "\n",
    "diversity.head(15)"
   ]
  },
  {
   "cell_type": "markdown",
   "metadata": {},
   "source": [
    "### Problem 7\n",
    "<span  style=\"color:green; font-size:16px\">Use the **`select_dtpyes`** method on the **`college`** DataFrame to select only the numeric columns. Save this DataFrame to **`college_num`**.</span>"
   ]
  },
  {
   "cell_type": "code",
   "execution_count": 193,
   "metadata": {},
   "outputs": [
    {
     "data": {
      "text/html": [
       "<div>\n",
       "<style>\n",
       "    .dataframe thead tr:only-child th {\n",
       "        text-align: right;\n",
       "    }\n",
       "\n",
       "    .dataframe thead th {\n",
       "        text-align: left;\n",
       "    }\n",
       "\n",
       "    .dataframe tbody tr th {\n",
       "        vertical-align: top;\n",
       "    }\n",
       "</style>\n",
       "<table border=\"1\" class=\"dataframe\">\n",
       "  <thead>\n",
       "    <tr style=\"text-align: right;\">\n",
       "      <th></th>\n",
       "      <th>HBCU</th>\n",
       "      <th>MENONLY</th>\n",
       "      <th>WOMENONLY</th>\n",
       "      <th>RELAFFIL</th>\n",
       "      <th>SATVRMID</th>\n",
       "      <th>SATMTMID</th>\n",
       "      <th>DISTANCEONLY</th>\n",
       "      <th>UGDS</th>\n",
       "      <th>UGDS_WHITE</th>\n",
       "      <th>UGDS_BLACK</th>\n",
       "      <th>UGDS_HISP</th>\n",
       "      <th>UGDS_ASIAN</th>\n",
       "      <th>UGDS_AIAN</th>\n",
       "      <th>UGDS_NHPI</th>\n",
       "      <th>UGDS_2MOR</th>\n",
       "      <th>UGDS_NRA</th>\n",
       "      <th>UGDS_UNKN</th>\n",
       "      <th>PPTUG_EF</th>\n",
       "      <th>CURROPER</th>\n",
       "      <th>PCTPELL</th>\n",
       "      <th>PCTFLOAN</th>\n",
       "      <th>UG25ABV</th>\n",
       "    </tr>\n",
       "    <tr>\n",
       "      <th>INSTNM</th>\n",
       "      <th></th>\n",
       "      <th></th>\n",
       "      <th></th>\n",
       "      <th></th>\n",
       "      <th></th>\n",
       "      <th></th>\n",
       "      <th></th>\n",
       "      <th></th>\n",
       "      <th></th>\n",
       "      <th></th>\n",
       "      <th></th>\n",
       "      <th></th>\n",
       "      <th></th>\n",
       "      <th></th>\n",
       "      <th></th>\n",
       "      <th></th>\n",
       "      <th></th>\n",
       "      <th></th>\n",
       "      <th></th>\n",
       "      <th></th>\n",
       "      <th></th>\n",
       "      <th></th>\n",
       "    </tr>\n",
       "  </thead>\n",
       "  <tbody>\n",
       "    <tr>\n",
       "      <th>A &amp; W Healthcare Educators</th>\n",
       "      <td>0.0</td>\n",
       "      <td>0.0</td>\n",
       "      <td>0.0</td>\n",
       "      <td>0</td>\n",
       "      <td>NaN</td>\n",
       "      <td>NaN</td>\n",
       "      <td>0.0</td>\n",
       "      <td>40.0</td>\n",
       "      <td>0.0000</td>\n",
       "      <td>0.9750</td>\n",
       "      <td>0.0250</td>\n",
       "      <td>0.0000</td>\n",
       "      <td>0.0</td>\n",
       "      <td>0.0</td>\n",
       "      <td>0.0000</td>\n",
       "      <td>0.0000</td>\n",
       "      <td>0.0000</td>\n",
       "      <td>0.1250</td>\n",
       "      <td>1</td>\n",
       "      <td>0.7018</td>\n",
       "      <td>0.8596</td>\n",
       "      <td>0.6667</td>\n",
       "    </tr>\n",
       "    <tr>\n",
       "      <th>A T Still University of Health Sciences</th>\n",
       "      <td>0.0</td>\n",
       "      <td>0.0</td>\n",
       "      <td>0.0</td>\n",
       "      <td>0</td>\n",
       "      <td>NaN</td>\n",
       "      <td>NaN</td>\n",
       "      <td>0.0</td>\n",
       "      <td>NaN</td>\n",
       "      <td>NaN</td>\n",
       "      <td>NaN</td>\n",
       "      <td>NaN</td>\n",
       "      <td>NaN</td>\n",
       "      <td>NaN</td>\n",
       "      <td>NaN</td>\n",
       "      <td>NaN</td>\n",
       "      <td>NaN</td>\n",
       "      <td>NaN</td>\n",
       "      <td>NaN</td>\n",
       "      <td>1</td>\n",
       "      <td>NaN</td>\n",
       "      <td>NaN</td>\n",
       "      <td>NaN</td>\n",
       "    </tr>\n",
       "    <tr>\n",
       "      <th>ABC Beauty Academy</th>\n",
       "      <td>0.0</td>\n",
       "      <td>0.0</td>\n",
       "      <td>0.0</td>\n",
       "      <td>0</td>\n",
       "      <td>NaN</td>\n",
       "      <td>NaN</td>\n",
       "      <td>0.0</td>\n",
       "      <td>30.0</td>\n",
       "      <td>0.0000</td>\n",
       "      <td>0.0333</td>\n",
       "      <td>0.0333</td>\n",
       "      <td>0.9333</td>\n",
       "      <td>0.0</td>\n",
       "      <td>0.0</td>\n",
       "      <td>0.0000</td>\n",
       "      <td>0.0000</td>\n",
       "      <td>0.0000</td>\n",
       "      <td>0.0000</td>\n",
       "      <td>0</td>\n",
       "      <td>0.7857</td>\n",
       "      <td>0.0000</td>\n",
       "      <td>0.8286</td>\n",
       "    </tr>\n",
       "    <tr>\n",
       "      <th>ABC Beauty College Inc</th>\n",
       "      <td>0.0</td>\n",
       "      <td>0.0</td>\n",
       "      <td>0.0</td>\n",
       "      <td>0</td>\n",
       "      <td>NaN</td>\n",
       "      <td>NaN</td>\n",
       "      <td>0.0</td>\n",
       "      <td>38.0</td>\n",
       "      <td>0.2895</td>\n",
       "      <td>0.6579</td>\n",
       "      <td>0.0526</td>\n",
       "      <td>0.0000</td>\n",
       "      <td>0.0</td>\n",
       "      <td>0.0</td>\n",
       "      <td>0.0000</td>\n",
       "      <td>0.0000</td>\n",
       "      <td>0.0000</td>\n",
       "      <td>0.2105</td>\n",
       "      <td>1</td>\n",
       "      <td>0.9815</td>\n",
       "      <td>1.0000</td>\n",
       "      <td>0.4688</td>\n",
       "    </tr>\n",
       "    <tr>\n",
       "      <th>AI Miami International University of Art and Design</th>\n",
       "      <td>0.0</td>\n",
       "      <td>0.0</td>\n",
       "      <td>0.0</td>\n",
       "      <td>0</td>\n",
       "      <td>NaN</td>\n",
       "      <td>NaN</td>\n",
       "      <td>0.0</td>\n",
       "      <td>2778.0</td>\n",
       "      <td>0.0324</td>\n",
       "      <td>0.0198</td>\n",
       "      <td>0.4773</td>\n",
       "      <td>0.0018</td>\n",
       "      <td>0.0</td>\n",
       "      <td>0.0</td>\n",
       "      <td>0.0018</td>\n",
       "      <td>0.0025</td>\n",
       "      <td>0.4644</td>\n",
       "      <td>0.2185</td>\n",
       "      <td>1</td>\n",
       "      <td>0.5507</td>\n",
       "      <td>0.6966</td>\n",
       "      <td>0.3262</td>\n",
       "    </tr>\n",
       "  </tbody>\n",
       "</table>\n",
       "</div>"
      ],
      "text/plain": [
       "                                                    HBCU  MENONLY  WOMENONLY  \\\n",
       "INSTNM                                                                         \n",
       "A & W Healthcare Educators                           0.0      0.0        0.0   \n",
       "A T Still University of Health Sciences              0.0      0.0        0.0   \n",
       "ABC Beauty Academy                                   0.0      0.0        0.0   \n",
       "ABC Beauty College Inc                               0.0      0.0        0.0   \n",
       "AI Miami International University of Art and De...   0.0      0.0        0.0   \n",
       "\n",
       "                                                    RELAFFIL  SATVRMID  \\\n",
       "INSTNM                                                                   \n",
       "A & W Healthcare Educators                                 0       NaN   \n",
       "A T Still University of Health Sciences                    0       NaN   \n",
       "ABC Beauty Academy                                         0       NaN   \n",
       "ABC Beauty College Inc                                     0       NaN   \n",
       "AI Miami International University of Art and De...         0       NaN   \n",
       "\n",
       "                                                    SATMTMID  DISTANCEONLY  \\\n",
       "INSTNM                                                                       \n",
       "A & W Healthcare Educators                               NaN           0.0   \n",
       "A T Still University of Health Sciences                  NaN           0.0   \n",
       "ABC Beauty Academy                                       NaN           0.0   \n",
       "ABC Beauty College Inc                                   NaN           0.0   \n",
       "AI Miami International University of Art and De...       NaN           0.0   \n",
       "\n",
       "                                                      UGDS  UGDS_WHITE  \\\n",
       "INSTNM                                                                   \n",
       "A & W Healthcare Educators                            40.0      0.0000   \n",
       "A T Still University of Health Sciences                NaN         NaN   \n",
       "ABC Beauty Academy                                    30.0      0.0000   \n",
       "ABC Beauty College Inc                                38.0      0.2895   \n",
       "AI Miami International University of Art and De...  2778.0      0.0324   \n",
       "\n",
       "                                                    UGDS_BLACK  UGDS_HISP  \\\n",
       "INSTNM                                                                      \n",
       "A & W Healthcare Educators                              0.9750     0.0250   \n",
       "A T Still University of Health Sciences                    NaN        NaN   \n",
       "ABC Beauty Academy                                      0.0333     0.0333   \n",
       "ABC Beauty College Inc                                  0.6579     0.0526   \n",
       "AI Miami International University of Art and De...      0.0198     0.4773   \n",
       "\n",
       "                                                    UGDS_ASIAN  UGDS_AIAN  \\\n",
       "INSTNM                                                                      \n",
       "A & W Healthcare Educators                              0.0000        0.0   \n",
       "A T Still University of Health Sciences                    NaN        NaN   \n",
       "ABC Beauty Academy                                      0.9333        0.0   \n",
       "ABC Beauty College Inc                                  0.0000        0.0   \n",
       "AI Miami International University of Art and De...      0.0018        0.0   \n",
       "\n",
       "                                                    UGDS_NHPI  UGDS_2MOR  \\\n",
       "INSTNM                                                                     \n",
       "A & W Healthcare Educators                                0.0     0.0000   \n",
       "A T Still University of Health Sciences                   NaN        NaN   \n",
       "ABC Beauty Academy                                        0.0     0.0000   \n",
       "ABC Beauty College Inc                                    0.0     0.0000   \n",
       "AI Miami International University of Art and De...        0.0     0.0018   \n",
       "\n",
       "                                                    UGDS_NRA  UGDS_UNKN  \\\n",
       "INSTNM                                                                    \n",
       "A & W Healthcare Educators                            0.0000     0.0000   \n",
       "A T Still University of Health Sciences                  NaN        NaN   \n",
       "ABC Beauty Academy                                    0.0000     0.0000   \n",
       "ABC Beauty College Inc                                0.0000     0.0000   \n",
       "AI Miami International University of Art and De...    0.0025     0.4644   \n",
       "\n",
       "                                                    PPTUG_EF  CURROPER  \\\n",
       "INSTNM                                                                   \n",
       "A & W Healthcare Educators                            0.1250         1   \n",
       "A T Still University of Health Sciences                  NaN         1   \n",
       "ABC Beauty Academy                                    0.0000         0   \n",
       "ABC Beauty College Inc                                0.2105         1   \n",
       "AI Miami International University of Art and De...    0.2185         1   \n",
       "\n",
       "                                                    PCTPELL  PCTFLOAN  UG25ABV  \n",
       "INSTNM                                                                          \n",
       "A & W Healthcare Educators                           0.7018    0.8596   0.6667  \n",
       "A T Still University of Health Sciences                 NaN       NaN      NaN  \n",
       "ABC Beauty Academy                                   0.7857    0.0000   0.8286  \n",
       "ABC Beauty College Inc                               0.9815    1.0000   0.4688  \n",
       "AI Miami International University of Art and De...   0.5507    0.6966   0.3262  "
      ]
     },
     "execution_count": 193,
     "metadata": {},
     "output_type": "execute_result"
    }
   ],
   "source": [
    "college_num = college.select_dtypes(include=[np.number])\n",
    "\n",
    "college_num.head()"
   ]
  },
  {
   "cell_type": "markdown",
   "metadata": {},
   "source": [
    "### Problem 8\n",
    "<span  style=\"color:green; font-size:16px\">Use **`filter`** to slim your DataFrame down to the **SAT** columns. Then lookup how to use the **`dropna`** method and return a DataFrame that has no missing values. Style your DataFrame with the **`bar`** method on the top 10 rows of this DataFrame.</span>"
   ]
  },
  {
   "cell_type": "code",
   "execution_count": 194,
   "metadata": {},
   "outputs": [
    {
     "data": {
      "text/html": [
       "<style  type=\"text/css\" >\n",
       "    #T_e3ffd712_6e71_11e7_96eb_b8e85647e68crow0_col0 {\n",
       "            width:  10em;\n",
       "             height:  80%;\n",
       "            background:  linear-gradient(90deg,#d65f5f 80.9%, transparent 0%);\n",
       "        }    #T_e3ffd712_6e71_11e7_96eb_b8e85647e68crow0_col1 {\n",
       "            width:  10em;\n",
       "             height:  80%;\n",
       "            background:  linear-gradient(90deg,#d65f5f 65.8%, transparent 0%);\n",
       "        }    #T_e3ffd712_6e71_11e7_96eb_b8e85647e68crow1_col0 {\n",
       "            width:  10em;\n",
       "             height:  80%;\n",
       "            background:  linear-gradient(90deg,#d65f5f 31.3%, transparent 0%);\n",
       "        }    #T_e3ffd712_6e71_11e7_96eb_b8e85647e68crow1_col1 {\n",
       "            width:  10em;\n",
       "             height:  80%;\n",
       "            background:  linear-gradient(90deg,#d65f5f 21.1%, transparent 0%);\n",
       "        }    #T_e3ffd712_6e71_11e7_96eb_b8e85647e68crow2_col0 {\n",
       "            width:  10em;\n",
       "             height:  80%;\n",
       "            background:  linear-gradient(90deg,#d65f5f 38.9%, transparent 0%);\n",
       "        }    #T_e3ffd712_6e71_11e7_96eb_b8e85647e68crow2_col1 {\n",
       "            width:  10em;\n",
       "             height:  80%;\n",
       "            background:  linear-gradient(90deg,#d65f5f 46.8%, transparent 0%);\n",
       "        }    #T_e3ffd712_6e71_11e7_96eb_b8e85647e68crow3_col0 {\n",
       "            width:  10em;\n",
       "             height:  80%;\n",
       "            background:  linear-gradient(90deg,#d65f5f 96.2%, transparent 0%);\n",
       "        }    #T_e3ffd712_6e71_11e7_96eb_b8e85647e68crow3_col1 {\n",
       "            width:  10em;\n",
       "             height:  80%;\n",
       "            background:  linear-gradient(90deg,#d65f5f 76.3%, transparent 0%);\n",
       "        }    #T_e3ffd712_6e71_11e7_96eb_b8e85647e68crow4_col0 {\n",
       "            width:  10em;\n",
       "             height:  80%;\n",
       "            background:  linear-gradient(90deg,#d65f5f 58.0%, transparent 0%);\n",
       "        }    #T_e3ffd712_6e71_11e7_96eb_b8e85647e68crow4_col1 {\n",
       "            width:  10em;\n",
       "             height:  80%;\n",
       "            background:  linear-gradient(90deg,#d65f5f 36.8%, transparent 0%);\n",
       "        }    #T_e3ffd712_6e71_11e7_96eb_b8e85647e68crow5_col0 {\n",
       "            width:  10em;\n",
       "             height:  80%;\n",
       "            background:  linear-gradient(90deg,#d65f5f 37.4%, transparent 0%);\n",
       "        }    #T_e3ffd712_6e71_11e7_96eb_b8e85647e68crow5_col1 {\n",
       "            width:  10em;\n",
       "             height:  80%;\n",
       "            background:  linear-gradient(90deg,#d65f5f 17.4%, transparent 0%);\n",
       "        }    #T_e3ffd712_6e71_11e7_96eb_b8e85647e68crow6_col0 {\n",
       "            width:  10em;\n",
       "             height:  80%;\n",
       "        }    #T_e3ffd712_6e71_11e7_96eb_b8e85647e68crow6_col1 {\n",
       "            width:  10em;\n",
       "             height:  80%;\n",
       "        }    #T_e3ffd712_6e71_11e7_96eb_b8e85647e68crow7_col0 {\n",
       "            width:  10em;\n",
       "             height:  80%;\n",
       "            background:  linear-gradient(90deg,#d65f5f 0.8%, transparent 0%);\n",
       "        }    #T_e3ffd712_6e71_11e7_96eb_b8e85647e68crow7_col1 {\n",
       "            width:  10em;\n",
       "             height:  80%;\n",
       "            background:  linear-gradient(90deg,#d65f5f 5.3%, transparent 0%);\n",
       "        }    #T_e3ffd712_6e71_11e7_96eb_b8e85647e68crow8_col0 {\n",
       "            width:  10em;\n",
       "             height:  80%;\n",
       "            background:  linear-gradient(90deg,#d65f5f 100.0%, transparent 0%);\n",
       "        }    #T_e3ffd712_6e71_11e7_96eb_b8e85647e68crow8_col1 {\n",
       "            width:  10em;\n",
       "             height:  80%;\n",
       "            background:  linear-gradient(90deg,#d65f5f 43.7%, transparent 0%);\n",
       "        }    #T_e3ffd712_6e71_11e7_96eb_b8e85647e68crow9_col0 {\n",
       "            width:  10em;\n",
       "             height:  80%;\n",
       "            background:  linear-gradient(90deg,#d65f5f 100.0%, transparent 0%);\n",
       "        }    #T_e3ffd712_6e71_11e7_96eb_b8e85647e68crow9_col1 {\n",
       "            width:  10em;\n",
       "             height:  80%;\n",
       "            background:  linear-gradient(90deg,#d65f5f 100.0%, transparent 0%);\n",
       "        }</style>  \n",
       "<table id=\"T_e3ffd712_6e71_11e7_96eb_b8e85647e68c\" > \n",
       "<thead>    <tr> \n",
       "        <th class=\"blank level0\" ></th> \n",
       "        <th class=\"col_heading level0 col0\" >SATVRMID</th> \n",
       "        <th class=\"col_heading level0 col1\" >SATMTMID</th> \n",
       "    </tr>    <tr> \n",
       "        <th class=\"index_name level0\" >INSTNM</th> \n",
       "        <th class=\"blank\" ></th> \n",
       "        <th class=\"blank\" ></th> \n",
       "    </tr></thead> \n",
       "<tbody>    <tr> \n",
       "        <th id=\"T_e3ffd712_6e71_11e7_96eb_b8e85647e68clevel0_row0\" class=\"row_heading level0 row0\" >Abilene Christian University</th> \n",
       "        <td id=\"T_e3ffd712_6e71_11e7_96eb_b8e85647e68crow0_col0\" class=\"data row0 col0\" >530</td> \n",
       "        <td id=\"T_e3ffd712_6e71_11e7_96eb_b8e85647e68crow0_col1\" class=\"data row0 col1\" >545</td> \n",
       "    </tr>    <tr> \n",
       "        <th id=\"T_e3ffd712_6e71_11e7_96eb_b8e85647e68clevel0_row1\" class=\"row_heading level0 row1\" >Abraham Baldwin Agricultural College</th> \n",
       "        <td id=\"T_e3ffd712_6e71_11e7_96eb_b8e85647e68crow1_col0\" class=\"data row1 col0\" >465</td> \n",
       "        <td id=\"T_e3ffd712_6e71_11e7_96eb_b8e85647e68crow1_col1\" class=\"data row1 col1\" >460</td> \n",
       "    </tr>    <tr> \n",
       "        <th id=\"T_e3ffd712_6e71_11e7_96eb_b8e85647e68clevel0_row2\" class=\"row_heading level0 row2\" >Adams State University</th> \n",
       "        <td id=\"T_e3ffd712_6e71_11e7_96eb_b8e85647e68crow2_col0\" class=\"data row2 col0\" >475</td> \n",
       "        <td id=\"T_e3ffd712_6e71_11e7_96eb_b8e85647e68crow2_col1\" class=\"data row2 col1\" >509</td> \n",
       "    </tr>    <tr> \n",
       "        <th id=\"T_e3ffd712_6e71_11e7_96eb_b8e85647e68clevel0_row3\" class=\"row_heading level0 row3\" >Adelphi University</th> \n",
       "        <td id=\"T_e3ffd712_6e71_11e7_96eb_b8e85647e68crow3_col0\" class=\"data row3 col0\" >550</td> \n",
       "        <td id=\"T_e3ffd712_6e71_11e7_96eb_b8e85647e68crow3_col1\" class=\"data row3 col1\" >565</td> \n",
       "    </tr>    <tr> \n",
       "        <th id=\"T_e3ffd712_6e71_11e7_96eb_b8e85647e68clevel0_row4\" class=\"row_heading level0 row4\" >Adrian College</th> \n",
       "        <td id=\"T_e3ffd712_6e71_11e7_96eb_b8e85647e68crow4_col0\" class=\"data row4 col0\" >500</td> \n",
       "        <td id=\"T_e3ffd712_6e71_11e7_96eb_b8e85647e68crow4_col1\" class=\"data row4 col1\" >490</td> \n",
       "    </tr>    <tr> \n",
       "        <th id=\"T_e3ffd712_6e71_11e7_96eb_b8e85647e68clevel0_row5\" class=\"row_heading level0 row5\" >Adventist University of Health Sciences</th> \n",
       "        <td id=\"T_e3ffd712_6e71_11e7_96eb_b8e85647e68crow5_col0\" class=\"data row5 col0\" >473</td> \n",
       "        <td id=\"T_e3ffd712_6e71_11e7_96eb_b8e85647e68crow5_col1\" class=\"data row5 col1\" >453</td> \n",
       "    </tr>    <tr> \n",
       "        <th id=\"T_e3ffd712_6e71_11e7_96eb_b8e85647e68clevel0_row6\" class=\"row_heading level0 row6\" >Alabama A & M University</th> \n",
       "        <td id=\"T_e3ffd712_6e71_11e7_96eb_b8e85647e68crow6_col0\" class=\"data row6 col0\" >424</td> \n",
       "        <td id=\"T_e3ffd712_6e71_11e7_96eb_b8e85647e68crow6_col1\" class=\"data row6 col1\" >420</td> \n",
       "    </tr>    <tr> \n",
       "        <th id=\"T_e3ffd712_6e71_11e7_96eb_b8e85647e68clevel0_row7\" class=\"row_heading level0 row7\" >Alabama State University</th> \n",
       "        <td id=\"T_e3ffd712_6e71_11e7_96eb_b8e85647e68crow7_col0\" class=\"data row7 col0\" >425</td> \n",
       "        <td id=\"T_e3ffd712_6e71_11e7_96eb_b8e85647e68crow7_col1\" class=\"data row7 col1\" >430</td> \n",
       "    </tr>    <tr> \n",
       "        <th id=\"T_e3ffd712_6e71_11e7_96eb_b8e85647e68clevel0_row8\" class=\"row_heading level0 row8\" >Alaska Pacific University</th> \n",
       "        <td id=\"T_e3ffd712_6e71_11e7_96eb_b8e85647e68crow8_col0\" class=\"data row8 col0\" >555</td> \n",
       "        <td id=\"T_e3ffd712_6e71_11e7_96eb_b8e85647e68crow8_col1\" class=\"data row8 col1\" >503</td> \n",
       "    </tr>    <tr> \n",
       "        <th id=\"T_e3ffd712_6e71_11e7_96eb_b8e85647e68clevel0_row9\" class=\"row_heading level0 row9\" >Albany College of Pharmacy and Health Sciences</th> \n",
       "        <td id=\"T_e3ffd712_6e71_11e7_96eb_b8e85647e68crow9_col0\" class=\"data row9 col0\" >555</td> \n",
       "        <td id=\"T_e3ffd712_6e71_11e7_96eb_b8e85647e68crow9_col1\" class=\"data row9 col1\" >610</td> \n",
       "    </tr></tbody> \n",
       "</table> "
      ],
      "text/plain": [
       "<pandas.io.formats.style.Styler at 0x11c570630>"
      ]
     },
     "execution_count": 194,
     "metadata": {},
     "output_type": "execute_result"
    }
   ],
   "source": [
    "sat = college.filter(like='SAT').dropna()\n",
    "sat.head(10).style.bar()"
   ]
  },
  {
   "cell_type": "markdown",
   "metadata": {},
   "source": [
    "### Problem 9\n",
    "<span  style=\"color:green; font-size:16px\">How many colleges have more than 10,000 students and  are religiously affiliated?</span>"
   ]
  },
  {
   "cell_type": "code",
   "execution_count": 195,
   "metadata": {},
   "outputs": [
    {
     "data": {
      "text/html": [
       "<div>\n",
       "<style>\n",
       "    .dataframe thead tr:only-child th {\n",
       "        text-align: right;\n",
       "    }\n",
       "\n",
       "    .dataframe thead th {\n",
       "        text-align: left;\n",
       "    }\n",
       "\n",
       "    .dataframe tbody tr th {\n",
       "        vertical-align: top;\n",
       "    }\n",
       "</style>\n",
       "<table border=\"1\" class=\"dataframe\">\n",
       "  <thead>\n",
       "    <tr style=\"text-align: right;\">\n",
       "      <th></th>\n",
       "      <th>CITY</th>\n",
       "      <th>STABBR</th>\n",
       "      <th>HBCU</th>\n",
       "      <th>MENONLY</th>\n",
       "      <th>WOMENONLY</th>\n",
       "      <th>RELAFFIL</th>\n",
       "      <th>SATVRMID</th>\n",
       "      <th>SATMTMID</th>\n",
       "      <th>DISTANCEONLY</th>\n",
       "      <th>UGDS</th>\n",
       "      <th>UGDS_WHITE</th>\n",
       "      <th>UGDS_BLACK</th>\n",
       "      <th>UGDS_HISP</th>\n",
       "      <th>UGDS_ASIAN</th>\n",
       "      <th>UGDS_AIAN</th>\n",
       "      <th>UGDS_NHPI</th>\n",
       "      <th>UGDS_2MOR</th>\n",
       "      <th>UGDS_NRA</th>\n",
       "      <th>UGDS_UNKN</th>\n",
       "      <th>PPTUG_EF</th>\n",
       "      <th>CURROPER</th>\n",
       "      <th>PCTPELL</th>\n",
       "      <th>PCTFLOAN</th>\n",
       "      <th>UG25ABV</th>\n",
       "      <th>MD_EARN_WNE_P10</th>\n",
       "      <th>GRAD_DEBT_MDN_SUPP</th>\n",
       "    </tr>\n",
       "    <tr>\n",
       "      <th>INSTNM</th>\n",
       "      <th></th>\n",
       "      <th></th>\n",
       "      <th></th>\n",
       "      <th></th>\n",
       "      <th></th>\n",
       "      <th></th>\n",
       "      <th></th>\n",
       "      <th></th>\n",
       "      <th></th>\n",
       "      <th></th>\n",
       "      <th></th>\n",
       "      <th></th>\n",
       "      <th></th>\n",
       "      <th></th>\n",
       "      <th></th>\n",
       "      <th></th>\n",
       "      <th></th>\n",
       "      <th></th>\n",
       "      <th></th>\n",
       "      <th></th>\n",
       "      <th></th>\n",
       "      <th></th>\n",
       "      <th></th>\n",
       "      <th></th>\n",
       "      <th></th>\n",
       "      <th></th>\n",
       "    </tr>\n",
       "  </thead>\n",
       "  <tbody>\n",
       "    <tr>\n",
       "      <th>Baylor University</th>\n",
       "      <td>Waco</td>\n",
       "      <td>TX</td>\n",
       "      <td>0.0</td>\n",
       "      <td>0.0</td>\n",
       "      <td>0.0</td>\n",
       "      <td>1</td>\n",
       "      <td>610.0</td>\n",
       "      <td>620.0</td>\n",
       "      <td>0.0</td>\n",
       "      <td>13801.0</td>\n",
       "      <td>0.6402</td>\n",
       "      <td>0.0733</td>\n",
       "      <td>0.1413</td>\n",
       "      <td>0.0625</td>\n",
       "      <td>0.0036</td>\n",
       "      <td>0.0005</td>\n",
       "      <td>0.0451</td>\n",
       "      <td>0.0309</td>\n",
       "      <td>0.0024</td>\n",
       "      <td>0.0162</td>\n",
       "      <td>1</td>\n",
       "      <td>0.2135</td>\n",
       "      <td>0.4520</td>\n",
       "      <td>0.0245</td>\n",
       "      <td>48200</td>\n",
       "      <td>25131</td>\n",
       "    </tr>\n",
       "    <tr>\n",
       "      <th>Brigham Young University-Idaho</th>\n",
       "      <td>Rexburg</td>\n",
       "      <td>ID</td>\n",
       "      <td>0.0</td>\n",
       "      <td>0.0</td>\n",
       "      <td>0.0</td>\n",
       "      <td>1</td>\n",
       "      <td>515.0</td>\n",
       "      <td>505.0</td>\n",
       "      <td>0.0</td>\n",
       "      <td>23865.0</td>\n",
       "      <td>0.8011</td>\n",
       "      <td>0.0048</td>\n",
       "      <td>0.0303</td>\n",
       "      <td>0.0094</td>\n",
       "      <td>0.0035</td>\n",
       "      <td>0.0044</td>\n",
       "      <td>0.0569</td>\n",
       "      <td>0.0659</td>\n",
       "      <td>0.0238</td>\n",
       "      <td>0.3462</td>\n",
       "      <td>1</td>\n",
       "      <td>0.4733</td>\n",
       "      <td>0.2138</td>\n",
       "      <td>0.3710</td>\n",
       "      <td>38800</td>\n",
       "      <td>11000</td>\n",
       "    </tr>\n",
       "    <tr>\n",
       "      <th>Brigham Young University-Provo</th>\n",
       "      <td>Provo</td>\n",
       "      <td>UT</td>\n",
       "      <td>0.0</td>\n",
       "      <td>0.0</td>\n",
       "      <td>0.0</td>\n",
       "      <td>1</td>\n",
       "      <td>630.0</td>\n",
       "      <td>630.0</td>\n",
       "      <td>0.0</td>\n",
       "      <td>27163.0</td>\n",
       "      <td>0.8320</td>\n",
       "      <td>0.0050</td>\n",
       "      <td>0.0563</td>\n",
       "      <td>0.0195</td>\n",
       "      <td>0.0037</td>\n",
       "      <td>0.0058</td>\n",
       "      <td>0.0344</td>\n",
       "      <td>0.0314</td>\n",
       "      <td>0.0118</td>\n",
       "      <td>0.0981</td>\n",
       "      <td>1</td>\n",
       "      <td>0.3702</td>\n",
       "      <td>0.1921</td>\n",
       "      <td>0.1220</td>\n",
       "      <td>57200</td>\n",
       "      <td>11000</td>\n",
       "    </tr>\n",
       "    <tr>\n",
       "      <th>DePaul University</th>\n",
       "      <td>Chicago</td>\n",
       "      <td>IL</td>\n",
       "      <td>0.0</td>\n",
       "      <td>0.0</td>\n",
       "      <td>0.0</td>\n",
       "      <td>1</td>\n",
       "      <td>NaN</td>\n",
       "      <td>NaN</td>\n",
       "      <td>0.0</td>\n",
       "      <td>15858.0</td>\n",
       "      <td>0.5518</td>\n",
       "      <td>0.0832</td>\n",
       "      <td>0.1756</td>\n",
       "      <td>0.0778</td>\n",
       "      <td>0.0008</td>\n",
       "      <td>0.0017</td>\n",
       "      <td>0.0388</td>\n",
       "      <td>0.0292</td>\n",
       "      <td>0.0411</td>\n",
       "      <td>0.1438</td>\n",
       "      <td>1</td>\n",
       "      <td>0.3504</td>\n",
       "      <td>0.5780</td>\n",
       "      <td>0.2019</td>\n",
       "      <td>50300</td>\n",
       "      <td>23500</td>\n",
       "    </tr>\n",
       "    <tr>\n",
       "      <th>Indiana Wesleyan University-Marion</th>\n",
       "      <td>Marion</td>\n",
       "      <td>IN</td>\n",
       "      <td>0.0</td>\n",
       "      <td>0.0</td>\n",
       "      <td>0.0</td>\n",
       "      <td>1</td>\n",
       "      <td>530.0</td>\n",
       "      <td>525.0</td>\n",
       "      <td>0.0</td>\n",
       "      <td>10218.0</td>\n",
       "      <td>0.7531</td>\n",
       "      <td>0.1825</td>\n",
       "      <td>0.0307</td>\n",
       "      <td>0.0065</td>\n",
       "      <td>0.0024</td>\n",
       "      <td>0.0008</td>\n",
       "      <td>0.0206</td>\n",
       "      <td>0.0023</td>\n",
       "      <td>0.0012</td>\n",
       "      <td>0.0762</td>\n",
       "      <td>1</td>\n",
       "      <td>0.3816</td>\n",
       "      <td>0.7019</td>\n",
       "      <td>0.6919</td>\n",
       "      <td>46300</td>\n",
       "      <td>24160</td>\n",
       "    </tr>\n",
       "    <tr>\n",
       "      <th>Kennesaw State University</th>\n",
       "      <td>Kennesaw</td>\n",
       "      <td>GA</td>\n",
       "      <td>0.0</td>\n",
       "      <td>0.0</td>\n",
       "      <td>0.0</td>\n",
       "      <td>1</td>\n",
       "      <td>545.0</td>\n",
       "      <td>535.0</td>\n",
       "      <td>0.0</td>\n",
       "      <td>23058.0</td>\n",
       "      <td>0.6082</td>\n",
       "      <td>0.1904</td>\n",
       "      <td>0.0755</td>\n",
       "      <td>0.0339</td>\n",
       "      <td>0.0023</td>\n",
       "      <td>0.0016</td>\n",
       "      <td>0.0420</td>\n",
       "      <td>0.0186</td>\n",
       "      <td>0.0273</td>\n",
       "      <td>0.2397</td>\n",
       "      <td>1</td>\n",
       "      <td>0.4067</td>\n",
       "      <td>0.5462</td>\n",
       "      <td>0.2518</td>\n",
       "      <td>40000</td>\n",
       "      <td>22750</td>\n",
       "    </tr>\n",
       "    <tr>\n",
       "      <th>Liberty University</th>\n",
       "      <td>Lynchburg</td>\n",
       "      <td>VA</td>\n",
       "      <td>0.0</td>\n",
       "      <td>0.0</td>\n",
       "      <td>0.0</td>\n",
       "      <td>1</td>\n",
       "      <td>525.0</td>\n",
       "      <td>510.0</td>\n",
       "      <td>0.0</td>\n",
       "      <td>49340.0</td>\n",
       "      <td>0.5121</td>\n",
       "      <td>0.1550</td>\n",
       "      <td>0.0166</td>\n",
       "      <td>0.0093</td>\n",
       "      <td>0.0059</td>\n",
       "      <td>0.0022</td>\n",
       "      <td>0.0227</td>\n",
       "      <td>0.0135</td>\n",
       "      <td>0.2626</td>\n",
       "      <td>0.4458</td>\n",
       "      <td>1</td>\n",
       "      <td>0.4984</td>\n",
       "      <td>0.6648</td>\n",
       "      <td>0.6265</td>\n",
       "      <td>35600</td>\n",
       "      <td>23250</td>\n",
       "    </tr>\n",
       "    <tr>\n",
       "      <th>Loyola University Chicago</th>\n",
       "      <td>Chicago</td>\n",
       "      <td>IL</td>\n",
       "      <td>0.0</td>\n",
       "      <td>0.0</td>\n",
       "      <td>0.0</td>\n",
       "      <td>1</td>\n",
       "      <td>575.0</td>\n",
       "      <td>580.0</td>\n",
       "      <td>0.0</td>\n",
       "      <td>10042.0</td>\n",
       "      <td>0.6028</td>\n",
       "      <td>0.0376</td>\n",
       "      <td>0.1320</td>\n",
       "      <td>0.1105</td>\n",
       "      <td>0.0010</td>\n",
       "      <td>0.0021</td>\n",
       "      <td>0.0604</td>\n",
       "      <td>0.0352</td>\n",
       "      <td>0.0183</td>\n",
       "      <td>0.0833</td>\n",
       "      <td>1</td>\n",
       "      <td>0.2817</td>\n",
       "      <td>0.6092</td>\n",
       "      <td>0.0804</td>\n",
       "      <td>50700</td>\n",
       "      <td>25000</td>\n",
       "    </tr>\n",
       "    <tr>\n",
       "      <th>Saint Leo University</th>\n",
       "      <td>Saint Leo</td>\n",
       "      <td>FL</td>\n",
       "      <td>0.0</td>\n",
       "      <td>0.0</td>\n",
       "      <td>0.0</td>\n",
       "      <td>1</td>\n",
       "      <td>NaN</td>\n",
       "      <td>NaN</td>\n",
       "      <td>0.0</td>\n",
       "      <td>11976.0</td>\n",
       "      <td>0.3823</td>\n",
       "      <td>0.3696</td>\n",
       "      <td>0.1104</td>\n",
       "      <td>0.0124</td>\n",
       "      <td>0.0050</td>\n",
       "      <td>0.0022</td>\n",
       "      <td>0.0145</td>\n",
       "      <td>0.0256</td>\n",
       "      <td>0.0781</td>\n",
       "      <td>0.3059</td>\n",
       "      <td>1</td>\n",
       "      <td>0.4828</td>\n",
       "      <td>0.6032</td>\n",
       "      <td>0.7228</td>\n",
       "      <td>42100</td>\n",
       "      <td>25000</td>\n",
       "    </tr>\n",
       "    <tr>\n",
       "      <th>St John's University-New York</th>\n",
       "      <td>Queens</td>\n",
       "      <td>NY</td>\n",
       "      <td>0.0</td>\n",
       "      <td>0.0</td>\n",
       "      <td>0.0</td>\n",
       "      <td>1</td>\n",
       "      <td>540.0</td>\n",
       "      <td>560.0</td>\n",
       "      <td>0.0</td>\n",
       "      <td>10878.0</td>\n",
       "      <td>0.3380</td>\n",
       "      <td>0.1890</td>\n",
       "      <td>0.1452</td>\n",
       "      <td>0.1820</td>\n",
       "      <td>0.0024</td>\n",
       "      <td>0.0033</td>\n",
       "      <td>0.0448</td>\n",
       "      <td>0.0530</td>\n",
       "      <td>0.0423</td>\n",
       "      <td>0.0297</td>\n",
       "      <td>1</td>\n",
       "      <td>0.3009</td>\n",
       "      <td>0.5599</td>\n",
       "      <td>0.0380</td>\n",
       "      <td>52700</td>\n",
       "      <td>25910</td>\n",
       "    </tr>\n",
       "  </tbody>\n",
       "</table>\n",
       "</div>"
      ],
      "text/plain": [
       "                                         CITY STABBR  HBCU  MENONLY  \\\n",
       "INSTNM                                                                \n",
       "Baylor University                        Waco     TX   0.0      0.0   \n",
       "Brigham Young University-Idaho        Rexburg     ID   0.0      0.0   \n",
       "Brigham Young University-Provo          Provo     UT   0.0      0.0   \n",
       "DePaul University                     Chicago     IL   0.0      0.0   \n",
       "Indiana Wesleyan University-Marion     Marion     IN   0.0      0.0   \n",
       "Kennesaw State University            Kennesaw     GA   0.0      0.0   \n",
       "Liberty University                  Lynchburg     VA   0.0      0.0   \n",
       "Loyola University Chicago             Chicago     IL   0.0      0.0   \n",
       "Saint Leo University                Saint Leo     FL   0.0      0.0   \n",
       "St John's University-New York          Queens     NY   0.0      0.0   \n",
       "\n",
       "                                    WOMENONLY  RELAFFIL  SATVRMID  SATMTMID  \\\n",
       "INSTNM                                                                        \n",
       "Baylor University                         0.0         1     610.0     620.0   \n",
       "Brigham Young University-Idaho            0.0         1     515.0     505.0   \n",
       "Brigham Young University-Provo            0.0         1     630.0     630.0   \n",
       "DePaul University                         0.0         1       NaN       NaN   \n",
       "Indiana Wesleyan University-Marion        0.0         1     530.0     525.0   \n",
       "Kennesaw State University                 0.0         1     545.0     535.0   \n",
       "Liberty University                        0.0         1     525.0     510.0   \n",
       "Loyola University Chicago                 0.0         1     575.0     580.0   \n",
       "Saint Leo University                      0.0         1       NaN       NaN   \n",
       "St John's University-New York             0.0         1     540.0     560.0   \n",
       "\n",
       "                                    DISTANCEONLY     UGDS  UGDS_WHITE  \\\n",
       "INSTNM                                                                  \n",
       "Baylor University                            0.0  13801.0      0.6402   \n",
       "Brigham Young University-Idaho               0.0  23865.0      0.8011   \n",
       "Brigham Young University-Provo               0.0  27163.0      0.8320   \n",
       "DePaul University                            0.0  15858.0      0.5518   \n",
       "Indiana Wesleyan University-Marion           0.0  10218.0      0.7531   \n",
       "Kennesaw State University                    0.0  23058.0      0.6082   \n",
       "Liberty University                           0.0  49340.0      0.5121   \n",
       "Loyola University Chicago                    0.0  10042.0      0.6028   \n",
       "Saint Leo University                         0.0  11976.0      0.3823   \n",
       "St John's University-New York                0.0  10878.0      0.3380   \n",
       "\n",
       "                                    UGDS_BLACK  UGDS_HISP  UGDS_ASIAN  \\\n",
       "INSTNM                                                                  \n",
       "Baylor University                       0.0733     0.1413      0.0625   \n",
       "Brigham Young University-Idaho          0.0048     0.0303      0.0094   \n",
       "Brigham Young University-Provo          0.0050     0.0563      0.0195   \n",
       "DePaul University                       0.0832     0.1756      0.0778   \n",
       "Indiana Wesleyan University-Marion      0.1825     0.0307      0.0065   \n",
       "Kennesaw State University               0.1904     0.0755      0.0339   \n",
       "Liberty University                      0.1550     0.0166      0.0093   \n",
       "Loyola University Chicago               0.0376     0.1320      0.1105   \n",
       "Saint Leo University                    0.3696     0.1104      0.0124   \n",
       "St John's University-New York           0.1890     0.1452      0.1820   \n",
       "\n",
       "                                    UGDS_AIAN  UGDS_NHPI  UGDS_2MOR  UGDS_NRA  \\\n",
       "INSTNM                                                                          \n",
       "Baylor University                      0.0036     0.0005     0.0451    0.0309   \n",
       "Brigham Young University-Idaho         0.0035     0.0044     0.0569    0.0659   \n",
       "Brigham Young University-Provo         0.0037     0.0058     0.0344    0.0314   \n",
       "DePaul University                      0.0008     0.0017     0.0388    0.0292   \n",
       "Indiana Wesleyan University-Marion     0.0024     0.0008     0.0206    0.0023   \n",
       "Kennesaw State University              0.0023     0.0016     0.0420    0.0186   \n",
       "Liberty University                     0.0059     0.0022     0.0227    0.0135   \n",
       "Loyola University Chicago              0.0010     0.0021     0.0604    0.0352   \n",
       "Saint Leo University                   0.0050     0.0022     0.0145    0.0256   \n",
       "St John's University-New York          0.0024     0.0033     0.0448    0.0530   \n",
       "\n",
       "                                    UGDS_UNKN  PPTUG_EF  CURROPER  PCTPELL  \\\n",
       "INSTNM                                                                       \n",
       "Baylor University                      0.0024    0.0162         1   0.2135   \n",
       "Brigham Young University-Idaho         0.0238    0.3462         1   0.4733   \n",
       "Brigham Young University-Provo         0.0118    0.0981         1   0.3702   \n",
       "DePaul University                      0.0411    0.1438         1   0.3504   \n",
       "Indiana Wesleyan University-Marion     0.0012    0.0762         1   0.3816   \n",
       "Kennesaw State University              0.0273    0.2397         1   0.4067   \n",
       "Liberty University                     0.2626    0.4458         1   0.4984   \n",
       "Loyola University Chicago              0.0183    0.0833         1   0.2817   \n",
       "Saint Leo University                   0.0781    0.3059         1   0.4828   \n",
       "St John's University-New York          0.0423    0.0297         1   0.3009   \n",
       "\n",
       "                                    PCTFLOAN  UG25ABV MD_EARN_WNE_P10  \\\n",
       "INSTNM                                                                  \n",
       "Baylor University                     0.4520   0.0245           48200   \n",
       "Brigham Young University-Idaho        0.2138   0.3710           38800   \n",
       "Brigham Young University-Provo        0.1921   0.1220           57200   \n",
       "DePaul University                     0.5780   0.2019           50300   \n",
       "Indiana Wesleyan University-Marion    0.7019   0.6919           46300   \n",
       "Kennesaw State University             0.5462   0.2518           40000   \n",
       "Liberty University                    0.6648   0.6265           35600   \n",
       "Loyola University Chicago             0.6092   0.0804           50700   \n",
       "Saint Leo University                  0.6032   0.7228           42100   \n",
       "St John's University-New York         0.5599   0.0380           52700   \n",
       "\n",
       "                                   GRAD_DEBT_MDN_SUPP  \n",
       "INSTNM                                                 \n",
       "Baylor University                               25131  \n",
       "Brigham Young University-Idaho                  11000  \n",
       "Brigham Young University-Provo                  11000  \n",
       "DePaul University                               23500  \n",
       "Indiana Wesleyan University-Marion              24160  \n",
       "Kennesaw State University                       22750  \n",
       "Liberty University                              23250  \n",
       "Loyola University Chicago                       25000  \n",
       "Saint Leo University                            25000  \n",
       "St John's University-New York                   25910  "
      ]
     },
     "execution_count": 195,
     "metadata": {},
     "output_type": "execute_result"
    }
   ],
   "source": [
    "college[(college.RELAFFIL == 1) & (college.UGDS > 10000)]"
   ]
  },
  {
   "cell_type": "code",
   "execution_count": 196,
   "metadata": {},
   "outputs": [
    {
     "data": {
      "text/plain": [
       "10"
      ]
     },
     "execution_count": 196,
     "metadata": {},
     "output_type": "execute_result"
    }
   ],
   "source": [
    "# final answer\n",
    "college[(college.RELAFFIL == 1) & (college.UGDS > 10000)].shape[0]"
   ]
  }
 ],
 "metadata": {
  "anaconda-cloud": {},
  "kernelspec": {
   "display_name": "Python 3",
   "language": "python",
   "name": "python3"
  },
  "language_info": {
   "codemirror_mode": {
    "name": "ipython",
    "version": 3
   },
   "file_extension": ".py",
   "mimetype": "text/x-python",
   "name": "python",
   "nbconvert_exporter": "python",
   "pygments_lexer": "ipython3",
   "version": "3.6.1"
  }
 },
 "nbformat": 4,
 "nbformat_minor": 1
}
