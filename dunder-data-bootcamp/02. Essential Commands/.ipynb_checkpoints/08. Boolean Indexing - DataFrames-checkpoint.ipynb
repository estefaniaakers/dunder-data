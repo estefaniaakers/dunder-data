{
 "cells": [
  {
   "cell_type": "markdown",
   "metadata": {},
   "source": [
    "# 8. Boolean Indexing - DataFrames\n",
    "\n",
    "### Objectives\n",
    "\n",
    "+ Boolean Indexing or Boolean Selection is the selection of a subset of a Series/DataFrame based on the values themselves and not the row/column labels or integer location\n",
    "+ Boolean means **`True`** or **`False`**\n",
    "+ To do boolean selection, you first create a sequence of True/False values and pass it to a DataFrame/Series indexer. Each row of data is kept or discarded\n",
    "+ The indexing operators are overloaded — change functionality depending on what is passed to them\n",
    "+ Typically, you will first create a boolean Series with one of the 6 comparison operators\n",
    "+ You will pass this boolean series to one of the indexers to make your selection\n",
    "+ Use the **`isin`** method to test for multiple equalities in the same column\n",
    "+ You can create complex criteria with the and (**`&`**), or (**`|`**), and not (**`~`**) logical operators\n",
    "+ When you have multiple conditions in a single line, you must wrap each expression with a parentheses\n",
    "+ If you have complex criteria, think about assigning each set of criteria into its own variable (i.e. don't do everything in one line)\n",
    "+ If you are only selecting rows, then you will almost always use just the brackets\n",
    "* If you are simultaneously doing boolean selection on the rows and selecting column labels then you will use **`.loc`**\n",
    "+ You will almost never use .iloc to do boolean selection\n",
    "+ Boolean selection works the same for Series as it does for DataFrames\n",
    "\n",
    "\n",
    "# Boolean Indexing\n",
    "Boolean indexing, also referred to as **Boolean Selection**, is the process of selecting subsets of rows from DataFrames (or Series) based on the actual values and NOT by their labels or integer locations.\n",
    "\n",
    "# Examples of Boolean Indexing\n",
    "\n",
    "Before diving into Pandas, lets see some examples of actual questions (in plain English) that boolean indexing can help us answer from the bikes dataset.\n",
    "\n",
    "+ Find all male riders\n",
    "+ Find all rides with duration longer than 2 hours\n",
    "+ Find all rides that took place between March and June of 2015.\n",
    "+ Find all the rides that a duration longer than 2 hours by females with temperature higher than 90 degrees\n",
    "\n",
    "The term **query** is used to refer to these sorts of questions.\n",
    "\n",
    "### All queries have criteria\n",
    "Each of the above queries have a strict logical criteria that must be checked one row at a time.\n",
    "\n",
    "### Keep or Discard entire row of data\n",
    "If you were to manually answer the above queries, you would need to scan each row and determine whether the row as a whole meets the criterion or not. If the row meets the criteria, then it is kept and if not, then it is discarded.\n",
    "\n",
    "### Each row will have a True or False value associated with it\n",
    "When you perform boolean indexing, each row of the DataFrame (or value of a Series) will have a True or False value associated with it depending on whether or not it meets the criterion. True/False values are known as boolean. The documentation refers to the entire procedure as boolean indexing.\n",
    "\n",
    "Since we are using the booleans to select data, it is sometimes referred to as boolean selection. We are using booleans to select subsets of data.\n",
    "\n",
    "### Beginning with a small DataFrame\n",
    "We will perform our first boolean indexing on a dataset of 5 rows. Let's assign the head of the bikes dataset to its own variable."
   ]
  },
  {
   "cell_type": "code",
   "execution_count": null,
   "metadata": {},
   "outputs": [],
   "source": [
    "import pandas as pd\n",
    "bikes = pd.read_csv('../data/bikes.csv')\n",
    "bikes_head = bikes.head()\n",
    "bikes_head"
   ]
  },
  {
   "cell_type": "markdown",
   "metadata": {},
   "source": [
    "### Create a criteria with a list\n",
    "We will manually create a list of 5 boolean values as a list."
   ]
  },
  {
   "cell_type": "code",
   "execution_count": null,
   "metadata": {},
   "outputs": [],
   "source": [
    "criteria = [False, True, False, False, True]"
   ]
  },
  {
   "cell_type": "markdown",
   "metadata": {},
   "source": [
    "### Pass this list into the just the brackets\n",
    "The above list has a True in both the second and fifth rows. These will be the rows that are kept during boolean indexing. To formally do boolean indexing, we place the list inside the brackets."
   ]
  },
  {
   "cell_type": "code",
   "execution_count": null,
   "metadata": {},
   "outputs": [],
   "source": [
    "bikes_head[criteria]"
   ]
  },
  {
   "cell_type": "markdown",
   "metadata": {},
   "source": [
    "## Wait a second… Isn’t `[ ]` just for column selection?\n",
    "\n",
    "The primary purpose of *just the brackets* for a DataFrame is to select one or more columns by using either a string or a list of strings. Now, all of a sudden, this example is showing that entire rows are selected with boolean values. This is what makes Pandas, unfortunately, a confusing library to use.\n",
    "\n",
    "## Operator Overloading\n",
    "*Just the brackets* is **overloaded**. This means, that depending on the inputs, Pandas will do something completely different. Here are the rules for the different objects you pass to the brackets.\n",
    "\n",
    "* string — return a column as a Series\n",
    "* list of strings — return all those columns as a DataFrame\n",
    "* a slice — select rows (can do both label and integer location — confusing!)\n",
    "* a sequence of booleans — select all rows where True\n",
    "\n",
    "In summary, primarily just the indexing operator selects columns, but if you pass it a sequence of booleans it will select all rows that are True.\n",
    "\n",
    "## Using booleans in a Series and not a list\n",
    "Instead of using a list to contain our booleans, we can store them in a Series. This produces the same output. Below, we use the Series constructor to create a Series object."
   ]
  },
  {
   "cell_type": "code",
   "execution_count": null,
   "metadata": {},
   "outputs": [],
   "source": [
    "s = pd.Series([False, True, False, False, True])\n",
    "s"
   ]
  },
  {
   "cell_type": "markdown",
   "metadata": {},
   "source": [
    "### Use the boolean Series to do the boolean selection\n",
    "Placing the Series directly in the brackets will again select only the rows which have True values in the Series."
   ]
  },
  {
   "cell_type": "code",
   "execution_count": null,
   "metadata": {},
   "outputs": [],
   "source": [
    "bikes_head[s]"
   ]
  },
  {
   "cell_type": "markdown",
   "metadata": {},
   "source": [
    "# Practical Boolean Selection\n",
    "We will almost never create boolean lists/Series manually like we did above but instead use the actual data to create them.\n",
    "\n",
    "## Creating Boolean Series from Column Data\n",
    "By far the most common way to create a boolean Series will be from the values of one particular column. We will test a condition using one of the six comparison operators:\n",
    "\n",
    "* `<`\n",
    "* `<=`\n",
    "* `>`\n",
    "* `>=`\n",
    "* `==`\n",
    "* `!=`\n"
   ]
  },
  {
   "cell_type": "markdown",
   "metadata": {},
   "source": [
    "## Create a Boolean Series\n",
    "Let's create a boolean Series by determining which rows have a trip duration of over 1000 seconds."
   ]
  },
  {
   "cell_type": "code",
   "execution_count": null,
   "metadata": {},
   "outputs": [],
   "source": [
    "criteria = bikes['tripduration'] > 1000\n",
    "criteria.head(10)"
   ]
  },
  {
   "cell_type": "markdown",
   "metadata": {},
   "source": [
    "### Manually verify correctness\n",
    "Let's output the head of the trip duration Series to manually verfiy that indeed integer locations 2 and 8 are the ones greater than 1000."
   ]
  },
  {
   "cell_type": "code",
   "execution_count": null,
   "metadata": {},
   "outputs": [],
   "source": [
    "bikes['tripduration'].head(10)"
   ]
  },
  {
   "cell_type": "markdown",
   "metadata": {},
   "source": [
    "## Complete our boolean indexing\n",
    "We created our boolean Series, **`criteria`** using the greater than comparison operator on the **`tripduration`** column. We can now pass this result into the brackets to filter the entire DataFrame. Verify that all **`tripduration`** values are greater than 1000. "
   ]
  },
  {
   "cell_type": "code",
   "execution_count": null,
   "metadata": {},
   "outputs": [],
   "source": [
    "bikes[criteria].head(10)"
   ]
  },
  {
   "cell_type": "markdown",
   "metadata": {},
   "source": [
    "### How many rows have a trip duration greater than 1000?\n",
    "To answer this question, let's assign the result of the boolean selection to a varible and then retrieve the **`shape`** of the DataFrame."
   ]
  },
  {
   "cell_type": "code",
   "execution_count": null,
   "metadata": {},
   "outputs": [],
   "source": [
    "bikes.shape"
   ]
  },
  {
   "cell_type": "code",
   "execution_count": null,
   "metadata": {},
   "outputs": [],
   "source": [
    "bikes_duration_1000 = bikes[criteria]\n",
    "bikes_duration_1000.shape"
   ]
  },
  {
   "cell_type": "markdown",
   "metadata": {},
   "source": [
    "About 20% of the rides are longer than 1000 seconds."
   ]
  },
  {
   "cell_type": "markdown",
   "metadata": {},
   "source": [
    "# Boolean selection in one line\n",
    "Often, you will see boolean selection happen in a single line of code instead of the multiple lines we used above. Put the expression with comparison operator directly inside the brackets."
   ]
  },
  {
   "cell_type": "code",
   "execution_count": null,
   "metadata": {},
   "outputs": [],
   "source": [
    "bikes[bikes['tripduration'] > 1000].head()"
   ]
  },
  {
   "cell_type": "markdown",
   "metadata": {},
   "source": [
    "If that is confusing for you, then I recommend storing your boolean Series to a variable like we did with **`criteria`** above."
   ]
  },
  {
   "cell_type": "markdown",
   "metadata": {},
   "source": [
    "## Single condition expression\n",
    "Our first example tested a single condition (whether the trip duration was 1,000 or more). Let’s test a different single condition and look for all the rides that happend when the weather was cloudy.\n",
    "\n",
    "We use the == operator to test for equality and assign this result to the variable criteria. Again, we pass this variable to the brackets which completes our selection."
   ]
  },
  {
   "cell_type": "code",
   "execution_count": null,
   "metadata": {},
   "outputs": [],
   "source": [
    "criteria = bikes['events'] == 'cloudy'\n",
    "bikes[criteria].head()"
   ]
  },
  {
   "cell_type": "markdown",
   "metadata": {},
   "source": [
    "## Multiple condition expression\n",
    "So far, our boolean selections have involved a single condition. You can, of course, have as many conditions as you would like. To do so, you will need to combine your boolean expressions using the three logical operators and, or and not.\n",
    "\n",
    "## Use `&`, `|` , `~`\n",
    "Although Python uses the syntax and, or, and not, these will not work when testing multiple conditions with Pandas. \n",
    "\n",
    "You must use the following operators with pandas:\n",
    "\n",
    "* **`&`** for and\n",
    "* **`|`** for or\n",
    "* **`~`** for not\n",
    "\n",
    "## Our first multiple condition expression\n",
    "Let’s find all the rides that where longer than 1,000 seconds and happened when it was cloudy. We assign each condition to separate variables and then apply the **and** operator to them."
   ]
  },
  {
   "cell_type": "code",
   "execution_count": null,
   "metadata": {},
   "outputs": [],
   "source": [
    "criteria_1 = bikes['tripduration'] > 1000\n",
    "criteria_2 = bikes['events'] == 'cloudy'\n",
    "criteria_all = criteria_1 & criteria_2"
   ]
  },
  {
   "cell_type": "code",
   "execution_count": null,
   "metadata": {},
   "outputs": [],
   "source": [
    "bikes[criteria_all].head()"
   ]
  },
  {
   "cell_type": "markdown",
   "metadata": {},
   "source": [
    "## Multiple conditions in one line\n",
    "It is possible to combine the entire expression into a single line. Many pandas users like doing this, others hate it. Regardless, it is a good idea to know how to do so as you will definitely encounter it.\n",
    "\n",
    "## Use parentheses to separate conditions\n",
    "You must encapsulate each condition in a set of parentheses in order to make this work.\n",
    "\n",
    "Each condition will be separated like this:\n",
    "\n",
    "```\n",
    "\n",
    "(bikes['tripduration'] > 1000) & (bikes['events'] == 'cloudy')\n",
    "\n",
    "```\n",
    "\n",
    "## Same results\n",
    "We can then drop this expression inside of just the indexing operator to get the same results:"
   ]
  },
  {
   "cell_type": "code",
   "execution_count": null,
   "metadata": {},
   "outputs": [],
   "source": [
    "bikes[(bikes['tripduration'] > 1000) & (bikes['events'] == 'cloudy')].head()"
   ]
  },
  {
   "cell_type": "markdown",
   "metadata": {},
   "source": [
    "## Using an or condition\n",
    "Let's find all the rides that were done by females of had trip durations longer than 1,000 seconds.\n",
    "\n",
    "For the or condition, we use the pipe character **`|`**"
   ]
  },
  {
   "cell_type": "code",
   "execution_count": null,
   "metadata": {},
   "outputs": [],
   "source": [
    "bikes[(bikes['tripduration'] > 1000) | (bikes['gender'] == 'Female')].head()"
   ]
  },
  {
   "cell_type": "markdown",
   "metadata": {},
   "source": [
    "## Reversing a condition with the not operator\n",
    "The tilde character, **`~`**, represents the not operator and reverses a condition.  For instance, if we wanted all the rides with trip duration less than or equal to 1000, we could do it like this (notice the parentheses around the criteria):"
   ]
  },
  {
   "cell_type": "code",
   "execution_count": null,
   "metadata": {},
   "outputs": [],
   "source": [
    "bikes[~(bikes['tripduration'] > 1000)].head()"
   ]
  },
  {
   "cell_type": "markdown",
   "metadata": {},
   "source": [
    "Of course, reversing single conditions is pretty pointless as we can simply use the less than or equal to operator instead like this:"
   ]
  },
  {
   "cell_type": "code",
   "execution_count": null,
   "metadata": {},
   "outputs": [],
   "source": [
    "bikes[bikes['tripduration'] <= 1000].head()"
   ]
  },
  {
   "cell_type": "markdown",
   "metadata": {},
   "source": [
    "### Reverse a more complex condition\n",
    "Typically, we will save the not operator for reversing more complex conditions. Let's reverse the condition for selecting rides by females or those with duration over 1,000 seconds.\n",
    "\n",
    "Notice that there are parentheses around the entire expression. Logically, this should return only male riders with duration 1,000 or less."
   ]
  },
  {
   "cell_type": "code",
   "execution_count": null,
   "metadata": {},
   "outputs": [],
   "source": [
    "criteria = ~((bikes['tripduration'] > 1000) | (bikes['gender'] == 'Female'))\n",
    "bikes[criteria].head()"
   ]
  },
  {
   "cell_type": "markdown",
   "metadata": {},
   "source": [
    "## Even more complex conditions\n",
    "It is possible to build extremely complex conditions to select rows of your DataFrame that meet a very specific criteria. For instance, we can select males riders with trip duration between 1,000 and 2,000 seconds along with female riders with trip duration betwee 5,000 and 10,000 seconds.\n",
    "\n",
    "With multiple conditions, its probably best to break out the logic into multiple steps:"
   ]
  },
  {
   "cell_type": "code",
   "execution_count": null,
   "metadata": {},
   "outputs": [],
   "source": [
    "criteria_1 = (bikes['gender'] == 'Male') & (bikes['tripduration'] >= 1000) & (bikes['tripduration'] <= 2000)\n",
    "criteria_2 = (bikes['gender'] == 'Female') & (bikes['tripduration'] >= 5000) & (bikes['tripduration'] <= 10000)\n",
    "criteria_all = criteria_1 | criteria_2"
   ]
  },
  {
   "cell_type": "code",
   "execution_count": null,
   "metadata": {},
   "outputs": [],
   "source": [
    "bikes[criteria_all].head(10)"
   ]
  },
  {
   "cell_type": "markdown",
   "metadata": {},
   "source": [
    "## Lots of equality conditions in a single column - use `isin`\n",
    "Occasionally, we will want to test equality in a single column with multiple values. This is most common in string columns. For instance, let’s say we wanted to find all the rides where the events were either rain, snow, tstorms or sleet.\n",
    "\n",
    "One way to do this would be with four or conditions."
   ]
  },
  {
   "cell_type": "code",
   "execution_count": null,
   "metadata": {},
   "outputs": [],
   "source": [
    "criteria = ((bikes['events'] == 'rain') | \n",
    "            (bikes['events'] == 'snow') | \n",
    "            (bikes['events'] == 'tstorms') | \n",
    "            (bikes['events'] == 'sleet'))\n",
    "bikes[criteria].head()"
   ]
  },
  {
   "cell_type": "markdown",
   "metadata": {},
   "source": [
    "Instead we can call the **`isin`** method and pass a list of all the acceptable values:"
   ]
  },
  {
   "cell_type": "code",
   "execution_count": null,
   "metadata": {},
   "outputs": [],
   "source": [
    "criteria = bikes['events'].isin(['rain', 'snow', 'tstorms', 'sleet'])\n",
    "bikes[criteria].head()"
   ]
  },
  {
   "cell_type": "markdown",
   "metadata": {},
   "source": [
    "## Combining isin with other criteria\n",
    "You can use the resulting boolean Series from the isin method in the same way you would from the logical operators. For instance, If we wanted to find all the rides that had the same events and had a duration greater than 10,000 we would do the following:"
   ]
  },
  {
   "cell_type": "code",
   "execution_count": null,
   "metadata": {},
   "outputs": [],
   "source": [
    "criteria_1 = bikes['events'].isin(['rain', 'snow', 'tstorms', 'sleet'])\n",
    "criteria_2 = bikes['tripduration'] > 2000\n",
    "criteria_all = criteria_1 & criteria_2\n",
    "bikes[criteria_all].head()"
   ]
  },
  {
   "cell_type": "markdown",
   "metadata": {},
   "source": [
    "# Exercises"
   ]
  },
  {
   "cell_type": "markdown",
   "metadata": {},
   "source": [
    "### Problem 1\n",
    "<span  style=\"color:green; font-size:16px\">Read in the movie dataset and set the index to be the title. Select all movies that have Tom Hanks as `actor1`. How many of these movies has he starred in?</span>"
   ]
  },
  {
   "cell_type": "code",
   "execution_count": null,
   "metadata": {},
   "outputs": [],
   "source": [
    "# your code here"
   ]
  },
  {
   "cell_type": "markdown",
   "metadata": {},
   "source": [
    "### Problem 2\n",
    "<span  style=\"color:green; font-size:16px\">Select movies with and IMDB score greater than 9.</span>"
   ]
  },
  {
   "cell_type": "code",
   "execution_count": null,
   "metadata": {},
   "outputs": [],
   "source": [
    "# your code here"
   ]
  },
  {
   "cell_type": "markdown",
   "metadata": {},
   "source": [
    "### Problem 3\n",
    "<span  style=\"color:green; font-size:16px\">Select all movies from the 1970s.</span>"
   ]
  },
  {
   "cell_type": "code",
   "execution_count": null,
   "metadata": {},
   "outputs": [],
   "source": [
    "# your code here"
   ]
  },
  {
   "cell_type": "markdown",
   "metadata": {},
   "source": [
    "### Problem 4\n",
    "<span  style=\"color:green; font-size:16px\">Select all movies from the 1970s that had IMDB scores greater than 8</span>"
   ]
  },
  {
   "cell_type": "code",
   "execution_count": null,
   "metadata": {},
   "outputs": [],
   "source": [
    "# your code here"
   ]
  },
  {
   "cell_type": "markdown",
   "metadata": {},
   "source": [
    "### Problem 5\n",
    "<span  style=\"color:green; font-size:16px\">Select movies that were rated either R, PG-13, or PG.</span>"
   ]
  },
  {
   "cell_type": "code",
   "execution_count": null,
   "metadata": {},
   "outputs": [],
   "source": [
    "# your code here"
   ]
  },
  {
   "cell_type": "markdown",
   "metadata": {},
   "source": [
    "### Problem 6\n",
    "<span  style=\"color:green; font-size:16px\">Select movies that are either rated PG-13 or were made after 2010.</span>"
   ]
  },
  {
   "cell_type": "code",
   "execution_count": null,
   "metadata": {},
   "outputs": [],
   "source": [
    "# your code here"
   ]
  },
  {
   "cell_type": "markdown",
   "metadata": {},
   "source": [
    "### Problem 7\n",
    "<span  style=\"color:green; font-size:16px\">Find all the movies that have at least one of the three actors with more than 10,000 Facebook likes.</span>"
   ]
  },
  {
   "cell_type": "code",
   "execution_count": null,
   "metadata": {},
   "outputs": [],
   "source": [
    "# your code here"
   ]
  },
  {
   "cell_type": "markdown",
   "metadata": {},
   "source": [
    "### Problem 8\n",
    "<span  style=\"color:green; font-size:16px\">Reverse the condition from problem 6. Use one line of code. In words, what have you selected.</span>"
   ]
  },
  {
   "cell_type": "code",
   "execution_count": null,
   "metadata": {},
   "outputs": [],
   "source": [
    "# your code here"
   ]
  }
 ],
 "metadata": {
  "kernelspec": {
   "display_name": "Python 3",
   "language": "python",
   "name": "python3"
  },
  "language_info": {
   "codemirror_mode": {
    "name": "ipython",
    "version": 3
   },
   "file_extension": ".py",
   "mimetype": "text/x-python",
   "name": "python",
   "nbconvert_exporter": "python",
   "pygments_lexer": "ipython3",
   "version": "3.6.4"
  },
  "varInspector": {
   "cols": {
    "lenName": 16,
    "lenType": 16,
    "lenVar": 40
   },
   "kernels_config": {
    "python": {
     "delete_cmd_postfix": "",
     "delete_cmd_prefix": "del ",
     "library": "var_list.py",
     "varRefreshCmd": "print(var_dic_list())"
    },
    "r": {
     "delete_cmd_postfix": ") ",
     "delete_cmd_prefix": "rm(",
     "library": "var_list.r",
     "varRefreshCmd": "cat(var_dic_list()) "
    }
   },
   "types_to_exclude": [
    "module",
    "function",
    "builtin_function_or_method",
    "instance",
    "_Feature"
   ],
   "window_display": false
  }
 },
 "nbformat": 4,
 "nbformat_minor": 2
}
