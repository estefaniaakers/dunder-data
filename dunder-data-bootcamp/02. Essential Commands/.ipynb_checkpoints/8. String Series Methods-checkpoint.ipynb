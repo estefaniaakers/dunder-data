{
 "cells": [
  {
   "cell_type": "markdown",
   "metadata": {},
   "source": [
    "# 8. String Series Methods"
   ]
  },
  {
   "cell_type": "markdown",
   "metadata": {},
   "source": [
    "# Methods for Series with String Data Types\n",
    "In this notebook we will focus on methods that work for Series that contain string data. Remember that there is no string data type in Pandas. Instead there is **object** which technically refers to any Python object, but for the vast majority of the time, object columns will be entirely composed of strings.\n",
    "\n",
    "The methods in the previous two notebooks focused on numeric and boolean Series. Many of those methods will work for both string Series as well but some will not.\n",
    "\n",
    "For instance, the **`mean`** method will not work for string columns. Let's see this in action by selecting the department column from the City of Houston dataset."
   ]
  },
  {
   "cell_type": "code",
   "execution_count": 4,
   "metadata": {},
   "outputs": [],
   "source": [
    "import pandas as pd"
   ]
  },
  {
   "cell_type": "code",
   "execution_count": 5,
   "metadata": {},
   "outputs": [
    {
     "data": {
      "text/html": [
       "<div>\n",
       "<style scoped>\n",
       "    .dataframe tbody tr th:only-of-type {\n",
       "        vertical-align: middle;\n",
       "    }\n",
       "\n",
       "    .dataframe tbody tr th {\n",
       "        vertical-align: top;\n",
       "    }\n",
       "\n",
       "    .dataframe thead th {\n",
       "        text-align: right;\n",
       "    }\n",
       "</style>\n",
       "<table border=\"1\" class=\"dataframe\">\n",
       "  <thead>\n",
       "    <tr style=\"text-align: right;\">\n",
       "      <th></th>\n",
       "      <th>POSITION_TITLE</th>\n",
       "      <th>DEPARTMENT</th>\n",
       "      <th>BASE_SALARY</th>\n",
       "      <th>RACE</th>\n",
       "      <th>EMPLOYMENT_TYPE</th>\n",
       "      <th>GENDER</th>\n",
       "      <th>EMPLOYMENT_STATUS</th>\n",
       "      <th>HIRE_DATE</th>\n",
       "      <th>JOB_DATE</th>\n",
       "    </tr>\n",
       "  </thead>\n",
       "  <tbody>\n",
       "    <tr>\n",
       "      <th>0</th>\n",
       "      <td>ASSISTANT DIRECTOR (EX LVL)</td>\n",
       "      <td>Municipal Courts Department</td>\n",
       "      <td>121862.0</td>\n",
       "      <td>Hispanic/Latino</td>\n",
       "      <td>Full Time</td>\n",
       "      <td>Female</td>\n",
       "      <td>Active</td>\n",
       "      <td>2006-06-12</td>\n",
       "      <td>2012-10-13</td>\n",
       "    </tr>\n",
       "    <tr>\n",
       "      <th>1</th>\n",
       "      <td>LIBRARY ASSISTANT</td>\n",
       "      <td>Library</td>\n",
       "      <td>26125.0</td>\n",
       "      <td>Hispanic/Latino</td>\n",
       "      <td>Full Time</td>\n",
       "      <td>Female</td>\n",
       "      <td>Active</td>\n",
       "      <td>2000-07-19</td>\n",
       "      <td>2010-09-18</td>\n",
       "    </tr>\n",
       "    <tr>\n",
       "      <th>2</th>\n",
       "      <td>POLICE OFFICER</td>\n",
       "      <td>Houston Police Department-HPD</td>\n",
       "      <td>45279.0</td>\n",
       "      <td>White</td>\n",
       "      <td>Full Time</td>\n",
       "      <td>Male</td>\n",
       "      <td>Active</td>\n",
       "      <td>2015-02-03</td>\n",
       "      <td>2015-02-03</td>\n",
       "    </tr>\n",
       "    <tr>\n",
       "      <th>3</th>\n",
       "      <td>ENGINEER/OPERATOR</td>\n",
       "      <td>Houston Fire Department (HFD)</td>\n",
       "      <td>63166.0</td>\n",
       "      <td>White</td>\n",
       "      <td>Full Time</td>\n",
       "      <td>Male</td>\n",
       "      <td>Active</td>\n",
       "      <td>1982-02-08</td>\n",
       "      <td>1991-05-25</td>\n",
       "    </tr>\n",
       "    <tr>\n",
       "      <th>4</th>\n",
       "      <td>ELECTRICIAN</td>\n",
       "      <td>General Services Department</td>\n",
       "      <td>56347.0</td>\n",
       "      <td>White</td>\n",
       "      <td>Full Time</td>\n",
       "      <td>Male</td>\n",
       "      <td>Active</td>\n",
       "      <td>1989-06-19</td>\n",
       "      <td>1994-10-22</td>\n",
       "    </tr>\n",
       "  </tbody>\n",
       "</table>\n",
       "</div>"
      ],
      "text/plain": [
       "                POSITION_TITLE                     DEPARTMENT  BASE_SALARY  \\\n",
       "0  ASSISTANT DIRECTOR (EX LVL)    Municipal Courts Department     121862.0   \n",
       "1            LIBRARY ASSISTANT                        Library      26125.0   \n",
       "2               POLICE OFFICER  Houston Police Department-HPD      45279.0   \n",
       "3            ENGINEER/OPERATOR  Houston Fire Department (HFD)      63166.0   \n",
       "4                  ELECTRICIAN    General Services Department      56347.0   \n",
       "\n",
       "              RACE EMPLOYMENT_TYPE  GENDER EMPLOYMENT_STATUS  HIRE_DATE  \\\n",
       "0  Hispanic/Latino       Full Time  Female            Active 2006-06-12   \n",
       "1  Hispanic/Latino       Full Time  Female            Active 2000-07-19   \n",
       "2            White       Full Time    Male            Active 2015-02-03   \n",
       "3            White       Full Time    Male            Active 1982-02-08   \n",
       "4            White       Full Time    Male            Active 1989-06-19   \n",
       "\n",
       "    JOB_DATE  \n",
       "0 2012-10-13  \n",
       "1 2010-09-18  \n",
       "2 2015-02-03  \n",
       "3 1991-05-25  \n",
       "4 1994-10-22  "
      ]
     },
     "execution_count": 5,
     "metadata": {},
     "output_type": "execute_result"
    }
   ],
   "source": [
    "emp = pd.read_csv('../data/employee.csv', parse_dates=['HIRE_DATE', 'JOB_DATE'])\n",
    "emp.head()"
   ]
  },
  {
   "cell_type": "code",
   "execution_count": 7,
   "metadata": {},
   "outputs": [
    {
     "data": {
      "text/plain": [
       "0      Municipal Courts Department\n",
       "1                          Library\n",
       "2    Houston Police Department-HPD\n",
       "3    Houston Fire Department (HFD)\n",
       "4      General Services Department\n",
       "Name: DEPARTMENT, dtype: object"
      ]
     },
     "execution_count": 7,
     "metadata": {},
     "output_type": "execute_result"
    }
   ],
   "source": [
    "dept = emp['DEPARTMENT']\n",
    "dept.head()"
   ]
  },
  {
   "cell_type": "markdown",
   "metadata": {},
   "source": [
    "### Attempt to take the mean\n",
    "The output of this error is very long, so we will catch it and simply print its name out:"
   ]
  },
  {
   "cell_type": "code",
   "execution_count": 13,
   "metadata": {},
   "outputs": [
    {
     "name": "stdout",
     "output_type": "stream",
     "text": [
      "<class 'TypeError'>\n"
     ]
    }
   ],
   "source": [
    "try:\n",
    "    dept.mean()\n",
    "except Exception as e:\n",
    "    print(type(e))"
   ]
  },
  {
   "cell_type": "markdown",
   "metadata": {},
   "source": [
    "### Other methods do work\n",
    "Many of the other methods we covered from the previous two notebooks will work just fine with string columns such as finding the maximum department - maximum being that department with the highest alphabetical letter."
   ]
  },
  {
   "cell_type": "code",
   "execution_count": 16,
   "metadata": {},
   "outputs": [
    {
     "data": {
      "text/plain": [
       "'Solid Waste Management'"
      ]
     },
     "execution_count": 16,
     "metadata": {},
     "output_type": "execute_result"
    }
   ],
   "source": [
    "dept.max()"
   ]
  },
  {
   "cell_type": "markdown",
   "metadata": {},
   "source": [
    "Calculate number of missing values:"
   ]
  },
  {
   "cell_type": "code",
   "execution_count": 15,
   "metadata": {},
   "outputs": [
    {
     "data": {
      "text/plain": [
       "0"
      ]
     },
     "execution_count": 15,
     "metadata": {},
     "output_type": "execute_result"
    }
   ],
   "source": [
    "dept.isna().sum()"
   ]
  },
  {
   "cell_type": "markdown",
   "metadata": {},
   "source": [
    "## Most valuable method for string columns: `value_counts`\n",
    "The **`value_counts`** method is one of the most valuable methods for string columns. It returns the frequency of each value in the Series and sorts it from most to least common."
   ]
  },
  {
   "cell_type": "code",
   "execution_count": 17,
   "metadata": {},
   "outputs": [
    {
     "data": {
      "text/plain": [
       "Houston Police Department-HPD     638\n",
       "Houston Fire Department (HFD)     384\n",
       "Public Works & Engineering-PWE    343\n",
       "Health & Human Services           110\n",
       "Houston Airport System (HAS)      106\n",
       "Parks & Recreation                 74\n",
       "Solid Waste Management             43\n",
       "Library                            36\n",
       "Fleet Management Department        36\n",
       "Admn. & Regulatory Affairs         29\n",
       "Municipal Courts Department        28\n",
       "Human Resources Dept.              24\n",
       "Houston Emergency Center (HEC)     23\n",
       "General Services Department        22\n",
       "Housing and Community Devp.        22\n",
       "Dept of Neighborhoods (DON)        17\n",
       "Legal Department                   17\n",
       "City Council                       11\n",
       "Finance                            10\n",
       "Houston Information Tech Svcs       9\n",
       "Planning & Development              7\n",
       "Mayor's Office                      5\n",
       "City Controller's Office            5\n",
       "Convention and Entertainment        1\n",
       "Name: DEPARTMENT, dtype: int64"
      ]
     },
     "execution_count": 17,
     "metadata": {},
     "output_type": "execute_result"
    }
   ],
   "source": [
    "dept.value_counts()"
   ]
  },
  {
   "cell_type": "markdown",
   "metadata": {},
   "source": [
    "## Notice what object is returned\n",
    "The **`value_counts`** method returns a Series object itself with the old values as the index and the count as the new values."
   ]
  },
  {
   "cell_type": "markdown",
   "metadata": {},
   "source": [
    "### Use `normalize=True` for proportion\n",
    "We can use **`value_counts`** to return the proportion of each occurrence instead of the raw count by setting parameter **`normalize`** to **`True`**. For instance, this tells us that 32% of the employees are members of the police department."
   ]
  },
  {
   "cell_type": "code",
   "execution_count": 18,
   "metadata": {},
   "outputs": [
    {
     "data": {
      "text/plain": [
       "Houston Police Department-HPD     0.3190\n",
       "Houston Fire Department (HFD)     0.1920\n",
       "Public Works & Engineering-PWE    0.1715\n",
       "Health & Human Services           0.0550\n",
       "Houston Airport System (HAS)      0.0530\n",
       "Parks & Recreation                0.0370\n",
       "Solid Waste Management            0.0215\n",
       "Library                           0.0180\n",
       "Fleet Management Department       0.0180\n",
       "Admn. & Regulatory Affairs        0.0145\n",
       "Municipal Courts Department       0.0140\n",
       "Human Resources Dept.             0.0120\n",
       "Houston Emergency Center (HEC)    0.0115\n",
       "General Services Department       0.0110\n",
       "Housing and Community Devp.       0.0110\n",
       "Dept of Neighborhoods (DON)       0.0085\n",
       "Legal Department                  0.0085\n",
       "City Council                      0.0055\n",
       "Finance                           0.0050\n",
       "Houston Information Tech Svcs     0.0045\n",
       "Planning & Development            0.0035\n",
       "Mayor's Office                    0.0025\n",
       "City Controller's Office          0.0025\n",
       "Convention and Entertainment      0.0005\n",
       "Name: DEPARTMENT, dtype: float64"
      ]
     },
     "execution_count": 18,
     "metadata": {},
     "output_type": "execute_result"
    }
   ],
   "source": [
    "dept.value_counts(normalize=True)"
   ]
  },
  {
   "cell_type": "markdown",
   "metadata": {},
   "source": [
    "### `value_counts` also works for columns of all types\n",
    "The **`value_counts`** method works for all columns of all types and not just strings. It's just usually more informative for string columns. Let's use it on the salary column to see if we have common salaries."
   ]
  },
  {
   "cell_type": "code",
   "execution_count": 20,
   "metadata": {},
   "outputs": [
    {
     "data": {
      "text/plain": [
       "66614.0    157\n",
       "55461.0     68\n",
       "81239.0     59\n",
       "26125.0     39\n",
       "62540.0     38\n",
       "47650.0     37\n",
       "70181.0     31\n",
       "60347.0     30\n",
       "66523.0     29\n",
       "63166.0     29\n",
       "Name: BASE_SALARY, dtype: int64"
      ]
     },
     "execution_count": 20,
     "metadata": {},
     "output_type": "execute_result"
    }
   ],
   "source": [
    "emp['BASE_SALARY'].value_counts().head(10)"
   ]
  },
  {
   "cell_type": "markdown",
   "metadata": {},
   "source": [
    "### `isin` method\n",
    "The **`isin`** method accepts a list of values and returns True or False for each Series element if it is contained in the given list. We saw this method during boolean indexing when we wanted to use multiple *or* conditions."
   ]
  },
  {
   "cell_type": "code",
   "execution_count": 28,
   "metadata": {},
   "outputs": [
    {
     "data": {
      "text/plain": [
       "0    False\n",
       "1    False\n",
       "2    False\n",
       "3    False\n",
       "4    False\n",
       "Name: DEPARTMENT, dtype: bool"
      ]
     },
     "execution_count": 28,
     "metadata": {},
     "output_type": "execute_result"
    }
   ],
   "source": [
    "has_depts = dept.isin(['Parks & Recreation', 'Finance', 'Legal Department'])\n",
    "has_depts.head()"
   ]
  },
  {
   "cell_type": "code",
   "execution_count": 29,
   "metadata": {},
   "outputs": [
    {
     "data": {
      "text/html": [
       "<div>\n",
       "<style scoped>\n",
       "    .dataframe tbody tr th:only-of-type {\n",
       "        vertical-align: middle;\n",
       "    }\n",
       "\n",
       "    .dataframe tbody tr th {\n",
       "        vertical-align: top;\n",
       "    }\n",
       "\n",
       "    .dataframe thead th {\n",
       "        text-align: right;\n",
       "    }\n",
       "</style>\n",
       "<table border=\"1\" class=\"dataframe\">\n",
       "  <thead>\n",
       "    <tr style=\"text-align: right;\">\n",
       "      <th></th>\n",
       "      <th>POSITION_TITLE</th>\n",
       "      <th>DEPARTMENT</th>\n",
       "      <th>BASE_SALARY</th>\n",
       "      <th>RACE</th>\n",
       "      <th>EMPLOYMENT_TYPE</th>\n",
       "      <th>GENDER</th>\n",
       "      <th>EMPLOYMENT_STATUS</th>\n",
       "      <th>HIRE_DATE</th>\n",
       "      <th>JOB_DATE</th>\n",
       "    </tr>\n",
       "  </thead>\n",
       "  <tbody>\n",
       "    <tr>\n",
       "      <th>32</th>\n",
       "      <td>SENIOR ACCOUNTANT</td>\n",
       "      <td>Finance</td>\n",
       "      <td>46963.0</td>\n",
       "      <td>Black or African American</td>\n",
       "      <td>Full Time</td>\n",
       "      <td>Male</td>\n",
       "      <td>Active</td>\n",
       "      <td>1991-02-11</td>\n",
       "      <td>2016-02-13</td>\n",
       "    </tr>\n",
       "    <tr>\n",
       "      <th>92</th>\n",
       "      <td>CUSTODIAN</td>\n",
       "      <td>Parks &amp; Recreation</td>\n",
       "      <td>26125.0</td>\n",
       "      <td>Black or African American</td>\n",
       "      <td>Full Time</td>\n",
       "      <td>Female</td>\n",
       "      <td>Active</td>\n",
       "      <td>1993-10-02</td>\n",
       "      <td>1993-10-02</td>\n",
       "    </tr>\n",
       "    <tr>\n",
       "      <th>117</th>\n",
       "      <td>SENIOR ASSISTANT CITY ATTORNEY I</td>\n",
       "      <td>Legal Department</td>\n",
       "      <td>90957.0</td>\n",
       "      <td>Black or African American</td>\n",
       "      <td>Full Time</td>\n",
       "      <td>Female</td>\n",
       "      <td>Active</td>\n",
       "      <td>1998-03-20</td>\n",
       "      <td>2012-07-21</td>\n",
       "    </tr>\n",
       "    <tr>\n",
       "      <th>131</th>\n",
       "      <td>RECREATION SPECIALIST</td>\n",
       "      <td>Parks &amp; Recreation</td>\n",
       "      <td>33592.0</td>\n",
       "      <td>Black or African American</td>\n",
       "      <td>Full Time</td>\n",
       "      <td>Male</td>\n",
       "      <td>Active</td>\n",
       "      <td>2013-06-22</td>\n",
       "      <td>2013-06-22</td>\n",
       "    </tr>\n",
       "    <tr>\n",
       "      <th>157</th>\n",
       "      <td>RECREATION SPECIALIST</td>\n",
       "      <td>Parks &amp; Recreation</td>\n",
       "      <td>30368.0</td>\n",
       "      <td>Black or African American</td>\n",
       "      <td>Full Time</td>\n",
       "      <td>Male</td>\n",
       "      <td>Active</td>\n",
       "      <td>2007-10-22</td>\n",
       "      <td>2007-10-22</td>\n",
       "    </tr>\n",
       "  </tbody>\n",
       "</table>\n",
       "</div>"
      ],
      "text/plain": [
       "                       POSITION_TITLE          DEPARTMENT  BASE_SALARY  \\\n",
       "32                  SENIOR ACCOUNTANT             Finance      46963.0   \n",
       "92                          CUSTODIAN  Parks & Recreation      26125.0   \n",
       "117  SENIOR ASSISTANT CITY ATTORNEY I    Legal Department      90957.0   \n",
       "131             RECREATION SPECIALIST  Parks & Recreation      33592.0   \n",
       "157             RECREATION SPECIALIST  Parks & Recreation      30368.0   \n",
       "\n",
       "                          RACE EMPLOYMENT_TYPE  GENDER EMPLOYMENT_STATUS  \\\n",
       "32   Black or African American       Full Time    Male            Active   \n",
       "92   Black or African American       Full Time  Female            Active   \n",
       "117  Black or African American       Full Time  Female            Active   \n",
       "131  Black or African American       Full Time    Male            Active   \n",
       "157  Black or African American       Full Time    Male            Active   \n",
       "\n",
       "     HIRE_DATE   JOB_DATE  \n",
       "32  1991-02-11 2016-02-13  \n",
       "92  1993-10-02 1993-10-02  \n",
       "117 1998-03-20 2012-07-21  \n",
       "131 2013-06-22 2013-06-22  \n",
       "157 2007-10-22 2007-10-22  "
      ]
     },
     "execution_count": 29,
     "metadata": {},
     "output_type": "execute_result"
    }
   ],
   "source": [
    "emp[has_depts].head()"
   ]
  },
  {
   "cell_type": "markdown",
   "metadata": {},
   "source": [
    "# Special methods just for object columns\n",
    "Pandas provides a collection of methods only available to object columns with the **str accessor**. The str accessor is only available to Series objects with data type of **object**. It provides a few dozen methods for string manipulation.\n",
    "\n",
    "### Access with dot notation\n",
    "To access these special string methods you append the Series object with `.str` and then the specific string method. Again, these are only available to Series with object data types.\n",
    "\n",
    "### Make each value uppercase\n",
    "Let's call a simple string method to make each value in the **`dept`** Series uppercase. We will use the **`upper`** method of the str accessor.\n",
    "\n",
    "[1]: http://pandas.pydata.org/pandas-docs/stable/api.html#string-handling"
   ]
  },
  {
   "cell_type": "code",
   "execution_count": 36,
   "metadata": {},
   "outputs": [
    {
     "data": {
      "text/plain": [
       "0      MUNICIPAL COURTS DEPARTMENT\n",
       "1                          LIBRARY\n",
       "2    HOUSTON POLICE DEPARTMENT-HPD\n",
       "3    HOUSTON FIRE DEPARTMENT (HFD)\n",
       "4      GENERAL SERVICES DEPARTMENT\n",
       "Name: DEPARTMENT, dtype: object"
      ]
     },
     "execution_count": 36,
     "metadata": {},
     "output_type": "execute_result"
    }
   ],
   "source": [
    "dept.str.upper().head()"
   ]
  },
  {
   "cell_type": "markdown",
   "metadata": {},
   "source": [
    "### `str` accessor API\n",
    "Take a look at the [str accessor API][1] in the official documentation. Let's output all the public methods in the notebook below.\n",
    "\n",
    "[1]: http://pandas.pydata.org/pandas-docs/stable/api.html#string-handling"
   ]
  },
  {
   "cell_type": "code",
   "execution_count": 38,
   "metadata": {},
   "outputs": [
    {
     "data": {
      "text/plain": [
       "['capitalize',\n",
       " 'cat',\n",
       " 'center',\n",
       " 'contains',\n",
       " 'count',\n",
       " 'decode',\n",
       " 'encode',\n",
       " 'endswith',\n",
       " 'extract',\n",
       " 'extractall',\n",
       " 'find',\n",
       " 'findall',\n",
       " 'get',\n",
       " 'get_dummies',\n",
       " 'index',\n",
       " 'isalnum',\n",
       " 'isalpha',\n",
       " 'isdecimal',\n",
       " 'isdigit',\n",
       " 'islower',\n",
       " 'isnumeric',\n",
       " 'isspace',\n",
       " 'istitle',\n",
       " 'isupper',\n",
       " 'join',\n",
       " 'len',\n",
       " 'ljust',\n",
       " 'lower',\n",
       " 'lstrip',\n",
       " 'match',\n",
       " 'normalize',\n",
       " 'pad',\n",
       " 'partition',\n",
       " 'repeat',\n",
       " 'replace',\n",
       " 'rfind',\n",
       " 'rindex',\n",
       " 'rjust',\n",
       " 'rpartition',\n",
       " 'rsplit',\n",
       " 'rstrip',\n",
       " 'slice',\n",
       " 'slice_replace',\n",
       " 'split',\n",
       " 'startswith',\n",
       " 'strip',\n",
       " 'swapcase',\n",
       " 'title',\n",
       " 'translate',\n",
       " 'upper',\n",
       " 'wrap',\n",
       " 'zfill']"
      ]
     },
     "execution_count": 38,
     "metadata": {},
     "output_type": "execute_result"
    }
   ],
   "source": [
    "str_methods = [method for method in dir(dept.str) if method[0] != '_']\n",
    "str_methods"
   ]
  },
  {
   "cell_type": "code",
   "execution_count": 39,
   "metadata": {},
   "outputs": [
    {
     "data": {
      "text/plain": [
       "52"
      ]
     },
     "execution_count": 39,
     "metadata": {},
     "output_type": "execute_result"
    }
   ],
   "source": [
    "len(str_methods)"
   ]
  },
  {
   "cell_type": "markdown",
   "metadata": {},
   "source": [
    "### Lot's of methods but mostly easy to use\n",
    "There is quite a lot of functionality to manipulate and probe strings in almost any way you can imagine. Let's work through some examples of the following string methods:\n",
    "\n",
    "* **`count`**\n",
    "* **`contains`**\n",
    "* **`find`**\n",
    "* **`len`**\n",
    "* **`split`**\n",
    "* **`replace`**"
   ]
  },
  {
   "cell_type": "markdown",
   "metadata": {},
   "source": [
    "### `count` str method\n",
    "Returns the count of the passed string:"
   ]
  },
  {
   "cell_type": "code",
   "execution_count": 53,
   "metadata": {},
   "outputs": [
    {
     "data": {
      "text/plain": [
       "0    2\n",
       "1    1\n",
       "2    1\n",
       "3    1\n",
       "4    2\n",
       "Name: DEPARTMENT, dtype: int64"
      ]
     },
     "execution_count": 53,
     "metadata": {},
     "output_type": "execute_result"
    }
   ],
   "source": [
    "dept.str.count('a').head()"
   ]
  },
  {
   "cell_type": "code",
   "execution_count": 54,
   "metadata": {},
   "outputs": [
    {
     "data": {
      "text/plain": [
       "0    1\n",
       "1    0\n",
       "2    1\n",
       "3    1\n",
       "4    1\n",
       "Name: DEPARTMENT, dtype: int64"
      ]
     },
     "execution_count": 54,
     "metadata": {},
     "output_type": "execute_result"
    }
   ],
   "source": [
    "dept.str.count('Department').head()"
   ]
  },
  {
   "cell_type": "markdown",
   "metadata": {},
   "source": [
    "### `contains` str method\n",
    "Returns a boolean whether or not the passed string is contained somewhere within the string. Let's determine if any departments contain the letter **z**?"
   ]
  },
  {
   "cell_type": "code",
   "execution_count": 58,
   "metadata": {},
   "outputs": [
    {
     "data": {
      "text/plain": [
       "0    False\n",
       "1    False\n",
       "2    False\n",
       "3    False\n",
       "4    False\n",
       "Name: DEPARTMENT, dtype: bool"
      ]
     },
     "execution_count": 58,
     "metadata": {},
     "output_type": "execute_result"
    }
   ],
   "source": [
    "dept.str.contains('z').head()"
   ]
  },
  {
   "cell_type": "code",
   "execution_count": 59,
   "metadata": {},
   "outputs": [
    {
     "data": {
      "text/plain": [
       "0"
      ]
     },
     "execution_count": 59,
     "metadata": {},
     "output_type": "execute_result"
    }
   ],
   "source": [
    "dept.str.contains('z').sum()"
   ]
  },
  {
   "cell_type": "markdown",
   "metadata": {},
   "source": [
    "### `find` str method\n",
    "Returns the lowest index (the integer location) of the passed string. If not found returns -1."
   ]
  },
  {
   "cell_type": "code",
   "execution_count": 62,
   "metadata": {},
   "outputs": [
    {
     "data": {
      "text/plain": [
       "0     7\n",
       "1     4\n",
       "2    18\n",
       "3    16\n",
       "4     5\n",
       "5    18\n",
       "6    -1\n",
       "7    -1\n",
       "8    -1\n",
       "9    -1\n",
       "Name: DEPARTMENT, dtype: int64"
      ]
     },
     "execution_count": 62,
     "metadata": {},
     "output_type": "execute_result"
    }
   ],
   "source": [
    "dept.str.find('a').head(10)"
   ]
  },
  {
   "cell_type": "markdown",
   "metadata": {},
   "source": [
    "### `len` str method\n",
    "Returns the length of each string."
   ]
  },
  {
   "cell_type": "code",
   "execution_count": 63,
   "metadata": {},
   "outputs": [
    {
     "data": {
      "text/plain": [
       "0    27\n",
       "1     7\n",
       "2    29\n",
       "3    29\n",
       "4    27\n",
       "Name: DEPARTMENT, dtype: int64"
      ]
     },
     "execution_count": 63,
     "metadata": {},
     "output_type": "execute_result"
    }
   ],
   "source": [
    "dept.str.len().head()"
   ]
  },
  {
   "cell_type": "markdown",
   "metadata": {},
   "source": [
    "### `split` str method\n",
    "Splits into multiple separate strings based on a given separator. The default separator is a single space. The following splits on each space and returns a Series of lists."
   ]
  },
  {
   "cell_type": "code",
   "execution_count": 67,
   "metadata": {},
   "outputs": [
    {
     "data": {
      "text/plain": [
       "0       [Municipal, Courts, Department]\n",
       "1                             [Library]\n",
       "2     [Houston, Police, Department-HPD]\n",
       "3    [Houston, Fire, Department, (HFD)]\n",
       "4       [General, Services, Department]\n",
       "Name: DEPARTMENT, dtype: object"
      ]
     },
     "execution_count": 67,
     "metadata": {},
     "output_type": "execute_result"
    }
   ],
   "source": [
    "dept.str.split().head()"
   ]
  },
  {
   "cell_type": "markdown",
   "metadata": {},
   "source": [
    "Set the **`expand`** parameter to **`True`** to return a DataFrame:"
   ]
  },
  {
   "cell_type": "code",
   "execution_count": 68,
   "metadata": {},
   "outputs": [
    {
     "data": {
      "text/html": [
       "<div>\n",
       "<style scoped>\n",
       "    .dataframe tbody tr th:only-of-type {\n",
       "        vertical-align: middle;\n",
       "    }\n",
       "\n",
       "    .dataframe tbody tr th {\n",
       "        vertical-align: top;\n",
       "    }\n",
       "\n",
       "    .dataframe thead th {\n",
       "        text-align: right;\n",
       "    }\n",
       "</style>\n",
       "<table border=\"1\" class=\"dataframe\">\n",
       "  <thead>\n",
       "    <tr style=\"text-align: right;\">\n",
       "      <th></th>\n",
       "      <th>0</th>\n",
       "      <th>1</th>\n",
       "      <th>2</th>\n",
       "      <th>3</th>\n",
       "    </tr>\n",
       "  </thead>\n",
       "  <tbody>\n",
       "    <tr>\n",
       "      <th>0</th>\n",
       "      <td>Municipal</td>\n",
       "      <td>Courts</td>\n",
       "      <td>Department</td>\n",
       "      <td>None</td>\n",
       "    </tr>\n",
       "    <tr>\n",
       "      <th>1</th>\n",
       "      <td>Library</td>\n",
       "      <td>None</td>\n",
       "      <td>None</td>\n",
       "      <td>None</td>\n",
       "    </tr>\n",
       "    <tr>\n",
       "      <th>2</th>\n",
       "      <td>Houston</td>\n",
       "      <td>Police</td>\n",
       "      <td>Department-HPD</td>\n",
       "      <td>None</td>\n",
       "    </tr>\n",
       "    <tr>\n",
       "      <th>3</th>\n",
       "      <td>Houston</td>\n",
       "      <td>Fire</td>\n",
       "      <td>Department</td>\n",
       "      <td>(HFD)</td>\n",
       "    </tr>\n",
       "    <tr>\n",
       "      <th>4</th>\n",
       "      <td>General</td>\n",
       "      <td>Services</td>\n",
       "      <td>Department</td>\n",
       "      <td>None</td>\n",
       "    </tr>\n",
       "  </tbody>\n",
       "</table>\n",
       "</div>"
      ],
      "text/plain": [
       "           0         1               2      3\n",
       "0  Municipal    Courts      Department   None\n",
       "1    Library      None            None   None\n",
       "2    Houston    Police  Department-HPD   None\n",
       "3    Houston      Fire      Department  (HFD)\n",
       "4    General  Services      Department   None"
      ]
     },
     "execution_count": 68,
     "metadata": {},
     "output_type": "execute_result"
    }
   ],
   "source": [
    "dept.str.split(expand=True).head()"
   ]
  },
  {
   "cell_type": "markdown",
   "metadata": {},
   "source": [
    "### `repalce` str method\n",
    "You must pass two string arguments to replace - the string you want to replace and its replacement value."
   ]
  },
  {
   "cell_type": "code",
   "execution_count": 130,
   "metadata": {},
   "outputs": [
    {
     "data": {
      "text/plain": [
       "0     Municipal Courts Department\n",
       "1                         Library\n",
       "2    H-Town Police Department-HPD\n",
       "3    H-Town Fire Department (HFD)\n",
       "4     General Services Department\n",
       "Name: DEPARTMENT, dtype: object"
      ]
     },
     "execution_count": 130,
     "metadata": {},
     "output_type": "execute_result"
    }
   ],
   "source": [
    "dept.str.replace('Houston', 'H-Town').head()"
   ]
  },
  {
   "cell_type": "markdown",
   "metadata": {},
   "source": [
    "### Selecting substrings with the brackets\n",
    "Selecting a single character of a Python string is simple and accomplished by placing the integer location of the desired character in brackets. Selecting substrings is also quite simple and accomplished by using slice notation in the brackets.\n",
    "\n",
    "Pandas allows us to perform the exact same operation with its **`str`** accessor to select one or more characters of each string. We simply append the brackets to **`str`** and use the same selection process as we do with Python strings. Let's see some examples.\n",
    "\n",
    "Select the character with integer location 5 for each value in the Series:"
   ]
  },
  {
   "cell_type": "code",
   "execution_count": 139,
   "metadata": {},
   "outputs": [
    {
     "data": {
      "text/plain": [
       "0    i\n",
       "1    r\n",
       "2    o\n",
       "3    o\n",
       "4    a\n",
       "Name: DEPARTMENT, dtype: object"
      ]
     },
     "execution_count": 139,
     "metadata": {},
     "output_type": "execute_result"
    }
   ],
   "source": [
    "dept.str[5].head()"
   ]
  },
  {
   "cell_type": "markdown",
   "metadata": {},
   "source": [
    "Select the last 5 characters of each value in the Series:"
   ]
  },
  {
   "cell_type": "code",
   "execution_count": 140,
   "metadata": {},
   "outputs": [
    {
     "data": {
      "text/plain": [
       "0    tment\n",
       "1    brary\n",
       "2    t-HPD\n",
       "3    (HFD)\n",
       "4    tment\n",
       "Name: DEPARTMENT, dtype: object"
      ]
     },
     "execution_count": 140,
     "metadata": {},
     "output_type": "execute_result"
    }
   ],
   "source": [
    "dept.str[-5:].head()"
   ]
  },
  {
   "cell_type": "markdown",
   "metadata": {},
   "source": [
    "Select characters 5 through 15"
   ]
  },
  {
   "cell_type": "code",
   "execution_count": 141,
   "metadata": {},
   "outputs": [
    {
     "data": {
      "text/plain": [
       "0    ipal Court\n",
       "1            ry\n",
       "2    on Police \n",
       "3    on Fire De\n",
       "4    al Service\n",
       "Name: DEPARTMENT, dtype: object"
      ]
     },
     "execution_count": 141,
     "metadata": {},
     "output_type": "execute_result"
    }
   ],
   "source": [
    "dept.str[5:15].head()"
   ]
  },
  {
   "cell_type": "markdown",
   "metadata": {},
   "source": [
    "# Exercises"
   ]
  },
  {
   "cell_type": "markdown",
   "metadata": {},
   "source": [
    "### Problem 1\n",
    "<span  style=\"color:green; font-size:16px\">Read in the movie dataset and set the title as the index. Assign the actor 1 column to its own Series variable. Make sure to drop missing values from this Series before assigning it.\n",
    "\n",
    "Which actor 1 has appeared in the most movies? Can you write an expression that returns this actors name as a string?</span>"
   ]
  },
  {
   "cell_type": "code",
   "execution_count": 131,
   "metadata": {},
   "outputs": [],
   "source": [
    "# your code here"
   ]
  },
  {
   "cell_type": "markdown",
   "metadata": {},
   "source": [
    "### Problem 2\n",
    "<span  style=\"color:green; font-size:16px\">What percent of movies have the top 100 most frequent actor 1's appeared in?</span>"
   ]
  },
  {
   "cell_type": "code",
   "execution_count": 132,
   "metadata": {},
   "outputs": [],
   "source": [
    "# your code here"
   ]
  },
  {
   "cell_type": "markdown",
   "metadata": {},
   "source": [
    "### Problem 3\n",
    "<span  style=\"color:green; font-size:16px\">How many actor 1's have appeared in exactly one movie?</span>"
   ]
  },
  {
   "cell_type": "code",
   "execution_count": 133,
   "metadata": {},
   "outputs": [],
   "source": [
    "# your code here"
   ]
  },
  {
   "cell_type": "markdown",
   "metadata": {},
   "source": [
    "### Problem 4\n",
    "<span  style=\"color:green; font-size:16px\">How many actor 1's have more than 3 e's in their name? Output a unique array of just these actor names so we can manually verify them.</span>"
   ]
  },
  {
   "cell_type": "code",
   "execution_count": 134,
   "metadata": {},
   "outputs": [],
   "source": [
    "# your code here"
   ]
  },
  {
   "cell_type": "markdown",
   "metadata": {},
   "source": [
    "### Problem 5\n",
    "<span  style=\"color:green; font-size:16px\">Get a unique list of all actors that have the name 'Johnson' as part of their name. Note: When using the </span>"
   ]
  },
  {
   "cell_type": "code",
   "execution_count": 135,
   "metadata": {},
   "outputs": [],
   "source": [
    "# your code here"
   ]
  },
  {
   "cell_type": "markdown",
   "metadata": {},
   "source": [
    "### Problem 6\n",
    "<span  style=\"color:green; font-size:16px\">How many actor 1 names end in 'x'?</span>"
   ]
  },
  {
   "cell_type": "code",
   "execution_count": 136,
   "metadata": {},
   "outputs": [],
   "source": [
    "# your code here"
   ]
  },
  {
   "cell_type": "markdown",
   "metadata": {},
   "source": [
    "### Problem 7\n",
    "<span  style=\"color:green; font-size:16px\">The Pandas string methods overlap with the builtin Python string methods. Find all the public method names that are in-common to both. Then find the public methods that are unique to each.</span>"
   ]
  },
  {
   "cell_type": "code",
   "execution_count": null,
   "metadata": {},
   "outputs": [],
   "source": [
    "# your code here"
   ]
  }
 ],
 "metadata": {
  "kernelspec": {
   "display_name": "Python 3",
   "language": "python",
   "name": "python3"
  },
  "language_info": {
   "codemirror_mode": {
    "name": "ipython",
    "version": 3
   },
   "file_extension": ".py",
   "mimetype": "text/x-python",
   "name": "python",
   "nbconvert_exporter": "python",
   "pygments_lexer": "ipython3",
   "version": "3.6.4"
  }
 },
 "nbformat": 4,
 "nbformat_minor": 2
}
