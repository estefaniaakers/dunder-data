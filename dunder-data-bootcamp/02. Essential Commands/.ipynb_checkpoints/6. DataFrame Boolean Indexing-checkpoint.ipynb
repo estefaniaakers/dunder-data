{
 "cells": [
  {
   "cell_type": "markdown",
   "metadata": {},
   "source": [
    "# DataFrame Boolean Indexing\n",
    "\n",
    "### Objectives\n",
    "After this lesson you should be able to...\n",
    "+ Know that Boolean Indexing with DataFrames is nearly identical to how it is with Series\n",
    "+ Create criteria from several different columns\n",
    "+ Pass criteria into the indexing operator\n",
    "+ Use **`value_counts`** to get exact string names and frequencies\n",
    "+ Use **`.loc`** to do boolean indexing and column selection simultaneously \n",
    "+ Use **`isin`** to test equality against multiple possible values\n",
    "+ Answer basic questions after subsetting data into groups\n",
    "\n",
    "### Prepare for this lesson by...\n",
    "[ALWAYS READ THE DOCUMENTATION BEFORE A LESSON!](http://pandas.pydata.org/pandas-docs/stable/)\n",
    "+ Read the [Indexing and Selecting](http://pandas.pydata.org/pandas-docs/stable/indexing.html)\n",
    "\n",
    "## Introduction\n",
    "Boolean indexing is nearly identical for DataFrames as it is for Series. You first create a boolean Series and pass this Series into the indexing operator. The indexing operator is normally reserved for selection by column name but in addition you may pass a boolean Series to it."
   ]
  },
  {
   "cell_type": "markdown",
   "metadata": {},
   "source": [
    "## Employee Dataset\n",
    "We will be working with the employee dataset. Let's read it in without setting an index."
   ]
  },
  {
   "cell_type": "code",
   "execution_count": 1,
   "metadata": {},
   "outputs": [
    {
     "data": {
      "text/html": [
       "<div>\n",
       "<style>\n",
       "    .dataframe thead tr:only-child th {\n",
       "        text-align: right;\n",
       "    }\n",
       "\n",
       "    .dataframe thead th {\n",
       "        text-align: left;\n",
       "    }\n",
       "\n",
       "    .dataframe tbody tr th {\n",
       "        vertical-align: top;\n",
       "    }\n",
       "</style>\n",
       "<table border=\"1\" class=\"dataframe\">\n",
       "  <thead>\n",
       "    <tr style=\"text-align: right;\">\n",
       "      <th></th>\n",
       "      <th>UNIQUE_ID</th>\n",
       "      <th>POSITION_TITLE</th>\n",
       "      <th>DEPARTMENT</th>\n",
       "      <th>BASE_SALARY</th>\n",
       "      <th>RACE</th>\n",
       "      <th>EMPLOYMENT_TYPE</th>\n",
       "      <th>GENDER</th>\n",
       "      <th>EMPLOYMENT_STATUS</th>\n",
       "      <th>HIRE_DATE</th>\n",
       "      <th>JOB_DATE</th>\n",
       "    </tr>\n",
       "  </thead>\n",
       "  <tbody>\n",
       "    <tr>\n",
       "      <th>0</th>\n",
       "      <td>5906</td>\n",
       "      <td>ASSISTANT DIRECTOR (EX LVL)</td>\n",
       "      <td>Municipal Courts Department</td>\n",
       "      <td>121862.0</td>\n",
       "      <td>Hispanic/Latino</td>\n",
       "      <td>Full Time</td>\n",
       "      <td>Female</td>\n",
       "      <td>Active</td>\n",
       "      <td>2006-06-12</td>\n",
       "      <td>2012-10-13</td>\n",
       "    </tr>\n",
       "    <tr>\n",
       "      <th>1</th>\n",
       "      <td>364</td>\n",
       "      <td>LIBRARY ASSISTANT</td>\n",
       "      <td>Library</td>\n",
       "      <td>26125.0</td>\n",
       "      <td>Hispanic/Latino</td>\n",
       "      <td>Full Time</td>\n",
       "      <td>Female</td>\n",
       "      <td>Active</td>\n",
       "      <td>2000-07-19</td>\n",
       "      <td>2010-09-18</td>\n",
       "    </tr>\n",
       "    <tr>\n",
       "      <th>2</th>\n",
       "      <td>1286</td>\n",
       "      <td>POLICE OFFICER</td>\n",
       "      <td>Houston Police Department-HPD</td>\n",
       "      <td>45279.0</td>\n",
       "      <td>White</td>\n",
       "      <td>Full Time</td>\n",
       "      <td>Male</td>\n",
       "      <td>Active</td>\n",
       "      <td>2015-02-03</td>\n",
       "      <td>2015-02-03</td>\n",
       "    </tr>\n",
       "    <tr>\n",
       "      <th>3</th>\n",
       "      <td>8789</td>\n",
       "      <td>ENGINEER/OPERATOR</td>\n",
       "      <td>Houston Fire Department (HFD)</td>\n",
       "      <td>63166.0</td>\n",
       "      <td>White</td>\n",
       "      <td>Full Time</td>\n",
       "      <td>Male</td>\n",
       "      <td>Active</td>\n",
       "      <td>1982-02-08</td>\n",
       "      <td>1991-05-25</td>\n",
       "    </tr>\n",
       "    <tr>\n",
       "      <th>4</th>\n",
       "      <td>8542</td>\n",
       "      <td>ELECTRICIAN</td>\n",
       "      <td>General Services Department</td>\n",
       "      <td>56347.0</td>\n",
       "      <td>White</td>\n",
       "      <td>Full Time</td>\n",
       "      <td>Male</td>\n",
       "      <td>Active</td>\n",
       "      <td>1989-06-19</td>\n",
       "      <td>1994-10-22</td>\n",
       "    </tr>\n",
       "  </tbody>\n",
       "</table>\n",
       "</div>"
      ],
      "text/plain": [
       "   UNIQUE_ID               POSITION_TITLE                     DEPARTMENT  \\\n",
       "0       5906  ASSISTANT DIRECTOR (EX LVL)    Municipal Courts Department   \n",
       "1        364            LIBRARY ASSISTANT                        Library   \n",
       "2       1286               POLICE OFFICER  Houston Police Department-HPD   \n",
       "3       8789            ENGINEER/OPERATOR  Houston Fire Department (HFD)   \n",
       "4       8542                  ELECTRICIAN    General Services Department   \n",
       "\n",
       "   BASE_SALARY             RACE EMPLOYMENT_TYPE  GENDER EMPLOYMENT_STATUS  \\\n",
       "0     121862.0  Hispanic/Latino       Full Time  Female            Active   \n",
       "1      26125.0  Hispanic/Latino       Full Time  Female            Active   \n",
       "2      45279.0            White       Full Time    Male            Active   \n",
       "3      63166.0            White       Full Time    Male            Active   \n",
       "4      56347.0            White       Full Time    Male            Active   \n",
       "\n",
       "    HIRE_DATE    JOB_DATE  \n",
       "0  2006-06-12  2012-10-13  \n",
       "1  2000-07-19  2010-09-18  \n",
       "2  2015-02-03  2015-02-03  \n",
       "3  1982-02-08  1991-05-25  \n",
       "4  1989-06-19  1994-10-22  "
      ]
     },
     "execution_count": 1,
     "metadata": {},
     "output_type": "execute_result"
    }
   ],
   "source": [
    "import pandas as pd\n",
    "import numpy as np\n",
    "\n",
    "employee = pd.read_csv('../data/employee.csv')\n",
    "employee.head()"
   ]
  },
  {
   "cell_type": "markdown",
   "metadata": {},
   "source": [
    "## Boolean Indexing with Series - a review"
   ]
  },
  {
   "cell_type": "code",
   "execution_count": 2,
   "metadata": {},
   "outputs": [
    {
     "data": {
      "text/plain": [
       "0      121862.0\n",
       "8      107962.0\n",
       "11     180416.0\n",
       "43     165216.0\n",
       "66     100791.0\n",
       "169    120916.0\n",
       "178    210588.0\n",
       "186    110881.0\n",
       "217    102019.0\n",
       "237    130416.0\n",
       "Name: BASE_SALARY, dtype: float64"
      ]
     },
     "execution_count": 2,
     "metadata": {},
     "output_type": "execute_result"
    }
   ],
   "source": [
    "# use boolean selection to select salaries > 100,000\n",
    "salary = employee['BASE_SALARY']\n",
    "criteria = salary > 100000\n",
    "\n",
    "salary[criteria].head(10)"
   ]
  },
  {
   "cell_type": "markdown",
   "metadata": {},
   "source": [
    "### Returning all the rows\n",
    "Boolean indexing with DataFrames returns all the columns in addition to all the rows. We can use the same criteria to select all the employee data for those with salaries greater than 100,000."
   ]
  },
  {
   "cell_type": "code",
   "execution_count": 3,
   "metadata": {},
   "outputs": [
    {
     "data": {
      "text/html": [
       "<div>\n",
       "<style>\n",
       "    .dataframe thead tr:only-child th {\n",
       "        text-align: right;\n",
       "    }\n",
       "\n",
       "    .dataframe thead th {\n",
       "        text-align: left;\n",
       "    }\n",
       "\n",
       "    .dataframe tbody tr th {\n",
       "        vertical-align: top;\n",
       "    }\n",
       "</style>\n",
       "<table border=\"1\" class=\"dataframe\">\n",
       "  <thead>\n",
       "    <tr style=\"text-align: right;\">\n",
       "      <th></th>\n",
       "      <th>UNIQUE_ID</th>\n",
       "      <th>POSITION_TITLE</th>\n",
       "      <th>DEPARTMENT</th>\n",
       "      <th>BASE_SALARY</th>\n",
       "      <th>RACE</th>\n",
       "      <th>EMPLOYMENT_TYPE</th>\n",
       "      <th>GENDER</th>\n",
       "      <th>EMPLOYMENT_STATUS</th>\n",
       "      <th>HIRE_DATE</th>\n",
       "      <th>JOB_DATE</th>\n",
       "    </tr>\n",
       "  </thead>\n",
       "  <tbody>\n",
       "    <tr>\n",
       "      <th>0</th>\n",
       "      <td>5906</td>\n",
       "      <td>ASSISTANT DIRECTOR (EX LVL)</td>\n",
       "      <td>Municipal Courts Department</td>\n",
       "      <td>121862.0</td>\n",
       "      <td>Hispanic/Latino</td>\n",
       "      <td>Full Time</td>\n",
       "      <td>Female</td>\n",
       "      <td>Active</td>\n",
       "      <td>2006-06-12</td>\n",
       "      <td>2012-10-13</td>\n",
       "    </tr>\n",
       "    <tr>\n",
       "      <th>8</th>\n",
       "      <td>8172</td>\n",
       "      <td>DEPUTY ASSISTANT DIRECTOR (EXECUTIVE LEV</td>\n",
       "      <td>Public Works &amp; Engineering-PWE</td>\n",
       "      <td>107962.0</td>\n",
       "      <td>White</td>\n",
       "      <td>Full Time</td>\n",
       "      <td>Male</td>\n",
       "      <td>Active</td>\n",
       "      <td>1993-11-15</td>\n",
       "      <td>2013-01-05</td>\n",
       "    </tr>\n",
       "    <tr>\n",
       "      <th>11</th>\n",
       "      <td>3347</td>\n",
       "      <td>CHIEF PHYSICIAN,MD</td>\n",
       "      <td>Health &amp; Human Services</td>\n",
       "      <td>180416.0</td>\n",
       "      <td>Black or African American</td>\n",
       "      <td>Full Time</td>\n",
       "      <td>Male</td>\n",
       "      <td>Active</td>\n",
       "      <td>1987-05-22</td>\n",
       "      <td>1999-08-28</td>\n",
       "    </tr>\n",
       "    <tr>\n",
       "      <th>43</th>\n",
       "      <td>3982</td>\n",
       "      <td>ASSOCIATE EMS PHYSICIAN DIRECTOR</td>\n",
       "      <td>Houston Fire Department (HFD)</td>\n",
       "      <td>165216.0</td>\n",
       "      <td>Hispanic/Latino</td>\n",
       "      <td>Full Time</td>\n",
       "      <td>Male</td>\n",
       "      <td>Active</td>\n",
       "      <td>2013-08-31</td>\n",
       "      <td>2013-08-31</td>\n",
       "    </tr>\n",
       "    <tr>\n",
       "      <th>66</th>\n",
       "      <td>7369</td>\n",
       "      <td>PUBLIC HEALTH DENTIST,DDS</td>\n",
       "      <td>Health &amp; Human Services</td>\n",
       "      <td>100791.0</td>\n",
       "      <td>White</td>\n",
       "      <td>Full Time</td>\n",
       "      <td>Female</td>\n",
       "      <td>Active</td>\n",
       "      <td>2015-12-28</td>\n",
       "      <td>2015-12-28</td>\n",
       "    </tr>\n",
       "  </tbody>\n",
       "</table>\n",
       "</div>"
      ],
      "text/plain": [
       "    UNIQUE_ID                            POSITION_TITLE  \\\n",
       "0        5906               ASSISTANT DIRECTOR (EX LVL)   \n",
       "8        8172  DEPUTY ASSISTANT DIRECTOR (EXECUTIVE LEV   \n",
       "11       3347                        CHIEF PHYSICIAN,MD   \n",
       "43       3982          ASSOCIATE EMS PHYSICIAN DIRECTOR   \n",
       "66       7369                 PUBLIC HEALTH DENTIST,DDS   \n",
       "\n",
       "                        DEPARTMENT  BASE_SALARY                       RACE  \\\n",
       "0      Municipal Courts Department     121862.0            Hispanic/Latino   \n",
       "8   Public Works & Engineering-PWE     107962.0                      White   \n",
       "11         Health & Human Services     180416.0  Black or African American   \n",
       "43   Houston Fire Department (HFD)     165216.0            Hispanic/Latino   \n",
       "66         Health & Human Services     100791.0                      White   \n",
       "\n",
       "   EMPLOYMENT_TYPE  GENDER EMPLOYMENT_STATUS   HIRE_DATE    JOB_DATE  \n",
       "0        Full Time  Female            Active  2006-06-12  2012-10-13  \n",
       "8        Full Time    Male            Active  1993-11-15  2013-01-05  \n",
       "11       Full Time    Male            Active  1987-05-22  1999-08-28  \n",
       "43       Full Time    Male            Active  2013-08-31  2013-08-31  \n",
       "66       Full Time  Female            Active  2015-12-28  2015-12-28  "
      ]
     },
     "execution_count": 3,
     "metadata": {},
     "output_type": "execute_result"
    }
   ],
   "source": [
    "criteria = salary > 100000\n",
    "employee[criteria].head()"
   ]
  },
  {
   "cell_type": "markdown",
   "metadata": {},
   "source": [
    "### More interesting boolean logic with DataFrames\n",
    "Many more interesting questions can now be asked and solved with boolean operations in the data in a very similar manner to how they were in the Series notebook."
   ]
  },
  {
   "cell_type": "code",
   "execution_count": 4,
   "metadata": {},
   "outputs": [
    {
     "data": {
      "text/html": [
       "<div>\n",
       "<style>\n",
       "    .dataframe thead tr:only-child th {\n",
       "        text-align: right;\n",
       "    }\n",
       "\n",
       "    .dataframe thead th {\n",
       "        text-align: left;\n",
       "    }\n",
       "\n",
       "    .dataframe tbody tr th {\n",
       "        vertical-align: top;\n",
       "    }\n",
       "</style>\n",
       "<table border=\"1\" class=\"dataframe\">\n",
       "  <thead>\n",
       "    <tr style=\"text-align: right;\">\n",
       "      <th></th>\n",
       "      <th>UNIQUE_ID</th>\n",
       "      <th>POSITION_TITLE</th>\n",
       "      <th>DEPARTMENT</th>\n",
       "      <th>BASE_SALARY</th>\n",
       "      <th>RACE</th>\n",
       "      <th>EMPLOYMENT_TYPE</th>\n",
       "      <th>GENDER</th>\n",
       "      <th>EMPLOYMENT_STATUS</th>\n",
       "      <th>HIRE_DATE</th>\n",
       "      <th>JOB_DATE</th>\n",
       "    </tr>\n",
       "  </thead>\n",
       "  <tbody>\n",
       "    <tr>\n",
       "      <th>0</th>\n",
       "      <td>5906</td>\n",
       "      <td>ASSISTANT DIRECTOR (EX LVL)</td>\n",
       "      <td>Municipal Courts Department</td>\n",
       "      <td>121862.0</td>\n",
       "      <td>Hispanic/Latino</td>\n",
       "      <td>Full Time</td>\n",
       "      <td>Female</td>\n",
       "      <td>Active</td>\n",
       "      <td>2006-06-12</td>\n",
       "      <td>2012-10-13</td>\n",
       "    </tr>\n",
       "    <tr>\n",
       "      <th>66</th>\n",
       "      <td>7369</td>\n",
       "      <td>PUBLIC HEALTH DENTIST,DDS</td>\n",
       "      <td>Health &amp; Human Services</td>\n",
       "      <td>100791.0</td>\n",
       "      <td>White</td>\n",
       "      <td>Full Time</td>\n",
       "      <td>Female</td>\n",
       "      <td>Active</td>\n",
       "      <td>2015-12-28</td>\n",
       "      <td>2015-12-28</td>\n",
       "    </tr>\n",
       "    <tr>\n",
       "      <th>237</th>\n",
       "      <td>2438</td>\n",
       "      <td>ASSISTANT DIRECTOR (EXECUTIVE LEVEL)</td>\n",
       "      <td>Admn. &amp; Regulatory Affairs</td>\n",
       "      <td>130416.0</td>\n",
       "      <td>Asian/Pacific Islander</td>\n",
       "      <td>Full Time</td>\n",
       "      <td>Female</td>\n",
       "      <td>Active</td>\n",
       "      <td>2002-05-24</td>\n",
       "      <td>2013-07-20</td>\n",
       "    </tr>\n",
       "    <tr>\n",
       "      <th>366</th>\n",
       "      <td>8989</td>\n",
       "      <td>DEPUTY ASSISTANT DIRECTOR (EXECUTIVE LEV</td>\n",
       "      <td>Mayor's Office</td>\n",
       "      <td>110000.0</td>\n",
       "      <td>White</td>\n",
       "      <td>Full Time</td>\n",
       "      <td>Female</td>\n",
       "      <td>Active</td>\n",
       "      <td>2014-05-13</td>\n",
       "      <td>2014-05-13</td>\n",
       "    </tr>\n",
       "    <tr>\n",
       "      <th>522</th>\n",
       "      <td>3997</td>\n",
       "      <td>DEPUTY ASSISTANT DIRECTOR (EX LVL)</td>\n",
       "      <td>Houston Airport System (HAS)</td>\n",
       "      <td>110686.0</td>\n",
       "      <td>Black or African American</td>\n",
       "      <td>Full Time</td>\n",
       "      <td>Female</td>\n",
       "      <td>Active</td>\n",
       "      <td>2011-11-07</td>\n",
       "      <td>2011-11-07</td>\n",
       "    </tr>\n",
       "  </tbody>\n",
       "</table>\n",
       "</div>"
      ],
      "text/plain": [
       "     UNIQUE_ID                            POSITION_TITLE  \\\n",
       "0         5906               ASSISTANT DIRECTOR (EX LVL)   \n",
       "66        7369                 PUBLIC HEALTH DENTIST,DDS   \n",
       "237       2438      ASSISTANT DIRECTOR (EXECUTIVE LEVEL)   \n",
       "366       8989  DEPUTY ASSISTANT DIRECTOR (EXECUTIVE LEV   \n",
       "522       3997        DEPUTY ASSISTANT DIRECTOR (EX LVL)   \n",
       "\n",
       "                       DEPARTMENT  BASE_SALARY                       RACE  \\\n",
       "0     Municipal Courts Department     121862.0            Hispanic/Latino   \n",
       "66        Health & Human Services     100791.0                      White   \n",
       "237    Admn. & Regulatory Affairs     130416.0     Asian/Pacific Islander   \n",
       "366                Mayor's Office     110000.0                      White   \n",
       "522  Houston Airport System (HAS)     110686.0  Black or African American   \n",
       "\n",
       "    EMPLOYMENT_TYPE  GENDER EMPLOYMENT_STATUS   HIRE_DATE    JOB_DATE  \n",
       "0         Full Time  Female            Active  2006-06-12  2012-10-13  \n",
       "66        Full Time  Female            Active  2015-12-28  2015-12-28  \n",
       "237       Full Time  Female            Active  2002-05-24  2013-07-20  \n",
       "366       Full Time  Female            Active  2014-05-13  2014-05-13  \n",
       "522       Full Time  Female            Active  2011-11-07  2011-11-07  "
      ]
     },
     "execution_count": 4,
     "metadata": {},
     "output_type": "execute_result"
    }
   ],
   "source": [
    "# find people with make more 100,000 and are female\n",
    "criteria = (employee['BASE_SALARY'] > 100000) & (employee['GENDER'] == 'Female')\n",
    "employee[criteria].head()"
   ]
  },
  {
   "cell_type": "markdown",
   "metadata": {},
   "source": [
    "### Before getting started - get unique values\n",
    "You will often need to know the exact string name to do boolean indexing. Use either the **`unique`** or **`value_counts`** method to output the unique values. This will make it easier to make boolean indexing. I prefer using value_counts as it gives the frequencies as well."
   ]
  },
  {
   "cell_type": "code",
   "execution_count": 5,
   "metadata": {},
   "outputs": [
    {
     "data": {
      "text/plain": [
       "Houston Police Department-HPD     638\n",
       "Houston Fire Department (HFD)     384\n",
       "Public Works & Engineering-PWE    343\n",
       "Health & Human Services           110\n",
       "Houston Airport System (HAS)      106\n",
       "Parks & Recreation                 74\n",
       "Solid Waste Management             43\n",
       "Fleet Management Department        36\n",
       "Name: DEPARTMENT, dtype: int64"
      ]
     },
     "execution_count": 5,
     "metadata": {},
     "output_type": "execute_result"
    }
   ],
   "source": [
    "employee['DEPARTMENT'].value_counts().head(8)"
   ]
  },
  {
   "cell_type": "code",
   "execution_count": 6,
   "metadata": {},
   "outputs": [
    {
     "data": {
      "text/plain": [
       "array(['Hispanic/Latino', 'White', 'Black or African American',\n",
       "       'Asian/Pacific Islander', nan, 'American Indian or Alaskan Native',\n",
       "       'Others'], dtype=object)"
      ]
     },
     "execution_count": 6,
     "metadata": {},
     "output_type": "execute_result"
    }
   ],
   "source": [
    "employee['RACE'].unique() # returns a numpy array"
   ]
  },
  {
   "cell_type": "code",
   "execution_count": 7,
   "metadata": {},
   "outputs": [
    {
     "data": {
      "text/plain": [
       "Black or African American            700\n",
       "White                                665\n",
       "Hispanic/Latino                      480\n",
       "Asian/Pacific Islander               107\n",
       "American Indian or Alaskan Native     11\n",
       "Others                                 2\n",
       "Name: RACE, dtype: int64"
      ]
     },
     "execution_count": 7,
     "metadata": {},
     "output_type": "execute_result"
    }
   ],
   "source": [
    "employee['RACE'].value_counts()"
   ]
  },
  {
   "cell_type": "code",
   "execution_count": 8,
   "metadata": {},
   "outputs": [
    {
     "data": {
      "text/plain": [
       "Male      1397\n",
       "Female     603\n",
       "Name: GENDER, dtype: int64"
      ]
     },
     "execution_count": 8,
     "metadata": {},
     "output_type": "execute_result"
    }
   ],
   "source": [
    "employee['GENDER'].value_counts()"
   ]
  },
  {
   "cell_type": "code",
   "execution_count": 9,
   "metadata": {},
   "outputs": [
    {
     "data": {
      "text/plain": [
       "SENIOR POLICE OFFICER        220\n",
       "POLICE OFFICER               184\n",
       "FIRE FIGHTER                 138\n",
       "POLICE SERGEANT               98\n",
       "ENGINEER/OPERATOR             89\n",
       "CAPTAIN                       47\n",
       "UTILITY WORKER                40\n",
       "INSPECTOR                     36\n",
       "EQUIPMENT WORKER              33\n",
       "ADMINISTRATIVE ASSISTANT      28\n",
       "FIELD SUPERVISOR              23\n",
       "ADMINISTRATIVE SPECIALIST     22\n",
       "FIRE FIGHTER,PROBATIONARY     21\n",
       "LABORER                       20\n",
       "CUSTOMER SERVICE CLERK        20\n",
       "Name: POSITION_TITLE, dtype: int64"
      ]
     },
     "execution_count": 9,
     "metadata": {},
     "output_type": "execute_result"
    }
   ],
   "source": [
    "employee['POSITION_TITLE'].value_counts().head(15)"
   ]
  },
  {
   "cell_type": "code",
   "execution_count": 10,
   "metadata": {},
   "outputs": [
    {
     "data": {
      "text/plain": [
       "Active      1991\n",
       "Inactive       9\n",
       "Name: EMPLOYMENT_STATUS, dtype: int64"
      ]
     },
     "execution_count": 10,
     "metadata": {},
     "output_type": "execute_result"
    }
   ],
   "source": [
    "employee['EMPLOYMENT_STATUS'].value_counts()"
   ]
  },
  {
   "cell_type": "code",
   "execution_count": 11,
   "metadata": {},
   "outputs": [
    {
     "data": {
      "text/plain": [
       "count      1886.000000\n",
       "mean      55767.931601\n",
       "std       21693.706679\n",
       "min       24960.000000\n",
       "25%       40170.000000\n",
       "50%       54461.000000\n",
       "75%       66614.000000\n",
       "max      275000.000000\n",
       "Name: BASE_SALARY, dtype: float64"
      ]
     },
     "execution_count": 11,
     "metadata": {},
     "output_type": "execute_result"
    }
   ],
   "source": [
    "employee['BASE_SALARY'].describe()"
   ]
  },
  {
   "cell_type": "markdown",
   "metadata": {},
   "source": [
    "## Boolean Indexing examples\n",
    "Now that we know the unique values we can do some boolean indexing. Here are some complex examples"
   ]
  },
  {
   "cell_type": "code",
   "execution_count": 12,
   "metadata": {
    "collapsed": true
   },
   "outputs": [],
   "source": [
    "# find the white female police officers\n",
    "\n",
    "criteria_dept = employee['DEPARTMENT'] == 'Houston Police Department-HPD'\n",
    "criteria_race = employee['RACE'] == 'White'\n",
    "criteria_gender = employee['GENDER'] == 'Female'\n",
    "criteria_all = criteria_dept & criteria_race & criteria_gender"
   ]
  },
  {
   "cell_type": "code",
   "execution_count": 13,
   "metadata": {},
   "outputs": [
    {
     "data": {
      "text/html": [
       "<div>\n",
       "<style>\n",
       "    .dataframe thead tr:only-child th {\n",
       "        text-align: right;\n",
       "    }\n",
       "\n",
       "    .dataframe thead th {\n",
       "        text-align: left;\n",
       "    }\n",
       "\n",
       "    .dataframe tbody tr th {\n",
       "        vertical-align: top;\n",
       "    }\n",
       "</style>\n",
       "<table border=\"1\" class=\"dataframe\">\n",
       "  <thead>\n",
       "    <tr style=\"text-align: right;\">\n",
       "      <th></th>\n",
       "      <th>UNIQUE_ID</th>\n",
       "      <th>POSITION_TITLE</th>\n",
       "      <th>DEPARTMENT</th>\n",
       "      <th>BASE_SALARY</th>\n",
       "      <th>RACE</th>\n",
       "      <th>EMPLOYMENT_TYPE</th>\n",
       "      <th>GENDER</th>\n",
       "      <th>EMPLOYMENT_STATUS</th>\n",
       "      <th>HIRE_DATE</th>\n",
       "      <th>JOB_DATE</th>\n",
       "    </tr>\n",
       "  </thead>\n",
       "  <tbody>\n",
       "    <tr>\n",
       "      <th>136</th>\n",
       "      <td>900</td>\n",
       "      <td>POLICE SERGEANT</td>\n",
       "      <td>Houston Police Department-HPD</td>\n",
       "      <td>81239.0</td>\n",
       "      <td>White</td>\n",
       "      <td>Full Time</td>\n",
       "      <td>Female</td>\n",
       "      <td>Active</td>\n",
       "      <td>1991-02-04</td>\n",
       "      <td>2005-02-12</td>\n",
       "    </tr>\n",
       "    <tr>\n",
       "      <th>185</th>\n",
       "      <td>1323</td>\n",
       "      <td>SENIOR POLICE OFFICER</td>\n",
       "      <td>Houston Police Department-HPD</td>\n",
       "      <td>66614.0</td>\n",
       "      <td>White</td>\n",
       "      <td>Full Time</td>\n",
       "      <td>Female</td>\n",
       "      <td>Active</td>\n",
       "      <td>1989-10-05</td>\n",
       "      <td>2005-03-26</td>\n",
       "    </tr>\n",
       "    <tr>\n",
       "      <th>227</th>\n",
       "      <td>1147</td>\n",
       "      <td>SENIOR POLICE TELECOMMUNICATOR</td>\n",
       "      <td>Houston Police Department-HPD</td>\n",
       "      <td>46675.0</td>\n",
       "      <td>White</td>\n",
       "      <td>Full Time</td>\n",
       "      <td>Female</td>\n",
       "      <td>Active</td>\n",
       "      <td>2011-03-21</td>\n",
       "      <td>2012-07-07</td>\n",
       "    </tr>\n",
       "    <tr>\n",
       "      <th>229</th>\n",
       "      <td>4397</td>\n",
       "      <td>SENIOR POLICE OFFICER</td>\n",
       "      <td>Houston Police Department-HPD</td>\n",
       "      <td>66614.0</td>\n",
       "      <td>White</td>\n",
       "      <td>Full Time</td>\n",
       "      <td>Female</td>\n",
       "      <td>Active</td>\n",
       "      <td>1996-07-29</td>\n",
       "      <td>2009-02-21</td>\n",
       "    </tr>\n",
       "    <tr>\n",
       "      <th>343</th>\n",
       "      <td>2282</td>\n",
       "      <td>POLICE OFFICER</td>\n",
       "      <td>Houston Police Department-HPD</td>\n",
       "      <td>60347.0</td>\n",
       "      <td>White</td>\n",
       "      <td>Full Time</td>\n",
       "      <td>Female</td>\n",
       "      <td>Active</td>\n",
       "      <td>2001-12-03</td>\n",
       "      <td>2002-12-03</td>\n",
       "    </tr>\n",
       "  </tbody>\n",
       "</table>\n",
       "</div>"
      ],
      "text/plain": [
       "     UNIQUE_ID                  POSITION_TITLE                     DEPARTMENT  \\\n",
       "136        900                 POLICE SERGEANT  Houston Police Department-HPD   \n",
       "185       1323           SENIOR POLICE OFFICER  Houston Police Department-HPD   \n",
       "227       1147  SENIOR POLICE TELECOMMUNICATOR  Houston Police Department-HPD   \n",
       "229       4397           SENIOR POLICE OFFICER  Houston Police Department-HPD   \n",
       "343       2282                  POLICE OFFICER  Houston Police Department-HPD   \n",
       "\n",
       "     BASE_SALARY   RACE EMPLOYMENT_TYPE  GENDER EMPLOYMENT_STATUS   HIRE_DATE  \\\n",
       "136      81239.0  White       Full Time  Female            Active  1991-02-04   \n",
       "185      66614.0  White       Full Time  Female            Active  1989-10-05   \n",
       "227      46675.0  White       Full Time  Female            Active  2011-03-21   \n",
       "229      66614.0  White       Full Time  Female            Active  1996-07-29   \n",
       "343      60347.0  White       Full Time  Female            Active  2001-12-03   \n",
       "\n",
       "       JOB_DATE  \n",
       "136  2005-02-12  \n",
       "185  2005-03-26  \n",
       "227  2012-07-07  \n",
       "229  2009-02-21  \n",
       "343  2002-12-03  "
      ]
     },
     "execution_count": 13,
     "metadata": {},
     "output_type": "execute_result"
    }
   ],
   "source": [
    "employee[criteria_all].head()"
   ]
  },
  {
   "cell_type": "code",
   "execution_count": 14,
   "metadata": {},
   "outputs": [
    {
     "data": {
      "text/html": [
       "<div>\n",
       "<style>\n",
       "    .dataframe thead tr:only-child th {\n",
       "        text-align: right;\n",
       "    }\n",
       "\n",
       "    .dataframe thead th {\n",
       "        text-align: left;\n",
       "    }\n",
       "\n",
       "    .dataframe tbody tr th {\n",
       "        vertical-align: top;\n",
       "    }\n",
       "</style>\n",
       "<table border=\"1\" class=\"dataframe\">\n",
       "  <thead>\n",
       "    <tr style=\"text-align: right;\">\n",
       "      <th></th>\n",
       "      <th>UNIQUE_ID</th>\n",
       "      <th>POSITION_TITLE</th>\n",
       "      <th>DEPARTMENT</th>\n",
       "      <th>BASE_SALARY</th>\n",
       "      <th>RACE</th>\n",
       "      <th>EMPLOYMENT_TYPE</th>\n",
       "      <th>GENDER</th>\n",
       "      <th>EMPLOYMENT_STATUS</th>\n",
       "      <th>HIRE_DATE</th>\n",
       "      <th>JOB_DATE</th>\n",
       "    </tr>\n",
       "  </thead>\n",
       "  <tbody>\n",
       "    <tr>\n",
       "      <th>136</th>\n",
       "      <td>900</td>\n",
       "      <td>POLICE SERGEANT</td>\n",
       "      <td>Houston Police Department-HPD</td>\n",
       "      <td>81239.0</td>\n",
       "      <td>White</td>\n",
       "      <td>Full Time</td>\n",
       "      <td>Female</td>\n",
       "      <td>Active</td>\n",
       "      <td>1991-02-04</td>\n",
       "      <td>2005-02-12</td>\n",
       "    </tr>\n",
       "    <tr>\n",
       "      <th>185</th>\n",
       "      <td>1323</td>\n",
       "      <td>SENIOR POLICE OFFICER</td>\n",
       "      <td>Houston Police Department-HPD</td>\n",
       "      <td>66614.0</td>\n",
       "      <td>White</td>\n",
       "      <td>Full Time</td>\n",
       "      <td>Female</td>\n",
       "      <td>Active</td>\n",
       "      <td>1989-10-05</td>\n",
       "      <td>2005-03-26</td>\n",
       "    </tr>\n",
       "    <tr>\n",
       "      <th>227</th>\n",
       "      <td>1147</td>\n",
       "      <td>SENIOR POLICE TELECOMMUNICATOR</td>\n",
       "      <td>Houston Police Department-HPD</td>\n",
       "      <td>46675.0</td>\n",
       "      <td>White</td>\n",
       "      <td>Full Time</td>\n",
       "      <td>Female</td>\n",
       "      <td>Active</td>\n",
       "      <td>2011-03-21</td>\n",
       "      <td>2012-07-07</td>\n",
       "    </tr>\n",
       "    <tr>\n",
       "      <th>229</th>\n",
       "      <td>4397</td>\n",
       "      <td>SENIOR POLICE OFFICER</td>\n",
       "      <td>Houston Police Department-HPD</td>\n",
       "      <td>66614.0</td>\n",
       "      <td>White</td>\n",
       "      <td>Full Time</td>\n",
       "      <td>Female</td>\n",
       "      <td>Active</td>\n",
       "      <td>1996-07-29</td>\n",
       "      <td>2009-02-21</td>\n",
       "    </tr>\n",
       "    <tr>\n",
       "      <th>343</th>\n",
       "      <td>2282</td>\n",
       "      <td>POLICE OFFICER</td>\n",
       "      <td>Houston Police Department-HPD</td>\n",
       "      <td>60347.0</td>\n",
       "      <td>White</td>\n",
       "      <td>Full Time</td>\n",
       "      <td>Female</td>\n",
       "      <td>Active</td>\n",
       "      <td>2001-12-03</td>\n",
       "      <td>2002-12-03</td>\n",
       "    </tr>\n",
       "  </tbody>\n",
       "</table>\n",
       "</div>"
      ],
      "text/plain": [
       "     UNIQUE_ID                  POSITION_TITLE                     DEPARTMENT  \\\n",
       "136        900                 POLICE SERGEANT  Houston Police Department-HPD   \n",
       "185       1323           SENIOR POLICE OFFICER  Houston Police Department-HPD   \n",
       "227       1147  SENIOR POLICE TELECOMMUNICATOR  Houston Police Department-HPD   \n",
       "229       4397           SENIOR POLICE OFFICER  Houston Police Department-HPD   \n",
       "343       2282                  POLICE OFFICER  Houston Police Department-HPD   \n",
       "\n",
       "     BASE_SALARY   RACE EMPLOYMENT_TYPE  GENDER EMPLOYMENT_STATUS   HIRE_DATE  \\\n",
       "136      81239.0  White       Full Time  Female            Active  1991-02-04   \n",
       "185      66614.0  White       Full Time  Female            Active  1989-10-05   \n",
       "227      46675.0  White       Full Time  Female            Active  2011-03-21   \n",
       "229      66614.0  White       Full Time  Female            Active  1996-07-29   \n",
       "343      60347.0  White       Full Time  Female            Active  2001-12-03   \n",
       "\n",
       "       JOB_DATE  \n",
       "136  2005-02-12  \n",
       "185  2005-03-26  \n",
       "227  2012-07-07  \n",
       "229  2009-02-21  \n",
       "343  2002-12-03  "
      ]
     },
     "execution_count": 14,
     "metadata": {},
     "output_type": "execute_result"
    }
   ],
   "source": [
    "# find the white female police officers or the Asian male firefighters\n",
    "\n",
    "criteria_dept1 = employee['DEPARTMENT'] == 'Houston Police Department-HPD'\n",
    "criteria_race1 = employee['RACE'] == 'White'\n",
    "criteria_gender1 = employee['GENDER'] == 'Female'\n",
    "criteria1 = criteria_dept1 & criteria_race1 & criteria_gender1\n",
    "\n",
    "criteria_dept2 = employee['DEPARTMENT'] == 'Houston Fire Department (HFD)'\n",
    "criteria_race2 = employee['RACE'] == 'Asian/Pacific Islander'\n",
    "criteria_gender2 = employee['GENDER'] == 'Male'\n",
    "criteria2 = criteria_dept2 & criteria_race2 & criteria_gender2\n",
    "\n",
    "employee[criteria1 | criteria2].head()"
   ]
  },
  {
   "cell_type": "code",
   "execution_count": 15,
   "metadata": {},
   "outputs": [
    {
     "data": {
      "text/html": [
       "<div>\n",
       "<style>\n",
       "    .dataframe thead tr:only-child th {\n",
       "        text-align: right;\n",
       "    }\n",
       "\n",
       "    .dataframe thead th {\n",
       "        text-align: left;\n",
       "    }\n",
       "\n",
       "    .dataframe tbody tr th {\n",
       "        vertical-align: top;\n",
       "    }\n",
       "</style>\n",
       "<table border=\"1\" class=\"dataframe\">\n",
       "  <thead>\n",
       "    <tr style=\"text-align: right;\">\n",
       "      <th></th>\n",
       "      <th>UNIQUE_ID</th>\n",
       "      <th>POSITION_TITLE</th>\n",
       "      <th>DEPARTMENT</th>\n",
       "      <th>BASE_SALARY</th>\n",
       "      <th>RACE</th>\n",
       "      <th>EMPLOYMENT_TYPE</th>\n",
       "      <th>GENDER</th>\n",
       "      <th>EMPLOYMENT_STATUS</th>\n",
       "      <th>HIRE_DATE</th>\n",
       "      <th>JOB_DATE</th>\n",
       "    </tr>\n",
       "  </thead>\n",
       "  <tbody>\n",
       "    <tr>\n",
       "      <th>11</th>\n",
       "      <td>3347</td>\n",
       "      <td>CHIEF PHYSICIAN,MD</td>\n",
       "      <td>Health &amp; Human Services</td>\n",
       "      <td>180416.0</td>\n",
       "      <td>Black or African American</td>\n",
       "      <td>Full Time</td>\n",
       "      <td>Male</td>\n",
       "      <td>Active</td>\n",
       "      <td>1987-05-22</td>\n",
       "      <td>1999-08-28</td>\n",
       "    </tr>\n",
       "    <tr>\n",
       "      <th>12</th>\n",
       "      <td>107</td>\n",
       "      <td>CUSTOMER SERVICE REPRESENTATIVE I</td>\n",
       "      <td>Public Works &amp; Engineering-PWE</td>\n",
       "      <td>30347.0</td>\n",
       "      <td>Black or African American</td>\n",
       "      <td>Full Time</td>\n",
       "      <td>Male</td>\n",
       "      <td>Active</td>\n",
       "      <td>2015-11-16</td>\n",
       "      <td>2015-11-16</td>\n",
       "    </tr>\n",
       "    <tr>\n",
       "      <th>29</th>\n",
       "      <td>1859</td>\n",
       "      <td>UTILITY WORKER</td>\n",
       "      <td>Public Works &amp; Engineering-PWE</td>\n",
       "      <td>29557.0</td>\n",
       "      <td>Black or African American</td>\n",
       "      <td>Full Time</td>\n",
       "      <td>Male</td>\n",
       "      <td>Active</td>\n",
       "      <td>2014-01-21</td>\n",
       "      <td>2014-01-21</td>\n",
       "    </tr>\n",
       "    <tr>\n",
       "      <th>31</th>\n",
       "      <td>7798</td>\n",
       "      <td>FIRE FIGHTER TRAINEE</td>\n",
       "      <td>Houston Fire Department (HFD)</td>\n",
       "      <td>28024.0</td>\n",
       "      <td>NaN</td>\n",
       "      <td>Full Time</td>\n",
       "      <td>Male</td>\n",
       "      <td>Active</td>\n",
       "      <td>2016-03-14</td>\n",
       "      <td>2016-03-14</td>\n",
       "    </tr>\n",
       "    <tr>\n",
       "      <th>39</th>\n",
       "      <td>3956</td>\n",
       "      <td>INVENTORY MANAGEMENT SUPERVISOR</td>\n",
       "      <td>Public Works &amp; Engineering-PWE</td>\n",
       "      <td>38168.0</td>\n",
       "      <td>Black or African American</td>\n",
       "      <td>Full Time</td>\n",
       "      <td>Male</td>\n",
       "      <td>Active</td>\n",
       "      <td>2008-09-08</td>\n",
       "      <td>2015-04-11</td>\n",
       "    </tr>\n",
       "  </tbody>\n",
       "</table>\n",
       "</div>"
      ],
      "text/plain": [
       "    UNIQUE_ID                     POSITION_TITLE  \\\n",
       "11       3347                 CHIEF PHYSICIAN,MD   \n",
       "12        107  CUSTOMER SERVICE REPRESENTATIVE I   \n",
       "29       1859                     UTILITY WORKER   \n",
       "31       7798               FIRE FIGHTER TRAINEE   \n",
       "39       3956    INVENTORY MANAGEMENT SUPERVISOR   \n",
       "\n",
       "                        DEPARTMENT  BASE_SALARY                       RACE  \\\n",
       "11         Health & Human Services     180416.0  Black or African American   \n",
       "12  Public Works & Engineering-PWE      30347.0  Black or African American   \n",
       "29  Public Works & Engineering-PWE      29557.0  Black or African American   \n",
       "31   Houston Fire Department (HFD)      28024.0                        NaN   \n",
       "39  Public Works & Engineering-PWE      38168.0  Black or African American   \n",
       "\n",
       "   EMPLOYMENT_TYPE GENDER EMPLOYMENT_STATUS   HIRE_DATE    JOB_DATE  \n",
       "11       Full Time   Male            Active  1987-05-22  1999-08-28  \n",
       "12       Full Time   Male            Active  2015-11-16  2015-11-16  \n",
       "29       Full Time   Male            Active  2014-01-21  2014-01-21  \n",
       "31       Full Time   Male            Active  2016-03-14  2016-03-14  \n",
       "39       Full Time   Male            Active  2008-09-08  2015-04-11  "
      ]
     },
     "execution_count": 15,
     "metadata": {},
     "output_type": "execute_result"
    }
   ],
   "source": [
    "# select all the males who have a salary below 40,000 or above 150,000\n",
    "\n",
    "criteria_gender = employee['GENDER'] == 'Male'\n",
    "criteria_salary = (employee['BASE_SALARY'] < 40000) | (employee['BASE_SALARY'] > 150000)\n",
    "criteria = criteria_gender & criteria_salary\n",
    "\n",
    "employee[criteria].head()"
   ]
  },
  {
   "cell_type": "markdown",
   "metadata": {},
   "source": [
    "### Use **`isin`** to test for membership in a group\n",
    "**`isin`** is a powerful Series method that tests whether each value is a member of a given list."
   ]
  },
  {
   "cell_type": "code",
   "execution_count": 16,
   "metadata": {},
   "outputs": [
    {
     "data": {
      "text/html": [
       "<div>\n",
       "<style>\n",
       "    .dataframe thead tr:only-child th {\n",
       "        text-align: right;\n",
       "    }\n",
       "\n",
       "    .dataframe thead th {\n",
       "        text-align: left;\n",
       "    }\n",
       "\n",
       "    .dataframe tbody tr th {\n",
       "        vertical-align: top;\n",
       "    }\n",
       "</style>\n",
       "<table border=\"1\" class=\"dataframe\">\n",
       "  <thead>\n",
       "    <tr style=\"text-align: right;\">\n",
       "      <th></th>\n",
       "      <th>UNIQUE_ID</th>\n",
       "      <th>POSITION_TITLE</th>\n",
       "      <th>DEPARTMENT</th>\n",
       "      <th>BASE_SALARY</th>\n",
       "      <th>RACE</th>\n",
       "      <th>EMPLOYMENT_TYPE</th>\n",
       "      <th>GENDER</th>\n",
       "      <th>EMPLOYMENT_STATUS</th>\n",
       "      <th>HIRE_DATE</th>\n",
       "      <th>JOB_DATE</th>\n",
       "    </tr>\n",
       "  </thead>\n",
       "  <tbody>\n",
       "    <tr>\n",
       "      <th>75</th>\n",
       "      <td>5811</td>\n",
       "      <td>ADMINISTRATIVE AIDE</td>\n",
       "      <td>Houston Airport System (HAS)</td>\n",
       "      <td>36296.0</td>\n",
       "      <td>White</td>\n",
       "      <td>Full Time</td>\n",
       "      <td>Female</td>\n",
       "      <td>Active</td>\n",
       "      <td>1999-07-12</td>\n",
       "      <td>2003-08-23</td>\n",
       "    </tr>\n",
       "    <tr>\n",
       "      <th>92</th>\n",
       "      <td>9622</td>\n",
       "      <td>CUSTODIAN</td>\n",
       "      <td>Parks &amp; Recreation</td>\n",
       "      <td>26125.0</td>\n",
       "      <td>Black or African American</td>\n",
       "      <td>Full Time</td>\n",
       "      <td>Female</td>\n",
       "      <td>Active</td>\n",
       "      <td>1993-10-02</td>\n",
       "      <td>1993-10-02</td>\n",
       "    </tr>\n",
       "    <tr>\n",
       "      <th>99</th>\n",
       "      <td>1810</td>\n",
       "      <td>LABORER</td>\n",
       "      <td>Houston Airport System (HAS)</td>\n",
       "      <td>26125.0</td>\n",
       "      <td>Hispanic/Latino</td>\n",
       "      <td>Full Time</td>\n",
       "      <td>Female</td>\n",
       "      <td>Active</td>\n",
       "      <td>2001-11-19</td>\n",
       "      <td>2010-04-17</td>\n",
       "    </tr>\n",
       "    <tr>\n",
       "      <th>218</th>\n",
       "      <td>4272</td>\n",
       "      <td>ADMINISTRATIVE AIDE</td>\n",
       "      <td>Solid Waste Management</td>\n",
       "      <td>37045.0</td>\n",
       "      <td>Black or African American</td>\n",
       "      <td>Full Time</td>\n",
       "      <td>Female</td>\n",
       "      <td>Active</td>\n",
       "      <td>2014-04-28</td>\n",
       "      <td>2014-04-28</td>\n",
       "    </tr>\n",
       "    <tr>\n",
       "      <th>249</th>\n",
       "      <td>7641</td>\n",
       "      <td>STAFF ANALYST</td>\n",
       "      <td>Solid Waste Management</td>\n",
       "      <td>75041.0</td>\n",
       "      <td>Hispanic/Latino</td>\n",
       "      <td>Full Time</td>\n",
       "      <td>Female</td>\n",
       "      <td>Active</td>\n",
       "      <td>1992-10-21</td>\n",
       "      <td>2015-07-18</td>\n",
       "    </tr>\n",
       "  </tbody>\n",
       "</table>\n",
       "</div>"
      ],
      "text/plain": [
       "     UNIQUE_ID       POSITION_TITLE                    DEPARTMENT  \\\n",
       "75        5811  ADMINISTRATIVE AIDE  Houston Airport System (HAS)   \n",
       "92        9622            CUSTODIAN            Parks & Recreation   \n",
       "99        1810              LABORER  Houston Airport System (HAS)   \n",
       "218       4272  ADMINISTRATIVE AIDE        Solid Waste Management   \n",
       "249       7641        STAFF ANALYST        Solid Waste Management   \n",
       "\n",
       "     BASE_SALARY                       RACE EMPLOYMENT_TYPE  GENDER  \\\n",
       "75       36296.0                      White       Full Time  Female   \n",
       "92       26125.0  Black or African American       Full Time  Female   \n",
       "99       26125.0            Hispanic/Latino       Full Time  Female   \n",
       "218      37045.0  Black or African American       Full Time  Female   \n",
       "249      75041.0            Hispanic/Latino       Full Time  Female   \n",
       "\n",
       "    EMPLOYMENT_STATUS   HIRE_DATE    JOB_DATE  \n",
       "75             Active  1999-07-12  2003-08-23  \n",
       "92             Active  1993-10-02  1993-10-02  \n",
       "99             Active  2001-11-19  2010-04-17  \n",
       "218            Active  2014-04-28  2014-04-28  \n",
       "249            Active  1992-10-21  2015-07-18  "
      ]
     },
     "execution_count": 16,
     "metadata": {},
     "output_type": "execute_result"
    }
   ],
   "source": [
    "# find all the females in three departments\n",
    "depts = ['Houston Airport System (HAS)','Parks & Recreation','Solid Waste Management']\n",
    "criteria = employee['DEPARTMENT'].isin(depts) & (employee['GENDER'] == 'Female')\n",
    "employee[criteria].head()"
   ]
  },
  {
   "cell_type": "markdown",
   "metadata": {},
   "source": [
    "## Boolean indexing with .loc and .iloc\n",
    "Notice how all the examples above select all the columns. You can select the columns you want by using our trusty indexers **`.iloc`** and **`.loc`**. You do this by passing the columns you desire after the **comma**. Typically, you only use **`.loc`** when doing boolean indexing and column selection because columns are easily identified by their string names.\n",
    "\n",
    "Let's do some of the same boolean indexing as above but select only the columns that are involved in the criteria."
   ]
  },
  {
   "cell_type": "code",
   "execution_count": 17,
   "metadata": {},
   "outputs": [
    {
     "data": {
      "text/html": [
       "<div>\n",
       "<style>\n",
       "    .dataframe thead tr:only-child th {\n",
       "        text-align: right;\n",
       "    }\n",
       "\n",
       "    .dataframe thead th {\n",
       "        text-align: left;\n",
       "    }\n",
       "\n",
       "    .dataframe tbody tr th {\n",
       "        vertical-align: top;\n",
       "    }\n",
       "</style>\n",
       "<table border=\"1\" class=\"dataframe\">\n",
       "  <thead>\n",
       "    <tr style=\"text-align: right;\">\n",
       "      <th></th>\n",
       "      <th>GENDER</th>\n",
       "      <th>BASE_SALARY</th>\n",
       "    </tr>\n",
       "  </thead>\n",
       "  <tbody>\n",
       "    <tr>\n",
       "      <th>11</th>\n",
       "      <td>Male</td>\n",
       "      <td>180416.0</td>\n",
       "    </tr>\n",
       "    <tr>\n",
       "      <th>12</th>\n",
       "      <td>Male</td>\n",
       "      <td>30347.0</td>\n",
       "    </tr>\n",
       "    <tr>\n",
       "      <th>29</th>\n",
       "      <td>Male</td>\n",
       "      <td>29557.0</td>\n",
       "    </tr>\n",
       "    <tr>\n",
       "      <th>31</th>\n",
       "      <td>Male</td>\n",
       "      <td>28024.0</td>\n",
       "    </tr>\n",
       "    <tr>\n",
       "      <th>39</th>\n",
       "      <td>Male</td>\n",
       "      <td>38168.0</td>\n",
       "    </tr>\n",
       "  </tbody>\n",
       "</table>\n",
       "</div>"
      ],
      "text/plain": [
       "   GENDER  BASE_SALARY\n",
       "11   Male     180416.0\n",
       "12   Male      30347.0\n",
       "29   Male      29557.0\n",
       "31   Male      28024.0\n",
       "39   Male      38168.0"
      ]
     },
     "execution_count": 17,
     "metadata": {},
     "output_type": "execute_result"
    }
   ],
   "source": [
    "# select all the males who have a salary below 40,000 or above 150,000\n",
    "\n",
    "criteria_gender = employee['GENDER'] == 'Male'\n",
    "criteria_salary = (employee['BASE_SALARY'] < 40000) | (employee['BASE_SALARY'] > 150000)\n",
    "criteria = criteria_gender & criteria_salary\n",
    "\n",
    "employee.loc[criteria, ['GENDER', 'BASE_SALARY']].head()"
   ]
  },
  {
   "cell_type": "code",
   "execution_count": 18,
   "metadata": {},
   "outputs": [
    {
     "data": {
      "text/html": [
       "<div>\n",
       "<style>\n",
       "    .dataframe thead tr:only-child th {\n",
       "        text-align: right;\n",
       "    }\n",
       "\n",
       "    .dataframe thead th {\n",
       "        text-align: left;\n",
       "    }\n",
       "\n",
       "    .dataframe tbody tr th {\n",
       "        vertical-align: top;\n",
       "    }\n",
       "</style>\n",
       "<table border=\"1\" class=\"dataframe\">\n",
       "  <thead>\n",
       "    <tr style=\"text-align: right;\">\n",
       "      <th></th>\n",
       "      <th>DEPARTMENT</th>\n",
       "      <th>RACE</th>\n",
       "      <th>GENDER</th>\n",
       "    </tr>\n",
       "  </thead>\n",
       "  <tbody>\n",
       "    <tr>\n",
       "      <th>136</th>\n",
       "      <td>Houston Police Department-HPD</td>\n",
       "      <td>White</td>\n",
       "      <td>Female</td>\n",
       "    </tr>\n",
       "    <tr>\n",
       "      <th>185</th>\n",
       "      <td>Houston Police Department-HPD</td>\n",
       "      <td>White</td>\n",
       "      <td>Female</td>\n",
       "    </tr>\n",
       "    <tr>\n",
       "      <th>227</th>\n",
       "      <td>Houston Police Department-HPD</td>\n",
       "      <td>White</td>\n",
       "      <td>Female</td>\n",
       "    </tr>\n",
       "    <tr>\n",
       "      <th>229</th>\n",
       "      <td>Houston Police Department-HPD</td>\n",
       "      <td>White</td>\n",
       "      <td>Female</td>\n",
       "    </tr>\n",
       "    <tr>\n",
       "      <th>343</th>\n",
       "      <td>Houston Police Department-HPD</td>\n",
       "      <td>White</td>\n",
       "      <td>Female</td>\n",
       "    </tr>\n",
       "  </tbody>\n",
       "</table>\n",
       "</div>"
      ],
      "text/plain": [
       "                        DEPARTMENT   RACE  GENDER\n",
       "136  Houston Police Department-HPD  White  Female\n",
       "185  Houston Police Department-HPD  White  Female\n",
       "227  Houston Police Department-HPD  White  Female\n",
       "229  Houston Police Department-HPD  White  Female\n",
       "343  Houston Police Department-HPD  White  Female"
      ]
     },
     "execution_count": 18,
     "metadata": {},
     "output_type": "execute_result"
    }
   ],
   "source": [
    "# find the white female police officers or the Asian male firefighters\n",
    "\n",
    "criteria_dept1 = employee['DEPARTMENT'] == 'Houston Police Department-HPD'\n",
    "criteria_race1 = employee['RACE'] == 'White'\n",
    "criteria_gender1 = employee['GENDER'] == 'Female'\n",
    "criteria1 = criteria_dept1 & criteria_race1 & criteria_gender1\n",
    "\n",
    "criteria_dept2 = employee['DEPARTMENT'] == 'Houston Fire Department (HFD)'\n",
    "criteria_race2 = employee['RACE'] == 'Asian/Pacific Islander'\n",
    "criteria_gender2 = employee['GENDER'] == 'Male'\n",
    "criteria2 = criteria_dept2 & criteria_race2 & criteria_gender2\n",
    "\n",
    "employee.loc[criteria1 | criteria2, ['DEPARTMENT', 'RACE', 'GENDER']].head()"
   ]
  },
  {
   "cell_type": "markdown",
   "metadata": {},
   "source": [
    "## Using Boolean Selection to answer questions\n",
    "Many interesting questions can be answered after filtering the data."
   ]
  },
  {
   "cell_type": "markdown",
   "metadata": {},
   "source": [
    "### Do men or woman make more money?\n",
    "Boolean indexing can help answer this question. We first create two new DataFrames that are filtered for each gender and then find the mean of the salary. Men make about $5,000 more."
   ]
  },
  {
   "cell_type": "code",
   "execution_count": 19,
   "metadata": {
    "collapsed": true
   },
   "outputs": [],
   "source": [
    "# use .loc to do boolean and column selection\n",
    "men = employee.loc[employee['GENDER'] == 'Male', 'BASE_SALARY']\n",
    "women = employee.loc[employee['GENDER'] == 'Female', 'BASE_SALARY']"
   ]
  },
  {
   "cell_type": "code",
   "execution_count": 20,
   "metadata": {},
   "outputs": [
    {
     "data": {
      "text/plain": [
       "2    45279.0\n",
       "3    63166.0\n",
       "4    56347.0\n",
       "5    66614.0\n",
       "6    71680.0\n",
       "Name: BASE_SALARY, dtype: float64"
      ]
     },
     "execution_count": 20,
     "metadata": {},
     "output_type": "execute_result"
    }
   ],
   "source": [
    "men.head()"
   ]
  },
  {
   "cell_type": "code",
   "execution_count": 21,
   "metadata": {},
   "outputs": [
    {
     "data": {
      "text/plain": [
       "0     121862.0\n",
       "1      26125.0\n",
       "35     34923.0\n",
       "36     60258.0\n",
       "38     67499.0\n",
       "Name: BASE_SALARY, dtype: float64"
      ]
     },
     "execution_count": 21,
     "metadata": {},
     "output_type": "execute_result"
    }
   ],
   "source": [
    "women.head()"
   ]
  },
  {
   "cell_type": "code",
   "execution_count": 22,
   "metadata": {},
   "outputs": [
    {
     "data": {
      "text/plain": [
       "(57354.61191749427, 52168.3396880416)"
      ]
     },
     "execution_count": 22,
     "metadata": {},
     "output_type": "execute_result"
    }
   ],
   "source": [
    "men.mean(), women.mean()"
   ]
  },
  {
   "cell_type": "markdown",
   "metadata": {},
   "source": [
    "### Do Hispanic men or Black women employees make more money?"
   ]
  },
  {
   "cell_type": "code",
   "execution_count": 23,
   "metadata": {
    "collapsed": true
   },
   "outputs": [],
   "source": [
    "criteria_hm = (employee['GENDER'] == 'Male') & (employee['RACE'] == 'Hispanic/Latino')\n",
    "criteria_bw = (employee['GENDER'] == 'Female') & (employee['RACE'] == 'Black or African American')\n",
    "hisp_men = employee.loc[criteria_hm, 'BASE_SALARY']\n",
    "black_women = employee.loc[criteria_bw, 'BASE_SALARY']"
   ]
  },
  {
   "cell_type": "code",
   "execution_count": 24,
   "metadata": {},
   "outputs": [
    {
     "data": {
      "text/plain": [
       "(54782.81901840491, 48915.42123287671)"
      ]
     },
     "execution_count": 24,
     "metadata": {},
     "output_type": "execute_result"
    }
   ],
   "source": [
    "hisp_men.mean(), black_women.mean()"
   ]
  },
  {
   "cell_type": "markdown",
   "metadata": {},
   "source": [
    "### Is there a better way to answer this last couple questions?\n",
    "Yes! The **groupby** method allows for grouping of these categorical variables and will be explained in greater detail in a future lesson."
   ]
  },
  {
   "cell_type": "markdown",
   "metadata": {},
   "source": [
    "### What are the ratios of male to female for the fire department and heath and human services?\n",
    "We first filter the data here and then use **`value_counts`** with the **`normalize`** parameter set to **`True`** which returns relative frequencies."
   ]
  },
  {
   "cell_type": "code",
   "execution_count": 25,
   "metadata": {
    "collapsed": true
   },
   "outputs": [],
   "source": [
    "fd = employee.loc[employee['DEPARTMENT'] == 'Houston Fire Department (HFD)', 'GENDER']\n",
    "hhs = employee.loc[employee['DEPARTMENT'] == 'Health & Human Services', 'GENDER']"
   ]
  },
  {
   "cell_type": "code",
   "execution_count": 26,
   "metadata": {},
   "outputs": [
    {
     "data": {
      "text/plain": [
       "Male      0.945312\n",
       "Female    0.054688\n",
       "Name: GENDER, dtype: float64"
      ]
     },
     "execution_count": 26,
     "metadata": {},
     "output_type": "execute_result"
    }
   ],
   "source": [
    "fd.value_counts(normalize=True)"
   ]
  },
  {
   "cell_type": "code",
   "execution_count": 27,
   "metadata": {},
   "outputs": [
    {
     "data": {
      "text/plain": [
       "Female    0.754545\n",
       "Male      0.245455\n",
       "Name: GENDER, dtype: float64"
      ]
     },
     "execution_count": 27,
     "metadata": {},
     "output_type": "execute_result"
    }
   ],
   "source": [
    "hhs.value_counts(normalize=True)"
   ]
  },
  {
   "cell_type": "markdown",
   "metadata": {},
   "source": [
    "### Using boolean indexing to select an employee\n",
    "Let's practice selecting a single employee when the "
   ]
  },
  {
   "cell_type": "code",
   "execution_count": 28,
   "metadata": {},
   "outputs": [
    {
     "data": {
      "text/html": [
       "<div>\n",
       "<style>\n",
       "    .dataframe thead tr:only-child th {\n",
       "        text-align: right;\n",
       "    }\n",
       "\n",
       "    .dataframe thead th {\n",
       "        text-align: left;\n",
       "    }\n",
       "\n",
       "    .dataframe tbody tr th {\n",
       "        vertical-align: top;\n",
       "    }\n",
       "</style>\n",
       "<table border=\"1\" class=\"dataframe\">\n",
       "  <thead>\n",
       "    <tr style=\"text-align: right;\">\n",
       "      <th></th>\n",
       "      <th>UNIQUE_ID</th>\n",
       "      <th>POSITION_TITLE</th>\n",
       "      <th>DEPARTMENT</th>\n",
       "      <th>BASE_SALARY</th>\n",
       "      <th>RACE</th>\n",
       "      <th>EMPLOYMENT_TYPE</th>\n",
       "      <th>GENDER</th>\n",
       "      <th>EMPLOYMENT_STATUS</th>\n",
       "      <th>HIRE_DATE</th>\n",
       "      <th>JOB_DATE</th>\n",
       "    </tr>\n",
       "  </thead>\n",
       "  <tbody>\n",
       "    <tr>\n",
       "      <th>3</th>\n",
       "      <td>8789</td>\n",
       "      <td>ENGINEER/OPERATOR</td>\n",
       "      <td>Houston Fire Department (HFD)</td>\n",
       "      <td>63166.0</td>\n",
       "      <td>White</td>\n",
       "      <td>Full Time</td>\n",
       "      <td>Male</td>\n",
       "      <td>Active</td>\n",
       "      <td>1982-02-08</td>\n",
       "      <td>1991-05-25</td>\n",
       "    </tr>\n",
       "  </tbody>\n",
       "</table>\n",
       "</div>"
      ],
      "text/plain": [
       "   UNIQUE_ID     POSITION_TITLE                     DEPARTMENT  BASE_SALARY  \\\n",
       "3       8789  ENGINEER/OPERATOR  Houston Fire Department (HFD)      63166.0   \n",
       "\n",
       "    RACE EMPLOYMENT_TYPE GENDER EMPLOYMENT_STATUS   HIRE_DATE    JOB_DATE  \n",
       "3  White       Full Time   Male            Active  1982-02-08  1991-05-25  "
      ]
     },
     "execution_count": 28,
     "metadata": {},
     "output_type": "execute_result"
    }
   ],
   "source": [
    "employee[employee['UNIQUE_ID'] == 8789]"
   ]
  },
  {
   "cell_type": "markdown",
   "metadata": {},
   "source": [
    "### Selecting a single employee with the index\n",
    "That was a little cumbersome. Let's improve that selection by taking advantage of the index. Many datasets have a column with an integer that uniquely identifies each row.  In database speak this column is called the table's **primary key**. The primary key allows for easy and direct access to each employee.\n",
    "\n",
    "In the **df_coh** table it appears that the first column, **UNIQUE_ID** is the primary key. Most good datasets will have a **data dictionary** that describes each column of the table so you won't have to take a guess as to what the primary key is. The data dictionary (a.k.a metadata) for the current dataset can be [found here.](http://data.ohouston.org/dataset/city-of-houston-current-employee-roster/resource/98448c04-e76f-4fa0-8916-12786e6e5883)\n",
    "\n",
    "### Ensuring uniqueness\n",
    "The most important aspect of a primary key is its uniqueness. Use the **`is_unique`** Series method."
   ]
  },
  {
   "cell_type": "code",
   "execution_count": 29,
   "metadata": {},
   "outputs": [
    {
     "data": {
      "text/plain": [
       "True"
      ]
     },
     "execution_count": 29,
     "metadata": {},
     "output_type": "execute_result"
    }
   ],
   "source": [
    "employee['UNIQUE_ID'].is_unique"
   ]
  },
  {
   "cell_type": "markdown",
   "metadata": {},
   "source": [
    "Use the **`set_index`** method to make the column **`UNIQUE_ID`** the new index"
   ]
  },
  {
   "cell_type": "code",
   "execution_count": 30,
   "metadata": {},
   "outputs": [
    {
     "data": {
      "text/html": [
       "<div>\n",
       "<style>\n",
       "    .dataframe thead tr:only-child th {\n",
       "        text-align: right;\n",
       "    }\n",
       "\n",
       "    .dataframe thead th {\n",
       "        text-align: left;\n",
       "    }\n",
       "\n",
       "    .dataframe tbody tr th {\n",
       "        vertical-align: top;\n",
       "    }\n",
       "</style>\n",
       "<table border=\"1\" class=\"dataframe\">\n",
       "  <thead>\n",
       "    <tr style=\"text-align: right;\">\n",
       "      <th></th>\n",
       "      <th>POSITION_TITLE</th>\n",
       "      <th>DEPARTMENT</th>\n",
       "      <th>BASE_SALARY</th>\n",
       "      <th>RACE</th>\n",
       "      <th>EMPLOYMENT_TYPE</th>\n",
       "      <th>GENDER</th>\n",
       "      <th>EMPLOYMENT_STATUS</th>\n",
       "      <th>HIRE_DATE</th>\n",
       "      <th>JOB_DATE</th>\n",
       "    </tr>\n",
       "    <tr>\n",
       "      <th>UNIQUE_ID</th>\n",
       "      <th></th>\n",
       "      <th></th>\n",
       "      <th></th>\n",
       "      <th></th>\n",
       "      <th></th>\n",
       "      <th></th>\n",
       "      <th></th>\n",
       "      <th></th>\n",
       "      <th></th>\n",
       "    </tr>\n",
       "  </thead>\n",
       "  <tbody>\n",
       "    <tr>\n",
       "      <th>5906</th>\n",
       "      <td>ASSISTANT DIRECTOR (EX LVL)</td>\n",
       "      <td>Municipal Courts Department</td>\n",
       "      <td>121862.0</td>\n",
       "      <td>Hispanic/Latino</td>\n",
       "      <td>Full Time</td>\n",
       "      <td>Female</td>\n",
       "      <td>Active</td>\n",
       "      <td>2006-06-12</td>\n",
       "      <td>2012-10-13</td>\n",
       "    </tr>\n",
       "    <tr>\n",
       "      <th>364</th>\n",
       "      <td>LIBRARY ASSISTANT</td>\n",
       "      <td>Library</td>\n",
       "      <td>26125.0</td>\n",
       "      <td>Hispanic/Latino</td>\n",
       "      <td>Full Time</td>\n",
       "      <td>Female</td>\n",
       "      <td>Active</td>\n",
       "      <td>2000-07-19</td>\n",
       "      <td>2010-09-18</td>\n",
       "    </tr>\n",
       "    <tr>\n",
       "      <th>1286</th>\n",
       "      <td>POLICE OFFICER</td>\n",
       "      <td>Houston Police Department-HPD</td>\n",
       "      <td>45279.0</td>\n",
       "      <td>White</td>\n",
       "      <td>Full Time</td>\n",
       "      <td>Male</td>\n",
       "      <td>Active</td>\n",
       "      <td>2015-02-03</td>\n",
       "      <td>2015-02-03</td>\n",
       "    </tr>\n",
       "    <tr>\n",
       "      <th>8789</th>\n",
       "      <td>ENGINEER/OPERATOR</td>\n",
       "      <td>Houston Fire Department (HFD)</td>\n",
       "      <td>63166.0</td>\n",
       "      <td>White</td>\n",
       "      <td>Full Time</td>\n",
       "      <td>Male</td>\n",
       "      <td>Active</td>\n",
       "      <td>1982-02-08</td>\n",
       "      <td>1991-05-25</td>\n",
       "    </tr>\n",
       "    <tr>\n",
       "      <th>8542</th>\n",
       "      <td>ELECTRICIAN</td>\n",
       "      <td>General Services Department</td>\n",
       "      <td>56347.0</td>\n",
       "      <td>White</td>\n",
       "      <td>Full Time</td>\n",
       "      <td>Male</td>\n",
       "      <td>Active</td>\n",
       "      <td>1989-06-19</td>\n",
       "      <td>1994-10-22</td>\n",
       "    </tr>\n",
       "  </tbody>\n",
       "</table>\n",
       "</div>"
      ],
      "text/plain": [
       "                        POSITION_TITLE                     DEPARTMENT  \\\n",
       "UNIQUE_ID                                                               \n",
       "5906       ASSISTANT DIRECTOR (EX LVL)    Municipal Courts Department   \n",
       "364                  LIBRARY ASSISTANT                        Library   \n",
       "1286                    POLICE OFFICER  Houston Police Department-HPD   \n",
       "8789                 ENGINEER/OPERATOR  Houston Fire Department (HFD)   \n",
       "8542                       ELECTRICIAN    General Services Department   \n",
       "\n",
       "           BASE_SALARY             RACE EMPLOYMENT_TYPE  GENDER  \\\n",
       "UNIQUE_ID                                                         \n",
       "5906          121862.0  Hispanic/Latino       Full Time  Female   \n",
       "364            26125.0  Hispanic/Latino       Full Time  Female   \n",
       "1286           45279.0            White       Full Time    Male   \n",
       "8789           63166.0            White       Full Time    Male   \n",
       "8542           56347.0            White       Full Time    Male   \n",
       "\n",
       "          EMPLOYMENT_STATUS   HIRE_DATE    JOB_DATE  \n",
       "UNIQUE_ID                                            \n",
       "5906                 Active  2006-06-12  2012-10-13  \n",
       "364                  Active  2000-07-19  2010-09-18  \n",
       "1286                 Active  2015-02-03  2015-02-03  \n",
       "8789                 Active  1982-02-08  1991-05-25  \n",
       "8542                 Active  1989-06-19  1994-10-22  "
      ]
     },
     "execution_count": 30,
     "metadata": {},
     "output_type": "execute_result"
    }
   ],
   "source": [
    "employee = pd.read_csv('../data/employee.csv')\n",
    "employee_idx = employee.set_index('UNIQUE_ID')\n",
    "employee_idx.head()"
   ]
  },
  {
   "cell_type": "markdown",
   "metadata": {},
   "source": [
    "### Inspecting the new DataFrame output\n",
    "The index is now meaningful. The index, which previously was just a range beginning at 0, is now the employee ID. **UNIQUE_ID** is now the **name** of the index. The values for the index are still **bold** and a reminder that these values are part of the index and not a column. "
   ]
  },
  {
   "cell_type": "code",
   "execution_count": 31,
   "metadata": {},
   "outputs": [
    {
     "data": {
      "text/plain": [
       "'UNIQUE_ID'"
      ]
     },
     "execution_count": 31,
     "metadata": {},
     "output_type": "execute_result"
    }
   ],
   "source": [
    "# the index object has a name attribute\n",
    "employee_idx.index.name"
   ]
  },
  {
   "cell_type": "markdown",
   "metadata": {},
   "source": [
    "The name of the index remains just above the index. You can delete it if you want."
   ]
  },
  {
   "cell_type": "code",
   "execution_count": 32,
   "metadata": {
    "collapsed": true
   },
   "outputs": [],
   "source": [
    "del employee_idx.index.name"
   ]
  },
  {
   "cell_type": "code",
   "execution_count": 33,
   "metadata": {},
   "outputs": [
    {
     "data": {
      "text/html": [
       "<div>\n",
       "<style>\n",
       "    .dataframe thead tr:only-child th {\n",
       "        text-align: right;\n",
       "    }\n",
       "\n",
       "    .dataframe thead th {\n",
       "        text-align: left;\n",
       "    }\n",
       "\n",
       "    .dataframe tbody tr th {\n",
       "        vertical-align: top;\n",
       "    }\n",
       "</style>\n",
       "<table border=\"1\" class=\"dataframe\">\n",
       "  <thead>\n",
       "    <tr style=\"text-align: right;\">\n",
       "      <th></th>\n",
       "      <th>POSITION_TITLE</th>\n",
       "      <th>DEPARTMENT</th>\n",
       "      <th>BASE_SALARY</th>\n",
       "      <th>RACE</th>\n",
       "      <th>EMPLOYMENT_TYPE</th>\n",
       "      <th>GENDER</th>\n",
       "      <th>EMPLOYMENT_STATUS</th>\n",
       "      <th>HIRE_DATE</th>\n",
       "      <th>JOB_DATE</th>\n",
       "    </tr>\n",
       "  </thead>\n",
       "  <tbody>\n",
       "    <tr>\n",
       "      <th>5906</th>\n",
       "      <td>ASSISTANT DIRECTOR (EX LVL)</td>\n",
       "      <td>Municipal Courts Department</td>\n",
       "      <td>121862.0</td>\n",
       "      <td>Hispanic/Latino</td>\n",
       "      <td>Full Time</td>\n",
       "      <td>Female</td>\n",
       "      <td>Active</td>\n",
       "      <td>2006-06-12</td>\n",
       "      <td>2012-10-13</td>\n",
       "    </tr>\n",
       "    <tr>\n",
       "      <th>364</th>\n",
       "      <td>LIBRARY ASSISTANT</td>\n",
       "      <td>Library</td>\n",
       "      <td>26125.0</td>\n",
       "      <td>Hispanic/Latino</td>\n",
       "      <td>Full Time</td>\n",
       "      <td>Female</td>\n",
       "      <td>Active</td>\n",
       "      <td>2000-07-19</td>\n",
       "      <td>2010-09-18</td>\n",
       "    </tr>\n",
       "    <tr>\n",
       "      <th>1286</th>\n",
       "      <td>POLICE OFFICER</td>\n",
       "      <td>Houston Police Department-HPD</td>\n",
       "      <td>45279.0</td>\n",
       "      <td>White</td>\n",
       "      <td>Full Time</td>\n",
       "      <td>Male</td>\n",
       "      <td>Active</td>\n",
       "      <td>2015-02-03</td>\n",
       "      <td>2015-02-03</td>\n",
       "    </tr>\n",
       "    <tr>\n",
       "      <th>8789</th>\n",
       "      <td>ENGINEER/OPERATOR</td>\n",
       "      <td>Houston Fire Department (HFD)</td>\n",
       "      <td>63166.0</td>\n",
       "      <td>White</td>\n",
       "      <td>Full Time</td>\n",
       "      <td>Male</td>\n",
       "      <td>Active</td>\n",
       "      <td>1982-02-08</td>\n",
       "      <td>1991-05-25</td>\n",
       "    </tr>\n",
       "    <tr>\n",
       "      <th>8542</th>\n",
       "      <td>ELECTRICIAN</td>\n",
       "      <td>General Services Department</td>\n",
       "      <td>56347.0</td>\n",
       "      <td>White</td>\n",
       "      <td>Full Time</td>\n",
       "      <td>Male</td>\n",
       "      <td>Active</td>\n",
       "      <td>1989-06-19</td>\n",
       "      <td>1994-10-22</td>\n",
       "    </tr>\n",
       "  </tbody>\n",
       "</table>\n",
       "</div>"
      ],
      "text/plain": [
       "                   POSITION_TITLE                     DEPARTMENT  BASE_SALARY  \\\n",
       "5906  ASSISTANT DIRECTOR (EX LVL)    Municipal Courts Department     121862.0   \n",
       "364             LIBRARY ASSISTANT                        Library      26125.0   \n",
       "1286               POLICE OFFICER  Houston Police Department-HPD      45279.0   \n",
       "8789            ENGINEER/OPERATOR  Houston Fire Department (HFD)      63166.0   \n",
       "8542                  ELECTRICIAN    General Services Department      56347.0   \n",
       "\n",
       "                 RACE EMPLOYMENT_TYPE  GENDER EMPLOYMENT_STATUS   HIRE_DATE  \\\n",
       "5906  Hispanic/Latino       Full Time  Female            Active  2006-06-12   \n",
       "364   Hispanic/Latino       Full Time  Female            Active  2000-07-19   \n",
       "1286            White       Full Time    Male            Active  2015-02-03   \n",
       "8789            White       Full Time    Male            Active  1982-02-08   \n",
       "8542            White       Full Time    Male            Active  1989-06-19   \n",
       "\n",
       "        JOB_DATE  \n",
       "5906  2012-10-13  \n",
       "364   2010-09-18  \n",
       "1286  2015-02-03  \n",
       "8789  1991-05-25  \n",
       "8542  1994-10-22  "
      ]
     },
     "execution_count": 33,
     "metadata": {},
     "output_type": "execute_result"
    }
   ],
   "source": [
    "# The name is gone\n",
    "employee_idx.head()"
   ]
  },
  {
   "cell_type": "markdown",
   "metadata": {},
   "source": [
    "### Setting the index on read\n",
    "When first reading the dataset using **`read_csv`**, use the argument **`index_col`** to pass the name of the column you would like as your index."
   ]
  },
  {
   "cell_type": "code",
   "execution_count": 34,
   "metadata": {},
   "outputs": [
    {
     "data": {
      "text/html": [
       "<div>\n",
       "<style>\n",
       "    .dataframe thead tr:only-child th {\n",
       "        text-align: right;\n",
       "    }\n",
       "\n",
       "    .dataframe thead th {\n",
       "        text-align: left;\n",
       "    }\n",
       "\n",
       "    .dataframe tbody tr th {\n",
       "        vertical-align: top;\n",
       "    }\n",
       "</style>\n",
       "<table border=\"1\" class=\"dataframe\">\n",
       "  <thead>\n",
       "    <tr style=\"text-align: right;\">\n",
       "      <th></th>\n",
       "      <th>POSITION_TITLE</th>\n",
       "      <th>DEPARTMENT</th>\n",
       "      <th>BASE_SALARY</th>\n",
       "      <th>RACE</th>\n",
       "      <th>EMPLOYMENT_TYPE</th>\n",
       "      <th>GENDER</th>\n",
       "      <th>EMPLOYMENT_STATUS</th>\n",
       "      <th>HIRE_DATE</th>\n",
       "      <th>JOB_DATE</th>\n",
       "    </tr>\n",
       "    <tr>\n",
       "      <th>UNIQUE_ID</th>\n",
       "      <th></th>\n",
       "      <th></th>\n",
       "      <th></th>\n",
       "      <th></th>\n",
       "      <th></th>\n",
       "      <th></th>\n",
       "      <th></th>\n",
       "      <th></th>\n",
       "      <th></th>\n",
       "    </tr>\n",
       "  </thead>\n",
       "  <tbody>\n",
       "    <tr>\n",
       "      <th>5906</th>\n",
       "      <td>ASSISTANT DIRECTOR (EX LVL)</td>\n",
       "      <td>Municipal Courts Department</td>\n",
       "      <td>121862.0</td>\n",
       "      <td>Hispanic/Latino</td>\n",
       "      <td>Full Time</td>\n",
       "      <td>Female</td>\n",
       "      <td>Active</td>\n",
       "      <td>2006-06-12</td>\n",
       "      <td>2012-10-13</td>\n",
       "    </tr>\n",
       "    <tr>\n",
       "      <th>364</th>\n",
       "      <td>LIBRARY ASSISTANT</td>\n",
       "      <td>Library</td>\n",
       "      <td>26125.0</td>\n",
       "      <td>Hispanic/Latino</td>\n",
       "      <td>Full Time</td>\n",
       "      <td>Female</td>\n",
       "      <td>Active</td>\n",
       "      <td>2000-07-19</td>\n",
       "      <td>2010-09-18</td>\n",
       "    </tr>\n",
       "    <tr>\n",
       "      <th>1286</th>\n",
       "      <td>POLICE OFFICER</td>\n",
       "      <td>Houston Police Department-HPD</td>\n",
       "      <td>45279.0</td>\n",
       "      <td>White</td>\n",
       "      <td>Full Time</td>\n",
       "      <td>Male</td>\n",
       "      <td>Active</td>\n",
       "      <td>2015-02-03</td>\n",
       "      <td>2015-02-03</td>\n",
       "    </tr>\n",
       "    <tr>\n",
       "      <th>8789</th>\n",
       "      <td>ENGINEER/OPERATOR</td>\n",
       "      <td>Houston Fire Department (HFD)</td>\n",
       "      <td>63166.0</td>\n",
       "      <td>White</td>\n",
       "      <td>Full Time</td>\n",
       "      <td>Male</td>\n",
       "      <td>Active</td>\n",
       "      <td>1982-02-08</td>\n",
       "      <td>1991-05-25</td>\n",
       "    </tr>\n",
       "    <tr>\n",
       "      <th>8542</th>\n",
       "      <td>ELECTRICIAN</td>\n",
       "      <td>General Services Department</td>\n",
       "      <td>56347.0</td>\n",
       "      <td>White</td>\n",
       "      <td>Full Time</td>\n",
       "      <td>Male</td>\n",
       "      <td>Active</td>\n",
       "      <td>1989-06-19</td>\n",
       "      <td>1994-10-22</td>\n",
       "    </tr>\n",
       "  </tbody>\n",
       "</table>\n",
       "</div>"
      ],
      "text/plain": [
       "                        POSITION_TITLE                     DEPARTMENT  \\\n",
       "UNIQUE_ID                                                               \n",
       "5906       ASSISTANT DIRECTOR (EX LVL)    Municipal Courts Department   \n",
       "364                  LIBRARY ASSISTANT                        Library   \n",
       "1286                    POLICE OFFICER  Houston Police Department-HPD   \n",
       "8789                 ENGINEER/OPERATOR  Houston Fire Department (HFD)   \n",
       "8542                       ELECTRICIAN    General Services Department   \n",
       "\n",
       "           BASE_SALARY             RACE EMPLOYMENT_TYPE  GENDER  \\\n",
       "UNIQUE_ID                                                         \n",
       "5906          121862.0  Hispanic/Latino       Full Time  Female   \n",
       "364            26125.0  Hispanic/Latino       Full Time  Female   \n",
       "1286           45279.0            White       Full Time    Male   \n",
       "8789           63166.0            White       Full Time    Male   \n",
       "8542           56347.0            White       Full Time    Male   \n",
       "\n",
       "          EMPLOYMENT_STATUS   HIRE_DATE    JOB_DATE  \n",
       "UNIQUE_ID                                            \n",
       "5906                 Active  2006-06-12  2012-10-13  \n",
       "364                  Active  2000-07-19  2010-09-18  \n",
       "1286                 Active  2015-02-03  2015-02-03  \n",
       "8789                 Active  1982-02-08  1991-05-25  \n",
       "8542                 Active  1989-06-19  1994-10-22  "
      ]
     },
     "execution_count": 34,
     "metadata": {},
     "output_type": "execute_result"
    }
   ],
   "source": [
    "employee_idx = pd.read_csv('../data/employee.csv', index_col='UNIQUE_ID')\n",
    "employee_idx.head()"
   ]
  },
  {
   "cell_type": "markdown",
   "metadata": {},
   "source": [
    "## Selection with .loc vs boolean indexing\n",
    "Selecting with .loc is much nicer than boolean selection."
   ]
  },
  {
   "cell_type": "code",
   "execution_count": 35,
   "metadata": {},
   "outputs": [
    {
     "data": {
      "text/plain": [
       "POSITION_TITLE                   ENGINEER/OPERATOR\n",
       "DEPARTMENT           Houston Fire Department (HFD)\n",
       "BASE_SALARY                                  63166\n",
       "RACE                                         White\n",
       "EMPLOYMENT_TYPE                          Full Time\n",
       "GENDER                                        Male\n",
       "EMPLOYMENT_STATUS                           Active\n",
       "HIRE_DATE                               1982-02-08\n",
       "JOB_DATE                                1991-05-25\n",
       "Name: 8789, dtype: object"
      ]
     },
     "execution_count": 35,
     "metadata": {},
     "output_type": "execute_result"
    }
   ],
   "source": [
    "employee_idx.loc[8789]"
   ]
  },
  {
   "cell_type": "code",
   "execution_count": 36,
   "metadata": {},
   "outputs": [
    {
     "data": {
      "text/html": [
       "<div>\n",
       "<style>\n",
       "    .dataframe thead tr:only-child th {\n",
       "        text-align: right;\n",
       "    }\n",
       "\n",
       "    .dataframe thead th {\n",
       "        text-align: left;\n",
       "    }\n",
       "\n",
       "    .dataframe tbody tr th {\n",
       "        vertical-align: top;\n",
       "    }\n",
       "</style>\n",
       "<table border=\"1\" class=\"dataframe\">\n",
       "  <thead>\n",
       "    <tr style=\"text-align: right;\">\n",
       "      <th></th>\n",
       "      <th>POSITION_TITLE</th>\n",
       "      <th>DEPARTMENT</th>\n",
       "      <th>BASE_SALARY</th>\n",
       "      <th>RACE</th>\n",
       "      <th>EMPLOYMENT_TYPE</th>\n",
       "      <th>GENDER</th>\n",
       "      <th>EMPLOYMENT_STATUS</th>\n",
       "      <th>HIRE_DATE</th>\n",
       "      <th>JOB_DATE</th>\n",
       "    </tr>\n",
       "    <tr>\n",
       "      <th>UNIQUE_ID</th>\n",
       "      <th></th>\n",
       "      <th></th>\n",
       "      <th></th>\n",
       "      <th></th>\n",
       "      <th></th>\n",
       "      <th></th>\n",
       "      <th></th>\n",
       "      <th></th>\n",
       "      <th></th>\n",
       "    </tr>\n",
       "  </thead>\n",
       "  <tbody>\n",
       "    <tr>\n",
       "      <th>8789</th>\n",
       "      <td>ENGINEER/OPERATOR</td>\n",
       "      <td>Houston Fire Department (HFD)</td>\n",
       "      <td>63166.0</td>\n",
       "      <td>White</td>\n",
       "      <td>Full Time</td>\n",
       "      <td>Male</td>\n",
       "      <td>Active</td>\n",
       "      <td>1982-02-08</td>\n",
       "      <td>1991-05-25</td>\n",
       "    </tr>\n",
       "  </tbody>\n",
       "</table>\n",
       "</div>"
      ],
      "text/plain": [
       "              POSITION_TITLE                     DEPARTMENT  BASE_SALARY  \\\n",
       "UNIQUE_ID                                                                  \n",
       "8789       ENGINEER/OPERATOR  Houston Fire Department (HFD)      63166.0   \n",
       "\n",
       "            RACE EMPLOYMENT_TYPE GENDER EMPLOYMENT_STATUS   HIRE_DATE  \\\n",
       "UNIQUE_ID                                                               \n",
       "8789       White       Full Time   Male            Active  1982-02-08   \n",
       "\n",
       "             JOB_DATE  \n",
       "UNIQUE_ID              \n",
       "8789       1991-05-25  "
      ]
     },
     "execution_count": 36,
     "metadata": {},
     "output_type": "execute_result"
    }
   ],
   "source": [
    "# Put it in a list to return a DF\n",
    "employee_idx.loc[[8789]]"
   ]
  },
  {
   "cell_type": "markdown",
   "metadata": {},
   "source": [
    "## Speed Difference between boolean indexing and selection by index label"
   ]
  },
  {
   "cell_type": "code",
   "execution_count": 37,
   "metadata": {},
   "outputs": [
    {
     "name": "stdout",
     "output_type": "stream",
     "text": [
      "512 µs ± 23.1 µs per loop (mean ± std. dev. of 7 runs, 1000 loops each)\n"
     ]
    }
   ],
   "source": [
    "%timeit employee[employee['UNIQUE_ID'] == 8789]"
   ]
  },
  {
   "cell_type": "code",
   "execution_count": 38,
   "metadata": {},
   "outputs": [
    {
     "name": "stdout",
     "output_type": "stream",
     "text": [
      "158 µs ± 11 µs per loop (mean ± std. dev. of 7 runs, 10000 loops each)\n"
     ]
    }
   ],
   "source": [
    "%timeit employee_idx.loc[8789]"
   ]
  },
  {
   "cell_type": "markdown",
   "metadata": {},
   "source": [
    "# Your Turn"
   ]
  },
  {
   "cell_type": "code",
   "execution_count": 39,
   "metadata": {
    "collapsed": true
   },
   "outputs": [],
   "source": [
    "# reread the employee dataset before you begin.\n",
    "employee = pd.read_csv('../data/employee.csv')"
   ]
  },
  {
   "cell_type": "markdown",
   "metadata": {},
   "source": [
    "### Problem 1\n",
    "<span  style=\"color:green; font-size:16px\">Select all Asian employees that make more than 100,000 dollars?</span>"
   ]
  },
  {
   "cell_type": "code",
   "execution_count": 40,
   "metadata": {
    "collapsed": true
   },
   "outputs": [],
   "source": [
    "# your code here"
   ]
  },
  {
   "cell_type": "markdown",
   "metadata": {},
   "source": [
    "### Problem 2\n",
    "<span  style=\"color:green; font-size:16px\">What percentage of Asian employees make more than 100,000 dollars?</span>"
   ]
  },
  {
   "cell_type": "code",
   "execution_count": 41,
   "metadata": {
    "collapsed": true
   },
   "outputs": [],
   "source": [
    "# your code here"
   ]
  },
  {
   "cell_type": "markdown",
   "metadata": {},
   "source": [
    "### Problem 3\n",
    "<span  style=\"color:green; font-size:16px\">What is the ratio of males to females? What is the ratio of males to females for those that make more than 100,000? How about for those that make less than 30,000?</span>"
   ]
  },
  {
   "cell_type": "code",
   "execution_count": 42,
   "metadata": {
    "collapsed": true
   },
   "outputs": [],
   "source": [
    "# your code here"
   ]
  },
  {
   "cell_type": "markdown",
   "metadata": {},
   "source": [
    "### Problem 4\n",
    "<span  style=\"color:green; font-size:16px\">What is the distribution of race? What is the distribution of race for those that make over 100,000?</span>"
   ]
  },
  {
   "cell_type": "code",
   "execution_count": 43,
   "metadata": {
    "collapsed": true
   },
   "outputs": [],
   "source": [
    "# your code here"
   ]
  },
  {
   "cell_type": "markdown",
   "metadata": {},
   "source": [
    "### Problem 5\n",
    "<span  style=\"color:green; font-size:16px\">Save the two distributions you found in problem 4 to variables. They should be Series. Divide the greater than 100k distribution by the other.</span>"
   ]
  },
  {
   "cell_type": "code",
   "execution_count": 44,
   "metadata": {
    "collapsed": true
   },
   "outputs": [],
   "source": [
    "# your code here"
   ]
  },
  {
   "cell_type": "markdown",
   "metadata": {},
   "source": [
    "### Problem 6\n",
    "<span  style=\"color:green; font-size:16px\">Select all Females that are part of part of the Houston police department and all males that are in the Library department. Also Select only the DEPARTMENT and GENDER columns</span>"
   ]
  },
  {
   "cell_type": "code",
   "execution_count": 45,
   "metadata": {
    "collapsed": true
   },
   "outputs": [],
   "source": [
    "# your code here"
   ]
  },
  {
   "cell_type": "markdown",
   "metadata": {},
   "source": [
    "### Problem 7\n",
    "<span  style=\"color:green; font-size:16px\">Select all the white, black and hispanic employees that are in the houston police department, Houston fire department and the Parks & Recreation department. Also select only the RACE and DEPARTMENT columns.</span>"
   ]
  },
  {
   "cell_type": "code",
   "execution_count": 46,
   "metadata": {
    "collapsed": true
   },
   "outputs": [],
   "source": [
    "# your code here"
   ]
  },
  {
   "cell_type": "markdown",
   "metadata": {},
   "source": [
    "### Problem 8\n",
    "<span  style=\"color:green; font-size:16px\">What is the most most common department for black females? How about for Hispanic males?</span>"
   ]
  },
  {
   "cell_type": "code",
   "execution_count": 47,
   "metadata": {
    "collapsed": true
   },
   "outputs": [],
   "source": [
    "# your code here"
   ]
  },
  {
   "cell_type": "markdown",
   "metadata": {},
   "source": [
    "### Problem 9\n",
    "<span  style=\"color:green; font-size:16px\">Who makes more money, 'Black or African American' Females or White Males?</span>"
   ]
  },
  {
   "cell_type": "code",
   "execution_count": 48,
   "metadata": {
    "collapsed": true
   },
   "outputs": [],
   "source": [
    "# your code here"
   ]
  },
  {
   "cell_type": "markdown",
   "metadata": {},
   "source": [
    "### Problem 10\n",
    "<span  style=\"color:green; font-size:16px\">Set the index to be **`UNIQUE_ID`** and save result to a new variable. The use **`.loc`** to select employees 2440 and 480 and columns DEPARTMENT through GENDER.</span>"
   ]
  },
  {
   "cell_type": "code",
   "execution_count": 49,
   "metadata": {
    "collapsed": true
   },
   "outputs": [],
   "source": [
    "# your code here"
   ]
  }
 ],
 "metadata": {
  "anaconda-cloud": {},
  "kernelspec": {
   "display_name": "Python 3",
   "language": "python",
   "name": "python3"
  },
  "language_info": {
   "codemirror_mode": {
    "name": "ipython",
    "version": 3
   },
   "file_extension": ".py",
   "mimetype": "text/x-python",
   "name": "python",
   "nbconvert_exporter": "python",
   "pygments_lexer": "ipython3",
   "version": "3.6.1"
  }
 },
 "nbformat": 4,
 "nbformat_minor": 1
}
