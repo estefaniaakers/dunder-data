{
 "cells": [
  {
   "cell_type": "markdown",
   "metadata": {},
   "source": [
    "# Boolean Indexing\n",
    "\n",
    "### Objectives\n",
    "After this lesson you should be able to...\n",
    "+ Use the indexing operator alone **`[]`** for boolean indexing - an exception to the rule of using **`.loc`** or **`.iloc`**\n",
    "+ Create 'criteria' with the comparison operators\n",
    "+ Build complex criteria multiple boolean comparisons\n",
    "+ Keywords **`and`**, **`or`** and **`not`** do NOT work in pandas when creating multiple comparison logic. Use **`&, |, ~`** instead.\n",
    "\n",
    "### Prepare for this lesson by...\n",
    "[ALWAYS READ THE DOCUMENTATION BEFORE A LESSON!](http://pandas.pydata.org/pandas-docs/stable/)\n",
    "+ Read [Boolean indexing](http://pandas.pydata.org/pandas-docs/stable/indexing.html#boolean-indexing)\n",
    "+ Read [Indexing with isin](http://pandas.pydata.org/pandas-docs/stable/indexing.html#indexing-with-isin)\n",
    "\n",
    "### Introduction\n",
    "Previously we selected subsets of data based on integer location or the label of the index. Another common method of extracting the values in a Series is to choose them based on certain criteria. **Boolean indexing** is done by passing a boolean (only true/false values) array or Series to the **`[ ]`** operator. Boolean indexing is also referred to as **boolean selection**."
   ]
  },
  {
   "cell_type": "code",
   "execution_count": 1,
   "metadata": {
    "collapsed": true
   },
   "outputs": [],
   "source": [
    "import pandas as pd\n",
    "import numpy as np"
   ]
  },
  {
   "cell_type": "markdown",
   "metadata": {},
   "source": [
    "### Setting index on read\n",
    "Read in the movie dataset with the **`read_csv`** function but this time use the **`index_col`** parameter to set the index on read to **`movie_title`**. Then select the first 5 values of the **`actor_1_facebook_likes`** Series."
   ]
  },
  {
   "cell_type": "code",
   "execution_count": 2,
   "metadata": {},
   "outputs": [
    {
     "data": {
      "text/plain": [
       "movie_title\n",
       "Avatar                                         1000.0\n",
       "Pirates of the Caribbean: At World's End      40000.0\n",
       "Spectre                                       11000.0\n",
       "The Dark Knight Rises                         27000.0\n",
       "Star Wars: Episode VII - The Force Awakens      131.0\n",
       "Name: actor_1_facebook_likes, dtype: float64"
      ]
     },
     "execution_count": 2,
     "metadata": {},
     "output_type": "execute_result"
    }
   ],
   "source": [
    "movie = pd.read_csv('../data/movie.csv', index_col='movie_title')\n",
    "fb_likes = movie['actor_1_facebook_likes'].head()\n",
    "fb_likes"
   ]
  },
  {
   "cell_type": "markdown",
   "metadata": {},
   "source": [
    "### It's OK to use [ ] with boolean indexing\n",
    "Previously we cautioned to use **`.iloc`** or **`.loc`** when accessing elements of a Series. Boolean indexing is an exception to this rule. Here we create a list of booleans and place them directly inside the bracket operator. This will select elements where True. The below keeps the first and third elements"
   ]
  },
  {
   "cell_type": "code",
   "execution_count": 3,
   "metadata": {},
   "outputs": [
    {
     "data": {
      "text/plain": [
       "movie_title\n",
       "Avatar      1000.0\n",
       "Spectre    11000.0\n",
       "Name: actor_1_facebook_likes, dtype: float64"
      ]
     },
     "execution_count": 3,
     "metadata": {},
     "output_type": "execute_result"
    }
   ],
   "source": [
    "keep = [True, False, True, False, False]\n",
    "fb_likes[keep]"
   ]
  },
  {
   "cell_type": "markdown",
   "metadata": {},
   "source": [
    "### Creating boolean Series\n",
    "You can compare each element with another value using the comparison operators, <, >, <=, >=, ==, !=. A Series of booleans that have the same index label will be the result. This result will soon be used inside the indexing operator as was done above."
   ]
  },
  {
   "cell_type": "code",
   "execution_count": 4,
   "metadata": {},
   "outputs": [
    {
     "data": {
      "text/plain": [
       "movie_title\n",
       "Avatar                                        False\n",
       "Pirates of the Caribbean: At World's End       True\n",
       "Spectre                                        True\n",
       "The Dark Knight Rises                          True\n",
       "Star Wars: Episode VII - The Force Awakens    False\n",
       "Name: actor_1_facebook_likes, dtype: bool"
      ]
     },
     "execution_count": 4,
     "metadata": {},
     "output_type": "execute_result"
    }
   ],
   "source": [
    "fb_likes > 10000"
   ]
  },
  {
   "cell_type": "markdown",
   "metadata": {},
   "source": [
    "### Create 'criteria' for boolean selection\n",
    "We can save this boolean series to the variable **`criteria`** and then pass it to the indexing operator. The result will be a Series with only the movies that have more than 10000 Facebook likes for actor 1."
   ]
  },
  {
   "cell_type": "code",
   "execution_count": 5,
   "metadata": {
    "collapsed": true
   },
   "outputs": [],
   "source": [
    "criteria = fb_likes > 10000"
   ]
  },
  {
   "cell_type": "code",
   "execution_count": 6,
   "metadata": {},
   "outputs": [
    {
     "data": {
      "text/plain": [
       "movie_title\n",
       "Pirates of the Caribbean: At World's End    40000.0\n",
       "Spectre                                     11000.0\n",
       "The Dark Knight Rises                       27000.0\n",
       "Name: actor_1_facebook_likes, dtype: float64"
      ]
     },
     "execution_count": 6,
     "metadata": {},
     "output_type": "execute_result"
    }
   ],
   "source": [
    "# we can now pass this criteria to our original series to get only values above 0\n",
    "fb_likes[criteria]"
   ]
  },
  {
   "cell_type": "markdown",
   "metadata": {},
   "source": [
    "### No intermediate variable\n",
    "It's possible to pass the boolean expression directly into the indexing operator without first saving it to a variable."
   ]
  },
  {
   "cell_type": "code",
   "execution_count": 7,
   "metadata": {},
   "outputs": [
    {
     "data": {
      "text/plain": [
       "movie_title\n",
       "Pirates of the Caribbean: At World's End    40000.0\n",
       "Spectre                                     11000.0\n",
       "The Dark Knight Rises                       27000.0\n",
       "Name: actor_1_facebook_likes, dtype: float64"
      ]
     },
     "execution_count": 7,
     "metadata": {},
     "output_type": "execute_result"
    }
   ],
   "source": [
    "fb_likes[fb_likes > 10000]"
   ]
  },
  {
   "cell_type": "markdown",
   "metadata": {},
   "source": [
    "## Boolean Indexing with String Columns\n",
    "Let's select a column that has strings in it and not numeric. Let's select the column **`actor_1_name`** and do some boolean indexing. We will work with the whole column and not just the first 5 values."
   ]
  },
  {
   "cell_type": "code",
   "execution_count": 8,
   "metadata": {},
   "outputs": [
    {
     "data": {
      "text/plain": [
       "movie_title\n",
       "Avatar                                            CCH Pounder\n",
       "Pirates of the Caribbean: At World's End          Johnny Depp\n",
       "Spectre                                       Christoph Waltz\n",
       "The Dark Knight Rises                               Tom Hardy\n",
       "Star Wars: Episode VII - The Force Awakens        Doug Walker\n",
       "Name: actor_1_name, dtype: object"
      ]
     },
     "execution_count": 8,
     "metadata": {},
     "output_type": "execute_result"
    }
   ],
   "source": [
    "actor1 = movie['actor_1_name']\n",
    "actor1.head()"
   ]
  },
  {
   "cell_type": "markdown",
   "metadata": {},
   "source": [
    "### Find all Johnny Depp movies"
   ]
  },
  {
   "cell_type": "code",
   "execution_count": 9,
   "metadata": {},
   "outputs": [
    {
     "data": {
      "text/plain": [
       "movie_title\n",
       "Pirates of the Caribbean: At World's End                  Johnny Depp\n",
       "Pirates of the Caribbean: Dead Man's Chest                Johnny Depp\n",
       "The Lone Ranger                                           Johnny Depp\n",
       "Pirates of the Caribbean: On Stranger Tides               Johnny Depp\n",
       "Alice in Wonderland                                       Johnny Depp\n",
       "Alice Through the Looking Glass                           Johnny Depp\n",
       "Charlie and the Chocolate Factory                         Johnny Depp\n",
       "Dark Shadows                                              Johnny Depp\n",
       "Rango                                                     Johnny Depp\n",
       "Pirates of the Caribbean: The Curse of the Black Pearl    Johnny Depp\n",
       "Public Enemies                                            Johnny Depp\n",
       "The Tourist                                               Johnny Depp\n",
       "Transcendence                                             Johnny Depp\n",
       "Mortdecai                                                 Johnny Depp\n",
       "Black Mass                                                Johnny Depp\n",
       "Into the Woods                                            Johnny Depp\n",
       "From Hell                                                 Johnny Depp\n",
       "Secret Window                                             Johnny Depp\n",
       "The Ninth Gate                                            Johnny Depp\n",
       "A Nightmare on Elm Street                                 Johnny Depp\n",
       "Donnie Brasco                                             Johnny Depp\n",
       "The Astronaut's Wife                                      Johnny Depp\n",
       "Blow                                                      Johnny Depp\n",
       "Corpse Bride                                              Johnny Depp\n",
       "Once Upon a Time in Mexico                                Johnny Depp\n",
       "Finding Neverland                                         Johnny Depp\n",
       "Don Juan DeMarco                                          Johnny Depp\n",
       "The Libertine                                             Johnny Depp\n",
       "Edward Scissorhands                                       Johnny Depp\n",
       "Fear and Loathing in Las Vegas                            Johnny Depp\n",
       "Ed Wood                                                   Johnny Depp\n",
       "What's Eating Gilbert Grape                               Johnny Depp\n",
       "Platoon                                                   Johnny Depp\n",
       "Freddy's Dead: The Final Nightmare                        Johnny Depp\n",
       "Yoga Hosers                                               Johnny Depp\n",
       "Tusk                                                      Johnny Depp\n",
       "Name: actor_1_name, dtype: object"
      ]
     },
     "execution_count": 9,
     "metadata": {},
     "output_type": "execute_result"
    }
   ],
   "source": [
    "actor1[actor1 == 'Johnny Depp']"
   ]
  },
  {
   "cell_type": "markdown",
   "metadata": {},
   "source": [
    "### Using `isin` method to check for multiple equalities\n",
    "Series have the method **`isin`** (read 'is in') that checks whether each element is a member of a given list. It returns a boolean Series the same length as the original. Let's search for the actors Johnny Depp, Matt Damon and Tom Hanks."
   ]
  },
  {
   "cell_type": "code",
   "execution_count": 10,
   "metadata": {},
   "outputs": [
    {
     "data": {
      "text/plain": [
       "movie_title\n",
       "Avatar                                        False\n",
       "Pirates of the Caribbean: At World's End       True\n",
       "Spectre                                       False\n",
       "The Dark Knight Rises                         False\n",
       "Star Wars: Episode VII - The Force Awakens    False\n",
       "Name: actor_1_name, dtype: bool"
      ]
     },
     "execution_count": 10,
     "metadata": {},
     "output_type": "execute_result"
    }
   ],
   "source": [
    "criteria = actor1.isin(['Johnny Depp', 'Matt Damon', 'Tom Hanks'])\n",
    "criteria.head(5)"
   ]
  },
  {
   "cell_type": "code",
   "execution_count": 11,
   "metadata": {},
   "outputs": [
    {
     "data": {
      "text/plain": [
       "movie_title\n",
       "Pirates of the Caribbean: At World's End                  Johnny Depp\n",
       "Pirates of the Caribbean: Dead Man's Chest                Johnny Depp\n",
       "The Lone Ranger                                           Johnny Depp\n",
       "Pirates of the Caribbean: On Stranger Tides               Johnny Depp\n",
       "Alice in Wonderland                                       Johnny Depp\n",
       "Toy Story 3                                                 Tom Hanks\n",
       "The Polar Express                                           Tom Hanks\n",
       "Alice Through the Looking Glass                           Johnny Depp\n",
       "Charlie and the Chocolate Factory                         Johnny Depp\n",
       "Angels & Demons                                             Tom Hanks\n",
       "Dark Shadows                                              Johnny Depp\n",
       "Rango                                                     Johnny Depp\n",
       "The Bourne Ultimatum                                       Matt Damon\n",
       "Pirates of the Caribbean: The Curse of the Black Pearl    Johnny Depp\n",
       "The Da Vinci Code                                           Tom Hanks\n",
       "Name: actor_1_name, dtype: object"
      ]
     },
     "execution_count": 11,
     "metadata": {},
     "output_type": "execute_result"
    }
   ],
   "source": [
    "actor1[criteria].head(15)"
   ]
  },
  {
   "cell_type": "markdown",
   "metadata": {},
   "source": [
    "## Multiple boolean expressions\n",
    "Any number of boolean conditions can be strung together to retrieve certain values just as they can in python. The key words **`and`**, **`or`** and **`not`** do not work with pandas and numpy. Instead, `and` is replaced with **`&`**, `or` with **`|`** and `not` with **`~`**. Also, each comparison expression must be wrapped in parentheses.\n",
    "\n",
    "Let's select the **`duration`** column and run though examples of multiple boolean expressions"
   ]
  },
  {
   "cell_type": "code",
   "execution_count": 12,
   "metadata": {},
   "outputs": [
    {
     "data": {
      "text/plain": [
       "movie_title\n",
       "Avatar                                        178.0\n",
       "Pirates of the Caribbean: At World's End      169.0\n",
       "Spectre                                       148.0\n",
       "The Dark Knight Rises                         164.0\n",
       "Star Wars: Episode VII - The Force Awakens      NaN\n",
       "Name: duration, dtype: float64"
      ]
     },
     "execution_count": 12,
     "metadata": {},
     "output_type": "execute_result"
    }
   ],
   "source": [
    "duration = movie['duration']\n",
    "duration.head()"
   ]
  },
  {
   "cell_type": "markdown",
   "metadata": {},
   "source": [
    "#### Find all movies that lasted between two and three hours.\n",
    "Use the **and** operator **&**"
   ]
  },
  {
   "cell_type": "code",
   "execution_count": 13,
   "metadata": {},
   "outputs": [
    {
     "data": {
      "text/plain": [
       "movie_title\n",
       "Avatar                                      178.0\n",
       "Pirates of the Caribbean: At World's End    169.0\n",
       "Spectre                                     148.0\n",
       "The Dark Knight Rises                       164.0\n",
       "John Carter                                 132.0\n",
       "Name: duration, dtype: float64"
      ]
     },
     "execution_count": 13,
     "metadata": {},
     "output_type": "execute_result"
    }
   ],
   "source": [
    "criteria = (duration >= 120) & (duration <= 180)\n",
    "duration[criteria].head()"
   ]
  },
  {
   "cell_type": "markdown",
   "metadata": {},
   "source": [
    "#### Find all movies that lasted either less than two hours or more than three hours\n",
    "Use the **or** operator **|**"
   ]
  },
  {
   "cell_type": "code",
   "execution_count": 14,
   "metadata": {},
   "outputs": [
    {
     "data": {
      "text/plain": [
       "movie_title\n",
       "Tangled                                100.0\n",
       "Batman v Superman: Dawn of Justice     183.0\n",
       "Quantum of Solace                      106.0\n",
       "Men in Black 3                         106.0\n",
       "The Hobbit: The Desolation of Smaug    186.0\n",
       "Name: duration, dtype: float64"
      ]
     },
     "execution_count": 14,
     "metadata": {},
     "output_type": "execute_result"
    }
   ],
   "source": [
    "criteria = (duration < 120) | (duration > 180)\n",
    "duration[criteria].head()"
   ]
  },
  {
   "cell_type": "markdown",
   "metadata": {},
   "source": [
    "#### Make the statements above equal with the not operator\n",
    "Use the not operator **~**"
   ]
  },
  {
   "cell_type": "code",
   "execution_count": 15,
   "metadata": {},
   "outputs": [
    {
     "data": {
      "text/plain": [
       "movie_title\n",
       "Avatar                                        178.0\n",
       "Pirates of the Caribbean: At World's End      169.0\n",
       "Spectre                                       148.0\n",
       "The Dark Knight Rises                         164.0\n",
       "Star Wars: Episode VII - The Force Awakens      NaN\n",
       "Name: duration, dtype: float64"
      ]
     },
     "execution_count": 15,
     "metadata": {},
     "output_type": "execute_result"
    }
   ],
   "source": [
    "criteria = ~((duration < 120) | (duration > 180))\n",
    "duration[criteria].head()"
   ]
  },
  {
   "cell_type": "markdown",
   "metadata": {},
   "source": [
    "#### Why is there a missing value in the above Series?\n",
    "All comparisons against a missing value are False. Reversing this with the not operator makes it True and hence it gets selected."
   ]
  },
  {
   "cell_type": "markdown",
   "metadata": {},
   "source": [
    "# Your Turn"
   ]
  },
  {
   "cell_type": "markdown",
   "metadata": {},
   "source": [
    "### Problem 1\n",
    "<span  style=\"color:green; font-size:16px\">Select the column **`movie_facebook_likes`** as a Series, save it to a variable with the same name and output its first 10 values.</span>"
   ]
  },
  {
   "cell_type": "code",
   "execution_count": 16,
   "metadata": {
    "collapsed": true
   },
   "outputs": [],
   "source": [
    "# your code here"
   ]
  },
  {
   "cell_type": "markdown",
   "metadata": {},
   "source": [
    "### Problem 2\n",
    "<span  style=\"color:green; font-size:16px\">Use boolean indexing to select all movies with 0 movie facebook likes.</span>"
   ]
  },
  {
   "cell_type": "code",
   "execution_count": 17,
   "metadata": {
    "collapsed": true
   },
   "outputs": [],
   "source": [
    "# your code here"
   ]
  },
  {
   "cell_type": "markdown",
   "metadata": {},
   "source": [
    "### Problem 3\n",
    "<span  style=\"color:green; font-size:16px\">Use boolean indexing to select all movies that don't have 0 movie facebook likes.</span>"
   ]
  },
  {
   "cell_type": "code",
   "execution_count": 18,
   "metadata": {
    "collapsed": true
   },
   "outputs": [],
   "source": [
    "# your code here"
   ]
  },
  {
   "cell_type": "markdown",
   "metadata": {},
   "source": [
    "### Problem 4\n",
    "<span  style=\"color:green; font-size:16px\">Use boolean indexing to select all movies with more than 50,000 likes but less than 100,000</span>"
   ]
  },
  {
   "cell_type": "code",
   "execution_count": 19,
   "metadata": {
    "collapsed": true
   },
   "outputs": [],
   "source": [
    "# your code here"
   ]
  },
  {
   "cell_type": "markdown",
   "metadata": {},
   "source": [
    "### Problem 5\n",
    "<span  style=\"color:green; font-size:16px\">Sort the values of the output from problem 4 and output the head and tail to validate the boolean indexing.</span>"
   ]
  },
  {
   "cell_type": "code",
   "execution_count": 20,
   "metadata": {
    "collapsed": true
   },
   "outputs": [],
   "source": [
    "# your code here"
   ]
  },
  {
   "cell_type": "markdown",
   "metadata": {},
   "source": [
    "### Problem 6\n",
    "<span  style=\"color:green; font-size:16px\">Use boolean indexing to select movies with facebook likes less than 1000 or greater than 100,000.</span>"
   ]
  },
  {
   "cell_type": "code",
   "execution_count": 21,
   "metadata": {
    "collapsed": true
   },
   "outputs": [],
   "source": [
    "# your code here"
   ]
  },
  {
   "cell_type": "markdown",
   "metadata": {},
   "source": [
    "### Problem 7\n",
    "<span  style=\"color:green; font-size:16px\">Use boolean indexing to select movies with facebook likes less than 1000 but greater than 0 or greater than 100,000.</span>"
   ]
  },
  {
   "cell_type": "code",
   "execution_count": 22,
   "metadata": {
    "collapsed": true
   },
   "outputs": [],
   "source": [
    "# your code here"
   ]
  },
  {
   "cell_type": "markdown",
   "metadata": {},
   "source": [
    "### Problem 8\n",
    "<span  style=\"color:green; font-size:16px\">Use boolean indexing to select movies with facebook likes less than 1000 but greater than 0 or greater than 100,000 but less than 120,000. Think about breaking up the boolean expression into two different criteria before combining them together.</span>"
   ]
  },
  {
   "cell_type": "code",
   "execution_count": 23,
   "metadata": {
    "collapsed": true
   },
   "outputs": [],
   "source": [
    "# your code here"
   ]
  },
  {
   "cell_type": "markdown",
   "metadata": {},
   "source": [
    "### Problem 9\n",
    "<span  style=\"color:green; font-size:16px\">Reverse the boolean selection from problem 8.</span>"
   ]
  },
  {
   "cell_type": "code",
   "execution_count": 24,
   "metadata": {
    "collapsed": true
   },
   "outputs": [],
   "source": [
    "# your code here"
   ]
  },
  {
   "cell_type": "markdown",
   "metadata": {},
   "source": [
    "### Problem 10\n",
    "<span  style=\"color:green; font-size:16px\">Use the **`between`** method to replicate problem 4.</span>"
   ]
  },
  {
   "cell_type": "code",
   "execution_count": 25,
   "metadata": {
    "collapsed": true
   },
   "outputs": [],
   "source": [
    "# your code here"
   ]
  },
  {
   "cell_type": "markdown",
   "metadata": {},
   "source": [
    "### Problem 11\n",
    "<span  style=\"color:green; font-size:16px\">How many movies have more than 100,000 facebook likes?</span>"
   ]
  },
  {
   "cell_type": "code",
   "execution_count": 26,
   "metadata": {
    "collapsed": true
   },
   "outputs": [],
   "source": [
    "# your code here"
   ]
  }
 ],
 "metadata": {
  "anaconda-cloud": {},
  "kernelspec": {
   "display_name": "Python 3",
   "language": "python",
   "name": "python3"
  },
  "language_info": {
   "codemirror_mode": {
    "name": "ipython",
    "version": 3
   },
   "file_extension": ".py",
   "mimetype": "text/x-python",
   "name": "python",
   "nbconvert_exporter": "python",
   "pygments_lexer": "ipython3",
   "version": "3.6.1"
  }
 },
 "nbformat": 4,
 "nbformat_minor": 1
}
