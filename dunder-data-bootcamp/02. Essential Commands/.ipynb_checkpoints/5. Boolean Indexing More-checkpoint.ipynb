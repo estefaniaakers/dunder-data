{
 "cells": [
  {
   "cell_type": "markdown",
   "metadata": {},
   "source": [
    "# 5. Boolean Indexing More\n",
    "\n",
    "### Objectives\n",
    "\n",
    "+ Boolean Selection with the brackets on a Series\n",
    "+ Using the `between` method instead of an `and` condition\n",
    "+ Simultaneously select rows with boolean selection and columns with a list of names with `.loc`\n",
    "+ Select rows with missing values with the `isna` method"
   ]
  },
  {
   "cell_type": "markdown",
   "metadata": {},
   "source": [
    "## Boolean Selection on a Series\n",
    "All the examples thus far have taken place on the bikes DataFrame. Boolean selection on a Series happens almost identically. Since there is only one dimension of data, the queries you ask are usually going to be simpler.\n",
    "\n",
    "First, let’s select a single column of data as a Series such as the temperature column."
   ]
  },
  {
   "cell_type": "code",
   "execution_count": 23,
   "metadata": {},
   "outputs": [],
   "source": [
    "import pandas as pd\n",
    "bikes = pd.read_csv('../data/bikes.csv', parse_dates=['starttime', 'stoptime'])"
   ]
  },
  {
   "cell_type": "code",
   "execution_count": 6,
   "metadata": {},
   "outputs": [
    {
     "data": {
      "text/plain": [
       "0    73.9\n",
       "1    69.1\n",
       "2    73.0\n",
       "3    72.0\n",
       "4    73.0\n",
       "Name: temperature, dtype: float64"
      ]
     },
     "execution_count": 6,
     "metadata": {},
     "output_type": "execute_result"
    }
   ],
   "source": [
    "temp = bikes['temperature']\n",
    "temp.head()"
   ]
  },
  {
   "cell_type": "markdown",
   "metadata": {},
   "source": [
    "Let's select temperatures greater than 90"
   ]
  },
  {
   "cell_type": "code",
   "execution_count": 7,
   "metadata": {},
   "outputs": [
    {
     "data": {
      "text/plain": [
       "54    91.0\n",
       "55    91.0\n",
       "56    91.0\n",
       "61    93.0\n",
       "62    93.0\n",
       "Name: temperature, dtype: float64"
      ]
     },
     "execution_count": 7,
     "metadata": {},
     "output_type": "execute_result"
    }
   ],
   "source": [
    "temp[temp > 90].head()"
   ]
  },
  {
   "cell_type": "markdown",
   "metadata": {},
   "source": [
    "Select temperature less than 0 or greater than 95"
   ]
  },
  {
   "cell_type": "code",
   "execution_count": 8,
   "metadata": {},
   "outputs": [
    {
     "data": {
      "text/plain": [
       "395     96.1\n",
       "396     96.1\n",
       "397     96.1\n",
       "1871    -2.0\n",
       "2049    -2.0\n",
       "Name: temperature, dtype: float64"
      ]
     },
     "execution_count": 8,
     "metadata": {},
     "output_type": "execute_result"
    }
   ],
   "source": [
    "temp[(temp < 0) | (temp > 95)].head()"
   ]
  },
  {
   "cell_type": "markdown",
   "metadata": {},
   "source": [
    "## Re-read data with `starttime` in the index\n",
    "The default index is not very helpful. Let's re-read data with **`starttime`** in the index. While, this column may not be unique it does provide us with useful information for the index."
   ]
  },
  {
   "cell_type": "code",
   "execution_count": 25,
   "metadata": {},
   "outputs": [
    {
     "data": {
      "text/html": [
       "<div>\n",
       "<style scoped>\n",
       "    .dataframe tbody tr th:only-of-type {\n",
       "        vertical-align: middle;\n",
       "    }\n",
       "\n",
       "    .dataframe tbody tr th {\n",
       "        vertical-align: top;\n",
       "    }\n",
       "\n",
       "    .dataframe thead th {\n",
       "        text-align: right;\n",
       "    }\n",
       "</style>\n",
       "<table border=\"1\" class=\"dataframe\">\n",
       "  <thead>\n",
       "    <tr style=\"text-align: right;\">\n",
       "      <th></th>\n",
       "      <th>trip_id</th>\n",
       "      <th>usertype</th>\n",
       "      <th>gender</th>\n",
       "      <th>stoptime</th>\n",
       "      <th>tripduration</th>\n",
       "      <th>from_station_name</th>\n",
       "      <th>latitude_start</th>\n",
       "      <th>longitude_start</th>\n",
       "      <th>dpcapacity_start</th>\n",
       "      <th>to_station_name</th>\n",
       "      <th>latitude_end</th>\n",
       "      <th>longitude_end</th>\n",
       "      <th>dpcapacity_end</th>\n",
       "      <th>temperature</th>\n",
       "      <th>visibility</th>\n",
       "      <th>wind_speed</th>\n",
       "      <th>precipitation</th>\n",
       "      <th>events</th>\n",
       "    </tr>\n",
       "    <tr>\n",
       "      <th>starttime</th>\n",
       "      <th></th>\n",
       "      <th></th>\n",
       "      <th></th>\n",
       "      <th></th>\n",
       "      <th></th>\n",
       "      <th></th>\n",
       "      <th></th>\n",
       "      <th></th>\n",
       "      <th></th>\n",
       "      <th></th>\n",
       "      <th></th>\n",
       "      <th></th>\n",
       "      <th></th>\n",
       "      <th></th>\n",
       "      <th></th>\n",
       "      <th></th>\n",
       "      <th></th>\n",
       "      <th></th>\n",
       "    </tr>\n",
       "  </thead>\n",
       "  <tbody>\n",
       "    <tr>\n",
       "      <th>2013-06-28 19:01:00</th>\n",
       "      <td>7147</td>\n",
       "      <td>Subscriber</td>\n",
       "      <td>Male</td>\n",
       "      <td>2013-06-28 19:17:00</td>\n",
       "      <td>993</td>\n",
       "      <td>Lake Shore Dr &amp; Monroe St</td>\n",
       "      <td>41.881050</td>\n",
       "      <td>-87.616970</td>\n",
       "      <td>11.0</td>\n",
       "      <td>Michigan Ave &amp; Oak St</td>\n",
       "      <td>41.900960</td>\n",
       "      <td>-87.623777</td>\n",
       "      <td>15.0</td>\n",
       "      <td>73.9</td>\n",
       "      <td>10.0</td>\n",
       "      <td>12.7</td>\n",
       "      <td>-9999.0</td>\n",
       "      <td>mostlycloudy</td>\n",
       "    </tr>\n",
       "    <tr>\n",
       "      <th>2013-06-28 22:53:00</th>\n",
       "      <td>7524</td>\n",
       "      <td>Subscriber</td>\n",
       "      <td>Male</td>\n",
       "      <td>2013-06-28 23:03:00</td>\n",
       "      <td>623</td>\n",
       "      <td>Clinton St &amp; Washington Blvd</td>\n",
       "      <td>41.883380</td>\n",
       "      <td>-87.641170</td>\n",
       "      <td>31.0</td>\n",
       "      <td>Wells St &amp; Walton St</td>\n",
       "      <td>41.899930</td>\n",
       "      <td>-87.634430</td>\n",
       "      <td>19.0</td>\n",
       "      <td>69.1</td>\n",
       "      <td>10.0</td>\n",
       "      <td>6.9</td>\n",
       "      <td>-9999.0</td>\n",
       "      <td>partlycloudy</td>\n",
       "    </tr>\n",
       "    <tr>\n",
       "      <th>2013-06-30 14:43:00</th>\n",
       "      <td>10927</td>\n",
       "      <td>Subscriber</td>\n",
       "      <td>Male</td>\n",
       "      <td>2013-06-30 15:01:00</td>\n",
       "      <td>1040</td>\n",
       "      <td>Sheffield Ave &amp; Kingsbury St</td>\n",
       "      <td>41.909592</td>\n",
       "      <td>-87.653497</td>\n",
       "      <td>15.0</td>\n",
       "      <td>Dearborn St &amp; Monroe St</td>\n",
       "      <td>41.881320</td>\n",
       "      <td>-87.629521</td>\n",
       "      <td>23.0</td>\n",
       "      <td>73.0</td>\n",
       "      <td>10.0</td>\n",
       "      <td>16.1</td>\n",
       "      <td>-9999.0</td>\n",
       "      <td>mostlycloudy</td>\n",
       "    </tr>\n",
       "    <tr>\n",
       "      <th>2013-07-01 10:05:00</th>\n",
       "      <td>12907</td>\n",
       "      <td>Subscriber</td>\n",
       "      <td>Male</td>\n",
       "      <td>2013-07-01 10:16:00</td>\n",
       "      <td>667</td>\n",
       "      <td>Carpenter St &amp; Huron St</td>\n",
       "      <td>41.894556</td>\n",
       "      <td>-87.653449</td>\n",
       "      <td>19.0</td>\n",
       "      <td>Clark St &amp; Randolph St</td>\n",
       "      <td>41.884576</td>\n",
       "      <td>-87.631890</td>\n",
       "      <td>31.0</td>\n",
       "      <td>72.0</td>\n",
       "      <td>10.0</td>\n",
       "      <td>16.1</td>\n",
       "      <td>-9999.0</td>\n",
       "      <td>mostlycloudy</td>\n",
       "    </tr>\n",
       "    <tr>\n",
       "      <th>2013-07-01 11:16:00</th>\n",
       "      <td>13168</td>\n",
       "      <td>Subscriber</td>\n",
       "      <td>Male</td>\n",
       "      <td>2013-07-01 11:18:00</td>\n",
       "      <td>130</td>\n",
       "      <td>Damen Ave &amp; Pierce Ave</td>\n",
       "      <td>41.909396</td>\n",
       "      <td>-87.677692</td>\n",
       "      <td>19.0</td>\n",
       "      <td>Damen Ave &amp; Pierce Ave</td>\n",
       "      <td>41.909396</td>\n",
       "      <td>-87.677692</td>\n",
       "      <td>19.0</td>\n",
       "      <td>73.0</td>\n",
       "      <td>10.0</td>\n",
       "      <td>17.3</td>\n",
       "      <td>-9999.0</td>\n",
       "      <td>partlycloudy</td>\n",
       "    </tr>\n",
       "  </tbody>\n",
       "</table>\n",
       "</div>"
      ],
      "text/plain": [
       "                     trip_id    usertype gender            stoptime  \\\n",
       "starttime                                                             \n",
       "2013-06-28 19:01:00     7147  Subscriber   Male 2013-06-28 19:17:00   \n",
       "2013-06-28 22:53:00     7524  Subscriber   Male 2013-06-28 23:03:00   \n",
       "2013-06-30 14:43:00    10927  Subscriber   Male 2013-06-30 15:01:00   \n",
       "2013-07-01 10:05:00    12907  Subscriber   Male 2013-07-01 10:16:00   \n",
       "2013-07-01 11:16:00    13168  Subscriber   Male 2013-07-01 11:18:00   \n",
       "\n",
       "                     tripduration             from_station_name  \\\n",
       "starttime                                                         \n",
       "2013-06-28 19:01:00           993     Lake Shore Dr & Monroe St   \n",
       "2013-06-28 22:53:00           623  Clinton St & Washington Blvd   \n",
       "2013-06-30 14:43:00          1040  Sheffield Ave & Kingsbury St   \n",
       "2013-07-01 10:05:00           667       Carpenter St & Huron St   \n",
       "2013-07-01 11:16:00           130        Damen Ave & Pierce Ave   \n",
       "\n",
       "                     latitude_start  longitude_start  dpcapacity_start  \\\n",
       "starttime                                                                \n",
       "2013-06-28 19:01:00       41.881050       -87.616970              11.0   \n",
       "2013-06-28 22:53:00       41.883380       -87.641170              31.0   \n",
       "2013-06-30 14:43:00       41.909592       -87.653497              15.0   \n",
       "2013-07-01 10:05:00       41.894556       -87.653449              19.0   \n",
       "2013-07-01 11:16:00       41.909396       -87.677692              19.0   \n",
       "\n",
       "                             to_station_name  latitude_end  longitude_end  \\\n",
       "starttime                                                                   \n",
       "2013-06-28 19:01:00    Michigan Ave & Oak St     41.900960     -87.623777   \n",
       "2013-06-28 22:53:00     Wells St & Walton St     41.899930     -87.634430   \n",
       "2013-06-30 14:43:00  Dearborn St & Monroe St     41.881320     -87.629521   \n",
       "2013-07-01 10:05:00   Clark St & Randolph St     41.884576     -87.631890   \n",
       "2013-07-01 11:16:00   Damen Ave & Pierce Ave     41.909396     -87.677692   \n",
       "\n",
       "                     dpcapacity_end  temperature  visibility  wind_speed  \\\n",
       "starttime                                                                  \n",
       "2013-06-28 19:01:00            15.0         73.9        10.0        12.7   \n",
       "2013-06-28 22:53:00            19.0         69.1        10.0         6.9   \n",
       "2013-06-30 14:43:00            23.0         73.0        10.0        16.1   \n",
       "2013-07-01 10:05:00            31.0         72.0        10.0        16.1   \n",
       "2013-07-01 11:16:00            19.0         73.0        10.0        17.3   \n",
       "\n",
       "                     precipitation        events  \n",
       "starttime                                         \n",
       "2013-06-28 19:01:00        -9999.0  mostlycloudy  \n",
       "2013-06-28 22:53:00        -9999.0  partlycloudy  \n",
       "2013-06-30 14:43:00        -9999.0  mostlycloudy  \n",
       "2013-07-01 10:05:00        -9999.0  mostlycloudy  \n",
       "2013-07-01 11:16:00        -9999.0  partlycloudy  "
      ]
     },
     "execution_count": 25,
     "metadata": {},
     "output_type": "execute_result"
    }
   ],
   "source": [
    "bikes = pd.read_csv('../data/bikes.csv', \n",
    "                    parse_dates=['starttime', 'stoptime'], \n",
    "                    index_col='starttime')\n",
    "bikes.head()"
   ]
  },
  {
   "cell_type": "code",
   "execution_count": 26,
   "metadata": {},
   "outputs": [
    {
     "data": {
      "text/plain": [
       "starttime\n",
       "2013-06-28 19:01:00    73.9\n",
       "2013-06-28 22:53:00    69.1\n",
       "2013-06-30 14:43:00    73.0\n",
       "2013-07-01 10:05:00    72.0\n",
       "2013-07-01 11:16:00    73.0\n",
       "Name: temperature, dtype: float64"
      ]
     },
     "execution_count": 26,
     "metadata": {},
     "output_type": "execute_result"
    }
   ],
   "source": [
    "temp2 = bikes['temperature']\n",
    "temp2.head()"
   ]
  },
  {
   "cell_type": "markdown",
   "metadata": {},
   "source": [
    "Let's select temperatures greater than 90. We expect to get a summer month and we do."
   ]
  },
  {
   "cell_type": "code",
   "execution_count": 29,
   "metadata": {},
   "outputs": [
    {
     "data": {
      "text/plain": [
       "starttime\n",
       "2013-07-16 15:13:00    91.0\n",
       "2013-07-16 15:31:00    91.0\n",
       "2013-07-16 16:35:00    91.0\n",
       "2013-07-17 17:08:00    93.0\n",
       "2013-07-17 17:25:00    93.0\n",
       "Name: temperature, dtype: float64"
      ]
     },
     "execution_count": 29,
     "metadata": {},
     "output_type": "execute_result"
    }
   ],
   "source": [
    "temp2[temp2 > 90].head()"
   ]
  },
  {
   "cell_type": "markdown",
   "metadata": {},
   "source": [
    "Select temperature less than 0 or greater than 95. We expect to get winter months and we do."
   ]
  },
  {
   "cell_type": "code",
   "execution_count": 30,
   "metadata": {},
   "outputs": [
    {
     "data": {
      "text/plain": [
       "starttime\n",
       "2013-08-30 15:33:00    96.1\n",
       "2013-08-30 15:37:00    96.1\n",
       "2013-08-30 15:49:00    96.1\n",
       "2013-12-12 05:13:00    -2.0\n",
       "2014-01-23 06:15:00    -2.0\n",
       "Name: temperature, dtype: float64"
      ]
     },
     "execution_count": 30,
     "metadata": {},
     "output_type": "execute_result"
    }
   ],
   "source": [
    "temp2[(temp2 < 0) | (temp2 > 95)].head()"
   ]
  },
  {
   "cell_type": "markdown",
   "metadata": {},
   "source": [
    "## The `between` method\n",
    "The `between` method return a boolean Series by testing whether the current value is between two given values. For instance, if want to select the temperatures between 50 and 60 degrees (inclusive), we do the following:"
   ]
  },
  {
   "cell_type": "code",
   "execution_count": 37,
   "metadata": {},
   "outputs": [
    {
     "data": {
      "text/plain": [
       "starttime\n",
       "2013-06-28 19:01:00    False\n",
       "2013-06-28 22:53:00    False\n",
       "2013-06-30 14:43:00    False\n",
       "2013-07-01 10:05:00    False\n",
       "2013-07-01 11:16:00    False\n",
       "Name: temperature, dtype: bool"
      ]
     },
     "execution_count": 37,
     "metadata": {},
     "output_type": "execute_result"
    }
   ],
   "source": [
    "criteria = temp2.between(50, 60)\n",
    "criteria.head()"
   ]
  },
  {
   "cell_type": "code",
   "execution_count": 39,
   "metadata": {},
   "outputs": [
    {
     "data": {
      "text/plain": [
       "starttime\n",
       "2013-09-13 07:55:00    54.0\n",
       "2013-09-13 08:04:00    57.9\n",
       "2013-09-13 08:04:00    57.9\n",
       "2013-09-13 08:06:00    57.9\n",
       "2013-09-13 08:22:00    57.9\n",
       "Name: temperature, dtype: float64"
      ]
     },
     "execution_count": 39,
     "metadata": {},
     "output_type": "execute_result"
    }
   ],
   "source": [
    "temp2[criteria].head()"
   ]
  },
  {
   "cell_type": "markdown",
   "metadata": {},
   "source": [
    "# Simultaneous boolean selection of rows and column labels with `.loc`\n",
    "The **`.loc`** indexer was thoroughly covered in an earlier notebook and will now be covered here to simultaneously select rows and columns. Earlier, it was stated that **`.loc`** made selections only by label. This wasn't strictly true as it is also able to do boolean selection along with selection by label.\n",
    "\n",
    "Remember that **`.loc`** takes both a row selection and a column selection separated by a comma. Since the row selection comes first, you can pass it the same exact inputs that you do for just the brackets and get the same results.\n",
    "\n",
    "Let's run some of the older examples of boolean selection with **`.loc`**."
   ]
  },
  {
   "cell_type": "code",
   "execution_count": 41,
   "metadata": {},
   "outputs": [
    {
     "data": {
      "text/html": [
       "<div>\n",
       "<style scoped>\n",
       "    .dataframe tbody tr th:only-of-type {\n",
       "        vertical-align: middle;\n",
       "    }\n",
       "\n",
       "    .dataframe tbody tr th {\n",
       "        vertical-align: top;\n",
       "    }\n",
       "\n",
       "    .dataframe thead th {\n",
       "        text-align: right;\n",
       "    }\n",
       "</style>\n",
       "<table border=\"1\" class=\"dataframe\">\n",
       "  <thead>\n",
       "    <tr style=\"text-align: right;\">\n",
       "      <th></th>\n",
       "      <th>trip_id</th>\n",
       "      <th>usertype</th>\n",
       "      <th>gender</th>\n",
       "      <th>stoptime</th>\n",
       "      <th>tripduration</th>\n",
       "      <th>from_station_name</th>\n",
       "      <th>latitude_start</th>\n",
       "      <th>longitude_start</th>\n",
       "      <th>dpcapacity_start</th>\n",
       "      <th>to_station_name</th>\n",
       "      <th>latitude_end</th>\n",
       "      <th>longitude_end</th>\n",
       "      <th>dpcapacity_end</th>\n",
       "      <th>temperature</th>\n",
       "      <th>visibility</th>\n",
       "      <th>wind_speed</th>\n",
       "      <th>precipitation</th>\n",
       "      <th>events</th>\n",
       "    </tr>\n",
       "    <tr>\n",
       "      <th>starttime</th>\n",
       "      <th></th>\n",
       "      <th></th>\n",
       "      <th></th>\n",
       "      <th></th>\n",
       "      <th></th>\n",
       "      <th></th>\n",
       "      <th></th>\n",
       "      <th></th>\n",
       "      <th></th>\n",
       "      <th></th>\n",
       "      <th></th>\n",
       "      <th></th>\n",
       "      <th></th>\n",
       "      <th></th>\n",
       "      <th></th>\n",
       "      <th></th>\n",
       "      <th></th>\n",
       "      <th></th>\n",
       "    </tr>\n",
       "  </thead>\n",
       "  <tbody>\n",
       "    <tr>\n",
       "      <th>2013-06-30 14:43:00</th>\n",
       "      <td>10927</td>\n",
       "      <td>Subscriber</td>\n",
       "      <td>Male</td>\n",
       "      <td>2013-06-30 15:01:00</td>\n",
       "      <td>1040</td>\n",
       "      <td>Sheffield Ave &amp; Kingsbury St</td>\n",
       "      <td>41.909592</td>\n",
       "      <td>-87.653497</td>\n",
       "      <td>15.0</td>\n",
       "      <td>Dearborn St &amp; Monroe St</td>\n",
       "      <td>41.881320</td>\n",
       "      <td>-87.629521</td>\n",
       "      <td>23.0</td>\n",
       "      <td>73.0</td>\n",
       "      <td>10.0</td>\n",
       "      <td>16.1</td>\n",
       "      <td>-9999.0</td>\n",
       "      <td>mostlycloudy</td>\n",
       "    </tr>\n",
       "    <tr>\n",
       "      <th>2013-07-03 15:21:00</th>\n",
       "      <td>21028</td>\n",
       "      <td>Subscriber</td>\n",
       "      <td>Male</td>\n",
       "      <td>2013-07-03 15:42:00</td>\n",
       "      <td>1300</td>\n",
       "      <td>Clinton St &amp; Washington Blvd</td>\n",
       "      <td>41.883380</td>\n",
       "      <td>-87.641170</td>\n",
       "      <td>31.0</td>\n",
       "      <td>Wood St &amp; Division St</td>\n",
       "      <td>41.903320</td>\n",
       "      <td>-87.672730</td>\n",
       "      <td>15.0</td>\n",
       "      <td>71.1</td>\n",
       "      <td>8.0</td>\n",
       "      <td>0.0</td>\n",
       "      <td>-9999.0</td>\n",
       "      <td>cloudy</td>\n",
       "    </tr>\n",
       "    <tr>\n",
       "      <th>2013-07-04 17:17:00</th>\n",
       "      <td>24383</td>\n",
       "      <td>Subscriber</td>\n",
       "      <td>Male</td>\n",
       "      <td>2013-07-04 17:42:00</td>\n",
       "      <td>1523</td>\n",
       "      <td>Morgan St &amp; 18th St</td>\n",
       "      <td>41.858086</td>\n",
       "      <td>-87.651073</td>\n",
       "      <td>15.0</td>\n",
       "      <td>Damen Ave &amp; Pierce Ave</td>\n",
       "      <td>41.909396</td>\n",
       "      <td>-87.677692</td>\n",
       "      <td>19.0</td>\n",
       "      <td>79.0</td>\n",
       "      <td>10.0</td>\n",
       "      <td>9.2</td>\n",
       "      <td>-9999.0</td>\n",
       "      <td>mostlycloudy</td>\n",
       "    </tr>\n",
       "    <tr>\n",
       "      <th>2013-07-04 18:13:00</th>\n",
       "      <td>24673</td>\n",
       "      <td>Subscriber</td>\n",
       "      <td>Male</td>\n",
       "      <td>2013-07-04 18:42:00</td>\n",
       "      <td>1697</td>\n",
       "      <td>Ashland Ave &amp; Armitage Ave</td>\n",
       "      <td>41.917859</td>\n",
       "      <td>-87.668919</td>\n",
       "      <td>15.0</td>\n",
       "      <td>Lincoln Ave &amp; Armitage Ave</td>\n",
       "      <td>41.918273</td>\n",
       "      <td>-87.638116</td>\n",
       "      <td>19.0</td>\n",
       "      <td>79.0</td>\n",
       "      <td>10.0</td>\n",
       "      <td>10.4</td>\n",
       "      <td>-9999.0</td>\n",
       "      <td>mostlycloudy</td>\n",
       "    </tr>\n",
       "    <tr>\n",
       "      <th>2013-07-05 10:02:00</th>\n",
       "      <td>26214</td>\n",
       "      <td>Subscriber</td>\n",
       "      <td>Male</td>\n",
       "      <td>2013-07-05 10:40:00</td>\n",
       "      <td>2263</td>\n",
       "      <td>Jefferson St &amp; Monroe St</td>\n",
       "      <td>41.880422</td>\n",
       "      <td>-87.642746</td>\n",
       "      <td>19.0</td>\n",
       "      <td>Jefferson St &amp; Monroe St</td>\n",
       "      <td>41.880422</td>\n",
       "      <td>-87.642746</td>\n",
       "      <td>19.0</td>\n",
       "      <td>79.0</td>\n",
       "      <td>10.0</td>\n",
       "      <td>0.0</td>\n",
       "      <td>-9999.0</td>\n",
       "      <td>partlycloudy</td>\n",
       "    </tr>\n",
       "  </tbody>\n",
       "</table>\n",
       "</div>"
      ],
      "text/plain": [
       "                     trip_id    usertype gender            stoptime  \\\n",
       "starttime                                                             \n",
       "2013-06-30 14:43:00    10927  Subscriber   Male 2013-06-30 15:01:00   \n",
       "2013-07-03 15:21:00    21028  Subscriber   Male 2013-07-03 15:42:00   \n",
       "2013-07-04 17:17:00    24383  Subscriber   Male 2013-07-04 17:42:00   \n",
       "2013-07-04 18:13:00    24673  Subscriber   Male 2013-07-04 18:42:00   \n",
       "2013-07-05 10:02:00    26214  Subscriber   Male 2013-07-05 10:40:00   \n",
       "\n",
       "                     tripduration             from_station_name  \\\n",
       "starttime                                                         \n",
       "2013-06-30 14:43:00          1040  Sheffield Ave & Kingsbury St   \n",
       "2013-07-03 15:21:00          1300  Clinton St & Washington Blvd   \n",
       "2013-07-04 17:17:00          1523           Morgan St & 18th St   \n",
       "2013-07-04 18:13:00          1697    Ashland Ave & Armitage Ave   \n",
       "2013-07-05 10:02:00          2263      Jefferson St & Monroe St   \n",
       "\n",
       "                     latitude_start  longitude_start  dpcapacity_start  \\\n",
       "starttime                                                                \n",
       "2013-06-30 14:43:00       41.909592       -87.653497              15.0   \n",
       "2013-07-03 15:21:00       41.883380       -87.641170              31.0   \n",
       "2013-07-04 17:17:00       41.858086       -87.651073              15.0   \n",
       "2013-07-04 18:13:00       41.917859       -87.668919              15.0   \n",
       "2013-07-05 10:02:00       41.880422       -87.642746              19.0   \n",
       "\n",
       "                                to_station_name  latitude_end  longitude_end  \\\n",
       "starttime                                                                      \n",
       "2013-06-30 14:43:00     Dearborn St & Monroe St     41.881320     -87.629521   \n",
       "2013-07-03 15:21:00       Wood St & Division St     41.903320     -87.672730   \n",
       "2013-07-04 17:17:00      Damen Ave & Pierce Ave     41.909396     -87.677692   \n",
       "2013-07-04 18:13:00  Lincoln Ave & Armitage Ave     41.918273     -87.638116   \n",
       "2013-07-05 10:02:00    Jefferson St & Monroe St     41.880422     -87.642746   \n",
       "\n",
       "                     dpcapacity_end  temperature  visibility  wind_speed  \\\n",
       "starttime                                                                  \n",
       "2013-06-30 14:43:00            23.0         73.0        10.0        16.1   \n",
       "2013-07-03 15:21:00            15.0         71.1         8.0         0.0   \n",
       "2013-07-04 17:17:00            19.0         79.0        10.0         9.2   \n",
       "2013-07-04 18:13:00            19.0         79.0        10.0        10.4   \n",
       "2013-07-05 10:02:00            19.0         79.0        10.0         0.0   \n",
       "\n",
       "                     precipitation        events  \n",
       "starttime                                         \n",
       "2013-06-30 14:43:00        -9999.0  mostlycloudy  \n",
       "2013-07-03 15:21:00        -9999.0        cloudy  \n",
       "2013-07-04 17:17:00        -9999.0  mostlycloudy  \n",
       "2013-07-04 18:13:00        -9999.0  mostlycloudy  \n",
       "2013-07-05 10:02:00        -9999.0  partlycloudy  "
      ]
     },
     "execution_count": 41,
     "metadata": {},
     "output_type": "execute_result"
    }
   ],
   "source": [
    "bikes.loc[bikes['tripduration'] > 1000].head()"
   ]
  },
  {
   "cell_type": "code",
   "execution_count": 42,
   "metadata": {},
   "outputs": [
    {
     "data": {
      "text/html": [
       "<div>\n",
       "<style scoped>\n",
       "    .dataframe tbody tr th:only-of-type {\n",
       "        vertical-align: middle;\n",
       "    }\n",
       "\n",
       "    .dataframe tbody tr th {\n",
       "        vertical-align: top;\n",
       "    }\n",
       "\n",
       "    .dataframe thead th {\n",
       "        text-align: right;\n",
       "    }\n",
       "</style>\n",
       "<table border=\"1\" class=\"dataframe\">\n",
       "  <thead>\n",
       "    <tr style=\"text-align: right;\">\n",
       "      <th></th>\n",
       "      <th>trip_id</th>\n",
       "      <th>usertype</th>\n",
       "      <th>gender</th>\n",
       "      <th>stoptime</th>\n",
       "      <th>tripduration</th>\n",
       "      <th>from_station_name</th>\n",
       "      <th>latitude_start</th>\n",
       "      <th>longitude_start</th>\n",
       "      <th>dpcapacity_start</th>\n",
       "      <th>to_station_name</th>\n",
       "      <th>latitude_end</th>\n",
       "      <th>longitude_end</th>\n",
       "      <th>dpcapacity_end</th>\n",
       "      <th>temperature</th>\n",
       "      <th>visibility</th>\n",
       "      <th>wind_speed</th>\n",
       "      <th>precipitation</th>\n",
       "      <th>events</th>\n",
       "    </tr>\n",
       "    <tr>\n",
       "      <th>starttime</th>\n",
       "      <th></th>\n",
       "      <th></th>\n",
       "      <th></th>\n",
       "      <th></th>\n",
       "      <th></th>\n",
       "      <th></th>\n",
       "      <th></th>\n",
       "      <th></th>\n",
       "      <th></th>\n",
       "      <th></th>\n",
       "      <th></th>\n",
       "      <th></th>\n",
       "      <th></th>\n",
       "      <th></th>\n",
       "      <th></th>\n",
       "      <th></th>\n",
       "      <th></th>\n",
       "      <th></th>\n",
       "    </tr>\n",
       "  </thead>\n",
       "  <tbody>\n",
       "    <tr>\n",
       "      <th>2013-07-15 16:43:00</th>\n",
       "      <td>66336</td>\n",
       "      <td>Subscriber</td>\n",
       "      <td>Male</td>\n",
       "      <td>2013-07-15 16:55:00</td>\n",
       "      <td>727</td>\n",
       "      <td>Greenwood Ave &amp; 47th St</td>\n",
       "      <td>41.809835</td>\n",
       "      <td>-87.599383</td>\n",
       "      <td>15.0</td>\n",
       "      <td>State St &amp; Harrison St</td>\n",
       "      <td>41.873958</td>\n",
       "      <td>-87.627739</td>\n",
       "      <td>19.0</td>\n",
       "      <td>82.9</td>\n",
       "      <td>10.0</td>\n",
       "      <td>5.8</td>\n",
       "      <td>0.0</td>\n",
       "      <td>rain</td>\n",
       "    </tr>\n",
       "    <tr>\n",
       "      <th>2013-07-21 16:35:00</th>\n",
       "      <td>89180</td>\n",
       "      <td>Subscriber</td>\n",
       "      <td>Male</td>\n",
       "      <td>2013-07-21 17:06:00</td>\n",
       "      <td>1809</td>\n",
       "      <td>Michigan Ave &amp; Pearson St</td>\n",
       "      <td>41.897660</td>\n",
       "      <td>-87.623510</td>\n",
       "      <td>23.0</td>\n",
       "      <td>Millennium Park</td>\n",
       "      <td>41.881032</td>\n",
       "      <td>-87.624084</td>\n",
       "      <td>35.0</td>\n",
       "      <td>82.4</td>\n",
       "      <td>10.0</td>\n",
       "      <td>11.5</td>\n",
       "      <td>0.0</td>\n",
       "      <td>tstorms</td>\n",
       "    </tr>\n",
       "    <tr>\n",
       "      <th>2013-07-21 16:47:00</th>\n",
       "      <td>89228</td>\n",
       "      <td>Subscriber</td>\n",
       "      <td>Male</td>\n",
       "      <td>2013-07-21 17:03:00</td>\n",
       "      <td>999</td>\n",
       "      <td>Carpenter St &amp; Huron St</td>\n",
       "      <td>41.894556</td>\n",
       "      <td>-87.653449</td>\n",
       "      <td>19.0</td>\n",
       "      <td>Carpenter St &amp; Huron St</td>\n",
       "      <td>41.894556</td>\n",
       "      <td>-87.653449</td>\n",
       "      <td>19.0</td>\n",
       "      <td>82.4</td>\n",
       "      <td>10.0</td>\n",
       "      <td>11.5</td>\n",
       "      <td>0.0</td>\n",
       "      <td>tstorms</td>\n",
       "    </tr>\n",
       "    <tr>\n",
       "      <th>2013-07-23 00:16:00</th>\n",
       "      <td>95044</td>\n",
       "      <td>Subscriber</td>\n",
       "      <td>Female</td>\n",
       "      <td>2013-07-23 00:26:00</td>\n",
       "      <td>563</td>\n",
       "      <td>Wabash Ave &amp; Roosevelt Rd</td>\n",
       "      <td>41.867173</td>\n",
       "      <td>-87.625955</td>\n",
       "      <td>19.0</td>\n",
       "      <td>Daley Center Plaza</td>\n",
       "      <td>41.884337</td>\n",
       "      <td>-87.630183</td>\n",
       "      <td>47.0</td>\n",
       "      <td>78.8</td>\n",
       "      <td>10.0</td>\n",
       "      <td>17.3</td>\n",
       "      <td>0.0</td>\n",
       "      <td>tstorms</td>\n",
       "    </tr>\n",
       "    <tr>\n",
       "      <th>2013-07-26 19:10:00</th>\n",
       "      <td>111568</td>\n",
       "      <td>Subscriber</td>\n",
       "      <td>Male</td>\n",
       "      <td>2013-07-26 19:33:00</td>\n",
       "      <td>1395</td>\n",
       "      <td>Larrabee St &amp; Kingsbury St</td>\n",
       "      <td>41.897764</td>\n",
       "      <td>-87.642884</td>\n",
       "      <td>27.0</td>\n",
       "      <td>Damen Ave &amp; Pierce Ave</td>\n",
       "      <td>41.909396</td>\n",
       "      <td>-87.677692</td>\n",
       "      <td>19.0</td>\n",
       "      <td>66.9</td>\n",
       "      <td>8.0</td>\n",
       "      <td>12.7</td>\n",
       "      <td>0.0</td>\n",
       "      <td>rain</td>\n",
       "    </tr>\n",
       "  </tbody>\n",
       "</table>\n",
       "</div>"
      ],
      "text/plain": [
       "                     trip_id    usertype  gender            stoptime  \\\n",
       "starttime                                                              \n",
       "2013-07-15 16:43:00    66336  Subscriber    Male 2013-07-15 16:55:00   \n",
       "2013-07-21 16:35:00    89180  Subscriber    Male 2013-07-21 17:06:00   \n",
       "2013-07-21 16:47:00    89228  Subscriber    Male 2013-07-21 17:03:00   \n",
       "2013-07-23 00:16:00    95044  Subscriber  Female 2013-07-23 00:26:00   \n",
       "2013-07-26 19:10:00   111568  Subscriber    Male 2013-07-26 19:33:00   \n",
       "\n",
       "                     tripduration           from_station_name  latitude_start  \\\n",
       "starttime                                                                       \n",
       "2013-07-15 16:43:00           727     Greenwood Ave & 47th St       41.809835   \n",
       "2013-07-21 16:35:00          1809   Michigan Ave & Pearson St       41.897660   \n",
       "2013-07-21 16:47:00           999     Carpenter St & Huron St       41.894556   \n",
       "2013-07-23 00:16:00           563   Wabash Ave & Roosevelt Rd       41.867173   \n",
       "2013-07-26 19:10:00          1395  Larrabee St & Kingsbury St       41.897764   \n",
       "\n",
       "                     longitude_start  dpcapacity_start  \\\n",
       "starttime                                                \n",
       "2013-07-15 16:43:00       -87.599383              15.0   \n",
       "2013-07-21 16:35:00       -87.623510              23.0   \n",
       "2013-07-21 16:47:00       -87.653449              19.0   \n",
       "2013-07-23 00:16:00       -87.625955              19.0   \n",
       "2013-07-26 19:10:00       -87.642884              27.0   \n",
       "\n",
       "                             to_station_name  latitude_end  longitude_end  \\\n",
       "starttime                                                                   \n",
       "2013-07-15 16:43:00   State St & Harrison St     41.873958     -87.627739   \n",
       "2013-07-21 16:35:00          Millennium Park     41.881032     -87.624084   \n",
       "2013-07-21 16:47:00  Carpenter St & Huron St     41.894556     -87.653449   \n",
       "2013-07-23 00:16:00       Daley Center Plaza     41.884337     -87.630183   \n",
       "2013-07-26 19:10:00   Damen Ave & Pierce Ave     41.909396     -87.677692   \n",
       "\n",
       "                     dpcapacity_end  temperature  visibility  wind_speed  \\\n",
       "starttime                                                                  \n",
       "2013-07-15 16:43:00            19.0         82.9        10.0         5.8   \n",
       "2013-07-21 16:35:00            35.0         82.4        10.0        11.5   \n",
       "2013-07-21 16:47:00            19.0         82.4        10.0        11.5   \n",
       "2013-07-23 00:16:00            47.0         78.8        10.0        17.3   \n",
       "2013-07-26 19:10:00            19.0         66.9         8.0        12.7   \n",
       "\n",
       "                     precipitation   events  \n",
       "starttime                                    \n",
       "2013-07-15 16:43:00            0.0     rain  \n",
       "2013-07-21 16:35:00            0.0  tstorms  \n",
       "2013-07-21 16:47:00            0.0  tstorms  \n",
       "2013-07-23 00:16:00            0.0  tstorms  \n",
       "2013-07-26 19:10:00            0.0     rain  "
      ]
     },
     "execution_count": 42,
     "metadata": {},
     "output_type": "execute_result"
    }
   ],
   "source": [
    "criteria = bikes['events'].isin(['rain', 'snow', 'tstorms', 'sleet'])\n",
    "bikes.loc[criteria].head()"
   ]
  },
  {
   "cell_type": "markdown",
   "metadata": {},
   "source": [
    "## Separate row and column selection with a comma for `.loc`\n",
    "The great benefit of **`.loc`** is that it allows us to simultaneously do boolean selection along the rows and make column selections by label.\n",
    "\n",
    "Let's select just the events rain and snow and only the columns events and trip duration."
   ]
  },
  {
   "cell_type": "code",
   "execution_count": 43,
   "metadata": {},
   "outputs": [
    {
     "data": {
      "text/html": [
       "<div>\n",
       "<style scoped>\n",
       "    .dataframe tbody tr th:only-of-type {\n",
       "        vertical-align: middle;\n",
       "    }\n",
       "\n",
       "    .dataframe tbody tr th {\n",
       "        vertical-align: top;\n",
       "    }\n",
       "\n",
       "    .dataframe thead th {\n",
       "        text-align: right;\n",
       "    }\n",
       "</style>\n",
       "<table border=\"1\" class=\"dataframe\">\n",
       "  <thead>\n",
       "    <tr style=\"text-align: right;\">\n",
       "      <th></th>\n",
       "      <th>events</th>\n",
       "      <th>tripduration</th>\n",
       "    </tr>\n",
       "    <tr>\n",
       "      <th>starttime</th>\n",
       "      <th></th>\n",
       "      <th></th>\n",
       "    </tr>\n",
       "  </thead>\n",
       "  <tbody>\n",
       "    <tr>\n",
       "      <th>2013-07-15 16:43:00</th>\n",
       "      <td>rain</td>\n",
       "      <td>727</td>\n",
       "    </tr>\n",
       "    <tr>\n",
       "      <th>2013-07-26 19:10:00</th>\n",
       "      <td>rain</td>\n",
       "      <td>1395</td>\n",
       "    </tr>\n",
       "    <tr>\n",
       "      <th>2013-07-30 18:53:00</th>\n",
       "      <td>rain</td>\n",
       "      <td>442</td>\n",
       "    </tr>\n",
       "    <tr>\n",
       "      <th>2013-08-05 17:09:00</th>\n",
       "      <td>rain</td>\n",
       "      <td>890</td>\n",
       "    </tr>\n",
       "    <tr>\n",
       "      <th>2013-09-07 16:09:00</th>\n",
       "      <td>rain</td>\n",
       "      <td>978</td>\n",
       "    </tr>\n",
       "  </tbody>\n",
       "</table>\n",
       "</div>"
      ],
      "text/plain": [
       "                    events  tripduration\n",
       "starttime                               \n",
       "2013-07-15 16:43:00   rain           727\n",
       "2013-07-26 19:10:00   rain          1395\n",
       "2013-07-30 18:53:00   rain           442\n",
       "2013-08-05 17:09:00   rain           890\n",
       "2013-09-07 16:09:00   rain           978"
      ]
     },
     "execution_count": 43,
     "metadata": {},
     "output_type": "execute_result"
    }
   ],
   "source": [
    "row_selection = bikes['events'].isin(['rain', 'snow'])\n",
    "col_selection = ['events', 'tripduration']\n",
    "bikes.loc[row_selection, col_selection].head()"
   ]
  },
  {
   "cell_type": "markdown",
   "metadata": {},
   "source": [
    "It is not necessary (though it is cleaner) to assign the row and column selections to their own variables first."
   ]
  },
  {
   "cell_type": "code",
   "execution_count": 44,
   "metadata": {},
   "outputs": [
    {
     "data": {
      "text/html": [
       "<div>\n",
       "<style scoped>\n",
       "    .dataframe tbody tr th:only-of-type {\n",
       "        vertical-align: middle;\n",
       "    }\n",
       "\n",
       "    .dataframe tbody tr th {\n",
       "        vertical-align: top;\n",
       "    }\n",
       "\n",
       "    .dataframe thead th {\n",
       "        text-align: right;\n",
       "    }\n",
       "</style>\n",
       "<table border=\"1\" class=\"dataframe\">\n",
       "  <thead>\n",
       "    <tr style=\"text-align: right;\">\n",
       "      <th></th>\n",
       "      <th>events</th>\n",
       "      <th>tripduration</th>\n",
       "    </tr>\n",
       "    <tr>\n",
       "      <th>starttime</th>\n",
       "      <th></th>\n",
       "      <th></th>\n",
       "    </tr>\n",
       "  </thead>\n",
       "  <tbody>\n",
       "    <tr>\n",
       "      <th>2013-07-15 16:43:00</th>\n",
       "      <td>rain</td>\n",
       "      <td>727</td>\n",
       "    </tr>\n",
       "    <tr>\n",
       "      <th>2013-07-26 19:10:00</th>\n",
       "      <td>rain</td>\n",
       "      <td>1395</td>\n",
       "    </tr>\n",
       "    <tr>\n",
       "      <th>2013-07-30 18:53:00</th>\n",
       "      <td>rain</td>\n",
       "      <td>442</td>\n",
       "    </tr>\n",
       "    <tr>\n",
       "      <th>2013-08-05 17:09:00</th>\n",
       "      <td>rain</td>\n",
       "      <td>890</td>\n",
       "    </tr>\n",
       "    <tr>\n",
       "      <th>2013-09-07 16:09:00</th>\n",
       "      <td>rain</td>\n",
       "      <td>978</td>\n",
       "    </tr>\n",
       "  </tbody>\n",
       "</table>\n",
       "</div>"
      ],
      "text/plain": [
       "                    events  tripduration\n",
       "starttime                               \n",
       "2013-07-15 16:43:00   rain           727\n",
       "2013-07-26 19:10:00   rain          1395\n",
       "2013-07-30 18:53:00   rain           442\n",
       "2013-08-05 17:09:00   rain           890\n",
       "2013-09-07 16:09:00   rain           978"
      ]
     },
     "execution_count": 44,
     "metadata": {},
     "output_type": "execute_result"
    }
   ],
   "source": [
    "bikes.loc[bikes['events'].isin(['rain', 'snow']), ['events', 'tripduration']].head()"
   ]
  },
  {
   "cell_type": "markdown",
   "metadata": {},
   "source": [
    "## Column to Column Comparisons\n",
    "So far, we have created conditionals by comparing each of our column values to a single scalar value. It is possible to do element-by-element comparisons by comparing two columns to one another.\n",
    "\n",
    "For instance, if we wanted to test whether there were more capacity at the start of the ride vs the end, we would do the following:"
   ]
  },
  {
   "cell_type": "code",
   "execution_count": 51,
   "metadata": {},
   "outputs": [],
   "source": [
    "criteria = bikes['dpcapacity_start'] > bikes['dpcapacity_end']"
   ]
  },
  {
   "cell_type": "markdown",
   "metadata": {},
   "source": [
    "Let's use this criteria with **`.loc`** to return all the rows where the start capacity is greater than the end."
   ]
  },
  {
   "cell_type": "code",
   "execution_count": 52,
   "metadata": {},
   "outputs": [
    {
     "data": {
      "text/html": [
       "<div>\n",
       "<style scoped>\n",
       "    .dataframe tbody tr th:only-of-type {\n",
       "        vertical-align: middle;\n",
       "    }\n",
       "\n",
       "    .dataframe tbody tr th {\n",
       "        vertical-align: top;\n",
       "    }\n",
       "\n",
       "    .dataframe thead th {\n",
       "        text-align: right;\n",
       "    }\n",
       "</style>\n",
       "<table border=\"1\" class=\"dataframe\">\n",
       "  <thead>\n",
       "    <tr style=\"text-align: right;\">\n",
       "      <th></th>\n",
       "      <th>dpcapacity_start</th>\n",
       "      <th>dpcapacity_end</th>\n",
       "    </tr>\n",
       "    <tr>\n",
       "      <th>starttime</th>\n",
       "      <th></th>\n",
       "      <th></th>\n",
       "    </tr>\n",
       "  </thead>\n",
       "  <tbody>\n",
       "    <tr>\n",
       "      <th>2013-06-28 22:53:00</th>\n",
       "      <td>31.0</td>\n",
       "      <td>19.0</td>\n",
       "    </tr>\n",
       "    <tr>\n",
       "      <th>2013-07-02 17:47:00</th>\n",
       "      <td>31.0</td>\n",
       "      <td>19.0</td>\n",
       "    </tr>\n",
       "    <tr>\n",
       "      <th>2013-07-03 15:21:00</th>\n",
       "      <td>31.0</td>\n",
       "      <td>15.0</td>\n",
       "    </tr>\n",
       "    <tr>\n",
       "      <th>2013-07-07 00:06:00</th>\n",
       "      <td>19.0</td>\n",
       "      <td>15.0</td>\n",
       "    </tr>\n",
       "    <tr>\n",
       "      <th>2013-07-08 17:06:00</th>\n",
       "      <td>23.0</td>\n",
       "      <td>19.0</td>\n",
       "    </tr>\n",
       "  </tbody>\n",
       "</table>\n",
       "</div>"
      ],
      "text/plain": [
       "                     dpcapacity_start  dpcapacity_end\n",
       "starttime                                            \n",
       "2013-06-28 22:53:00              31.0            19.0\n",
       "2013-07-02 17:47:00              31.0            19.0\n",
       "2013-07-03 15:21:00              31.0            15.0\n",
       "2013-07-07 00:06:00              19.0            15.0\n",
       "2013-07-08 17:06:00              23.0            19.0"
      ]
     },
     "execution_count": 52,
     "metadata": {},
     "output_type": "execute_result"
    }
   ],
   "source": [
    "bikes.loc[criteria, ['dpcapacity_start', 'dpcapacity_end']].head()"
   ]
  },
  {
   "cell_type": "markdown",
   "metadata": {},
   "source": [
    "### Boolean selection with `.iloc` does not work\n",
    "The Pandas developers decided not to allow boolean selection with **`.iloc`**."
   ]
  },
  {
   "cell_type": "code",
   "execution_count": 55,
   "metadata": {},
   "outputs": [
    {
     "ename": "ValueError",
     "evalue": "iLocation based boolean indexing cannot use an indexable as a mask",
     "output_type": "error",
     "traceback": [
      "\u001b[0;31m---------------------------------------------------------------------------\u001b[0m",
      "\u001b[0;31mValueError\u001b[0m                                Traceback (most recent call last)",
      "\u001b[0;32m<ipython-input-55-8ba3d134c542>\u001b[0m in \u001b[0;36m<module>\u001b[0;34m()\u001b[0m\n\u001b[0;32m----> 1\u001b[0;31m \u001b[0mbikes\u001b[0m\u001b[0;34m.\u001b[0m\u001b[0miloc\u001b[0m\u001b[0;34m[\u001b[0m\u001b[0mcriteria\u001b[0m\u001b[0;34m]\u001b[0m\u001b[0;34m\u001b[0m\u001b[0m\n\u001b[0m",
      "\u001b[0;32m~/anaconda3/lib/python3.6/site-packages/pandas/core/indexing.py\u001b[0m in \u001b[0;36m__getitem__\u001b[0;34m(self, key)\u001b[0m\n\u001b[1;32m   1371\u001b[0m \u001b[0;34m\u001b[0m\u001b[0m\n\u001b[1;32m   1372\u001b[0m             \u001b[0mmaybe_callable\u001b[0m \u001b[0;34m=\u001b[0m \u001b[0mcom\u001b[0m\u001b[0;34m.\u001b[0m\u001b[0m_apply_if_callable\u001b[0m\u001b[0;34m(\u001b[0m\u001b[0mkey\u001b[0m\u001b[0;34m,\u001b[0m \u001b[0mself\u001b[0m\u001b[0;34m.\u001b[0m\u001b[0mobj\u001b[0m\u001b[0;34m)\u001b[0m\u001b[0;34m\u001b[0m\u001b[0m\n\u001b[0;32m-> 1373\u001b[0;31m             \u001b[0;32mreturn\u001b[0m \u001b[0mself\u001b[0m\u001b[0;34m.\u001b[0m\u001b[0m_getitem_axis\u001b[0m\u001b[0;34m(\u001b[0m\u001b[0mmaybe_callable\u001b[0m\u001b[0;34m,\u001b[0m \u001b[0maxis\u001b[0m\u001b[0;34m=\u001b[0m\u001b[0maxis\u001b[0m\u001b[0;34m)\u001b[0m\u001b[0;34m\u001b[0m\u001b[0m\n\u001b[0m\u001b[1;32m   1374\u001b[0m \u001b[0;34m\u001b[0m\u001b[0m\n\u001b[1;32m   1375\u001b[0m     \u001b[0;32mdef\u001b[0m \u001b[0m_is_scalar_access\u001b[0m\u001b[0;34m(\u001b[0m\u001b[0mself\u001b[0m\u001b[0;34m,\u001b[0m \u001b[0mkey\u001b[0m\u001b[0;34m)\u001b[0m\u001b[0;34m:\u001b[0m\u001b[0;34m\u001b[0m\u001b[0m\n",
      "\u001b[0;32m~/anaconda3/lib/python3.6/site-packages/pandas/core/indexing.py\u001b[0m in \u001b[0;36m_getitem_axis\u001b[0;34m(self, key, axis)\u001b[0m\n\u001b[1;32m   1812\u001b[0m \u001b[0;34m\u001b[0m\u001b[0m\n\u001b[1;32m   1813\u001b[0m         \u001b[0;32mif\u001b[0m \u001b[0mis_bool_indexer\u001b[0m\u001b[0;34m(\u001b[0m\u001b[0mkey\u001b[0m\u001b[0;34m)\u001b[0m\u001b[0;34m:\u001b[0m\u001b[0;34m\u001b[0m\u001b[0m\n\u001b[0;32m-> 1814\u001b[0;31m             \u001b[0mself\u001b[0m\u001b[0;34m.\u001b[0m\u001b[0m_has_valid_type\u001b[0m\u001b[0;34m(\u001b[0m\u001b[0mkey\u001b[0m\u001b[0;34m,\u001b[0m \u001b[0maxis\u001b[0m\u001b[0;34m)\u001b[0m\u001b[0;34m\u001b[0m\u001b[0m\n\u001b[0m\u001b[1;32m   1815\u001b[0m             \u001b[0;32mreturn\u001b[0m \u001b[0mself\u001b[0m\u001b[0;34m.\u001b[0m\u001b[0m_getbool_axis\u001b[0m\u001b[0;34m(\u001b[0m\u001b[0mkey\u001b[0m\u001b[0;34m,\u001b[0m \u001b[0maxis\u001b[0m\u001b[0;34m=\u001b[0m\u001b[0maxis\u001b[0m\u001b[0;34m)\u001b[0m\u001b[0;34m\u001b[0m\u001b[0m\n\u001b[1;32m   1816\u001b[0m \u001b[0;34m\u001b[0m\u001b[0m\n",
      "\u001b[0;32m~/anaconda3/lib/python3.6/site-packages/pandas/core/indexing.py\u001b[0m in \u001b[0;36m_has_valid_type\u001b[0;34m(self, key, axis)\u001b[0m\n\u001b[1;32m   1663\u001b[0m                                               \u001b[0;34m\"indexing on an integer type \"\u001b[0m\u001b[0;34m\u001b[0m\u001b[0m\n\u001b[1;32m   1664\u001b[0m                                               \"is not available\")\n\u001b[0;32m-> 1665\u001b[0;31m                 raise ValueError(\"iLocation based boolean indexing cannot use \"\n\u001b[0m\u001b[1;32m   1666\u001b[0m                                  \"an indexable as a mask\")\n\u001b[1;32m   1667\u001b[0m             \u001b[0;32mreturn\u001b[0m \u001b[0;32mTrue\u001b[0m\u001b[0;34m\u001b[0m\u001b[0m\n",
      "\u001b[0;31mValueError\u001b[0m: iLocation based boolean indexing cannot use an indexable as a mask"
     ]
    }
   ],
   "source": [
    "bikes.iloc[criteria]"
   ]
  },
  {
   "cell_type": "markdown",
   "metadata": {},
   "source": [
    "# Finding Missing Values with `isna`\n",
    "The **`isna`** method called from either a DataFrame or a Series returns True for every value that is missing and False for any other value. \n",
    "\n",
    "Let's see this in action by calling **`isna`** on the start capacity column."
   ]
  },
  {
   "cell_type": "code",
   "execution_count": 68,
   "metadata": {},
   "outputs": [
    {
     "data": {
      "text/plain": [
       "starttime\n",
       "2013-06-28 19:01:00    False\n",
       "2013-06-28 22:53:00    False\n",
       "2013-06-30 14:43:00    False\n",
       "2013-07-01 10:05:00    False\n",
       "2013-07-01 11:16:00    False\n",
       "Name: dpcapacity_start, dtype: bool"
      ]
     },
     "execution_count": 68,
     "metadata": {},
     "output_type": "execute_result"
    }
   ],
   "source": [
    "bikes['dpcapacity_start'].isna().head()"
   ]
  },
  {
   "cell_type": "markdown",
   "metadata": {},
   "source": [
    "### Filtering for missing values\n",
    "\n",
    "We can now use this boolean Series to select all the rows where the capacity start column is missing. Verify that the "
   ]
  },
  {
   "cell_type": "code",
   "execution_count": 69,
   "metadata": {},
   "outputs": [
    {
     "data": {
      "text/html": [
       "<div>\n",
       "<style scoped>\n",
       "    .dataframe tbody tr th:only-of-type {\n",
       "        vertical-align: middle;\n",
       "    }\n",
       "\n",
       "    .dataframe tbody tr th {\n",
       "        vertical-align: top;\n",
       "    }\n",
       "\n",
       "    .dataframe thead th {\n",
       "        text-align: right;\n",
       "    }\n",
       "</style>\n",
       "<table border=\"1\" class=\"dataframe\">\n",
       "  <thead>\n",
       "    <tr style=\"text-align: right;\">\n",
       "      <th></th>\n",
       "      <th>trip_id</th>\n",
       "      <th>usertype</th>\n",
       "      <th>gender</th>\n",
       "      <th>stoptime</th>\n",
       "      <th>tripduration</th>\n",
       "      <th>from_station_name</th>\n",
       "      <th>latitude_start</th>\n",
       "      <th>longitude_start</th>\n",
       "      <th>dpcapacity_start</th>\n",
       "      <th>to_station_name</th>\n",
       "      <th>latitude_end</th>\n",
       "      <th>longitude_end</th>\n",
       "      <th>dpcapacity_end</th>\n",
       "      <th>temperature</th>\n",
       "      <th>visibility</th>\n",
       "      <th>wind_speed</th>\n",
       "      <th>precipitation</th>\n",
       "      <th>events</th>\n",
       "    </tr>\n",
       "    <tr>\n",
       "      <th>starttime</th>\n",
       "      <th></th>\n",
       "      <th></th>\n",
       "      <th></th>\n",
       "      <th></th>\n",
       "      <th></th>\n",
       "      <th></th>\n",
       "      <th></th>\n",
       "      <th></th>\n",
       "      <th></th>\n",
       "      <th></th>\n",
       "      <th></th>\n",
       "      <th></th>\n",
       "      <th></th>\n",
       "      <th></th>\n",
       "      <th></th>\n",
       "      <th></th>\n",
       "      <th></th>\n",
       "      <th></th>\n",
       "    </tr>\n",
       "  </thead>\n",
       "  <tbody>\n",
       "    <tr>\n",
       "      <th>2015-09-06 07:52:00</th>\n",
       "      <td>7319012</td>\n",
       "      <td>Subscriber</td>\n",
       "      <td>Male</td>\n",
       "      <td>2015-09-06 07:55:00</td>\n",
       "      <td>207</td>\n",
       "      <td>Clark St &amp; 9th St (AMLI)</td>\n",
       "      <td>NaN</td>\n",
       "      <td>NaN</td>\n",
       "      <td>NaN</td>\n",
       "      <td>Federal St &amp; Polk St</td>\n",
       "      <td>41.872078</td>\n",
       "      <td>-87.629544</td>\n",
       "      <td>19.0</td>\n",
       "      <td>75.0</td>\n",
       "      <td>10.0</td>\n",
       "      <td>4.6</td>\n",
       "      <td>-9999.0</td>\n",
       "      <td>mostlycloudy</td>\n",
       "    </tr>\n",
       "    <tr>\n",
       "      <th>2015-09-07 09:52:00</th>\n",
       "      <td>7341764</td>\n",
       "      <td>Subscriber</td>\n",
       "      <td>Female</td>\n",
       "      <td>2015-09-07 09:57:00</td>\n",
       "      <td>293</td>\n",
       "      <td>Clark St &amp; 9th St (AMLI)</td>\n",
       "      <td>NaN</td>\n",
       "      <td>NaN</td>\n",
       "      <td>NaN</td>\n",
       "      <td>Wabash Ave &amp; 8th St</td>\n",
       "      <td>41.871962</td>\n",
       "      <td>-87.626106</td>\n",
       "      <td>19.0</td>\n",
       "      <td>81.0</td>\n",
       "      <td>10.0</td>\n",
       "      <td>8.1</td>\n",
       "      <td>-9999.0</td>\n",
       "      <td>mostlycloudy</td>\n",
       "    </tr>\n",
       "    <tr>\n",
       "      <th>2015-09-15 08:25:00</th>\n",
       "      <td>7468970</td>\n",
       "      <td>Subscriber</td>\n",
       "      <td>Male</td>\n",
       "      <td>2015-09-15 08:33:00</td>\n",
       "      <td>473</td>\n",
       "      <td>Clark St &amp; 9th St (AMLI)</td>\n",
       "      <td>NaN</td>\n",
       "      <td>NaN</td>\n",
       "      <td>NaN</td>\n",
       "      <td>Franklin St &amp; Monroe St</td>\n",
       "      <td>41.881469</td>\n",
       "      <td>-87.635177</td>\n",
       "      <td>27.0</td>\n",
       "      <td>68.0</td>\n",
       "      <td>10.0</td>\n",
       "      <td>9.2</td>\n",
       "      <td>-9999.0</td>\n",
       "      <td>mostlycloudy</td>\n",
       "    </tr>\n",
       "    <tr>\n",
       "      <th>2015-10-03 21:43:00</th>\n",
       "      <td>7780399</td>\n",
       "      <td>Subscriber</td>\n",
       "      <td>Female</td>\n",
       "      <td>2015-10-03 22:04:00</td>\n",
       "      <td>1268</td>\n",
       "      <td>Clark St &amp; 9th St (AMLI)</td>\n",
       "      <td>NaN</td>\n",
       "      <td>NaN</td>\n",
       "      <td>NaN</td>\n",
       "      <td>Ritchie Ct &amp; Banks St</td>\n",
       "      <td>41.906782</td>\n",
       "      <td>-87.626402</td>\n",
       "      <td>15.0</td>\n",
       "      <td>50.0</td>\n",
       "      <td>10.0</td>\n",
       "      <td>15.0</td>\n",
       "      <td>-9999.0</td>\n",
       "      <td>cloudy</td>\n",
       "    </tr>\n",
       "    <tr>\n",
       "      <th>2015-11-06 08:53:00</th>\n",
       "      <td>8207553</td>\n",
       "      <td>Subscriber</td>\n",
       "      <td>Female</td>\n",
       "      <td>2015-11-06 09:08:00</td>\n",
       "      <td>868</td>\n",
       "      <td>Clark St &amp; 9th St (AMLI)</td>\n",
       "      <td>NaN</td>\n",
       "      <td>NaN</td>\n",
       "      <td>NaN</td>\n",
       "      <td>Fairbanks Ct &amp; Grand Ave</td>\n",
       "      <td>41.891860</td>\n",
       "      <td>-87.620620</td>\n",
       "      <td>15.0</td>\n",
       "      <td>48.0</td>\n",
       "      <td>10.0</td>\n",
       "      <td>18.4</td>\n",
       "      <td>-9999.0</td>\n",
       "      <td>mostlycloudy</td>\n",
       "    </tr>\n",
       "    <tr>\n",
       "      <th>2015-11-18 08:55:00</th>\n",
       "      <td>8317161</td>\n",
       "      <td>Subscriber</td>\n",
       "      <td>Male</td>\n",
       "      <td>2015-11-18 09:01:00</td>\n",
       "      <td>359</td>\n",
       "      <td>Clark St &amp; 9th St (AMLI)</td>\n",
       "      <td>NaN</td>\n",
       "      <td>NaN</td>\n",
       "      <td>NaN</td>\n",
       "      <td>Dearborn St &amp; Adams St</td>\n",
       "      <td>41.879356</td>\n",
       "      <td>-87.629791</td>\n",
       "      <td>19.0</td>\n",
       "      <td>60.1</td>\n",
       "      <td>8.0</td>\n",
       "      <td>25.3</td>\n",
       "      <td>0.0</td>\n",
       "      <td>rain</td>\n",
       "    </tr>\n",
       "  </tbody>\n",
       "</table>\n",
       "</div>"
      ],
      "text/plain": [
       "                     trip_id    usertype  gender            stoptime  \\\n",
       "starttime                                                              \n",
       "2015-09-06 07:52:00  7319012  Subscriber    Male 2015-09-06 07:55:00   \n",
       "2015-09-07 09:52:00  7341764  Subscriber  Female 2015-09-07 09:57:00   \n",
       "2015-09-15 08:25:00  7468970  Subscriber    Male 2015-09-15 08:33:00   \n",
       "2015-10-03 21:43:00  7780399  Subscriber  Female 2015-10-03 22:04:00   \n",
       "2015-11-06 08:53:00  8207553  Subscriber  Female 2015-11-06 09:08:00   \n",
       "2015-11-18 08:55:00  8317161  Subscriber    Male 2015-11-18 09:01:00   \n",
       "\n",
       "                     tripduration         from_station_name  latitude_start  \\\n",
       "starttime                                                                     \n",
       "2015-09-06 07:52:00           207  Clark St & 9th St (AMLI)             NaN   \n",
       "2015-09-07 09:52:00           293  Clark St & 9th St (AMLI)             NaN   \n",
       "2015-09-15 08:25:00           473  Clark St & 9th St (AMLI)             NaN   \n",
       "2015-10-03 21:43:00          1268  Clark St & 9th St (AMLI)             NaN   \n",
       "2015-11-06 08:53:00           868  Clark St & 9th St (AMLI)             NaN   \n",
       "2015-11-18 08:55:00           359  Clark St & 9th St (AMLI)             NaN   \n",
       "\n",
       "                     longitude_start  dpcapacity_start  \\\n",
       "starttime                                                \n",
       "2015-09-06 07:52:00              NaN               NaN   \n",
       "2015-09-07 09:52:00              NaN               NaN   \n",
       "2015-09-15 08:25:00              NaN               NaN   \n",
       "2015-10-03 21:43:00              NaN               NaN   \n",
       "2015-11-06 08:53:00              NaN               NaN   \n",
       "2015-11-18 08:55:00              NaN               NaN   \n",
       "\n",
       "                              to_station_name  latitude_end  longitude_end  \\\n",
       "starttime                                                                    \n",
       "2015-09-06 07:52:00      Federal St & Polk St     41.872078     -87.629544   \n",
       "2015-09-07 09:52:00       Wabash Ave & 8th St     41.871962     -87.626106   \n",
       "2015-09-15 08:25:00   Franklin St & Monroe St     41.881469     -87.635177   \n",
       "2015-10-03 21:43:00     Ritchie Ct & Banks St     41.906782     -87.626402   \n",
       "2015-11-06 08:53:00  Fairbanks Ct & Grand Ave     41.891860     -87.620620   \n",
       "2015-11-18 08:55:00    Dearborn St & Adams St     41.879356     -87.629791   \n",
       "\n",
       "                     dpcapacity_end  temperature  visibility  wind_speed  \\\n",
       "starttime                                                                  \n",
       "2015-09-06 07:52:00            19.0         75.0        10.0         4.6   \n",
       "2015-09-07 09:52:00            19.0         81.0        10.0         8.1   \n",
       "2015-09-15 08:25:00            27.0         68.0        10.0         9.2   \n",
       "2015-10-03 21:43:00            15.0         50.0        10.0        15.0   \n",
       "2015-11-06 08:53:00            15.0         48.0        10.0        18.4   \n",
       "2015-11-18 08:55:00            19.0         60.1         8.0        25.3   \n",
       "\n",
       "                     precipitation        events  \n",
       "starttime                                         \n",
       "2015-09-06 07:52:00        -9999.0  mostlycloudy  \n",
       "2015-09-07 09:52:00        -9999.0  mostlycloudy  \n",
       "2015-09-15 08:25:00        -9999.0  mostlycloudy  \n",
       "2015-10-03 21:43:00        -9999.0        cloudy  \n",
       "2015-11-06 08:53:00        -9999.0  mostlycloudy  \n",
       "2015-11-18 08:55:00            0.0          rain  "
      ]
     },
     "execution_count": 69,
     "metadata": {},
     "output_type": "execute_result"
    }
   ],
   "source": [
    "criteria = bikes['dpcapacity_start'].isna()\n",
    "bikes[criteria]"
   ]
  },
  {
   "cell_type": "markdown",
   "metadata": {},
   "source": [
    "## `isnull` is an alias for `isna`\n",
    "There is an identical method named **`isnull`** that you will see in other tutorials. It is an **alias** of **`isna`** meaning it does the exact same thing with a different name. Either one is suitable to use but I prefer **`isna`** because of the similarity **na** to **NaN**, the representation of missing values."
   ]
  },
  {
   "cell_type": "markdown",
   "metadata": {},
   "source": [
    "# Exercises"
   ]
  },
  {
   "cell_type": "markdown",
   "metadata": {},
   "source": [
    "### Problem 1\n",
    "<span  style=\"color:green; font-size:16px\">Select the wind speed column a a Series and assign it to a variable. Are there any negative wind speeds?</span>"
   ]
  },
  {
   "cell_type": "code",
   "execution_count": null,
   "metadata": {},
   "outputs": [],
   "source": [
    "# your code here"
   ]
  },
  {
   "cell_type": "markdown",
   "metadata": {},
   "source": [
    "### Problem 2\n",
    "<span  style=\"color:green; font-size:16px\">Select all wind speed between 12 and 16.</span>"
   ]
  },
  {
   "cell_type": "code",
   "execution_count": 70,
   "metadata": {},
   "outputs": [],
   "source": [
    "# your code here"
   ]
  },
  {
   "cell_type": "markdown",
   "metadata": {},
   "source": [
    "### Problem 3\n",
    "<span  style=\"color:green; font-size:16px\">Select the events and gender columns for all trip durations longer than 1,000 seconds.</span>"
   ]
  },
  {
   "cell_type": "code",
   "execution_count": 71,
   "metadata": {},
   "outputs": [],
   "source": [
    "# your code here"
   ]
  },
  {
   "cell_type": "markdown",
   "metadata": {},
   "source": [
    "### Problem 4\n",
    "<span  style=\"color:green; font-size:16px\">Read in the movie dataset with the title as the index. We will use this DataFrame for the rest of the problems. Select all the movies such that the Facebook likes for actor 2 are greater than those for actor 1.</span>"
   ]
  },
  {
   "cell_type": "code",
   "execution_count": 72,
   "metadata": {},
   "outputs": [],
   "source": [
    "# your code here"
   ]
  },
  {
   "cell_type": "markdown",
   "metadata": {},
   "source": [
    "### Problem 5\n",
    "<span  style=\"color:green; font-size:16px\">Select the year, content rating, and IMDB score columns for movies from the year 2016 with IMDB score less than 4.</span>"
   ]
  },
  {
   "cell_type": "code",
   "execution_count": 73,
   "metadata": {},
   "outputs": [],
   "source": [
    "# your code here"
   ]
  },
  {
   "cell_type": "markdown",
   "metadata": {},
   "source": [
    "### Problem 6\n",
    "<span  style=\"color:green; font-size:16px\">Select all the movies that are missing values for content rating.</span>"
   ]
  },
  {
   "cell_type": "code",
   "execution_count": 74,
   "metadata": {},
   "outputs": [],
   "source": [
    "# your code here"
   ]
  },
  {
   "cell_type": "markdown",
   "metadata": {},
   "source": [
    "### Problem 7\n",
    "<span  style=\"color:green; font-size:16px\">Select all the movies that are missing both the gross and budget. Return just those columns to verify that those values are indeed missing.</span>"
   ]
  },
  {
   "cell_type": "code",
   "execution_count": 75,
   "metadata": {},
   "outputs": [],
   "source": [
    "# your code here"
   ]
  },
  {
   "cell_type": "markdown",
   "metadata": {},
   "source": [
    "### Problem 8\n",
    "<span  style=\"color:green; font-size:16px\">Write a function `find_missing` that has three parameters, `df`, `col1` and `col2` where `df` is a DataFrame and `col1` and `col2` are column names. This function should return all the rows of the DataFrame where `col1` and `col2` are missing. Only return the two columns as well. Answer problem 7 with this function.</span>"
   ]
  },
  {
   "cell_type": "code",
   "execution_count": null,
   "metadata": {},
   "outputs": [],
   "source": [
    "# your code here"
   ]
  }
 ],
 "metadata": {
  "kernelspec": {
   "display_name": "Python 3",
   "language": "python",
   "name": "python3"
  },
  "language_info": {
   "codemirror_mode": {
    "name": "ipython",
    "version": 3
   },
   "file_extension": ".py",
   "mimetype": "text/x-python",
   "name": "python",
   "nbconvert_exporter": "python",
   "pygments_lexer": "ipython3",
   "version": "3.6.4"
  }
 },
 "nbformat": 4,
 "nbformat_minor": 2
}
