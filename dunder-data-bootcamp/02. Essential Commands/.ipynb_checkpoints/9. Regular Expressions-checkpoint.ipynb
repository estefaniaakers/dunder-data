{
 "cells": [
  {
   "cell_type": "markdown",
   "metadata": {},
   "source": [
    "# 9. Regular Expressions\n",
    "\n",
    "### Objectives\n",
    "* Understand what a regular expressions are and what kind of questions they can answer\n",
    "* Know that regular expressions consist of **literal** and **special** characters\n",
    "* Know the basic functionality all the special characters - `. ^ $ * + ? { } [ ] \\ | ( )`\n",
    "* Know how to combine multiple special characters together\n",
    "* Know how to change operator precedence with parentheses\n",
    "* Use `contains` to select entire values and `extract` to select substrings"
   ]
  },
  {
   "cell_type": "markdown",
   "metadata": {},
   "source": [
    "# Regular Expressions for more Powerful String Manipulations\n",
    "**Regular Expressions** give us a way to do much more powerful string manipulations. A regular expression, or simply **regex**, is a special string that describes a specific pattern that you would like to match in another string.\n",
    "\n",
    "### Examples of questions that regexes can answer\n",
    "It might be helpful to see a list of questions that a regex pattern can match:\n",
    "* Match all words that begin with 'S' and end in 'y'\n",
    "* Match the word 'friend' or 'freind'\n",
    "* Match a word with at least 3 digits in it\n",
    "* Match all Gmail email addresses\n",
    "* Capture the word immediately following the word 'Author'\n",
    "* Capture the word immediately following the third occurrence of the word 'coffee'\n",
    "\n",
    "# Primarily use `contains` and `extract`\n",
    "This notebook will be primarily concerned with finding matching patterns within string values of a Pandas Series. We will then select all values within the Series that match the pattern via boolean indexing. The **`contains`** Series string method will be used for this.\n",
    "\n",
    "At the end of this notebook, we will use the **`extract`** Series string method to extract particular substrings from the strings within the Series.\n",
    "\n",
    "### A simple example without regular expressions\n",
    "For instance, let's say we want to match all movie titles that contain either an 'x', 'y', or 'z' in them. Without using a regex, we would use multiple **`contains`** string methods separating them with the logical **or** symbol:"
   ]
  },
  {
   "cell_type": "code",
   "execution_count": 3,
   "metadata": {},
   "outputs": [],
   "source": [
    "import pandas as pd\n",
    "movie = pd.read_csv('../data/movie.csv')\n",
    "title = movie['title']"
   ]
  },
  {
   "cell_type": "code",
   "execution_count": 4,
   "metadata": {},
   "outputs": [
    {
     "data": {
      "text/plain": [
       "9     Harry Potter and the Half-Blood Prince\n",
       "21                    The Amazing Spider-Man\n",
       "30                                   Skyfall\n",
       "35                       Monsters University\n",
       "37           Transformers: Age of Extinction\n",
       "Name: title, dtype: object"
      ]
     },
     "execution_count": 4,
     "metadata": {},
     "output_type": "execute_result"
    }
   ],
   "source": [
    "has_xyz = title.str.contains('x') | title.str.contains('y') | title.str.contains('z')\n",
    "title[has_xyz].head()"
   ]
  },
  {
   "cell_type": "markdown",
   "metadata": {},
   "source": [
    "We can sum up this boolean Series to determine the number of values that have either an 'x', 'y', or 'z' in them."
   ]
  },
  {
   "cell_type": "code",
   "execution_count": 5,
   "metadata": {},
   "outputs": [
    {
     "data": {
      "text/plain": [
       "1193"
      ]
     },
     "execution_count": 5,
     "metadata": {},
     "output_type": "execute_result"
    }
   ],
   "source": [
    "has_xyz.sum()"
   ]
  },
  {
   "cell_type": "markdown",
   "metadata": {},
   "source": [
    "### Use a regex instead\n",
    "Instead, we can use the regex **`'[xyz]'`**, which matches the pattern for any string that contains an 'x', 'y', or 'z'. We can verify that we get the same total. This regex plus many more will be covered in detail below."
   ]
  },
  {
   "cell_type": "code",
   "execution_count": 14,
   "metadata": {},
   "outputs": [
    {
     "data": {
      "text/plain": [
       "1193"
      ]
     },
     "execution_count": 14,
     "metadata": {},
     "output_type": "execute_result"
    }
   ],
   "source": [
    "title.str.contains('[xyz]').sum()"
   ]
  },
  {
   "cell_type": "markdown",
   "metadata": {},
   "source": [
    "## Regular Expressions are a Mini-Programming Language\n",
    "Regular expressions are a miniature programming language that have their own strict set of rules just like any other language. The syntax is written as a string mixing both **literal** and **special** characters. \n",
    "\n",
    "## Literal vs Special Characters\n",
    "There are two distinct categories of characters within a regex string - **Literal** and **Special**\n",
    "* **Literal** - these characters don't have any special meaning. They simply represent themselves. They are also referred to as **regular** characters.\n",
    "* **Special** - these characters do have a special meaning. Each special character represents something very specific. They are also referred to as **metacharacters**.\n",
    "\n",
    "## Matching with only Literal Characters\n",
    "The most simple regex patterns you can write contain only literal characters. These strings will look like most any string you normally use in a search engine. Let's search for movies that have the word **`'Star'`** in them.\n",
    "\n",
    "**`'Star'`** is a valid regular expression. We will use the **`contains`** Series string method which accepts a regular expression as its first argument. It returns a boolean Series."
   ]
  },
  {
   "cell_type": "code",
   "execution_count": 6,
   "metadata": {},
   "outputs": [
    {
     "data": {
      "text/plain": [
       "0    False\n",
       "1    False\n",
       "2    False\n",
       "3    False\n",
       "4     True\n",
       "Name: title, dtype: bool"
      ]
     },
     "execution_count": 6,
     "metadata": {},
     "output_type": "execute_result"
    }
   ],
   "source": [
    "pattern = 'Star'\n",
    "title.str.contains(pattern).head()"
   ]
  },
  {
   "cell_type": "markdown",
   "metadata": {},
   "source": [
    "### Filter for only movies containing `Star`\n",
    "Let's take this resulting Series and use it for boolean indexing. The result should be the movie titles that have **`Star`** in them."
   ]
  },
  {
   "cell_type": "code",
   "execution_count": 7,
   "metadata": {},
   "outputs": [
    {
     "data": {
      "text/plain": [
       "4           Star Wars: Episode VII - The Force Awakens\n",
       "48                             Star Trek Into Darkness\n",
       "57                                    Star Trek Beyond\n",
       "159                                          Star Trek\n",
       "233       Star Wars: Episode III - Revenge of the Sith\n",
       "234       Star Wars: Episode II - Attack of the Clones\n",
       "237          Star Wars: Episode I - The Phantom Menace\n",
       "306                                  Starship Troopers\n",
       "593                            Star Trek: Insurrection\n",
       "603                                           Stardust\n",
       "740                                    Starsky & Hutch\n",
       "770                                 Star Trek: Nemesis\n",
       "848                                      Stargate SG-1\n",
       "1058                          Star Trek: First Contact\n",
       "1330                            Star Trek: Generations\n",
       "1343                                         Rock Star\n",
       "1396                     Star Trek: The Motion Picture\n",
       "1521        Star Wars: Episode VI - Return of the Jedi\n",
       "1615                   Star Trek V: The Final Frontier\n",
       "1787            Star Trek VI: The Undiscovered Country\n",
       "2000                     Star Trek IV: The Voyage Home\n",
       "2013                        The Men Who Stare at Goats\n",
       "2031    Star Wars: Episode V - The Empire Strikes Back\n",
       "2367               Star Trek III: The Search for Spock\n",
       "2470                 Dickie Roberts: Former Child Star\n",
       "2876                   Star Trek II: The Wrath of Khan\n",
       "2899                            The Fault in Our Stars\n",
       "2973                Star Wars: Episode IV - A New Hope\n",
       "3141                   Bucky Larson: Born to Be a Star\n",
       "3271                         Star Wars: The Clone Wars\n",
       "3285                                       Bright Star\n",
       "3365                                     My Lucky Star\n",
       "3474                        Stargate: The Ark of Truth\n",
       "3672                                         Lone Star\n",
       "4459                              20 Feet from Stardom\n",
       "4589                                       Starsuckers\n",
       "Name: title, dtype: object"
      ]
     },
     "execution_count": 7,
     "metadata": {},
     "output_type": "execute_result"
    }
   ],
   "source": [
    "pattern = 'Star'\n",
    "title[title.str.contains(pattern)]"
   ]
  },
  {
   "cell_type": "markdown",
   "metadata": {},
   "source": [
    "## Regular Expressions are case sensitive\n",
    "Regexes are case sensitive by default. **`'Star'`** only matches movie titles with an uppercase **`'S'`** followed immediately by lowercase **`'tar'`**. Let's search for lowercase **`'star'`**:"
   ]
  },
  {
   "cell_type": "code",
   "execution_count": 8,
   "metadata": {},
   "outputs": [
    {
     "data": {
      "text/plain": [
       "2641    Firestarter\n",
       "2737      Superstar\n",
       "Name: title, dtype: object"
      ]
     },
     "execution_count": 8,
     "metadata": {},
     "output_type": "execute_result"
    }
   ],
   "source": [
    "pattern = 'star'\n",
    "title[title.str.contains(pattern)]"
   ]
  },
  {
   "cell_type": "markdown",
   "metadata": {},
   "source": [
    "### Find all movies with exact string `'Star Wars'`"
   ]
  },
  {
   "cell_type": "code",
   "execution_count": 22,
   "metadata": {},
   "outputs": [
    {
     "data": {
      "text/plain": [
       "4           Star Wars: Episode VII - The Force Awakens\n",
       "233       Star Wars: Episode III - Revenge of the Sith\n",
       "234       Star Wars: Episode II - Attack of the Clones\n",
       "237          Star Wars: Episode I - The Phantom Menace\n",
       "1521        Star Wars: Episode VI - Return of the Jedi\n",
       "2031    Star Wars: Episode V - The Empire Strikes Back\n",
       "2973                Star Wars: Episode IV - A New Hope\n",
       "3271                         Star Wars: The Clone Wars\n",
       "Name: title, dtype: object"
      ]
     },
     "execution_count": 22,
     "metadata": {},
     "output_type": "execute_result"
    }
   ],
   "source": [
    "pattern = 'Star Wars'\n",
    "title[title.str.contains(pattern)]"
   ]
  },
  {
   "cell_type": "markdown",
   "metadata": {},
   "source": [
    "#### Find all movies with exact string `'hine'`:"
   ]
  },
  {
   "cell_type": "code",
   "execution_count": 9,
   "metadata": {},
   "outputs": [
    {
     "data": {
      "text/plain": [
       "94         Terminator 3: Rise of the Machines\n",
       "475                          The Time Machine\n",
       "1302                                 Sunshine\n",
       "1372                     Hot Tub Time Machine\n",
       "1710                     Machine Gun Preacher\n",
       "2196    Eternal Sunshine of the Spotless Mind\n",
       "2778                   Hot Tub Time Machine 2\n",
       "3020                       Machine Gun McCain\n",
       "3301                     Little Miss Sunshine\n",
       "3580                      A Shine of Rainbows\n",
       "3594                           Sunshine State\n",
       "3602                                    Shine\n",
       "3678                        Sunshine Cleaning\n",
       "3789                             Mean Machine\n",
       "4448                            Shine a Light\n",
       "Name: title, dtype: object"
      ]
     },
     "execution_count": 9,
     "metadata": {},
     "output_type": "execute_result"
    }
   ],
   "source": [
    "pattern = 'hine'\n",
    "title[title.str.contains(pattern)]"
   ]
  },
  {
   "cell_type": "markdown",
   "metadata": {},
   "source": [
    "## Special Characters\n",
    "The following characters are the **special** or **metacharacters**\n",
    "\n",
    "`. ^ $ * + ? { } [ ] \\ | ( )`"
   ]
  },
  {
   "cell_type": "markdown",
   "metadata": {},
   "source": [
    "#### Details and examples with special characters\n",
    "The rest of this notebook is devoted to examples that explain each of the special characters above. This will not be an exhaustive coverage of regular expressions as they can get quite complex. There are even entire books written on the subject.\n",
    "\n",
    "## The dot metacharacter `.`\n",
    "The **dot** or **period** is a special character that matches any character. For example the regex **`'m.le'`** will match any string that has an **`m`** followed by any character followed by **`le`**. It will match 'male', 'mile', 'mole', 'thimble', 'tumble', etc...\n",
    "\n",
    "Let's see how many movie titles have this pattern:"
   ]
  },
  {
   "cell_type": "code",
   "execution_count": 30,
   "metadata": {},
   "outputs": [
    {
     "data": {
      "text/plain": [
       "661                          Mona Lisa Smile\n",
       "1465                               Wimbledon\n",
       "1733    Indiana Jones and the Temple of Doom\n",
       "1770                           A Simple Wish\n",
       "1923                             The Gambler\n",
       "2019                         Ready to Rumble\n",
       "2326              The Baader Meinhof Complex\n",
       "2476                           A Simple Plan\n",
       "3374                     Rumble in the Bronx\n",
       "4711                             Tumbleweeds\n",
       "Name: title, dtype: object"
      ]
     },
     "execution_count": 30,
     "metadata": {},
     "output_type": "execute_result"
    }
   ],
   "source": [
    "pattern = 'm.le'\n",
    "title[title.str.contains(pattern)]"
   ]
  },
  {
   "cell_type": "markdown",
   "metadata": {},
   "source": [
    "## The caret metacharacter `^`\n",
    "The caret, **`^`** is a special character that forces the pattern to match from the beginning of the string. Let's take a look at the difference between the regexes **`War`** and **`^War`**. The first matches the word 'War' anywhere in the string. The second matches the word 'War' only at the beginning.\n",
    "\n",
    "Let's output the differences:"
   ]
  },
  {
   "cell_type": "code",
   "execution_count": 10,
   "metadata": {},
   "outputs": [
    {
     "data": {
      "text/plain": [
       "4             Star Wars: Episode VII - The Force Awakens\n",
       "27                            Captain America: Civil War\n",
       "46                                           World War Z\n",
       "64     The Chronicles of Narnia: The Lion, the Witch ...\n",
       "108                                             Warcraft\n",
       "Name: title, dtype: object"
      ]
     },
     "execution_count": 10,
     "metadata": {},
     "output_type": "execute_result"
    }
   ],
   "source": [
    "pattern = 'War'\n",
    "title[title.str.contains(pattern)].head()"
   ]
  },
  {
   "cell_type": "code",
   "execution_count": 11,
   "metadata": {},
   "outputs": [
    {
     "data": {
      "text/plain": [
       "108                    Warcraft\n",
       "187           War of the Worlds\n",
       "597                   War Horse\n",
       "1483         Warriors of Virtue\n",
       "1598                Warm Bodies\n",
       "1934                        War\n",
       "1961                    Warrior\n",
       "2878                   WarGames\n",
       "3160                  War, Inc.\n",
       "3431                    Warlock\n",
       "3536                War & Peace\n",
       "4012    Warlock: The Armageddon\n",
       "Name: title, dtype: object"
      ]
     },
     "execution_count": 11,
     "metadata": {},
     "output_type": "execute_result"
    }
   ],
   "source": [
    "pattern = '^War'\n",
    "title[title.str.contains(pattern)]"
   ]
  },
  {
   "cell_type": "markdown",
   "metadata": {},
   "source": [
    "## The dollar metacharacter `$`\n",
    "The dollar character, **`$`** works analogously to the caret but instead forces a match to the **end** of the string. Let's find all the movies that end in 'War':"
   ]
  },
  {
   "cell_type": "code",
   "execution_count": 38,
   "metadata": {},
   "outputs": [
    {
     "data": {
      "text/plain": [
       "27              Captain America: Civil War\n",
       "241             The Huntsman: Winter's War\n",
       "323                     The Flowers of War\n",
       "534                   Charlie Wilson's War\n",
       "611                             Hart's War\n",
       "666                         This Means War\n",
       "1160                           Lord of War\n",
       "1261                        The Art of War\n",
       "1549                    Dragon Wars: D-War\n",
       "1934                                   War\n",
       "2867    Tae Guk Gi: The Brotherhood of War\n",
       "2962                         5 Days of War\n",
       "3577                            Men of War\n",
       "3742                           Born of War\n",
       "Name: title, dtype: object"
      ]
     },
     "execution_count": 38,
     "metadata": {},
     "output_type": "execute_result"
    }
   ],
   "source": [
    "pattern = 'War$'\n",
    "title[title.str.contains(pattern)]"
   ]
  },
  {
   "cell_type": "markdown",
   "metadata": {},
   "source": [
    "## Start and End Anchor tags\n",
    "The caret and dollar metacharacters are also know as **anchor** tags since they anchor the pattern to either the beginning or end."
   ]
  },
  {
   "cell_type": "markdown",
   "metadata": {},
   "source": [
    "## The asterisk metacharacter `*`\n",
    "The **asterisk** or **star** metacharacter matches the previous character 0 or more times. For instance, the regex, **`'Ah* No'`** will look for strings that have an uppercase 'A' followed by 0 or more lowercase 'h' followed by ' No'. \n",
    "\n",
    "Let's see how this works on Series of fake data:"
   ]
  },
  {
   "cell_type": "code",
   "execution_count": 12,
   "metadata": {},
   "outputs": [
    {
     "data": {
      "text/plain": [
       "0           Ouch\n",
       "1          Ah No\n",
       "2            Ahh\n",
       "3           Nooo\n",
       "4    Ahhhhhhh No\n",
       "5           A No\n",
       "6              A\n",
       "dtype: object"
      ]
     },
     "execution_count": 12,
     "metadata": {},
     "output_type": "execute_result"
    }
   ],
   "source": [
    "# Create Series of fake data\n",
    "s = pd.Series(['Ouch', 'Ah No', 'Ahh', 'Nooo', 'Ahhhhhhh No', 'A No', 'A'])\n",
    "s"
   ]
  },
  {
   "cell_type": "code",
   "execution_count": 13,
   "metadata": {},
   "outputs": [
    {
     "data": {
      "text/plain": [
       "1          Ah No\n",
       "4    Ahhhhhhh No\n",
       "5           A No\n",
       "dtype: object"
      ]
     },
     "execution_count": 13,
     "metadata": {},
     "output_type": "execute_result"
    }
   ],
   "source": [
    "pattern = 'Ah* No'\n",
    "s[s.str.contains(pattern)]"
   ]
  },
  {
   "cell_type": "markdown",
   "metadata": {},
   "source": [
    "Without the ' No' at the end, it would match two more values:"
   ]
  },
  {
   "cell_type": "code",
   "execution_count": 14,
   "metadata": {},
   "outputs": [
    {
     "data": {
      "text/plain": [
       "1          Ah No\n",
       "2            Ahh\n",
       "4    Ahhhhhhh No\n",
       "5           A No\n",
       "6              A\n",
       "dtype: object"
      ]
     },
     "execution_count": 14,
     "metadata": {},
     "output_type": "execute_result"
    }
   ],
   "source": [
    "pattern = 'Ah*'\n",
    "s[s.str.contains(pattern)]"
   ]
  },
  {
   "cell_type": "markdown",
   "metadata": {},
   "source": [
    "## The plus metacharacter `+`\n",
    "The **plus** metacharacter is very similar to the asterisk, except that it matches 1 or more of the previous character. Thus for the regex **`'Ah+ No'`**, the 'h' must appear at least once."
   ]
  },
  {
   "cell_type": "code",
   "execution_count": 15,
   "metadata": {},
   "outputs": [
    {
     "data": {
      "text/plain": [
       "1          Ah No\n",
       "4    Ahhhhhhh No\n",
       "dtype: object"
      ]
     },
     "execution_count": 15,
     "metadata": {},
     "output_type": "execute_result"
    }
   ],
   "source": [
    "pattern = 'Ah+ No'\n",
    "s[s.str.contains(pattern)]"
   ]
  },
  {
   "cell_type": "markdown",
   "metadata": {},
   "source": [
    "## The question mark metacharacter `?`\n",
    "The question mark is similar to bot the asterisk and the star, except that it matches the previous character 0 or 1 times exactly. For instance, the regex, **`'Mea?n'`** will match both 'Mean' and 'Men'. Basically, the character before the question mark is **optional**."
   ]
  },
  {
   "cell_type": "code",
   "execution_count": 16,
   "metadata": {},
   "outputs": [
    {
     "data": {
      "text/plain": [
       "19                                         Men in Black 3\n",
       "34                                  X-Men: The Last Stand\n",
       "47                             X-Men: Days of Future Past\n",
       "65                                      X-Men: Apocalypse\n",
       "102                                    X-Men: First Class\n",
       "123                              X-Men Origins: Wolverine\n",
       "151                                       Men in Black II\n",
       "207                                               X-Men 2\n",
       "237             Star Wars: Episode I - The Phantom Menace\n",
       "348                                          Men in Black\n",
       "519                                       Children of Men\n",
       "520                                                 X-Men\n",
       "598                                     The Monuments Men\n",
       "630                                           Mystery Men\n",
       "666                                        This Means War\n",
       "891                                    All the King's Men\n",
       "1270                                         Mean Streets\n",
       "1295                                             Soul Men\n",
       "1509                                       A Few Good Men\n",
       "1533                                         Men of Honor\n",
       "1548                                             Repo Men\n",
       "1868                               No Country for Old Men\n",
       "2013                           The Men Who Stare at Goats\n",
       "2380                                           Mean Girls\n",
       "2566                                     3 Men and a Baby\n",
       "2706                                  All the Queen's Men\n",
       "3152                                    Cecil B. DeMented\n",
       "3190                               Fifty Dead Men Walking\n",
       "3193                                    Of Horses and Men\n",
       "3375                                         Far from Men\n",
       "3382                                      Men with Brooms\n",
       "3577                                           Men of War\n",
       "3701                                      Of Gods and Men\n",
       "3762                                          Without Men\n",
       "3789                                         Mean Machine\n",
       "3908                                    Menace II Society\n",
       "4489                                             Safe Men\n",
       "4628                                           Mean Creek\n",
       "4634    Deceptive Practice: The Mysteries and Mentors ...\n",
       "4706                                         12 Angry Men\n",
       "4885                                In the Company of Men\n",
       "Name: title, dtype: object"
      ]
     },
     "execution_count": 16,
     "metadata": {},
     "output_type": "execute_result"
    }
   ],
   "source": [
    "pattern = 'Mea?n'\n",
    "title[title.str.contains(pattern)]"
   ]
  },
  {
   "cell_type": "markdown",
   "metadata": {},
   "source": [
    "## The curly braces metacharacter `{m, n}`\n",
    "The curly braces metacharacter matches the previous character a given number of times. There are three different ways to use the curly braces:\n",
    "\n",
    "* a single integer **`a{3}`**\n",
    "* a single integer followed by a comma **`a{3,}`**\n",
    "* two integers separated by a comma **`a{3,5}`**\n",
    "\n",
    "**`a{3}`** matches exactly three consecutive a's. **`a{3,}`** matchces 3 or more consecutive a's. **`a{3,5}`** matches between 3 and 5 consecutive a's.\n",
    "\n",
    "Let's create another Series by hand and match all the strings that begin with 'A', have the letter 'h' repeat between 2 and 5 times and then followed by ' No'."
   ]
  },
  {
   "cell_type": "code",
   "execution_count": 17,
   "metadata": {},
   "outputs": [
    {
     "data": {
      "text/plain": [
       "0           Ouch\n",
       "1        Ahhh No\n",
       "2         Ahh No\n",
       "3           Nooo\n",
       "4    Ahhhhhhh No\n",
       "5           A No\n",
       "6              A\n",
       "7           Ahhh\n",
       "dtype: object"
      ]
     },
     "execution_count": 17,
     "metadata": {},
     "output_type": "execute_result"
    }
   ],
   "source": [
    "s = pd.Series(['Ouch', 'Ahhh No', 'Ahh No', 'Nooo', 'Ahhhhhhh No', 'A No', 'A', 'Ahhh'])\n",
    "s"
   ]
  },
  {
   "cell_type": "code",
   "execution_count": 18,
   "metadata": {},
   "outputs": [
    {
     "data": {
      "text/plain": [
       "1    Ahhh No\n",
       "2     Ahh No\n",
       "dtype: object"
      ]
     },
     "execution_count": 18,
     "metadata": {},
     "output_type": "execute_result"
    }
   ],
   "source": [
    "pattern = 'Ah{2,5} No'\n",
    "s[s.str.contains(pattern)]"
   ]
  },
  {
   "cell_type": "markdown",
   "metadata": {},
   "source": [
    "## The pipe metacharacter `|`\n",
    "The pipe metacharacter is equivalent to an **or** condition. It matches the entire word before or after the pipe. The regex **`'Friend|Enemy'`** matches any string with 'Friend' or 'Enemy' in it."
   ]
  },
  {
   "cell_type": "code",
   "execution_count": 19,
   "metadata": {},
   "outputs": [
    {
     "data": {
      "text/plain": [
       "403                            Enemy of the State\n",
       "408                            Enemy at the Gates\n",
       "1055                     My Best Friend's Wedding\n",
       "1214                           Behind Enemy Lines\n",
       "1413                        Friends with Benefits\n",
       "1775        How to Lose Friends & Alienate People\n",
       "2216                        My Best Friend's Girl\n",
       "3116    Seeking a Friend for the End of the World\n",
       "3495                           Friends with Money\n",
       "4184                          We Are Your Friends\n",
       "4279                        Dysfunctional Friends\n",
       "4670                               Mutual Friends\n",
       "Name: title, dtype: object"
      ]
     },
     "execution_count": 19,
     "metadata": {},
     "output_type": "execute_result"
    }
   ],
   "source": [
    "pattern = 'Friend|Enemy'\n",
    "title[title.str.contains(pattern)]"
   ]
  },
  {
   "cell_type": "markdown",
   "metadata": {},
   "source": [
    "You can add as many pipes as you please:"
   ]
  },
  {
   "cell_type": "code",
   "execution_count": 20,
   "metadata": {},
   "outputs": [
    {
     "data": {
      "text/plain": [
       "55              The Good Dinosaur\n",
       "343        A Good Day to Die Hard\n",
       "403            Enemy of the State\n",
       "408            Enemy at the Gates\n",
       "670    Resident Evil: Retribution\n",
       "Name: title, dtype: object"
      ]
     },
     "execution_count": 20,
     "metadata": {},
     "output_type": "execute_result"
    }
   ],
   "source": [
    "pattern = 'Friend|Enemy|Good|Evil'\n",
    "title[title.str.contains(pattern)].head()"
   ]
  },
  {
   "cell_type": "markdown",
   "metadata": {},
   "source": [
    "## The brackets metacharacter `[ ]`\n",
    "The brackets metacharacter allows you match one of several characters at single particular position. As we saw with the very fist example, **`'[xyz]'`** matches any single 'x', 'y', or 'z'.\n",
    "\n",
    "Another example, **`'T[aeiou]d'`** matches any words that begin with 'T', followed by exactly one vowel and then 'd'. The brackets contain all the possible matches for a single character.\n",
    "\n",
    "Concretely, it matches the following: 'Tad', 'Ted', 'Tid', 'Tod', and 'Tud'."
   ]
  },
  {
   "cell_type": "code",
   "execution_count": 25,
   "metadata": {},
   "outputs": [
    {
     "data": {
      "text/plain": [
       "18      Pirates of the Caribbean: On Stranger Tides\n",
       "628                                           Ted 2\n",
       "841                                    Crimson Tide\n",
       "922                                             Ted\n",
       "1594                            The Prince of Tides\n",
       "2016                  Win a Date with Tad Hamilton!\n",
       "2171                     Bill & Ted's Bogus Journey\n",
       "2576                                     Tidal Wave\n",
       "3053               Bill & Ted's Excellent Adventure\n",
       "4283        Living Dark: The Story of Ted the Caver\n",
       "4809                                        Tadpole\n",
       "Name: title, dtype: object"
      ]
     },
     "execution_count": 25,
     "metadata": {},
     "output_type": "execute_result"
    }
   ],
   "source": [
    "pattern = 'T[aeiou]d'\n",
    "title[title.str.contains(pattern)]"
   ]
  },
  {
   "cell_type": "markdown",
   "metadata": {},
   "source": [
    "### Entire character classes with the brackets\n",
    "Let's say you want to match all the lowercase letters 'a' through 'z'. You could write each letter within the brackets. Thankfully, there is a much easier way with **character classes**.\n",
    "\n",
    "Character classes are special notation within the brackets that can be used to denote entire subsets of characters. Take the following:\n",
    "* **`'[0-9]'`** represents all digits 0 through 9\n",
    "* **`'[a-z]'`** represents all lowercase letters\n",
    "* **`'[A-Z]'`** represents all uppercase letters\n",
    "* **`'[a-zA-Z]'`** represents all lowercase and uppercase letters"
   ]
  },
  {
   "cell_type": "markdown",
   "metadata": {},
   "source": [
    "### Digits in movies\n",
    "Let's match all movies with a digit in them."
   ]
  },
  {
   "cell_type": "code",
   "execution_count": 154,
   "metadata": {},
   "outputs": [
    {
     "data": {
      "text/plain": [
       "6                 Spider-Man 3\n",
       "19              Men in Black 3\n",
       "31                Spider-Man 2\n",
       "32                  Iron Man 3\n",
       "39    The Amazing Spider-Man 2\n",
       "Name: title, dtype: object"
      ]
     },
     "execution_count": 154,
     "metadata": {},
     "output_type": "execute_result"
    }
   ],
   "source": [
    "pattern = '[0-9]'\n",
    "title[title.str.contains(pattern)].head()"
   ]
  },
  {
   "cell_type": "markdown",
   "metadata": {},
   "source": [
    "### Matching movies with 2 digits in a row\n",
    "We can match movies with two digits in a row by using the digits character class twice."
   ]
  },
  {
   "cell_type": "code",
   "execution_count": 156,
   "metadata": {},
   "outputs": [
    {
     "data": {
      "text/plain": [
       "60                            2012\n",
       "85                        47 Ronin\n",
       "212               The 13th Warrior\n",
       "258         300: Rise of an Empire\n",
       "268    Around the World in 80 Days\n",
       "Name: title, dtype: object"
      ]
     },
     "execution_count": 156,
     "metadata": {},
     "output_type": "execute_result"
    }
   ],
   "source": [
    "pattern = '[0-9][0-9]'\n",
    "title[title.str.contains(pattern)].head()"
   ]
  },
  {
   "cell_type": "markdown",
   "metadata": {},
   "source": [
    "## Combining Special Characters\n",
    "You are allowed to combine any number of literal and special characters together with your regex. For instance, matching movies with two or more digits in a row could have been done by using the curly braces for repeats like this:"
   ]
  },
  {
   "cell_type": "code",
   "execution_count": 157,
   "metadata": {},
   "outputs": [
    {
     "data": {
      "text/plain": [
       "60                            2012\n",
       "85                        47 Ronin\n",
       "212               The 13th Warrior\n",
       "258         300: Rise of an Empire\n",
       "268    Around the World in 80 Days\n",
       "Name: title, dtype: object"
      ]
     },
     "execution_count": 157,
     "metadata": {},
     "output_type": "execute_result"
    }
   ],
   "source": [
    "pattern = '[0-9]{2,}'\n",
    "title[title.str.contains(pattern)].head()"
   ]
  },
  {
   "cell_type": "markdown",
   "metadata": {},
   "source": [
    "#### Find all movies that begin with exactly 4 digits in a row\n",
    "We can use the caret to anchor the digits to the start and the curly braces to match exactly 4 digits."
   ]
  },
  {
   "cell_type": "code",
   "execution_count": 162,
   "metadata": {},
   "outputs": [
    {
     "data": {
      "text/plain": [
       "60                         2012\n",
       "697     3000 Miles to Graceland\n",
       "1541                       1941\n",
       "1707                       1911\n",
       "2056                       1408\n",
       "Name: title, dtype: object"
      ]
     },
     "execution_count": 162,
     "metadata": {},
     "output_type": "execute_result"
    }
   ],
   "source": [
    "pattern = '^[0-9]{4}'\n",
    "title[title.str.contains(pattern)].head()"
   ]
  },
  {
   "cell_type": "markdown",
   "metadata": {},
   "source": [
    "#### Find all movies that begin with 'The' and end with 'Movie'\n",
    "We anchor 'The' to the beginning with the caret and 'Movie' to the end with the dollar symbol. We use **`.*`** in the middle to represent any character repeated 0 or more times."
   ]
  },
  {
   "cell_type": "code",
   "execution_count": 168,
   "metadata": {},
   "outputs": [
    {
     "data": {
      "text/plain": [
       "319                                     The Peanuts Movie\n",
       "561                                 The Angry Birds Movie\n",
       "569                                    The Simpsons Movie\n",
       "759                                        The Lego Movie\n",
       "1586                      The SpongeBob SquarePants Movie\n",
       "1734                                    The Rugrats Movie\n",
       "1895                           The Wild Thornberrys Movie\n",
       "2162                                     The Tigger Movie\n",
       "2593                             The Lizzie McGuire Movie\n",
       "2645    The Pirates Who Don't Do Anything: A VeggieTal...\n",
       "3296                                     The Muppet Movie\n",
       "4597                             The Kentucky Fried Movie\n",
       "Name: title, dtype: object"
      ]
     },
     "execution_count": 168,
     "metadata": {},
     "output_type": "execute_result"
    }
   ],
   "source": [
    "pattern = '^The .* Movie$'\n",
    "title[title.str.contains(pattern)]"
   ]
  },
  {
   "cell_type": "markdown",
   "metadata": {},
   "source": [
    "#### Find all movies that are exactly 10 characters long\n",
    "**`.{10}`** matches exactly any 10 characters in a row. We must anchor it to the beginning and end to ensure that the string is exactly 10 characters in length."
   ]
  },
  {
   "cell_type": "code",
   "execution_count": 176,
   "metadata": {},
   "outputs": [
    {
     "data": {
      "text/plain": [
       "22    Robin Hood\n",
       "28    Battleship\n",
       "32    Iron Man 3\n",
       "76    Waterworld\n",
       "78    Inside Out\n",
       "Name: title, dtype: object"
      ]
     },
     "execution_count": 176,
     "metadata": {},
     "output_type": "execute_result"
    }
   ],
   "source": [
    "pattern = '^.{10}$'\n",
    "title[title.str.contains(pattern)].head()"
   ]
  },
  {
   "cell_type": "markdown",
   "metadata": {},
   "source": [
    "## More Complex Character Classes\n",
    "Special characters lose their special meaning within the brackets. For instance, **`[.]`** matches the literal dot and **`[()*$]`** matches any string with the literal parentheses, asterisk, or dollar sign.\n",
    "\n",
    "Let's match movies with an asterisk in them:"
   ]
  },
  {
   "cell_type": "code",
   "execution_count": 35,
   "metadata": {},
   "outputs": [
    {
     "data": {
      "text/plain": [
       "3828                         What the #$*! Do We (K)now!?\n",
       "3902                                              M*A*S*H\n",
       "4162    Everything You Always Wanted to Know About Sex...\n",
       "Name: title, dtype: object"
      ]
     },
     "execution_count": 35,
     "metadata": {},
     "output_type": "execute_result"
    }
   ],
   "source": [
    "pattern = '[*]'\n",
    "title[title.str.contains(pattern)]"
   ]
  },
  {
   "cell_type": "markdown",
   "metadata": {},
   "source": [
    "Match movies with either an asterisk or dollar sign."
   ]
  },
  {
   "cell_type": "code",
   "execution_count": 50,
   "metadata": {},
   "outputs": [
    {
     "data": {
      "text/plain": [
       "3466                                                 Ca$h\n",
       "3828                         What the #$*! Do We (K)now!?\n",
       "3902                                              M*A*S*H\n",
       "4162    Everything You Always Wanted to Know About Sex...\n",
       "Name: title, dtype: object"
      ]
     },
     "execution_count": 50,
     "metadata": {},
     "output_type": "execute_result"
    }
   ],
   "source": [
    "pattern = '[*$]'\n",
    "title[title.str.contains(pattern)]"
   ]
  },
  {
   "cell_type": "markdown",
   "metadata": {},
   "source": [
    "### Exclude characters with caret\n",
    "It is possible to exclude character sets by putting a caret as the first character inside the brackets. For instance, **`Z[^aeiou]`** find match strings that begin have 'Z' followed by a non-vowel."
   ]
  },
  {
   "cell_type": "code",
   "execution_count": 91,
   "metadata": {},
   "outputs": [
    {
     "data": {
      "text/plain": [
       "2975                      Doctor Zhivago\n",
       "3469                             Z Storm\n",
       "4511    ZMD: Zombies of Mass Destruction\n",
       "4679                  Dogtown and Z-Boys\n",
       "Name: title, dtype: object"
      ]
     },
     "execution_count": 91,
     "metadata": {},
     "output_type": "execute_result"
    }
   ],
   "source": [
    "pattern = 'Z[^aeiou]'\n",
    "title[title.str.contains(pattern)]"
   ]
  },
  {
   "cell_type": "markdown",
   "metadata": {},
   "source": [
    "Find all movies that have an uppercase 'T' followed by a non-lowercase letter."
   ]
  },
  {
   "cell_type": "code",
   "execution_count": 94,
   "metadata": {},
   "outputs": [
    {
     "data": {
      "text/plain": [
       "40                              TRON: Legacy\n",
       "585                                 S.W.A.T.\n",
       "1411                                    TMNT\n",
       "1540    The Young and Prodigious T.S. Spivet\n",
       "2473                                     ATL\n",
       "2573                   Scream: The TV Series\n",
       "2994                                F.I.S.T.\n",
       "3028              E.T. the Extra-Terrestrial\n",
       "Name: title, dtype: object"
      ]
     },
     "execution_count": 94,
     "metadata": {},
     "output_type": "execute_result"
    }
   ],
   "source": [
    "pattern = 'T[^a-z]'\n",
    "title[title.str.contains(pattern)]"
   ]
  },
  {
   "cell_type": "markdown",
   "metadata": {},
   "source": [
    "## The backslash `\\` metacharacter\n",
    "The backslash metacharacter is used in conjunction with the very next character to change its meaning.\n",
    "\n",
    "* `\\d` - all digits, equivalent to `[0-9]`\n",
    "* `\\D` - any non-digit.\n",
    "* `\\s` - any amount of whitespace including normal spaces and tabs\n",
    "* `\\S` - any non-whitespace\n",
    "* `\\w` - any 'word' character, which is any upper or lowercase letter, digit or underscore. Equivalent to `[A-Za-z0-9_]`\n",
    "* `\\W` - any non-word character\n",
    "\n",
    "For instance, **`^\\W`** matches all strings that begin with a non-word character.\n",
    "\n",
    "### Prefix the string with `r` to make it a raw string\n",
    "\n",
    "The backslash is a special character in normal Python strings. **`\\n`** represents a newline character, **`\\t`** represents a tab. To be sure your regex is exactly what you see, its best to use **raw** Python strings. Prepend the string with an r outside of the quotation marks to make it a raw string. Python will treat the backslash as a literal backslash without any special meaning."
   ]
  },
  {
   "cell_type": "code",
   "execution_count": 102,
   "metadata": {},
   "outputs": [
    {
     "data": {
      "text/plain": [
       "3597    [Rec] 2\n",
       "4152      [Rec]\n",
       "4349    #Horror\n",
       "Name: title, dtype: object"
      ]
     },
     "execution_count": 102,
     "metadata": {},
     "output_type": "execute_result"
    }
   ],
   "source": [
    "pattern = r'^\\W+'\n",
    "title[title.str.contains(pattern)]"
   ]
  },
  {
   "cell_type": "markdown",
   "metadata": {},
   "source": [
    "### Backslash escapes special characters\n",
    "As we just saw, the special characters lose their special ability within the brackets. Preceding a special character by a backslash has the same effect. For instance **`\\*`** represents a literal asterisk and is the same as **`[*]`**"
   ]
  },
  {
   "cell_type": "code",
   "execution_count": 108,
   "metadata": {},
   "outputs": [
    {
     "data": {
      "text/plain": [
       "3828                         What the #$*! Do We (K)now!?\n",
       "3902                                              M*A*S*H\n",
       "4162    Everything You Always Wanted to Know About Sex...\n",
       "Name: title, dtype: object"
      ]
     },
     "execution_count": 108,
     "metadata": {},
     "output_type": "execute_result"
    }
   ],
   "source": [
    "pattern = r'\\*'\n",
    "title[title.str.contains(pattern)]"
   ]
  },
  {
   "cell_type": "markdown",
   "metadata": {},
   "source": [
    "## The parentheses metacharacters `( )`\n",
    "The parentheses metacharacters are used to **group** together parts of the regular expression. For instance, let's say we want to find all movies that begin with the word 'In' or 'My'. You might think about using **`'^In|My'`**:"
   ]
  },
  {
   "cell_type": "code",
   "execution_count": 246,
   "metadata": {},
   "outputs": [
    {
     "data": {
      "text/plain": [
       "54     Indiana Jones and the Kingdom of the Crystal S...\n",
       "78                                            Inside Out\n",
       "92                          Independence Day: Resurgence\n",
       "96                                          Interstellar\n",
       "97                                             Inception\n",
       "253                                            Insurgent\n",
       "316                              In the Heart of the Sea\n",
       "504                     Journey 2: The Mysterious Island\n",
       "516                                     Independence Day\n",
       "527                                     Inspector Gadget\n",
       "Name: title, dtype: object"
      ]
     },
     "execution_count": 246,
     "metadata": {},
     "output_type": "execute_result"
    }
   ],
   "source": [
    "pattern = '^In|My'\n",
    "title[title.str.contains(pattern)].head(10)"
   ]
  },
  {
   "cell_type": "markdown",
   "metadata": {},
   "source": [
    "### The meaning of `^In|My`\n",
    "There are a couple things wrong with this regex. First, we are getting movies that begin with words that begin with 'In' such as 'Indiana' or 'Inside' instead of the just the word 'In'.\n",
    "\n",
    "Second, the movie, 'Journey 2: The Mysterious Island' has 'My' within the name and not at the beginning. This mistake is happening because of **operator precedence** within the regex. \n",
    "\n",
    "`^In|My` matches movies that begin with the letters 'In' or have 'My' anywhere inside it. The caret is only anchoring 'In'.\n",
    "\n",
    "## Using parentheses to group\n",
    "We can use parentheses to change the operator precedence just how we do in mathematical expressions. Let's modify our expression to `'^(In|My)'`"
   ]
  },
  {
   "cell_type": "code",
   "execution_count": 110,
   "metadata": {},
   "outputs": [
    {
     "name": "stderr",
     "output_type": "stream",
     "text": [
      "/Users/Ted/anaconda3/lib/python3.6/site-packages/ipykernel_launcher.py:2: UserWarning: This pattern has match groups. To actually get the groups, use str.extract.\n",
      "  \n"
     ]
    },
    {
     "data": {
      "text/plain": [
       "54     Indiana Jones and the Kingdom of the Crystal S...\n",
       "78                                            Inside Out\n",
       "92                          Independence Day: Resurgence\n",
       "96                                          Interstellar\n",
       "97                                             Inception\n",
       "253                                            Insurgent\n",
       "316                              In the Heart of the Sea\n",
       "516                                     Independence Day\n",
       "527                                     Inspector Gadget\n",
       "582                                 Inglourious Basterds\n",
       "630                                          Mystery Men\n",
       "764                                             Invictus\n",
       "767                                  My Favorite Martian\n",
       "771                                  Intolerable Cruelty\n",
       "796                                             Inkheart\n",
       "Name: title, dtype: object"
      ]
     },
     "execution_count": 110,
     "metadata": {},
     "output_type": "execute_result"
    }
   ],
   "source": [
    "pattern = '^(In|My)'\n",
    "title[title.str.contains(pattern)].head(15)"
   ]
  },
  {
   "cell_type": "markdown",
   "metadata": {},
   "source": [
    "### Getting closer\n",
    "We grouped `In|My` together so the movie must begin with them. We are still lacking a space after them. We can do this with three slightly different regexes\n",
    "* `'^(In|My)\\s'`\n",
    "* `'^(In|My) '`\n",
    "* `'^(In |My )'`\n",
    "\n",
    "The `\\s` matches any number of whitespaces."
   ]
  },
  {
   "cell_type": "code",
   "execution_count": 114,
   "metadata": {},
   "outputs": [
    {
     "name": "stderr",
     "output_type": "stream",
     "text": [
      "/Users/Ted/anaconda3/lib/python3.6/site-packages/ipykernel_launcher.py:2: UserWarning: This pattern has match groups. To actually get the groups, use str.extract.\n",
      "  \n"
     ]
    },
    {
     "data": {
      "text/plain": [
       "316                           In the Heart of the Sea\n",
       "767                               My Favorite Martian\n",
       "799     In the Name of the King: A Dungeon Siege Tale\n",
       "1055                         My Best Friend's Wedding\n",
       "1405                                         In & Out\n",
       "1428                                          In Time\n",
       "1660                           My Super Ex-Girlfriend\n",
       "1685                                        In Dreams\n",
       "1781                               My Sister's Keeper\n",
       "1832                                  In Good Company\n",
       "1945                                  My Soul to Take\n",
       "2049                            In the Valley of Elah\n",
       "2104                              My Fellow Americans\n",
       "2216                            My Best Friend's Girl\n",
       "2375                       My Big Fat Greek Wedding 2\n",
       "Name: title, dtype: object"
      ]
     },
     "execution_count": 114,
     "metadata": {},
     "output_type": "execute_result"
    }
   ],
   "source": [
    "pattern = r'^(In|My)\\s'\n",
    "title[title.str.contains(pattern)].head(15)"
   ]
  },
  {
   "cell_type": "markdown",
   "metadata": {},
   "source": [
    "### Why are we getting `UserWarning: This pattern has match groups`?\n",
    "Besides operator precedence, grouping has an alternative function and that is to extract specific text from a string. In regex terminology, we call this a **capturing group**. This warning is alerting us that we have used a capture group and if we wanted to extract this group then we should be using the **`extract`** string method.\n",
    "\n",
    "### Specifying a non-capturing group\n",
    "Our regular expression is valid the way it is. We can signal inside of our regular expression that this is a **non-capturing group** by placing a **`?:`** as the first two characters inside of the parentheses. This will eliminate the warning."
   ]
  },
  {
   "cell_type": "code",
   "execution_count": 116,
   "metadata": {},
   "outputs": [
    {
     "data": {
      "text/plain": [
       "316                           In the Heart of the Sea\n",
       "767                               My Favorite Martian\n",
       "799     In the Name of the King: A Dungeon Siege Tale\n",
       "1055                         My Best Friend's Wedding\n",
       "1405                                         In & Out\n",
       "1428                                          In Time\n",
       "1660                           My Super Ex-Girlfriend\n",
       "1685                                        In Dreams\n",
       "1781                               My Sister's Keeper\n",
       "1832                                  In Good Company\n",
       "1945                                  My Soul to Take\n",
       "2049                            In the Valley of Elah\n",
       "2104                              My Fellow Americans\n",
       "2216                            My Best Friend's Girl\n",
       "2375                       My Big Fat Greek Wedding 2\n",
       "Name: title, dtype: object"
      ]
     },
     "execution_count": 116,
     "metadata": {},
     "output_type": "execute_result"
    }
   ],
   "source": [
    "pattern = r'^(?:In|My)\\s'\n",
    "title[title.str.contains(pattern)].head(15)"
   ]
  },
  {
   "cell_type": "markdown",
   "metadata": {},
   "source": [
    "## Using capture groups with the `extract` string method\n",
    "We can use the exact same pattern with the **`extract`** string method to extract the group."
   ]
  },
  {
   "cell_type": "code",
   "execution_count": 117,
   "metadata": {},
   "outputs": [
    {
     "data": {
      "text/html": [
       "<div>\n",
       "<style scoped>\n",
       "    .dataframe tbody tr th:only-of-type {\n",
       "        vertical-align: middle;\n",
       "    }\n",
       "\n",
       "    .dataframe tbody tr th {\n",
       "        vertical-align: top;\n",
       "    }\n",
       "\n",
       "    .dataframe thead th {\n",
       "        text-align: right;\n",
       "    }\n",
       "</style>\n",
       "<table border=\"1\" class=\"dataframe\">\n",
       "  <thead>\n",
       "    <tr style=\"text-align: right;\">\n",
       "      <th></th>\n",
       "      <th>0</th>\n",
       "    </tr>\n",
       "  </thead>\n",
       "  <tbody>\n",
       "    <tr>\n",
       "      <th>0</th>\n",
       "      <td>NaN</td>\n",
       "    </tr>\n",
       "    <tr>\n",
       "      <th>1</th>\n",
       "      <td>NaN</td>\n",
       "    </tr>\n",
       "    <tr>\n",
       "      <th>2</th>\n",
       "      <td>NaN</td>\n",
       "    </tr>\n",
       "    <tr>\n",
       "      <th>3</th>\n",
       "      <td>NaN</td>\n",
       "    </tr>\n",
       "    <tr>\n",
       "      <th>4</th>\n",
       "      <td>NaN</td>\n",
       "    </tr>\n",
       "  </tbody>\n",
       "</table>\n",
       "</div>"
      ],
      "text/plain": [
       "     0\n",
       "0  NaN\n",
       "1  NaN\n",
       "2  NaN\n",
       "3  NaN\n",
       "4  NaN"
      ]
     },
     "execution_count": 117,
     "metadata": {},
     "output_type": "execute_result"
    }
   ],
   "source": [
    "pattern = r'^(In|My)\\s'\n",
    "title.str.extract(pattern).head()"
   ]
  },
  {
   "cell_type": "markdown",
   "metadata": {},
   "source": [
    "### Why are all the values missing?\n",
    "Only a small fraction of the movie titles begin with 'In' or 'My'. Let's drop the missing values and see the extracted text:"
   ]
  },
  {
   "cell_type": "code",
   "execution_count": 118,
   "metadata": {},
   "outputs": [
    {
     "data": {
      "text/html": [
       "<div>\n",
       "<style scoped>\n",
       "    .dataframe tbody tr th:only-of-type {\n",
       "        vertical-align: middle;\n",
       "    }\n",
       "\n",
       "    .dataframe tbody tr th {\n",
       "        vertical-align: top;\n",
       "    }\n",
       "\n",
       "    .dataframe thead th {\n",
       "        text-align: right;\n",
       "    }\n",
       "</style>\n",
       "<table border=\"1\" class=\"dataframe\">\n",
       "  <thead>\n",
       "    <tr style=\"text-align: right;\">\n",
       "      <th></th>\n",
       "      <th>0</th>\n",
       "    </tr>\n",
       "  </thead>\n",
       "  <tbody>\n",
       "    <tr>\n",
       "      <th>316</th>\n",
       "      <td>In</td>\n",
       "    </tr>\n",
       "    <tr>\n",
       "      <th>767</th>\n",
       "      <td>My</td>\n",
       "    </tr>\n",
       "    <tr>\n",
       "      <th>799</th>\n",
       "      <td>In</td>\n",
       "    </tr>\n",
       "    <tr>\n",
       "      <th>1055</th>\n",
       "      <td>My</td>\n",
       "    </tr>\n",
       "    <tr>\n",
       "      <th>1405</th>\n",
       "      <td>In</td>\n",
       "    </tr>\n",
       "  </tbody>\n",
       "</table>\n",
       "</div>"
      ],
      "text/plain": [
       "       0\n",
       "316   In\n",
       "767   My\n",
       "799   In\n",
       "1055  My\n",
       "1405  In"
      ]
     },
     "execution_count": 118,
     "metadata": {},
     "output_type": "execute_result"
    }
   ],
   "source": [
    "pattern = '^(In|My)\\s'\n",
    "title.str.extract(pattern).dropna().head()"
   ]
  },
  {
   "cell_type": "markdown",
   "metadata": {},
   "source": [
    "### Extracting the fourth word of movie titles that begin with 'In' or 'My'\n",
    "Let's try something a bit more complex and extract the fourth word of all movies that begin with the words 'In' or 'My'. For instance, the movie, 'In the Heart of the Sea' meets our criteria. The word 'of' would be extracted from it.\n",
    "\n",
    "To accomplish this, we need to match movies that begin with 'In' or 'My' and then match two words, before capturing the fourth word.\n",
    "\n",
    "We already saw that `^(?:In|My)` completes the first part of this task. We can then add on `(?:\\s\\S+){2}` which is a non-capturing group that matches a space followed by one or more non-space characters. We use `{2}` to match two of these in a row. We then need to match one more space and then capture the next word. We do this with `\\s(\\S+)`.\n",
    "\n",
    "Remember, only the matched text in the parentheses is extracted. The parentheses that begin with `?:` are also not extracted."
   ]
  },
  {
   "cell_type": "code",
   "execution_count": 119,
   "metadata": {},
   "outputs": [
    {
     "data": {
      "text/html": [
       "<div>\n",
       "<style scoped>\n",
       "    .dataframe tbody tr th:only-of-type {\n",
       "        vertical-align: middle;\n",
       "    }\n",
       "\n",
       "    .dataframe tbody tr th {\n",
       "        vertical-align: top;\n",
       "    }\n",
       "\n",
       "    .dataframe thead th {\n",
       "        text-align: right;\n",
       "    }\n",
       "</style>\n",
       "<table border=\"1\" class=\"dataframe\">\n",
       "  <thead>\n",
       "    <tr style=\"text-align: right;\">\n",
       "      <th></th>\n",
       "      <th>0</th>\n",
       "    </tr>\n",
       "  </thead>\n",
       "  <tbody>\n",
       "    <tr>\n",
       "      <th>316</th>\n",
       "      <td>of</td>\n",
       "    </tr>\n",
       "    <tr>\n",
       "      <th>799</th>\n",
       "      <td>of</td>\n",
       "    </tr>\n",
       "    <tr>\n",
       "      <th>1055</th>\n",
       "      <td>Wedding</td>\n",
       "    </tr>\n",
       "    <tr>\n",
       "      <th>1945</th>\n",
       "      <td>Take</td>\n",
       "    </tr>\n",
       "    <tr>\n",
       "      <th>2049</th>\n",
       "      <td>of</td>\n",
       "    </tr>\n",
       "    <tr>\n",
       "      <th>2216</th>\n",
       "      <td>Girl</td>\n",
       "    </tr>\n",
       "    <tr>\n",
       "      <th>2375</th>\n",
       "      <td>Greek</td>\n",
       "    </tr>\n",
       "    <tr>\n",
       "      <th>2483</th>\n",
       "      <td>Ruins</td>\n",
       "    </tr>\n",
       "    <tr>\n",
       "      <th>2535</th>\n",
       "      <td>an</td>\n",
       "    </tr>\n",
       "    <tr>\n",
       "      <th>2843</th>\n",
       "      <td>of</td>\n",
       "    </tr>\n",
       "    <tr>\n",
       "      <th>3029</th>\n",
       "      <td>of</td>\n",
       "    </tr>\n",
       "    <tr>\n",
       "      <th>3100</th>\n",
       "      <td>Marilyn</td>\n",
       "    </tr>\n",
       "    <tr>\n",
       "      <th>3286</th>\n",
       "      <td>Khan</td>\n",
       "    </tr>\n",
       "    <tr>\n",
       "      <th>3666</th>\n",
       "      <td>Greek</td>\n",
       "    </tr>\n",
       "    <tr>\n",
       "      <th>3937</th>\n",
       "      <td>of</td>\n",
       "    </tr>\n",
       "    <tr>\n",
       "      <th>4044</th>\n",
       "      <td>Independent</td>\n",
       "    </tr>\n",
       "    <tr>\n",
       "      <th>4100</th>\n",
       "      <td>Idaho</td>\n",
       "    </tr>\n",
       "    <tr>\n",
       "      <th>4108</th>\n",
       "      <td>Me</td>\n",
       "    </tr>\n",
       "    <tr>\n",
       "      <th>4159</th>\n",
       "      <td>of</td>\n",
       "    </tr>\n",
       "    <tr>\n",
       "      <th>4197</th>\n",
       "      <td>of</td>\n",
       "    </tr>\n",
       "    <tr>\n",
       "      <th>4289</th>\n",
       "      <td>Love</td>\n",
       "    </tr>\n",
       "    <tr>\n",
       "      <th>4332</th>\n",
       "      <td>Bruce</td>\n",
       "    </tr>\n",
       "    <tr>\n",
       "      <th>4499</th>\n",
       "      <td>of</td>\n",
       "    </tr>\n",
       "    <tr>\n",
       "      <th>4514</th>\n",
       "      <td>Without</td>\n",
       "    </tr>\n",
       "    <tr>\n",
       "      <th>4885</th>\n",
       "      <td>of</td>\n",
       "    </tr>\n",
       "    <tr>\n",
       "      <th>4915</th>\n",
       "      <td>Drew</td>\n",
       "    </tr>\n",
       "  </tbody>\n",
       "</table>\n",
       "</div>"
      ],
      "text/plain": [
       "                0\n",
       "316            of\n",
       "799            of\n",
       "1055      Wedding\n",
       "1945         Take\n",
       "2049           of\n",
       "2216         Girl\n",
       "2375        Greek\n",
       "2483        Ruins\n",
       "2535           an\n",
       "2843           of\n",
       "3029           of\n",
       "3100      Marilyn\n",
       "3286         Khan\n",
       "3666        Greek\n",
       "3937           of\n",
       "4044  Independent\n",
       "4100        Idaho\n",
       "4108           Me\n",
       "4159           of\n",
       "4197           of\n",
       "4289         Love\n",
       "4332        Bruce\n",
       "4499           of\n",
       "4514      Without\n",
       "4885           of\n",
       "4915         Drew"
      ]
     },
     "execution_count": 119,
     "metadata": {},
     "output_type": "execute_result"
    }
   ],
   "source": [
    "pattern = r'^(?:In|My)(?:\\s\\S+){2}\\s(\\S+)'\n",
    "title.str.extract(pattern).dropna()"
   ]
  },
  {
   "cell_type": "markdown",
   "metadata": {},
   "source": [
    "### `extract` must have capture groups\n",
    "The regex used with the **`extract`** string method must have capture groups. If not, an error will be raised.\n",
    "\n",
    "\n",
    "### Multiple capture groups for `extract`\n",
    "You can capture more than one group with **`extract`**. Take a look at the following regex which captures the first word after a movie that begins with 'The' and the first word after 'of'."
   ]
  },
  {
   "cell_type": "code",
   "execution_count": 151,
   "metadata": {},
   "outputs": [
    {
     "data": {
      "text/html": [
       "<div>\n",
       "<style scoped>\n",
       "    .dataframe tbody tr th:only-of-type {\n",
       "        vertical-align: middle;\n",
       "    }\n",
       "\n",
       "    .dataframe tbody tr th {\n",
       "        vertical-align: top;\n",
       "    }\n",
       "\n",
       "    .dataframe thead th {\n",
       "        text-align: right;\n",
       "    }\n",
       "</style>\n",
       "<table border=\"1\" class=\"dataframe\">\n",
       "  <thead>\n",
       "    <tr style=\"text-align: right;\">\n",
       "      <th></th>\n",
       "      <th>0</th>\n",
       "      <th>1</th>\n",
       "    </tr>\n",
       "  </thead>\n",
       "  <tbody>\n",
       "    <tr>\n",
       "      <th>16</th>\n",
       "      <td>Chronicles</td>\n",
       "      <td>Narnia:</td>\n",
       "    </tr>\n",
       "    <tr>\n",
       "      <th>20</th>\n",
       "      <td>Hobbit:</td>\n",
       "      <td>the</td>\n",
       "    </tr>\n",
       "    <tr>\n",
       "      <th>23</th>\n",
       "      <td>Hobbit:</td>\n",
       "      <td>Smaug</td>\n",
       "    </tr>\n",
       "    <tr>\n",
       "      <th>63</th>\n",
       "      <td>Legend</td>\n",
       "      <td>Tarzan</td>\n",
       "    </tr>\n",
       "    <tr>\n",
       "      <th>64</th>\n",
       "      <td>Chronicles</td>\n",
       "      <td>Narnia:</td>\n",
       "    </tr>\n",
       "  </tbody>\n",
       "</table>\n",
       "</div>"
      ],
      "text/plain": [
       "             0        1\n",
       "16  Chronicles  Narnia:\n",
       "20     Hobbit:      the\n",
       "23     Hobbit:    Smaug\n",
       "63      Legend   Tarzan\n",
       "64  Chronicles  Narnia:"
      ]
     },
     "execution_count": 151,
     "metadata": {},
     "output_type": "execute_result"
    }
   ],
   "source": [
    "pattern = r'^The (\\S+) .*of (\\S+)'\n",
    "title.str.extract(pattern).dropna().head()"
   ]
  },
  {
   "cell_type": "markdown",
   "metadata": {},
   "source": [
    "## Many other string methods take regexes\n",
    "You can use regular expressions in several other Series string methods such as **`count`**, **`replace`** and **`split`**. For instance, the following counts the times consecutive lowercase vowels appear for each string. We then find the maximum number of times this happens within the movie titles."
   ]
  },
  {
   "cell_type": "code",
   "execution_count": 167,
   "metadata": {},
   "outputs": [
    {
     "data": {
      "text/plain": [
       "4"
      ]
     },
     "execution_count": 167,
     "metadata": {},
     "output_type": "execute_result"
    }
   ],
   "source": [
    "title.str.count('[aeiou]{2}').max()"
   ]
  },
  {
   "cell_type": "markdown",
   "metadata": {},
   "source": [
    "# Other Flavors of Regex\n",
    "Regular expressions are not quite standardized for every single programming language, so you will need to ensure you are implementing the right 'flavor' for each language."
   ]
  },
  {
   "cell_type": "markdown",
   "metadata": {},
   "source": [
    "# More to Regex\n",
    "There is a lot more to regular expressions that was no covered in this notebook. \n",
    "\n",
    "* [Official Python Documentation][1]\n",
    "* [Thorough Online Tutorial][2]\n",
    "* [Practice with explanations][3] - make sure to choose Python\n",
    "\n",
    "[1]: https://docs.python.org/3/howto/regex.html\n",
    "[2]: https://www.regular-expressions.info/\n",
    "[3]: https://regex101.com/"
   ]
  },
  {
   "cell_type": "markdown",
   "metadata": {},
   "source": [
    "# Regex Summary\n",
    "* Literal characters represent themselves\n",
    "* Special or metacharacters represent something entirely different\n",
    "* Primarily usage of regex is to either match a particular string or extract a substring\n",
    "* Many Pandas string methods accept regular expressions but you will primarily be using **`contains`** and **`extract`**\n",
    "* Use raw Python strings when writing regex. Raw strings have 'r' prepended to them.\n",
    "\n",
    "### Metacharacter Summary\n",
    "`. ^ $ * + ? { } [ ] \\ | ( )`\n",
    "* `.` - Matches any character\n",
    "* `^` - Anchors next characters to beginning\n",
    "* `$` - Anchors previous characters to end\n",
    "* `*` - Matches 0 or more occurrences of previous character\n",
    "* `+` - Matches 1 or more occurrences of previous character\n",
    "* `?` - Matches 0 or 1 occurrences of previous character\n",
    "* `{m}`, `{m,}`, `{m,n}` Matches m, m or more, between m and n repeats of previous character\n",
    "* `[]` - A character set to match one out of many characters. `[aeiou]` matches a single vowel\n",
    "* `[a-z]`, `[A-Z]`, `[0-9]` - Character sets for lowercase, uppercase, and digits\n",
    "* `[^abc]` - Use caret at beginning of bracket to match anything but these characters\n",
    "* `\\` - backslash changes meaning of next character\n",
    "* `\\s` - whitespace\n",
    "* `\\S` - non-whitespace\n",
    "* `\\w` - lower/uppercase and underscore\n",
    "* `\\W` - everything but `\\w`\n",
    "* `\\d` - digits\n",
    "* `\\D` - non-digits\n",
    "* `\\.` - Escapes all special characters such as literal dot here. \n",
    "* `|` - Or clause. Matches when either left or right set of characters match. `cat|dog` matches either 'cat' or 'dog'\n",
    "* `()` - Groups together parts of regex like mathematical parentheses to achieve different operator precedence\n",
    "* `()` - Also represents capture groups for extracting text. Use `(?:)` to signal non-capturing group."
   ]
  },
  {
   "cell_type": "markdown",
   "metadata": {},
   "source": [
    "# Exercises"
   ]
  },
  {
   "cell_type": "markdown",
   "metadata": {},
   "source": [
    "### Problem 1\n",
    "<span  style=\"color:green; font-size:16px\">Find all movies that begin with 'The' followed by the next word that begins with digits.</span>"
   ]
  },
  {
   "cell_type": "code",
   "execution_count": 216,
   "metadata": {},
   "outputs": [],
   "source": [
    "# your code here"
   ]
  },
  {
   "cell_type": "markdown",
   "metadata": {},
   "source": [
    "### Problem 2\n",
    "<span  style=\"color:green; font-size:16px\">For all movies that begin with 'The' and are followed by the next word that begins with a digit, extract just the digits part of this word.</span>"
   ]
  },
  {
   "cell_type": "code",
   "execution_count": 217,
   "metadata": {},
   "outputs": [],
   "source": [
    "# your code here"
   ]
  },
  {
   "cell_type": "markdown",
   "metadata": {},
   "source": [
    "### Problem 3\n",
    "<span  style=\"color:green; font-size:16px\">Find all movies that have three consecutive capital letters in them.</span>"
   ]
  },
  {
   "cell_type": "code",
   "execution_count": 218,
   "metadata": {},
   "outputs": [],
   "source": [
    "# your code here"
   ]
  },
  {
   "cell_type": "markdown",
   "metadata": {},
   "source": [
    "### Problem 4\n",
    "<span  style=\"color:green; font-size:16px\">Find all movies that have two separate numbers in them. An example would be, '7 days and 7 nights'.</span>"
   ]
  },
  {
   "cell_type": "code",
   "execution_count": 219,
   "metadata": {},
   "outputs": [],
   "source": [
    "# your code here"
   ]
  },
  {
   "cell_type": "markdown",
   "metadata": {},
   "source": [
    "### Problem 5\n",
    "<span  style=\"color:green; font-size:16px\">Find all movies that have begin and end with a capital letter.</span>"
   ]
  },
  {
   "cell_type": "code",
   "execution_count": 220,
   "metadata": {},
   "outputs": [],
   "source": [
    "# your code here"
   ]
  },
  {
   "cell_type": "markdown",
   "metadata": {},
   "source": [
    "### Problem 6\n",
    "<span  style=\"color:green; font-size:16px\">Find all the movies that have 6 or more non-vowel and non-space characters in a row.</span>"
   ]
  },
  {
   "cell_type": "code",
   "execution_count": 221,
   "metadata": {},
   "outputs": [],
   "source": [
    "# your code here"
   ]
  },
  {
   "cell_type": "markdown",
   "metadata": {},
   "source": [
    "### Problem 7\n",
    "<span  style=\"color:green; font-size:16px\">Find all the movies that have a digit followed by a comma followed by a digit.</span>"
   ]
  },
  {
   "cell_type": "code",
   "execution_count": 222,
   "metadata": {},
   "outputs": [],
   "source": [
    "# your code here"
   ]
  },
  {
   "cell_type": "markdown",
   "metadata": {},
   "source": [
    "### Problem 8\n",
    "<span  style=\"color:green; font-size:16px\">Find all the movies that have either an ampersand or a question mark in them.</span>"
   ]
  },
  {
   "cell_type": "code",
   "execution_count": 223,
   "metadata": {},
   "outputs": [],
   "source": [
    "# your code here"
   ]
  },
  {
   "cell_type": "markdown",
   "metadata": {},
   "source": [
    "### Problem 9\n",
    "<span  style=\"color:green; font-size:16px\">Which movie has the most ampersands, question marks, and periods in it?</span>"
   ]
  },
  {
   "cell_type": "code",
   "execution_count": 224,
   "metadata": {},
   "outputs": [],
   "source": [
    "# your code here"
   ]
  },
  {
   "cell_type": "markdown",
   "metadata": {},
   "source": [
    "### Problem 10\n",
    "<span  style=\"color:green; font-size:16px\">Extract the very next character after 't' or 'T' for each movie.</span>"
   ]
  },
  {
   "cell_type": "code",
   "execution_count": 225,
   "metadata": {},
   "outputs": [],
   "source": [
    "# your code here"
   ]
  },
  {
   "cell_type": "markdown",
   "metadata": {},
   "source": [
    "### Problem 11\n",
    "<span  style=\"color:green; font-size:16px\">What is the most common character after 't' or 'T'?</span>"
   ]
  },
  {
   "cell_type": "code",
   "execution_count": 226,
   "metadata": {},
   "outputs": [],
   "source": [
    "# your code here"
   ]
  },
  {
   "cell_type": "markdown",
   "metadata": {},
   "source": [
    "### Problem 13\n",
    "<span style=\"color:green; font-size:16px\">Extract all the words that begin with 'T' or 't' and end in 'e' then find their frequency. Research the word boundaray special character.</span>"
   ]
  },
  {
   "cell_type": "code",
   "execution_count": null,
   "metadata": {},
   "outputs": [],
   "source": [
    "# your code here"
   ]
  }
 ],
 "metadata": {
  "kernelspec": {
   "display_name": "Python 3",
   "language": "python",
   "name": "python3"
  },
  "language_info": {
   "codemirror_mode": {
    "name": "ipython",
    "version": 3
   },
   "file_extension": ".py",
   "mimetype": "text/x-python",
   "name": "python",
   "nbconvert_exporter": "python",
   "pygments_lexer": "ipython3",
   "version": "3.6.4"
  }
 },
 "nbformat": 4,
 "nbformat_minor": 2
}
