{
 "cells": [
  {
   "cell_type": "markdown",
   "metadata": {},
   "source": [
    "# Control Flow\n",
    "\n",
    "## Objectives\n",
    "By the end of this notebook, you should know:\n",
    "\n",
    "* How to use the standard comparison operators\n",
    "* How to write **`if`** statements\n",
    "* What code blocks are and how indentation works\n",
    "* How to write a **`for`** loop\n",
    "* What types of objects are iterable\n",
    "* How to write a **`while`** loop\n",
    "* How to use augmented assignment statements\n",
    "* How to use **`break`** and **`continue`** to gain more control within a loop\n",
    "* How to write list comprehensions\n",
    "* How to write nested loops\n",
    "\n",
    "Control flow refers to the order that statements are executed in Python. The previous notebooks have all had statements execute one after another in the order that they were written. This notebook will cover **if** statements and iteration, the two most basic categories of how control flow gets manipulated by the programmer.\n",
    "\n",
    "### Indenting and code blocks in Python\n",
    "Python's syntax is so simple that it relies upon **indentation** (and not curly braces like in other languages) beneath code blocks to mark their beginning and end. `if, for, while, def, with` are all statements that have indented code blocks underneath them. A block is ended when the indentation for the current line returns to where it was before the indentation began. [PEP8](https://www.python.org/dev/peps/pep-0008/), a popular python style guide suggests 4 spaces (not tabs) for indentation. Jupyter notebooks default to 4 spaces as well and take care of it for you when you begin a code block that requires indentation."
   ]
  },
  {
   "cell_type": "markdown",
   "metadata": {},
   "source": [
    "# Booleans\n",
    "Python has a boolean type with keyword values **`True`** or **`False`**. Python has six standard comparison operators\n",
    "* **`>`** &nbsp;&nbsp;- greater than\n",
    "* **`>=`** - greater than or equal to\n",
    "* **`<`** &nbsp; -  less than\n",
    "* **`<=`** - less than or equal to\n",
    "* **`==`** - equal to\n",
    "* **`!=`** - not equal to\n",
    "\n",
    "All of these evaluate expressions as **`True`** or **`False`**. A single equals sign (**`=`**) is the assignment operator. Evaluate the following comparisons:"
   ]
  },
  {
   "cell_type": "code",
   "execution_count": 1,
   "metadata": {},
   "outputs": [
    {
     "data": {
      "text/plain": [
       "False"
      ]
     },
     "execution_count": 1,
     "metadata": {},
     "output_type": "execute_result"
    }
   ],
   "source": [
    "5 > 6 "
   ]
  },
  {
   "cell_type": "code",
   "execution_count": 2,
   "metadata": {},
   "outputs": [
    {
     "data": {
      "text/plain": [
       "True"
      ]
     },
     "execution_count": 2,
     "metadata": {},
     "output_type": "execute_result"
    }
   ],
   "source": [
    "5 >= 5"
   ]
  },
  {
   "cell_type": "code",
   "execution_count": 3,
   "metadata": {},
   "outputs": [
    {
     "data": {
      "text/plain": [
       "False"
      ]
     },
     "execution_count": 3,
     "metadata": {},
     "output_type": "execute_result"
    }
   ],
   "source": [
    "0 < 0"
   ]
  },
  {
   "cell_type": "code",
   "execution_count": 4,
   "metadata": {},
   "outputs": [
    {
     "data": {
      "text/plain": [
       "True"
      ]
     },
     "execution_count": 4,
     "metadata": {},
     "output_type": "execute_result"
    }
   ],
   "source": [
    "0 <= 0"
   ]
  },
  {
   "cell_type": "code",
   "execution_count": 5,
   "metadata": {},
   "outputs": [
    {
     "data": {
      "text/plain": [
       "True"
      ]
     },
     "execution_count": 5,
     "metadata": {},
     "output_type": "execute_result"
    }
   ],
   "source": [
    "9 == 9"
   ]
  },
  {
   "cell_type": "code",
   "execution_count": 6,
   "metadata": {},
   "outputs": [
    {
     "data": {
      "text/plain": [
       "False"
      ]
     },
     "execution_count": 6,
     "metadata": {},
     "output_type": "execute_result"
    }
   ],
   "source": [
    "10 != 10"
   ]
  },
  {
   "cell_type": "markdown",
   "metadata": {},
   "source": [
    "### Testing if an object is `None`\n",
    "We can test whether an object is **`None`** with the **`is`** operator which also always returns a boolean."
   ]
  },
  {
   "cell_type": "code",
   "execution_count": 7,
   "metadata": {},
   "outputs": [
    {
     "data": {
      "text/plain": [
       "False"
      ]
     },
     "execution_count": 7,
     "metadata": {},
     "output_type": "execute_result"
    }
   ],
   "source": [
    "# can also test if a variable is None\n",
    "a = 'asdf'\n",
    "a is None"
   ]
  },
  {
   "cell_type": "code",
   "execution_count": 8,
   "metadata": {},
   "outputs": [
    {
     "data": {
      "text/plain": [
       "True"
      ]
     },
     "execution_count": 8,
     "metadata": {},
     "output_type": "execute_result"
    }
   ],
   "source": [
    "# a None variable\n",
    "a = None\n",
    "a is None"
   ]
  },
  {
   "cell_type": "markdown",
   "metadata": {},
   "source": [
    "### More on the `is` operator\n",
    "The **`is`** operator has a broader application and determines if two variables are referencing the same underlying object."
   ]
  },
  {
   "cell_type": "code",
   "execution_count": 9,
   "metadata": {},
   "outputs": [
    {
     "data": {
      "text/plain": [
       "True"
      ]
     },
     "execution_count": 9,
     "metadata": {},
     "output_type": "execute_result"
    }
   ],
   "source": [
    "# can test if two variables are pointing to the same object\n",
    "a = [1, 2, 3]\n",
    "b = a\n",
    "a is b"
   ]
  },
  {
   "cell_type": "code",
   "execution_count": 10,
   "metadata": {},
   "outputs": [
    {
     "data": {
      "text/plain": [
       "False"
      ]
     },
     "execution_count": 10,
     "metadata": {},
     "output_type": "execute_result"
    }
   ],
   "source": [
    "# same list elements but not same object\n",
    "a = [1, 2, 3]\n",
    "b = [1, 2, 3]\n",
    "a is b"
   ]
  },
  {
   "cell_type": "markdown",
   "metadata": {},
   "source": [
    "### The `is` operator and the `id` function\n",
    "If the result of the **`is`** operator is **`True`** then we know that the two variables are referring to the exact same object. Another way of checking this is to see if each object has the same identity returned from the **`id`** function."
   ]
  },
  {
   "cell_type": "code",
   "execution_count": 11,
   "metadata": {},
   "outputs": [
    {
     "data": {
      "text/plain": [
       "(139891580430472, 139891580430472)"
      ]
     },
     "execution_count": 11,
     "metadata": {},
     "output_type": "execute_result"
    }
   ],
   "source": [
    "# same id\n",
    "a = [1, 2, 3]\n",
    "b = a\n",
    "id(a), id(b)"
   ]
  },
  {
   "cell_type": "code",
   "execution_count": 12,
   "metadata": {},
   "outputs": [
    {
     "data": {
      "text/plain": [
       "(139891580430216, 139891580124168)"
      ]
     },
     "execution_count": 12,
     "metadata": {},
     "output_type": "execute_result"
    }
   ],
   "source": [
    "# same list elements but not same id\n",
    "a = [1, 2, 3]\n",
    "b = [1, 2, 3]\n",
    "id(a), id(b)"
   ]
  },
  {
   "cell_type": "markdown",
   "metadata": {},
   "source": [
    "# `if` statements\n",
    "**`if`** statements determine whether the subsequent block of indented code will be executed or not. A boolean expression always follows the **`if`** keyword. These boolean statements are also called **conditions**.\n",
    "\n",
    "**`if`** statements use simple syntax with no parentheses or curly braces. A colon is placed at the end of the statement. Below it, are indented lines that get executed if the condition is true. The general format for **`if`** statements is as follows:\n",
    "\n",
    "```\n",
    "if condition:\n",
    "    indented code block\n",
    "    with one or\n",
    "    more lines\n",
    "```\n",
    "\n",
    "The condition must evaluate to a boolean. Below is a simple condition testing whether a number is positive. If the condition evaluates to **`True`** then the number is halved and printed out. If not, no further code is run."
   ]
  },
  {
   "cell_type": "markdown",
   "metadata": {},
   "source": [
    "x = 90\n",
    "if x >= 0:\n",
    "    half = x / 2\n",
    "    print(f'Half of {x} is {half}')"
   ]
  },
  {
   "cell_type": "markdown",
   "metadata": {},
   "source": [
    "# `else` statements\n",
    "If the condition in the **`if`** statement evaluates to **`False`**, an alternative set of commands may be executed with the **`else`** statement. Notice that **`else`** is at the same indentation level as **`if`** and another colon and code block follow underneath. Statements resume their linear order of execution after the else block ends."
   ]
  },
  {
   "cell_type": "code",
   "execution_count": 13,
   "metadata": {},
   "outputs": [
    {
     "name": "stdout",
     "output_type": "stream",
     "text": [
      "Cannot take the square root of a negative number\n",
      "The code block ends after indentation returns to previous spot. This print statement gets executed no matter what\n"
     ]
    }
   ],
   "source": [
    "x = -90\n",
    "if x >= 0:\n",
    "    half = x / 2\n",
    "    print(f'Half of {x} is {half}')\n",
    "else:\n",
    "    print('Cannot take the square root of a negative number')\n",
    "    \n",
    "print('The code block ends after indentation returns to previous spot. This print statement gets executed no matter what')"
   ]
  },
  {
   "cell_type": "markdown",
   "metadata": {},
   "source": [
    "# `elif` statements\n",
    "Instead of automatically executing the **`else`** block after a false if condition, an additional condition can be tested with an **`elif`** statement. It is possible to have any number of **`elif`** statements to check any number of specific conditions. The below code checks whether an integer is divisible by several other integers using the modulus (%) operator which returns the remainder from integer division."
   ]
  },
  {
   "cell_type": "code",
   "execution_count": 14,
   "metadata": {},
   "outputs": [
    {
     "name": "stdout",
     "output_type": "stream",
     "text": [
      "47 is not divisible by 2,3,5,7,11. It might be prime!\n"
     ]
    }
   ],
   "source": [
    "x = 47\n",
    "\n",
    "if x % 2 == 0:\n",
    "    print(f'{x} is divisible by 2 and not a prime')\n",
    "elif x % 3 == 0:\n",
    "    print(f'{x} is divisible by 3 and not a prime')\n",
    "elif x % 5 == 0:\n",
    "    print(f'{x} is divisible by 5 and not a prime')\n",
    "elif x % 7 == 0:\n",
    "    print(f'{x} is divisible by 7 and not a prime')\n",
    "elif x % 11 == 0:\n",
    "    print(f'{x} is divisible by 11 and not a prime')\n",
    "else:\n",
    "    print(f'{x} is not divisible by 2,3,5,7,11. It might be prime!')"
   ]
  },
  {
   "cell_type": "markdown",
   "metadata": {},
   "source": [
    "### Multiple boolean conditions\n",
    "It is possible to have any number of boolean conditions evaluated in the same expression by combining them together with **`and`** and **`or`**. For instance, all the **`if`** and **`elif`** statements in the above code can be merged into one statement. It's good practice to wrap each condition in parentheses for readability and accuracy."
   ]
  },
  {
   "cell_type": "code",
   "execution_count": 15,
   "metadata": {},
   "outputs": [
    {
     "data": {
      "text/plain": [
       "False"
      ]
     },
     "execution_count": 15,
     "metadata": {},
     "output_type": "execute_result"
    }
   ],
   "source": [
    "# multiple conditions\n",
    "x = 47\n",
    "(x % 2 == 0) or (x % 3 == 0) or (x % 5 == 0) or (x % 7 == 0) or (x % 11 == 0)"
   ]
  },
  {
   "cell_type": "code",
   "execution_count": 16,
   "metadata": {},
   "outputs": [
    {
     "data": {
      "text/plain": [
       "True"
      ]
     },
     "execution_count": 16,
     "metadata": {},
     "output_type": "execute_result"
    }
   ],
   "source": [
    "# multiple conditions\n",
    "x = 48\n",
    "(x % 2 == 0) or (x % 3 == 0) or (x % 5 == 0) or (x % 7 == 0) or (x % 11 == 0)"
   ]
  },
  {
   "cell_type": "markdown",
   "metadata": {},
   "source": [
    "### `not`  keyword\n",
    "The `not` keyword reverses any boolean expression"
   ]
  },
  {
   "cell_type": "code",
   "execution_count": 17,
   "metadata": {},
   "outputs": [
    {
     "data": {
      "text/plain": [
       "False"
      ]
     },
     "execution_count": 17,
     "metadata": {},
     "output_type": "execute_result"
    }
   ],
   "source": [
    "not True"
   ]
  },
  {
   "cell_type": "code",
   "execution_count": 18,
   "metadata": {},
   "outputs": [
    {
     "data": {
      "text/plain": [
       "False"
      ]
     },
     "execution_count": 18,
     "metadata": {},
     "output_type": "execute_result"
    }
   ],
   "source": [
    "not 5 > 4"
   ]
  },
  {
   "cell_type": "markdown",
   "metadata": {},
   "source": [
    "### Care with Order of operations\n",
    "Expressions in parentheses happen first, followed by `not`, `and`, then `or`. The following examples show how a possible bug can arise in your code. Let's write a condition that tests whether 24 is divisible by 5 or 3."
   ]
  },
  {
   "cell_type": "code",
   "execution_count": 19,
   "metadata": {},
   "outputs": [
    {
     "data": {
      "text/plain": [
       "True"
      ]
     },
     "execution_count": 19,
     "metadata": {},
     "output_type": "execute_result"
    }
   ],
   "source": [
    "# is 24 divisible by 5 or 3?\n",
    "x = 24\n",
    "(x % 5 == 0) or (x % 3 == 0)"
   ]
  },
  {
   "cell_type": "markdown",
   "metadata": {},
   "source": [
    "### Correctly reversing the condition\n",
    "To reverse the condition above, we need to wrap the entire expression in parentheses first."
   ]
  },
  {
   "cell_type": "code",
   "execution_count": 20,
   "metadata": {},
   "outputs": [
    {
     "data": {
      "text/plain": [
       "False"
      ]
     },
     "execution_count": 20,
     "metadata": {},
     "output_type": "execute_result"
    }
   ],
   "source": [
    "# reverse the above with not. Wrap entire expression in parentheses first\n",
    "x = 24\n",
    "not ((x % 5 == 0) or (x % 3 == 0))"
   ]
  },
  {
   "cell_type": "markdown",
   "metadata": {},
   "source": [
    "### Incorrectly reversing the condition\n",
    "If you are unfamiliar with the order of operations you might have neglected to use the parentheses to wrap the entire expression."
   ]
  },
  {
   "cell_type": "code",
   "execution_count": 21,
   "metadata": {},
   "outputs": [
    {
     "data": {
      "text/plain": [
       "True"
      ]
     },
     "execution_count": 21,
     "metadata": {},
     "output_type": "execute_result"
    }
   ],
   "source": [
    "# same as above except without outer parentheses\n",
    "x = 24\n",
    "not (x % 5 == 0) or (x % 3 == 0) # parentheses make a big difference!"
   ]
  },
  {
   "cell_type": "markdown",
   "metadata": {},
   "source": [
    "### Evaluation order\n",
    "The first (correct) reversal was evaluated like this:\n",
    "1. `not ((x % 5 == 0) or (x % 3 == 0))`\n",
    "1. `not (False or (x % 3 == 0))`\n",
    "1. `not (False or True)`\n",
    "1. `not True`\n",
    "1. `False`\n",
    "\n",
    "The second (incorrect) reversal was evaluated like this:\n",
    "\n",
    "1. `not (x % 5 == 0) or (x % 3 == 0)`\n",
    "1. `not False or (x % 3 == 0)`\n",
    "1. `not False or True`\n",
    "1. `True or False`\n",
    "1. `True`"
   ]
  },
  {
   "cell_type": "markdown",
   "metadata": {},
   "source": [
    "### Problem 1\n",
    "<span style=\"color:green\">Create a string that will execute the second print statement.</span> "
   ]
  },
  {
   "cell_type": "code",
   "execution_count": 23,
   "metadata": {},
   "outputs": [],
   "source": [
    "# your code here\n",
    "test_string = 'hello world kukamanga' # change this string so the second print statement below is triggered"
   ]
  },
  {
   "cell_type": "code",
   "execution_count": 24,
   "metadata": {},
   "outputs": [
    {
     "name": "stdout",
     "output_type": "stream",
     "text": [
      "The first k occurs after the 11th element\n"
     ]
    }
   ],
   "source": [
    "# trigger the second print statement\n",
    "if test_string.count('a') > 4:\n",
    "    print(\"There are more than 4 a's in your string\")\n",
    "elif test_string.find('k') > 10:\n",
    "    print(\"The first k occurs after the 11th element\")\n",
    "else:\n",
    "    print(\"My super intelligent responses did not find any info on your string. Please change it\")"
   ]
  },
  {
   "cell_type": "markdown",
   "metadata": {},
   "source": [
    "### Problem 2\n",
    "<span style=\"color:green\">Create a different string that will execute the third print statement from above. </span> "
   ]
  },
  {
   "cell_type": "code",
   "execution_count": 25,
   "metadata": {},
   "outputs": [],
   "source": [
    "# your code here\n",
    "test_string = 'hello world' # change this string so the third print statement below is triggered"
   ]
  },
  {
   "cell_type": "code",
   "execution_count": 26,
   "metadata": {},
   "outputs": [
    {
     "name": "stdout",
     "output_type": "stream",
     "text": [
      "My super intelligent responses did not find any info on your string. Please change it\n"
     ]
    }
   ],
   "source": [
    "# trigger the third print statement\n",
    "if test_string.count('a') > 4:\n",
    "    print(\"There are more than 4 a's in your string\")\n",
    "elif test_string.find('k') > 10:\n",
    "    print(\"The first k occurs after the 11th element\")\n",
    "else:\n",
    "    print(\"My super intelligent responses did not find any info on your string. Please change it\")"
   ]
  },
  {
   "cell_type": "markdown",
   "metadata": {},
   "source": [
    "### Problem 3\n",
    "<span style=\"color:green\">Write an expression that returns true if an integer is either greater than 10 or divisible by 7.</span> "
   ]
  },
  {
   "cell_type": "code",
   "execution_count": 29,
   "metadata": {},
   "outputs": [
    {
     "data": {
      "text/plain": [
       "True"
      ]
     },
     "execution_count": 29,
     "metadata": {},
     "output_type": "execute_result"
    }
   ],
   "source": [
    "# your code here\n",
    "var_int = 70\n",
    "((var_int > 10) or (var_int % 7 == 0))"
   ]
  },
  {
   "cell_type": "markdown",
   "metadata": {},
   "source": [
    "### Problem 4\n",
    "<span style=\"color:green\">Write an expression that returns true if the last character of a string is not 's'</span> "
   ]
  },
  {
   "cell_type": "code",
   "execution_count": 32,
   "metadata": {},
   "outputs": [
    {
     "data": {
      "text/plain": [
       "True"
      ]
     },
     "execution_count": 32,
     "metadata": {},
     "output_type": "execute_result"
    }
   ],
   "source": [
    "test_string = 'asfdaskfjsafl'\n",
    "# your code here\n",
    "test_string[-1] != 's'"
   ]
  },
  {
   "cell_type": "markdown",
   "metadata": {},
   "source": [
    "# Looping\n",
    "There are two types of loops, **`for`** and **`while`**. Just as with `if` statements, `for` and `while` statements end in a colon and are followed by indented code blocks. The code block gets continually executed until all elements in the sequence have been iterated through (`for` loop) or until a condition is no longer true (`while` loop).\n",
    "\n",
    "# `for` Loops\n",
    "Python has a simple looping syntax that is a bit different than other programming languages and potentially confusing at first. You first must have an **iterable** object. [Iterable objects][1] are those that are capable of returning its members one at a time. Strings, lists, tuples, ranges, sets, and dictionaries are common iterable objects.\n",
    "\n",
    "All **`for`** loops have the following general structure:\n",
    "```\n",
    ">>> for item in object:\n",
    "        do something\n",
    "        in this\n",
    "        code block\n",
    "```\n",
    "\n",
    "The code block gets executed for every item in the iterable object. Let's see a basic example of looping through each character in a string with a **`for`** loop.\n",
    "\n",
    "[1]: https://docs.python.org/3/glossary.html#term-iterable"
   ]
  },
  {
   "cell_type": "code",
   "execution_count": 33,
   "metadata": {},
   "outputs": [
    {
     "name": "stdout",
     "output_type": "stream",
     "text": [
      "d\n",
      "a\n",
      "t\n",
      "a\n"
     ]
    }
   ],
   "source": [
    "# loop through a string\n",
    "my_string = 'data'\n",
    "\n",
    "for char in my_string:\n",
    "    print(char)"
   ]
  },
  {
   "cell_type": "markdown",
   "metadata": {},
   "source": [
    "### Where is `char` defined?\n",
    "This simple loop above iterates over each of the 4 characters and prints out each one in its only line in its code block. The variable **`my_string`** is defined explicitly. But, the variable **`char`** doesn't appear to be defined. \n",
    "\n",
    "**`char`** implicitly takes on the current value of the sequence during each iteration without explicitly being assigned with the equal sign.\n",
    "\n",
    "### The loop variable\n",
    "**`char`** is also known as the **loop variable** and implicitly refers to the next character in the string.\n",
    "\n",
    "### Name of loop variable\n",
    "The name of the loop variable is entirely up to you. See the following two examples where different loop variable names are used."
   ]
  },
  {
   "cell_type": "code",
   "execution_count": 34,
   "metadata": {},
   "outputs": [
    {
     "name": "stdout",
     "output_type": "stream",
     "text": [
      "d\n",
      "a\n",
      "t\n",
      "a\n"
     ]
    }
   ],
   "source": [
    "# you can choose any variable name for the looping variable of your sequence\n",
    "for character in my_string:\n",
    "    print(character)\n",
    "    "
   ]
  },
  {
   "cell_type": "code",
   "execution_count": 35,
   "metadata": {},
   "outputs": [
    {
     "name": "stdout",
     "output_type": "stream",
     "text": [
      "d\n",
      "a\n",
      "t\n",
      "a\n"
     ]
    }
   ],
   "source": [
    "for c in my_string:\n",
    "    print(c)"
   ]
  },
  {
   "cell_type": "markdown",
   "metadata": {},
   "source": [
    "### Looping through a list\n",
    "Loop iteration with a list happens in the exact same manner as it does with strings. The loop variable can be any name you choose and references each consecutive member of the list inside the code block."
   ]
  },
  {
   "cell_type": "code",
   "execution_count": 36,
   "metadata": {},
   "outputs": [
    {
     "name": "stdout",
     "output_type": "stream",
     "text": [
      "1\n",
      "10\n",
      "asf\n",
      "True\n"
     ]
    }
   ],
   "source": [
    "# looping through a list\n",
    "my_list = [1, 10, 'asf', True]\n",
    "\n",
    "for element in my_list:\n",
    "    print(element)"
   ]
  },
  {
   "cell_type": "markdown",
   "metadata": {},
   "source": [
    "### Looping through `range` objects\n",
    "**`range`** objects are commonly found in **`for`** loops. A range object represents a sequence of integers that has yet to be created in the computer's memory. It differs from a list by generating the next element only when it is needed. A list generates every element and stores the entire object in memory. **`range`** objects are much more memory efficient."
   ]
  },
  {
   "cell_type": "code",
   "execution_count": 37,
   "metadata": {},
   "outputs": [
    {
     "name": "stdout",
     "output_type": "stream",
     "text": [
      "0\n",
      "1\n",
      "2\n",
      "3\n",
      "4\n"
     ]
    }
   ],
   "source": [
    "for element in range(5):\n",
    "    print(element)"
   ]
  },
  {
   "cell_type": "code",
   "execution_count": 38,
   "metadata": {},
   "outputs": [
    {
     "name": "stdout",
     "output_type": "stream",
     "text": [
      "10\n",
      "11\n",
      "12\n"
     ]
    }
   ],
   "source": [
    "for i in range(10, 13):\n",
    "    print(i)"
   ]
  },
  {
   "cell_type": "code",
   "execution_count": 39,
   "metadata": {},
   "outputs": [
    {
     "name": "stdout",
     "output_type": "stream",
     "text": [
      "15\n",
      "12\n",
      "9\n",
      "6\n"
     ]
    }
   ],
   "source": [
    "for a in range(15, 4, -3):\n",
    "    print(a)"
   ]
  },
  {
   "cell_type": "markdown",
   "metadata": {},
   "source": [
    "## More interesting loops\n",
    "Suppose there is a list of numbers that we would like to square. One way to do this would be to create a new list, iterate through each element of the old list using a **`for`** loop, square it, and append that value to the new list."
   ]
  },
  {
   "cell_type": "code",
   "execution_count": 40,
   "metadata": {},
   "outputs": [
    {
     "name": "stdout",
     "output_type": "stream",
     "text": [
      "[9, 4, 64, 28.09, 49]\n"
     ]
    }
   ],
   "source": [
    "a_list = [3, -2, 8, 5.3, 7]\n",
    "squares = []  # initialize an empty list\n",
    "for x in a_list:\n",
    "    squares.append(x * x)\n",
    "print(squares)"
   ]
  },
  {
   "cell_type": "markdown",
   "metadata": {},
   "source": [
    "# Case Study: Calculating $\\pi$\n",
    "An interesting way to calculate the value of $\\pi$ uses random numbers and the unit circle. This next section will introduce plotting code that will not be explained in detail. The point of this case study is to highlight the usefulness of looping in Python.\n",
    "\n",
    "### Using Matplotlib to draw the unit circle\n",
    "Matplotlib is the predominant plotting library in Python and what we will use during the bootcamp. We will import the library and use it to display plots for us inside the notebook. \n",
    "\n",
    "Let us begin by drawing the unit circle, radius of 1 centered at (0,0), inside of a square with side length of 2 also centered at (0,0)."
   ]
  },
  {
   "cell_type": "code",
   "execution_count": 41,
   "metadata": {},
   "outputs": [],
   "source": [
    "# setup plotting\n",
    "import matplotlib.pyplot as plt\n",
    "%matplotlib inline"
   ]
  },
  {
   "cell_type": "code",
   "execution_count": 56,
   "metadata": {},
   "outputs": [
    {
     "data": {
      "text/plain": [
       "(-1, 1)"
      ]
     },
     "execution_count": 56,
     "metadata": {},
     "output_type": "execute_result"
    },
    {
     "data": {
      "image/png": "[encoded data removed]",
      "text/plain": [
       "<Figure size 288x288 with 1 Axes>"
      ]
     },
     "metadata": {
      "needs_background": "light"
     },
     "output_type": "display_data"
    }
   ],
   "source": [
    "circle1 = plt.Circle((0, 0), 1, color='r', alpha=.2)\n",
    "fig, ax = plt.subplots(figsize=(4,4))\n",
    "\n",
    "ax.add_artist(circle1)\n",
    "\n",
    "ax.set_xlim((-1, 1))\n",
    "ax.set_ylim((-1, 1))"
   ]
  },
  {
   "cell_type": "markdown",
   "metadata": {},
   "source": [
    "### Random Point In Circle\n",
    "Before calculating $\\pi$, let's ask a different question. What is the probability that a point (x,y) with each coordinate randomly in the range of [-1, 1] falls inside the circle.\n",
    "\n",
    "We will estimate this probability by creating and plotting 100 points in that 2x2 square region from above. To make the analysis easier and due to symmetry, we will only use the top right quadrant of the square. We will use the random module to generate a random number from [0, 1] for each the x and y coordinates. \n",
    "\n",
    "To determine whether a point is inside the circle we can use the equation for the unit circle, $x^2 + y^2 <= 1$ and keep track of the number of points that meet this criteria."
   ]
  },
  {
   "cell_type": "code",
   "execution_count": 61,
   "metadata": {},
   "outputs": [
    {
     "data": {
      "text/plain": [
       "16"
      ]
     },
     "execution_count": 61,
     "metadata": {},
     "output_type": "execute_result"
    }
   ],
   "source": [
    "x = 4\n",
    "x ** 2"
   ]
  },
  {
   "cell_type": "code",
   "execution_count": 62,
   "metadata": {},
   "outputs": [
    {
     "name": "stdout",
     "output_type": "stream",
     "text": [
      "80 out of 100 points land in the circle\n"
     ]
    },
    {
     "data": {
      "image/png": "[encoded data removed]",
      "text/plain": [
       "<Figure size 288x288 with 1 Axes>"
      ]
     },
     "metadata": {
      "needs_background": "light"
     },
     "output_type": "display_data"
    }
   ],
   "source": [
    "'''\n",
    "A circle will be drawn first but only the upper right quadrant will be shown.\n",
    "100 random points will be generated using a for loop.\n",
    "Both x and y coordinates will be between 0 and 1.\n",
    "An if statement will determine whether the point is within the circle or not\n",
    "and increase a count variable.\n",
    "'''\n",
    "import random # this module provides functionality to generate random numbers\n",
    "\n",
    "circle1 = plt.Circle((0, 0), 1, color='r', alpha=.2)\n",
    "fig, ax = plt.subplots(figsize=(4,4)) \n",
    "\n",
    "ax.add_artist(circle1)\n",
    "ax.set_xlim((0, 1))\n",
    "ax.set_ylim((0, 1))\n",
    "\n",
    "count = 0 # \n",
    "n = 100 # number of points\n",
    "\n",
    "for i in range(n):\n",
    "    x = random.random() # generates a random number between 0 and 1\n",
    "    y = random.random()\n",
    "    \n",
    "    # draw the points in the circle yellow and increase the count, otherwise just draw the point\n",
    "    if x ** 2 + y ** 2 <= 1:\n",
    "        ax.scatter(x, y, color='blue')\n",
    "        count += 1\n",
    "    else:\n",
    "        ax.scatter(x, y, color='black') \n",
    "print(f'{count} out of {n} points land in the circle')"
   ]
  },
  {
   "cell_type": "markdown",
   "metadata": {},
   "source": [
    "### Theoretical probability of being in the circle\n",
    "Instead of simulating the probability of being in the circle we can compute the exact probability since the formula for the area of a circle and square are known. \n",
    "\n",
    "Area of circle (in the quadrant): $\\pi r^2/4$  \n",
    "Area of square: 1\n",
    "\n",
    "We calculate the probability by dividing the area of the circle by the area of the square. Since the radius is 1, the probability reduces to $\\pi / 4$.\n",
    "\n",
    "We will use the **math** module which has the exact value of $\\pi$."
   ]
  },
  {
   "cell_type": "code",
   "execution_count": 63,
   "metadata": {},
   "outputs": [
    {
     "data": {
      "text/plain": [
       "0.7853981633974483"
      ]
     },
     "execution_count": 63,
     "metadata": {},
     "output_type": "execute_result"
    }
   ],
   "source": [
    "import math\n",
    "\n",
    "math.pi / 4"
   ]
  },
  {
   "cell_type": "markdown",
   "metadata": {},
   "source": [
    "### Now to estimate $\\pi$\n",
    "\n",
    "Approximately 78.5% of randomly generated points will be inside the circle. This theoretical probability closely matches what the simulation produced.\n",
    "\n",
    "If the value of $\\pi$ were not known ahead of time we can use results of the simulation with basic algebra to calculate it. Let $p$ be the probability of a point landing in the circle based on the simulation. We simply need to multiply the proportion of points inside the cirle by 4 to get our estimate of $\\pi$"
   ]
  },
  {
   "cell_type": "code",
   "execution_count": 64,
   "metadata": {},
   "outputs": [
    {
     "data": {
      "text/plain": [
       "3.2"
      ]
     },
     "execution_count": 64,
     "metadata": {},
     "output_type": "execute_result"
    }
   ],
   "source": [
    "# estimate pi from first simulation\n",
    "4 * count / n"
   ]
  },
  {
   "cell_type": "markdown",
   "metadata": {},
   "source": [
    "### Problem 5\n",
    "<span style=\"color:green\">To get higher decimal precision you will need to use more points. Write a loop (without drawing any figures) that calculates the value of $\\pi$ to 2 decimal places using the same simulation technique as above.</span> "
   ]
  },
  {
   "cell_type": "code",
   "execution_count": 72,
   "metadata": {},
   "outputs": [
    {
     "name": "stdout",
     "output_type": "stream",
     "text": [
      "3.13956\n"
     ]
    }
   ],
   "source": [
    "# your code here\n",
    "import random\n",
    "\n",
    "count = 0\n",
    "n = 100000\n",
    "\n",
    "for i in range(n):\n",
    "    x = random.random()\n",
    "    y = random.random()\n",
    "\n",
    "    if x**2 + y**2 <= 1:\n",
    "        count+=1\n",
    "pi = 4*count/n\n",
    "print(pi)"
   ]
  },
  {
   "cell_type": "markdown",
   "metadata": {},
   "source": [
    "### Problem 6\n",
    "<span style=\"color:green\">Calculate the total of the squared value of each of the first 100 positive integers.</span>"
   ]
  },
  {
   "cell_type": "code",
   "execution_count": 76,
   "metadata": {},
   "outputs": [
    {
     "data": {
      "text/plain": [
       "338350"
      ]
     },
     "execution_count": 76,
     "metadata": {},
     "output_type": "execute_result"
    }
   ],
   "source": [
    "#your code here\n",
    "square_total = 0\n",
    "for i in range(101):\n",
    "    square_total = square_total + i**2 \n",
    "square_total"
   ]
  },
  {
   "cell_type": "markdown",
   "metadata": {},
   "source": [
    "### Problem 7\n",
    "<span style=\"color:green\">Use a for loop to iterate over the first 10 positive integers, printing out their squared value only if the value is greater than 50</span>"
   ]
  },
  {
   "cell_type": "code",
   "execution_count": 80,
   "metadata": {},
   "outputs": [
    {
     "name": "stdout",
     "output_type": "stream",
     "text": [
      "8 64\n",
      "9 81\n",
      "10 100\n"
     ]
    }
   ],
   "source": [
    "#your code here\n",
    "for i in range(11):\n",
    "    square = i**2\n",
    "    if square > 50:\n",
    "        print(i, square)"
   ]
  },
  {
   "cell_type": "markdown",
   "metadata": {},
   "source": [
    "### Problem 8\n",
    "<span style=\"color:green\">Use a for loop to iterate over every eighth integer of the first 200, appending their squared value to a list.</span>"
   ]
  },
  {
   "cell_type": "code",
   "execution_count": 82,
   "metadata": {},
   "outputs": [
    {
     "data": {
      "text/plain": [
       "[0,\n",
       " 8,\n",
       " 16,\n",
       " 24,\n",
       " 32,\n",
       " 40,\n",
       " 48,\n",
       " 56,\n",
       " 64,\n",
       " 72,\n",
       " 80,\n",
       " 88,\n",
       " 96,\n",
       " 104,\n",
       " 112,\n",
       " 120,\n",
       " 128,\n",
       " 136,\n",
       " 144,\n",
       " 152,\n",
       " 160,\n",
       " 168,\n",
       " 176,\n",
       " 184,\n",
       " 192]"
      ]
     },
     "execution_count": 82,
     "metadata": {},
     "output_type": "execute_result"
    }
   ],
   "source": [
    "squared_list = []\n",
    "# your code here\n",
    "\n",
    "for i in range(0,200,8):\n",
    "    squared_list.append(i)\n",
    "    \n",
    "squared_list"
   ]
  },
  {
   "cell_type": "markdown",
   "metadata": {},
   "source": [
    "# `while` Loops\n",
    "\n",
    "**`while`** loops are the other looping construct that Python provides and work with the following syntax. A code block continually executes until a boolean condition evaluates to **`False`**. The condition is re-checked at the beginning of each iteration.  A while statement ends in a colon and the code block is indented.\n",
    "\n",
    "```\n",
    ">>> while condition:\n",
    "        do something in this\n",
    "        code block as long as condition\n",
    "        evaluates as True\n",
    "```\n",
    "\n",
    "Let's see a trivial example below:"
   ]
  },
  {
   "cell_type": "code",
   "execution_count": 83,
   "metadata": {},
   "outputs": [
    {
     "name": "stdout",
     "output_type": "stream",
     "text": [
      "5 seconds to launch\n",
      "4 seconds to launch\n",
      "3 seconds to launch\n",
      "2 seconds to launch\n",
      "1 seconds to launch\n",
      "Launch!\n"
     ]
    }
   ],
   "source": [
    "# Countdown from a given x\n",
    "x = 5\n",
    "while x >= 0:\n",
    "    if x == 0:\n",
    "        print(\"Launch!\")\n",
    "    else:\n",
    "        print(f'{x} seconds to launch')\n",
    "    x -= 1"
   ]
  },
  {
   "cell_type": "markdown",
   "metadata": {},
   "source": [
    "## Augmented assignment statements\n",
    "\n",
    "If you never encountered **`x -= 1`** in the above code block, you would likely be confused. This statement is a shortcut for **`x = x - 1`**. The value of **`x`** gets reduced by one and then stored back to the original variable **`x`**.  **Augmented assignment statements** such as **`-=`** reassign the variable on the left-hand side of the equation with the expanded operation on the right. \n",
    "\n",
    "The primary other augmented assignment statements are **`+=`**, **`*=`**, and **`/=`**. I recommend using them for only operations involving one other number, otherwise the syntax might be confusing."
   ]
  },
  {
   "cell_type": "markdown",
   "metadata": {},
   "source": [
    "### Problem 9\n",
    "<span style=\"color:green\">Multiply the variable `x` by `y` and store the result in `x` with an augmented assignment statement</span>"
   ]
  },
  {
   "cell_type": "code",
   "execution_count": 86,
   "metadata": {},
   "outputs": [
    {
     "name": "stdout",
     "output_type": "stream",
     "text": [
      "35\n"
     ]
    }
   ],
   "source": [
    "x = 5\n",
    "y = 7\n",
    "# your code here\n",
    "x *= y\n",
    "print(x)"
   ]
  },
  {
   "cell_type": "markdown",
   "metadata": {},
   "source": [
    "# Pausing execution with the `time` module's `sleep` function\n",
    "\n",
    "We can make the code more realistic by pausing for 1 second between iterations. Python comes included with the **`time`** module, with functionality to pause program execution. The **`sleep`** function within the time module pauses execution for a given number of seconds.\n",
    "\n",
    "Modules and the import statement will be the subject of another notebook."
   ]
  },
  {
   "cell_type": "code",
   "execution_count": 89,
   "metadata": {},
   "outputs": [
    {
     "name": "stdout",
     "output_type": "stream",
     "text": [
      "5 seconds to launch\n",
      "4 seconds to launch\n",
      "3 seconds to launch\n",
      "2 seconds to launch\n",
      "1 seconds to launch\n",
      "Launch!\n"
     ]
    }
   ],
   "source": [
    "# Re-run this code.\n",
    "import time\n",
    "\n",
    "x = 5\n",
    "while x >= 0:\n",
    "    if x == 0:\n",
    "        print(\"Launch!\")\n",
    "    else:\n",
    "        print(f'{x} seconds to launch')\n",
    "    x -= 1\n",
    "    time.sleep(1)"
   ]
  },
  {
   "cell_type": "markdown",
   "metadata": {},
   "source": [
    "# Python: Batteries Included!\n",
    "\n",
    "A common phrase within the Python world is that Python comes with ['Batteries Included'][1]  - a phrase stolen from children's toy advertisements. There are many [standard libraries](https://docs.python.org/3/library/) that are available to Python programmers. There are also many thousands of third-party libraries available as well but the standard libraries are the core libraries that are immediately available to any developer upon installation.\n",
    "\n",
    "[1]: https://docs.python.org/3.6/tutorial/stdlib.html#batteries-included"
   ]
  },
  {
   "cell_type": "markdown",
   "metadata": {},
   "source": [
    "### Problem 10\n",
    "<span style=\"color:green\">Use a while loop to find the sum of all integers between a given postive integer and 0.</span>"
   ]
  },
  {
   "cell_type": "code",
   "execution_count": 93,
   "metadata": {},
   "outputs": [
    {
     "name": "stdout",
     "output_type": "stream",
     "text": [
      "210\n"
     ]
    }
   ],
   "source": [
    "x = 20\n",
    "total = 0\n",
    "# your code here\n",
    "i = 1\n",
    "while i <= x:\n",
    "    total += i\n",
    "    i += 1\n",
    "print(total)"
   ]
  },
  {
   "cell_type": "markdown",
   "metadata": {},
   "source": [
    "### Problem 11\n",
    "<span style=\"color:green\">Use a while loop to find the sum of all integers between a given integer and its square root. Use math.sqrt to find the square root. </span>"
   ]
  },
  {
   "cell_type": "code",
   "execution_count": 94,
   "metadata": {},
   "outputs": [
    {
     "name": "stdout",
     "output_type": "stream",
     "text": [
      "Total is 200\n"
     ]
    }
   ],
   "source": [
    "import math\n",
    "x = 20\n",
    "total = 0\n",
    "# your code here\n",
    "sqrt = math.sqrt(x)\n",
    "while x >= sqrt:\n",
    "    total += x\n",
    "    x-=1\n",
    "print(f'Total is {total}')"
   ]
  },
  {
   "cell_type": "markdown",
   "metadata": {},
   "source": [
    "### Problem 12: Advanced\n",
    "<span style=\"color:green\">In this problem you will use a while loop to try and guess a randomly generated integer between 1 and 1000. The only information you will be given is whether your guess is higher or lower than the unknown integer. Your new guess will be updated in an optimal way. The optimal way to update your guess is to choose the next integer exactly half way between your current guess and the lower/upper boundary.\n",
    "\n",
    "Steps:\n",
    "1. Generate random integer\n",
    "2. Generate first guess\n",
    "3. Begin while loop\n",
    "4. Check if guess is correct\n",
    "5. Change lower and upper boundaries of guessing region based on if guess if higher/lower than unknown number\n",
    "6. Keep track of number of guesses\n",
    "7. Print out upper and lower boundary, the current guess and the unknown number at each iteration to track progress\n",
    "8. Print out one last statement outside of the while loop that shows the guess is actually correct and the number of guesses that it took to get there.\n",
    "\n",
    "Tips:\n",
    "1. Make sure to guess an integer. Use `int` function.\n",
    "</span>"
   ]
  },
  {
   "cell_type": "code",
   "execution_count": 101,
   "metadata": {},
   "outputs": [
    {
     "name": "stdout",
     "output_type": "stream",
     "text": [
      "Guess: 500, lower: 1, upper: 1000, unknown: 902\n",
      "501 and 1000\n",
      "Guess: 750, lower: 501, upper: 1000, unknown: 902\n",
      "751 and 1000\n",
      "Guess: 875, lower: 751, upper: 1000, unknown: 902\n",
      "876 and 1000\n",
      "Guess: 938, lower: 876, upper: 1000, unknown: 902\n",
      "876 and 937\n",
      "Guess: 906, lower: 876, upper: 937, unknown: 902\n",
      "876 and 905\n",
      "Guess: 890, lower: 876, upper: 905, unknown: 902\n",
      "891 and 905\n",
      "Guess: 898, lower: 891, upper: 905, unknown: 902\n",
      "899 and 905\n",
      "the guessed number was found in 8 iterations, Guess was 902, Unknown was 902, final lower was 899, final upper was 905\n"
     ]
    }
   ],
   "source": [
    "import random\n",
    "\n",
    "upper = 1000\n",
    "lower = 1\n",
    "unknown = random.randint(1, 1000) # generate unknown random integer\n",
    "guess = int((upper + lower) / 2)\n",
    "num_guesses = 1\n",
    "#  your code here\n",
    "while guess != unknown:\n",
    "    print(f'Guess: {guess}, lower: {lower}, upper: {upper}, unknown: {unknown}')\n",
    "    if guess > unknown:\n",
    "        upper = guess - 1\n",
    "    else:\n",
    "        lower = guess + 1\n",
    "    guess = int((lower+upper) /2)\n",
    "    print(f'{lower} and {upper}')\n",
    "    num_guesses += 1\n",
    "print(f'the guessed number was found in {num_guesses} iterations, Guess was {guess}, Unknown was {unknown}, final lower was {lower}, final upper was {upper}')\n",
    "    \n",
    "    \n"
   ]
  },
  {
   "cell_type": "markdown",
   "metadata": {},
   "source": [
    "## Infinite Loops\n",
    "**`while`** loops have the potential to run indefinitely if their condition always evaluates as true. For instance in the countdown example from above, if **`x`** is never decremented then the while loop will never stop. If this happens to you while running code in this notebook, you can try and stop execution by pressing the **`stop`** button in the menu bar above. If that doesn't work you can go to the terminal where you launched the notebook and press **`ctrl + c`** which should always work.\n",
    "\n",
    "## More looping control with `continue` and `break`\n",
    "**`continue`** and **`break`** are keywords that can only be used inside the body of a loop. **`continue`** forces execution to return immediately to the top of the loop for the next iteration. **`break`** exits the loop immediately without any other execution.\n",
    "\n",
    "Let's see a simple example where we sum the numbers 0 through 99 if they are not divisible by 2 or 3."
   ]
  },
  {
   "cell_type": "code",
   "execution_count": 102,
   "metadata": {},
   "outputs": [
    {
     "name": "stdout",
     "output_type": "stream",
     "text": [
      "Total is 1633\n"
     ]
    }
   ],
   "source": [
    "# Add up only integers from 1 to 99 that are not divisible by 2 or 3\n",
    "total = 0\n",
    "for i in range(100):\n",
    "    if (i % 2 == 0) or (i % 3 == 0):\n",
    "        continue\n",
    "    total += i\n",
    "\n",
    "print(\"Total is {}\".format(total))"
   ]
  },
  {
   "cell_type": "markdown",
   "metadata": {},
   "source": [
    "## `while True` then `break`\n",
    "A somewhat common use of **`while`** loops is to permanently set the condition as True and make use of the **`break`** statement to stop loop iteration. This guarantees that at least one iteration will happen similar to do-while loops in other languages.\n",
    "\n",
    "The below code will continue to generate random numbers between 0 and 1 until it a number greater than .999 is reached using the the **`while True`** then **`break`** logic. "
   ]
  },
  {
   "cell_type": "code",
   "execution_count": 103,
   "metadata": {},
   "outputs": [],
   "source": [
    "import random"
   ]
  },
  {
   "cell_type": "code",
   "execution_count": 104,
   "metadata": {},
   "outputs": [
    {
     "name": "stdout",
     "output_type": "stream",
     "text": [
      "It took 987 iterations to produce number 0.9994466512366416\n"
     ]
    }
   ],
   "source": [
    "# generate random numbers until one is greater than .999\n",
    "n = 0\n",
    "while True:\n",
    "    n += 1\n",
    "    num = random.random()\n",
    "    if num > .999:\n",
    "        break\n",
    "\n",
    "# Remember, you can use the format string method to do string interpolation\n",
    "print('It took {} iterations to produce number {}'.format(n, num))"
   ]
  },
  {
   "cell_type": "markdown",
   "metadata": {},
   "source": [
    "### Problem 13\n",
    "<span style=\"color:green\">Use the `while true` logic to continually generate the roll of two 6-sided dice. Stop the loop with a break statement when the total of the current roll is 7 or 11. Use `random.randint(1, 6)` to roll a single die. Print out the number of rolls it took to get a 7 or 11. </span>"
   ]
  },
  {
   "cell_type": "code",
   "execution_count": 107,
   "metadata": {},
   "outputs": [
    {
     "name": "stdout",
     "output_type": "stream",
     "text": [
      "it took 3 rolls\n"
     ]
    }
   ],
   "source": [
    "# your code here\n",
    "count = 0\n",
    "while True:\n",
    "    count+=1\n",
    "    dice_1 = random.randint(1,6)\n",
    "    dice_2 = random.randint(1,6)\n",
    "    if ((dice_1 + dice_2) == 7) or ((dice_1 + dice_2) == 11):\n",
    "        print('it took {} rolls'.format(count))\n",
    "        break"
   ]
  },
  {
   "cell_type": "markdown",
   "metadata": {},
   "source": [
    "### Summing up all elements in a list\n",
    "There exists a **`sum`** builtin function that is most commonly used to sum up a sequence of numbers such as those in a list. Take a look at the example below and then use it in the following problem."
   ]
  },
  {
   "cell_type": "code",
   "execution_count": 120,
   "metadata": {},
   "outputs": [
    {
     "data": {
      "text/plain": [
       "12"
      ]
     },
     "execution_count": 120,
     "metadata": {},
     "output_type": "execute_result"
    }
   ],
   "source": [
    "a_list = [4, 5, 3]\n",
    "sum(a_list)"
   ]
  },
  {
   "cell_type": "code",
   "execution_count": 121,
   "metadata": {},
   "outputs": [
    {
     "data": {
      "text/plain": [
       "10"
      ]
     },
     "execution_count": 121,
     "metadata": {},
     "output_type": "execute_result"
    }
   ],
   "source": [
    "# also sums up ranges\n",
    "sum(range(5))"
   ]
  },
  {
   "cell_type": "markdown",
   "metadata": {},
   "source": [
    "### Problem 14\n",
    "<span style=\"color:green\">Run 100 trials, where each trial is the number of times it takes to roll two dice that sum to 7 or 11. Keep track of the result of each trial in a list. You will need nested loops for this. Then find the average number of rolls it takes using the `sum` and `len` functions on your list</span>"
   ]
  },
  {
   "cell_type": "code",
   "execution_count": 124,
   "metadata": {},
   "outputs": [
    {
     "name": "stdout",
     "output_type": "stream",
     "text": [
      "0\n",
      "The average number of rolls to get a 7 or a 11 is 4.85\n"
     ]
    }
   ],
   "source": [
    "# your code here\n",
    "trials = []\n",
    "count = 0\n",
    "run = 0\n",
    "print(count)\n",
    "while run < 100:\n",
    "    run+=1\n",
    "    while True:\n",
    "        count += 1\n",
    "        dice_1 = random.randint(1,6)\n",
    "        dice_2 = random.randint(1,6)\n",
    "        if ((dice_1 + dice_2) == 7) or ((dice_1 + dice_2) == 11):\n",
    "            trials.append(count)\n",
    "            count = 0\n",
    "            break\n",
    "\n",
    "average = sum(trials)/len(trials)\n",
    "print('The average number of rolls to get a 7 or a 11 is {}'.format(average))"
   ]
  },
  {
   "cell_type": "markdown",
   "metadata": {},
   "source": [
    "## Nested Loops\n",
    "Occasionally it is necessary to execute a loop within a loop. The inner loop is indented further to denote its code block. When the outer loop execution reaches the inner loop, the inner loop will iterate completely before returning execution to the outer loop.\n",
    "\n",
    "Below is a simple example of building a multiplication table with nested loops. Take notice of the print function. Normally, a new line character is printed after each print statement, but the **`end`** parameter allows you to control which character ends the print statement. \n",
    "\n",
    "We also introduce new functionality within the f-string. It is possible to do mathematical operations within the curly braces. Also, the **`:4`** is an option within the curly braces that specifies four spaces for the output so that each number is printed out aligned on the right.\n",
    "\n",
    "There is quite a lot more to formatting strings in Python. There's so much to it, that they've titled it the **format specification mini-language**. For a more detailed tutorial check out [this tutorial from PyFormat](https://pyformat.info/)."
   ]
  },
  {
   "cell_type": "code",
   "execution_count": 126,
   "metadata": {},
   "outputs": [
    {
     "name": "stdout",
     "output_type": "stream",
     "text": [
      "   1   2   3   4   5   6   7   8   9  10\n",
      "   2   4   6   8  10  12  14  16  18  20\n",
      "   3   6   9  12  15  18  21  24  27  30\n",
      "   4   8  12  16  20  24  28  32  36  40\n",
      "   5  10  15  20  25  30  35  40  45  50\n",
      "   6  12  18  24  30  36  42  48  54  60\n",
      "   7  14  21  28  35  42  49  56  63  70\n",
      "   8  16  24  32  40  48  56  64  72  80\n",
      "   9  18  27  36  45  54  63  72  81  90\n",
      "  10  20  30  40  50  60  70  80  90 100\n"
     ]
    }
   ],
   "source": [
    "# create a multiplication table\n",
    "for row in range(1,11):\n",
    "    for col in range(1, 11):\n",
    "        print(f'{row * col:4}', end='')\n",
    "    print()"
   ]
  },
  {
   "cell_type": "markdown",
   "metadata": {},
   "source": [
    "# Case Study: Craps\n",
    "Craps is a popular casino game that we will simulate with nested loops. The basic game is as follows: You make a wager and then roll two dice. If the sum is 2, 3 or 12 you lose and if the sum is 7 or 11 you win. If the sum is anything else, a new stage of the game starts where you continue to roll two dice until the sum is 7 in which you lose or until you roll your original number in which case you win. Any other sum is meaningless except your original roll or 7.\n",
    "\n",
    "Condensing the logic, craps looks like this\n",
    "* Let X be the sum of a roll of 2 dice\n",
    "* If X is 2,3,12 (lose) or 7,11 (win) then game ends\n",
    "* Else: Continue rolling dice until sum is X (win) or 7 (lose)"
   ]
  },
  {
   "cell_type": "markdown",
   "metadata": {},
   "source": [
    "### Challenge before looking ahead\n",
    "If you like, you can go ahead and code craps now. The tutorial will continue a step by step process of coding up the game."
   ]
  },
  {
   "cell_type": "code",
   "execution_count": 127,
   "metadata": {},
   "outputs": [],
   "source": [
    "# your code here (if you accept the challenge...)\n",
    "#gonna do another time, interesting tho"
   ]
  },
  {
   "cell_type": "markdown",
   "metadata": {},
   "source": [
    "## Spoiler Alert\n",
    "The below steps through Craps\n",
    "\n",
    "### Simplify Game\n",
    "In order to begin coding this game, we will only consider the first two bullet points from above. Roll two dice and determine if a loss or win occurs."
   ]
  },
  {
   "cell_type": "code",
   "execution_count": 128,
   "metadata": {},
   "outputs": [
    {
     "name": "stdout",
     "output_type": "stream",
     "text": [
      "You rolled 9. Unfinished\n"
     ]
    }
   ],
   "source": [
    "# roll dice and determine if win or lose\n",
    "die_1 = random.randint(1, 6)\n",
    "die_2 = random.randint(1, 6)\n",
    "total = die_1 + die_2\n",
    "\n",
    "if total in [2, 3, 12]:\n",
    "    print('You rolled {}. You lose'.format(total))\n",
    "elif total in [7, 11]:\n",
    "    print('You rolled {}. You win'.format(total))\n",
    "else:\n",
    "    print('You rolled {}. Unfinished'.format(total))"
   ]
  },
  {
   "cell_type": "markdown",
   "metadata": {},
   "source": [
    "### Second stage of game\n",
    "If the original roll was not a 2,3,7,11 or 12 a new stage of the game continues until the original roll or 7 is rolled. This is a perfect situation for a while loop."
   ]
  },
  {
   "cell_type": "code",
   "execution_count": 129,
   "metadata": {},
   "outputs": [
    {
     "name": "stdout",
     "output_type": "stream",
     "text": [
      "Win with original roll 4 and new roll 4\n"
     ]
    }
   ],
   "source": [
    "# Add in second stage of game\n",
    "die_1 = random.randint(1, 6)\n",
    "die_2 = random.randint(1, 6)\n",
    "total = die_1 + die_2\n",
    "\n",
    "if total in [2, 3, 12]:\n",
    "    print('Your first roll was {}. You lose'.format(total))\n",
    "elif total in [7, 11]:\n",
    "    print('Your first roll was {}. You win'.format(total))\n",
    "else:\n",
    "    while True:\n",
    "        die_1 = random.randint(1, 6)\n",
    "        die_2 = random.randint(1, 6)\n",
    "        new_total = die_1 + die_2\n",
    "        if new_total == total:\n",
    "            print('Win with original roll {} and new roll {}'.format(total, new_total))\n",
    "            break\n",
    "        if new_total == 7:\n",
    "            print('Lose with original roll {} and new roll {}'.format(total, new_total))\n",
    "            break"
   ]
  },
  {
   "cell_type": "markdown",
   "metadata": {},
   "source": [
    "### Problem 15: Simulating Craps - Doubling up or going broke?\n",
    "<span style=\"color:green\">It's possible to simulate someone playing craps until a certain criteria is met. Continually play the game of craps until the balance has doubled or until the player is out of money. Use the code from above but modify it in such a way that the print statements are removed and that the balance is updated each game. Keep track of the number of games played and print this number out with the ending balance.</span>"
   ]
  },
  {
   "cell_type": "code",
   "execution_count": 130,
   "metadata": {},
   "outputs": [],
   "source": [
    "balance = 500\n",
    "wager = 10\n",
    "games = 0\n",
    "# your code here"
   ]
  },
  {
   "cell_type": "markdown",
   "metadata": {},
   "source": [
    "### Problem 16\n",
    "<span style=\"color:green\">Simulate the scenario in problem 15, 1000 times and determine what percentage of the time you would end up doubling your money. Use a print statement to write out results. Is craps a good investment? (this takes a while to simulate)</span>"
   ]
  },
  {
   "cell_type": "code",
   "execution_count": 131,
   "metadata": {},
   "outputs": [],
   "source": [
    "# your code here"
   ]
  },
  {
   "cell_type": "markdown",
   "metadata": {},
   "source": [
    "# List comprehensions\n",
    "A list comprehension is special Python syntax for creating lists. List comprehensions do not add any extra functionality to Python, they merely make for more elegant, shorter, and readable code. They are best learned through examples.\n",
    "\n",
    "We will first show an old example of squaring a sequence of numbers and then show the same operation using a list comprehension."
   ]
  },
  {
   "cell_type": "code",
   "execution_count": null,
   "metadata": {},
   "outputs": [],
   "source": [
    "# square numbers 0 to 9 and put in a list\n",
    "squared = []\n",
    "for num in range(10):\n",
    "    squared.append(num ** 2)\n",
    "    \n",
    "squared"
   ]
  },
  {
   "cell_type": "markdown",
   "metadata": {},
   "source": [
    "### List Comprehension of the above\n",
    "No additional functionality is added. Only, shorter and more compact syntax."
   ]
  },
  {
   "cell_type": "code",
   "execution_count": null,
   "metadata": {},
   "outputs": [],
   "source": [
    "# Use a list comprehension to do the same thing\n",
    "squared = [num ** 2 for num in range(10)]\n",
    "squared"
   ]
  },
  {
   "cell_type": "markdown",
   "metadata": {},
   "source": [
    "### Reading list comprehensions\n",
    "Understanding list comprehensions is tricky at first since the code is written opposite of how it is with a normal **`for`** loop. In basic list comprehensions, there are three parts.\n",
    "\n",
    "1. The outer brackets, that denote a list\n",
    "2. The for loop\n",
    "3. Some operation\n",
    "\n",
    "[<span style=\"color:green\">operation</span>      <span style=\"color:red\">for loop</span> ]\n",
    "\n",
    "When first learning list comprehensions it might be easier to read them beginning from the **`for`** loop and then the operation. Using the example above:\n",
    "```\n",
    "[num ** 2 for num in range(10)]\n",
    "```\n",
    "\n",
    "We can begin reading it from the **`for`** loop which is: **`for num in range(10)`**. This tells us that the variable **`num`** will take on the values from 0 through 9. Next we look at the **operation** which is **`num ** 2`**. This squares **`num`**. The final result will be a list of the squared integers."
   ]
  },
  {
   "cell_type": "markdown",
   "metadata": {},
   "source": [
    "### Standard mathematical notation\n",
    "List comprehensions resemble standard mathematical notation for sets. We can write the above list comprehension as follows in standard mathematical notation.\n",
    "\n",
    "$$\\{x^2 : x \\in \\{0, 1, ... , 9\\} \\}$$\n",
    "\n",
    "Which is read as the set of all x squared such that x is in the set 0 to 9."
   ]
  },
  {
   "cell_type": "markdown",
   "metadata": {},
   "source": [
    "### List Comprehension Examples\n",
    "Many more simple list comprehension examples will be given below"
   ]
  },
  {
   "cell_type": "code",
   "execution_count": 132,
   "metadata": {},
   "outputs": [
    {
     "data": {
      "text/plain": [
       "[110, 111, 112, 113, 114, 115, 116, 117, 118, 119, 120]"
      ]
     },
     "execution_count": 132,
     "metadata": {},
     "output_type": "execute_result"
    }
   ],
   "source": [
    "# add 100 to each number from 10 to 20\n",
    "[x + 100 for x in range(10, 21)]"
   ]
  },
  {
   "cell_type": "code",
   "execution_count": 133,
   "metadata": {},
   "outputs": [
    {
     "data": {
      "text/plain": [
       "[True, False, True, False, True, False, True, False, True, False, True]"
      ]
     },
     "execution_count": 133,
     "metadata": {},
     "output_type": "execute_result"
    }
   ],
   "source": [
    "# determine if the number from the integers 10 to 20 is even\n",
    "[x % 2 == 0 for x in range(10, 21)]"
   ]
  },
  {
   "cell_type": "code",
   "execution_count": 134,
   "metadata": {},
   "outputs": [
    {
     "data": {
      "text/plain": [
       "['t', 's', 'n', 'e', 'g']"
      ]
     },
     "execution_count": 134,
     "metadata": {},
     "output_type": "execute_result"
    }
   ],
   "source": [
    "# Get the last letter of every string in a list\n",
    "string_list = ['list', 'comprehensions', 'can', 'be', 'confusing']\n",
    "[word[-1] for word in string_list]"
   ]
  },
  {
   "cell_type": "markdown",
   "metadata": {},
   "source": [
    "### Problem 17\n",
    "<span style=\"color:green\">Use a list comprehension to create a list that divides each of the first 10 positive integers by 4.</span>"
   ]
  },
  {
   "cell_type": "code",
   "execution_count": 135,
   "metadata": {},
   "outputs": [
    {
     "data": {
      "text/plain": [
       "[0.0, 0.25, 0.5, 0.75, 1.0, 1.25, 1.5, 1.75, 2.0, 2.25]"
      ]
     },
     "execution_count": 135,
     "metadata": {},
     "output_type": "execute_result"
    }
   ],
   "source": [
    "# your code here\n",
    "list_comp = [x / 4 for x in range(10)]\n",
    "list_comp"
   ]
  },
  {
   "cell_type": "markdown",
   "metadata": {},
   "source": [
    "### Problem 18\n",
    "<span style=\"color:green\">Use a list comprehension to create a list of the area of a circle for circles with a radius equal to the first 10 postive integers.</span>"
   ]
  },
  {
   "cell_type": "code",
   "execution_count": 137,
   "metadata": {},
   "outputs": [
    {
     "data": {
      "text/plain": [
       "[3.141592653589793,\n",
       " 12.566370614359172,\n",
       " 28.274333882308138,\n",
       " 50.26548245743669,\n",
       " 78.53981633974483,\n",
       " 113.09733552923255,\n",
       " 153.93804002589985,\n",
       " 201.06192982974676,\n",
       " 254.46900494077323,\n",
       " 314.1592653589793]"
      ]
     },
     "execution_count": 137,
     "metadata": {},
     "output_type": "execute_result"
    }
   ],
   "source": [
    "import math\n",
    "# your code here\n",
    "list_comp = [math.pi * r ** 2 for r in range(1,11)]\n",
    "list_comp"
   ]
  },
  {
   "cell_type": "markdown",
   "metadata": {},
   "source": [
    "### Problem 19\n",
    "<span style=\"color:green\">Create a list of strings. Then use a list comprehension to create a list that contains the length of each of these strings.</span>"
   ]
  },
  {
   "cell_type": "code",
   "execution_count": 139,
   "metadata": {},
   "outputs": [
    {
     "data": {
      "text/plain": [
       "[5, 5, 2, 3]"
      ]
     },
     "execution_count": 139,
     "metadata": {},
     "output_type": "execute_result"
    }
   ],
   "source": [
    "# your code here\n",
    "my_str = ['hello', 'world', 'es', 'lol']\n",
    "[len(my_str[x])for x in range(0, len(my_str))]\n"
   ]
  },
  {
   "cell_type": "markdown",
   "metadata": {},
   "source": [
    "# Conditional List Comprehensions\n",
    "The basic list comprehension can be extended by adding a conditional statement after the for loop. This condition is evaluated at each iteration in the for loop. The 'operation' of the list comprehension only takes place if the condition is true. \n",
    "\n",
    "Again, we will show an example that does not use a list comprehension and then turn that example into a list comprehension.\n",
    "\n",
    "Below, we will iterate through the first 10 integers and check if the number is odd and if it is, append its squared value to a list."
   ]
  },
  {
   "cell_type": "code",
   "execution_count": 140,
   "metadata": {},
   "outputs": [
    {
     "data": {
      "text/plain": [
       "[1, 9, 25, 49, 81]"
      ]
     },
     "execution_count": 140,
     "metadata": {},
     "output_type": "execute_result"
    }
   ],
   "source": [
    "# square numbers 1 to 10 if number is odd and put in a list\n",
    "squared_odd_nums = []\n",
    "for num in range(1, 11):\n",
    "    if num % 2 == 1:\n",
    "        squared_odd_nums.append(num ** 2)\n",
    "    \n",
    "squared_odd_nums"
   ]
  },
  {
   "cell_type": "code",
   "execution_count": null,
   "metadata": {},
   "outputs": [],
   "source": [
    "# same as above using a list comprehension\n",
    "squared_odd_nums = [num ** 2 for num in range(1, 11) if num % 2 == 1]\n",
    "squared_odd_nums"
   ]
  },
  {
   "cell_type": "markdown",
   "metadata": {},
   "source": [
    "### Reading Conditional List Comprehensions\n",
    "The conditional (which must return a boolean) is written after the for loop. The operation only occurs if this condition evaluates as True.\n",
    "\n",
    "[<span style=\"color:green\">operation</span> <span style=\"color:red\">for loop</span> <span style=\"color:blue\">condition</span>]\n",
    "\n",
    "In standard mathematical notation\n",
    "\n",
    "$$\\{x^2 : x \\in \\{1, ... , 10\\} \\ and \\ x \\ is \\ odd \\}$$\n",
    "\n",
    "\n",
    "The condition acts as a filter that each element must pass through before being operated on and appeneded to the new list.\n",
    "### Conditional List Comprehension Examples Below"
   ]
  },
  {
   "cell_type": "code",
   "execution_count": 141,
   "metadata": {},
   "outputs": [
    {
     "data": {
      "text/plain": [
       "[1681, 1764, 1849, 1936, 2025, 2116, 2209, 2304, 2401]"
      ]
     },
     "execution_count": 141,
     "metadata": {},
     "output_type": "execute_result"
    }
   ],
   "source": [
    "# Square the first 50 integers with the condition that the number be greater than 40\n",
    "[x ** 2 for x in range(50) if x > 40]"
   ]
  },
  {
   "cell_type": "code",
   "execution_count": 142,
   "metadata": {},
   "outputs": [
    {
     "data": {
      "text/plain": [
       "['y', 'c', '!']"
      ]
     },
     "execution_count": 142,
     "metadata": {},
     "output_type": "execute_result"
    }
   ],
   "source": [
    "# Get the last character of each string in a list but only if the first letter is a 't'\n",
    "string_list = ['today', 'is', 'terrific', 'and', 'not', 'terrible!']\n",
    "\n",
    "[word[-1] for word in string_list if word[0] == 't']"
   ]
  },
  {
   "cell_type": "markdown",
   "metadata": {},
   "source": [
    "### Problem 20\n",
    "<span style=\"color:green\">Create a list of strings. Then use a list comprehension to create a list that contains only the strings that have length greater than 5.</span>"
   ]
  },
  {
   "cell_type": "code",
   "execution_count": 145,
   "metadata": {},
   "outputs": [
    {
     "data": {
      "text/plain": [
       "['estefania', 'testing']"
      ]
     },
     "execution_count": 145,
     "metadata": {},
     "output_type": "execute_result"
    }
   ],
   "source": [
    "# your code here\n",
    "list = ['hello', 'world', 'estefania', 'testing', 'again']\n",
    "\n",
    "[word for word in list if len(word) > 5]\n"
   ]
  },
  {
   "cell_type": "markdown",
   "metadata": {},
   "source": [
    "### Problem 21\n",
    "<span style=\"color:green\">Create a long string. Use a list comprehension to create a list of only the vowels in that string.</span>"
   ]
  },
  {
   "cell_type": "code",
   "execution_count": 146,
   "metadata": {},
   "outputs": [
    {
     "data": {
      "text/plain": [
       "['e', 'e', 'a', 'i', 'a', 'a', 'i', 'a', 'a', 'e']"
      ]
     },
     "execution_count": 146,
     "metadata": {},
     "output_type": "execute_result"
    }
   ],
   "source": [
    "# your code here\n",
    "long_str ='estefaniamariaakers'\n",
    "[letter for letter in long_str if letter in ['a','e','i','o','u']]"
   ]
  },
  {
   "cell_type": "markdown",
   "metadata": {},
   "source": [
    "### Problem 22\n",
    "\n",
    "<span style=\"color:green\">Write a list comprehension that loops through all numbers between 1 and 100 and squares all those that end in 3 or 7 (hint: use modulus operator)</span>"
   ]
  },
  {
   "cell_type": "code",
   "execution_count": 149,
   "metadata": {},
   "outputs": [
    {
     "data": {
      "text/plain": [
       "[9,\n",
       " 49,\n",
       " 169,\n",
       " 289,\n",
       " 529,\n",
       " 729,\n",
       " 1089,\n",
       " 1369,\n",
       " 1849,\n",
       " 2209,\n",
       " 2809,\n",
       " 3249,\n",
       " 3969,\n",
       " 4489,\n",
       " 5329,\n",
       " 5929,\n",
       " 6889,\n",
       " 7569,\n",
       " 8649,\n",
       " 9409]"
      ]
     },
     "execution_count": 149,
     "metadata": {},
     "output_type": "execute_result"
    }
   ],
   "source": [
    "# your code here\n",
    "[x**2 for x in range(1,101) if x % 10 in [3,7]]"
   ]
  },
  {
   "cell_type": "markdown",
   "metadata": {},
   "source": [
    "# Conditional assignments in one line\n",
    "Python has more 'syntactic sugar' (code that is simpler to write, easier to read and thus 'sweeter', but doesn't add functionality) by allowing if/then/else statements in one line. The [ternary operator](https://en.wikipedia.org/wiki/%3F:#Python) is a one line statement that assigns a variable the value of the first expression if a condition is true otherwise it gets assigned the latter value.\n",
    "\n",
    "As was done in list comprehensions above, an example will be done with and without the new syntax."
   ]
  },
  {
   "cell_type": "code",
   "execution_count": 150,
   "metadata": {},
   "outputs": [
    {
     "data": {
      "text/plain": [
       "'low'"
      ]
     },
     "execution_count": 150,
     "metadata": {},
     "output_type": "execute_result"
    }
   ],
   "source": [
    "# old syntax. assign a variable as low or high depending on another value\n",
    "x = 5\n",
    "if x < 10:\n",
    "    variable_type = 'low'\n",
    "else:\n",
    "    variable_type = 'high'\n",
    "    \n",
    "variable_type"
   ]
  },
  {
   "cell_type": "code",
   "execution_count": 151,
   "metadata": {},
   "outputs": [
    {
     "data": {
      "text/plain": [
       "'low'"
      ]
     },
     "execution_count": 151,
     "metadata": {},
     "output_type": "execute_result"
    }
   ],
   "source": [
    "# The above can be shortened using the following syntax\n",
    "x = 5\n",
    "variable_type = 'low' if x < 10 else 'high'\n",
    "variable_type"
   ]
  },
  {
   "cell_type": "markdown",
   "metadata": {},
   "source": [
    "### More Examples"
   ]
  },
  {
   "cell_type": "code",
   "execution_count": 152,
   "metadata": {},
   "outputs": [
    {
     "data": {
      "text/plain": [
       "'odd'"
      ]
     },
     "execution_count": 152,
     "metadata": {},
     "output_type": "execute_result"
    }
   ],
   "source": [
    "# label an integer even or odd\n",
    "x = 11\n",
    "label = 'odd' if x % 2 == 1 else 'even'\n",
    "\n",
    "label"
   ]
  },
  {
   "cell_type": "code",
   "execution_count": 153,
   "metadata": {},
   "outputs": [
    {
     "data": {
      "text/plain": [
       "'yes'"
      ]
     },
     "execution_count": 153,
     "metadata": {},
     "output_type": "execute_result"
    }
   ],
   "source": [
    "# is a string a palindrome\n",
    "word = 'racecar'\n",
    "palindrome = 'yes' if word == word[::-1] else 'no'\n",
    "\n",
    "palindrome"
   ]
  },
  {
   "cell_type": "markdown",
   "metadata": {},
   "source": [
    "### Problem 23\n",
    "\n",
    "<span style=\"color:green\">Rewrite the following code using the ternary syntax </span>\n",
    "\n",
    "`>>> x = 100\n",
    "    if x > 99:\n",
    "         label = 'perfect'\n",
    "    else:\n",
    "         label = 'still need work to do'`"
   ]
  },
  {
   "cell_type": "code",
   "execution_count": 154,
   "metadata": {},
   "outputs": [
    {
     "data": {
      "text/plain": [
       "'perfect'"
      ]
     },
     "execution_count": 154,
     "metadata": {},
     "output_type": "execute_result"
    }
   ],
   "source": [
    "# your code here\n",
    "x=100\n",
    "label = 'perfect' if x > 99 else 'still need work to do'\n",
    "label"
   ]
  },
  {
   "cell_type": "markdown",
   "metadata": {},
   "source": [
    "### Problem 24\n",
    "\n",
    "<span style=\"color:green\">Use the ternary syntax to square a number if its even and raise it to the third power if its odd </span>"
   ]
  },
  {
   "cell_type": "code",
   "execution_count": 155,
   "metadata": {},
   "outputs": [
    {
     "data": {
      "text/plain": [
       "1331"
      ]
     },
     "execution_count": 155,
     "metadata": {},
     "output_type": "execute_result"
    }
   ],
   "source": [
    "# your code here\n",
    "x = 11\n",
    "square = x**2 if x%2==0 else x**3\n",
    "square"
   ]
  },
  {
   "cell_type": "markdown",
   "metadata": {},
   "source": [
    "### Complex List Comprehensions\n",
    "Even though list comprehensions can only be one line long, it is possible to make them complex. Take a look at the following list comprehension with a conditional and a ternary operation all in one."
   ]
  },
  {
   "cell_type": "code",
   "execution_count": 156,
   "metadata": {},
   "outputs": [
    {
     "data": {
      "text/plain": [
       "[29791, 1024, 35937, 1156, 42875, 1296, 50653, 1444, 59319]"
      ]
     },
     "execution_count": 156,
     "metadata": {},
     "output_type": "execute_result"
    }
   ],
   "source": [
    "### Using a conditional in a list comprehension\n",
    "squared_nums = [x ** 2 if x % 2 == 0 else x ** 3 for x in range(100) if x > 30 and x < 40]\n",
    "\n",
    "squared_nums"
   ]
  },
  {
   "cell_type": "markdown",
   "metadata": {},
   "source": [
    "### Problem 25\n",
    "\n",
    "<span style=\"color:green\">In words, what did the above list comprehension do?</span>"
   ]
  },
  {
   "cell_type": "code",
   "execution_count": 157,
   "metadata": {},
   "outputs": [],
   "source": [
    "# Conver this cell to markdown and write your answer here"
   ]
  },
  {
   "cell_type": "markdown",
   "metadata": {},
   "source": [
    "### Making List Comprehensions too Complex\n",
    "The above list comprehension iterates through the integers 0 to 99, has a conditional filter for only integers 31 to 39 and then squares the integer if its even and cubes it if its odd. Below is the list comprehension rewritten as a normal for loop.\n",
    "\n",
    "Readability is a very important factor and even though the below uses more lines of code it might be more readable to someone else or future you."
   ]
  },
  {
   "cell_type": "markdown",
   "metadata": {},
   "source": [
    "### Problem 26\n",
    "\n",
    "<span style=\"color:green\">Rewrite the above list comprehension using nested for loops and normal if/then statements.</span>"
   ]
  },
  {
   "cell_type": "code",
   "execution_count": null,
   "metadata": {},
   "outputs": [],
   "source": [
    "# your code here"
   ]
  },
  {
   "cell_type": "markdown",
   "metadata": {},
   "source": [
    "### Nested for loops inside list comps\n",
    "Just like you can nest for loops, you can nest any number of for loops inside list comps."
   ]
  },
  {
   "cell_type": "code",
   "execution_count": 158,
   "metadata": {},
   "outputs": [
    {
     "name": "stdout",
     "output_type": "stream",
     "text": [
      "['bad', 'bat', 'bed', 'bet', 'bid', 'bit', 'mad', 'mat', 'med', 'met', 'mid', 'mit', 'rad', 'rat', 'red', 'ret', 'rid', 'rit']\n"
     ]
    }
   ],
   "source": [
    "create_words = [x + y + z for x in 'bmr' for y in 'aei' for z in 'dt']\n",
    "print(create_words)"
   ]
  },
  {
   "cell_type": "code",
   "execution_count": 159,
   "metadata": {},
   "outputs": [
    {
     "name": "stdout",
     "output_type": "stream",
     "text": [
      "['bad', 'bat', 'bed', 'bet', 'bid', 'bit', 'mad', 'mat', 'med', 'met', 'mid', 'mit', 'rad', 'rat', 'red', 'ret', 'rid', 'rit']\n"
     ]
    }
   ],
   "source": [
    "# the above is equivalent to\n",
    "create_words = []\n",
    "for x in 'bmr':\n",
    "    for y in 'aei':\n",
    "        for z in 'dt':\n",
    "            create_words.append(x + y + z)\n",
    "print(create_words)"
   ]
  },
  {
   "cell_type": "markdown",
   "metadata": {},
   "source": [
    "### Problem 27\n",
    "\n",
    "<span style=\"color:green\">Write a list comprehension that uses nested for loops to get the total price of carpeting for all possible house size combinations where there is at least 800 square feet of house.</span>"
   ]
  },
  {
   "cell_type": "code",
   "execution_count": 161,
   "metadata": {},
   "outputs": [
    {
     "data": {
      "text/plain": [
       "[800,\n",
       " 1400.0,\n",
       " 2000.0,\n",
       " 3904.0,\n",
       " 850,\n",
       " 1487.5,\n",
       " 2125.0,\n",
       " 4148.0,\n",
       " 900,\n",
       " 1575.0,\n",
       " 2250.0,\n",
       " 4392.0,\n",
       " 950,\n",
       " 1662.5,\n",
       " 2375.0,\n",
       " 4636.0]"
      ]
     },
     "execution_count": 161,
     "metadata": {},
     "output_type": "execute_result"
    }
   ],
   "source": [
    "height = range(10, 30, 5)\n",
    "width = range(2,40,2)\n",
    "price_per_square_foot = [1, 1.75, 2.5, 4.88]\n",
    "# your code here\n",
    "[h*w*p for h in height for w in width for p in price_per_square_foot if h*w>=800]\n"
   ]
  },
  {
   "cell_type": "markdown",
   "metadata": {},
   "source": [
    "# The `enumerate` function\n",
    "**`enumerate`** is a nice function that is used almost exclusively in the right hand side of a **`for`** loop. **`enumerate`** allows you to keep track of the index of the loop, i.e. the number of times that loop has iterated thus far beginning with 0.\n",
    "\n",
    "The generic format for using enumerate is as follows:\n",
    "\n",
    "```\n",
    ">>> for i, item in enumerate(object):\n",
    "        some code\n",
    "        block here\n",
    "```\n",
    "\n",
    "The variable **`i`** is the integer index of the iteration, and gets incremented by one each iteration beginning at 0.\n",
    "\n",
    "Let's take a look at a basic example that prints out both the index variable and the loop variable."
   ]
  },
  {
   "cell_type": "code",
   "execution_count": 162,
   "metadata": {},
   "outputs": [
    {
     "name": "stdout",
     "output_type": "stream",
     "text": [
      "0 a\n",
      "1 b\n",
      "2 c\n",
      "3 d\n",
      "4 e\n",
      "5 f\n"
     ]
    }
   ],
   "source": [
    "letters = 'abcdef'\n",
    "for i, letter in enumerate(letters):\n",
    "    print(i, letter)"
   ]
  },
  {
   "cell_type": "markdown",
   "metadata": {},
   "source": [
    "### A couple equivalent methods to do the same thing\n",
    "**`enumerate`** is the 'pythonic' way of keeping track of the index of iteration, but if you wish to make your code look uglier you are free to do the following."
   ]
  },
  {
   "cell_type": "code",
   "execution_count": 165,
   "metadata": {},
   "outputs": [
    {
     "name": "stdout",
     "output_type": "stream",
     "text": [
      "0 a\n",
      "1 b\n",
      "2 c\n",
      "3 d\n",
      "4 e\n",
      "5 f\n"
     ]
    }
   ],
   "source": [
    "letters = 'abcdef'\n",
    "i = 0\n",
    "for letter in letters:\n",
    "    print(i, letter)\n",
    "    i += 1"
   ]
  },
  {
   "cell_type": "code",
   "execution_count": 166,
   "metadata": {},
   "outputs": [
    {
     "name": "stdout",
     "output_type": "stream",
     "text": [
      "0 a\n",
      "1 b\n",
      "2 c\n",
      "3 d\n",
      "4 e\n",
      "5 f\n"
     ]
    }
   ],
   "source": [
    "# This is very ugly - avoid!\n",
    "# create a range object from 0 to length of string\n",
    "letters = 'abcdef'\n",
    "for i in range(len(letters)):\n",
    "    print(i, letters[i])"
   ]
  },
  {
   "cell_type": "markdown",
   "metadata": {},
   "source": [
    "### Problem 28\n",
    "\n",
    "<span style=\"color:green\">Write a for list that uses enumerate to iterate over the total_price list in problem 22 and prints out the message, \"House number i costs x amount of dollars\". Use the format method of string object to interpolate the variables in your message.</span>"
   ]
  },
  {
   "cell_type": "code",
   "execution_count": 168,
   "metadata": {},
   "outputs": [
    {
     "name": "stdout",
     "output_type": "stream",
     "text": [
      "House number 0 costs 800 amount of dollars\n",
      "House number 1 costs 1400.0 amount of dollars\n",
      "House number 2 costs 2000.0 amount of dollars\n",
      "House number 3 costs 3904.0 amount of dollars\n",
      "House number 4 costs 850 amount of dollars\n",
      "House number 5 costs 1487.5 amount of dollars\n",
      "House number 6 costs 2125.0 amount of dollars\n",
      "House number 7 costs 4148.0 amount of dollars\n",
      "House number 8 costs 900 amount of dollars\n",
      "House number 9 costs 1575.0 amount of dollars\n",
      "House number 10 costs 2250.0 amount of dollars\n",
      "House number 11 costs 4392.0 amount of dollars\n",
      "House number 12 costs 950 amount of dollars\n",
      "House number 13 costs 1662.5 amount of dollars\n",
      "House number 14 costs 2375.0 amount of dollars\n",
      "House number 15 costs 4636.0 amount of dollars\n"
     ]
    }
   ],
   "source": [
    "# your code here\n",
    "height = range(10, 30, 5)\n",
    "width = range(2,40,2)\n",
    "price_per_square_foot = [1, 1.75, 2.5, 4.88]\n",
    "\n",
    "total_price = [h * w * p for h in height for w in width for p in price_per_square_foot if h * w >= 800]\n",
    "for i, price in enumerate(total_price):\n",
    "    print(f'House number {i} costs {price} amount of dollars')"
   ]
  },
  {
   "cell_type": "markdown",
   "metadata": {},
   "source": [
    "# Congrats on completing the 5th notebook!\n",
    "Move on to notebook 6! The pre-course is mandatory so make sure you finish it all!"
   ]
  }
 ],
 "metadata": {
  "anaconda-cloud": {},
  "kernelspec": {
   "display_name": "Python 3",
   "language": "python",
   "name": "python3"
  },
  "language_info": {
   "codemirror_mode": {
    "name": "ipython",
    "version": 3
   },
   "file_extension": ".py",
   "mimetype": "text/x-python",
   "name": "python",
   "nbconvert_exporter": "python",
   "pygments_lexer": "ipython3",
   "version": "3.7.0"
  }
 },
 "nbformat": 4,
 "nbformat_minor": 1
}
