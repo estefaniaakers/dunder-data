{
 "cells": [
  {
   "cell_type": "markdown",
   "metadata": {},
   "source": [
    "# Create a Tic-Tac-Toe Game\n",
    "This notebook will explain how to build a tic-tac-toe game. It will consist of several functions that each complete a specific task. You will write your code for each function in the `tic_tac_toe.py` file in this directory. Open up that file in an editor. I suggest installing VS Code or Sublime, but you can choose any editor that you like. \n",
    "\n",
    "## The functions\n",
    "Within `tic_tac_toe.py` you will see many functions. Each one will complete a specific task. We will build each function one at a time. Notice that each function has the word `pass` in its body. This is a keyword that means to do no thing. You will delete it and write the function.\n",
    "\n",
    "## Create the board\n",
    "The board will be a 3-item list where each element holds a 3-item list of strings. Each string will be a single space. Return this list of lists from the function. Edit the `tic_tac_toe.py` function now and update the `create_empty_board` function.\n",
    "\n",
    "## Reloading the code after saving\n",
    "In order to have all your saved code changed, you will need to run the following two magic commands. This will \"reload\" the function to its most recently saved state. Without doing this, you would have to restart the notebook every time you saved new code."
   ]
  },
  {
   "cell_type": "code",
   "execution_count": 3,
   "metadata": {},
   "outputs": [],
   "source": [
    "%load_ext autoreload\n",
    "%autoreload 2"
   ]
  },
  {
   "cell_type": "markdown",
   "metadata": {},
   "source": [
    "## Importing the functions\n",
    "All files ending in `.py` are technically called Python **modules**. You can import specific functions from modules. We will import two functions, `create_empty_board` and `tic_tac_toe`."
   ]
  },
  {
   "cell_type": "code",
   "execution_count": 6,
   "metadata": {},
   "outputs": [],
   "source": [
    "from tic_tac_toe import create_empty_board, tic_tac_toe"
   ]
  },
  {
   "cell_type": "markdown",
   "metadata": {},
   "source": [
    "The code `from tic_tac_toe ...`, means from the `tic_tac_toe.py` file. Python looks through that file and imports the following functions."
   ]
  },
  {
   "cell_type": "markdown",
   "metadata": {},
   "source": [
    "## Testing the code\n",
    "After completing each function, you will be testing it by running code in the Jupyter Notebook. Run your updated `create_empty_board` function. Your function should return the following.\n",
    "\n",
    "```\n",
    "[[' ', ' ', ' '], \n",
    " [' ', ' ', ' '],\n",
    " [' ', ' ', ' ']]\n",
    "```"
   ]
  },
  {
   "cell_type": "code",
   "execution_count": 8,
   "metadata": {
    "scrolled": true
   },
   "outputs": [],
   "source": [
    "board = create_empty_board()\n",
    "board"
   ]
  },
  {
   "cell_type": "markdown",
   "metadata": {},
   "source": [
    "## The solutions\n",
    "The solution is posted in the solution folder in a file with the same name. Look at if you get stuck."
   ]
  },
  {
   "cell_type": "markdown",
   "metadata": {},
   "source": [
    "## The main function `tic_tac_toe`\n",
    "The last function, `tic_tac_toe`, is the main function that plays the game. This function takes four parameters.\n",
    "\n",
    "1. **board**: a list of lists of strings representing the game board  \n",
    "1. **mark**: 'x' or 'o'  \n",
    "1. **row**: Row where the mark will be played (an integer between 0 and 2)\n",
    "1. **col**: Column where the mark will be played (an integer between 0 and 2)\n",
    "\n",
    "This function will call all of the other functions besides `create_empty_board`. You will call the function like this, `tic_tac_toe(board, 'x', 1, 2)`. \n",
    "\n",
    "## Verify `row` and `col`\n",
    "Verify that the `row` and `col` parameters are between 0 and 2. Fill in the `verify_rc` function and have it raise a `ValueError` if the number is not in the correct range. To raise an error simply do `raise ValueError('error message here')`\n",
    "\n",
    "Call the `verify_rc` inside of the `create_empty_board` function twice, once to verify `row` and again to verify `col`. Test with the following two function calls. The first should not raise an error. The second should."
   ]
  },
  {
   "cell_type": "code",
   "execution_count": 9,
   "metadata": {},
   "outputs": [],
   "source": [
    "tic_tac_toe(board, 'x', 1, 2)"
   ]
  },
  {
   "cell_type": "code",
   "execution_count": null,
   "metadata": {},
   "outputs": [],
   "source": [
    "tic_tac_toe(board, 'x', 1, 5)"
   ]
  },
  {
   "cell_type": "markdown",
   "metadata": {},
   "source": [
    "## Verify `mark`\n",
    "Fill in the `verify_mark` function. Raise a `ValueError` if the `mark` is not an 'x' or 'o'. Call this function in the body of the `tic_tac_toe` function. Test with the following."
   ]
  },
  {
   "cell_type": "code",
   "execution_count": 10,
   "metadata": {},
   "outputs": [],
   "source": [
    "tic_tac_toe(board, 'x', 1, 2)"
   ]
  },
  {
   "cell_type": "code",
   "execution_count": 11,
   "metadata": {},
   "outputs": [],
   "source": [
    "tic_tac_toe(board, 'z', 1, 2)"
   ]
  },
  {
   "cell_type": "markdown",
   "metadata": {},
   "source": [
    "### Verify that the position is open\n",
    "Fill in the `verify_position_open` function. Verify that the position defined by `row` and `col` is empty and raise an error if it is. Call this function in the body of the `tic_tac_toe`. Since we haven't set any marks yet, we can't test this function just yet.\n",
    "\n",
    "### Assign the mark\n",
    "There will be no function for this. In the body of the `tic_tac_toe` function, modify the `board` list to place the `mark` in the correct position.\n",
    "\n",
    "### Test that board is modified\n",
    "Call the following function and then output the board. Make sure the board has been modified. Notice that even though board is passed as a parameter, it is still modified, since Python does not copy data passed to functions."
   ]
  },
  {
   "cell_type": "code",
   "execution_count": null,
   "metadata": {},
   "outputs": [],
   "source": [
    "tic_tac_toe(board, 'x', 1, 2)\n",
    "board"
   ]
  },
  {
   "cell_type": "markdown",
   "metadata": {},
   "source": [
    "### Test that board is occupied\n",
    "After placing the last mark, we should not be able to place the next one. Make sure an error is raised and the board is the same."
   ]
  },
  {
   "cell_type": "code",
   "execution_count": null,
   "metadata": {},
   "outputs": [],
   "source": [
    "tic_tac_toe(board, 'o', 1, 2)"
   ]
  },
  {
   "cell_type": "markdown",
   "metadata": {},
   "source": [
    "## Get the round number\n",
    "Fill in the function `get_round_num` that returns an integer (between 1 and 9) for the number of rounds that have been played. Assign the result of this to the variable `round_num` inside the `tic_tac_toe` function. No testing for this just yet.\n",
    "\n",
    "## Output the board to the screen\n",
    "Fill in the function `output_board`. Print out the round number and the board. Test this by placing a few marks."
   ]
  },
  {
   "cell_type": "code",
   "execution_count": 12,
   "metadata": {},
   "outputs": [],
   "source": [
    "tic_tac_toe(board, 'o', 2, 2)"
   ]
  },
  {
   "cell_type": "code",
   "execution_count": 13,
   "metadata": {},
   "outputs": [],
   "source": [
    "tic_tac_toe(board, 'x', 0, 0)"
   ]
  },
  {
   "cell_type": "markdown",
   "metadata": {},
   "source": [
    "## Determine if there is a winner\n",
    "Fill in the functions `is_row_winner`, `is_col_winner`, `is_diag_winner` that tests for a winner along the rows, columns, and diagonals. Each of these functions should return a boolean. Call each of these functions in the `tic_tac_toe` and if there is a winner print out a message and the mark that has won.\n",
    "\n",
    "Also in `tic_tac_toe`, if there is no winner and the `round_num` is 9, then print out \"cats game\".\n",
    "\n",
    "## Test a full game\n",
    "The game is now complete. Test it by playing until there is a winner or a cats game."
   ]
  },
  {
   "cell_type": "code",
   "execution_count": 15,
   "metadata": {},
   "outputs": [],
   "source": [
    "# play a few games here"
   ]
  },
  {
   "cell_type": "code",
   "execution_count": null,
   "metadata": {},
   "outputs": [],
   "source": []
  },
  {
   "cell_type": "code",
   "execution_count": null,
   "metadata": {},
   "outputs": [],
   "source": []
  },
  {
   "cell_type": "code",
   "execution_count": null,
   "metadata": {},
   "outputs": [],
   "source": []
  },
  {
   "cell_type": "code",
   "execution_count": null,
   "metadata": {},
   "outputs": [],
   "source": []
  },
  {
   "cell_type": "code",
   "execution_count": null,
   "metadata": {},
   "outputs": [],
   "source": []
  },
  {
   "cell_type": "markdown",
   "metadata": {},
   "source": [
    "## Playing a full game from the solutions\n",
    "Open up the file `tic_tac_toe_games.py` in the solution folder. Read the instructions at the top of the file on how to play entire games. Play a few games.\n",
    "\n",
    "## Major lesson - Modular Programming\n",
    "**Modular programming** is the idea of sub-dividing a program into small components that each perform a specific task. We did this in the tic_tac_toe program by creating 10 different functions. Each function did one task.\n",
    "\n",
    "## Refactoring into functions\n",
    "Often times when programming, you won't know ahead of time which functions to create. Even in a simple tic-tac-toe program it won't be obvious as to which functions to create. What often happens is that you will create one large function and the refactor this into smaller functions (or classes with methods) later. This is a perfectly legitimate way of programming so don't be alarmed if you aren't sure what functions to create first."
   ]
  }
 ],
 "metadata": {
  "kernelspec": {
   "display_name": "Python 3",
   "language": "python",
   "name": "python3"
  },
  "language_info": {
   "codemirror_mode": {
    "name": "ipython",
    "version": 3
   },
   "file_extension": ".py",
   "mimetype": "text/x-python",
   "name": "python",
   "nbconvert_exporter": "python",
   "pygments_lexer": "ipython3",
   "version": "3.6.4"
  }
 },
 "nbformat": 4,
 "nbformat_minor": 2
}
